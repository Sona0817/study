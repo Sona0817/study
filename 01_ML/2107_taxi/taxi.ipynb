{
 "cells": [
  {
   "cell_type": "markdown",
   "id": "e7823260-c8ee-4e9a-900e-2f51cbff32c7",
   "metadata": {},
   "source": [
    "# Taxi Fare\n",
    "https://medium.com/swlh/lyft-surge-pricing-prediction-aa96114d9e1c\n",
    "\n",
    "## 데이터 확인 및 가공"
   ]
  },
  {
   "cell_type": "code",
   "execution_count": 1,
   "id": "2a650f51-6276-4739-9004-794811ea6757",
   "metadata": {},
   "outputs": [
    {
     "data": {
      "text/html": [
       "<div>\n",
       "<style scoped>\n",
       "    .dataframe tbody tr th:only-of-type {\n",
       "        vertical-align: middle;\n",
       "    }\n",
       "\n",
       "    .dataframe tbody tr th {\n",
       "        vertical-align: top;\n",
       "    }\n",
       "\n",
       "    .dataframe thead th {\n",
       "        text-align: right;\n",
       "    }\n",
       "</style>\n",
       "<table border=\"1\" class=\"dataframe\">\n",
       "  <thead>\n",
       "    <tr style=\"text-align: right;\">\n",
       "      <th></th>\n",
       "      <th>distance</th>\n",
       "      <th>cab_type</th>\n",
       "      <th>time_stamp</th>\n",
       "      <th>destination</th>\n",
       "      <th>source</th>\n",
       "      <th>price</th>\n",
       "      <th>surge_multiplier</th>\n",
       "      <th>id</th>\n",
       "      <th>product_id</th>\n",
       "      <th>name</th>\n",
       "    </tr>\n",
       "  </thead>\n",
       "  <tbody>\n",
       "    <tr>\n",
       "      <th>0</th>\n",
       "      <td>0.44</td>\n",
       "      <td>Lyft</td>\n",
       "      <td>1544952607890</td>\n",
       "      <td>North Station</td>\n",
       "      <td>Haymarket Square</td>\n",
       "      <td>5.0</td>\n",
       "      <td>1.0</td>\n",
       "      <td>424553bb-7174-41ea-aeb4-fe06d4f4b9d7</td>\n",
       "      <td>lyft_line</td>\n",
       "      <td>Shared</td>\n",
       "    </tr>\n",
       "    <tr>\n",
       "      <th>1</th>\n",
       "      <td>0.44</td>\n",
       "      <td>Lyft</td>\n",
       "      <td>1543284023677</td>\n",
       "      <td>North Station</td>\n",
       "      <td>Haymarket Square</td>\n",
       "      <td>11.0</td>\n",
       "      <td>1.0</td>\n",
       "      <td>4bd23055-6827-41c6-b23b-3c491f24e74d</td>\n",
       "      <td>lyft_premier</td>\n",
       "      <td>Lux</td>\n",
       "    </tr>\n",
       "    <tr>\n",
       "      <th>2</th>\n",
       "      <td>0.44</td>\n",
       "      <td>Lyft</td>\n",
       "      <td>1543366822198</td>\n",
       "      <td>North Station</td>\n",
       "      <td>Haymarket Square</td>\n",
       "      <td>7.0</td>\n",
       "      <td>1.0</td>\n",
       "      <td>981a3613-77af-4620-a42a-0c0866077d1e</td>\n",
       "      <td>lyft</td>\n",
       "      <td>Lyft</td>\n",
       "    </tr>\n",
       "    <tr>\n",
       "      <th>3</th>\n",
       "      <td>0.44</td>\n",
       "      <td>Lyft</td>\n",
       "      <td>1543553582749</td>\n",
       "      <td>North Station</td>\n",
       "      <td>Haymarket Square</td>\n",
       "      <td>26.0</td>\n",
       "      <td>1.0</td>\n",
       "      <td>c2d88af2-d278-4bfd-a8d0-29ca77cc5512</td>\n",
       "      <td>lyft_luxsuv</td>\n",
       "      <td>Lux Black XL</td>\n",
       "    </tr>\n",
       "    <tr>\n",
       "      <th>4</th>\n",
       "      <td>0.44</td>\n",
       "      <td>Lyft</td>\n",
       "      <td>1543463360223</td>\n",
       "      <td>North Station</td>\n",
       "      <td>Haymarket Square</td>\n",
       "      <td>9.0</td>\n",
       "      <td>1.0</td>\n",
       "      <td>e0126e1f-8ca9-4f2e-82b3-50505a09db9a</td>\n",
       "      <td>lyft_plus</td>\n",
       "      <td>Lyft XL</td>\n",
       "    </tr>\n",
       "  </tbody>\n",
       "</table>\n",
       "</div>"
      ],
      "text/plain": [
       "   distance cab_type     time_stamp    destination            source  price  \\\n",
       "0      0.44     Lyft  1544952607890  North Station  Haymarket Square    5.0   \n",
       "1      0.44     Lyft  1543284023677  North Station  Haymarket Square   11.0   \n",
       "2      0.44     Lyft  1543366822198  North Station  Haymarket Square    7.0   \n",
       "3      0.44     Lyft  1543553582749  North Station  Haymarket Square   26.0   \n",
       "4      0.44     Lyft  1543463360223  North Station  Haymarket Square    9.0   \n",
       "\n",
       "   surge_multiplier                                    id    product_id  \\\n",
       "0               1.0  424553bb-7174-41ea-aeb4-fe06d4f4b9d7     lyft_line   \n",
       "1               1.0  4bd23055-6827-41c6-b23b-3c491f24e74d  lyft_premier   \n",
       "2               1.0  981a3613-77af-4620-a42a-0c0866077d1e          lyft   \n",
       "3               1.0  c2d88af2-d278-4bfd-a8d0-29ca77cc5512   lyft_luxsuv   \n",
       "4               1.0  e0126e1f-8ca9-4f2e-82b3-50505a09db9a     lyft_plus   \n",
       "\n",
       "           name  \n",
       "0        Shared  \n",
       "1           Lux  \n",
       "2          Lyft  \n",
       "3  Lux Black XL  \n",
       "4       Lyft XL  "
      ]
     },
     "execution_count": 1,
     "metadata": {},
     "output_type": "execute_result"
    }
   ],
   "source": [
    "import warnings\n",
    "warnings.filterwarnings('ignore')\n",
    "\n",
    "import pandas as pd\n",
    "import numpy as np\n",
    "import seaborn as sns\n",
    "import matplotlib.pyplot as plt\n",
    "%matplotlib inline\n",
    "\n",
    "cab_org = pd.read_csv('/Users/limkahyun/Desktop/small/Taxi/cab_rides.csv')\n",
    "cab_df = cab_org.copy()\n",
    "cab_df.head()"
   ]
  },
  {
   "cell_type": "code",
   "execution_count": 2,
   "id": "b507a5b8-cf55-4a14-a86e-49e32d72e905",
   "metadata": {},
   "outputs": [
    {
     "name": "stdout",
     "output_type": "stream",
     "text": [
      "<class 'pandas.core.frame.DataFrame'>\n",
      "RangeIndex: 693071 entries, 0 to 693070\n",
      "Data columns (total 10 columns):\n",
      " #   Column            Non-Null Count   Dtype  \n",
      "---  ------            --------------   -----  \n",
      " 0   distance          693071 non-null  float64\n",
      " 1   cab_type          693071 non-null  object \n",
      " 2   time_stamp        693071 non-null  int64  \n",
      " 3   destination       693071 non-null  object \n",
      " 4   source            693071 non-null  object \n",
      " 5   price             637976 non-null  float64\n",
      " 6   surge_multiplier  693071 non-null  float64\n",
      " 7   id                693071 non-null  object \n",
      " 8   product_id        693071 non-null  object \n",
      " 9   name              693071 non-null  object \n",
      "dtypes: float64(3), int64(1), object(6)\n",
      "memory usage: 52.9+ MB\n"
     ]
    }
   ],
   "source": [
    "cab_df.info()"
   ]
  },
  {
   "cell_type": "code",
   "execution_count": 3,
   "id": "bfaa58d0-69ce-4981-92e2-c4e57e5e2843",
   "metadata": {},
   "outputs": [
    {
     "data": {
      "text/html": [
       "<div>\n",
       "<style scoped>\n",
       "    .dataframe tbody tr th:only-of-type {\n",
       "        vertical-align: middle;\n",
       "    }\n",
       "\n",
       "    .dataframe tbody tr th {\n",
       "        vertical-align: top;\n",
       "    }\n",
       "\n",
       "    .dataframe thead th {\n",
       "        text-align: right;\n",
       "    }\n",
       "</style>\n",
       "<table border=\"1\" class=\"dataframe\">\n",
       "  <thead>\n",
       "    <tr style=\"text-align: right;\">\n",
       "      <th></th>\n",
       "      <th>temp</th>\n",
       "      <th>location</th>\n",
       "      <th>clouds</th>\n",
       "      <th>pressure</th>\n",
       "      <th>rain</th>\n",
       "      <th>time_stamp</th>\n",
       "      <th>humidity</th>\n",
       "      <th>wind</th>\n",
       "    </tr>\n",
       "  </thead>\n",
       "  <tbody>\n",
       "    <tr>\n",
       "      <th>0</th>\n",
       "      <td>42.42</td>\n",
       "      <td>Back Bay</td>\n",
       "      <td>1.0</td>\n",
       "      <td>1012.14</td>\n",
       "      <td>0.1228</td>\n",
       "      <td>1545003901</td>\n",
       "      <td>0.77</td>\n",
       "      <td>11.25</td>\n",
       "    </tr>\n",
       "    <tr>\n",
       "      <th>1</th>\n",
       "      <td>42.43</td>\n",
       "      <td>Beacon Hill</td>\n",
       "      <td>1.0</td>\n",
       "      <td>1012.15</td>\n",
       "      <td>0.1846</td>\n",
       "      <td>1545003901</td>\n",
       "      <td>0.76</td>\n",
       "      <td>11.32</td>\n",
       "    </tr>\n",
       "    <tr>\n",
       "      <th>2</th>\n",
       "      <td>42.50</td>\n",
       "      <td>Boston University</td>\n",
       "      <td>1.0</td>\n",
       "      <td>1012.15</td>\n",
       "      <td>0.1089</td>\n",
       "      <td>1545003901</td>\n",
       "      <td>0.76</td>\n",
       "      <td>11.07</td>\n",
       "    </tr>\n",
       "    <tr>\n",
       "      <th>3</th>\n",
       "      <td>42.11</td>\n",
       "      <td>Fenway</td>\n",
       "      <td>1.0</td>\n",
       "      <td>1012.13</td>\n",
       "      <td>0.0969</td>\n",
       "      <td>1545003901</td>\n",
       "      <td>0.77</td>\n",
       "      <td>11.09</td>\n",
       "    </tr>\n",
       "    <tr>\n",
       "      <th>4</th>\n",
       "      <td>43.13</td>\n",
       "      <td>Financial District</td>\n",
       "      <td>1.0</td>\n",
       "      <td>1012.14</td>\n",
       "      <td>0.1786</td>\n",
       "      <td>1545003901</td>\n",
       "      <td>0.75</td>\n",
       "      <td>11.49</td>\n",
       "    </tr>\n",
       "  </tbody>\n",
       "</table>\n",
       "</div>"
      ],
      "text/plain": [
       "    temp            location  clouds  pressure    rain  time_stamp  humidity  \\\n",
       "0  42.42            Back Bay     1.0   1012.14  0.1228  1545003901      0.77   \n",
       "1  42.43         Beacon Hill     1.0   1012.15  0.1846  1545003901      0.76   \n",
       "2  42.50   Boston University     1.0   1012.15  0.1089  1545003901      0.76   \n",
       "3  42.11              Fenway     1.0   1012.13  0.0969  1545003901      0.77   \n",
       "4  43.13  Financial District     1.0   1012.14  0.1786  1545003901      0.75   \n",
       "\n",
       "    wind  \n",
       "0  11.25  \n",
       "1  11.32  \n",
       "2  11.07  \n",
       "3  11.09  \n",
       "4  11.49  "
      ]
     },
     "execution_count": 3,
     "metadata": {},
     "output_type": "execute_result"
    }
   ],
   "source": [
    "weather_org = pd.read_csv('/Users/limkahyun/Desktop/small/Taxi/weather.csv')\n",
    "weather_df = weather_org.copy()\n",
    "weather_df.head()"
   ]
  },
  {
   "cell_type": "code",
   "execution_count": 4,
   "id": "b067d412-608c-43c6-b25e-580ed10b7f41",
   "metadata": {},
   "outputs": [
    {
     "name": "stdout",
     "output_type": "stream",
     "text": [
      "<class 'pandas.core.frame.DataFrame'>\n",
      "RangeIndex: 6276 entries, 0 to 6275\n",
      "Data columns (total 8 columns):\n",
      " #   Column      Non-Null Count  Dtype  \n",
      "---  ------      --------------  -----  \n",
      " 0   temp        6276 non-null   float64\n",
      " 1   location    6276 non-null   object \n",
      " 2   clouds      6276 non-null   float64\n",
      " 3   pressure    6276 non-null   float64\n",
      " 4   rain        894 non-null    float64\n",
      " 5   time_stamp  6276 non-null   int64  \n",
      " 6   humidity    6276 non-null   float64\n",
      " 7   wind        6276 non-null   float64\n",
      "dtypes: float64(6), int64(1), object(1)\n",
      "memory usage: 392.4+ KB\n"
     ]
    }
   ],
   "source": [
    "weather_df.info()"
   ]
  },
  {
   "cell_type": "code",
   "execution_count": 5,
   "id": "f6d6abdc-0e24-4b3d-a13d-27c6ecbf014c",
   "metadata": {},
   "outputs": [],
   "source": [
    "# rain 비가 안온날이 null이라 0으로 대체\n",
    "weather_df = weather_df.fillna(0)"
   ]
  },
  {
   "cell_type": "markdown",
   "id": "3f95b548-fa19-4d38-8e91-4d2d92ba1f31",
   "metadata": {},
   "source": [
    "### Join or Merge 위한 컬럼 가공\n",
    "시도1. time_stamp에서 동일한 앞에서 8글자까지만 자른다 >> 실패  \n",
    "    date_time으로 변환했을 때 시간대가 아예 달라져버림\n",
    "    \n",
    "시도2. 시간단위 변환시 1초 이하 소수점이 나와서 실패  \n",
    "cab_df['date_time'] = pd.to_datetime(cab_df['time_stamp'], unit='ms')  \n",
    "weather_df['date_time'] = pd.to_datetime(weather_df['time_stamp'], unit='s')\n",
    "\n",
    "시도3. 검색해보니깐 Unix time의 밀리세컨드를 이용하고 있어서  \n",
    "동일하게 1000으로 나눈 후 to_datetime으로 변환  \n",
    "원래 location과 time_stamp 두개를 기준으로 join or merge 하려고 했는데  \n",
    "새로운 컬럼에 시간-장소를 합쳐서 그것을 통해 조인시도 >> join()은 에러, merge()로 성공"
   ]
  },
  {
   "cell_type": "code",
   "execution_count": 6,
   "id": "ab7575ca-6a80-44bc-8565-1418dfb35a85",
   "metadata": {},
   "outputs": [],
   "source": [
    "cab_df['date_time'] = pd.to_datetime(cab_df['time_stamp']/1000, unit='s')\n",
    "weather_df['date_time'] = pd.to_datetime(cab_df['time_stamp']/1000, unit='s')"
   ]
  },
  {
   "cell_type": "code",
   "execution_count": 7,
   "id": "0636a08c-3754-4336-ae77-9367b17f3ba6",
   "metadata": {},
   "outputs": [],
   "source": [
    "# 장소와 시간을 합친 컬럼 생성 (시간은 hour까지만 사용)\n",
    "cab_df['merge_date'] = cab_df['source'].astype(str) + ' - ' + cab_df['date_time'].dt.date.astype(str) + ' - ' + cab_df['date_time'].dt.hour.astype(str)\n",
    "weather_df['merge_date'] = weather_df['location'].astype(str) + ' - ' + weather_df['date_time'].dt.date.astype(str) + ' - ' + weather_df['date_time'].dt.hour.astype(str)\n",
    "\n",
    "# merge_date 기준으로 merge\n",
    "merged_df = cab_df.merge(weather_df, on=['merge_date'], how='left')"
   ]
  },
  {
   "cell_type": "code",
   "execution_count": 11,
   "id": "40240ffc-c738-4058-ab08-3cd5f2b3bb67",
   "metadata": {},
   "outputs": [
    {
     "name": "stdout",
     "output_type": "stream",
     "text": [
      "<class 'pandas.core.frame.DataFrame'>\n",
      "Int64Index: 1410210 entries, 0 to 1410209\n",
      "Data columns (total 21 columns):\n",
      " #   Column            Non-Null Count    Dtype         \n",
      "---  ------            --------------    -----         \n",
      " 0   distance          1410210 non-null  float64       \n",
      " 1   cab_type          1410210 non-null  object        \n",
      " 2   time_stamp_x      1410210 non-null  int64         \n",
      " 3   destination       1410210 non-null  object        \n",
      " 4   source            1410210 non-null  object        \n",
      " 5   price             1297952 non-null  float64       \n",
      " 6   surge_multiplier  1410210 non-null  float64       \n",
      " 7   id                1410210 non-null  object        \n",
      " 8   product_id        1410210 non-null  object        \n",
      " 9   name              1410210 non-null  object        \n",
      " 10  date_time_x       1410210 non-null  datetime64[ns]\n",
      " 11  merge_date        1410210 non-null  object        \n",
      " 12  temp              1268809 non-null  float64       \n",
      " 13  location          1268809 non-null  object        \n",
      " 14  clouds            1268809 non-null  float64       \n",
      " 15  pressure          1268809 non-null  float64       \n",
      " 16  rain              1268809 non-null  float64       \n",
      " 17  time_stamp_y      1268809 non-null  float64       \n",
      " 18  humidity          1268809 non-null  float64       \n",
      " 19  wind              1268809 non-null  float64       \n",
      " 20  date_time_y       1268809 non-null  datetime64[ns]\n",
      "dtypes: datetime64[ns](2), float64(10), int64(1), object(8)\n",
      "memory usage: 236.7+ MB\n"
     ]
    }
   ],
   "source": [
    "merged_df.info()"
   ]
  },
  {
   "cell_type": "code",
   "execution_count": 10,
   "id": "102c3a77-9c00-4d52-a6aa-1e8c6baf18ae",
   "metadata": {},
   "outputs": [
    {
     "data": {
      "text/html": [
       "<div>\n",
       "<style scoped>\n",
       "    .dataframe tbody tr th:only-of-type {\n",
       "        vertical-align: middle;\n",
       "    }\n",
       "\n",
       "    .dataframe tbody tr th {\n",
       "        vertical-align: top;\n",
       "    }\n",
       "\n",
       "    .dataframe thead th {\n",
       "        text-align: right;\n",
       "    }\n",
       "</style>\n",
       "<table border=\"1\" class=\"dataframe\">\n",
       "  <thead>\n",
       "    <tr style=\"text-align: right;\">\n",
       "      <th></th>\n",
       "      <th>distance</th>\n",
       "      <th>cab_type</th>\n",
       "      <th>time_stamp_x</th>\n",
       "      <th>destination</th>\n",
       "      <th>source</th>\n",
       "      <th>price</th>\n",
       "      <th>surge_multiplier</th>\n",
       "      <th>id</th>\n",
       "      <th>product_id</th>\n",
       "      <th>name</th>\n",
       "      <th>...</th>\n",
       "      <th>merge_date</th>\n",
       "      <th>temp</th>\n",
       "      <th>location</th>\n",
       "      <th>clouds</th>\n",
       "      <th>pressure</th>\n",
       "      <th>rain</th>\n",
       "      <th>time_stamp_y</th>\n",
       "      <th>humidity</th>\n",
       "      <th>wind</th>\n",
       "      <th>date_time_y</th>\n",
       "    </tr>\n",
       "  </thead>\n",
       "  <tbody>\n",
       "    <tr>\n",
       "      <th>1410205</th>\n",
       "      <td>1.0</td>\n",
       "      <td>Uber</td>\n",
       "      <td>1543708385534</td>\n",
       "      <td>North End</td>\n",
       "      <td>West End</td>\n",
       "      <td>13.0</td>\n",
       "      <td>1.0</td>\n",
       "      <td>616d3611-1820-450a-9845-a9ff304a4842</td>\n",
       "      <td>6f72dfc5-27f1-42e8-84db-ccc7a75f6969</td>\n",
       "      <td>UberXL</td>\n",
       "      <td>...</td>\n",
       "      <td>West End - 2018-12-01 - 23</td>\n",
       "      <td>20.06</td>\n",
       "      <td>West End</td>\n",
       "      <td>0.62</td>\n",
       "      <td>1030.21</td>\n",
       "      <td>0.0</td>\n",
       "      <td>1.544691e+09</td>\n",
       "      <td>0.61</td>\n",
       "      <td>3.76</td>\n",
       "      <td>2018-12-01 23:18:03.204</td>\n",
       "    </tr>\n",
       "    <tr>\n",
       "      <th>1410206</th>\n",
       "      <td>1.0</td>\n",
       "      <td>Uber</td>\n",
       "      <td>1543708385534</td>\n",
       "      <td>North End</td>\n",
       "      <td>West End</td>\n",
       "      <td>9.5</td>\n",
       "      <td>1.0</td>\n",
       "      <td>633a3fc3-1f86-4b9e-9d48-2b7132112341</td>\n",
       "      <td>55c66225-fbe7-4fd5-9072-eab1ece5e23e</td>\n",
       "      <td>UberX</td>\n",
       "      <td>...</td>\n",
       "      <td>West End - 2018-12-01 - 23</td>\n",
       "      <td>20.06</td>\n",
       "      <td>West End</td>\n",
       "      <td>0.62</td>\n",
       "      <td>1030.21</td>\n",
       "      <td>0.0</td>\n",
       "      <td>1.544691e+09</td>\n",
       "      <td>0.61</td>\n",
       "      <td>3.76</td>\n",
       "      <td>2018-12-01 23:18:03.204</td>\n",
       "    </tr>\n",
       "    <tr>\n",
       "      <th>1410207</th>\n",
       "      <td>1.0</td>\n",
       "      <td>Uber</td>\n",
       "      <td>1543708385534</td>\n",
       "      <td>North End</td>\n",
       "      <td>West End</td>\n",
       "      <td>NaN</td>\n",
       "      <td>1.0</td>\n",
       "      <td>64d451d0-639f-47a4-9b7c-6fd92fbd264f</td>\n",
       "      <td>8cf7e821-f0d3-49c6-8eba-e679c0ebcf6a</td>\n",
       "      <td>Taxi</td>\n",
       "      <td>...</td>\n",
       "      <td>West End - 2018-12-01 - 23</td>\n",
       "      <td>20.06</td>\n",
       "      <td>West End</td>\n",
       "      <td>0.62</td>\n",
       "      <td>1030.21</td>\n",
       "      <td>0.0</td>\n",
       "      <td>1.544691e+09</td>\n",
       "      <td>0.61</td>\n",
       "      <td>3.76</td>\n",
       "      <td>2018-12-01 23:18:03.204</td>\n",
       "    </tr>\n",
       "    <tr>\n",
       "      <th>1410208</th>\n",
       "      <td>1.0</td>\n",
       "      <td>Uber</td>\n",
       "      <td>1543708385534</td>\n",
       "      <td>North End</td>\n",
       "      <td>West End</td>\n",
       "      <td>27.0</td>\n",
       "      <td>1.0</td>\n",
       "      <td>727e5f07-a96b-4ad1-a2c7-9abc3ad55b4e</td>\n",
       "      <td>6d318bcc-22a3-4af6-bddd-b409bfce1546</td>\n",
       "      <td>Black SUV</td>\n",
       "      <td>...</td>\n",
       "      <td>West End - 2018-12-01 - 23</td>\n",
       "      <td>20.06</td>\n",
       "      <td>West End</td>\n",
       "      <td>0.62</td>\n",
       "      <td>1030.21</td>\n",
       "      <td>0.0</td>\n",
       "      <td>1.544691e+09</td>\n",
       "      <td>0.61</td>\n",
       "      <td>3.76</td>\n",
       "      <td>2018-12-01 23:18:03.204</td>\n",
       "    </tr>\n",
       "    <tr>\n",
       "      <th>1410209</th>\n",
       "      <td>1.0</td>\n",
       "      <td>Uber</td>\n",
       "      <td>1543708385534</td>\n",
       "      <td>North End</td>\n",
       "      <td>West End</td>\n",
       "      <td>10.0</td>\n",
       "      <td>1.0</td>\n",
       "      <td>e7fdc087-fe86-40a5-a3c3-3b2a8badcbda</td>\n",
       "      <td>997acbb5-e102-41e1-b155-9df7de0a73f2</td>\n",
       "      <td>UberPool</td>\n",
       "      <td>...</td>\n",
       "      <td>West End - 2018-12-01 - 23</td>\n",
       "      <td>20.06</td>\n",
       "      <td>West End</td>\n",
       "      <td>0.62</td>\n",
       "      <td>1030.21</td>\n",
       "      <td>0.0</td>\n",
       "      <td>1.544691e+09</td>\n",
       "      <td>0.61</td>\n",
       "      <td>3.76</td>\n",
       "      <td>2018-12-01 23:18:03.204</td>\n",
       "    </tr>\n",
       "  </tbody>\n",
       "</table>\n",
       "<p>5 rows × 21 columns</p>\n",
       "</div>"
      ],
      "text/plain": [
       "         distance cab_type   time_stamp_x destination    source  price  \\\n",
       "1410205       1.0     Uber  1543708385534   North End  West End   13.0   \n",
       "1410206       1.0     Uber  1543708385534   North End  West End    9.5   \n",
       "1410207       1.0     Uber  1543708385534   North End  West End    NaN   \n",
       "1410208       1.0     Uber  1543708385534   North End  West End   27.0   \n",
       "1410209       1.0     Uber  1543708385534   North End  West End   10.0   \n",
       "\n",
       "         surge_multiplier                                    id  \\\n",
       "1410205               1.0  616d3611-1820-450a-9845-a9ff304a4842   \n",
       "1410206               1.0  633a3fc3-1f86-4b9e-9d48-2b7132112341   \n",
       "1410207               1.0  64d451d0-639f-47a4-9b7c-6fd92fbd264f   \n",
       "1410208               1.0  727e5f07-a96b-4ad1-a2c7-9abc3ad55b4e   \n",
       "1410209               1.0  e7fdc087-fe86-40a5-a3c3-3b2a8badcbda   \n",
       "\n",
       "                                   product_id       name  ...  \\\n",
       "1410205  6f72dfc5-27f1-42e8-84db-ccc7a75f6969     UberXL  ...   \n",
       "1410206  55c66225-fbe7-4fd5-9072-eab1ece5e23e      UberX  ...   \n",
       "1410207  8cf7e821-f0d3-49c6-8eba-e679c0ebcf6a       Taxi  ...   \n",
       "1410208  6d318bcc-22a3-4af6-bddd-b409bfce1546  Black SUV  ...   \n",
       "1410209  997acbb5-e102-41e1-b155-9df7de0a73f2   UberPool  ...   \n",
       "\n",
       "                         merge_date   temp  location clouds  pressure  rain  \\\n",
       "1410205  West End - 2018-12-01 - 23  20.06  West End   0.62   1030.21   0.0   \n",
       "1410206  West End - 2018-12-01 - 23  20.06  West End   0.62   1030.21   0.0   \n",
       "1410207  West End - 2018-12-01 - 23  20.06  West End   0.62   1030.21   0.0   \n",
       "1410208  West End - 2018-12-01 - 23  20.06  West End   0.62   1030.21   0.0   \n",
       "1410209  West End - 2018-12-01 - 23  20.06  West End   0.62   1030.21   0.0   \n",
       "\n",
       "         time_stamp_y  humidity  wind             date_time_y  \n",
       "1410205  1.544691e+09      0.61  3.76 2018-12-01 23:18:03.204  \n",
       "1410206  1.544691e+09      0.61  3.76 2018-12-01 23:18:03.204  \n",
       "1410207  1.544691e+09      0.61  3.76 2018-12-01 23:18:03.204  \n",
       "1410208  1.544691e+09      0.61  3.76 2018-12-01 23:18:03.204  \n",
       "1410209  1.544691e+09      0.61  3.76 2018-12-01 23:18:03.204  \n",
       "\n",
       "[5 rows x 21 columns]"
      ]
     },
     "execution_count": 10,
     "metadata": {},
     "output_type": "execute_result"
    }
   ],
   "source": [
    "merged_df.tail()[:10]"
   ]
  },
  {
   "cell_type": "code",
   "execution_count": 9,
   "id": "648d7168-de5e-41ae-abf2-a4b8baea8ab5",
   "metadata": {},
   "outputs": [
    {
     "data": {
      "text/plain": [
       "distance                 0\n",
       "cab_type                 0\n",
       "time_stamp_x             0\n",
       "destination              0\n",
       "source                   0\n",
       "price               112258\n",
       "surge_multiplier         0\n",
       "id                       0\n",
       "product_id               0\n",
       "name                     0\n",
       "date_time_x              0\n",
       "merge_date               0\n",
       "temp                141401\n",
       "location            141401\n",
       "clouds              141401\n",
       "pressure            141401\n",
       "rain                141401\n",
       "time_stamp_y        141401\n",
       "humidity            141401\n",
       "wind                141401\n",
       "date_time_y         141401\n",
       "dtype: int64"
      ]
     },
     "execution_count": 9,
     "metadata": {},
     "output_type": "execute_result"
    }
   ],
   "source": [
    "merged_df.isnull().sum(axis=0)"
   ]
  },
  {
   "cell_type": "markdown",
   "id": "b15ed8f5-6f10-4ced-b08c-83cff133f5b4",
   "metadata": {},
   "source": [
    "### Null 제거 및 인코딩"
   ]
  },
  {
   "cell_type": "code",
   "execution_count": 10,
   "id": "832cd1f9-c8cf-4327-89eb-2c61ff43c263",
   "metadata": {},
   "outputs": [
    {
     "name": "stdout",
     "output_type": "stream",
     "text": [
      "<class 'pandas.core.frame.DataFrame'>\n",
      "Int64Index: 1167702 entries, 0 to 1410209\n",
      "Data columns (total 21 columns):\n",
      " #   Column            Non-Null Count    Dtype         \n",
      "---  ------            --------------    -----         \n",
      " 0   distance          1167702 non-null  float64       \n",
      " 1   cab_type          1167702 non-null  object        \n",
      " 2   time_stamp_x      1167702 non-null  int64         \n",
      " 3   destination       1167702 non-null  object        \n",
      " 4   source            1167702 non-null  object        \n",
      " 5   price             1167702 non-null  float64       \n",
      " 6   surge_multiplier  1167702 non-null  float64       \n",
      " 7   id                1167702 non-null  object        \n",
      " 8   product_id        1167702 non-null  object        \n",
      " 9   name              1167702 non-null  object        \n",
      " 10  date_time_x       1167702 non-null  datetime64[ns]\n",
      " 11  merge_date        1167702 non-null  object        \n",
      " 12  temp              1167702 non-null  float64       \n",
      " 13  location          1167702 non-null  object        \n",
      " 14  clouds            1167702 non-null  float64       \n",
      " 15  pressure          1167702 non-null  float64       \n",
      " 16  rain              1167702 non-null  float64       \n",
      " 17  time_stamp_y      1167702 non-null  float64       \n",
      " 18  humidity          1167702 non-null  float64       \n",
      " 19  wind              1167702 non-null  float64       \n",
      " 20  date_time_y       1167702 non-null  datetime64[ns]\n",
      "dtypes: datetime64[ns](2), float64(10), int64(1), object(8)\n",
      "memory usage: 196.0+ MB\n"
     ]
    }
   ],
   "source": [
    "# null값 제거\n",
    "merged_df_drop = merged_df.dropna(axis=0)\n",
    "merged_df_drop.info()"
   ]
  },
  {
   "cell_type": "code",
   "execution_count": 11,
   "id": "4839b733-ed36-42b1-8984-02f23a2a73ec",
   "metadata": {},
   "outputs": [
    {
     "name": "stdout",
     "output_type": "stream",
     "text": [
      "<class 'pandas.core.frame.DataFrame'>\n",
      "Index: 1167702 entries, Haymarket Square - 2018-12-16 - 9 to West End - 2018-12-01 - 23\n",
      "Data columns (total 10 columns):\n",
      " #   Column            Non-Null Count    Dtype  \n",
      "---  ------            --------------    -----  \n",
      " 0   distance          1167702 non-null  float64\n",
      " 1   cab_type          1167702 non-null  object \n",
      " 2   price             1167702 non-null  float64\n",
      " 3   surge_multiplier  1167702 non-null  float64\n",
      " 4   name              1167702 non-null  object \n",
      " 5   temp              1167702 non-null  float64\n",
      " 6   clouds            1167702 non-null  float64\n",
      " 7   rain              1167702 non-null  float64\n",
      " 8   humidity          1167702 non-null  float64\n",
      " 9   wind              1167702 non-null  float64\n",
      "dtypes: float64(8), object(2)\n",
      "memory usage: 98.0+ MB\n"
     ]
    }
   ],
   "source": [
    "# merge_date를 인덱스로 주고 컬럼제거\n",
    "merged_df_drop.index = merged_df_drop['merge_date']\n",
    "\n",
    "# 필요없는 컬럼 제거\n",
    "merged_df_drop = merged_df_drop.drop(columns=['time_stamp_x', 'destination', 'source', 'id', 'product_id', 'date_time_x',\n",
    "                                    'time_stamp_y', 'date_time_y', 'location', 'merge_date', 'pressure'])\n",
    "merged_df_drop.info()"
   ]
  },
  {
   "cell_type": "code",
   "execution_count": 12,
   "id": "add7809a-9ed8-4cd6-8b80-798b8660eb17",
   "metadata": {},
   "outputs": [
    {
     "data": {
      "text/html": [
       "<div>\n",
       "<style scoped>\n",
       "    .dataframe tbody tr th:only-of-type {\n",
       "        vertical-align: middle;\n",
       "    }\n",
       "\n",
       "    .dataframe tbody tr th {\n",
       "        vertical-align: top;\n",
       "    }\n",
       "\n",
       "    .dataframe thead th {\n",
       "        text-align: right;\n",
       "    }\n",
       "</style>\n",
       "<table border=\"1\" class=\"dataframe\">\n",
       "  <thead>\n",
       "    <tr style=\"text-align: right;\">\n",
       "      <th></th>\n",
       "      <th>distance</th>\n",
       "      <th>cab_type</th>\n",
       "      <th>price</th>\n",
       "      <th>surge_multiplier</th>\n",
       "      <th>name</th>\n",
       "      <th>temp</th>\n",
       "      <th>clouds</th>\n",
       "      <th>rain</th>\n",
       "      <th>humidity</th>\n",
       "      <th>wind</th>\n",
       "    </tr>\n",
       "    <tr>\n",
       "      <th>merge_date</th>\n",
       "      <th></th>\n",
       "      <th></th>\n",
       "      <th></th>\n",
       "      <th></th>\n",
       "      <th></th>\n",
       "      <th></th>\n",
       "      <th></th>\n",
       "      <th></th>\n",
       "      <th></th>\n",
       "      <th></th>\n",
       "    </tr>\n",
       "  </thead>\n",
       "  <tbody>\n",
       "    <tr>\n",
       "      <th>Haymarket Square - 2018-12-16 - 9</th>\n",
       "      <td>0.44</td>\n",
       "      <td>Lyft</td>\n",
       "      <td>5.0</td>\n",
       "      <td>1.0</td>\n",
       "      <td>Shared</td>\n",
       "      <td>38.52</td>\n",
       "      <td>0.75</td>\n",
       "      <td>0.0</td>\n",
       "      <td>0.69</td>\n",
       "      <td>11.11</td>\n",
       "    </tr>\n",
       "    <tr>\n",
       "      <th>Haymarket Square - 2018-12-16 - 9</th>\n",
       "      <td>0.44</td>\n",
       "      <td>Lyft</td>\n",
       "      <td>5.0</td>\n",
       "      <td>1.0</td>\n",
       "      <td>Shared</td>\n",
       "      <td>33.10</td>\n",
       "      <td>0.35</td>\n",
       "      <td>0.0</td>\n",
       "      <td>0.82</td>\n",
       "      <td>6.57</td>\n",
       "    </tr>\n",
       "    <tr>\n",
       "      <th>Haymarket Square - 2018-11-27 - 2</th>\n",
       "      <td>0.44</td>\n",
       "      <td>Lyft</td>\n",
       "      <td>11.0</td>\n",
       "      <td>1.0</td>\n",
       "      <td>Lux</td>\n",
       "      <td>20.26</td>\n",
       "      <td>0.45</td>\n",
       "      <td>0.0</td>\n",
       "      <td>0.63</td>\n",
       "      <td>2.90</td>\n",
       "    </tr>\n",
       "    <tr>\n",
       "      <th>Haymarket Square - 2018-11-27 - 2</th>\n",
       "      <td>0.44</td>\n",
       "      <td>Lyft</td>\n",
       "      <td>11.0</td>\n",
       "      <td>1.0</td>\n",
       "      <td>Lux</td>\n",
       "      <td>36.08</td>\n",
       "      <td>0.73</td>\n",
       "      <td>0.0</td>\n",
       "      <td>0.72</td>\n",
       "      <td>7.76</td>\n",
       "    </tr>\n",
       "    <tr>\n",
       "      <th>Haymarket Square - 2018-11-27 - 2</th>\n",
       "      <td>0.44</td>\n",
       "      <td>Lyft</td>\n",
       "      <td>11.0</td>\n",
       "      <td>1.0</td>\n",
       "      <td>Lux</td>\n",
       "      <td>41.05</td>\n",
       "      <td>0.16</td>\n",
       "      <td>0.0</td>\n",
       "      <td>0.59</td>\n",
       "      <td>9.10</td>\n",
       "    </tr>\n",
       "  </tbody>\n",
       "</table>\n",
       "</div>"
      ],
      "text/plain": [
       "                                   distance cab_type  price  surge_multiplier  \\\n",
       "merge_date                                                                      \n",
       "Haymarket Square - 2018-12-16 - 9      0.44     Lyft    5.0               1.0   \n",
       "Haymarket Square - 2018-12-16 - 9      0.44     Lyft    5.0               1.0   \n",
       "Haymarket Square - 2018-11-27 - 2      0.44     Lyft   11.0               1.0   \n",
       "Haymarket Square - 2018-11-27 - 2      0.44     Lyft   11.0               1.0   \n",
       "Haymarket Square - 2018-11-27 - 2      0.44     Lyft   11.0               1.0   \n",
       "\n",
       "                                     name   temp  clouds  rain  humidity  \\\n",
       "merge_date                                                                 \n",
       "Haymarket Square - 2018-12-16 - 9  Shared  38.52    0.75   0.0      0.69   \n",
       "Haymarket Square - 2018-12-16 - 9  Shared  33.10    0.35   0.0      0.82   \n",
       "Haymarket Square - 2018-11-27 - 2     Lux  20.26    0.45   0.0      0.63   \n",
       "Haymarket Square - 2018-11-27 - 2     Lux  36.08    0.73   0.0      0.72   \n",
       "Haymarket Square - 2018-11-27 - 2     Lux  41.05    0.16   0.0      0.59   \n",
       "\n",
       "                                    wind  \n",
       "merge_date                                \n",
       "Haymarket Square - 2018-12-16 - 9  11.11  \n",
       "Haymarket Square - 2018-12-16 - 9   6.57  \n",
       "Haymarket Square - 2018-11-27 - 2   2.90  \n",
       "Haymarket Square - 2018-11-27 - 2   7.76  \n",
       "Haymarket Square - 2018-11-27 - 2   9.10  "
      ]
     },
     "execution_count": 12,
     "metadata": {},
     "output_type": "execute_result"
    }
   ],
   "source": [
    "merged_df_drop.head()"
   ]
  },
  {
   "cell_type": "code",
   "execution_count": 13,
   "id": "c240bb15-964f-49e1-a9a7-8671d8f173a5",
   "metadata": {},
   "outputs": [
    {
     "name": "stdout",
     "output_type": "stream",
     "text": [
      "원핫인코딩 수행 전 shape :  (1167702, 10)\n",
      "원핫인코딩 수행 후 shape :  (1167702, 22)\n"
     ]
    }
   ],
   "source": [
    "# object컬럼을 숫자형으로 변환 : 원-핫 인코딩 이용\n",
    "merged_df_oh = pd.get_dummies(merged_df_drop)\n",
    "print('원핫인코딩 수행 전 shape : ', merged_df_drop.shape)\n",
    "print('원핫인코딩 수행 후 shape : ', merged_df_oh.shape)"
   ]
  },
  {
   "cell_type": "markdown",
   "id": "91bef83a-795c-4529-85b9-c4e761f51889",
   "metadata": {},
   "source": [
    "### 상관관계 확인"
   ]
  },
  {
   "cell_type": "code",
   "execution_count": 14,
   "id": "ed8cb8ba-71f2-46cb-b04a-f9517f93099d",
   "metadata": {},
   "outputs": [
    {
     "name": "stdout",
     "output_type": "stream",
     "text": [
      "<class 'pandas.core.frame.DataFrame'>\n",
      "Index: 1167702 entries, Haymarket Square - 2018-12-16 - 9 to West End - 2018-12-01 - 23\n",
      "Data columns (total 22 columns):\n",
      " #   Column             Non-Null Count    Dtype  \n",
      "---  ------             --------------    -----  \n",
      " 0   distance           1167702 non-null  float64\n",
      " 1   price              1167702 non-null  float64\n",
      " 2   surge_multiplier   1167702 non-null  float64\n",
      " 3   temp               1167702 non-null  float64\n",
      " 4   clouds             1167702 non-null  float64\n",
      " 5   rain               1167702 non-null  float64\n",
      " 6   humidity           1167702 non-null  float64\n",
      " 7   wind               1167702 non-null  float64\n",
      " 8   cab_type_Lyft      1167702 non-null  uint8  \n",
      " 9   cab_type_Uber      1167702 non-null  uint8  \n",
      " 10  name_Black         1167702 non-null  uint8  \n",
      " 11  name_Black SUV     1167702 non-null  uint8  \n",
      " 12  name_Lux           1167702 non-null  uint8  \n",
      " 13  name_Lux Black     1167702 non-null  uint8  \n",
      " 14  name_Lux Black XL  1167702 non-null  uint8  \n",
      " 15  name_Lyft          1167702 non-null  uint8  \n",
      " 16  name_Lyft XL       1167702 non-null  uint8  \n",
      " 17  name_Shared        1167702 non-null  uint8  \n",
      " 18  name_UberPool      1167702 non-null  uint8  \n",
      " 19  name_UberX         1167702 non-null  uint8  \n",
      " 20  name_UberXL        1167702 non-null  uint8  \n",
      " 21  name_WAV           1167702 non-null  uint8  \n",
      "dtypes: float64(8), uint8(14)\n",
      "memory usage: 95.8+ MB\n"
     ]
    }
   ],
   "source": [
    "merged_df_oh.info()"
   ]
  },
  {
   "cell_type": "code",
   "execution_count": 15,
   "id": "baa6807a-3cdf-4b19-8774-874836ea18af",
   "metadata": {},
   "outputs": [
    {
     "data": {
      "text/plain": [
       "<AxesSubplot:xlabel='name', ylabel='price'>"
      ]
     },
     "execution_count": 15,
     "metadata": {},
     "output_type": "execute_result"
    },
    {
     "data": {
      "image/png": "[encoded data removed]",
      "text/plain": [
       "<Figure size 1080x360 with 1 Axes>"
      ]
     },
     "metadata": {
      "needs_background": "light"
     },
     "output_type": "display_data"
    }
   ],
   "source": [
    "# 가격 순으로 정렬\n",
    "merged_df_drop = merged_df_drop.sort_values(by=['price'])\n",
    "merged_df_oh = merged_df_oh.sort_values(by=['price'])\n",
    "\n",
    "# merged_df_drop에서 차량등급에 따른 가격 (인코딩 전 DF) >> 등급에 따라 가격이 다름을 알 수 있음\n",
    "plt.figure(figsize=(15, 5))\n",
    "sns.barplot(x='name', y='price', data=merged_df_drop)"
   ]
  },
  {
   "cell_type": "code",
   "execution_count": 16,
   "id": "1f93b1b3-f5ad-4dc2-80f1-cd35f980e972",
   "metadata": {},
   "outputs": [
    {
     "data": {
      "image/png": "[encoded data removed]",
      "text/plain": [
       "<Figure size 720x360 with 1 Axes>"
      ]
     },
     "metadata": {
      "needs_background": "light"
     },
     "output_type": "display_data"
    }
   ],
   "source": [
    "# 거리 순으로 정렬\n",
    "merged_df_drop = merged_df_drop.sort_values(by=['distance'])\n",
    "merged_df_oh = merged_df_oh.sort_values(by=['distance'])\n",
    "\n",
    "# 온도카테고리\n",
    "def get_category(temp):\n",
    "    cat=''\n",
    "    if temp <= 20: cat = 'Very Cold'\n",
    "    elif temp <= 30: cat = 'Cold'\n",
    "    elif temp <= 40: cat = 'Good'\n",
    "    elif temp <= 50: cat = 'Hot'\n",
    "    else : cat = 'Very Hot'\n",
    "    \n",
    "    return cat\n",
    "\n",
    "# x축을 내가 원하는 순서로 정리\n",
    "x_names = ['Very Cold', 'Cold', 'Good', 'Hot', 'Very Hot']\n",
    "\n",
    "# lambda 이용\n",
    "merged_df_drop['temp_cat'] = merged_df_drop['temp'].apply(lambda x : get_category(x))\n",
    "\n",
    "# 시각화\n",
    "plt.figure(figsize=(10, 5))\n",
    "sns.barplot(x='temp_cat', y='distance', data=merged_df_drop, order=x_names)\n",
    "merged_df_drop.drop('temp_cat', axis=1, inplace=True)\n",
    "\n",
    "# 온도에 따른 거리변화는 큰 의미 없음"
   ]
  },
  {
   "cell_type": "code",
   "execution_count": 17,
   "id": "beb8216f-d78a-4ae9-b8bd-4b727af11868",
   "metadata": {},
   "outputs": [
    {
     "data": {
      "text/plain": [
       "<AxesSubplot:>"
      ]
     },
     "execution_count": 17,
     "metadata": {},
     "output_type": "execute_result"
    },
    {
     "data": {
      "image/png": "[encoded data removed]",
      "text/plain": [
       "<Figure size 1008x1008 with 2 Axes>"
      ]
     },
     "metadata": {
      "needs_background": "light"
     },
     "output_type": "display_data"
    }
   ],
   "source": [
    "# corr()를 이용해 속성간 상관도 구한 뒤 히트맵으로 시각화\n",
    "corr = merged_df_oh.corr()\n",
    "plt.figure(figsize=(14, 14))\n",
    "sns.heatmap(corr, annot=True, fmt='.1g')"
   ]
  },
  {
   "cell_type": "code",
   "execution_count": 18,
   "id": "9f9c55e4-4ad5-4ab9-955d-711480917319",
   "metadata": {},
   "outputs": [
    {
     "data": {
      "text/plain": [
       "price                1.000000\n",
       "name_Lux Black XL    0.501197\n",
       "name_Black SUV       0.451761\n",
       "distance             0.346047\n",
       "surge_multiplier     0.240394\n",
       "name_Lux Black       0.205868\n",
       "name_Black           0.130731\n",
       "cab_type_Lyft        0.084418\n",
       "name_Lux             0.039479\n",
       "clouds               0.002675\n",
       "temp                 0.000177\n",
       "humidity             0.000173\n",
       "wind                -0.001713\n",
       "rain                -0.001986\n",
       "name_UberXL         -0.029140\n",
       "name_Lyft XL        -0.038726\n",
       "cab_type_Uber       -0.084418\n",
       "name_Lyft           -0.220080\n",
       "name_UberX          -0.223079\n",
       "name_WAV            -0.223338\n",
       "name_UberPool       -0.256864\n",
       "name_Shared         -0.332821\n",
       "Name: price, dtype: float64"
      ]
     },
     "execution_count": 18,
     "metadata": {},
     "output_type": "execute_result"
    }
   ],
   "source": [
    "corr.price.sort_values(ascending=False)"
   ]
  },
  {
   "cell_type": "markdown",
   "id": "f298425e-dbb2-409a-ab5a-8652f7919d47",
   "metadata": {},
   "source": [
    "### 함수 생성"
   ]
  },
  {
   "cell_type": "code",
   "execution_count": 19,
   "id": "bb441b8f-fa88-46f0-bd26-25498ece2510",
   "metadata": {},
   "outputs": [],
   "source": [
    "from sklearn.metrics import mean_squared_error, mean_absolute_error, mean_absolute_percentage_error, r2_score\n",
    "\n",
    "def get_rmse(model):\n",
    "    pred = model.predict(X_test)\n",
    "    mse = mean_squared_error(y_test, pred)\n",
    "    rmse = np.sqrt(mse)\n",
    "    return rmse\n",
    "    \n",
    "def get_mae(model):\n",
    "    pred = model.predict(X_test)\n",
    "    mae = mean_absolute_error(y_test,pred)\n",
    "    return mae\n",
    "\n",
    "def get_mape(model):\n",
    "    pred = model.predict(X_test)\n",
    "    mape = mean_absolute_percentage_error(y_test, pred)\n",
    "    return mape\n",
    "\n",
    "def get_r2(model):\n",
    "    pred = model.predict(X_test)\n",
    "    r2 = r2_score(y_test, pred)\n",
    "    return r2\n",
    "\n",
    "def check_errors(models):\n",
    "    rmses = []\n",
    "    maes = []\n",
    "    mapes = []\n",
    "    r2s = []\n",
    "    \n",
    "    for model in models:\n",
    "        rmse = get_rmse(model)\n",
    "        mae = get_mae(model)\n",
    "        mape = get_mape(model)\n",
    "        r2 = get_r2(model)\n",
    "        \n",
    "        rmses.append(rmse)\n",
    "        maes.append(mae)\n",
    "        mapes.append(mape)\n",
    "        r2s.append(r2)\n",
    "        \n",
    "        print(model.__class__.__name__, 'RMSE :', np.round(rmse, 3), '/ MAE :', np.round(mae, 3), '/ MAPE :', np.round(mape, 3), '/ R2 :', np.round(r2, 3))\n",
    "    return rmses, maes, mapes, r2"
   ]
  },
  {
   "cell_type": "markdown",
   "id": "8b3a68d0-0b6a-460f-9fe9-541d6f7853be",
   "metadata": {},
   "source": [
    "### 모델 학습, 예측, 평가"
   ]
  },
  {
   "cell_type": "code",
   "execution_count": 20,
   "id": "540c7253-9ec2-439f-ac94-ab0cd75fb326",
   "metadata": {},
   "outputs": [
    {
     "name": "stdout",
     "output_type": "stream",
     "text": [
      "LinearRegression RMSE : 2.513 / MAE : 1.778 / MAPE : 0.134 / R2 : 0.928\n",
      "Ridge RMSE : 2.513 / MAE : 1.778 / MAPE : 0.134 / R2 : 0.928\n",
      "Lasso RMSE : 7.922 / MAE : 6.548 / MAPE : 0.545 / R2 : 0.28\n"
     ]
    },
    {
     "data": {
      "text/plain": [
       "([2.5128257736350292, 2.5128250565225896, 7.921549312031209],\n",
       " [1.777827158943693, 1.7778154697259896, 6.548447979199651],\n",
       " [0.1343145967963501, 0.13431305464485985, 0.5445170713385202],\n",
       " 0.2804989687160965)"
      ]
     },
     "execution_count": 20,
     "metadata": {},
     "output_type": "execute_result"
    }
   ],
   "source": [
    "from sklearn.model_selection import train_test_split , GridSearchCV\n",
    "from sklearn.linear_model import LinearRegression , Ridge , Lasso\n",
    "\n",
    "# 데이터 분리\n",
    "y_target = merged_df_oh['price']\n",
    "X_features = merged_df_oh.drop(['price'],axis=1,inplace=False)\n",
    "\n",
    "X_train, X_test, y_train, y_test = train_test_split(X_features, y_target, test_size=0.2, random_state=0)\n",
    "\n",
    "# 학습, 예측, 평가\n",
    "lr_reg = LinearRegression()\n",
    "lr_reg.fit(X_train, y_train)\n",
    "\n",
    "rg_reg = Ridge()\n",
    "rg_reg.fit(X_train, y_train)\n",
    "\n",
    "ls_reg = Lasso()\n",
    "ls_reg.fit(X_train, y_train)\n",
    "\n",
    "models = [lr_reg, rg_reg, ls_reg]\n",
    "check_errors(models)"
   ]
  },
  {
   "cell_type": "code",
   "execution_count": 21,
   "id": "3d51f128-d5b3-47ea-9b4e-bd17c4424d7c",
   "metadata": {},
   "outputs": [
    {
     "data": {
      "text/plain": [
       "<AxesSubplot:>"
      ]
     },
     "execution_count": 21,
     "metadata": {},
     "output_type": "execute_result"
    },
    {
     "data": {
      "image/png": "[encoded data removed]",
      "text/plain": [
       "<Figure size 432x288 with 1 Axes>"
      ]
     },
     "metadata": {
      "needs_background": "light"
     },
     "output_type": "display_data"
    }
   ],
   "source": [
    "# 회귀계수 높은 순서대로 시각화\n",
    "coef = pd.Series(lr_reg.coef_, index=X_features.columns)\n",
    "coef_sort = coef.sort_values(ascending=False)[:10]\n",
    "sns.barplot(x=coef_sort.values, y=coef_sort.index)"
   ]
  },
  {
   "cell_type": "markdown",
   "id": "a5852345-5bd5-42ea-96b5-91eb9efd5746",
   "metadata": {},
   "source": [
    "### 정확도를 높이기 위한 여러가지 시도\n",
    "**1. 타겟의 로그변환**"
   ]
  },
  {
   "cell_type": "code",
   "execution_count": 22,
   "id": "6f7d4db8-8581-4651-8207-cb95f3ee6b0f",
   "metadata": {},
   "outputs": [
    {
     "data": {
      "text/plain": [
       "<AxesSubplot:>"
      ]
     },
     "execution_count": 22,
     "metadata": {},
     "output_type": "execute_result"
    },
    {
     "data": {
      "image/png": "[encoded data removed]",
      "text/plain": [
       "<Figure size 432x288 with 1 Axes>"
      ]
     },
     "metadata": {
      "needs_background": "light"
     },
     "output_type": "display_data"
    }
   ],
   "source": [
    "# 타겟의 분포도 확인\n",
    "y_target.hist()"
   ]
  },
  {
   "cell_type": "code",
   "execution_count": 23,
   "id": "896eee3d-577d-4fdc-9019-2bc6a1dfbbb7",
   "metadata": {},
   "outputs": [
    {
     "data": {
      "text/plain": [
       "<AxesSubplot:>"
      ]
     },
     "execution_count": 23,
     "metadata": {},
     "output_type": "execute_result"
    },
    {
     "data": {
      "image/png": "[encoded data removed]",
      "text/plain": [
       "<Figure size 432x288 with 1 Axes>"
      ]
     },
     "metadata": {
      "needs_background": "light"
     },
     "output_type": "display_data"
    }
   ],
   "source": [
    "y_log_target = np.log1p(y_target)\n",
    "y_log_target.hist()"
   ]
  },
  {
   "cell_type": "code",
   "execution_count": 24,
   "id": "e69ab080-7072-4bd5-a473-e6b4913312b0",
   "metadata": {},
   "outputs": [],
   "source": [
    "# 타겟값을 로그변환한 것을 사용했기 때문에 테스트 데이터 세트의 타겟값과 예측값을 로그변환 이전으로 돌려주는 식 추가\n",
    "def get_rmse_log(model):\n",
    "    pred = model.predict(X_test)\n",
    "    y_test_exp = np.expm1(y_test)\n",
    "    pred_exp = np.expm1(pred)\n",
    "    \n",
    "    mse = mean_squared_error(y_test_exp, pred_exp)\n",
    "    rmse = np.sqrt(mse)\n",
    "    return rmse\n",
    "    \n",
    "def get_mae_log(model):\n",
    "    pred = model.predict(X_test)\n",
    "    y_test_exp = np.expm1(y_test)\n",
    "    pred_exp = np.expm1(pred)\n",
    "    \n",
    "    mae = mean_absolute_error(y_test_exp, pred_exp)\n",
    "    return mae\n",
    "\n",
    "def get_mape_log(model):\n",
    "    pred = model.predict(X_test)\n",
    "    y_test_exp = np.expm1(y_test)\n",
    "    pred_exp = np.expm1(pred)\n",
    "    \n",
    "    mape = mean_absolute_percentage_error(y_test_exp, pred_exp)\n",
    "    return mape\n",
    "\n",
    "def get_r2_log(model):\n",
    "    pred = model.predict(X_test)\n",
    "    y_test_exp = np.expm1(y_test)\n",
    "    pred_exp = np.expm1(pred)\n",
    "    \n",
    "    r2 = r2_score(y_test_exp, pred_exp)\n",
    "    return r2\n",
    "\n",
    "def check_errors_log(models):\n",
    "    rmses = []\n",
    "    maes = []\n",
    "    mapes = []\n",
    "    r2s = []\n",
    "    \n",
    "    for model in models:\n",
    "        rmse = get_rmse_log(model)\n",
    "        mae = get_mae_log(model)\n",
    "        mape = get_mape_log(model)\n",
    "        r2 = get_r2_log(model)\n",
    "        \n",
    "        rmses.append(rmse)\n",
    "        maes.append(mae)\n",
    "        mapes.append(mape)\n",
    "        r2s.append(r2)\n",
    "        \n",
    "        print(model.__class__.__name__, '\\n RMSE :', np.round(rmse, 3), '/ MAE :', np.round(mae, 3), '/ MAPE :', np.round(mape, 3), '/ R2 :', np.round(r2, 3))\n",
    "    return rmses, maes, mapes, r2"
   ]
  },
  {
   "cell_type": "code",
   "execution_count": 25,
   "id": "a519708c-43d8-41aa-9509-f851096bee6e",
   "metadata": {},
   "outputs": [
    {
     "name": "stdout",
     "output_type": "stream",
     "text": [
      "LinearRegression \n",
      " RMSE : 2.139 / MAE : 1.436 / MAPE : 0.1 / R2 : 0.948\n",
      "Ridge \n",
      " RMSE : 2.139 / MAE : 1.436 / MAPE : 0.1 / R2 : 0.948\n",
      "Lasso \n",
      " RMSE : 9.601 / MAE : 7.398 / MAPE : 0.537 / R2 : -0.057\n"
     ]
    },
    {
     "data": {
      "text/plain": [
       "([2.1394051660726503, 2.1394050099642503, 9.600966334183877],\n",
       " [1.436308396725177, 1.4363085292804838, 7.398186619669313],\n",
       " [0.09959134514265115, 0.0995914630659364, 0.536644638374297],\n",
       " -0.05691741603805678)"
      ]
     },
     "execution_count": 25,
     "metadata": {},
     "output_type": "execute_result"
    }
   ],
   "source": [
    "# 피쳐값도 로그변환\n",
    "X_log_features = np.log1p(X_features)\n",
    "\n",
    "# 데이터 분리\n",
    "y_target = merged_df_oh['price']\n",
    "X_features = merged_df_oh.drop(['price'],axis=1,inplace=False)\n",
    "\n",
    "X_train, X_test, y_train, y_test = train_test_split(X_features, y_log_target, test_size=0.2, random_state=0)\n",
    "\n",
    "# 학습, 예측, 평가\n",
    "lr_reg = LinearRegression()\n",
    "lr_reg.fit(X_train, y_train)\n",
    "\n",
    "rg_reg = Ridge()\n",
    "rg_reg.fit(X_train, y_train)\n",
    "\n",
    "ls_reg = Lasso()\n",
    "ls_reg.fit(X_train, y_train)\n",
    "\n",
    "models = [lr_reg, rg_reg, ls_reg]\n",
    "check_errors_log(models)"
   ]
  },
  {
   "cell_type": "code",
   "execution_count": 26,
   "id": "a86130b8-6be1-4b76-8498-d27f1b0d79cf",
   "metadata": {},
   "outputs": [
    {
     "data": {
      "text/plain": [
       "<AxesSubplot:>"
      ]
     },
     "execution_count": 26,
     "metadata": {},
     "output_type": "execute_result"
    },
    {
     "data": {
      "image/png": "[encoded data removed]",
      "text/plain": [
       "<Figure size 432x288 with 1 Axes>"
      ]
     },
     "metadata": {
      "needs_background": "light"
     },
     "output_type": "display_data"
    }
   ],
   "source": [
    "# 회귀계수 높은 순서대로 시각화\n",
    "coef = pd.Series(lr_reg.coef_, index=X_features.columns)\n",
    "coef_sort = coef.sort_values(ascending=False)[:10]\n",
    "sns.barplot(x=coef_sort.values, y=coef_sort.index)"
   ]
  },
  {
   "cell_type": "markdown",
   "id": "d95e4473-f0df-46f7-a5bc-81af3e580873",
   "metadata": {},
   "source": [
    "---\n",
    "원본데이터 평가  \n",
    "LinearRegression RMSE : 2.513 / MAE : 1.778 / MAPE : 0.134 / R2 : 0.928  \n",
    "Ridge RMSE : 2.513 / MAE : 1.778 / MAPE : 0.134 / R2 : 0.928  \n",
    "Lasso RMSE : 7.922 / MAE : 6.548 / MAPE : 0.545 / R2 : 0.28  \n",
    "\n",
    "선형회귀, 릿지는 예측 성능이 조금 좋아졌지만 라쏘는 예측성능이 좋아졌다고 보기 어렵다  \n",
    "회귀계수로 봤을 때 surge_multiplier가 가장 높은 회귀계수를 가지고 있었는데 Lux Black XL이 가장 높은 회귀계수값을 보였다\n",
    "\n",
    "---\n",
    "\n",
    "**2. x값 스케일링**"
   ]
  },
  {
   "cell_type": "code",
   "execution_count": 27,
   "id": "cc26620a-0530-4e3b-a637-bcd01b859031",
   "metadata": {},
   "outputs": [
    {
     "data": {
      "text/html": [
       "<div>\n",
       "<style scoped>\n",
       "    .dataframe tbody tr th:only-of-type {\n",
       "        vertical-align: middle;\n",
       "    }\n",
       "\n",
       "    .dataframe tbody tr th {\n",
       "        vertical-align: top;\n",
       "    }\n",
       "\n",
       "    .dataframe thead th {\n",
       "        text-align: right;\n",
       "    }\n",
       "</style>\n",
       "<table border=\"1\" class=\"dataframe\">\n",
       "  <thead>\n",
       "    <tr style=\"text-align: right;\">\n",
       "      <th></th>\n",
       "      <th>distance</th>\n",
       "      <th>surge_multiplier</th>\n",
       "      <th>temp</th>\n",
       "      <th>clouds</th>\n",
       "      <th>rain</th>\n",
       "      <th>humidity</th>\n",
       "      <th>wind</th>\n",
       "      <th>cab_type_Lyft</th>\n",
       "      <th>cab_type_Uber</th>\n",
       "      <th>name_Black</th>\n",
       "      <th>...</th>\n",
       "      <th>name_Lux</th>\n",
       "      <th>name_Lux Black</th>\n",
       "      <th>name_Lux Black XL</th>\n",
       "      <th>name_Lyft</th>\n",
       "      <th>name_Lyft XL</th>\n",
       "      <th>name_Shared</th>\n",
       "      <th>name_UberPool</th>\n",
       "      <th>name_UberX</th>\n",
       "      <th>name_UberXL</th>\n",
       "      <th>name_WAV</th>\n",
       "    </tr>\n",
       "  </thead>\n",
       "  <tbody>\n",
       "    <tr>\n",
       "      <th>count</th>\n",
       "      <td>1.167702e+06</td>\n",
       "      <td>1.167702e+06</td>\n",
       "      <td>1.167702e+06</td>\n",
       "      <td>1.167702e+06</td>\n",
       "      <td>1.167702e+06</td>\n",
       "      <td>1.167702e+06</td>\n",
       "      <td>1.167702e+06</td>\n",
       "      <td>1.167702e+06</td>\n",
       "      <td>1.167702e+06</td>\n",
       "      <td>1.167702e+06</td>\n",
       "      <td>...</td>\n",
       "      <td>1.167702e+06</td>\n",
       "      <td>1.167702e+06</td>\n",
       "      <td>1.167702e+06</td>\n",
       "      <td>1.167702e+06</td>\n",
       "      <td>1.167702e+06</td>\n",
       "      <td>1.167702e+06</td>\n",
       "      <td>1.167702e+06</td>\n",
       "      <td>1.167702e+06</td>\n",
       "      <td>1.167702e+06</td>\n",
       "      <td>1.167702e+06</td>\n",
       "    </tr>\n",
       "    <tr>\n",
       "      <th>mean</th>\n",
       "      <td>-2.019000e-13</td>\n",
       "      <td>-2.845983e-13</td>\n",
       "      <td>1.500753e-15</td>\n",
       "      <td>1.028414e-14</td>\n",
       "      <td>-8.431339e-17</td>\n",
       "      <td>5.397904e-15</td>\n",
       "      <td>2.873471e-15</td>\n",
       "      <td>-2.800175e-14</td>\n",
       "      <td>2.800175e-14</td>\n",
       "      <td>2.329433e-14</td>\n",
       "      <td>...</td>\n",
       "      <td>-1.280946e-14</td>\n",
       "      <td>-1.029121e-14</td>\n",
       "      <td>-9.064060e-14</td>\n",
       "      <td>6.062623e-14</td>\n",
       "      <td>-1.589892e-14</td>\n",
       "      <td>-1.622924e-14</td>\n",
       "      <td>1.823221e-14</td>\n",
       "      <td>-6.795082e-14</td>\n",
       "      <td>7.358344e-14</td>\n",
       "      <td>-4.671396e-14</td>\n",
       "    </tr>\n",
       "    <tr>\n",
       "      <th>std</th>\n",
       "      <td>1.000000e+00</td>\n",
       "      <td>1.000000e+00</td>\n",
       "      <td>1.000000e+00</td>\n",
       "      <td>1.000000e+00</td>\n",
       "      <td>1.000000e+00</td>\n",
       "      <td>1.000000e+00</td>\n",
       "      <td>1.000000e+00</td>\n",
       "      <td>1.000000e+00</td>\n",
       "      <td>1.000000e+00</td>\n",
       "      <td>1.000000e+00</td>\n",
       "      <td>...</td>\n",
       "      <td>1.000000e+00</td>\n",
       "      <td>1.000000e+00</td>\n",
       "      <td>1.000000e+00</td>\n",
       "      <td>1.000000e+00</td>\n",
       "      <td>1.000000e+00</td>\n",
       "      <td>1.000000e+00</td>\n",
       "      <td>1.000000e+00</td>\n",
       "      <td>1.000000e+00</td>\n",
       "      <td>1.000000e+00</td>\n",
       "      <td>1.000000e+00</td>\n",
       "    </tr>\n",
       "    <tr>\n",
       "      <th>min</th>\n",
       "      <td>-1.911663e+00</td>\n",
       "      <td>-1.581417e-01</td>\n",
       "      <td>-3.242556e+00</td>\n",
       "      <td>-2.154152e+00</td>\n",
       "      <td>-1.931616e-01</td>\n",
       "      <td>-2.466479e+00</td>\n",
       "      <td>-1.792625e+00</td>\n",
       "      <td>-9.650847e-01</td>\n",
       "      <td>-1.036179e+00</td>\n",
       "      <td>-3.073763e-01</td>\n",
       "      <td>...</td>\n",
       "      <td>-2.961872e-01</td>\n",
       "      <td>-2.950312e-01</td>\n",
       "      <td>-2.958142e-01</td>\n",
       "      <td>-2.960538e-01</td>\n",
       "      <td>-2.956241e-01</td>\n",
       "      <td>-2.950706e-01</td>\n",
       "      <td>-3.073246e-01</td>\n",
       "      <td>-3.066883e-01</td>\n",
       "      <td>-3.083082e-01</td>\n",
       "      <td>-3.073629e-01</td>\n",
       "    </tr>\n",
       "    <tr>\n",
       "      <th>25%</th>\n",
       "      <td>-8.040967e-01</td>\n",
       "      <td>-1.581417e-01</td>\n",
       "      <td>-4.872779e-01</td>\n",
       "      <td>-7.558894e-01</td>\n",
       "      <td>-1.931616e-01</td>\n",
       "      <td>-7.403601e-01</td>\n",
       "      <td>-9.028124e-01</td>\n",
       "      <td>-9.650847e-01</td>\n",
       "      <td>-1.036179e+00</td>\n",
       "      <td>-3.073763e-01</td>\n",
       "      <td>...</td>\n",
       "      <td>-2.961872e-01</td>\n",
       "      <td>-2.950312e-01</td>\n",
       "      <td>-2.958142e-01</td>\n",
       "      <td>-2.960538e-01</td>\n",
       "      <td>-2.956241e-01</td>\n",
       "      <td>-2.950706e-01</td>\n",
       "      <td>-3.073246e-01</td>\n",
       "      <td>-3.066883e-01</td>\n",
       "      <td>-3.083082e-01</td>\n",
       "      <td>-3.073629e-01</td>\n",
       "    </tr>\n",
       "    <tr>\n",
       "      <th>50%</th>\n",
       "      <td>-2.176783e-02</td>\n",
       "      <td>-1.581417e-01</td>\n",
       "      <td>1.673922e-01</td>\n",
       "      <td>3.245863e-01</td>\n",
       "      <td>-1.931616e-01</td>\n",
       "      <td>-3.422069e-02</td>\n",
       "      <td>-6.792686e-02</td>\n",
       "      <td>-9.650847e-01</td>\n",
       "      <td>9.650847e-01</td>\n",
       "      <td>-3.073763e-01</td>\n",
       "      <td>...</td>\n",
       "      <td>-2.961872e-01</td>\n",
       "      <td>-2.950312e-01</td>\n",
       "      <td>-2.958142e-01</td>\n",
       "      <td>-2.960538e-01</td>\n",
       "      <td>-2.956241e-01</td>\n",
       "      <td>-2.950706e-01</td>\n",
       "      <td>-3.073246e-01</td>\n",
       "      <td>-3.066883e-01</td>\n",
       "      <td>-3.083082e-01</td>\n",
       "      <td>-3.073629e-01</td>\n",
       "    </tr>\n",
       "    <tr>\n",
       "      <th>75%</th>\n",
       "      <td>6.550785e-01</td>\n",
       "      <td>-1.581417e-01</td>\n",
       "      <td>6.238290e-01</td>\n",
       "      <td>9.283815e-01</td>\n",
       "      <td>-1.931616e-01</td>\n",
       "      <td>9.857585e-01</td>\n",
       "      <td>8.548414e-01</td>\n",
       "      <td>1.036179e+00</td>\n",
       "      <td>9.650847e-01</td>\n",
       "      <td>-3.073763e-01</td>\n",
       "      <td>...</td>\n",
       "      <td>-2.961872e-01</td>\n",
       "      <td>-2.950312e-01</td>\n",
       "      <td>-2.958142e-01</td>\n",
       "      <td>-2.960538e-01</td>\n",
       "      <td>-2.956241e-01</td>\n",
       "      <td>-2.950706e-01</td>\n",
       "      <td>-3.073246e-01</td>\n",
       "      <td>-3.066883e-01</td>\n",
       "      <td>-3.083082e-01</td>\n",
       "      <td>-3.073629e-01</td>\n",
       "    </tr>\n",
       "    <tr>\n",
       "      <th>max</th>\n",
       "      <td>4.979863e+00</td>\n",
       "      <td>2.061612e+01</td>\n",
       "      <td>2.719440e+00</td>\n",
       "      <td>1.023718e+00</td>\n",
       "      <td>1.802402e+01</td>\n",
       "      <td>1.770358e+00</td>\n",
       "      <td>3.120567e+00</td>\n",
       "      <td>1.036179e+00</td>\n",
       "      <td>9.650847e-01</td>\n",
       "      <td>3.253341e+00</td>\n",
       "      <td>...</td>\n",
       "      <td>3.376243e+00</td>\n",
       "      <td>3.389473e+00</td>\n",
       "      <td>3.380500e+00</td>\n",
       "      <td>3.377764e+00</td>\n",
       "      <td>3.382674e+00</td>\n",
       "      <td>3.389019e+00</td>\n",
       "      <td>3.253889e+00</td>\n",
       "      <td>3.260640e+00</td>\n",
       "      <td>3.243508e+00</td>\n",
       "      <td>3.253483e+00</td>\n",
       "    </tr>\n",
       "  </tbody>\n",
       "</table>\n",
       "<p>8 rows × 21 columns</p>\n",
       "</div>"
      ],
      "text/plain": [
       "           distance  surge_multiplier          temp        clouds  \\\n",
       "count  1.167702e+06      1.167702e+06  1.167702e+06  1.167702e+06   \n",
       "mean  -2.019000e-13     -2.845983e-13  1.500753e-15  1.028414e-14   \n",
       "std    1.000000e+00      1.000000e+00  1.000000e+00  1.000000e+00   \n",
       "min   -1.911663e+00     -1.581417e-01 -3.242556e+00 -2.154152e+00   \n",
       "25%   -8.040967e-01     -1.581417e-01 -4.872779e-01 -7.558894e-01   \n",
       "50%   -2.176783e-02     -1.581417e-01  1.673922e-01  3.245863e-01   \n",
       "75%    6.550785e-01     -1.581417e-01  6.238290e-01  9.283815e-01   \n",
       "max    4.979863e+00      2.061612e+01  2.719440e+00  1.023718e+00   \n",
       "\n",
       "               rain      humidity          wind  cab_type_Lyft  cab_type_Uber  \\\n",
       "count  1.167702e+06  1.167702e+06  1.167702e+06   1.167702e+06   1.167702e+06   \n",
       "mean  -8.431339e-17  5.397904e-15  2.873471e-15  -2.800175e-14   2.800175e-14   \n",
       "std    1.000000e+00  1.000000e+00  1.000000e+00   1.000000e+00   1.000000e+00   \n",
       "min   -1.931616e-01 -2.466479e+00 -1.792625e+00  -9.650847e-01  -1.036179e+00   \n",
       "25%   -1.931616e-01 -7.403601e-01 -9.028124e-01  -9.650847e-01  -1.036179e+00   \n",
       "50%   -1.931616e-01 -3.422069e-02 -6.792686e-02  -9.650847e-01   9.650847e-01   \n",
       "75%   -1.931616e-01  9.857585e-01  8.548414e-01   1.036179e+00   9.650847e-01   \n",
       "max    1.802402e+01  1.770358e+00  3.120567e+00   1.036179e+00   9.650847e-01   \n",
       "\n",
       "         name_Black  ...      name_Lux  name_Lux Black  name_Lux Black XL  \\\n",
       "count  1.167702e+06  ...  1.167702e+06    1.167702e+06       1.167702e+06   \n",
       "mean   2.329433e-14  ... -1.280946e-14   -1.029121e-14      -9.064060e-14   \n",
       "std    1.000000e+00  ...  1.000000e+00    1.000000e+00       1.000000e+00   \n",
       "min   -3.073763e-01  ... -2.961872e-01   -2.950312e-01      -2.958142e-01   \n",
       "25%   -3.073763e-01  ... -2.961872e-01   -2.950312e-01      -2.958142e-01   \n",
       "50%   -3.073763e-01  ... -2.961872e-01   -2.950312e-01      -2.958142e-01   \n",
       "75%   -3.073763e-01  ... -2.961872e-01   -2.950312e-01      -2.958142e-01   \n",
       "max    3.253341e+00  ...  3.376243e+00    3.389473e+00       3.380500e+00   \n",
       "\n",
       "          name_Lyft  name_Lyft XL   name_Shared  name_UberPool    name_UberX  \\\n",
       "count  1.167702e+06  1.167702e+06  1.167702e+06   1.167702e+06  1.167702e+06   \n",
       "mean   6.062623e-14 -1.589892e-14 -1.622924e-14   1.823221e-14 -6.795082e-14   \n",
       "std    1.000000e+00  1.000000e+00  1.000000e+00   1.000000e+00  1.000000e+00   \n",
       "min   -2.960538e-01 -2.956241e-01 -2.950706e-01  -3.073246e-01 -3.066883e-01   \n",
       "25%   -2.960538e-01 -2.956241e-01 -2.950706e-01  -3.073246e-01 -3.066883e-01   \n",
       "50%   -2.960538e-01 -2.956241e-01 -2.950706e-01  -3.073246e-01 -3.066883e-01   \n",
       "75%   -2.960538e-01 -2.956241e-01 -2.950706e-01  -3.073246e-01 -3.066883e-01   \n",
       "max    3.377764e+00  3.382674e+00  3.389019e+00   3.253889e+00  3.260640e+00   \n",
       "\n",
       "        name_UberXL      name_WAV  \n",
       "count  1.167702e+06  1.167702e+06  \n",
       "mean   7.358344e-14 -4.671396e-14  \n",
       "std    1.000000e+00  1.000000e+00  \n",
       "min   -3.083082e-01 -3.073629e-01  \n",
       "25%   -3.083082e-01 -3.073629e-01  \n",
       "50%   -3.083082e-01 -3.073629e-01  \n",
       "75%   -3.083082e-01 -3.073629e-01  \n",
       "max    3.243508e+00  3.253483e+00  \n",
       "\n",
       "[8 rows x 21 columns]"
      ]
     },
     "execution_count": 27,
     "metadata": {},
     "output_type": "execute_result"
    }
   ],
   "source": [
    "from sklearn.preprocessing import StandardScaler\n",
    "\n",
    "# 데이터세트에서 y값 제거\n",
    "merged_df_x = merged_df_oh.drop(['price'],axis=1,inplace=False)\n",
    "\n",
    "# StandardScaler 객체 생성\n",
    "st_scaler = StandardScaler()\n",
    "\n",
    "# StandardScaler로 데이터 세트 변환\n",
    "st_scaler.fit(merged_df_x)\n",
    "merged_st = st_scaler.transform(merged_df_x)\n",
    "\n",
    "# 데이터프레임으로 변환\n",
    "merged_df_st = pd.DataFrame(data=merged_st, columns=merged_df_x.columns)\n",
    "merged_df_st.describe()"
   ]
  },
  {
   "cell_type": "code",
   "execution_count": 28,
   "id": "43a24595-5de4-4b2b-9651-4bc4c6ea41b9",
   "metadata": {},
   "outputs": [
    {
     "name": "stdout",
     "output_type": "stream",
     "text": [
      "LinearRegression RMSE : 2.513 / MAE : 1.778 / MAPE : 0.134 / R2 : 0.928\n",
      "Ridge RMSE : 2.513 / MAE : 1.778 / MAPE : 0.134 / R2 : 0.928\n",
      "Lasso RMSE : 7.922 / MAE : 6.548 / MAPE : 0.545 / R2 : 0.28\n"
     ]
    },
    {
     "data": {
      "text/plain": [
       "([2.5128257736350292, 2.5128250565225896, 7.921549312031209],\n",
       " [1.777827158943693, 1.7778154697259896, 6.548447979199651],\n",
       " [0.1343145967963501, 0.13431305464485985, 0.5445170713385202],\n",
       " 0.2804989687160965)"
      ]
     },
     "execution_count": 28,
     "metadata": {},
     "output_type": "execute_result"
    }
   ],
   "source": [
    "# 데이터 분리\n",
    "y_target = merged_df_oh['price']\n",
    "X_features = merged_df_x\n",
    "\n",
    "X_train, X_test, y_train, y_test = train_test_split(X_features, y_target, test_size=0.2, random_state=0)\n",
    "\n",
    "# 학습, 예측, 평가\n",
    "lr_reg = LinearRegression()\n",
    "lr_reg.fit(X_train, y_train)\n",
    "\n",
    "rg_reg = Ridge()\n",
    "rg_reg.fit(X_train, y_train)\n",
    "\n",
    "ls_reg = Lasso()\n",
    "ls_reg.fit(X_train, y_train)\n",
    "\n",
    "models = [lr_reg, rg_reg, ls_reg]\n",
    "check_errors(models)"
   ]
  },
  {
   "cell_type": "code",
   "execution_count": 29,
   "id": "f1a09166-02fb-4cbd-80fd-cea3b298deee",
   "metadata": {},
   "outputs": [
    {
     "data": {
      "text/plain": [
       "<AxesSubplot:>"
      ]
     },
     "execution_count": 29,
     "metadata": {},
     "output_type": "execute_result"
    },
    {
     "data": {
      "image/png": "[encoded data removed]",
      "text/plain": [
       "<Figure size 432x288 with 1 Axes>"
      ]
     },
     "metadata": {
      "needs_background": "light"
     },
     "output_type": "display_data"
    }
   ],
   "source": [
    "# 회귀계수 높은 순서대로 시각화\n",
    "coef = pd.Series(lr_reg.coef_, index=X_features.columns)\n",
    "coef_sort = coef.sort_values(ascending=False)[:10]\n",
    "sns.barplot(x=coef_sort.values, y=coef_sort.index)"
   ]
  },
  {
   "cell_type": "code",
   "execution_count": 30,
   "id": "eb8129b6-edb3-48aa-bcb5-8548da5cfa03",
   "metadata": {},
   "outputs": [],
   "source": [
    "from sklearn.preprocessing import MinMaxScaler\n",
    "\n",
    "# 데이터세트에서 y값 제거\n",
    "merged_df_x = merged_df_oh.drop(['price'],axis=1,inplace=False)\n",
    "\n",
    "# StandardScaler 객체 생성\n",
    "mm_scaler = MinMaxScaler()\n",
    "\n",
    "# StandardScaler로 데이터 세트 변환\n",
    "mm_scaler.fit(merged_df_x)\n",
    "merged_mm = mm_scaler.transform(merged_df_x)\n",
    "\n",
    "# 데이터프레임으로 변환\n",
    "merged_df_mm = pd.DataFrame(data=merged_mm, columns=merged_df_x.columns)"
   ]
  },
  {
   "cell_type": "code",
   "execution_count": 31,
   "id": "556967f1-a268-4c68-a57b-bc96d9c8769b",
   "metadata": {},
   "outputs": [
    {
     "name": "stdout",
     "output_type": "stream",
     "text": [
      "LinearRegression RMSE : 2.513 / MAE : 1.778 / MAPE : 0.134 / R2 : 0.928\n",
      "Ridge RMSE : 2.513 / MAE : 1.778 / MAPE : 0.134 / R2 : 0.928\n",
      "Lasso RMSE : 7.922 / MAE : 6.548 / MAPE : 0.545 / R2 : 0.28\n"
     ]
    },
    {
     "data": {
      "text/plain": [
       "([2.5128257736350292, 2.5128250565225896, 7.921549312031209],\n",
       " [1.777827158943693, 1.7778154697259896, 6.548447979199651],\n",
       " [0.1343145967963501, 0.13431305464485985, 0.5445170713385202],\n",
       " 0.2804989687160965)"
      ]
     },
     "execution_count": 31,
     "metadata": {},
     "output_type": "execute_result"
    }
   ],
   "source": [
    "# 데이터 분리\n",
    "y_target = merged_df_oh['price']\n",
    "X_features = merged_df_x\n",
    "\n",
    "X_train, X_test, y_train, y_test = train_test_split(X_features, y_target, test_size=0.2, random_state=0)\n",
    "\n",
    "# 학습, 예측, 평가\n",
    "lr_reg = LinearRegression()\n",
    "lr_reg.fit(X_train, y_train)\n",
    "\n",
    "rg_reg = Ridge()\n",
    "rg_reg.fit(X_train, y_train)\n",
    "\n",
    "ls_reg = Lasso()\n",
    "ls_reg.fit(X_train, y_train)\n",
    "\n",
    "models = [lr_reg, rg_reg, ls_reg]\n",
    "check_errors(models)"
   ]
  },
  {
   "cell_type": "code",
   "execution_count": 32,
   "id": "3697cadb-6f49-4115-be76-55e64cdf0d9a",
   "metadata": {},
   "outputs": [
    {
     "data": {
      "text/plain": [
       "<AxesSubplot:>"
      ]
     },
     "execution_count": 32,
     "metadata": {},
     "output_type": "execute_result"
    },
    {
     "data": {
      "image/png": "[encoded data removed]",
      "text/plain": [
       "<Figure size 432x288 with 1 Axes>"
      ]
     },
     "metadata": {
      "needs_background": "light"
     },
     "output_type": "display_data"
    }
   ],
   "source": [
    "# 회귀계수 높은 순서대로 시각화\n",
    "coef = pd.Series(lr_reg.coef_, index=X_features.columns)\n",
    "coef_sort = coef.sort_values(ascending=False)[:10]\n",
    "sns.barplot(x=coef_sort.values, y=coef_sort.index)"
   ]
  },
  {
   "cell_type": "markdown",
   "id": "4bf03857-cde4-4d9e-835f-a49395b243b2",
   "metadata": {},
   "source": [
    "---\n",
    "스케일링은 standard, minmax모두 큰 성능 변화 없었음\n",
    "\n",
    "---\n",
    "**3. 원본과 타겟의 로그변환 데이터를 이용해 다른 모델 적용**"
   ]
  },
  {
   "cell_type": "code",
   "execution_count": 33,
   "id": "535be468-394c-4a95-8bc4-8b6811a376f5",
   "metadata": {},
   "outputs": [
    {
     "name": "stdout",
     "output_type": "stream",
     "text": [
      "LinearRegression RMSE : 2.513 / MAE : 1.778 / MAPE : 0.134 / R2 : 0.928\n",
      "Ridge RMSE : 2.513 / MAE : 1.778 / MAPE : 0.134 / R2 : 0.928\n",
      "Lasso RMSE : 7.922 / MAE : 6.548 / MAPE : 0.545 / R2 : 0.28\n",
      "RandomForestRegressor RMSE : 1.863 / MAE : 1.213 / MAPE : 0.09 / R2 : 0.96\n",
      "GradientBoostingRegressor RMSE : 1.878 / MAE : 1.286 / MAPE : 0.096 / R2 : 0.96\n",
      "XGBRegressor RMSE : 1.71 / MAE : 1.132 / MAPE : 0.083 / R2 : 0.966\n"
     ]
    },
    {
     "data": {
      "text/plain": [
       "([2.5128257736350292,\n",
       "  2.5128250565225896,\n",
       "  7.921549312031209,\n",
       "  1.8628665651423215,\n",
       "  1.8782731360025717,\n",
       "  1.7098407421676476],\n",
       " [1.777827158943693,\n",
       "  1.7778154697259896,\n",
       "  6.548447979199651,\n",
       "  1.212568389488748,\n",
       "  1.2862096871520081,\n",
       "  1.1323232886638517],\n",
       " [0.1343145967963501,\n",
       "  0.13431305464485985,\n",
       "  0.5445170713385202,\n",
       "  0.08958521881330796,\n",
       "  0.09638796865261372,\n",
       "  0.08340210207372949],\n",
       " 0.9664785741586468)"
      ]
     },
     "execution_count": 33,
     "metadata": {},
     "output_type": "execute_result"
    }
   ],
   "source": [
    "from sklearn.ensemble import RandomForestRegressor, GradientBoostingRegressor\n",
    "from xgboost import XGBRegressor\n",
    "from lightgbm import LGBMRegressor\n",
    "\n",
    "# 데이터 분리\n",
    "y_target = merged_df_oh['price']\n",
    "X_features = merged_df_oh.drop(['price'],axis=1,inplace=False)\n",
    "\n",
    "X_train, X_test, y_train, y_test = train_test_split(X_features, y_target, test_size=0.2, random_state=0)\n",
    "\n",
    "# 학습, 예측, 평가\n",
    "lr_reg = LinearRegression()\n",
    "lr_reg.fit(X_train, y_train)\n",
    "\n",
    "rg_reg = Ridge()\n",
    "rg_reg.fit(X_train, y_train)\n",
    "\n",
    "ls_reg = Lasso()\n",
    "ls_reg.fit(X_train, y_train)\n",
    "\n",
    "rf_reg = RandomForestRegressor()\n",
    "rf_reg.fit(X_train, y_train)\n",
    "\n",
    "gbm_reg = GradientBoostingRegressor()\n",
    "gbm_reg.fit(X_train, y_train)\n",
    "\n",
    "xgb_reg = XGBRegressor()\n",
    "xgb_reg.fit(X_train, y_train)\n",
    "\n",
    "models = [lr_reg, rg_reg, ls_reg, rf_reg, gbm_reg, xgb_reg]\n",
    "check_errors(models)"
   ]
  },
  {
   "cell_type": "markdown",
   "id": "f9ac5d42-597e-4a75-b76b-0da0eab7efd1",
   "metadata": {},
   "source": [
    "r2는 1에 가까울수록 좋은 값\n",
    "예측 성능이 가장 좋은 것은 XGB모델\n",
    "\n",
    "로그변환한 데이터 분리, 학습, 예측, 평가"
   ]
  },
  {
   "cell_type": "code",
   "execution_count": 34,
   "id": "640b0fd7-b2a8-46db-a179-b7b63b944c26",
   "metadata": {},
   "outputs": [
    {
     "name": "stdout",
     "output_type": "stream",
     "text": [
      "LinearRegression \n",
      " RMSE : 2.139 / MAE : 1.436 / MAPE : 0.1 / R2 : 0.948\n",
      "Ridge \n",
      " RMSE : 2.139 / MAE : 1.436 / MAPE : 0.1 / R2 : 0.948\n",
      "Lasso \n",
      " RMSE : 9.601 / MAE : 7.398 / MAPE : 0.537 / R2 : -0.057\n",
      "RandomForestRegressor \n",
      " RMSE : 1.845 / MAE : 1.199 / MAPE : 0.088 / R2 : 0.961\n",
      "GradientBoostingRegressor \n",
      " RMSE : 1.938 / MAE : 1.278 / MAPE : 0.091 / R2 : 0.957\n",
      "XGBRegressor \n",
      " RMSE : 1.721 / MAE : 1.127 / MAPE : 0.082 / R2 : 0.966\n"
     ]
    },
    {
     "data": {
      "text/plain": [
       "([2.1394051660726503,\n",
       "  2.1394050099642503,\n",
       "  9.600966334183877,\n",
       "  1.8452216646322401,\n",
       "  1.9381098976754865,\n",
       "  1.7207457000316808],\n",
       " [1.436308396725177,\n",
       "  1.4363085292804838,\n",
       "  7.398186619669313,\n",
       "  1.1992770264045944,\n",
       "  1.2784441404460594,\n",
       "  1.1269646856703672],\n",
       " [0.09959134514265115,\n",
       "  0.0995914630659364,\n",
       "  0.536644638374297,\n",
       "  0.08794937784557207,\n",
       "  0.0911717965690246,\n",
       "  0.081895497825248],\n",
       " 0.9660496272725816)"
      ]
     },
     "execution_count": 34,
     "metadata": {},
     "output_type": "execute_result"
    }
   ],
   "source": [
    "# 데이터 분리\n",
    "y_target = merged_df_oh['price']\n",
    "y_log_target = np.log1p(y_target)\n",
    "X_features = merged_df_oh.drop(['price'],axis=1,inplace=False)\n",
    "\n",
    "X_train, X_test, y_train, y_test = train_test_split(X_features, y_log_target, test_size=0.2, random_state=0)\n",
    "\n",
    "# 학습, 예측, 평가\n",
    "lr_reg = LinearRegression()\n",
    "lr_reg.fit(X_train, y_train)\n",
    "\n",
    "rg_reg = Ridge()\n",
    "rg_reg.fit(X_train, y_train)\n",
    "\n",
    "ls_reg = Lasso()\n",
    "ls_reg.fit(X_train, y_train)\n",
    "\n",
    "rf_reg = RandomForestRegressor()\n",
    "rf_reg.fit(X_train, y_train)\n",
    "\n",
    "gbm_reg = GradientBoostingRegressor()\n",
    "gbm_reg.fit(X_train, y_train)\n",
    "\n",
    "xgb_reg = XGBRegressor()\n",
    "xgb_reg.fit(X_train, y_train)\n",
    "\n",
    "models = [lr_reg, rg_reg, ls_reg, rf_reg, gbm_reg, xgb_reg]\n",
    "check_errors_log(models)"
   ]
  },
  {
   "cell_type": "markdown",
   "id": "791dc1dd-6cc8-400b-8199-7f4ea244ecc0",
   "metadata": {},
   "source": [
    "### 결과\n",
    "unix 밀리초로 되어있는 시간데이터를 datetime으로 변경  \n",
    "시간과 장소를 합친 새로운 컬럼 생성  \n",
    "이렇게 만든 새로운 컬럼을 기준으로 merge  \n",
    "null값 처리, 상관관계 높은 피쳐만 추출  \n",
    "학습, 예측, 평가\n",
    "\n",
    "**정확도 높이기**\n",
    "1. 로그변환을 하면 선형회귀와 릿지는 성능이 약간 향상됨  \n",
    "2. 스케일링은 별로 효과 없었음\n",
    "\n",
    "원본데이터와 로그변환한 데이터에 대해 가장 높은 예측성능을 보인것은 XGBoost"
   ]
  }
 ],
 "metadata": {
  "kernelspec": {
   "display_name": "sona",
   "language": "python",
   "name": "sona"
  },
  "language_info": {
   "codemirror_mode": {
    "name": "ipython",
    "version": 3
   },
   "file_extension": ".py",
   "mimetype": "text/x-python",
   "name": "python",
   "nbconvert_exporter": "python",
   "pygments_lexer": "ipython3",
   "version": "3.9.4"
  }
 },
 "nbformat": 4,
 "nbformat_minor": 5
}

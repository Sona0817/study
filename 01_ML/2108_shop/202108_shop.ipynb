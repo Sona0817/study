{
 "cells": [
  {
   "cell_type": "markdown",
   "id": "87879c6c-fa49-4831-bd85-73785c3755eb",
   "metadata": {},
   "source": [
    "# shop\n",
    "# 데이터세트 합치기"
   ]
  },
  {
   "cell_type": "code",
   "execution_count": 23,
   "id": "bbdd8f24-7065-4c45-bd4e-2c387f51a311",
   "metadata": {},
   "outputs": [
    {
     "name": "stdout",
     "output_type": "stream",
     "text": [
      "/Users/limkahyun/Desktop/small\n"
     ]
    }
   ],
   "source": [
    "cd /Users/limkahyun/Desktop/small"
   ]
  },
  {
   "cell_type": "code",
   "execution_count": 31,
   "id": "a1f5fabd-e757-43fd-931a-7b633192d41d",
   "metadata": {},
   "outputs": [],
   "source": [
    "import warnings\n",
    "warnings.filterwarnings('ignore')\n",
    "\n",
    "import pandas as pd\n",
    "import numpy as np\n",
    "import seaborn as sns\n",
    "import matplotlib.pyplot as plt\n",
    "import glob\n",
    "import os\n",
    "from sklearn.model_selection import train_test_split , GridSearchCV\n",
    "from sklearn.linear_model import LinearRegression , Ridge , Lasso\n",
    "from sklearn.ensemble import RandomForestRegressor, GradientBoostingRegressor\n",
    "from xgboost import XGBRegressor\n",
    "from lightgbm import LGBMRegressor\n",
    "from sklearn.metrics import mean_squared_error, mean_absolute_error, mean_absolute_percentage_error, r2_score\n",
    "\n",
    "%matplotlib inline\n",
    "%config Completer.use_jedi = False"
   ]
  },
  {
   "cell_type": "code",
   "execution_count": 26,
   "id": "d3e08c01-f665-46af-89c9-6f76fe621671",
   "metadata": {},
   "outputs": [
    {
     "name": "stdout",
     "output_type": "stream",
     "text": [
      "['shop/2015년_우리마을가게_상권서비스_상권배후지-추정매출.csv', 'shop/2014년_우리마을가게_상권서비스_상권배후지-추정매출.csv', 'shop/2018년_우리마을가게_상권서비스_상권배후지-추정매출.csv', 'shop/2016년_우리마을가게_상권서비스_상권배후지-추정매출.csv', 'shop/2019년_우리마을가게_상권서비스_상권배후지-추정매출.csv', 'shop/2017년_우리마을가게_상권서비스_상권배후지-추정매출.csv', 'shop/2020년_우리마을가게_상권서비스_상권배후지-추정매출.csv']\n"
     ]
    }
   ],
   "source": [
    "# 여러 csv파일 하나로 합치기\n",
    "\n",
    "# 파일 모으기\n",
    "path = 'shop'\n",
    "file_all = glob.glob(path + '**/**.csv')\n",
    "\n",
    "#file_all = glob.glob('*csv')\n",
    "\n",
    "print(file_all)"
   ]
  },
  {
   "cell_type": "code",
   "execution_count": 27,
   "id": "730f0d57-34ea-4d61-9412-373dd9d1d7d1",
   "metadata": {},
   "outputs": [],
   "source": [
    "# 빈 데이터프레임을 만들어서 넣어주기\n",
    "\n",
    "dataframe = []\n",
    "\n",
    "for file in file_all:\n",
    "    df = pd.read_csv(file, encoding='cp949')\n",
    "    dataframe.append(df)\n",
    "    \n",
    "data_all = pd.concat(dataframe, axis=0)\n",
    "    \n",
    "# 다 합친 파일을 저장할 위치 및 이름\n",
    "output_file = 'shop_all.csv'\n",
    "\n",
    "# 모두 합친 데이터를 csv로 저장하기\n",
    "data_all.to_csv(output_file, index=False)"
   ]
  },
  {
   "cell_type": "markdown",
   "id": "399aa404-88a3-4022-ab82-099cfbf5e268",
   "metadata": {},
   "source": [
    "# 데이터 가공"
   ]
  },
  {
   "cell_type": "code",
   "execution_count": 4,
   "id": "07c85192-ed2d-42b0-ac01-f01b6fb81af5",
   "metadata": {},
   "outputs": [],
   "source": [
    "# 데이터 불러오기\n",
    "shop_orig = pd.read_csv('shop_all.csv')\n",
    "shop_all = shop_orig.copy()"
   ]
  },
  {
   "cell_type": "markdown",
   "id": "4fdcfdef-57fd-4322-aa32-c933330df006",
   "metadata": {},
   "source": [
    "### 점포수 0인것 1로 변환"
   ]
  },
  {
   "cell_type": "code",
   "execution_count": 29,
   "id": "a82beb99-576d-464f-ab4e-61d2ffd67bea",
   "metadata": {},
   "outputs": [
    {
     "data": {
      "text/plain": [
       "0        8657\n",
       "1       55858\n",
       "2       76972\n",
       "3       88642\n",
       "4       93505\n",
       "        ...  \n",
       "2520        1\n",
       "2546        2\n",
       "2550        1\n",
       "2592        1\n",
       "2618        1\n",
       "Name: 점포수, Length: 893, dtype: int64"
      ]
     },
     "execution_count": 29,
     "metadata": {},
     "output_type": "execute_result"
    }
   ],
   "source": [
    "shop_all['점포수'].value_counts().sort_index()"
   ]
  },
  {
   "cell_type": "code",
   "execution_count": 30,
   "id": "630c2dd5-b56d-43c1-9f96-0d98db36b90b",
   "metadata": {},
   "outputs": [
    {
     "data": {
      "text/plain": [
       "1       64515\n",
       "2       76972\n",
       "3       88642\n",
       "4       93505\n",
       "5       91103\n",
       "        ...  \n",
       "2520        1\n",
       "2546        2\n",
       "2550        1\n",
       "2592        1\n",
       "2618        1\n",
       "Name: 점포수, Length: 892, dtype: int64"
      ]
     },
     "execution_count": 30,
     "metadata": {},
     "output_type": "execute_result"
    }
   ],
   "source": [
    "# 점포수 0인것 1로 변경\n",
    "shop_all['점포수'].replace(0, 1, inplace=True)\n",
    "shop_all['점포수'].value_counts().sort_index()"
   ]
  },
  {
   "cell_type": "markdown",
   "id": "66a5bc95-b402-42ba-926e-25521316a3d2",
   "metadata": {},
   "source": [
    "### 컬럼 정리"
   ]
  },
  {
   "cell_type": "code",
   "execution_count": 32,
   "id": "065d5d2f-6f76-4883-9bd3-3f37b0232967",
   "metadata": {},
   "outputs": [],
   "source": [
    "shop_col = shop_all.copy()\n",
    "\n",
    "# 필요한 컬럼 생성\n",
    "shop_col['period'] = shop_col['기준_년_코드'].astype(str) + '-' + shop_col['기준_분기_코드'].astype(str)\n",
    "shop_col['shop'] = shop_col['상권_코드'].astype(str) + '-' + shop_col['서비스_업종_코드_명'].astype(str)\n",
    "shop_col['mean_money'] = shop_col['당월_매출_금액'] / shop_col['점포수']\n",
    "\n",
    "# 필요없는 컬럼 삭제\n",
    "shop_col.drop(['기준_년_코드', '기준_분기_코드', '상권_구분_코드', '상권_구분_코드_명', '상권_코드', '상권_코드_명',\n",
    "           '서비스_업종_코드', '서비스_업종_코드_명'], axis=1, inplace=True)"
   ]
  },
  {
   "cell_type": "code",
   "execution_count": 33,
   "id": "0af267c5-77b9-4b8d-a2ed-3564e9d051c7",
   "metadata": {},
   "outputs": [
    {
     "name": "stdout",
     "output_type": "stream",
     "text": [
      "mean_money         1.000000\n",
      "시간대_06~11_매출_금액    0.268901\n",
      "연령대_50_매출_건수       0.259353\n",
      "시간대_건수~17_매출_건수    0.253964\n",
      "연령대_40_매출_건수       0.246748\n",
      "월요일_매출_건수          0.242464\n",
      "주중_매출_금액           0.238145\n",
      "금요일_매출_건수          0.237994\n",
      "토요일_매출_건수          0.237534\n",
      "당월_매출_건수           0.237418\n",
      "주중_매출_건수           0.237238\n",
      "당월_매출_금액           0.235297\n",
      "화요일_매출_건수          0.235060\n",
      "목요일_매출_건수          0.233854\n",
      "수요일_매출_건수          0.233813\n",
      "목요일_매출_금액          0.233738\n",
      "연령대_60_이상_매출_건수    0.233410\n",
      "연령대_50_매출_금액       0.232589\n",
      "금요일_매출_금액          0.231684\n",
      "화요일_매출_금액          0.231614\n",
      "월요일_매출_금액          0.231401\n",
      "여성_매출_금액           0.231336\n",
      "수요일_매출_금액          0.228703\n",
      "여성_매출_건수           0.228550\n",
      "시간대_건수~11_매출_건수    0.226915\n",
      "시간대_건수~21_매출_건수    0.224932\n",
      "주말_매출_건수           0.224619\n",
      "남성_매출_건수           0.223159\n",
      "시간대_11~14_매출_금액    0.217179\n",
      "연령대_60_이상_매출_금액    0.213298\n",
      "Name: mean_money, dtype: float64\n",
      "\n",
      "남성_매출_금액           0.212898\n",
      "연령대_30_매출_건수       0.212243\n",
      "시간대_건수~14_매출_건수    0.208210\n",
      "연령대_30_매출_금액       0.206570\n",
      "일요일_매출_건수          0.205229\n",
      "연령대_40_매출_금액       0.195294\n",
      "시간대_14~17_매출_금액    0.191679\n",
      "토요일_매출_금액          0.190512\n",
      "시간대_17~21_매출_금액    0.190351\n",
      "주말_매출_금액           0.185795\n",
      "시간대_건수~24_매출_건수    0.174658\n",
      "일요일_매출_금액          0.171495\n",
      "연령대_20_매출_건수       0.167894\n",
      "연령대_20_매출_금액       0.163643\n",
      "시간대_06~11_매출_비율    0.161888\n",
      "시간대_건수~06_매출_건수    0.158790\n",
      "연령대_10_매출_금액       0.146147\n",
      "연령대_10_매출_건수       0.144060\n",
      "시간대_00~06_매출_금액    0.142799\n",
      "시간대_21~24_매출_금액    0.125729\n",
      "남성_매출_비율           0.066042\n",
      "시간대_11~14_매출_비율    0.032365\n",
      "연령대_60_이상_매출_비율    0.028322\n",
      "일요일_매출_비율          0.025657\n",
      "연령대_30_매출_비율       0.014007\n",
      "주말_매출_비율           0.012467\n",
      "연령대_20_매출_비율       0.002081\n",
      "금요일_매출_비율          0.001764\n",
      "월요일_매출_비율          0.000833\n",
      "화요일_매출_비율         -0.003670\n",
      "토요일_매출_비율         -0.004907\n",
      "점포수               -0.007147\n",
      "목요일_매출_비율         -0.008435\n",
      "연령대_50_매출_비율      -0.008742\n",
      "수요일_매출_비율         -0.009634\n",
      "주중_매출_비율          -0.012298\n",
      "연령대_10_매출_비율      -0.012975\n",
      "시간대_14~17_매출_비율   -0.014144\n",
      "시간대_00~06_매출_비율   -0.022861\n",
      "시간대_21~24_매출_비율   -0.027187\n",
      "연령대_40_매출_비율      -0.028035\n",
      "여성_매출_비율          -0.065964\n",
      "시간대_17~21_매출_비율   -0.083229\n",
      "Name: mean_money, dtype: float64\n"
     ]
    }
   ],
   "source": [
    "# 상관관계 확인 >> 비율은 관련이 적고 건수는 관련이 높음\n",
    "corr = shop_col.corr()\n",
    "print(corr.mean_money.sort_values(ascending=False)[:30])\n",
    "print()\n",
    "print(corr.mean_money.sort_values(ascending=False)[30:73])"
   ]
  },
  {
   "cell_type": "code",
   "execution_count": null,
   "id": "e7fa5223-80c4-41e7-b1d0-024d8716ec26",
   "metadata": {},
   "outputs": [],
   "source": [
    "shop_col.columns"
   ]
  },
  {
   "cell_type": "code",
   "execution_count": 34,
   "id": "633f6805-7867-4335-8350-d57d167433bc",
   "metadata": {},
   "outputs": [
    {
     "data": {
      "text/html": [
       "<div>\n",
       "<style scoped>\n",
       "    .dataframe tbody tr th:only-of-type {\n",
       "        vertical-align: middle;\n",
       "    }\n",
       "\n",
       "    .dataframe tbody tr th {\n",
       "        vertical-align: top;\n",
       "    }\n",
       "\n",
       "    .dataframe thead th {\n",
       "        text-align: right;\n",
       "    }\n",
       "</style>\n",
       "<table border=\"1\" class=\"dataframe\">\n",
       "  <thead>\n",
       "    <tr style=\"text-align: right;\">\n",
       "      <th></th>\n",
       "      <th>당월_매출_금액</th>\n",
       "      <th>주중_매출_금액</th>\n",
       "      <th>주말_매출_금액</th>\n",
       "      <th>남성_매출_금액</th>\n",
       "      <th>여성_매출_금액</th>\n",
       "      <th>period</th>\n",
       "      <th>shop</th>\n",
       "      <th>mean_money</th>\n",
       "    </tr>\n",
       "  </thead>\n",
       "  <tbody>\n",
       "    <tr>\n",
       "      <th>0</th>\n",
       "      <td>284484215</td>\n",
       "      <td>198729159</td>\n",
       "      <td>85755056</td>\n",
       "      <td>106969928</td>\n",
       "      <td>169353641</td>\n",
       "      <td>2015-1</td>\n",
       "      <td>1000428-제과점</td>\n",
       "      <td>4.064060e+07</td>\n",
       "    </tr>\n",
       "    <tr>\n",
       "      <th>1</th>\n",
       "      <td>12005909</td>\n",
       "      <td>9736459</td>\n",
       "      <td>2269450</td>\n",
       "      <td>4839538</td>\n",
       "      <td>6868387</td>\n",
       "      <td>2015-1</td>\n",
       "      <td>1000288-섬유제품</td>\n",
       "      <td>3.001477e+06</td>\n",
       "    </tr>\n",
       "    <tr>\n",
       "      <th>2</th>\n",
       "      <td>71547516</td>\n",
       "      <td>50879960</td>\n",
       "      <td>20667556</td>\n",
       "      <td>44823579</td>\n",
       "      <td>17296999</td>\n",
       "      <td>2015-1</td>\n",
       "      <td>1000270-자동차수리</td>\n",
       "      <td>1.022107e+07</td>\n",
       "    </tr>\n",
       "    <tr>\n",
       "      <th>3</th>\n",
       "      <td>80195548</td>\n",
       "      <td>58480589</td>\n",
       "      <td>21714959</td>\n",
       "      <td>51194195</td>\n",
       "      <td>19312565</td>\n",
       "      <td>2015-1</td>\n",
       "      <td>1000284-자동차수리</td>\n",
       "      <td>1.002444e+07</td>\n",
       "    </tr>\n",
       "    <tr>\n",
       "      <th>4</th>\n",
       "      <td>1339105488</td>\n",
       "      <td>909912741</td>\n",
       "      <td>429192747</td>\n",
       "      <td>881901743</td>\n",
       "      <td>420784068</td>\n",
       "      <td>2015-1</td>\n",
       "      <td>1000287-편의점</td>\n",
       "      <td>1.217369e+08</td>\n",
       "    </tr>\n",
       "  </tbody>\n",
       "</table>\n",
       "</div>"
      ],
      "text/plain": [
       "     당월_매출_금액   주중_매출_금액   주말_매출_금액   남성_매출_금액   여성_매출_금액  period  \\\n",
       "0   284484215  198729159   85755056  106969928  169353641  2015-1   \n",
       "1    12005909    9736459    2269450    4839538    6868387  2015-1   \n",
       "2    71547516   50879960   20667556   44823579   17296999  2015-1   \n",
       "3    80195548   58480589   21714959   51194195   19312565  2015-1   \n",
       "4  1339105488  909912741  429192747  881901743  420784068  2015-1   \n",
       "\n",
       "            shop    mean_money  \n",
       "0    1000428-제과점  4.064060e+07  \n",
       "1   1000288-섬유제품  3.001477e+06  \n",
       "2  1000270-자동차수리  1.022107e+07  \n",
       "3  1000284-자동차수리  1.002444e+07  \n",
       "4    1000287-편의점  1.217369e+08  "
      ]
     },
     "execution_count": 34,
     "metadata": {},
     "output_type": "execute_result"
    }
   ],
   "source": [
    "# 매출 금액만 남기고 모두 삭제\n",
    "shop_drop = shop_col.copy()\n",
    "shop_drop.drop(['당월_매출_건수', '주중_매출_비율', '주말_매출_비율', '월요일_매출_비율','화요일_매출_비율', '수요일_매출_비율', '목요일_매출_비율',\n",
    "                '금요일_매출_비율', '토요일_매출_비율','일요일_매출_비율', '시간대_00~06_매출_비율', '시간대_06~11_매출_비율', '시간대_11~14_매출_비율',\n",
    "                '시간대_14~17_매출_비율', '시간대_17~21_매출_비율', '시간대_21~24_매출_비율', '남성_매출_비율', '여성_매출_비율', '연령대_10_매출_비율',\n",
    "                '연령대_20_매출_비율', '연령대_30_매출_비율', '연령대_40_매출_비율', '연령대_50_매출_비율', '연령대_60_이상_매출_비율', '주중_매출_건수', \n",
    "                '주말_매출_건수', '월요일_매출_건수', '화요일_매출_건수', '수요일_매출_건수', '목요일_매출_건수', '금요일_매출_건수', '토요일_매출_건수', \n",
    "                '일요일_매출_건수', '시간대_건수~06_매출_건수', '시간대_건수~11_매출_건수', '시간대_건수~14_매출_건수', '시간대_건수~17_매출_건수', \n",
    "                '시간대_건수~21_매출_건수', '시간대_건수~24_매출_건수', '남성_매출_건수', '여성_매출_건수', '연령대_10_매출_건수', '연령대_20_매출_건수', \n",
    "                '연령대_30_매출_건수', '연령대_40_매출_건수', '연령대_50_매출_건수', '연령대_60_이상_매출_건수', '점포수', '월요일_매출_금액', '화요일_매출_금액', \n",
    "                '수요일_매출_금액', '목요일_매출_금액', '금요일_매출_금액', '토요일_매출_금액', '일요일_매출_금액', '시간대_00~06_매출_금액', \n",
    "                '시간대_06~11_매출_금액', '시간대_11~14_매출_금액', '시간대_14~17_매출_금액', '시간대_17~21_매출_금액', '시간대_21~24_매출_금액', \n",
    "                '연령대_10_매출_금액', '연령대_20_매출_금액', '연령대_30_매출_금액', '연령대_40_매출_금액', '연령대_50_매출_금액', '연령대_60_이상_매출_금액'],\n",
    "               axis=1, inplace=True)\n",
    "\n",
    "shop_drop.head()"
   ]
  },
  {
   "cell_type": "code",
   "execution_count": null,
   "id": "8cb4e639-e973-404e-bcf1-6a08907f9bbc",
   "metadata": {},
   "outputs": [],
   "source": [
    "X.shape"
   ]
  },
  {
   "cell_type": "code",
   "execution_count": 35,
   "id": "09d8e8cf-fb40-47e3-82c4-248343f090e9",
   "metadata": {},
   "outputs": [],
   "source": [
    "# 분기를 인덱스 오름차순으로 설정\n",
    "shop_drop.index = shop_drop['period']\n",
    "shop_drop = shop_drop.sort_index(ascending=True)"
   ]
  },
  {
   "cell_type": "code",
   "execution_count": 36,
   "id": "30b35842-cbaa-4bf8-b6e9-6aec0f7764e0",
   "metadata": {},
   "outputs": [
    {
     "name": "stdout",
     "output_type": "stream",
     "text": [
      "<class 'pandas.core.frame.DataFrame'>\n",
      "Index: 1434810 entries, 2014-1 to 2020-2\n",
      "Data columns (total 8 columns):\n",
      " #   Column      Non-Null Count    Dtype  \n",
      "---  ------      --------------    -----  \n",
      " 0   당월_매출_금액    1434810 non-null  int64  \n",
      " 1   주중_매출_금액    1434810 non-null  int64  \n",
      " 2   주말_매출_금액    1434810 non-null  int64  \n",
      " 3   남성_매출_금액    1434810 non-null  int64  \n",
      " 4   여성_매출_금액    1434810 non-null  int64  \n",
      " 5   period      1434810 non-null  object \n",
      " 6   shop        1434810 non-null  object \n",
      " 7   mean_money  1434810 non-null  float64\n",
      "dtypes: float64(1), int64(5), object(2)\n",
      "memory usage: 98.5+ MB\n"
     ]
    }
   ],
   "source": [
    "shop_drop.info()"
   ]
  },
  {
   "cell_type": "markdown",
   "id": "2107835f-ad6e-4b44-b636-fabd624c57c6",
   "metadata": {},
   "source": [
    "### 레이블인코딩"
   ]
  },
  {
   "cell_type": "code",
   "execution_count": 38,
   "id": "c8d9b42d-f728-4281-98b2-9c9601484b85",
   "metadata": {},
   "outputs": [],
   "source": [
    "from sklearn.preprocessing import LabelEncoder\n",
    "\n",
    "# 레이블인코딩\n",
    "enco = LabelEncoder()\n",
    "shop_drop['period'] = enco.fit_transform(shop_drop['period'])\n",
    "shop_drop['shop'] = enco.fit_transform(shop_drop['shop'])"
   ]
  },
  {
   "cell_type": "markdown",
   "id": "4e4c421d-3282-4e4b-bee5-d9a7b61a6208",
   "metadata": {},
   "source": [
    "### 함수생성"
   ]
  },
  {
   "cell_type": "code",
   "execution_count": 29,
   "id": "d4032e97-bd28-4adc-b334-c51a01b93551",
   "metadata": {},
   "outputs": [],
   "source": [
    "def get_rmse(model):\n",
    "    pred = model.predict(X_test)\n",
    "    mse = mean_squared_error(y_test, pred)\n",
    "    rmse = np.sqrt(mse)\n",
    "    return rmse\n",
    "    \n",
    "def get_mae(model):\n",
    "    pred = model.predict(X_test)\n",
    "    mae = mean_absolute_error(y_test,pred)\n",
    "    return mae\n",
    "\n",
    "def get_mape(model):\n",
    "    pred = model.predict(X_test)\n",
    "    mape = mean_absolute_percentage_error(y_test, pred)\n",
    "    return mape\n",
    "\n",
    "def get_r2(model):\n",
    "    pred = model.predict(X_test)\n",
    "    r2 = r2_score(y_test, pred)\n",
    "    return r2\n",
    "\n",
    "def check_errors(models):\n",
    "    rmses = []\n",
    "    maes = []\n",
    "    mapes = []\n",
    "    r2s = []\n",
    "    \n",
    "    for model in models:\n",
    "        rmse = get_rmse(model)\n",
    "        mae = get_mae(model)\n",
    "        mape = get_mape(model)\n",
    "        r2 = get_r2(model)\n",
    "        \n",
    "        rmses.append(rmse)\n",
    "        maes.append(mae)\n",
    "        mapes.append(mape)\n",
    "        r2s.append(r2)\n",
    "        \n",
    "        print(model.__class__.__name__, 'RMSE :', np.round(rmse, 3), '/ MAE :', np.round(mae, 3), '/ MAPE :', np.round(mape, 3), '/ R2 :', np.round(r2, 3))\n",
    "    return rmses, maes, mapes, r2"
   ]
  },
  {
   "cell_type": "markdown",
   "id": "55f8c2b4-ac85-4cc4-8a4a-3b5723fdd451",
   "metadata": {},
   "source": [
    "### 모델 학습, 예측, 평가"
   ]
  },
  {
   "cell_type": "code",
   "execution_count": 28,
   "id": "86527549-ed1c-4724-ad84-7252a6848efa",
   "metadata": {},
   "outputs": [
    {
     "ename": "NameError",
     "evalue": "name 'shop_drop' is not defined",
     "output_type": "error",
     "traceback": [
      "\u001b[0;31m---------------------------------------------------------------------------\u001b[0m",
      "\u001b[0;31mNameError\u001b[0m                                 Traceback (most recent call last)",
      "\u001b[0;32m<ipython-input-28-86142601e968>\u001b[0m in \u001b[0;36m<module>\u001b[0;34m\u001b[0m\n\u001b[1;32m      6\u001b[0m \u001b[0;34m\u001b[0m\u001b[0m\n\u001b[1;32m      7\u001b[0m \u001b[0;31m# 데이터 분리\u001b[0m\u001b[0;34m\u001b[0m\u001b[0;34m\u001b[0m\u001b[0;34m\u001b[0m\u001b[0m\n\u001b[0;32m----> 8\u001b[0;31m \u001b[0my_target\u001b[0m \u001b[0;34m=\u001b[0m \u001b[0mshop_drop\u001b[0m\u001b[0;34m[\u001b[0m\u001b[0;34m'mean_money'\u001b[0m\u001b[0;34m]\u001b[0m\u001b[0;34m\u001b[0m\u001b[0;34m\u001b[0m\u001b[0m\n\u001b[0m\u001b[1;32m      9\u001b[0m \u001b[0mX_features\u001b[0m \u001b[0;34m=\u001b[0m \u001b[0mshop_drop\u001b[0m\u001b[0;34m.\u001b[0m\u001b[0mdrop\u001b[0m\u001b[0;34m(\u001b[0m\u001b[0;34m[\u001b[0m\u001b[0;34m'mean_money'\u001b[0m\u001b[0;34m]\u001b[0m\u001b[0;34m,\u001b[0m\u001b[0maxis\u001b[0m\u001b[0;34m=\u001b[0m\u001b[0;36m1\u001b[0m\u001b[0;34m,\u001b[0m\u001b[0minplace\u001b[0m\u001b[0;34m=\u001b[0m\u001b[0;32mFalse\u001b[0m\u001b[0;34m)\u001b[0m\u001b[0;34m\u001b[0m\u001b[0;34m\u001b[0m\u001b[0m\n\u001b[1;32m     10\u001b[0m \u001b[0;34m\u001b[0m\u001b[0m\n",
      "\u001b[0;31mNameError\u001b[0m: name 'shop_drop' is not defined"
     ]
    }
   ],
   "source": [
    "# 데이터 분리\n",
    "y_target = shop_drop['mean_money']\n",
    "X_features = shop_drop.drop(['mean_money'],axis=1,inplace=False)\n",
    "\n",
    "X_train, X_test, y_train, y_test = train_test_split(X_features, y_target, test_size=0.2, random_state=0)"
   ]
  },
  {
   "cell_type": "code",
   "execution_count": 41,
   "id": "b69f5df7-d21d-4674-af51-ddb1aba1d0d0",
   "metadata": {},
   "outputs": [
    {
     "name": "stdout",
     "output_type": "stream",
     "text": [
      "LinearRegression RMSE : 114672705.171 / MAE : 46505994.151 / MAPE : 130.277 / R2 : 0.065\n",
      "Ridge RMSE : 114672708.019 / MAE : 46506018.209 / MAPE : 130.277 / R2 : 0.065\n",
      "Lasso RMSE : 114672706.373 / MAE : 46506053.325 / MAPE : 130.278 / R2 : 0.065\n",
      "XGBRegressor RMSE : 81723815.041 / MAE : 30564394.435 / MAPE : 5.723 / R2 : 0.525\n"
     ]
    },
    {
     "data": {
      "text/plain": [
       "([114672705.17064795,\n",
       "  114672708.01894775,\n",
       "  114672706.37333925,\n",
       "  81723815.04114692],\n",
       " [46505994.15113868, 46506018.20856451, 46506053.32475212, 30564394.434903163],\n",
       " [130.27715547055084,\n",
       "  130.27732406861185,\n",
       "  130.27763036533563,\n",
       "  5.722658894162153],\n",
       " 0.5251132114806714)"
      ]
     },
     "execution_count": 41,
     "metadata": {},
     "output_type": "execute_result"
    }
   ],
   "source": [
    "# 학습, 예측, 평가\n",
    "lr_reg = LinearRegression()\n",
    "lr_reg.fit(X_train, y_train)\n",
    "\n",
    "rg_reg = Ridge()\n",
    "rg_reg.fit(X_train, y_train)\n",
    "\n",
    "ls_reg = Lasso()\n",
    "ls_reg.fit(X_train, y_train)\n",
    "\n",
    "xgb_reg = XGBRegressor()\n",
    "xgb_reg.fit(X_train, y_train)\n",
    "\n",
    "models = [lr_reg, rg_reg, ls_reg, xgb_reg]\n",
    "check_errors(models)"
   ]
  },
  {
   "cell_type": "markdown",
   "id": "b3ab3e46-f506-4cf1-be49-dbbe88940897",
   "metadata": {},
   "source": [
    "## 레이블이 많아서 시간이 오래걸리고 정확도 매우 낮음 다른 방법으로 데이터 전처리 필요"
   ]
  },
  {
   "cell_type": "markdown",
   "id": "6a6e525e-af71-4227-8729-930bb7b4a5c8",
   "metadata": {},
   "source": [
    "### 다른 방법으로 데이터 전처리 시도"
   ]
  },
  {
   "cell_type": "code",
   "execution_count": 42,
   "id": "f284305c-b640-4061-a7e3-d7bc7ac89ff3",
   "metadata": {},
   "outputs": [],
   "source": [
    "shop_col2 = shop_all.copy()\n",
    "\n",
    "# 필요한 컬럼 생성\n",
    "shop_col2['period'] = shop_col2['기준_년_코드'].astype(str) + '-' + shop_col2['기준_분기_코드'].astype(str)\n",
    "shop_col2['mean_money'] = shop_col2['당월_매출_금액'] / shop_col2['점포수']"
   ]
  },
  {
   "cell_type": "code",
   "execution_count": 43,
   "id": "a27675f5-5741-45fd-b934-ffc977c9e892",
   "metadata": {},
   "outputs": [
    {
     "data": {
      "text/html": [
       "<div>\n",
       "<style scoped>\n",
       "    .dataframe tbody tr th:only-of-type {\n",
       "        vertical-align: middle;\n",
       "    }\n",
       "\n",
       "    .dataframe tbody tr th {\n",
       "        vertical-align: top;\n",
       "    }\n",
       "\n",
       "    .dataframe thead th {\n",
       "        text-align: right;\n",
       "    }\n",
       "</style>\n",
       "<table border=\"1\" class=\"dataframe\">\n",
       "  <thead>\n",
       "    <tr style=\"text-align: right;\">\n",
       "      <th></th>\n",
       "      <th>상권_코드</th>\n",
       "      <th>서비스_업종_코드_명</th>\n",
       "      <th>당월_매출_금액</th>\n",
       "      <th>주중_매출_금액</th>\n",
       "      <th>주말_매출_금액</th>\n",
       "      <th>남성_매출_금액</th>\n",
       "      <th>여성_매출_금액</th>\n",
       "      <th>period</th>\n",
       "      <th>mean_money</th>\n",
       "    </tr>\n",
       "  </thead>\n",
       "  <tbody>\n",
       "    <tr>\n",
       "      <th>0</th>\n",
       "      <td>1000428</td>\n",
       "      <td>제과점</td>\n",
       "      <td>284484215</td>\n",
       "      <td>198729159</td>\n",
       "      <td>85755056</td>\n",
       "      <td>106969928</td>\n",
       "      <td>169353641</td>\n",
       "      <td>2015-1</td>\n",
       "      <td>4.064060e+07</td>\n",
       "    </tr>\n",
       "    <tr>\n",
       "      <th>1</th>\n",
       "      <td>1000288</td>\n",
       "      <td>섬유제품</td>\n",
       "      <td>12005909</td>\n",
       "      <td>9736459</td>\n",
       "      <td>2269450</td>\n",
       "      <td>4839538</td>\n",
       "      <td>6868387</td>\n",
       "      <td>2015-1</td>\n",
       "      <td>3.001477e+06</td>\n",
       "    </tr>\n",
       "    <tr>\n",
       "      <th>2</th>\n",
       "      <td>1000270</td>\n",
       "      <td>자동차수리</td>\n",
       "      <td>71547516</td>\n",
       "      <td>50879960</td>\n",
       "      <td>20667556</td>\n",
       "      <td>44823579</td>\n",
       "      <td>17296999</td>\n",
       "      <td>2015-1</td>\n",
       "      <td>1.022107e+07</td>\n",
       "    </tr>\n",
       "    <tr>\n",
       "      <th>3</th>\n",
       "      <td>1000284</td>\n",
       "      <td>자동차수리</td>\n",
       "      <td>80195548</td>\n",
       "      <td>58480589</td>\n",
       "      <td>21714959</td>\n",
       "      <td>51194195</td>\n",
       "      <td>19312565</td>\n",
       "      <td>2015-1</td>\n",
       "      <td>1.002444e+07</td>\n",
       "    </tr>\n",
       "    <tr>\n",
       "      <th>4</th>\n",
       "      <td>1000287</td>\n",
       "      <td>편의점</td>\n",
       "      <td>1339105488</td>\n",
       "      <td>909912741</td>\n",
       "      <td>429192747</td>\n",
       "      <td>881901743</td>\n",
       "      <td>420784068</td>\n",
       "      <td>2015-1</td>\n",
       "      <td>1.217369e+08</td>\n",
       "    </tr>\n",
       "  </tbody>\n",
       "</table>\n",
       "</div>"
      ],
      "text/plain": [
       "     상권_코드 서비스_업종_코드_명    당월_매출_금액   주중_매출_금액   주말_매출_금액   남성_매출_금액  \\\n",
       "0  1000428         제과점   284484215  198729159   85755056  106969928   \n",
       "1  1000288        섬유제품    12005909    9736459    2269450    4839538   \n",
       "2  1000270       자동차수리    71547516   50879960   20667556   44823579   \n",
       "3  1000284       자동차수리    80195548   58480589   21714959   51194195   \n",
       "4  1000287         편의점  1339105488  909912741  429192747  881901743   \n",
       "\n",
       "    여성_매출_금액  period    mean_money  \n",
       "0  169353641  2015-1  4.064060e+07  \n",
       "1    6868387  2015-1  3.001477e+06  \n",
       "2   17296999  2015-1  1.022107e+07  \n",
       "3   19312565  2015-1  1.002444e+07  \n",
       "4  420784068  2015-1  1.217369e+08  "
      ]
     },
     "execution_count": 43,
     "metadata": {},
     "output_type": "execute_result"
    }
   ],
   "source": [
    "# 매출 금액만 남기고 모두 삭제\n",
    "shop_drop2 = shop_col2.copy()\n",
    "shop_drop2.drop(['기준_년_코드', '기준_분기_코드', '상권_구분_코드', '상권_구분_코드_명', '상권_코드_명', '서비스_업종_코드', '점포수',\n",
    "                '당월_매출_건수', '주중_매출_비율', '주말_매출_비율', '월요일_매출_비율','화요일_매출_비율', '수요일_매출_비율', '목요일_매출_비율',\n",
    "                '금요일_매출_비율', '토요일_매출_비율','일요일_매출_비율', '시간대_00~06_매출_비율', '시간대_06~11_매출_비율', '시간대_11~14_매출_비율',\n",
    "                '시간대_14~17_매출_비율', '시간대_17~21_매출_비율', '시간대_21~24_매출_비율', '남성_매출_비율', '여성_매출_비율', '연령대_10_매출_비율',\n",
    "                '연령대_20_매출_비율', '연령대_30_매출_비율', '연령대_40_매출_비율', '연령대_50_매출_비율', '연령대_60_이상_매출_비율', '주중_매출_건수', \n",
    "                '주말_매출_건수', '월요일_매출_건수', '화요일_매출_건수', '수요일_매출_건수', '목요일_매출_건수', '금요일_매출_건수', '토요일_매출_건수', \n",
    "                '일요일_매출_건수', '시간대_건수~06_매출_건수', '시간대_건수~11_매출_건수', '시간대_건수~14_매출_건수', '시간대_건수~17_매출_건수', \n",
    "                '시간대_건수~21_매출_건수', '시간대_건수~24_매출_건수', '남성_매출_건수', '여성_매출_건수', '연령대_10_매출_건수', '연령대_20_매출_건수', \n",
    "                '연령대_30_매출_건수', '연령대_40_매출_건수', '연령대_50_매출_건수', '연령대_60_이상_매출_건수', '월요일_매출_금액', '화요일_매출_금액', \n",
    "                '수요일_매출_금액', '목요일_매출_금액', '금요일_매출_금액', '토요일_매출_금액', '일요일_매출_금액', '시간대_00~06_매출_금액', \n",
    "                '시간대_06~11_매출_금액', '시간대_11~14_매출_금액', '시간대_14~17_매출_금액', '시간대_17~21_매출_금액', '시간대_21~24_매출_금액', \n",
    "                '연령대_10_매출_금액', '연령대_20_매출_금액', '연령대_30_매출_금액', '연령대_40_매출_금액', '연령대_50_매출_금액', '연령대_60_이상_매출_금액'],\n",
    "               axis=1, inplace=True)\n",
    "\n",
    "shop_drop2.head()"
   ]
  },
  {
   "cell_type": "code",
   "execution_count": 44,
   "id": "41138c70-ba28-4de9-99ec-cc80d3fe9f00",
   "metadata": {},
   "outputs": [
    {
     "data": {
      "text/html": [
       "<div>\n",
       "<style scoped>\n",
       "    .dataframe tbody tr th:only-of-type {\n",
       "        vertical-align: middle;\n",
       "    }\n",
       "\n",
       "    .dataframe tbody tr th {\n",
       "        vertical-align: top;\n",
       "    }\n",
       "\n",
       "    .dataframe thead th {\n",
       "        text-align: right;\n",
       "    }\n",
       "</style>\n",
       "<table border=\"1\" class=\"dataframe\">\n",
       "  <thead>\n",
       "    <tr style=\"text-align: right;\">\n",
       "      <th></th>\n",
       "      <th>상권_코드</th>\n",
       "      <th>서비스_업종_코드_명</th>\n",
       "      <th>당월_매출_금액</th>\n",
       "      <th>주중_매출_금액</th>\n",
       "      <th>주말_매출_금액</th>\n",
       "      <th>남성_매출_금액</th>\n",
       "      <th>여성_매출_금액</th>\n",
       "      <th>mean_money</th>\n",
       "    </tr>\n",
       "    <tr>\n",
       "      <th>period</th>\n",
       "      <th></th>\n",
       "      <th></th>\n",
       "      <th></th>\n",
       "      <th></th>\n",
       "      <th></th>\n",
       "      <th></th>\n",
       "      <th></th>\n",
       "      <th></th>\n",
       "    </tr>\n",
       "  </thead>\n",
       "  <tbody>\n",
       "    <tr>\n",
       "      <th>2014-1</th>\n",
       "      <td>1000560</td>\n",
       "      <td>중식음식점</td>\n",
       "      <td>12363015</td>\n",
       "      <td>7190594</td>\n",
       "      <td>5172421</td>\n",
       "      <td>5191066</td>\n",
       "      <td>4598513</td>\n",
       "      <td>6.181508e+06</td>\n",
       "    </tr>\n",
       "    <tr>\n",
       "      <th>2014-1</th>\n",
       "      <td>1000725</td>\n",
       "      <td>제과점</td>\n",
       "      <td>316665247</td>\n",
       "      <td>234156208</td>\n",
       "      <td>82509039</td>\n",
       "      <td>118884530</td>\n",
       "      <td>168038070</td>\n",
       "      <td>3.958316e+07</td>\n",
       "    </tr>\n",
       "    <tr>\n",
       "      <th>2014-1</th>\n",
       "      <td>1000063</td>\n",
       "      <td>화초</td>\n",
       "      <td>52043466</td>\n",
       "      <td>36531072</td>\n",
       "      <td>15512394</td>\n",
       "      <td>16000724</td>\n",
       "      <td>26244832</td>\n",
       "      <td>6.505433e+06</td>\n",
       "    </tr>\n",
       "    <tr>\n",
       "      <th>2014-1</th>\n",
       "      <td>1000691</td>\n",
       "      <td>여행사</td>\n",
       "      <td>26048736</td>\n",
       "      <td>26048736</td>\n",
       "      <td>0</td>\n",
       "      <td>14443127</td>\n",
       "      <td>1977252</td>\n",
       "      <td>1.532279e+06</td>\n",
       "    </tr>\n",
       "    <tr>\n",
       "      <th>2014-1</th>\n",
       "      <td>1000070</td>\n",
       "      <td>화초</td>\n",
       "      <td>60814678</td>\n",
       "      <td>45302284</td>\n",
       "      <td>15512394</td>\n",
       "      <td>27877778</td>\n",
       "      <td>23138990</td>\n",
       "      <td>8.687811e+06</td>\n",
       "    </tr>\n",
       "  </tbody>\n",
       "</table>\n",
       "</div>"
      ],
      "text/plain": [
       "          상권_코드 서비스_업종_코드_명   당월_매출_금액   주중_매출_금액  주말_매출_금액   남성_매출_금액  \\\n",
       "period                                                                   \n",
       "2014-1  1000560       중식음식점   12363015    7190594   5172421    5191066   \n",
       "2014-1  1000725         제과점  316665247  234156208  82509039  118884530   \n",
       "2014-1  1000063          화초   52043466   36531072  15512394   16000724   \n",
       "2014-1  1000691         여행사   26048736   26048736         0   14443127   \n",
       "2014-1  1000070          화초   60814678   45302284  15512394   27877778   \n",
       "\n",
       "         여성_매출_금액    mean_money  \n",
       "period                           \n",
       "2014-1    4598513  6.181508e+06  \n",
       "2014-1  168038070  3.958316e+07  \n",
       "2014-1   26244832  6.505433e+06  \n",
       "2014-1    1977252  1.532279e+06  \n",
       "2014-1   23138990  8.687811e+06  "
      ]
     },
     "execution_count": 44,
     "metadata": {},
     "output_type": "execute_result"
    }
   ],
   "source": [
    "# 분기를 인덱스 오름차순으로 설정\n",
    "shop_drop2.index = shop_drop2['period']\n",
    "shop_drop2 = shop_drop2.sort_index(ascending=True)\n",
    "shop_drop2.drop(['period'], axis=1, inplace=True)\n",
    "shop_drop2.head()"
   ]
  },
  {
   "cell_type": "markdown",
   "id": "3eb0d4d9-714b-4438-aac2-2b68d0354401",
   "metadata": {},
   "source": [
    "피벗 이용 이후 resetindex로 dataframe으로 변경하면 타임시리즈로 하기 편하다  \n",
    "이후 dropna필요  "
   ]
  },
  {
   "cell_type": "code",
   "execution_count": 45,
   "id": "d9dc19c8-f451-4bd4-b8db-b9c1c716d59a",
   "metadata": {},
   "outputs": [],
   "source": [
    "shop_group = shop_drop2.groupby([shop_drop2['상권_코드'], shop_drop2['서비스_업종_코드_명']]).mean()"
   ]
  },
  {
   "cell_type": "code",
   "execution_count": 46,
   "id": "fbe43ba8-447c-4aea-8b0f-71be49ebd419",
   "metadata": {},
   "outputs": [
    {
     "data": {
      "text/html": [
       "<div>\n",
       "<style scoped>\n",
       "    .dataframe tbody tr th:only-of-type {\n",
       "        vertical-align: middle;\n",
       "    }\n",
       "\n",
       "    .dataframe tbody tr th {\n",
       "        vertical-align: top;\n",
       "    }\n",
       "\n",
       "    .dataframe thead th {\n",
       "        text-align: right;\n",
       "    }\n",
       "</style>\n",
       "<table border=\"1\" class=\"dataframe\">\n",
       "  <thead>\n",
       "    <tr style=\"text-align: right;\">\n",
       "      <th></th>\n",
       "      <th></th>\n",
       "      <th>당월_매출_금액</th>\n",
       "      <th>주중_매출_금액</th>\n",
       "      <th>주말_매출_금액</th>\n",
       "      <th>남성_매출_금액</th>\n",
       "      <th>여성_매출_금액</th>\n",
       "      <th>mean_money</th>\n",
       "    </tr>\n",
       "    <tr>\n",
       "      <th>상권_코드</th>\n",
       "      <th>서비스_업종_코드_명</th>\n",
       "      <th></th>\n",
       "      <th></th>\n",
       "      <th></th>\n",
       "      <th></th>\n",
       "      <th></th>\n",
       "      <th></th>\n",
       "    </tr>\n",
       "  </thead>\n",
       "  <tbody>\n",
       "    <tr>\n",
       "      <th rowspan=\"5\" valign=\"top\">1000001</th>\n",
       "      <th>가구</th>\n",
       "      <td>56807859</td>\n",
       "      <td>40816993</td>\n",
       "      <td>15990865</td>\n",
       "      <td>8399734</td>\n",
       "      <td>46721004</td>\n",
       "      <td>56807859</td>\n",
       "    </tr>\n",
       "    <tr>\n",
       "      <th>가방</th>\n",
       "      <td>84372425</td>\n",
       "      <td>46616719</td>\n",
       "      <td>37755706</td>\n",
       "      <td>22286667</td>\n",
       "      <td>57884230</td>\n",
       "      <td>23201150</td>\n",
       "    </tr>\n",
       "    <tr>\n",
       "      <th>네일숍</th>\n",
       "      <td>6885714</td>\n",
       "      <td>6415126</td>\n",
       "      <td>470588</td>\n",
       "      <td>0</td>\n",
       "      <td>6885714</td>\n",
       "      <td>5150000</td>\n",
       "    </tr>\n",
       "    <tr>\n",
       "      <th>노래방</th>\n",
       "      <td>10558338</td>\n",
       "      <td>7763570</td>\n",
       "      <td>2794768</td>\n",
       "      <td>5734521</td>\n",
       "      <td>2583928</td>\n",
       "      <td>5223033</td>\n",
       "    </tr>\n",
       "    <tr>\n",
       "      <th>당구장</th>\n",
       "      <td>8484781</td>\n",
       "      <td>7262435</td>\n",
       "      <td>1222345</td>\n",
       "      <td>7913243</td>\n",
       "      <td>366528</td>\n",
       "      <td>4950255</td>\n",
       "    </tr>\n",
       "    <tr>\n",
       "      <th>...</th>\n",
       "      <th>...</th>\n",
       "      <td>...</td>\n",
       "      <td>...</td>\n",
       "      <td>...</td>\n",
       "      <td>...</td>\n",
       "      <td>...</td>\n",
       "      <td>...</td>\n",
       "    </tr>\n",
       "    <tr>\n",
       "      <th rowspan=\"5\" valign=\"top\">1001010</th>\n",
       "      <th>한의원</th>\n",
       "      <td>491689188</td>\n",
       "      <td>392654378</td>\n",
       "      <td>99034809</td>\n",
       "      <td>171947446</td>\n",
       "      <td>308448984</td>\n",
       "      <td>91302967</td>\n",
       "    </tr>\n",
       "    <tr>\n",
       "      <th>핸드폰</th>\n",
       "      <td>294042255</td>\n",
       "      <td>234089688</td>\n",
       "      <td>59952567</td>\n",
       "      <td>101523340</td>\n",
       "      <td>105452484</td>\n",
       "      <td>24727095</td>\n",
       "    </tr>\n",
       "    <tr>\n",
       "      <th>호프-간이주점</th>\n",
       "      <td>1876517907</td>\n",
       "      <td>1261520741</td>\n",
       "      <td>614997166</td>\n",
       "      <td>1227311343</td>\n",
       "      <td>548276078</td>\n",
       "      <td>28872344</td>\n",
       "    </tr>\n",
       "    <tr>\n",
       "      <th>화장품</th>\n",
       "      <td>387241111</td>\n",
       "      <td>295385096</td>\n",
       "      <td>91856015</td>\n",
       "      <td>80635191</td>\n",
       "      <td>296009847</td>\n",
       "      <td>15704358</td>\n",
       "    </tr>\n",
       "    <tr>\n",
       "      <th>화초</th>\n",
       "      <td>50762690</td>\n",
       "      <td>35041504</td>\n",
       "      <td>15721185</td>\n",
       "      <td>23126801</td>\n",
       "      <td>23391944</td>\n",
       "      <td>5245042</td>\n",
       "    </tr>\n",
       "  </tbody>\n",
       "</table>\n",
       "<p>63732 rows × 6 columns</p>\n",
       "</div>"
      ],
      "text/plain": [
       "                       당월_매출_금액    주중_매출_금액   주말_매출_금액    남성_매출_금액   여성_매출_금액  \\\n",
       "상권_코드   서비스_업종_코드_명                                                             \n",
       "1000001 가구             56807859    40816993   15990865     8399734   46721004   \n",
       "        가방             84372425    46616719   37755706    22286667   57884230   \n",
       "        네일숍             6885714     6415126     470588           0    6885714   \n",
       "        노래방            10558338     7763570    2794768     5734521    2583928   \n",
       "        당구장             8484781     7262435    1222345     7913243     366528   \n",
       "...                         ...         ...        ...         ...        ...   \n",
       "1001010 한의원           491689188   392654378   99034809   171947446  308448984   \n",
       "        핸드폰           294042255   234089688   59952567   101523340  105452484   \n",
       "        호프-간이주점      1876517907  1261520741  614997166  1227311343  548276078   \n",
       "        화장품           387241111   295385096   91856015    80635191  296009847   \n",
       "        화초             50762690    35041504   15721185    23126801   23391944   \n",
       "\n",
       "                     mean_money  \n",
       "상권_코드   서비스_업종_코드_명              \n",
       "1000001 가구             56807859  \n",
       "        가방             23201150  \n",
       "        네일숍             5150000  \n",
       "        노래방             5223033  \n",
       "        당구장             4950255  \n",
       "...                         ...  \n",
       "1001010 한의원            91302967  \n",
       "        핸드폰            24727095  \n",
       "        호프-간이주점        28872344  \n",
       "        화장품            15704358  \n",
       "        화초              5245042  \n",
       "\n",
       "[63732 rows x 6 columns]"
      ]
     },
     "execution_count": 46,
     "metadata": {},
     "output_type": "execute_result"
    }
   ],
   "source": [
    "shop_group.astype(int)"
   ]
  },
  {
   "cell_type": "markdown",
   "id": "0b60e67b-79f4-4f7b-8b34-4da0b6dc82c7",
   "metadata": {},
   "source": [
    "### 모델 학습, 예측, 평가"
   ]
  },
  {
   "cell_type": "code",
   "execution_count": 47,
   "id": "b31aa119-526a-46bb-87e7-73082e66ae57",
   "metadata": {},
   "outputs": [],
   "source": [
    "# 데이터 분리\n",
    "y = shop_group['mean_money']\n",
    "X = shop_group.drop(['mean_money'],axis=1,inplace=False)\n",
    "\n",
    "X_train, X_test, y_train, y_test = train_test_split(X, y, test_size=0.2, random_state=0)"
   ]
  },
  {
   "cell_type": "markdown",
   "id": "ea9cbdb8-5f44-420b-b804-cbd7439e1bc7",
   "metadata": {},
   "source": [
    "y값을 2020년 2분기로 줘서 예측"
   ]
  },
  {
   "cell_type": "code",
   "execution_count": 48,
   "id": "0ec99b2c-e681-4363-b42e-a7225b975c55",
   "metadata": {},
   "outputs": [
    {
     "name": "stdout",
     "output_type": "stream",
     "text": [
      "LinearRegression RMSE : 112035704.202 / MAE : 46087498.53 / MAPE : 72.519 / R2 : 0.04\n",
      "Ridge RMSE : 112035697.029 / MAE : 46088384.834 / MAPE : 72.522 / R2 : 0.04\n",
      "Lasso RMSE : 112035696.361 / MAE : 46088389.534 / MAPE : 72.522 / R2 : 0.04\n",
      "XGBRegressor RMSE : 113401830.924 / MAE : 31680953.217 / MAPE : 4.334 / R2 : 0.017\n"
     ]
    },
    {
     "data": {
      "text/plain": [
       "([112035704.20159073,\n",
       "  112035697.02931471,\n",
       "  112035696.36109258,\n",
       "  113401830.92364556],\n",
       " [46087498.53001537, 46088384.83377135, 46088389.53409105, 31680953.21724263],\n",
       " [72.51862514995781, 72.52177520523057, 72.52179224407611, 4.334067440247355],\n",
       " 0.016812153679671482)"
      ]
     },
     "execution_count": 48,
     "metadata": {},
     "output_type": "execute_result"
    }
   ],
   "source": [
    "# 학습, 예측, 평가\n",
    "lr_reg = LinearRegression()\n",
    "lr_reg.fit(X_train, y_train)\n",
    "\n",
    "rg_reg = Ridge()\n",
    "rg_reg.fit(X_train, y_train)\n",
    "\n",
    "ls_reg = Lasso()\n",
    "ls_reg.fit(X_train, y_train)\n",
    "\n",
    "xgb_reg = XGBRegressor()\n",
    "xgb_reg.fit(X_train, y_train)\n",
    "\n",
    "models = [lr_reg, rg_reg, ls_reg, xgb_reg]\n",
    "check_errors(models)"
   ]
  },
  {
   "cell_type": "markdown",
   "id": "191d30fd-e01c-48f3-9a65-644a08476fa0",
   "metadata": {},
   "source": [
    "## 정확도 높이기\n",
    "**1. 스케일링 Standard**"
   ]
  },
  {
   "cell_type": "code",
   "execution_count": 49,
   "id": "676868c4-9125-42db-ba0b-082e2507085d",
   "metadata": {},
   "outputs": [
    {
     "data": {
      "text/html": [
       "<div>\n",
       "<style scoped>\n",
       "    .dataframe tbody tr th:only-of-type {\n",
       "        vertical-align: middle;\n",
       "    }\n",
       "\n",
       "    .dataframe tbody tr th {\n",
       "        vertical-align: top;\n",
       "    }\n",
       "\n",
       "    .dataframe thead th {\n",
       "        text-align: right;\n",
       "    }\n",
       "</style>\n",
       "<table border=\"1\" class=\"dataframe\">\n",
       "  <thead>\n",
       "    <tr style=\"text-align: right;\">\n",
       "      <th></th>\n",
       "      <th>당월_매출_금액</th>\n",
       "      <th>주중_매출_금액</th>\n",
       "      <th>주말_매출_금액</th>\n",
       "      <th>남성_매출_금액</th>\n",
       "      <th>여성_매출_금액</th>\n",
       "    </tr>\n",
       "  </thead>\n",
       "  <tbody>\n",
       "    <tr>\n",
       "      <th>count</th>\n",
       "      <td>6.373200e+04</td>\n",
       "      <td>6.373200e+04</td>\n",
       "      <td>6.373200e+04</td>\n",
       "      <td>6.373200e+04</td>\n",
       "      <td>6.373200e+04</td>\n",
       "    </tr>\n",
       "    <tr>\n",
       "      <th>mean</th>\n",
       "      <td>-6.831455e-17</td>\n",
       "      <td>5.223442e-18</td>\n",
       "      <td>-8.678600e-16</td>\n",
       "      <td>-1.645654e-16</td>\n",
       "      <td>3.182319e-17</td>\n",
       "    </tr>\n",
       "    <tr>\n",
       "      <th>std</th>\n",
       "      <td>1.000008e+00</td>\n",
       "      <td>1.000008e+00</td>\n",
       "      <td>1.000008e+00</td>\n",
       "      <td>1.000008e+00</td>\n",
       "      <td>1.000008e+00</td>\n",
       "    </tr>\n",
       "    <tr>\n",
       "      <th>min</th>\n",
       "      <td>-2.342458e-01</td>\n",
       "      <td>-2.202893e-01</td>\n",
       "      <td>-2.638781e-01</td>\n",
       "      <td>-2.641479e-01</td>\n",
       "      <td>-3.314543e-01</td>\n",
       "    </tr>\n",
       "    <tr>\n",
       "      <th>25%</th>\n",
       "      <td>-2.184485e-01</td>\n",
       "      <td>-2.053161e-01</td>\n",
       "      <td>-2.408322e-01</td>\n",
       "      <td>-2.478995e-01</td>\n",
       "      <td>-3.117976e-01</td>\n",
       "    </tr>\n",
       "    <tr>\n",
       "      <th>50%</th>\n",
       "      <td>-1.731969e-01</td>\n",
       "      <td>-1.621742e-01</td>\n",
       "      <td>-2.008023e-01</td>\n",
       "      <td>-1.973587e-01</td>\n",
       "      <td>-2.534733e-01</td>\n",
       "    </tr>\n",
       "    <tr>\n",
       "      <th>75%</th>\n",
       "      <td>-2.622065e-02</td>\n",
       "      <td>-2.405781e-02</td>\n",
       "      <td>-4.015126e-02</td>\n",
       "      <td>-3.400593e-02</td>\n",
       "      <td>-3.699669e-02</td>\n",
       "    </tr>\n",
       "    <tr>\n",
       "      <th>max</th>\n",
       "      <td>1.046230e+02</td>\n",
       "      <td>1.029989e+02</td>\n",
       "      <td>9.624635e+01</td>\n",
       "      <td>1.167421e+02</td>\n",
       "      <td>5.943568e+01</td>\n",
       "    </tr>\n",
       "  </tbody>\n",
       "</table>\n",
       "</div>"
      ],
      "text/plain": [
       "           당월_매출_금액      주중_매출_금액      주말_매출_금액      남성_매출_금액      여성_매출_금액\n",
       "count  6.373200e+04  6.373200e+04  6.373200e+04  6.373200e+04  6.373200e+04\n",
       "mean  -6.831455e-17  5.223442e-18 -8.678600e-16 -1.645654e-16  3.182319e-17\n",
       "std    1.000008e+00  1.000008e+00  1.000008e+00  1.000008e+00  1.000008e+00\n",
       "min   -2.342458e-01 -2.202893e-01 -2.638781e-01 -2.641479e-01 -3.314543e-01\n",
       "25%   -2.184485e-01 -2.053161e-01 -2.408322e-01 -2.478995e-01 -3.117976e-01\n",
       "50%   -1.731969e-01 -1.621742e-01 -2.008023e-01 -1.973587e-01 -2.534733e-01\n",
       "75%   -2.622065e-02 -2.405781e-02 -4.015126e-02 -3.400593e-02 -3.699669e-02\n",
       "max    1.046230e+02  1.029989e+02  9.624635e+01  1.167421e+02  5.943568e+01"
      ]
     },
     "execution_count": 49,
     "metadata": {},
     "output_type": "execute_result"
    }
   ],
   "source": [
    "from sklearn.preprocessing import StandardScaler\n",
    "\n",
    "# 데이터에서 Y 제거\n",
    "shop_X = shop_group.drop(['mean_money'],axis=1,inplace=False)\n",
    "\n",
    "# StandardScaler 객체 생성\n",
    "st_scaler = StandardScaler()\n",
    "\n",
    "# StandardScaler로 데이터 세트 변환\n",
    "st_scaler.fit(shop_X)\n",
    "shop_st= st_scaler.transform(shop_X)\n",
    "\n",
    "# 데이터프레임으로 변환\n",
    "shop_df_st = pd.DataFrame(data=shop_st, columns=shop_X.columns)\n",
    "shop_df_st.describe()"
   ]
  },
  {
   "cell_type": "code",
   "execution_count": 50,
   "id": "55f3a851-531e-4c3e-91e2-a0331cf07c04",
   "metadata": {},
   "outputs": [],
   "source": [
    "# 데이터 분리\n",
    "y = shop_group['mean_money']\n",
    "X = shop_df_st\n",
    "\n",
    "X_train, X_test, y_train, y_test = train_test_split(X, y, test_size=0.2, random_state=0)"
   ]
  },
  {
   "cell_type": "code",
   "execution_count": 51,
   "id": "5f1383aa-202c-4b67-b1fc-2099dd5ac57a",
   "metadata": {},
   "outputs": [
    {
     "name": "stdout",
     "output_type": "stream",
     "text": [
      "LinearRegression RMSE : 112035203.474 / MAE : 46088061.393 / MAPE : 72.521 / R2 : 0.04\n",
      "Ridge RMSE : 112035056.61 / MAE : 46088926.545 / MAPE : 72.524 / R2 : 0.04\n",
      "Lasso RMSE : 112035695.594 / MAE : 46088390.16 / MAPE : 72.522 / R2 : 0.04\n",
      "XGBRegressor RMSE : 113401828.085 / MAE : 31680930.955 / MAPE : 4.334 / R2 : 0.017\n"
     ]
    },
    {
     "data": {
      "text/plain": [
       "([112035203.47417831,\n",
       "  112035056.6102494,\n",
       "  112035695.59365867,\n",
       "  113401828.08464013],\n",
       " [46088061.39272474, 46088926.54533128, 46088390.160235666, 31680930.95472988],\n",
       " [72.52080313735902, 72.52383385963958, 72.52179466175681, 4.334019387293344],\n",
       " 0.016812202907723228)"
      ]
     },
     "execution_count": 51,
     "metadata": {},
     "output_type": "execute_result"
    }
   ],
   "source": [
    "# 학습, 예측, 평가\n",
    "lr_reg = LinearRegression()\n",
    "lr_reg.fit(X_train, y_train)\n",
    "\n",
    "rg_reg = Ridge()\n",
    "rg_reg.fit(X_train, y_train)\n",
    "\n",
    "ls_reg = Lasso()\n",
    "ls_reg.fit(X_train, y_train)\n",
    "\n",
    "xgb_reg = XGBRegressor()\n",
    "xgb_reg.fit(X_train, y_train)\n",
    "\n",
    "models = [lr_reg, rg_reg, ls_reg, xgb_reg]\n",
    "check_errors(models)"
   ]
  },
  {
   "cell_type": "markdown",
   "id": "4da107c7-fafd-4a70-811d-20ba63e4c896",
   "metadata": {},
   "source": [
    "**2. 스케일링 MinMax**"
   ]
  },
  {
   "cell_type": "code",
   "execution_count": 52,
   "id": "ea1a7f78-e3ae-4ab0-aefb-e73d9a13a117",
   "metadata": {},
   "outputs": [
    {
     "data": {
      "text/html": [
       "<div>\n",
       "<style scoped>\n",
       "    .dataframe tbody tr th:only-of-type {\n",
       "        vertical-align: middle;\n",
       "    }\n",
       "\n",
       "    .dataframe tbody tr th {\n",
       "        vertical-align: top;\n",
       "    }\n",
       "\n",
       "    .dataframe thead th {\n",
       "        text-align: right;\n",
       "    }\n",
       "</style>\n",
       "<table border=\"1\" class=\"dataframe\">\n",
       "  <thead>\n",
       "    <tr style=\"text-align: right;\">\n",
       "      <th></th>\n",
       "      <th>당월_매출_금액</th>\n",
       "      <th>주중_매출_금액</th>\n",
       "      <th>주말_매출_금액</th>\n",
       "      <th>남성_매출_금액</th>\n",
       "      <th>여성_매출_금액</th>\n",
       "    </tr>\n",
       "  </thead>\n",
       "  <tbody>\n",
       "    <tr>\n",
       "      <th>count</th>\n",
       "      <td>63732.000000</td>\n",
       "      <td>63732.000000</td>\n",
       "      <td>63732.000000</td>\n",
       "      <td>63732.000000</td>\n",
       "      <td>63732.000000</td>\n",
       "    </tr>\n",
       "    <tr>\n",
       "      <th>mean</th>\n",
       "      <td>0.002234</td>\n",
       "      <td>0.002134</td>\n",
       "      <td>0.002734</td>\n",
       "      <td>0.002258</td>\n",
       "      <td>0.005546</td>\n",
       "    </tr>\n",
       "    <tr>\n",
       "      <th>std</th>\n",
       "      <td>0.009537</td>\n",
       "      <td>0.009688</td>\n",
       "      <td>0.010362</td>\n",
       "      <td>0.008547</td>\n",
       "      <td>0.016732</td>\n",
       "    </tr>\n",
       "    <tr>\n",
       "      <th>min</th>\n",
       "      <td>0.000000</td>\n",
       "      <td>0.000000</td>\n",
       "      <td>0.000000</td>\n",
       "      <td>0.000000</td>\n",
       "      <td>0.000000</td>\n",
       "    </tr>\n",
       "    <tr>\n",
       "      <th>25%</th>\n",
       "      <td>0.000151</td>\n",
       "      <td>0.000145</td>\n",
       "      <td>0.000239</td>\n",
       "      <td>0.000139</td>\n",
       "      <td>0.000329</td>\n",
       "    </tr>\n",
       "    <tr>\n",
       "      <th>50%</th>\n",
       "      <td>0.000582</td>\n",
       "      <td>0.000563</td>\n",
       "      <td>0.000654</td>\n",
       "      <td>0.000571</td>\n",
       "      <td>0.001305</td>\n",
       "    </tr>\n",
       "    <tr>\n",
       "      <th>75%</th>\n",
       "      <td>0.001984</td>\n",
       "      <td>0.001901</td>\n",
       "      <td>0.002318</td>\n",
       "      <td>0.001967</td>\n",
       "      <td>0.004927</td>\n",
       "    </tr>\n",
       "    <tr>\n",
       "      <th>max</th>\n",
       "      <td>1.000000</td>\n",
       "      <td>1.000000</td>\n",
       "      <td>1.000000</td>\n",
       "      <td>1.000000</td>\n",
       "      <td>1.000000</td>\n",
       "    </tr>\n",
       "  </tbody>\n",
       "</table>\n",
       "</div>"
      ],
      "text/plain": [
       "           당월_매출_금액      주중_매출_금액      주말_매출_금액      남성_매출_금액      여성_매출_금액\n",
       "count  63732.000000  63732.000000  63732.000000  63732.000000  63732.000000\n",
       "mean       0.002234      0.002134      0.002734      0.002258      0.005546\n",
       "std        0.009537      0.009688      0.010362      0.008547      0.016732\n",
       "min        0.000000      0.000000      0.000000      0.000000      0.000000\n",
       "25%        0.000151      0.000145      0.000239      0.000139      0.000329\n",
       "50%        0.000582      0.000563      0.000654      0.000571      0.001305\n",
       "75%        0.001984      0.001901      0.002318      0.001967      0.004927\n",
       "max        1.000000      1.000000      1.000000      1.000000      1.000000"
      ]
     },
     "execution_count": 52,
     "metadata": {},
     "output_type": "execute_result"
    }
   ],
   "source": [
    "from sklearn.preprocessing import MinMaxScaler\n",
    "\n",
    "# 데이터에서 Y 제거\n",
    "shop_X = shop_group.drop(['mean_money'],axis=1,inplace=False)\n",
    "\n",
    "# StandardScaler 객체 생성\n",
    "mm_scaler = MinMaxScaler()\n",
    "\n",
    "# StandardScaler로 데이터 세트 변환\n",
    "mm_scaler.fit(shop_X)\n",
    "shop_mm= mm_scaler.transform(shop_X)\n",
    "\n",
    "# 데이터프레임으로 변환\n",
    "shop_df_mm = pd.DataFrame(data=shop_mm, columns=shop_X.columns)\n",
    "shop_df_mm.describe()"
   ]
  },
  {
   "cell_type": "code",
   "execution_count": 53,
   "id": "d43e13a0-d9b7-4327-9906-703aed50816c",
   "metadata": {},
   "outputs": [],
   "source": [
    "# 데이터 분리\n",
    "y = shop_group['mean_money']\n",
    "X = shop_df_mm\n",
    "\n",
    "X_train, X_test, y_train, y_test = train_test_split(X, y, test_size=0.2, random_state=0)"
   ]
  },
  {
   "cell_type": "code",
   "execution_count": 54,
   "id": "2b4b45ee-75bb-4aad-b3a3-cbef564ad6d1",
   "metadata": {},
   "outputs": [
    {
     "name": "stdout",
     "output_type": "stream",
     "text": [
      "LinearRegression RMSE : 112035333.002 / MAE : 46087972.919 / MAPE : 72.521 / R2 : 0.04\n",
      "Ridge RMSE : 111920847.558 / MAE : 47321178.691 / MAPE : 75.742 / R2 : 0.042\n",
      "Lasso RMSE : 112035621.442 / MAE : 46088445.306 / MAPE : 72.522 / R2 : 0.04\n",
      "XGBRegressor RMSE : 113401830.924 / MAE : 31680953.217 / MAPE : 4.334 / R2 : 0.017\n"
     ]
    },
    {
     "data": {
      "text/plain": [
       "([112035333.00151774,\n",
       "  111920847.55789173,\n",
       "  112035621.44232838,\n",
       "  113401830.92364556],\n",
       " [46087972.91853351, 47321178.69146059, 46088445.30624713, 31680953.21724263],\n",
       " [72.52054860584292, 75.74177572790029, 72.52200418462323, 4.334067440247355],\n",
       " 0.016812153679671482)"
      ]
     },
     "execution_count": 54,
     "metadata": {},
     "output_type": "execute_result"
    }
   ],
   "source": [
    "# 학습, 예측, 평가\n",
    "lr_reg = LinearRegression()\n",
    "lr_reg.fit(X_train, y_train)\n",
    "\n",
    "rg_reg = Ridge()\n",
    "rg_reg.fit(X_train, y_train)\n",
    "\n",
    "ls_reg = Lasso()\n",
    "ls_reg.fit(X_train, y_train)\n",
    "\n",
    "xgb_reg = XGBRegressor()\n",
    "xgb_reg.fit(X_train, y_train)\n",
    "\n",
    "models = [lr_reg, rg_reg, ls_reg, xgb_reg]\n",
    "check_errors(models)"
   ]
  },
  {
   "cell_type": "markdown",
   "id": "76218e9f-b2ea-4da9-aa77-40b1e280ff0f",
   "metadata": {},
   "source": [
    "**3. y값 정규분포화**"
   ]
  },
  {
   "cell_type": "code",
   "execution_count": 55,
   "id": "d65f8e9b-ac2f-41fc-b720-de085bff7adf",
   "metadata": {},
   "outputs": [],
   "source": [
    "y_log = np.log1p(shop_group['mean_money'])"
   ]
  },
  {
   "cell_type": "code",
   "execution_count": 56,
   "id": "54e4510f-6bd5-4b3f-b4ed-0ef89136df7c",
   "metadata": {},
   "outputs": [],
   "source": [
    "# 타겟값을 로그변환한 것을 사용했기 때문에 테스트 데이터 세트의 타겟값과 예측값을 로그변환 이전으로 돌려주는 식 추가\n",
    "def get_rmse_log(model):\n",
    "    pred = model.predict(X_test)\n",
    "    y_test_exp = np.expm1(y_test)\n",
    "    pred_exp = np.expm1(pred)\n",
    "    \n",
    "    mse = mean_squared_error(y_test_exp, pred_exp)\n",
    "    rmse = np.sqrt(mse)\n",
    "    return rmse\n",
    "    \n",
    "def get_mae_log(model):\n",
    "    pred = model.predict(X_test)\n",
    "    y_test_exp = np.expm1(y_test)\n",
    "    pred_exp = np.expm1(pred)\n",
    "    \n",
    "    mae = mean_absolute_error(y_test_exp, pred_exp)\n",
    "    return mae\n",
    "\n",
    "def get_mape_log(model):\n",
    "    pred = model.predict(X_test)\n",
    "    y_test_exp = np.expm1(y_test)\n",
    "    pred_exp = np.expm1(pred)\n",
    "    \n",
    "    mape = mean_absolute_percentage_error(y_test_exp, pred_exp)\n",
    "    return mape\n",
    "\n",
    "def get_r2_log(model):\n",
    "    pred = model.predict(X_test)\n",
    "    y_test_exp = np.expm1(y_test)\n",
    "    pred_exp = np.expm1(pred)\n",
    "    \n",
    "    r2 = r2_score(y_test_exp, pred_exp)\n",
    "    return r2\n",
    "\n",
    "def check_errors_log(models):\n",
    "    rmses = []\n",
    "    maes = []\n",
    "    mapes = []\n",
    "    r2s = []\n",
    "    \n",
    "    for model in models:\n",
    "        rmse = get_rmse_log(model)\n",
    "        mae = get_mae_log(model)\n",
    "        mape = get_mape_log(model)\n",
    "        r2 = get_r2_log(model)\n",
    "        \n",
    "        rmses.append(rmse)\n",
    "        maes.append(mae)\n",
    "        mapes.append(mape)\n",
    "        r2s.append(r2)\n",
    "        \n",
    "        print(model.__class__.__name__, '\\n RMSE :', np.round(rmse, 3), '/ MAE :', np.round(mae, 3), '/ MAPE :', np.round(mape, 3), '/ R2 :', np.round(r2, 3))\n",
    "    return rmses, maes, mapes, r2"
   ]
  },
  {
   "cell_type": "code",
   "execution_count": 57,
   "id": "f484a4ea-c015-4435-bb08-a0fd059bc4fc",
   "metadata": {},
   "outputs": [],
   "source": [
    "# 데이터 분리\n",
    "y = shop_group['mean_money']\n",
    "X = shop_group.drop(['mean_money'],axis=1,inplace=False)\n",
    "\n",
    "X_train, X_test, y_train, y_test = train_test_split(X, y_log, test_size=0.2, random_state=0)"
   ]
  },
  {
   "cell_type": "code",
   "execution_count": 58,
   "id": "dcce516d-631f-4866-9a2e-69c874207ff0",
   "metadata": {},
   "outputs": [
    {
     "name": "stdout",
     "output_type": "stream",
     "text": [
      "LinearRegression \n",
      " RMSE : 3.7569026432576646e+17 / MAE : 3334628893309276.0 / MAPE : 19114076.839 / R2 : -1.0790864771793439e+19\n",
      "Ridge \n",
      " RMSE : 3.75893871667061e+17 / MAE : 3336434938231050.0 / MAPE : 19124428.446 / R2 : -1.0802564274601865e+19\n",
      "Lasso \n",
      " RMSE : 3.758897791173181e+17 / MAE : 3336398628499945.5 / MAPE : 19124220.327 / R2 : -1.0802329049745551e+19\n",
      "XGBRegressor \n",
      " RMSE : 86636844.149 / MAE : 28356330.124 / MAPE : 0.743 / R2 : 0.426\n"
     ]
    },
    {
     "data": {
      "text/plain": [
       "([3.7569026432576646e+17,\n",
       "  3.75893871667061e+17,\n",
       "  3.758897791173181e+17,\n",
       "  86636844.14889964],\n",
       " [3334628893309276.0,\n",
       "  3336434938231050.0,\n",
       "  3336398628499945.5,\n",
       "  28356330.123626236],\n",
       " [19114076.83903057, 19124428.445548214, 19124220.32673951, 0.742703632212272],\n",
       " 0.42614573096493047)"
      ]
     },
     "execution_count": 58,
     "metadata": {},
     "output_type": "execute_result"
    }
   ],
   "source": [
    "# 학습, 예측, 평가\n",
    "lr_reg = LinearRegression()\n",
    "lr_reg.fit(X_train, y_train)\n",
    "\n",
    "rg_reg = Ridge()\n",
    "rg_reg.fit(X_train, y_train)\n",
    "\n",
    "ls_reg = Lasso()\n",
    "ls_reg.fit(X_train, y_train)\n",
    "\n",
    "xgb_reg = XGBRegressor()\n",
    "xgb_reg.fit(X_train, y_train)\n",
    "\n",
    "models = [lr_reg, rg_reg, ls_reg, xgb_reg]\n",
    "check_errors_log(models)"
   ]
  },
  {
   "cell_type": "markdown",
   "id": "fdf0c94f-969c-4428-8c24-3609aa5ec26a",
   "metadata": {},
   "source": [
    "# 결과\n",
    "y값을 정규분포화  \n",
    "groupby('상권_코드', '서비스_업종_코드_명')  \n",
    "XGBoost로 수행했을 때 가장 좋은 예측값 도출"
   ]
  },
  {
   "cell_type": "markdown",
   "id": "5317b9f6-91ee-47e0-b802-e7f4a9301e75",
   "metadata": {},
   "source": [
    "## 원핫인코딩으로 수행"
   ]
  },
  {
   "cell_type": "code",
   "execution_count": 3,
   "id": "747e48eb-9a2c-4e10-9aee-7102c6664a90",
   "metadata": {},
   "outputs": [],
   "source": [
    "# 데이터 불러오기\n",
    "shop_orig = pd.read_csv('shop_all.csv')\n",
    "shop_all = shop_orig.copy()\n",
    "\n",
    "# 점포수 0인것 1로 변경\n",
    "shop_all['점포수'].replace(0, 1, inplace=True)\n",
    "shop_all['점포수'].value_counts().sort_index()\n",
    "\n",
    "# 필요한 컬럼 생성\n",
    "shop_col = shop_all.copy()\n",
    "shop_col['period'] = shop_col['기준_년_코드'].astype(str) + '-' + shop_col['기준_분기_코드'].astype(str)\n",
    "shop_col['mean_money'] = shop_col['당월_매출_금액'] / shop_col['점포수']\n",
    "\n",
    "# 필요없는 컬럼 삭제\n",
    "shop_col.drop(['기준_년_코드', '기준_분기_코드', '상권_구분_코드', '상권_구분_코드_명', '상권_코드_명',\n",
    "           '서비스_업종_코드'], axis=1, inplace=True)"
   ]
  },
  {
   "cell_type": "code",
   "execution_count": 4,
   "id": "93d59f59-e05c-4f00-9ea6-53a69b052382",
   "metadata": {},
   "outputs": [
    {
     "data": {
      "text/html": [
       "<div>\n",
       "<style scoped>\n",
       "    .dataframe tbody tr th:only-of-type {\n",
       "        vertical-align: middle;\n",
       "    }\n",
       "\n",
       "    .dataframe tbody tr th {\n",
       "        vertical-align: top;\n",
       "    }\n",
       "\n",
       "    .dataframe thead th {\n",
       "        text-align: right;\n",
       "    }\n",
       "</style>\n",
       "<table border=\"1\" class=\"dataframe\">\n",
       "  <thead>\n",
       "    <tr style=\"text-align: right;\">\n",
       "      <th></th>\n",
       "      <th>상권_코드</th>\n",
       "      <th>서비스_업종_코드_명</th>\n",
       "      <th>당월_매출_금액</th>\n",
       "      <th>주중_매출_금액</th>\n",
       "      <th>주말_매출_금액</th>\n",
       "      <th>남성_매출_금액</th>\n",
       "      <th>여성_매출_금액</th>\n",
       "      <th>period</th>\n",
       "      <th>mean_money</th>\n",
       "    </tr>\n",
       "  </thead>\n",
       "  <tbody>\n",
       "    <tr>\n",
       "      <th>0</th>\n",
       "      <td>1000428</td>\n",
       "      <td>제과점</td>\n",
       "      <td>284484215</td>\n",
       "      <td>198729159</td>\n",
       "      <td>85755056</td>\n",
       "      <td>106969928</td>\n",
       "      <td>169353641</td>\n",
       "      <td>2015-1</td>\n",
       "      <td>4.064060e+07</td>\n",
       "    </tr>\n",
       "    <tr>\n",
       "      <th>1</th>\n",
       "      <td>1000288</td>\n",
       "      <td>섬유제품</td>\n",
       "      <td>12005909</td>\n",
       "      <td>9736459</td>\n",
       "      <td>2269450</td>\n",
       "      <td>4839538</td>\n",
       "      <td>6868387</td>\n",
       "      <td>2015-1</td>\n",
       "      <td>3.001477e+06</td>\n",
       "    </tr>\n",
       "    <tr>\n",
       "      <th>2</th>\n",
       "      <td>1000270</td>\n",
       "      <td>자동차수리</td>\n",
       "      <td>71547516</td>\n",
       "      <td>50879960</td>\n",
       "      <td>20667556</td>\n",
       "      <td>44823579</td>\n",
       "      <td>17296999</td>\n",
       "      <td>2015-1</td>\n",
       "      <td>1.022107e+07</td>\n",
       "    </tr>\n",
       "    <tr>\n",
       "      <th>3</th>\n",
       "      <td>1000284</td>\n",
       "      <td>자동차수리</td>\n",
       "      <td>80195548</td>\n",
       "      <td>58480589</td>\n",
       "      <td>21714959</td>\n",
       "      <td>51194195</td>\n",
       "      <td>19312565</td>\n",
       "      <td>2015-1</td>\n",
       "      <td>1.002444e+07</td>\n",
       "    </tr>\n",
       "    <tr>\n",
       "      <th>4</th>\n",
       "      <td>1000287</td>\n",
       "      <td>편의점</td>\n",
       "      <td>1339105488</td>\n",
       "      <td>909912741</td>\n",
       "      <td>429192747</td>\n",
       "      <td>881901743</td>\n",
       "      <td>420784068</td>\n",
       "      <td>2015-1</td>\n",
       "      <td>1.217369e+08</td>\n",
       "    </tr>\n",
       "  </tbody>\n",
       "</table>\n",
       "</div>"
      ],
      "text/plain": [
       "     상권_코드 서비스_업종_코드_명    당월_매출_금액   주중_매출_금액   주말_매출_금액   남성_매출_금액  \\\n",
       "0  1000428         제과점   284484215  198729159   85755056  106969928   \n",
       "1  1000288        섬유제품    12005909    9736459    2269450    4839538   \n",
       "2  1000270       자동차수리    71547516   50879960   20667556   44823579   \n",
       "3  1000284       자동차수리    80195548   58480589   21714959   51194195   \n",
       "4  1000287         편의점  1339105488  909912741  429192747  881901743   \n",
       "\n",
       "    여성_매출_금액  period    mean_money  \n",
       "0  169353641  2015-1  4.064060e+07  \n",
       "1    6868387  2015-1  3.001477e+06  \n",
       "2   17296999  2015-1  1.022107e+07  \n",
       "3   19312565  2015-1  1.002444e+07  \n",
       "4  420784068  2015-1  1.217369e+08  "
      ]
     },
     "execution_count": 4,
     "metadata": {},
     "output_type": "execute_result"
    }
   ],
   "source": [
    "# 매출 금액만 남기고 모두 삭제\n",
    "shop_drop3 = shop_col.copy()\n",
    "shop_drop3.drop(['당월_매출_건수', '주중_매출_비율', '주말_매출_비율', '월요일_매출_비율','화요일_매출_비율', '수요일_매출_비율', '목요일_매출_비율',\n",
    "                '금요일_매출_비율', '토요일_매출_비율','일요일_매출_비율', '시간대_00~06_매출_비율', '시간대_06~11_매출_비율', '시간대_11~14_매출_비율',\n",
    "                '시간대_14~17_매출_비율', '시간대_17~21_매출_비율', '시간대_21~24_매출_비율', '남성_매출_비율', '여성_매출_비율', '연령대_10_매출_비율',\n",
    "                '연령대_20_매출_비율', '연령대_30_매출_비율', '연령대_40_매출_비율', '연령대_50_매출_비율', '연령대_60_이상_매출_비율', '주중_매출_건수', \n",
    "                '주말_매출_건수', '월요일_매출_건수', '화요일_매출_건수', '수요일_매출_건수', '목요일_매출_건수', '금요일_매출_건수', '토요일_매출_건수', \n",
    "                '일요일_매출_건수', '시간대_건수~06_매출_건수', '시간대_건수~11_매출_건수', '시간대_건수~14_매출_건수', '시간대_건수~17_매출_건수', \n",
    "                '시간대_건수~21_매출_건수', '시간대_건수~24_매출_건수', '남성_매출_건수', '여성_매출_건수', '연령대_10_매출_건수', '연령대_20_매출_건수', \n",
    "                '연령대_30_매출_건수', '연령대_40_매출_건수', '연령대_50_매출_건수', '연령대_60_이상_매출_건수', '점포수', '월요일_매출_금액', '화요일_매출_금액', \n",
    "                '수요일_매출_금액', '목요일_매출_금액', '금요일_매출_금액', '토요일_매출_금액', '일요일_매출_금액', '시간대_00~06_매출_금액', \n",
    "                '시간대_06~11_매출_금액', '시간대_11~14_매출_금액', '시간대_14~17_매출_금액', '시간대_17~21_매출_금액', '시간대_21~24_매출_금액', \n",
    "                '연령대_10_매출_금액', '연령대_20_매출_금액', '연령대_30_매출_금액', '연령대_40_매출_금액', '연령대_50_매출_금액', '연령대_60_이상_매출_금액'],\n",
    "               axis=1, inplace=True)\n",
    "\n",
    "shop_drop3.head()"
   ]
  },
  {
   "cell_type": "code",
   "execution_count": 5,
   "id": "38644ec2-c2fa-4565-a6f5-48ed665ad026",
   "metadata": {},
   "outputs": [
    {
     "data": {
      "text/html": [
       "<div>\n",
       "<style scoped>\n",
       "    .dataframe tbody tr th:only-of-type {\n",
       "        vertical-align: middle;\n",
       "    }\n",
       "\n",
       "    .dataframe tbody tr th {\n",
       "        vertical-align: top;\n",
       "    }\n",
       "\n",
       "    .dataframe thead th {\n",
       "        text-align: right;\n",
       "    }\n",
       "</style>\n",
       "<table border=\"1\" class=\"dataframe\">\n",
       "  <thead>\n",
       "    <tr style=\"text-align: right;\">\n",
       "      <th></th>\n",
       "      <th>상권_코드</th>\n",
       "      <th>서비스_업종_코드_명</th>\n",
       "      <th>당월_매출_금액</th>\n",
       "      <th>주중_매출_금액</th>\n",
       "      <th>주말_매출_금액</th>\n",
       "      <th>남성_매출_금액</th>\n",
       "      <th>여성_매출_금액</th>\n",
       "      <th>mean_money</th>\n",
       "    </tr>\n",
       "    <tr>\n",
       "      <th>period</th>\n",
       "      <th></th>\n",
       "      <th></th>\n",
       "      <th></th>\n",
       "      <th></th>\n",
       "      <th></th>\n",
       "      <th></th>\n",
       "      <th></th>\n",
       "      <th></th>\n",
       "    </tr>\n",
       "  </thead>\n",
       "  <tbody>\n",
       "    <tr>\n",
       "      <th>2014-1</th>\n",
       "      <td>1000560</td>\n",
       "      <td>중식음식점</td>\n",
       "      <td>12363015</td>\n",
       "      <td>7190594</td>\n",
       "      <td>5172421</td>\n",
       "      <td>5191066</td>\n",
       "      <td>4598513</td>\n",
       "      <td>6.181508e+06</td>\n",
       "    </tr>\n",
       "    <tr>\n",
       "      <th>2014-1</th>\n",
       "      <td>1000725</td>\n",
       "      <td>제과점</td>\n",
       "      <td>316665247</td>\n",
       "      <td>234156208</td>\n",
       "      <td>82509039</td>\n",
       "      <td>118884530</td>\n",
       "      <td>168038070</td>\n",
       "      <td>3.958316e+07</td>\n",
       "    </tr>\n",
       "    <tr>\n",
       "      <th>2014-1</th>\n",
       "      <td>1000063</td>\n",
       "      <td>화초</td>\n",
       "      <td>52043466</td>\n",
       "      <td>36531072</td>\n",
       "      <td>15512394</td>\n",
       "      <td>16000724</td>\n",
       "      <td>26244832</td>\n",
       "      <td>6.505433e+06</td>\n",
       "    </tr>\n",
       "    <tr>\n",
       "      <th>2014-1</th>\n",
       "      <td>1000691</td>\n",
       "      <td>여행사</td>\n",
       "      <td>26048736</td>\n",
       "      <td>26048736</td>\n",
       "      <td>0</td>\n",
       "      <td>14443127</td>\n",
       "      <td>1977252</td>\n",
       "      <td>1.532279e+06</td>\n",
       "    </tr>\n",
       "    <tr>\n",
       "      <th>2014-1</th>\n",
       "      <td>1000070</td>\n",
       "      <td>화초</td>\n",
       "      <td>60814678</td>\n",
       "      <td>45302284</td>\n",
       "      <td>15512394</td>\n",
       "      <td>27877778</td>\n",
       "      <td>23138990</td>\n",
       "      <td>8.687811e+06</td>\n",
       "    </tr>\n",
       "  </tbody>\n",
       "</table>\n",
       "</div>"
      ],
      "text/plain": [
       "          상권_코드 서비스_업종_코드_명   당월_매출_금액   주중_매출_금액  주말_매출_금액   남성_매출_금액  \\\n",
       "period                                                                   \n",
       "2014-1  1000560       중식음식점   12363015    7190594   5172421    5191066   \n",
       "2014-1  1000725         제과점  316665247  234156208  82509039  118884530   \n",
       "2014-1  1000063          화초   52043466   36531072  15512394   16000724   \n",
       "2014-1  1000691         여행사   26048736   26048736         0   14443127   \n",
       "2014-1  1000070          화초   60814678   45302284  15512394   27877778   \n",
       "\n",
       "         여성_매출_금액    mean_money  \n",
       "period                           \n",
       "2014-1    4598513  6.181508e+06  \n",
       "2014-1  168038070  3.958316e+07  \n",
       "2014-1   26244832  6.505433e+06  \n",
       "2014-1    1977252  1.532279e+06  \n",
       "2014-1   23138990  8.687811e+06  "
      ]
     },
     "execution_count": 5,
     "metadata": {},
     "output_type": "execute_result"
    }
   ],
   "source": [
    "# 분기를 인덱스 오름차순으로 설정\n",
    "shop_drop3.index = shop_drop3['period']\n",
    "shop_drop3 = shop_drop3.sort_index(ascending=True)\n",
    "shop_drop3.drop(['period'], axis=1, inplace=True)\n",
    "shop_drop3.head()"
   ]
  },
  {
   "cell_type": "code",
   "execution_count": 6,
   "id": "8ed0ff47-6dfc-4f03-a04a-1c7dac578fac",
   "metadata": {},
   "outputs": [
    {
     "name": "stdout",
     "output_type": "stream",
     "text": [
      "<class 'pandas.core.frame.DataFrame'>\n",
      "Index: 1434810 entries, 2014-1 to 2020-2\n",
      "Data columns (total 8 columns):\n",
      " #   Column       Non-Null Count    Dtype  \n",
      "---  ------       --------------    -----  \n",
      " 0   상권_코드        1434810 non-null  int64  \n",
      " 1   서비스_업종_코드_명  1434810 non-null  object \n",
      " 2   당월_매출_금액     1434810 non-null  int64  \n",
      " 3   주중_매출_금액     1434810 non-null  int64  \n",
      " 4   주말_매출_금액     1434810 non-null  int64  \n",
      " 5   남성_매출_금액     1434810 non-null  int64  \n",
      " 6   여성_매출_금액     1434810 non-null  int64  \n",
      " 7   mean_money   1434810 non-null  float64\n",
      "dtypes: float64(1), int64(6), object(1)\n",
      "memory usage: 98.5+ MB\n"
     ]
    }
   ],
   "source": [
    "shop_drop3.info()"
   ]
  },
  {
   "cell_type": "code",
   "execution_count": 1,
   "id": "15c19f91-2dec-4d2a-8c54-228c03973f8b",
   "metadata": {},
   "outputs": [
    {
     "ename": "NameError",
     "evalue": "name 'pd' is not defined",
     "output_type": "error",
     "traceback": [
      "\u001b[0;31m---------------------------------------------------------------------------\u001b[0m",
      "\u001b[0;31mNameError\u001b[0m                                 Traceback (most recent call last)",
      "\u001b[0;32m<ipython-input-1-a147d0cd37f1>\u001b[0m in \u001b[0;36m<module>\u001b[0;34m\u001b[0m\n\u001b[1;32m      5\u001b[0m \u001b[0;31m# shop_oh = oh_enco.fit_transform(shop_drop3)\u001b[0m\u001b[0;34m\u001b[0m\u001b[0;34m\u001b[0m\u001b[0;34m\u001b[0m\u001b[0m\n\u001b[1;32m      6\u001b[0m \u001b[0;34m\u001b[0m\u001b[0m\n\u001b[0;32m----> 7\u001b[0;31m \u001b[0mshop_oh\u001b[0m \u001b[0;34m=\u001b[0m \u001b[0mpd\u001b[0m\u001b[0;34m.\u001b[0m\u001b[0mget_dummies\u001b[0m\u001b[0;34m(\u001b[0m\u001b[0mshop_drop3\u001b[0m\u001b[0;34m,\u001b[0m \u001b[0mcolumns\u001b[0m\u001b[0;34m=\u001b[0m\u001b[0;34m[\u001b[0m\u001b[0;34m'서비스_업종_코드_명'\u001b[0m\u001b[0;34m]\u001b[0m\u001b[0;34m)\u001b[0m\u001b[0;34m\u001b[0m\u001b[0;34m\u001b[0m\u001b[0m\n\u001b[0m",
      "\u001b[0;31mNameError\u001b[0m: name 'pd' is not defined"
     ]
    }
   ],
   "source": [
    "from sklearn.preprocessing import OneHotEncoder\n",
    "\n",
    "# 원핫인코딩 수행\n",
    "# oh_enco = OneHotEncoder()\n",
    "# shop_oh = oh_enco.fit_transform(shop_drop3)\n",
    "\n",
    "shop_oh = pd.get_dummies(shop_drop3, columns=['서비스_업종_코드_명'], drop_first=True)"
   ]
  },
  {
   "cell_type": "code",
   "execution_count": 8,
   "id": "b5f8a487-3e64-4243-90a4-0fd6c03ca8db",
   "metadata": {},
   "outputs": [
    {
     "name": "stdout",
     "output_type": "stream",
     "text": [
      "원핫인코딩 수행 전 shape :  (1434810, 8)\n",
      "원핫인코딩 수행 후 shape :  (1434810, 89)\n"
     ]
    }
   ],
   "source": [
    "print('원핫인코딩 수행 전 shape : ', shop_drop3.shape)\n",
    "print('원핫인코딩 수행 후 shape : ', shop_oh.shape)"
   ]
  },
  {
   "cell_type": "markdown",
   "id": "1f229c73-e09b-4f5b-bd39-674d4e5a3e68",
   "metadata": {},
   "source": [
    "### 차원축소 Truncated SVD\n",
    "1. 스케일링 적용 >> 스케일링 적용했더니 값이 너무 안나와서 적용안함\n",
    "2. tsvd변환\n",
    "3. tsvd변환 된 데이터 모델학습, 예측, 평가"
   ]
  },
  {
   "cell_type": "code",
   "execution_count": 9,
   "id": "04f7929c-8dbb-49fb-83d4-f426ec6bebe1",
   "metadata": {},
   "outputs": [],
   "source": [
    "# 차원축소 전 데이터 X, y로 나누기\n",
    "shop_X = shop_oh.drop(['mean_money'],axis=1,inplace=False)\n",
    "shop_y = shop_oh['mean_money']"
   ]
  },
  {
   "cell_type": "code",
   "execution_count": 37,
   "id": "258c1622-9519-41ba-8695-6d6f25f61bff",
   "metadata": {},
   "outputs": [],
   "source": [
    "from sklearn.decomposition import TruncatedSVD\n",
    "\n",
    "# 원핫인코딩으로 인해 희소행렬이 되었기 때문에 PCA는 사용할 수 없고 SVD 사용\n",
    "# 그중에서도 truncatedSVD 사용\n",
    "tsvd = TruncatedSVD(n_components=4)"
   ]
  },
  {
   "cell_type": "code",
   "execution_count": 38,
   "id": "7a944578-520d-4330-9630-c276d9fadb31",
   "metadata": {},
   "outputs": [
    {
     "name": "stdout",
     "output_type": "stream",
     "text": [
      "원핫인코딩 수행 후 shape :  (1434810, 89)\n",
      "TruncatedSVD 수행 후 shap :  (1434810, 4)\n",
      "컴포넌트 영향 :  [0.9573 0.0307 0.0089 0.0031]\n"
     ]
    }
   ],
   "source": [
    "tsvd.fit(shop_X)\n",
    "shop_tsvd = tsvd.transform(shop_X)\n",
    "print('원핫인코딩 수행 후 shape : ', shop_oh.shape)\n",
    "print('TruncatedSVD 수행 후 shap : ', shop_tsvd.shape)\n",
    "print('컴포넌트 영향 : ', np.round(tsvd.explained_variance_ratio_, 4))"
   ]
  },
  {
   "cell_type": "code",
   "execution_count": 41,
   "id": "94ec813d-763f-46cb-ae8e-8f85925ceb70",
   "metadata": {},
   "outputs": [
    {
     "name": "stdout",
     "output_type": "stream",
     "text": [
      "선택할 차원 수 :  4\n"
     ]
    }
   ],
   "source": [
    "# cumsum은 누적된 값 불러오는 함수\n",
    "cumsum = np.cumsum(tsvd.explained_variance_ratio_)\n",
    "\n",
    "# argmax는 해당 인덱스 불러옴 인덱스가 0부터 시작해서 +1 필요\n",
    "d = np.argmax(cumsum >= 0.99999) + 1\n",
    "print('선택할 차원 수 : ', d)"
   ]
  },
  {
   "cell_type": "markdown",
   "id": "e8404e56-402a-4d74-a0fb-8e123303254d",
   "metadata": {},
   "source": [
    "### 모델 학습, 예측, 평가"
   ]
  },
  {
   "cell_type": "code",
   "execution_count": 39,
   "id": "66f71d9d-d143-43ec-a0a9-3a7350d823d1",
   "metadata": {},
   "outputs": [],
   "source": [
    "# 데이터 분리\n",
    "y = shop_y\n",
    "X = shop_tsvd\n",
    "\n",
    "X_train, X_test, y_train, y_test = train_test_split(X, y, test_size=0.2, random_state=0)"
   ]
  },
  {
   "cell_type": "code",
   "execution_count": 40,
   "id": "5e4e2bb9-c33b-45fc-a169-45ef897b812d",
   "metadata": {},
   "outputs": [
    {
     "name": "stdout",
     "output_type": "stream",
     "text": [
      "LinearRegression RMSE : 114687396.028 / MAE : 46524744.536 / MAPE : 131.052 / R2 : 0.065\n",
      "Ridge RMSE : 114687396.028 / MAE : 46524744.536 / MAPE : 131.052 / R2 : 0.065\n",
      "Lasso RMSE : 114687396.028 / MAE : 46524744.536 / MAPE : 131.052 / R2 : 0.065\n",
      "XGBRegressor RMSE : 88998677.683 / MAE : 31283274.343 / MAPE : 3.497 / R2 : 0.437\n"
     ]
    },
    {
     "data": {
      "text/plain": [
       "([114687396.02808376, 114687396.02808376, 114687396.02808376, 88998677.683244],\n",
       " [46524744.53582884, 46524744.53582882, 46524744.535828866, 31283274.34279958],\n",
       " [131.05173983580355,\n",
       "  131.05173983580332,\n",
       "  131.05173983580372,\n",
       "  3.4970715393543577],\n",
       " 0.43680352068674955)"
      ]
     },
     "execution_count": 40,
     "metadata": {},
     "output_type": "execute_result"
    }
   ],
   "source": [
    "# 학습, 예측, 평가\n",
    "lr_reg = LinearRegression()\n",
    "lr_reg.fit(X_train, y_train)\n",
    "\n",
    "rg_reg = Ridge()\n",
    "rg_reg.fit(X_train, y_train)\n",
    "\n",
    "ls_reg = Lasso()\n",
    "ls_reg.fit(X_train, y_train)\n",
    "\n",
    "xgb_reg = XGBRegressor()\n",
    "xgb_reg.fit(X_train, y_train)\n",
    "\n",
    "models = [lr_reg, rg_reg, ls_reg, xgb_reg]\n",
    "check_errors(models)"
   ]
  },
  {
   "cell_type": "code",
   "execution_count": null,
   "id": "a86719ed-6a95-417d-bb82-3d77ea40d1f4",
   "metadata": {},
   "outputs": [],
   "source": []
  },
  {
   "cell_type": "code",
   "execution_count": null,
   "id": "c7578e56-f4bd-41e3-a8b7-e27019b07a9f",
   "metadata": {},
   "outputs": [],
   "source": []
  },
  {
   "cell_type": "code",
   "execution_count": null,
   "id": "7d2d31ff-6663-4df2-acde-70433abf1558",
   "metadata": {},
   "outputs": [],
   "source": []
  },
  {
   "cell_type": "code",
   "execution_count": null,
   "id": "31005bc3-34d3-48da-85bb-a324900b1b8c",
   "metadata": {},
   "outputs": [],
   "source": []
  }
 ],
 "metadata": {
  "kernelspec": {
   "display_name": "sona",
   "language": "python",
   "name": "sona"
  },
  "language_info": {
   "codemirror_mode": {
    "name": "ipython",
    "version": 3
   },
   "file_extension": ".py",
   "mimetype": "text/x-python",
   "name": "python",
   "nbconvert_exporter": "python",
   "pygments_lexer": "ipython3",
   "version": "3.9.4"
  }
 },
 "nbformat": 4,
 "nbformat_minor": 5
}

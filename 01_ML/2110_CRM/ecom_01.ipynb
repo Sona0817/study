{
 "cells": [
  {
   "cell_type": "markdown",
   "id": "424c138b-bf27-4bfe-83a4-0bcf40d3c713",
   "metadata": {},
   "source": [
    "# E-commerce 쇼핑 \n",
    "RFM은 구매의 최근성(Recency), 구매 빈도(Frequency), 총 구매 금액 (Monetary)의 약자  \n",
    "RFM을 기준으로 고객 분류 알고리즘  \n",
    "\n",
    "2876 rows  \n",
    "## 1. 데이터 불러오기"
   ]
  },
  {
   "cell_type": "code",
   "execution_count": 1,
   "id": "4171a202-ef84-48b0-ae8a-acf18da018b1",
   "metadata": {
    "tags": []
   },
   "outputs": [],
   "source": [
    "import warnings\n",
    "warnings.filterwarnings('ignore')\n",
    "\n",
    "import pandas as pd\n",
    "import numpy as np\n",
    "import matplotlib.pyplot as plt\n",
    "import seaborn as sns\n",
    "%matplotlib inline\n",
    "\n",
    "pd.set_option('display.max_columns', 500)"
   ]
  },
  {
   "cell_type": "code",
   "execution_count": 2,
   "id": "680eb7da-aaac-4a2e-9c4b-a231df0ff5b5",
   "metadata": {
    "tags": []
   },
   "outputs": [],
   "source": [
    "df_org = pd.read_csv('order_data_202110.csv')\n",
    "# df"
   ]
  },
  {
   "cell_type": "code",
   "execution_count": 3,
   "id": "d833fc8a-54c5-413b-9877-ff0aa8572b96",
   "metadata": {},
   "outputs": [
    {
     "name": "stdout",
     "output_type": "stream",
     "text": [
      "<class 'pandas.core.frame.DataFrame'>\n",
      "RangeIndex: 2877 entries, 0 to 2876\n",
      "Data columns (total 16 columns):\n",
      " #   Column       Non-Null Count  Dtype  \n",
      "---  ------       --------------  -----  \n",
      " 0   주문번호         2877 non-null   object \n",
      " 1   품목별 주문번호     2877 non-null   object \n",
      " 2   총 주문금액       2877 non-null   float64\n",
      " 3   총 결제금액       2877 non-null   float64\n",
      " 4   상품번호         2877 non-null   int64  \n",
      " 5   주문상품명        2877 non-null   object \n",
      " 6   주문상품명(옵션포함)  2877 non-null   object \n",
      " 7   수량           2877 non-null   int64  \n",
      " 8   판매가          2877 non-null   float64\n",
      " 9   수령인          2877 non-null   int64  \n",
      " 10  수령인 우편번호     2877 non-null   object \n",
      " 11  수령인 주소       2874 non-null   object \n",
      " 12  결제구분         2877 non-null   object \n",
      " 13  결제수단         2877 non-null   object \n",
      " 14  발주일          2830 non-null   object \n",
      " 15  배송국가         4 non-null      object \n",
      "dtypes: float64(3), int64(3), object(10)\n",
      "memory usage: 359.8+ KB\n"
     ]
    }
   ],
   "source": [
    "df_org.info()"
   ]
  },
  {
   "cell_type": "markdown",
   "id": "a2be147b-7133-44ac-b2f2-aff5561c4a19",
   "metadata": {},
   "source": [
    "## 2. EDA\n",
    "### 2-1. 원본데이터"
   ]
  },
  {
   "cell_type": "code",
   "execution_count": 4,
   "id": "318f52a7-c19c-4d8c-b0ae-35a6d62e3693",
   "metadata": {
    "tags": []
   },
   "outputs": [],
   "source": [
    "df = df_org.copy()\n",
    "df2 = pd.DataFrame(df['주문상품명(옵션포함)'].str.split('수량=').tolist(), columns=['상품명', '옵션수량'])\n",
    "\n",
    "# 수량 정리\n",
    "df2['옵션수량'] = df2['옵션수량'].str[:1]\n",
    "df['옵션수량'] = df2['옵션수량']\n",
    "df['옵션수량'] = pd.to_numeric(df['옵션수량'])\n",
    "df['옵션수량'] = df['옵션수량'].fillna(1)\n",
    "df['결제구분'] = df['결제구분'].map({'T': 1, 'F': 0})\n",
    "df['수량'] = df['수량'] * df['결제구분']\n",
    "df['총수량'] = df['수량'] * df['옵션수량']\n",
    "\n",
    "# 지난 거래일까지의 일수 구하기\n",
    "df['지난발주일'] = df.groupby(['수령인'])['발주일'].shift(1)\n",
    "df['발주일'] = pd.to_datetime(df['발주일'])\n",
    "df['지난발주일'] = pd.to_datetime(df['지난발주일'])\n",
    "df['거래경과일수'] = df['발주일'] - df['지난발주일']\n",
    "df['거래경과일수'] = df['거래경과일수'].dt.days\n",
    "df['거래경과일수'] = df['거래경과일수'].replace(-1, 0)\n",
    "\n",
    "# 실결제금액\n",
    "df['실결제금액'] = df['총 주문금액'] * df['결제구분']\n",
    "\n",
    "# 0값\n",
    "df = df.fillna(0)"
   ]
  },
  {
   "cell_type": "code",
   "execution_count": 5,
   "id": "b98dc238-e7f7-4a2c-a3b2-2d45727c6ce9",
   "metadata": {
    "tags": []
   },
   "outputs": [
    {
     "name": "stdout",
     "output_type": "stream",
     "text": [
      "<class 'pandas.core.frame.DataFrame'>\n",
      "RangeIndex: 2877 entries, 0 to 2876\n",
      "Data columns (total 21 columns):\n",
      " #   Column       Non-Null Count  Dtype  \n",
      "---  ------       --------------  -----  \n",
      " 0   주문번호         2877 non-null   object \n",
      " 1   품목별 주문번호     2877 non-null   object \n",
      " 2   총 주문금액       2877 non-null   float64\n",
      " 3   총 결제금액       2877 non-null   float64\n",
      " 4   상품번호         2877 non-null   int64  \n",
      " 5   주문상품명        2877 non-null   object \n",
      " 6   주문상품명(옵션포함)  2877 non-null   object \n",
      " 7   수량           2877 non-null   int64  \n",
      " 8   판매가          2877 non-null   float64\n",
      " 9   수령인          2877 non-null   int64  \n",
      " 10  수령인 우편번호     2877 non-null   object \n",
      " 11  수령인 주소       2877 non-null   object \n",
      " 12  결제구분         2877 non-null   int64  \n",
      " 13  결제수단         2877 non-null   object \n",
      " 14  발주일          2877 non-null   object \n",
      " 15  배송국가         2877 non-null   object \n",
      " 16  옵션수량         2877 non-null   float64\n",
      " 17  총수량          2877 non-null   float64\n",
      " 18  지난발주일        2877 non-null   object \n",
      " 19  거래경과일수       2877 non-null   float64\n",
      " 20  실결제금액        2877 non-null   float64\n",
      "dtypes: float64(7), int64(4), object(10)\n",
      "memory usage: 472.1+ KB\n"
     ]
    }
   ],
   "source": [
    "df.info()"
   ]
  },
  {
   "cell_type": "markdown",
   "id": "6a04c8fe-a54f-466c-86eb-3193ce3cd8b7",
   "metadata": {},
   "source": [
    "### 2-2. 상품 데이터 (goods)"
   ]
  },
  {
   "cell_type": "code",
   "execution_count": 6,
   "id": "cfdabdef-ca6d-414f-96cc-5cd94a5b7985",
   "metadata": {},
   "outputs": [
    {
     "data": {
      "text/html": [
       "<div>\n",
       "<style scoped>\n",
       "    .dataframe tbody tr th:only-of-type {\n",
       "        vertical-align: middle;\n",
       "    }\n",
       "\n",
       "    .dataframe tbody tr th {\n",
       "        vertical-align: top;\n",
       "    }\n",
       "\n",
       "    .dataframe thead th {\n",
       "        text-align: right;\n",
       "    }\n",
       "</style>\n",
       "<table border=\"1\" class=\"dataframe\">\n",
       "  <thead>\n",
       "    <tr style=\"text-align: right;\">\n",
       "      <th></th>\n",
       "      <th>상품번호</th>\n",
       "      <th>판매가</th>\n",
       "      <th>총판매수량</th>\n",
       "      <th>누적판매금액</th>\n",
       "    </tr>\n",
       "  </thead>\n",
       "  <tbody>\n",
       "    <tr>\n",
       "      <th>0</th>\n",
       "      <td>64</td>\n",
       "      <td>5500</td>\n",
       "      <td>2</td>\n",
       "      <td>11000</td>\n",
       "    </tr>\n",
       "    <tr>\n",
       "      <th>1</th>\n",
       "      <td>96</td>\n",
       "      <td>69900</td>\n",
       "      <td>4048</td>\n",
       "      <td>282955200</td>\n",
       "    </tr>\n",
       "    <tr>\n",
       "      <th>2</th>\n",
       "      <td>101</td>\n",
       "      <td>17900</td>\n",
       "      <td>94</td>\n",
       "      <td>1682600</td>\n",
       "    </tr>\n",
       "    <tr>\n",
       "      <th>3</th>\n",
       "      <td>103</td>\n",
       "      <td>19800</td>\n",
       "      <td>198</td>\n",
       "      <td>3920400</td>\n",
       "    </tr>\n",
       "    <tr>\n",
       "      <th>4</th>\n",
       "      <td>105</td>\n",
       "      <td>35200</td>\n",
       "      <td>18</td>\n",
       "      <td>633600</td>\n",
       "    </tr>\n",
       "    <tr>\n",
       "      <th>5</th>\n",
       "      <td>106</td>\n",
       "      <td>49900</td>\n",
       "      <td>26</td>\n",
       "      <td>1297400</td>\n",
       "    </tr>\n",
       "    <tr>\n",
       "      <th>6</th>\n",
       "      <td>115</td>\n",
       "      <td>19900</td>\n",
       "      <td>112</td>\n",
       "      <td>2228800</td>\n",
       "    </tr>\n",
       "    <tr>\n",
       "      <th>7</th>\n",
       "      <td>116</td>\n",
       "      <td>29500</td>\n",
       "      <td>3</td>\n",
       "      <td>88500</td>\n",
       "    </tr>\n",
       "    <tr>\n",
       "      <th>8</th>\n",
       "      <td>118</td>\n",
       "      <td>22200</td>\n",
       "      <td>210</td>\n",
       "      <td>4662000</td>\n",
       "    </tr>\n",
       "    <tr>\n",
       "      <th>9</th>\n",
       "      <td>119</td>\n",
       "      <td>99900</td>\n",
       "      <td>9</td>\n",
       "      <td>899100</td>\n",
       "    </tr>\n",
       "    <tr>\n",
       "      <th>10</th>\n",
       "      <td>121</td>\n",
       "      <td>60000</td>\n",
       "      <td>4</td>\n",
       "      <td>240000</td>\n",
       "    </tr>\n",
       "    <tr>\n",
       "      <th>11</th>\n",
       "      <td>127</td>\n",
       "      <td>34100</td>\n",
       "      <td>2</td>\n",
       "      <td>68200</td>\n",
       "    </tr>\n",
       "    <tr>\n",
       "      <th>12</th>\n",
       "      <td>133</td>\n",
       "      <td>178000</td>\n",
       "      <td>162</td>\n",
       "      <td>28836000</td>\n",
       "    </tr>\n",
       "    <tr>\n",
       "      <th>13</th>\n",
       "      <td>134</td>\n",
       "      <td>27500</td>\n",
       "      <td>2</td>\n",
       "      <td>55000</td>\n",
       "    </tr>\n",
       "  </tbody>\n",
       "</table>\n",
       "</div>"
      ],
      "text/plain": [
       "    상품번호     판매가  총판매수량     누적판매금액\n",
       "0     64    5500      2      11000\n",
       "1     96   69900   4048  282955200\n",
       "2    101   17900     94    1682600\n",
       "3    103   19800    198    3920400\n",
       "4    105   35200     18     633600\n",
       "5    106   49900     26    1297400\n",
       "6    115   19900    112    2228800\n",
       "7    116   29500      3      88500\n",
       "8    118   22200    210    4662000\n",
       "9    119   99900      9     899100\n",
       "10   121   60000      4     240000\n",
       "11   127   34100      2      68200\n",
       "12   133  178000    162   28836000\n",
       "13   134   27500      2      55000"
      ]
     },
     "execution_count": 6,
     "metadata": {},
     "output_type": "execute_result"
    }
   ],
   "source": [
    "# 상품별 결제금액, 총결제금액, 총수량\n",
    "df_goods_sum = df.groupby('상품번호').sum()\n",
    "df_goods_sum.reset_index(inplace=True)\n",
    "df_goods_sum = df_goods_sum.astype(int)\n",
    "\n",
    "# 상품별 판매가\n",
    "df_goods_mean = df.groupby('상품번호').mean()\n",
    "df_goods_mean.reset_index(inplace=True)\n",
    "df_goods_mean = df_goods_mean.astype(int)\n",
    "\n",
    "# 상품정보\n",
    "goods = pd.DataFrame()\n",
    "goods['상품번호'] = df_goods_mean['상품번호']\n",
    "# goods['mean_상품번호'] = df_mean['상품번호']\n",
    "goods['판매가'] = df_goods_mean['판매가']\n",
    "goods['총판매수량'] = df_goods_sum['총수량']\n",
    "goods['누적판매금액'] = goods['판매가'] * goods['총판매수량']\n",
    "goods"
   ]
  },
  {
   "cell_type": "code",
   "execution_count": 7,
   "id": "d3db22fa-3c6b-4c49-9ea8-5de889a9a5a3",
   "metadata": {
    "tags": []
   },
   "outputs": [
    {
     "data": {
      "text/plain": [
       "<AxesSubplot:xlabel='상품번호', ylabel='누적판매금액'>"
      ]
     },
     "execution_count": 7,
     "metadata": {},
     "output_type": "execute_result"
    },
    {
     "data": {
      "image/png": "[encoded data removed]",
      "text/plain": [
       "<Figure size 432x288 with 1 Axes>"
      ]
     },
     "metadata": {
      "needs_background": "light"
     },
     "output_type": "display_data"
    }
   ],
   "source": [
    "# best goods\n",
    "sns.barplot(x='상품번호', y='누적판매금액', data=goods)"
   ]
  },
  {
   "cell_type": "code",
   "execution_count": 8,
   "id": "ef65d10c-9bb9-482e-8f4b-a994a8f7d242",
   "metadata": {
    "tags": []
   },
   "outputs": [
    {
     "data": {
      "text/plain": [
       "<AxesSubplot:xlabel='상품번호', ylabel='총판매수량'>"
      ]
     },
     "execution_count": 8,
     "metadata": {},
     "output_type": "execute_result"
    },
    {
     "data": {
      "image/png": "[encoded data removed]",
      "text/plain": [
       "<Figure size 432x288 with 1 Axes>"
      ]
     },
     "metadata": {
      "needs_background": "light"
     },
     "output_type": "display_data"
    }
   ],
   "source": [
    "sns.barplot(x='상품번호', y='총판매수량', data=goods)"
   ]
  },
  {
   "cell_type": "markdown",
   "id": "e5ed84b8-3f79-46fe-9259-ef80c7b573e0",
   "metadata": {},
   "source": [
    "### 2-3. 고객 데이터 (customer)"
   ]
  },
  {
   "cell_type": "code",
   "execution_count": 9,
   "id": "baf5f659-1331-45fc-823f-8b8bdb962106",
   "metadata": {},
   "outputs": [
    {
     "data": {
      "text/html": [
       "<div>\n",
       "<style scoped>\n",
       "    .dataframe tbody tr th:only-of-type {\n",
       "        vertical-align: middle;\n",
       "    }\n",
       "\n",
       "    .dataframe tbody tr th {\n",
       "        vertical-align: top;\n",
       "    }\n",
       "\n",
       "    .dataframe thead th {\n",
       "        text-align: right;\n",
       "    }\n",
       "</style>\n",
       "<table border=\"1\" class=\"dataframe\">\n",
       "  <thead>\n",
       "    <tr style=\"text-align: right;\">\n",
       "      <th></th>\n",
       "      <th>수령인</th>\n",
       "      <th>총 주문금액</th>\n",
       "      <th>총 결제금액</th>\n",
       "      <th>상품번호</th>\n",
       "      <th>수량</th>\n",
       "      <th>판매가</th>\n",
       "      <th>결제구분</th>\n",
       "      <th>옵션수량</th>\n",
       "      <th>총수량</th>\n",
       "      <th>거래경과일수</th>\n",
       "      <th>실결제금액</th>\n",
       "    </tr>\n",
       "  </thead>\n",
       "  <tbody>\n",
       "    <tr>\n",
       "      <th>0</th>\n",
       "      <td>0</td>\n",
       "      <td>73000</td>\n",
       "      <td>73000</td>\n",
       "      <td>355</td>\n",
       "      <td>1</td>\n",
       "      <td>69500</td>\n",
       "      <td>1</td>\n",
       "      <td>3</td>\n",
       "      <td>1</td>\n",
       "      <td>0</td>\n",
       "      <td>19800</td>\n",
       "    </tr>\n",
       "    <tr>\n",
       "      <th>1</th>\n",
       "      <td>1</td>\n",
       "      <td>69900</td>\n",
       "      <td>69900</td>\n",
       "      <td>96</td>\n",
       "      <td>1</td>\n",
       "      <td>69900</td>\n",
       "      <td>1</td>\n",
       "      <td>1</td>\n",
       "      <td>1</td>\n",
       "      <td>0</td>\n",
       "      <td>69900</td>\n",
       "    </tr>\n",
       "    <tr>\n",
       "      <th>2</th>\n",
       "      <td>2</td>\n",
       "      <td>125800</td>\n",
       "      <td>122800</td>\n",
       "      <td>96</td>\n",
       "      <td>1</td>\n",
       "      <td>69900</td>\n",
       "      <td>1</td>\n",
       "      <td>2</td>\n",
       "      <td>2</td>\n",
       "      <td>0</td>\n",
       "      <td>125800</td>\n",
       "    </tr>\n",
       "    <tr>\n",
       "      <th>3</th>\n",
       "      <td>3</td>\n",
       "      <td>69900</td>\n",
       "      <td>67900</td>\n",
       "      <td>96</td>\n",
       "      <td>1</td>\n",
       "      <td>69900</td>\n",
       "      <td>1</td>\n",
       "      <td>1</td>\n",
       "      <td>1</td>\n",
       "      <td>0</td>\n",
       "      <td>69900</td>\n",
       "    </tr>\n",
       "    <tr>\n",
       "      <th>4</th>\n",
       "      <td>4</td>\n",
       "      <td>69900</td>\n",
       "      <td>67900</td>\n",
       "      <td>96</td>\n",
       "      <td>1</td>\n",
       "      <td>69900</td>\n",
       "      <td>1</td>\n",
       "      <td>1</td>\n",
       "      <td>1</td>\n",
       "      <td>0</td>\n",
       "      <td>69900</td>\n",
       "    </tr>\n",
       "    <tr>\n",
       "      <th>...</th>\n",
       "      <td>...</td>\n",
       "      <td>...</td>\n",
       "      <td>...</td>\n",
       "      <td>...</td>\n",
       "      <td>...</td>\n",
       "      <td>...</td>\n",
       "      <td>...</td>\n",
       "      <td>...</td>\n",
       "      <td>...</td>\n",
       "      <td>...</td>\n",
       "      <td>...</td>\n",
       "    </tr>\n",
       "    <tr>\n",
       "      <th>2055</th>\n",
       "      <td>2055</td>\n",
       "      <td>191200</td>\n",
       "      <td>187200</td>\n",
       "      <td>214</td>\n",
       "      <td>2</td>\n",
       "      <td>92100</td>\n",
       "      <td>2</td>\n",
       "      <td>2</td>\n",
       "      <td>2</td>\n",
       "      <td>0</td>\n",
       "      <td>191200</td>\n",
       "    </tr>\n",
       "    <tr>\n",
       "      <th>2056</th>\n",
       "      <td>2056</td>\n",
       "      <td>126000</td>\n",
       "      <td>124000</td>\n",
       "      <td>96</td>\n",
       "      <td>1</td>\n",
       "      <td>69900</td>\n",
       "      <td>1</td>\n",
       "      <td>2</td>\n",
       "      <td>2</td>\n",
       "      <td>0</td>\n",
       "      <td>126000</td>\n",
       "    </tr>\n",
       "    <tr>\n",
       "      <th>2057</th>\n",
       "      <td>2057</td>\n",
       "      <td>126000</td>\n",
       "      <td>123500</td>\n",
       "      <td>96</td>\n",
       "      <td>1</td>\n",
       "      <td>69900</td>\n",
       "      <td>1</td>\n",
       "      <td>2</td>\n",
       "      <td>2</td>\n",
       "      <td>0</td>\n",
       "      <td>126000</td>\n",
       "    </tr>\n",
       "    <tr>\n",
       "      <th>2058</th>\n",
       "      <td>2058</td>\n",
       "      <td>44500</td>\n",
       "      <td>42500</td>\n",
       "      <td>118</td>\n",
       "      <td>1</td>\n",
       "      <td>22200</td>\n",
       "      <td>1</td>\n",
       "      <td>1</td>\n",
       "      <td>1</td>\n",
       "      <td>0</td>\n",
       "      <td>44500</td>\n",
       "    </tr>\n",
       "    <tr>\n",
       "      <th>2059</th>\n",
       "      <td>2059</td>\n",
       "      <td>291200</td>\n",
       "      <td>287200</td>\n",
       "      <td>199</td>\n",
       "      <td>2</td>\n",
       "      <td>89700</td>\n",
       "      <td>2</td>\n",
       "      <td>3</td>\n",
       "      <td>3</td>\n",
       "      <td>0</td>\n",
       "      <td>291200</td>\n",
       "    </tr>\n",
       "  </tbody>\n",
       "</table>\n",
       "<p>2060 rows × 11 columns</p>\n",
       "</div>"
      ],
      "text/plain": [
       "       수령인  총 주문금액  총 결제금액  상품번호  수량    판매가  결제구분  옵션수량  총수량  거래경과일수   실결제금액\n",
       "0        0   73000   73000   355   1  69500     1     3    1       0   19800\n",
       "1        1   69900   69900    96   1  69900     1     1    1       0   69900\n",
       "2        2  125800  122800    96   1  69900     1     2    2       0  125800\n",
       "3        3   69900   67900    96   1  69900     1     1    1       0   69900\n",
       "4        4   69900   67900    96   1  69900     1     1    1       0   69900\n",
       "...    ...     ...     ...   ...  ..    ...   ...   ...  ...     ...     ...\n",
       "2055  2055  191200  187200   214   2  92100     2     2    2       0  191200\n",
       "2056  2056  126000  124000    96   1  69900     1     2    2       0  126000\n",
       "2057  2057  126000  123500    96   1  69900     1     2    2       0  126000\n",
       "2058  2058   44500   42500   118   1  22200     1     1    1       0   44500\n",
       "2059  2059  291200  287200   199   2  89700     2     3    3       0  291200\n",
       "\n",
       "[2060 rows x 11 columns]"
      ]
     },
     "execution_count": 9,
     "metadata": {},
     "output_type": "execute_result"
    }
   ],
   "source": [
    "# 고객별 결제금액, 총결제금액, 총수량, 구매횟수\n",
    "df_cus_sum = df.groupby('수령인').sum()\n",
    "df_cus_sum.reset_index(inplace=True)\n",
    "df_cus_sum = df_cus_sum.astype(int)\n",
    "\n",
    "# 주문횟수 확인 - 발주일 count\n",
    "df_cus_count = df.groupby('수령인').count()\n",
    "\n",
    "# 재주문까지 걸리는 평균기간\n",
    "df_cus_mean = df.groupby('수령인').mean()\n",
    "\n",
    "# 고객정보\n",
    "customer = pd.DataFrame()\n",
    "customer['수령인'] = df_cus_sum['수령인']\n",
    "customer['총구매제품갯수'] = df_cus_sum['총수량']\n",
    "customer['누적결제금액'] = df_cus_sum['실결제금액']\n",
    "customer['구매시도'] = df_cus_count['발주일']\n",
    "customer['구매횟수'] = df_cus_sum['결제구분']\n",
    "customer['1회당평균구매금액'] = customer['누적결제금액'] / customer['구매횟수']\n",
    "customer['1회당평균구매금액'] = customer['1회당평균구매금액'].replace(np.inf, 0)\n",
    "customer['1회당평균구매금액'] = customer['1회당평균구매금액'].replace(np.nan, 0)\n",
    "customer['재주문기간(일)'] = df_cus_mean['거래경과일수']\n",
    "customer = customer.astype(int)\n",
    "customer"
   ]
  },
  {
   "cell_type": "code",
   "execution_count": 11,
   "id": "d76342b0-d0cd-423f-afaf-c325f037062f",
   "metadata": {},
   "outputs": [
    {
     "data": {
      "text/html": [
       "<div>\n",
       "<style scoped>\n",
       "    .dataframe tbody tr th:only-of-type {\n",
       "        vertical-align: middle;\n",
       "    }\n",
       "\n",
       "    .dataframe tbody tr th {\n",
       "        vertical-align: top;\n",
       "    }\n",
       "\n",
       "    .dataframe thead th {\n",
       "        text-align: right;\n",
       "    }\n",
       "</style>\n",
       "<table border=\"1\" class=\"dataframe\">\n",
       "  <thead>\n",
       "    <tr style=\"text-align: right;\">\n",
       "      <th></th>\n",
       "      <th>수령인</th>\n",
       "      <th>총구매제품갯수</th>\n",
       "      <th>누적결제금액</th>\n",
       "      <th>구매시도</th>\n",
       "      <th>구매횟수</th>\n",
       "      <th>1회당평균구매금액</th>\n",
       "      <th>재주문기간(일)</th>\n",
       "    </tr>\n",
       "  </thead>\n",
       "  <tbody>\n",
       "    <tr>\n",
       "      <th>count</th>\n",
       "      <td>2060.000000</td>\n",
       "      <td>2060.000000</td>\n",
       "      <td>2.060000e+03</td>\n",
       "      <td>2060.000000</td>\n",
       "      <td>2060.000000</td>\n",
       "      <td>2060.000000</td>\n",
       "      <td>2060.000000</td>\n",
       "    </tr>\n",
       "    <tr>\n",
       "      <th>mean</th>\n",
       "      <td>1029.500000</td>\n",
       "      <td>2.373786</td>\n",
       "      <td>1.463604e+05</td>\n",
       "      <td>1.396602</td>\n",
       "      <td>1.373786</td>\n",
       "      <td>101042.645631</td>\n",
       "      <td>5.559709</td>\n",
       "    </tr>\n",
       "    <tr>\n",
       "      <th>std</th>\n",
       "      <td>594.815097</td>\n",
       "      <td>2.183005</td>\n",
       "      <td>1.415173e+05</td>\n",
       "      <td>0.845230</td>\n",
       "      <td>0.846725</td>\n",
       "      <td>55501.712836</td>\n",
       "      <td>13.684037</td>\n",
       "    </tr>\n",
       "    <tr>\n",
       "      <th>min</th>\n",
       "      <td>0.000000</td>\n",
       "      <td>0.000000</td>\n",
       "      <td>0.000000e+00</td>\n",
       "      <td>1.000000</td>\n",
       "      <td>0.000000</td>\n",
       "      <td>0.000000</td>\n",
       "      <td>0.000000</td>\n",
       "    </tr>\n",
       "    <tr>\n",
       "      <th>25%</th>\n",
       "      <td>514.750000</td>\n",
       "      <td>1.000000</td>\n",
       "      <td>6.990000e+04</td>\n",
       "      <td>1.000000</td>\n",
       "      <td>1.000000</td>\n",
       "      <td>69900.000000</td>\n",
       "      <td>0.000000</td>\n",
       "    </tr>\n",
       "    <tr>\n",
       "      <th>50%</th>\n",
       "      <td>1029.500000</td>\n",
       "      <td>2.000000</td>\n",
       "      <td>1.258000e+05</td>\n",
       "      <td>1.000000</td>\n",
       "      <td>1.000000</td>\n",
       "      <td>69900.000000</td>\n",
       "      <td>0.000000</td>\n",
       "    </tr>\n",
       "    <tr>\n",
       "      <th>75%</th>\n",
       "      <td>1544.250000</td>\n",
       "      <td>3.000000</td>\n",
       "      <td>1.785000e+05</td>\n",
       "      <td>1.000000</td>\n",
       "      <td>1.000000</td>\n",
       "      <td>126000.000000</td>\n",
       "      <td>0.000000</td>\n",
       "    </tr>\n",
       "    <tr>\n",
       "      <th>max</th>\n",
       "      <td>2059.000000</td>\n",
       "      <td>28.000000</td>\n",
       "      <td>1.567600e+06</td>\n",
       "      <td>8.000000</td>\n",
       "      <td>8.000000</td>\n",
       "      <td>574000.000000</td>\n",
       "      <td>85.000000</td>\n",
       "    </tr>\n",
       "  </tbody>\n",
       "</table>\n",
       "</div>"
      ],
      "text/plain": [
       "               수령인      총구매제품갯수        누적결제금액         구매시도         구매횟수  \\\n",
       "count  2060.000000  2060.000000  2.060000e+03  2060.000000  2060.000000   \n",
       "mean   1029.500000     2.373786  1.463604e+05     1.396602     1.373786   \n",
       "std     594.815097     2.183005  1.415173e+05     0.845230     0.846725   \n",
       "min       0.000000     0.000000  0.000000e+00     1.000000     0.000000   \n",
       "25%     514.750000     1.000000  6.990000e+04     1.000000     1.000000   \n",
       "50%    1029.500000     2.000000  1.258000e+05     1.000000     1.000000   \n",
       "75%    1544.250000     3.000000  1.785000e+05     1.000000     1.000000   \n",
       "max    2059.000000    28.000000  1.567600e+06     8.000000     8.000000   \n",
       "\n",
       "           1회당평균구매금액     재주문기간(일)  \n",
       "count    2060.000000  2060.000000  \n",
       "mean   101042.645631     5.559709  \n",
       "std     55501.712836    13.684037  \n",
       "min         0.000000     0.000000  \n",
       "25%     69900.000000     0.000000  \n",
       "50%     69900.000000     0.000000  \n",
       "75%    126000.000000     0.000000  \n",
       "max    574000.000000    85.000000  "
      ]
     },
     "execution_count": 11,
     "metadata": {},
     "output_type": "execute_result"
    }
   ],
   "source": [
    "# 구매 선호 가격 확인 - 1회당평균구매금액의 평균값 101,631원\n",
    "customer.describe()"
   ]
  },
  {
   "cell_type": "code",
   "execution_count": 12,
   "id": "240073da-6942-4050-93b3-c6c7810c5fb2",
   "metadata": {},
   "outputs": [
    {
     "data": {
      "text/plain": [
       "Text(0, 0.5, 'pay money')"
      ]
     },
     "execution_count": 12,
     "metadata": {},
     "output_type": "execute_result"
    },
    {
     "data": {
      "image/png": "[encoded data removed]",
      "text/plain": [
       "<Figure size 1440x720 with 1 Axes>"
      ]
     },
     "metadata": {
      "needs_background": "light"
     },
     "output_type": "display_data"
    }
   ],
   "source": [
    "plt.figure(figsize=(20,10))\n",
    "plt.bar(customer['수령인'], customer['누적결제금액'])\n",
    "plt.title('Best Customer', fontsize=20)\n",
    "plt.xlabel('customer number')\n",
    "plt.ylabel('pay money')"
   ]
  },
  {
   "cell_type": "markdown",
   "id": "fe1c2218-da15-4a5d-9450-44f0bf1dd1da",
   "metadata": {},
   "source": [
    "## 3. 데이터 전처리\n",
    "### 3-1. KMeans로 고객 분류"
   ]
  },
  {
   "cell_type": "code",
   "execution_count": 13,
   "id": "7e02aad2-2972-4ad2-90d3-3e1f277dcd4e",
   "metadata": {
    "tags": []
   },
   "outputs": [
    {
     "name": "stdout",
     "output_type": "stream",
     "text": [
      "[3 3 0 ... 0 3 2]\n",
      "      수령인  총구매제품갯수  누적결제금액  구매시도  구매횟수  1회당평균구매금액  재주문기간(일)\n",
      "vip                                                        \n",
      "0     858      858     858   858   858        858       858\n",
      "1      37       37      37    37    37         37        37\n",
      "2     165      165     165   165   165        165       165\n",
      "3    1000     1000    1000  1000  1000       1000      1000\n"
     ]
    }
   ],
   "source": [
    "from sklearn.cluster import KMeans\n",
    "\n",
    "kmeans = KMeans(n_clusters=4, init='k-means++', max_iter=300, random_state=0)\n",
    "kmeans.fit(customer)\n",
    "print(kmeans.labels_)\n",
    "\n",
    "customer['vip'] = kmeans.labels_\n",
    "customer_result = customer.groupby(['vip']).count()\n",
    "print(customer_result)"
   ]
  },
  {
   "cell_type": "code",
   "execution_count": 14,
   "id": "09ea67e8-4cc5-41c9-bb2e-6fa8c1f9f125",
   "metadata": {},
   "outputs": [
    {
     "data": {
      "image/png": "[encoded data removed]",
      "text/plain": [
       "<Figure size 432x288 with 1 Axes>"
      ]
     },
     "metadata": {
      "needs_background": "light"
     },
     "output_type": "display_data"
    }
   ],
   "source": [
    "# cluster 값이 0, 1, 2 인 경우마다 별도의 Index로 추출\n",
    "marker0_ind = customer[customer['vip']==0].index\n",
    "marker1_ind = customer[customer['vip']==1].index\n",
    "marker2_ind = customer[customer['vip']==2].index\n",
    "marker3_ind = customer[customer['vip']==3].index\n",
    "#marker4_ind = customer[customer['vip']==4].index\n",
    "\n",
    "# cluster값 0, 1, 2에 해당하는 Index로 각 cluster 레벨의 pca_x, pca_y 값 추출. o, s, ^ 로 marker 표시\n",
    "plt.scatter(x=customer.loc[marker0_ind,'구매횟수'], y=customer.loc[marker0_ind,'1회당평균구매금액'], marker='o') \n",
    "plt.scatter(x=customer.loc[marker1_ind,'구매횟수'], y=customer.loc[marker1_ind,'1회당평균구매금액'], marker='s')\n",
    "plt.scatter(x=customer.loc[marker2_ind,'구매횟수'], y=customer.loc[marker2_ind,'1회당평균구매금액'], marker='^')\n",
    "plt.scatter(x=customer.loc[marker3_ind,'구매횟수'], y=customer.loc[marker3_ind,'1회당평균구매금액'], marker='*')\n",
    "#plt.scatter(x=customer.loc[marker4_ind,'구매횟수'], y=customer.loc[marker4_ind,'1회당평균구매금액'], marker='v')\n",
    "\n",
    "plt.xlabel('Buy Count')\n",
    "plt.ylabel('Mean Pay')\n",
    "plt.title('Customer Analysis')\n",
    "plt.show()"
   ]
  },
  {
   "cell_type": "code",
   "execution_count": 15,
   "id": "9269722a-f072-4744-a7a6-6116328d7a77",
   "metadata": {},
   "outputs": [
    {
     "data": {
      "text/plain": [
       "<AxesSubplot:xlabel='vip', ylabel='누적결제금액'>"
      ]
     },
     "execution_count": 15,
     "metadata": {},
     "output_type": "execute_result"
    },
    {
     "data": {
      "image/png": "[encoded data removed]",
      "text/plain": [
       "<Figure size 432x288 with 1 Axes>"
      ]
     },
     "metadata": {
      "needs_background": "light"
     },
     "output_type": "display_data"
    }
   ],
   "source": [
    "sns.barplot(x='vip', y='누적결제금액', data=customer)"
   ]
  },
  {
   "cell_type": "code",
   "execution_count": 16,
   "id": "60914ff1-a2bf-4bdf-aa6f-fbd39352f2b7",
   "metadata": {},
   "outputs": [
    {
     "data": {
      "text/plain": [
       "<AxesSubplot:xlabel='구매횟수', ylabel='누적결제금액'>"
      ]
     },
     "execution_count": 16,
     "metadata": {},
     "output_type": "execute_result"
    },
    {
     "data": {
      "image/png": "[encoded data removed]",
      "text/plain": [
       "<Figure size 432x288 with 1 Axes>"
      ]
     },
     "metadata": {
      "needs_background": "light"
     },
     "output_type": "display_data"
    }
   ],
   "source": [
    "sns.barplot(x='구매횟수', y='누적결제금액', hue='vip', data=customer)"
   ]
  },
  {
   "cell_type": "code",
   "execution_count": 17,
   "id": "43d1cd9f-730a-4d9e-a298-e794df577351",
   "metadata": {},
   "outputs": [
    {
     "data": {
      "text/plain": [
       "<seaborn.axisgrid.FacetGrid at 0x7faa6e2098b0>"
      ]
     },
     "execution_count": 17,
     "metadata": {},
     "output_type": "execute_result"
    },
    {
     "data": {
      "image/png": "[encoded data removed]",
      "text/plain": [
       "<Figure size 864x216 with 4 Axes>"
      ]
     },
     "metadata": {
      "needs_background": "light"
     },
     "output_type": "display_data"
    }
   ],
   "source": [
    "grid = sns.FacetGrid(data=customer, col='vip')\n",
    "grid.map(sns.stripplot, \"구매횟수\", \"누적결제금액\")"
   ]
  },
  {
   "cell_type": "code",
   "execution_count": 18,
   "id": "8ff9da38-4765-4233-80bd-53c74d2c4276",
   "metadata": {},
   "outputs": [
    {
     "data": {
      "text/plain": [
       "<seaborn.axisgrid.FacetGrid at 0x7faa6e4cdf40>"
      ]
     },
     "execution_count": 18,
     "metadata": {},
     "output_type": "execute_result"
    },
    {
     "data": {
      "image/png": "[encoded data removed]",
      "text/plain": [
       "<Figure size 864x216 with 4 Axes>"
      ]
     },
     "metadata": {
      "needs_background": "light"
     },
     "output_type": "display_data"
    }
   ],
   "source": [
    "grid = sns.FacetGrid(data=customer, col='vip')\n",
    "grid.map(sns.barplot, \"구매횟수\", \"누적결제금액\")"
   ]
  },
  {
   "cell_type": "markdown",
   "id": "d5b03928-91b4-43e9-b119-3a0ca6768f18",
   "metadata": {},
   "source": [
    "### 3-2. 데이터세트 전처리 (df_join)"
   ]
  },
  {
   "cell_type": "code",
   "execution_count": 39,
   "id": "71da4f10-c803-4292-a6dd-04f1b82ac627",
   "metadata": {
    "tags": []
   },
   "outputs": [
    {
     "data": {
      "text/html": [
       "<div>\n",
       "<style scoped>\n",
       "    .dataframe tbody tr th:only-of-type {\n",
       "        vertical-align: middle;\n",
       "    }\n",
       "\n",
       "    .dataframe tbody tr th {\n",
       "        vertical-align: top;\n",
       "    }\n",
       "\n",
       "    .dataframe thead th {\n",
       "        text-align: right;\n",
       "    }\n",
       "</style>\n",
       "<table border=\"1\" class=\"dataframe\">\n",
       "  <thead>\n",
       "    <tr style=\"text-align: right;\">\n",
       "      <th></th>\n",
       "      <th>수령인</th>\n",
       "      <th>총 주문금액</th>\n",
       "      <th>총 결제금액</th>\n",
       "      <th>상품번호</th>\n",
       "      <th>수량</th>\n",
       "      <th>판매가</th>\n",
       "      <th>결제구분</th>\n",
       "      <th>옵션수량</th>\n",
       "      <th>총수량</th>\n",
       "      <th>거래경과일수</th>\n",
       "      <th>실결제금액</th>\n",
       "      <th>누적결제금액</th>\n",
       "      <th>구매시도</th>\n",
       "      <th>구매횟수</th>\n",
       "      <th>재주문기간(일)</th>\n",
       "      <th>vip</th>\n",
       "    </tr>\n",
       "  </thead>\n",
       "  <tbody>\n",
       "    <tr>\n",
       "      <th>0</th>\n",
       "      <td>0</td>\n",
       "      <td>19800.0</td>\n",
       "      <td>19800.0</td>\n",
       "      <td>103</td>\n",
       "      <td>1</td>\n",
       "      <td>19800.0</td>\n",
       "      <td>1</td>\n",
       "      <td>1.0</td>\n",
       "      <td>1.0</td>\n",
       "      <td>0.0</td>\n",
       "      <td>19800.0</td>\n",
       "      <td>19800</td>\n",
       "      <td>3</td>\n",
       "      <td>1</td>\n",
       "      <td>0</td>\n",
       "      <td>3</td>\n",
       "    </tr>\n",
       "    <tr>\n",
       "      <th>1</th>\n",
       "      <td>0</td>\n",
       "      <td>25700.0</td>\n",
       "      <td>25700.0</td>\n",
       "      <td>118</td>\n",
       "      <td>0</td>\n",
       "      <td>22200.0</td>\n",
       "      <td>0</td>\n",
       "      <td>1.0</td>\n",
       "      <td>0.0</td>\n",
       "      <td>0.0</td>\n",
       "      <td>0.0</td>\n",
       "      <td>19800</td>\n",
       "      <td>3</td>\n",
       "      <td>1</td>\n",
       "      <td>0</td>\n",
       "      <td>3</td>\n",
       "    </tr>\n",
       "    <tr>\n",
       "      <th>2</th>\n",
       "      <td>0</td>\n",
       "      <td>27500.0</td>\n",
       "      <td>27500.0</td>\n",
       "      <td>134</td>\n",
       "      <td>0</td>\n",
       "      <td>27500.0</td>\n",
       "      <td>0</td>\n",
       "      <td>1.0</td>\n",
       "      <td>0.0</td>\n",
       "      <td>0.0</td>\n",
       "      <td>0.0</td>\n",
       "      <td>19800</td>\n",
       "      <td>3</td>\n",
       "      <td>1</td>\n",
       "      <td>0</td>\n",
       "      <td>3</td>\n",
       "    </tr>\n",
       "    <tr>\n",
       "      <th>3</th>\n",
       "      <td>1</td>\n",
       "      <td>69900.0</td>\n",
       "      <td>69900.0</td>\n",
       "      <td>96</td>\n",
       "      <td>1</td>\n",
       "      <td>69900.0</td>\n",
       "      <td>1</td>\n",
       "      <td>1.0</td>\n",
       "      <td>1.0</td>\n",
       "      <td>0.0</td>\n",
       "      <td>69900.0</td>\n",
       "      <td>69900</td>\n",
       "      <td>1</td>\n",
       "      <td>1</td>\n",
       "      <td>0</td>\n",
       "      <td>3</td>\n",
       "    </tr>\n",
       "    <tr>\n",
       "      <th>4</th>\n",
       "      <td>2</td>\n",
       "      <td>125800.0</td>\n",
       "      <td>122800.0</td>\n",
       "      <td>96</td>\n",
       "      <td>1</td>\n",
       "      <td>69900.0</td>\n",
       "      <td>1</td>\n",
       "      <td>2.0</td>\n",
       "      <td>2.0</td>\n",
       "      <td>0.0</td>\n",
       "      <td>125800.0</td>\n",
       "      <td>125800</td>\n",
       "      <td>1</td>\n",
       "      <td>1</td>\n",
       "      <td>0</td>\n",
       "      <td>0</td>\n",
       "    </tr>\n",
       "    <tr>\n",
       "      <th>...</th>\n",
       "      <td>...</td>\n",
       "      <td>...</td>\n",
       "      <td>...</td>\n",
       "      <td>...</td>\n",
       "      <td>...</td>\n",
       "      <td>...</td>\n",
       "      <td>...</td>\n",
       "      <td>...</td>\n",
       "      <td>...</td>\n",
       "      <td>...</td>\n",
       "      <td>...</td>\n",
       "      <td>...</td>\n",
       "      <td>...</td>\n",
       "      <td>...</td>\n",
       "      <td>...</td>\n",
       "      <td>...</td>\n",
       "    </tr>\n",
       "    <tr>\n",
       "      <th>2872</th>\n",
       "      <td>2056</td>\n",
       "      <td>126000.0</td>\n",
       "      <td>124000.0</td>\n",
       "      <td>96</td>\n",
       "      <td>1</td>\n",
       "      <td>69900.0</td>\n",
       "      <td>1</td>\n",
       "      <td>2.0</td>\n",
       "      <td>2.0</td>\n",
       "      <td>0.0</td>\n",
       "      <td>126000.0</td>\n",
       "      <td>126000</td>\n",
       "      <td>1</td>\n",
       "      <td>1</td>\n",
       "      <td>0</td>\n",
       "      <td>0</td>\n",
       "    </tr>\n",
       "    <tr>\n",
       "      <th>2873</th>\n",
       "      <td>2057</td>\n",
       "      <td>126000.0</td>\n",
       "      <td>123500.0</td>\n",
       "      <td>96</td>\n",
       "      <td>1</td>\n",
       "      <td>69900.0</td>\n",
       "      <td>1</td>\n",
       "      <td>2.0</td>\n",
       "      <td>2.0</td>\n",
       "      <td>0.0</td>\n",
       "      <td>126000.0</td>\n",
       "      <td>126000</td>\n",
       "      <td>1</td>\n",
       "      <td>1</td>\n",
       "      <td>0</td>\n",
       "      <td>0</td>\n",
       "    </tr>\n",
       "    <tr>\n",
       "      <th>2874</th>\n",
       "      <td>2058</td>\n",
       "      <td>44500.0</td>\n",
       "      <td>42500.0</td>\n",
       "      <td>118</td>\n",
       "      <td>1</td>\n",
       "      <td>22200.0</td>\n",
       "      <td>1</td>\n",
       "      <td>1.0</td>\n",
       "      <td>1.0</td>\n",
       "      <td>0.0</td>\n",
       "      <td>44500.0</td>\n",
       "      <td>44500</td>\n",
       "      <td>1</td>\n",
       "      <td>1</td>\n",
       "      <td>0</td>\n",
       "      <td>3</td>\n",
       "    </tr>\n",
       "    <tr>\n",
       "      <th>2875</th>\n",
       "      <td>2059</td>\n",
       "      <td>145600.0</td>\n",
       "      <td>143600.0</td>\n",
       "      <td>103</td>\n",
       "      <td>1</td>\n",
       "      <td>19800.0</td>\n",
       "      <td>1</td>\n",
       "      <td>1.0</td>\n",
       "      <td>1.0</td>\n",
       "      <td>0.0</td>\n",
       "      <td>145600.0</td>\n",
       "      <td>291200</td>\n",
       "      <td>2</td>\n",
       "      <td>2</td>\n",
       "      <td>0</td>\n",
       "      <td>2</td>\n",
       "    </tr>\n",
       "    <tr>\n",
       "      <th>2876</th>\n",
       "      <td>2059</td>\n",
       "      <td>145600.0</td>\n",
       "      <td>143600.0</td>\n",
       "      <td>96</td>\n",
       "      <td>1</td>\n",
       "      <td>69900.0</td>\n",
       "      <td>1</td>\n",
       "      <td>2.0</td>\n",
       "      <td>2.0</td>\n",
       "      <td>0.0</td>\n",
       "      <td>145600.0</td>\n",
       "      <td>291200</td>\n",
       "      <td>2</td>\n",
       "      <td>2</td>\n",
       "      <td>0</td>\n",
       "      <td>2</td>\n",
       "    </tr>\n",
       "  </tbody>\n",
       "</table>\n",
       "<p>2877 rows × 16 columns</p>\n",
       "</div>"
      ],
      "text/plain": [
       "       수령인    총 주문금액    총 결제금액  상품번호  수량      판매가  결제구분  옵션수량  총수량  거래경과일수  \\\n",
       "0        0   19800.0   19800.0   103   1  19800.0     1   1.0  1.0     0.0   \n",
       "1        0   25700.0   25700.0   118   0  22200.0     0   1.0  0.0     0.0   \n",
       "2        0   27500.0   27500.0   134   0  27500.0     0   1.0  0.0     0.0   \n",
       "3        1   69900.0   69900.0    96   1  69900.0     1   1.0  1.0     0.0   \n",
       "4        2  125800.0  122800.0    96   1  69900.0     1   2.0  2.0     0.0   \n",
       "...    ...       ...       ...   ...  ..      ...   ...   ...  ...     ...   \n",
       "2872  2056  126000.0  124000.0    96   1  69900.0     1   2.0  2.0     0.0   \n",
       "2873  2057  126000.0  123500.0    96   1  69900.0     1   2.0  2.0     0.0   \n",
       "2874  2058   44500.0   42500.0   118   1  22200.0     1   1.0  1.0     0.0   \n",
       "2875  2059  145600.0  143600.0   103   1  19800.0     1   1.0  1.0     0.0   \n",
       "2876  2059  145600.0  143600.0    96   1  69900.0     1   2.0  2.0     0.0   \n",
       "\n",
       "         실결제금액  누적결제금액  구매시도  구매횟수  재주문기간(일)  vip  \n",
       "0      19800.0   19800     3     1         0    3  \n",
       "1          0.0   19800     3     1         0    3  \n",
       "2          0.0   19800     3     1         0    3  \n",
       "3      69900.0   69900     1     1         0    3  \n",
       "4     125800.0  125800     1     1         0    0  \n",
       "...        ...     ...   ...   ...       ...  ...  \n",
       "2872  126000.0  126000     1     1         0    0  \n",
       "2873  126000.0  126000     1     1         0    0  \n",
       "2874   44500.0   44500     1     1         0    3  \n",
       "2875  145600.0  291200     2     2         0    2  \n",
       "2876  145600.0  291200     2     2         0    2  \n",
       "\n",
       "[2877 rows x 16 columns]"
      ]
     },
     "execution_count": 39,
     "metadata": {},
     "output_type": "execute_result"
    }
   ],
   "source": [
    "# 숫자형 컬럼만 선택 사실상 모든 데이터\n",
    "df_join = df.set_index('수령인').join(customer.set_index('수령인'))\n",
    "df_join.drop(['총구매제품갯수', '1회당평균구매금액', '주문상품명', '주문상품명(옵션포함)', '수령인 우편번호', '수령인 주소', '결제수단',\n",
    "              '발주일', '배송국가', '지난발주일', '주문번호', '품목별 주문번호'], axis=1, inplace=True)\n",
    "df_join.reset_index(inplace=True)\n",
    "df_join"
   ]
  },
  {
   "cell_type": "code",
   "execution_count": 20,
   "id": "dabd8478-cb2b-4ba6-b9af-5c83da9686b3",
   "metadata": {},
   "outputs": [
    {
     "data": {
      "text/plain": [
       "<AxesSubplot:xlabel='vip', ylabel='누적결제금액'>"
      ]
     },
     "execution_count": 20,
     "metadata": {},
     "output_type": "execute_result"
    },
    {
     "data": {
      "image/png": "[encoded data removed]",
      "text/plain": [
       "<Figure size 432x288 with 1 Axes>"
      ]
     },
     "metadata": {
      "needs_background": "light"
     },
     "output_type": "display_data"
    }
   ],
   "source": [
    "sns.barplot(x='vip', y='누적결제금액', data=df_join)"
   ]
  },
  {
   "cell_type": "markdown",
   "id": "9da5bf6b-48d9-4eb9-9b9d-8f31603c820f",
   "metadata": {},
   "source": [
    "### 3-3. 데이터전처리 (df_final)\n",
    "쇼핑몰 마켓팅에서 가장 많이 적용하는 RFM 차용  \n",
    "RFM은 구매의 최근성(Recency), 구매 빈도(Frequency), 총 구매 금액 (Monetary)의 약자  \n",
    "RFM을 기준으로 고객 분류 알고리즘"
   ]
  },
  {
   "cell_type": "code",
   "execution_count": 21,
   "id": "d424008d-a3ba-49bc-a10f-0e3d5bc43325",
   "metadata": {},
   "outputs": [
    {
     "data": {
      "text/html": [
       "<div>\n",
       "<style scoped>\n",
       "    .dataframe tbody tr th:only-of-type {\n",
       "        vertical-align: middle;\n",
       "    }\n",
       "\n",
       "    .dataframe tbody tr th {\n",
       "        vertical-align: top;\n",
       "    }\n",
       "\n",
       "    .dataframe thead th {\n",
       "        text-align: right;\n",
       "    }\n",
       "</style>\n",
       "<table border=\"1\" class=\"dataframe\">\n",
       "  <thead>\n",
       "    <tr style=\"text-align: right;\">\n",
       "      <th></th>\n",
       "      <th>수령인</th>\n",
       "      <th>누적결제금액</th>\n",
       "      <th>구매시도</th>\n",
       "      <th>구매횟수</th>\n",
       "      <th>재주문기간(일)</th>\n",
       "      <th>vip</th>\n",
       "    </tr>\n",
       "  </thead>\n",
       "  <tbody>\n",
       "    <tr>\n",
       "      <th>0</th>\n",
       "      <td>0</td>\n",
       "      <td>19800</td>\n",
       "      <td>3</td>\n",
       "      <td>1</td>\n",
       "      <td>0</td>\n",
       "      <td>3</td>\n",
       "    </tr>\n",
       "    <tr>\n",
       "      <th>1</th>\n",
       "      <td>0</td>\n",
       "      <td>19800</td>\n",
       "      <td>3</td>\n",
       "      <td>1</td>\n",
       "      <td>0</td>\n",
       "      <td>3</td>\n",
       "    </tr>\n",
       "    <tr>\n",
       "      <th>2</th>\n",
       "      <td>0</td>\n",
       "      <td>19800</td>\n",
       "      <td>3</td>\n",
       "      <td>1</td>\n",
       "      <td>0</td>\n",
       "      <td>3</td>\n",
       "    </tr>\n",
       "    <tr>\n",
       "      <th>3</th>\n",
       "      <td>1</td>\n",
       "      <td>69900</td>\n",
       "      <td>1</td>\n",
       "      <td>1</td>\n",
       "      <td>0</td>\n",
       "      <td>3</td>\n",
       "    </tr>\n",
       "    <tr>\n",
       "      <th>4</th>\n",
       "      <td>2</td>\n",
       "      <td>125800</td>\n",
       "      <td>1</td>\n",
       "      <td>1</td>\n",
       "      <td>0</td>\n",
       "      <td>0</td>\n",
       "    </tr>\n",
       "    <tr>\n",
       "      <th>...</th>\n",
       "      <td>...</td>\n",
       "      <td>...</td>\n",
       "      <td>...</td>\n",
       "      <td>...</td>\n",
       "      <td>...</td>\n",
       "      <td>...</td>\n",
       "    </tr>\n",
       "    <tr>\n",
       "      <th>2872</th>\n",
       "      <td>2056</td>\n",
       "      <td>126000</td>\n",
       "      <td>1</td>\n",
       "      <td>1</td>\n",
       "      <td>0</td>\n",
       "      <td>0</td>\n",
       "    </tr>\n",
       "    <tr>\n",
       "      <th>2873</th>\n",
       "      <td>2057</td>\n",
       "      <td>126000</td>\n",
       "      <td>1</td>\n",
       "      <td>1</td>\n",
       "      <td>0</td>\n",
       "      <td>0</td>\n",
       "    </tr>\n",
       "    <tr>\n",
       "      <th>2874</th>\n",
       "      <td>2058</td>\n",
       "      <td>44500</td>\n",
       "      <td>1</td>\n",
       "      <td>1</td>\n",
       "      <td>0</td>\n",
       "      <td>3</td>\n",
       "    </tr>\n",
       "    <tr>\n",
       "      <th>2875</th>\n",
       "      <td>2059</td>\n",
       "      <td>291200</td>\n",
       "      <td>2</td>\n",
       "      <td>2</td>\n",
       "      <td>0</td>\n",
       "      <td>2</td>\n",
       "    </tr>\n",
       "    <tr>\n",
       "      <th>2876</th>\n",
       "      <td>2059</td>\n",
       "      <td>291200</td>\n",
       "      <td>2</td>\n",
       "      <td>2</td>\n",
       "      <td>0</td>\n",
       "      <td>2</td>\n",
       "    </tr>\n",
       "  </tbody>\n",
       "</table>\n",
       "<p>2877 rows × 6 columns</p>\n",
       "</div>"
      ],
      "text/plain": [
       "       수령인  누적결제금액  구매시도  구매횟수  재주문기간(일)  vip\n",
       "0        0   19800     3     1         0    3\n",
       "1        0   19800     3     1         0    3\n",
       "2        0   19800     3     1         0    3\n",
       "3        1   69900     1     1         0    3\n",
       "4        2  125800     1     1         0    0\n",
       "...    ...     ...   ...   ...       ...  ...\n",
       "2872  2056  126000     1     1         0    0\n",
       "2873  2057  126000     1     1         0    0\n",
       "2874  2058   44500     1     1         0    3\n",
       "2875  2059  291200     2     2         0    2\n",
       "2876  2059  291200     2     2         0    2\n",
       "\n",
       "[2877 rows x 6 columns]"
      ]
     },
     "execution_count": 21,
     "metadata": {},
     "output_type": "execute_result"
    }
   ],
   "source": [
    "# 처음 의도대로 RFM\n",
    "df_final = df.set_index('수령인').join(customer.set_index('수령인'))\n",
    "df_final.reset_index(inplace=True)\n",
    "df_final = df_final[['수령인', '누적결제금액', '구매시도', '구매횟수', '재주문기간(일)', 'vip']]\n",
    "df_final"
   ]
  },
  {
   "cell_type": "markdown",
   "id": "7860bfc5-8ae4-44ee-87d2-b77a5df9077f",
   "metadata": {},
   "source": [
    "## 4. Model\n",
    "### 4-1. df_join"
   ]
  },
  {
   "cell_type": "code",
   "execution_count": 42,
   "id": "f96e1a37-3f6f-4ac6-9a0f-99a3752c5fb4",
   "metadata": {},
   "outputs": [
    {
     "name": "stdout",
     "output_type": "stream",
     "text": [
      "[17:33:35] WARNING: /opt/concourse/worker/volumes/live/7a2b9f41-3287-451b-6691-43e9a6c0910f/volume/xgboost-split_1619728204606/work/src/learner.cc:1061: Starting in XGBoost 1.3.0, the default evaluation metric used with the objective 'multi:softprob' was changed from 'merror' to 'mlogloss'. Explicitly set eval_metric if you'd like to restore the old behavior.\n",
      "              precision    recall  f1-score   support\n",
      "\n",
      "           0       0.99      1.00      1.00       350\n",
      "           1       1.00      1.00      1.00        47\n",
      "           2       1.00      1.00      1.00       148\n",
      "           3       1.00      0.99      1.00       319\n",
      "\n",
      "    accuracy                           1.00       864\n",
      "   macro avg       1.00      1.00      1.00       864\n",
      "weighted avg       1.00      1.00      1.00       864\n",
      "\n"
     ]
    }
   ],
   "source": [
    "from sklearn.model_selection import train_test_split\n",
    "from sklearn.preprocessing import StandardScaler\n",
    "from xgboost import XGBClassifier\n",
    "from sklearn.metrics import classification_report\n",
    "from sklearn.metrics import confusion_matrix, plot_confusion_matrix\n",
    "\n",
    "# X, y\n",
    "X = df_join.drop(['vip'], axis=1)\n",
    "y = df_join['vip']\n",
    "\n",
    "# 표준화\n",
    "scaler = StandardScaler()\n",
    "X_scaled = scaler.fit_transform(X)\n",
    "\n",
    "# 데이터 분리\n",
    "X_train , X_test, y_train , y_test = train_test_split(X_scaled, y, test_size=0.3, random_state=0)\n",
    "\n",
    "# 모델\n",
    "xgb = XGBClassifier()\n",
    "xgb.fit(X_train, y_train)\n",
    "\n",
    "# 예측\n",
    "y_pred = xgb.predict(X_test)\n",
    "print(classification_report(y_test, y_pred))"
   ]
  },
  {
   "cell_type": "code",
   "execution_count": 43,
   "id": "fd8e867b-a5c6-4896-95c1-7e1c39c0925a",
   "metadata": {},
   "outputs": [
    {
     "name": "stdout",
     "output_type": "stream",
     "text": [
      "df_join 정확도 :  0.9965277777777778\n"
     ]
    },
    {
     "data": {
      "text/plain": [
       "Text(0.5, 1.0, 'Confusion Matrix')"
      ]
     },
     "execution_count": 43,
     "metadata": {},
     "output_type": "execute_result"
    },
    {
     "data": {
      "image/png": "[encoded data removed]",
      "text/plain": [
       "<Figure size 432x288 with 2 Axes>"
      ]
     },
     "metadata": {
      "needs_background": "light"
     },
     "output_type": "display_data"
    }
   ],
   "source": [
    "print(\"df_join 정확도 : \", xgb.score(X_test, y_test))\n",
    "plot = plot_confusion_matrix(xgb,\n",
    "                             X_test, y_test,\n",
    "                             normalize=None)\n",
    "plot.ax_.set_title('Confusion Matrix')"
   ]
  },
  {
   "cell_type": "markdown",
   "id": "a5541f45-7fdd-4cc0-8a90-ade357b60aaf",
   "metadata": {},
   "source": [
    "### 4-2. df_final"
   ]
  },
  {
   "cell_type": "code",
   "execution_count": 35,
   "id": "abbcd7cd-73eb-45f9-b031-1f3d6359a1e2",
   "metadata": {},
   "outputs": [
    {
     "name": "stdout",
     "output_type": "stream",
     "text": [
      "[16:54:14] WARNING: /opt/concourse/worker/volumes/live/7a2b9f41-3287-451b-6691-43e9a6c0910f/volume/xgboost-split_1619728204606/work/src/learner.cc:1061: Starting in XGBoost 1.3.0, the default evaluation metric used with the objective 'multi:softprob' was changed from 'merror' to 'mlogloss'. Explicitly set eval_metric if you'd like to restore the old behavior.\n",
      "              precision    recall  f1-score   support\n",
      "\n",
      "           0       0.99      1.00      0.99       350\n",
      "           1       1.00      1.00      1.00        47\n",
      "           2       1.00      1.00      1.00       148\n",
      "           3       1.00      0.99      0.99       319\n",
      "\n",
      "    accuracy                           1.00       864\n",
      "   macro avg       1.00      1.00      1.00       864\n",
      "weighted avg       1.00      1.00      1.00       864\n",
      "\n"
     ]
    }
   ],
   "source": [
    "# X, y\n",
    "X = df_final.drop(['vip'], axis=1)\n",
    "y = df_final['vip']\n",
    "\n",
    "# 표준화\n",
    "scaler = StandardScaler()\n",
    "X_scaled = scaler.fit_transform(X)\n",
    "\n",
    "# 데이터 분리\n",
    "X_train , X_test, y_train , y_test = train_test_split(X_scaled, y, test_size=0.3, random_state=0)\n",
    "\n",
    "# 모델\n",
    "xgb = XGBClassifier()\n",
    "xgb.fit(X_train, y_train)\n",
    "\n",
    "# 예측\n",
    "y_pred = xgb.predict(X_test)\n",
    "print(classification_report(y_test, y_pred))"
   ]
  },
  {
   "cell_type": "code",
   "execution_count": 41,
   "id": "264cb865-87a5-4e02-b4e6-643e1eb2609c",
   "metadata": {},
   "outputs": [
    {
     "name": "stdout",
     "output_type": "stream",
     "text": [
      "df_final 정확도 :  0.9953703703703703\n"
     ]
    },
    {
     "data": {
      "text/plain": [
       "Text(0.5, 1.0, 'Confusion Matrix')"
      ]
     },
     "execution_count": 41,
     "metadata": {},
     "output_type": "execute_result"
    },
    {
     "data": {
      "image/png": "[encoded data removed]",
      "text/plain": [
       "<Figure size 432x288 with 2 Axes>"
      ]
     },
     "metadata": {
      "needs_background": "light"
     },
     "output_type": "display_data"
    }
   ],
   "source": [
    "print(\"df_final 정확도 : \", xgb.score(X_test, y_test))\n",
    "plot = plot_confusion_matrix(xgb,\n",
    "                             X_test, y_test,\n",
    "                             normalize=None)\n",
    "plot.ax_.set_title('Confusion Matrix')"
   ]
  },
  {
   "cell_type": "markdown",
   "id": "4598d026-9b5f-425f-9d7e-fdf95cee7fe3",
   "metadata": {},
   "source": [
    "## 5. 결과\n",
    "### 데이터세트 1\n",
    "데이터크기 2877rows, 16columns\n",
    "\n",
    "target : vip\n",
    "\n",
    "x 칼럼  \n",
    "수령인, 총 주문금액, 총 결제금액, 상품번호, 수량, 판매가, 결제구분, 옵션수량, 총수량, 거래경과일수, 실결제금액, 누적결제금액, 구매시도, 구매횟수, 재주문기간(일)\n",
    "\n",
    "vip분류 - k이웃 이용하여 4개로 분류 => 2, 3, 4, 5 해보니 4가 제일 잘 나눠짐\n",
    "\n",
    "모델 - XGBClassifier  \n",
    "0.99652778 과적합 의심\n",
    "\n",
    "### 데이터세트 2\n",
    "데이터크기 2877rows, 6columns\n",
    "\n",
    "target : vip\n",
    "\n",
    "x 칼럼  \n",
    "수령인, 누적결제금액, 구매시도, 구매횟수, 재주문기간(일)\n",
    "\n",
    "vip분류 - k이웃 이용하여 4개로 분류 => 2, 3, 4, 5 해보니 4가 제일 잘 나눠짐\n",
    "\n",
    "모델 - XGBClassifier  \n",
    "0.9953703703703703 과적합 의심\n",
    "\n",
    "### 결론\n",
    "고객분류를 통해 첫구매 쿠폰, 재구매 쿠폰 발급 대상 지정하여 구매유도  \n",
    "우량고객 vip 설정으로 추가 혜택 제공하여 고객유지  \n",
    "\n",
    "### 아쉬운점\n",
    "vip별로 1회 평균 구매 금액 확인해서 미끼상품금액결정(제일 안사는 사람들을 위한 상품), 베스트상품 금액결정(제일 잘 팔리는 상품 가격을 올려도 될까?에 대한 해답)  \n",
    "시간이 부족해 전처리고민을 많이 못한점  \n",
    "교차검증 및 과적합 해결 못함"
   ]
  },
  {
   "cell_type": "code",
   "execution_count": null,
   "id": "09fcb5a2-79c8-4b00-889c-bab3b55f7d3c",
   "metadata": {},
   "outputs": [],
   "source": []
  }
 ],
 "metadata": {
  "kernelspec": {
   "display_name": "sona",
   "language": "python",
   "name": "sona"
  },
  "language_info": {
   "codemirror_mode": {
    "name": "ipython",
    "version": 3
   },
   "file_extension": ".py",
   "mimetype": "text/x-python",
   "name": "python",
   "nbconvert_exporter": "python",
   "pygments_lexer": "ipython3",
   "version": "3.9.4"
  }
 },
 "nbformat": 4,
 "nbformat_minor": 5
}

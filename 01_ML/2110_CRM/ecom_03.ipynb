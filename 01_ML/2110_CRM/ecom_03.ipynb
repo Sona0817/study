{
 "cells": [
  {
   "cell_type": "code",
   "execution_count": 20,
   "id": "404f8cae-9889-4458-92e2-33e110e1eff0",
   "metadata": {},
   "outputs": [],
   "source": [
    "import warnings\n",
    "warnings.filterwarnings('ignore')\n",
    "\n",
    "import pandas as pd\n",
    "import numpy as np\n",
    "import matplotlib.pyplot as plt\n",
    "import seaborn as sns\n",
    "%matplotlib inline\n",
    "\n",
    "pd.set_option('display.max_columns', 500)"
   ]
  },
  {
   "cell_type": "code",
   "execution_count": 44,
   "id": "7ad7e5a2-5ca4-4a4a-8fd2-daf63f3e7912",
   "metadata": {},
   "outputs": [],
   "source": [
    "df_org = pd.read_csv('order_data_202110.csv')\n",
    "#df_org"
   ]
  },
  {
   "cell_type": "code",
   "execution_count": 51,
   "id": "220b5d39-eec2-469c-8428-503ad621ca1c",
   "metadata": {},
   "outputs": [
    {
     "ename": "TypeError",
     "evalue": "map() must have at least two arguments.",
     "output_type": "error",
     "traceback": [
      "\u001b[0;31m---------------------------------------------------------------------------\u001b[0m",
      "\u001b[0;31mTypeError\u001b[0m                                 Traceback (most recent call last)",
      "\u001b[0;32m<ipython-input-51-a1524dd0b065>\u001b[0m in \u001b[0;36m<module>\u001b[0;34m\u001b[0m\n\u001b[1;32m      1\u001b[0m \u001b[0mdf_org\u001b[0m \u001b[0;34m=\u001b[0m \u001b[0mpd\u001b[0m\u001b[0;34m.\u001b[0m\u001b[0mread_csv\u001b[0m\u001b[0;34m(\u001b[0m\u001b[0;34m'order_data_202110.csv'\u001b[0m\u001b[0;34m)\u001b[0m\u001b[0;34m\u001b[0m\u001b[0;34m\u001b[0m\u001b[0m\n\u001b[0;32m----> 2\u001b[0;31m \u001b[0mdf_org\u001b[0m\u001b[0;34m[\u001b[0m\u001b[0;34m'수령인 주소'\u001b[0m\u001b[0;34m]\u001b[0m \u001b[0;34m=\u001b[0m \u001b[0mlist\u001b[0m\u001b[0;34m(\u001b[0m\u001b[0mmap\u001b[0m\u001b[0;34m(\u001b[0m\u001b[0mdf_org\u001b[0m\u001b[0;34m[\u001b[0m\u001b[0;34m'수령인 주소'\u001b[0m\u001b[0;34m]\u001b[0m\u001b[0;34m.\u001b[0m\u001b[0mapply\u001b[0m\u001b[0;34m(\u001b[0m\u001b[0;32mlambda\u001b[0m \u001b[0mx\u001b[0m\u001b[0;34m:\u001b[0m \u001b[0;34m(\u001b[0m\u001b[0mstr\u001b[0m\u001b[0;34m(\u001b[0m\u001b[0mx\u001b[0m\u001b[0;34m)\u001b[0m\u001b[0;34m.\u001b[0m\u001b[0msplit\u001b[0m\u001b[0;34m(\u001b[0m\u001b[0;34m' '\u001b[0m\u001b[0;34m)\u001b[0m\u001b[0;34m[\u001b[0m\u001b[0;34m:\u001b[0m\u001b[0;36m2\u001b[0m\u001b[0;34m]\u001b[0m\u001b[0;34m)\u001b[0m\u001b[0;34m)\u001b[0m\u001b[0;34m)\u001b[0m\u001b[0;34m)\u001b[0m\u001b[0;34m\u001b[0m\u001b[0;34m\u001b[0m\u001b[0m\n\u001b[0m\u001b[1;32m      3\u001b[0m \u001b[0mdf_org\u001b[0m\u001b[0;34m[\u001b[0m\u001b[0;34m'수령인 주소'\u001b[0m\u001b[0;34m]\u001b[0m\u001b[0;34m\u001b[0m\u001b[0;34m\u001b[0m\u001b[0m\n",
      "\u001b[0;31mTypeError\u001b[0m: map() must have at least two arguments."
     ]
    }
   ],
   "source": [
    "df_org = pd.read_csv('order_data_202110.csv')\n",
    "df_org['수령인 주소'] = map(df_org['수령인 주소'].apply(lambda x: (str(x).split(' ')[:2])))\n",
    "df_org['수령인 주소']"
   ]
  },
  {
   "cell_type": "code",
   "execution_count": null,
   "id": "99c5a21d-e342-4d51-a787-793d548aead9",
   "metadata": {},
   "outputs": [],
   "source": []
  },
  {
   "cell_type": "code",
   "execution_count": null,
   "id": "51fd5a41-ce6f-4371-b460-db5401305580",
   "metadata": {},
   "outputs": [],
   "source": []
  },
  {
   "cell_type": "code",
   "execution_count": 4,
   "id": "499ee21d-4437-4b3c-b182-411c0ff5fa64",
   "metadata": {},
   "outputs": [
    {
     "data": {
      "text/plain": [
       "결제수단\n",
       "계좌이체              76\n",
       "무통장입금            134\n",
       "선불금              327\n",
       "신용카드            1467\n",
       "적립금,계좌이체           3\n",
       "적립금,무통장입금        110\n",
       "적립금,신용카드         616\n",
       "적립금,쿠폰,무통장입금       3\n",
       "적립금,쿠폰,신용카드       43\n",
       "적립금,쿠폰,휴대폰         1\n",
       "적립금,휴대폰           11\n",
       "쿠폰,무통장입금           1\n",
       "쿠폰,신용카드            6\n",
       "휴대폰               32\n",
       "dtype: int64"
      ]
     },
     "execution_count": 4,
     "metadata": {},
     "output_type": "execute_result"
    }
   ],
   "source": [
    "df_org[df_org['결제구분']=='T'].groupby(df_org['결제수단']).size()"
   ]
  },
  {
   "cell_type": "code",
   "execution_count": 17,
   "id": "c9f35f86-7435-4e72-9144-90d51916ba6e",
   "metadata": {},
   "outputs": [
    {
     "data": {
      "text/plain": [
       "결제수단\n",
       "무통장입금        34\n",
       "적립금,무통장입금    13\n",
       "dtype: int64"
      ]
     },
     "execution_count": 17,
     "metadata": {},
     "output_type": "execute_result"
    }
   ],
   "source": [
    "df_org[df_org['결제구분']=='F'].groupby(df_org['결제수단']).size()"
   ]
  },
  {
   "cell_type": "code",
   "execution_count": 16,
   "id": "d6ac5e0d-ea45-467d-ae3a-4ec6a1fc7a1a",
   "metadata": {},
   "outputs": [
    {
     "data": {
      "text/html": [
       "<div>\n",
       "<style scoped>\n",
       "    .dataframe tbody tr th:only-of-type {\n",
       "        vertical-align: middle;\n",
       "    }\n",
       "\n",
       "    .dataframe tbody tr th {\n",
       "        vertical-align: top;\n",
       "    }\n",
       "\n",
       "    .dataframe thead th {\n",
       "        text-align: right;\n",
       "    }\n",
       "</style>\n",
       "<table border=\"1\" class=\"dataframe\">\n",
       "  <thead>\n",
       "    <tr style=\"text-align: right;\">\n",
       "      <th></th>\n",
       "      <th>주문번호</th>\n",
       "      <th>품목별 주문번호</th>\n",
       "      <th>총 주문금액</th>\n",
       "      <th>총 결제금액</th>\n",
       "      <th>상품번호</th>\n",
       "      <th>주문상품명</th>\n",
       "      <th>주문상품명(옵션포함)</th>\n",
       "      <th>수량</th>\n",
       "      <th>판매가</th>\n",
       "      <th>수령인</th>\n",
       "      <th>수령인 우편번호</th>\n",
       "      <th>수령인 주소</th>\n",
       "      <th>결제구분</th>\n",
       "      <th>결제수단</th>\n",
       "      <th>발주일</th>\n",
       "      <th>배송국가</th>\n",
       "    </tr>\n",
       "  </thead>\n",
       "  <tbody>\n",
       "    <tr>\n",
       "      <th>1471</th>\n",
       "      <td>20210703-0000107</td>\n",
       "      <td>20210703-0000107-01</td>\n",
       "      <td>69900.0</td>\n",
       "      <td>69900.0</td>\n",
       "      <td>96</td>\n",
       "      <td>워터포미 캐나다 시서스 가루 추출물 분말 차 시저스</td>\n",
       "      <td>워터포미 캐나다 시서스 가루 추출물 분말 차 시저스(수량=1개)</td>\n",
       "      <td>1</td>\n",
       "      <td>69900.0</td>\n",
       "      <td>926</td>\n",
       "      <td>32977</td>\n",
       "      <td>충청남도 논산시 시민로307번길 28 (강산동) 부영아파트</td>\n",
       "      <td>T</td>\n",
       "      <td>휴대폰</td>\n",
       "      <td>2021-07-03 12:59:15</td>\n",
       "      <td>NaN</td>\n",
       "    </tr>\n",
       "    <tr>\n",
       "      <th>2752</th>\n",
       "      <td>20211001-0000176</td>\n",
       "      <td>20211001-0000176-01</td>\n",
       "      <td>89700.0</td>\n",
       "      <td>0.0</td>\n",
       "      <td>103</td>\n",
       "      <td>워터포미 저분자콜라겐 어류 피쉬콜라겐 먹는 엘라스틴 수용성 펩타이드 100g</td>\n",
       "      <td>워터포미 저분자콜라겐 어류 피쉬콜라겐 먹는 엘라스틴 수용성 펩타이드 100g</td>\n",
       "      <td>1</td>\n",
       "      <td>19800.0</td>\n",
       "      <td>926</td>\n",
       "      <td>32977</td>\n",
       "      <td>충청남도 논산시 시민로307번길 28 (강산동) 부영아파트</td>\n",
       "      <td>F</td>\n",
       "      <td>적립금,무통장입금</td>\n",
       "      <td>NaN</td>\n",
       "      <td>NaN</td>\n",
       "    </tr>\n",
       "    <tr>\n",
       "      <th>2753</th>\n",
       "      <td>20211001-0000176</td>\n",
       "      <td>20211001-0000176-02</td>\n",
       "      <td>89700.0</td>\n",
       "      <td>0.0</td>\n",
       "      <td>96</td>\n",
       "      <td>워터포미 캐나다 시서스 가루 추출물 분말 차 시저스</td>\n",
       "      <td>워터포미 캐나다 시서스 가루 추출물 분말 차 시저스(수량=1개)</td>\n",
       "      <td>1</td>\n",
       "      <td>69900.0</td>\n",
       "      <td>926</td>\n",
       "      <td>32977</td>\n",
       "      <td>충청남도 논산시 시민로307번길 28 (강산동) 부영아파트</td>\n",
       "      <td>F</td>\n",
       "      <td>적립금,무통장입금</td>\n",
       "      <td>NaN</td>\n",
       "      <td>NaN</td>\n",
       "    </tr>\n",
       "  </tbody>\n",
       "</table>\n",
       "</div>"
      ],
      "text/plain": [
       "                  주문번호             품목별 주문번호   총 주문금액   총 결제금액  상품번호  \\\n",
       "1471  20210703-0000107  20210703-0000107-01  69900.0  69900.0    96   \n",
       "2752  20211001-0000176  20211001-0000176-01  89700.0      0.0   103   \n",
       "2753  20211001-0000176  20211001-0000176-02  89700.0      0.0    96   \n",
       "\n",
       "                                           주문상품명  \\\n",
       "1471                워터포미 캐나다 시서스 가루 추출물 분말 차 시저스   \n",
       "2752  워터포미 저분자콜라겐 어류 피쉬콜라겐 먹는 엘라스틴 수용성 펩타이드 100g   \n",
       "2753                워터포미 캐나다 시서스 가루 추출물 분말 차 시저스   \n",
       "\n",
       "                                     주문상품명(옵션포함)  수량      판매가  수령인 수령인 우편번호  \\\n",
       "1471         워터포미 캐나다 시서스 가루 추출물 분말 차 시저스(수량=1개)   1  69900.0  926    32977   \n",
       "2752  워터포미 저분자콜라겐 어류 피쉬콜라겐 먹는 엘라스틴 수용성 펩타이드 100g   1  19800.0  926    32977   \n",
       "2753         워터포미 캐나다 시서스 가루 추출물 분말 차 시저스(수량=1개)   1  69900.0  926    32977   \n",
       "\n",
       "                                수령인 주소 결제구분       결제수단                  발주일  \\\n",
       "1471  충청남도 논산시 시민로307번길 28 (강산동) 부영아파트    T        휴대폰  2021-07-03 12:59:15   \n",
       "2752  충청남도 논산시 시민로307번길 28 (강산동) 부영아파트    F  적립금,무통장입금                  NaN   \n",
       "2753  충청남도 논산시 시민로307번길 28 (강산동) 부영아파트    F  적립금,무통장입금                  NaN   \n",
       "\n",
       "     배송국가  \n",
       "1471  NaN  \n",
       "2752  NaN  \n",
       "2753  NaN  "
      ]
     },
     "execution_count": 16,
     "metadata": {},
     "output_type": "execute_result"
    }
   ],
   "source": [
    "df_org[df_org['수령인']==926]"
   ]
  },
  {
   "cell_type": "code",
   "execution_count": 19,
   "id": "8df425ca-2895-4f4f-801b-8430530f66cd",
   "metadata": {},
   "outputs": [
    {
     "data": {
      "text/plain": [
       "수령인\n",
       "0       3\n",
       "1       1\n",
       "2       1\n",
       "3       1\n",
       "4       1\n",
       "       ..\n",
       "2055    2\n",
       "2056    1\n",
       "2057    1\n",
       "2058    1\n",
       "2059    2\n",
       "Length: 2060, dtype: int64"
      ]
     },
     "execution_count": 19,
     "metadata": {},
     "output_type": "execute_result"
    }
   ],
   "source": [
    "df_org.groupby(df_org['수령인']).size()"
   ]
  },
  {
   "cell_type": "code",
   "execution_count": null,
   "id": "4a175397-7dc5-4e10-bb5a-400108a31ba1",
   "metadata": {},
   "outputs": [],
   "source": []
  }
 ],
 "metadata": {
  "kernelspec": {
   "display_name": "sona",
   "language": "python",
   "name": "sona"
  },
  "language_info": {
   "codemirror_mode": {
    "name": "ipython",
    "version": 3
   },
   "file_extension": ".py",
   "mimetype": "text/x-python",
   "name": "python",
   "nbconvert_exporter": "python",
   "pygments_lexer": "ipython3",
   "version": "3.9.4"
  }
 },
 "nbformat": 4,
 "nbformat_minor": 5
}

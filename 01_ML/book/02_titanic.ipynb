{
 "cells": [
  {
   "cell_type": "markdown",
   "id": "c2981ad8-abbc-4f38-99f0-344919f497d9",
   "metadata": {},
   "source": [
    "# 타이타닉 생존자 예측"
   ]
  },
  {
   "cell_type": "markdown",
   "id": "67fbd890-b90e-4617-bfee-29d632d27251",
   "metadata": {},
   "source": [
    "## 데이터 불러오기"
   ]
  },
  {
   "cell_type": "code",
   "execution_count": 2,
   "id": "3f30a708-5405-4e4e-b5f1-676935ae1819",
   "metadata": {},
   "outputs": [
    {
     "data": {
      "text/html": [
       "<div>\n",
       "<style scoped>\n",
       "    .dataframe tbody tr th:only-of-type {\n",
       "        vertical-align: middle;\n",
       "    }\n",
       "\n",
       "    .dataframe tbody tr th {\n",
       "        vertical-align: top;\n",
       "    }\n",
       "\n",
       "    .dataframe thead th {\n",
       "        text-align: right;\n",
       "    }\n",
       "</style>\n",
       "<table border=\"1\" class=\"dataframe\">\n",
       "  <thead>\n",
       "    <tr style=\"text-align: right;\">\n",
       "      <th></th>\n",
       "      <th>PassengerId</th>\n",
       "      <th>Survived</th>\n",
       "      <th>Pclass</th>\n",
       "      <th>Name</th>\n",
       "      <th>Sex</th>\n",
       "      <th>Age</th>\n",
       "      <th>SibSp</th>\n",
       "      <th>Parch</th>\n",
       "      <th>Ticket</th>\n",
       "      <th>Fare</th>\n",
       "      <th>Cabin</th>\n",
       "      <th>Embarked</th>\n",
       "    </tr>\n",
       "  </thead>\n",
       "  <tbody>\n",
       "    <tr>\n",
       "      <th>0</th>\n",
       "      <td>1</td>\n",
       "      <td>0</td>\n",
       "      <td>3</td>\n",
       "      <td>Braund, Mr. Owen Harris</td>\n",
       "      <td>male</td>\n",
       "      <td>22.0</td>\n",
       "      <td>1</td>\n",
       "      <td>0</td>\n",
       "      <td>A/5 21171</td>\n",
       "      <td>7.2500</td>\n",
       "      <td>NaN</td>\n",
       "      <td>S</td>\n",
       "    </tr>\n",
       "    <tr>\n",
       "      <th>1</th>\n",
       "      <td>2</td>\n",
       "      <td>1</td>\n",
       "      <td>1</td>\n",
       "      <td>Cumings, Mrs. John Bradley (Florence Briggs Th...</td>\n",
       "      <td>female</td>\n",
       "      <td>38.0</td>\n",
       "      <td>1</td>\n",
       "      <td>0</td>\n",
       "      <td>PC 17599</td>\n",
       "      <td>71.2833</td>\n",
       "      <td>C85</td>\n",
       "      <td>C</td>\n",
       "    </tr>\n",
       "    <tr>\n",
       "      <th>2</th>\n",
       "      <td>3</td>\n",
       "      <td>1</td>\n",
       "      <td>3</td>\n",
       "      <td>Heikkinen, Miss. Laina</td>\n",
       "      <td>female</td>\n",
       "      <td>26.0</td>\n",
       "      <td>0</td>\n",
       "      <td>0</td>\n",
       "      <td>STON/O2. 3101282</td>\n",
       "      <td>7.9250</td>\n",
       "      <td>NaN</td>\n",
       "      <td>S</td>\n",
       "    </tr>\n",
       "    <tr>\n",
       "      <th>3</th>\n",
       "      <td>4</td>\n",
       "      <td>1</td>\n",
       "      <td>1</td>\n",
       "      <td>Futrelle, Mrs. Jacques Heath (Lily May Peel)</td>\n",
       "      <td>female</td>\n",
       "      <td>35.0</td>\n",
       "      <td>1</td>\n",
       "      <td>0</td>\n",
       "      <td>113803</td>\n",
       "      <td>53.1000</td>\n",
       "      <td>C123</td>\n",
       "      <td>S</td>\n",
       "    </tr>\n",
       "    <tr>\n",
       "      <th>4</th>\n",
       "      <td>5</td>\n",
       "      <td>0</td>\n",
       "      <td>3</td>\n",
       "      <td>Allen, Mr. William Henry</td>\n",
       "      <td>male</td>\n",
       "      <td>35.0</td>\n",
       "      <td>0</td>\n",
       "      <td>0</td>\n",
       "      <td>373450</td>\n",
       "      <td>8.0500</td>\n",
       "      <td>NaN</td>\n",
       "      <td>S</td>\n",
       "    </tr>\n",
       "  </tbody>\n",
       "</table>\n",
       "</div>"
      ],
      "text/plain": [
       "   PassengerId  Survived  Pclass  \\\n",
       "0            1         0       3   \n",
       "1            2         1       1   \n",
       "2            3         1       3   \n",
       "3            4         1       1   \n",
       "4            5         0       3   \n",
       "\n",
       "                                                Name     Sex   Age  SibSp  \\\n",
       "0                            Braund, Mr. Owen Harris    male  22.0      1   \n",
       "1  Cumings, Mrs. John Bradley (Florence Briggs Th...  female  38.0      1   \n",
       "2                             Heikkinen, Miss. Laina  female  26.0      0   \n",
       "3       Futrelle, Mrs. Jacques Heath (Lily May Peel)  female  35.0      1   \n",
       "4                           Allen, Mr. William Henry    male  35.0      0   \n",
       "\n",
       "   Parch            Ticket     Fare Cabin Embarked  \n",
       "0      0         A/5 21171   7.2500   NaN        S  \n",
       "1      0          PC 17599  71.2833   C85        C  \n",
       "2      0  STON/O2. 3101282   7.9250   NaN        S  \n",
       "3      0            113803  53.1000  C123        S  \n",
       "4      0            373450   8.0500   NaN        S  "
      ]
     },
     "execution_count": 2,
     "metadata": {},
     "output_type": "execute_result"
    }
   ],
   "source": [
    "import numpy as np\n",
    "import pandas as pd\n",
    "import matplotlib.pyplot as plt\n",
    "import seaborn as sns\n",
    "%matplotlib inline\n",
    "\n",
    "titanic_df = pd.read_csv('./train.csv')\n",
    "titanic_df.head()"
   ]
  },
  {
   "cell_type": "markdown",
   "id": "3368ac0a-46da-487b-b16b-d435f4426abf",
   "metadata": {},
   "source": [
    "# --------------------------------------------\n",
    "바쁜사람은 아래 요약정리한 곳으로 바로 이동 가능\n",
    "## null값 처리\n",
    "### age의 Null은 평균나이, 나머지 칼럼의 null은 n으로 변경"
   ]
  },
  {
   "cell_type": "code",
   "execution_count": 5,
   "id": "05b2ee2d-6a48-4b24-8995-6e75c7c95eeb",
   "metadata": {},
   "outputs": [
    {
     "name": "stdout",
     "output_type": "stream",
     "text": [
      "데이트 세트 null 값 개수 PassengerId    0\n",
      "Survived       0\n",
      "Pclass         0\n",
      "Name           0\n",
      "Sex            0\n",
      "Age            0\n",
      "SibSp          0\n",
      "Parch          0\n",
      "Ticket         0\n",
      "Fare           0\n",
      "Cabin          0\n",
      "Embarked       0\n",
      "dtype: int64\n"
     ]
    }
   ],
   "source": [
    "titanic_df['Age'].fillna(titanic_df['Age'].mean(), inplace=True)\n",
    "titanic_df['Cabin'].fillna('N', inplace=True)\n",
    "titanic_df['Embarked'].fillna('N', inplace=True)\n",
    "print('데이트 세트 null 값 개수', titanic_df.isnull().sum())"
   ]
  },
  {
   "cell_type": "markdown",
   "id": "3d1edd15-20ab-4560-be21-e47807a3d365",
   "metadata": {},
   "source": [
    "### 남아있는 문자열 피쳐값 확인"
   ]
  },
  {
   "cell_type": "code",
   "execution_count": 10,
   "id": "dda5ac4c-623f-4af6-8310-26e68c0766f1",
   "metadata": {},
   "outputs": [
    {
     "name": "stdout",
     "output_type": "stream",
     "text": [
      "Sex\n",
      "male      577\n",
      "female    314\n",
      "Name: Sex, dtype: int64\n",
      "\n",
      "Cabin\n",
      "N              687\n",
      "G6               4\n",
      "C23 C25 C27      4\n",
      "B96 B98          4\n",
      "D                3\n",
      "              ... \n",
      "T                1\n",
      "B71              1\n",
      "C101             1\n",
      "C90              1\n",
      "B94              1\n",
      "Name: Cabin, Length: 148, dtype: int64\n",
      "\n",
      "Embarked\n",
      "S    644\n",
      "C    168\n",
      "Q     77\n",
      "N      2\n",
      "Name: Embarked, dtype: int64\n"
     ]
    }
   ],
   "source": [
    "print('Sex')\n",
    "print(titanic_df['Sex'].value_counts())\n",
    "\n",
    "print()\n",
    "print('Cabin')\n",
    "print(titanic_df['Cabin'].value_counts())\n",
    "\n",
    "print()\n",
    "print('Embarked')\n",
    "print(titanic_df['Embarked'].value_counts())"
   ]
  },
  {
   "cell_type": "markdown",
   "id": "927f7fb8-1536-4e51-a606-feb18a0a13ef",
   "metadata": {},
   "source": [
    "* cabin 값 정리\n",
    "    * N 값이 가장 많고\n",
    "    * 선실번호 중 등급을 나타내는 가장 앞번호가 중요"
   ]
  },
  {
   "cell_type": "code",
   "execution_count": 12,
   "id": "0b045c81-7d95-49df-94d4-3cec69689850",
   "metadata": {},
   "outputs": [
    {
     "data": {
      "text/plain": [
       "0    N\n",
       "1    C\n",
       "2    N\n",
       "3    C\n",
       "4    N\n",
       "Name: Cabin, dtype: object"
      ]
     },
     "execution_count": 12,
     "metadata": {},
     "output_type": "execute_result"
    }
   ],
   "source": [
    "titanic_df['Cabin'] = titanic_df['Cabin'].str[:1]\n",
    "titanic_df['Cabin'].head()"
   ]
  },
  {
   "cell_type": "markdown",
   "id": "bc68ea15-43e2-4926-96ba-05fa9aeff587",
   "metadata": {},
   "source": [
    "* 생존자수 비교"
   ]
  },
  {
   "cell_type": "code",
   "execution_count": 13,
   "id": "d15f866b-07aa-4f4d-a610-58a471d4d0cb",
   "metadata": {},
   "outputs": [
    {
     "data": {
      "text/plain": [
       "Sex     Survived\n",
       "female  0            81\n",
       "        1           233\n",
       "male    0           468\n",
       "        1           109\n",
       "Name: Survived, dtype: int64"
      ]
     },
     "execution_count": 13,
     "metadata": {},
     "output_type": "execute_result"
    }
   ],
   "source": [
    "titanic_df.groupby(['Sex', 'Survived'])['Survived'].count()"
   ]
  },
  {
   "cell_type": "code",
   "execution_count": 16,
   "id": "9ba329e2-d32a-4842-8550-c831e6c19da0",
   "metadata": {},
   "outputs": [
    {
     "data": {
      "text/plain": [
       "<AxesSubplot:xlabel='Sex', ylabel='Survived'>"
      ]
     },
     "execution_count": 16,
     "metadata": {},
     "output_type": "execute_result"
    },
    {
     "data": {
      "image/png": "[encoded data removed]",
      "text/plain": [
       "<Figure size 432x288 with 1 Axes>"
      ]
     },
     "metadata": {
      "needs_background": "light"
     },
     "output_type": "display_data"
    }
   ],
   "source": [
    "# 성별에 따른 생존자수\n",
    "sns.barplot(x='Sex', y='Survived', data=titanic_df)"
   ]
  },
  {
   "cell_type": "code",
   "execution_count": 18,
   "id": "db6f44f7-91c6-4bcd-8ecb-8502ba2253b7",
   "metadata": {},
   "outputs": [
    {
     "data": {
      "text/plain": [
       "<AxesSubplot:xlabel='Pclass', ylabel='Survived'>"
      ]
     },
     "execution_count": 18,
     "metadata": {},
     "output_type": "execute_result"
    },
    {
     "data": {
      "image/png": "[encoded data removed]",
      "text/plain": [
       "<Figure size 432x288 with 1 Axes>"
      ]
     },
     "metadata": {
      "needs_background": "light"
     },
     "output_type": "display_data"
    }
   ],
   "source": [
    "# 객실 등급별 생존자수\n",
    "sns.barplot(x='Pclass', y='Survived', hue='Sex', data=titanic_df)"
   ]
  },
  {
   "cell_type": "code",
   "execution_count": 19,
   "id": "bd2138d2-e7d1-4778-bdaf-ce2d7993a08e",
   "metadata": {},
   "outputs": [
    {
     "data": {
      "image/png": "[encoded data removed]",
      "text/plain": [
       "<Figure size 432x288 with 1 Axes>"
      ]
     },
     "metadata": {
      "needs_background": "light"
     },
     "output_type": "display_data"
    }
   ],
   "source": [
    "# 나이별 생존자수\n",
    "def get_category(age):\n",
    "    cat=''\n",
    "    if age <= -1: cat = 'Unknown'\n",
    "    elif age <= 10: cat = 'Child'\n",
    "    elif age <=20: cat = 'Teenager'\n",
    "    elif age <=35: cat = 'Young Adult'\n",
    "    elif age <= 60: cat = 'Adult'\n",
    "    else : cat = 'Elderly'\n",
    "    \n",
    "    return cat\n",
    "\n",
    "# x축을 내가 원하는 순서로 정리\n",
    "x_names = ['Unkown', 'Child', 'Teenager', 'Young Adult', 'Adult', 'Elderly']\n",
    "\n",
    "# lambda 이용\n",
    "titanic_df['Age_cat'] = titanic_df['Age'].apply(lambda x : get_category(x))\n",
    "sns.barplot(x='Age_cat', y='Survived', hue='Sex', data=titanic_df, order=x_names)\n",
    "titanic_df.drop('Age_cat', axis=1, inplace=True)"
   ]
  },
  {
   "cell_type": "markdown",
   "id": "42032e19-9a6a-4fb7-b795-7ecd5c73d184",
   "metadata": {},
   "source": [
    "* 문자열 카테고리 피처를 숫자형으로 변환"
   ]
  },
  {
   "cell_type": "code",
   "execution_count": 21,
   "id": "b0221fe9-aa03-432c-809b-7df3944ec368",
   "metadata": {},
   "outputs": [
    {
     "data": {
      "text/html": [
       "<div>\n",
       "<style scoped>\n",
       "    .dataframe tbody tr th:only-of-type {\n",
       "        vertical-align: middle;\n",
       "    }\n",
       "\n",
       "    .dataframe tbody tr th {\n",
       "        vertical-align: top;\n",
       "    }\n",
       "\n",
       "    .dataframe thead th {\n",
       "        text-align: right;\n",
       "    }\n",
       "</style>\n",
       "<table border=\"1\" class=\"dataframe\">\n",
       "  <thead>\n",
       "    <tr style=\"text-align: right;\">\n",
       "      <th></th>\n",
       "      <th>PassengerId</th>\n",
       "      <th>Survived</th>\n",
       "      <th>Pclass</th>\n",
       "      <th>Name</th>\n",
       "      <th>Sex</th>\n",
       "      <th>Age</th>\n",
       "      <th>SibSp</th>\n",
       "      <th>Parch</th>\n",
       "      <th>Ticket</th>\n",
       "      <th>Fare</th>\n",
       "      <th>Cabin</th>\n",
       "      <th>Embarked</th>\n",
       "    </tr>\n",
       "  </thead>\n",
       "  <tbody>\n",
       "    <tr>\n",
       "      <th>0</th>\n",
       "      <td>1</td>\n",
       "      <td>0</td>\n",
       "      <td>3</td>\n",
       "      <td>Braund, Mr. Owen Harris</td>\n",
       "      <td>1</td>\n",
       "      <td>22.0</td>\n",
       "      <td>1</td>\n",
       "      <td>0</td>\n",
       "      <td>A/5 21171</td>\n",
       "      <td>7.2500</td>\n",
       "      <td>7</td>\n",
       "      <td>3</td>\n",
       "    </tr>\n",
       "    <tr>\n",
       "      <th>1</th>\n",
       "      <td>2</td>\n",
       "      <td>1</td>\n",
       "      <td>1</td>\n",
       "      <td>Cumings, Mrs. John Bradley (Florence Briggs Th...</td>\n",
       "      <td>0</td>\n",
       "      <td>38.0</td>\n",
       "      <td>1</td>\n",
       "      <td>0</td>\n",
       "      <td>PC 17599</td>\n",
       "      <td>71.2833</td>\n",
       "      <td>2</td>\n",
       "      <td>0</td>\n",
       "    </tr>\n",
       "    <tr>\n",
       "      <th>2</th>\n",
       "      <td>3</td>\n",
       "      <td>1</td>\n",
       "      <td>3</td>\n",
       "      <td>Heikkinen, Miss. Laina</td>\n",
       "      <td>0</td>\n",
       "      <td>26.0</td>\n",
       "      <td>0</td>\n",
       "      <td>0</td>\n",
       "      <td>STON/O2. 3101282</td>\n",
       "      <td>7.9250</td>\n",
       "      <td>7</td>\n",
       "      <td>3</td>\n",
       "    </tr>\n",
       "    <tr>\n",
       "      <th>3</th>\n",
       "      <td>4</td>\n",
       "      <td>1</td>\n",
       "      <td>1</td>\n",
       "      <td>Futrelle, Mrs. Jacques Heath (Lily May Peel)</td>\n",
       "      <td>0</td>\n",
       "      <td>35.0</td>\n",
       "      <td>1</td>\n",
       "      <td>0</td>\n",
       "      <td>113803</td>\n",
       "      <td>53.1000</td>\n",
       "      <td>2</td>\n",
       "      <td>3</td>\n",
       "    </tr>\n",
       "    <tr>\n",
       "      <th>4</th>\n",
       "      <td>5</td>\n",
       "      <td>0</td>\n",
       "      <td>3</td>\n",
       "      <td>Allen, Mr. William Henry</td>\n",
       "      <td>1</td>\n",
       "      <td>35.0</td>\n",
       "      <td>0</td>\n",
       "      <td>0</td>\n",
       "      <td>373450</td>\n",
       "      <td>8.0500</td>\n",
       "      <td>7</td>\n",
       "      <td>3</td>\n",
       "    </tr>\n",
       "  </tbody>\n",
       "</table>\n",
       "</div>"
      ],
      "text/plain": [
       "   PassengerId  Survived  Pclass  \\\n",
       "0            1         0       3   \n",
       "1            2         1       1   \n",
       "2            3         1       3   \n",
       "3            4         1       1   \n",
       "4            5         0       3   \n",
       "\n",
       "                                                Name  Sex   Age  SibSp  Parch  \\\n",
       "0                            Braund, Mr. Owen Harris    1  22.0      1      0   \n",
       "1  Cumings, Mrs. John Bradley (Florence Briggs Th...    0  38.0      1      0   \n",
       "2                             Heikkinen, Miss. Laina    0  26.0      0      0   \n",
       "3       Futrelle, Mrs. Jacques Heath (Lily May Peel)    0  35.0      1      0   \n",
       "4                           Allen, Mr. William Henry    1  35.0      0      0   \n",
       "\n",
       "             Ticket     Fare  Cabin  Embarked  \n",
       "0         A/5 21171   7.2500      7         3  \n",
       "1          PC 17599  71.2833      2         0  \n",
       "2  STON/O2. 3101282   7.9250      7         3  \n",
       "3            113803  53.1000      2         3  \n",
       "4            373450   8.0500      7         3  "
      ]
     },
     "execution_count": 21,
     "metadata": {},
     "output_type": "execute_result"
    }
   ],
   "source": [
    "from sklearn import preprocessing\n",
    "\n",
    "def encode_features(dataDF):\n",
    "    features = ['Cabin', 'Sex', 'Embarked']\n",
    "    \n",
    "    for feature in features:\n",
    "        le = preprocessing.LabelEncoder()\n",
    "        le = le.fit(dataDF[feature])\n",
    "        dataDF[feature] = le.transform(dataDF[feature])\n",
    "        \n",
    "    return dataDF\n",
    "\n",
    "titanic_df = encode_features(titanic_df)\n",
    "titanic_df.head()"
   ]
  },
  {
   "cell_type": "markdown",
   "id": "0e98e920-6ade-4699-846e-16eea6abd82a",
   "metadata": {},
   "source": [
    "여기까지 내용을 아래 요약정리\n",
    "# ------------------------------------------------------\n",
    "## 요약정리"
   ]
  },
  {
   "cell_type": "code",
   "execution_count": 25,
   "id": "ffeea50c-51c7-42e3-a50b-493781eea6ba",
   "metadata": {},
   "outputs": [],
   "source": [
    "# null 처리 함수\n",
    "def fillna(df):\n",
    "    df['Age'].fillna(df['Age'].mean(), inplace=True)\n",
    "    df['Cabin'].fillna('N', inplace=True)\n",
    "    df['Embarked'].fillna('N', inplace=True)\n",
    "    df['Fare'].fillna('0', inplace=True)\n",
    "    return df\n",
    "\n",
    "# 머신러닝 알고리즘에 불필요한 속성 제거\n",
    "def drop_features(df):\n",
    "    df.drop(['PassengerId', 'Name', 'Ticket'], axis=1, inplace=True)\n",
    "    return df\n",
    "\n",
    "# 레이블 인코딩 수행\n",
    "def format_features(df):\n",
    "    df['Cabin'] = df['Cabin'].str[:1] # 선실번호 중 등급을 나타내는 맨 앞글자만 남김\n",
    "    \n",
    "    features = ['Cabin', 'Sex', 'Embarked']\n",
    "    \n",
    "    for feature in features:\n",
    "        le = preprocessing.LabelEncoder()\n",
    "        le = le.fit(df[feature])\n",
    "        df[feature] = le.transform(df[feature])\n",
    "    return df\n",
    "\n",
    "# 앞에서 설정한 데이터 전처리 함수 호출\n",
    "def transform_features(df):\n",
    "    df = fillna(df)\n",
    "    df = drop_features(df)\n",
    "    df = format_features(df)\n",
    "    return df"
   ]
  },
  {
   "cell_type": "code",
   "execution_count": 26,
   "id": "afc7d2cf-42b2-476e-a0a1-c62ca3954703",
   "metadata": {},
   "outputs": [],
   "source": [
    "# 원본 데이터 재로딩, 피처/레이블 데이터 세트 추출\n",
    "titanic_df = pd.read_csv('./train.csv')\n",
    "\n",
    "y_titanic_df = titanic_df['Survived']\n",
    "x_titanic_df = titanic_df.drop('Survived', axis=1)\n",
    "\n",
    "x_titanic_df = transform_features(x_titanic_df)"
   ]
  },
  {
   "cell_type": "code",
   "execution_count": 27,
   "id": "600db982-21ff-425a-82d9-5c06425229ab",
   "metadata": {},
   "outputs": [],
   "source": [
    "# 학습 데스트 데이터 분리\n",
    "from sklearn.model_selection import train_test_split\n",
    "\n",
    "x_train, x_test, y_train, y_test = train_test_split(x_titanic_df, y_titanic_df,\n",
    "                                                   test_size = 0.2, random_state = 11)"
   ]
  },
  {
   "cell_type": "markdown",
   "id": "66d281b8-deaf-4632-9be4-c7e28cf6afe4",
   "metadata": {},
   "source": [
    "## 알고리즘 종류별 학습 및 생존자 예측"
   ]
  },
  {
   "cell_type": "code",
   "execution_count": 28,
   "id": "724ce6f0-281d-493c-8e2f-2f22beacd047",
   "metadata": {},
   "outputs": [],
   "source": [
    "from sklearn.tree import DecisionTreeClassifier # 의사결정트리\n",
    "from sklearn.ensemble import RandomForestClassifier # 랜덤포레스트\n",
    "from sklearn.linear_model import LogisticRegression # 로지스틱회귀\n",
    "from sklearn.metrics import accuracy_score # 정확도"
   ]
  },
  {
   "cell_type": "markdown",
   "id": "e2f6df73-2e73-47b5-a50c-0851b57da445",
   "metadata": {},
   "source": [
    "### 의사결정트리"
   ]
  },
  {
   "cell_type": "code",
   "execution_count": 33,
   "id": "29df1b0c-824b-432e-ae8c-4feba2761df5",
   "metadata": {},
   "outputs": [
    {
     "name": "stdout",
     "output_type": "stream",
     "text": [
      "의사결정트리 정확도 : 0.7877094972067039\n"
     ]
    }
   ],
   "source": [
    "# 사이킷런 Classifier 클래스 생성\n",
    "df_clf = DecisionTreeClassifier(random_state=11)\n",
    "\n",
    "# 학습\n",
    "df_clf.fit(x_train, y_train)\n",
    "\n",
    "# 예측\n",
    "df_pred = df_clf.predict(x_test)\n",
    "\n",
    "# 평가\n",
    "print(f'의사결정트리 정확도 : {accuracy_score(y_test, df_pred)}')"
   ]
  },
  {
   "cell_type": "markdown",
   "id": "29927160-65ae-487e-922f-f6e7e9244f41",
   "metadata": {},
   "source": [
    "### 랜덤 포레스트"
   ]
  },
  {
   "cell_type": "code",
   "execution_count": 35,
   "id": "f91d3df6-df64-4b5b-9a91-69bf1bba369d",
   "metadata": {},
   "outputs": [
    {
     "name": "stdout",
     "output_type": "stream",
     "text": [
      "랜덤포레스트 정확도 : 0.8547486033519553\n"
     ]
    }
   ],
   "source": [
    "# 사이킷런 Classifier 클래스 생성\n",
    "rf_clf = RandomForestClassifier(random_state=11)\n",
    "\n",
    "# 학습\n",
    "rf_clf.fit(x_train, y_train)\n",
    "\n",
    "# 예측\n",
    "rf_pred = rf_clf.predict(x_test)\n",
    "\n",
    "# 평가\n",
    "print(f'랜덤포레스트 정확도 : {accuracy_score(y_test, rf_pred)}')"
   ]
  },
  {
   "cell_type": "markdown",
   "id": "a52f9ed4-f587-40ca-bfea-3be587c07d02",
   "metadata": {},
   "source": [
    "### 로지스틱 회귀"
   ]
  },
  {
   "cell_type": "code",
   "execution_count": 56,
   "id": "b58b4d28-d6ac-4c3a-84ae-a685948ad786",
   "metadata": {},
   "outputs": [
    {
     "name": "stdout",
     "output_type": "stream",
     "text": [
      "로지스틱회귀 정확도 : 0.8491620111731844\n"
     ]
    },
    {
     "name": "stderr",
     "output_type": "stream",
     "text": [
      "/Users/limkahyun/anaconda3/envs/sona/lib/python3.9/site-packages/sklearn/linear_model/_logistic.py:763: ConvergenceWarning: lbfgs failed to converge (status=1):\n",
      "STOP: TOTAL NO. of ITERATIONS REACHED LIMIT.\n",
      "\n",
      "Increase the number of iterations (max_iter) or scale the data as shown in:\n",
      "    https://scikit-learn.org/stable/modules/preprocessing.html\n",
      "Please also refer to the documentation for alternative solver options:\n",
      "    https://scikit-learn.org/stable/modules/linear_model.html#logistic-regression\n",
      "  n_iter_i = _check_optimize_result(\n"
     ]
    }
   ],
   "source": [
    "# 사이킷런 Classifier 클래스 생성\n",
    "lr_clf = LogisticRegression()\n",
    "\n",
    "# 학습\n",
    "lr_clf.fit(x_train, y_train)\n",
    "\n",
    "# 예측\n",
    "lr_pred = lr_clf.predict(x_test)\n",
    "\n",
    "# 평가\n",
    "print(f'로지스틱회귀 정확도 : {accuracy_score(y_test, lr_pred)}')"
   ]
  },
  {
   "cell_type": "code",
   "execution_count": null,
   "id": "57170d04-02bc-430e-8903-a6f77770ec22",
   "metadata": {},
   "outputs": [],
   "source": []
  },
  {
   "cell_type": "markdown",
   "id": "4470ddb9-dc99-49f0-b840-085e44bef73c",
   "metadata": {},
   "source": [
    "## 의사결정트리 교차검증\n",
    "### 1. KFold 교차검증"
   ]
  },
  {
   "cell_type": "code",
   "execution_count": 46,
   "id": "7c261523-6322-44ee-9742-d8f273afb9ca",
   "metadata": {},
   "outputs": [
    {
     "name": "stdout",
     "output_type": "stream",
     "text": [
      "교차검증 0 정확도 : 0.7541899441340782\n",
      "교차검증 1 정확도 : 0.7808988764044944\n",
      "교차검증 2 정확도 : 0.7865168539325843\n",
      "교차검증 3 정확도 : 0.7696629213483146\n",
      "교차검증 4 정확도 : 0.8202247191011236\n",
      "평균 정확도 : 0.782298662984119\n"
     ]
    }
   ],
   "source": [
    "from sklearn.model_selection import KFold\n",
    "\n",
    "def exec_kfold(clf, folds=5):\n",
    "    kfold = KFold(n_splits=folds)\n",
    "    scores = []\n",
    "    \n",
    "    # kfold 교차검증 수행\n",
    "    for iter_count, (train_index, test_index) in enumerate(kfold.split(x_titanic_df)):\n",
    "        x_train, x_test = x_titanic_df.values[train_index], x_titanic_df.values[test_index]\n",
    "        y_train, y_test = y_titanic_df.values[train_index], y_titanic_df.values[test_index]\n",
    "        \n",
    "        # classifier 학습, 예측, 정확도 계산\n",
    "        clf.fit(x_train, y_train)\n",
    "        predictions = clf.predict(x_test)\n",
    "        accuracy = accuracy_score(y_test, predictions)\n",
    "        scores.append(accuracy)\n",
    "    \n",
    "        print(f\"교차검증 {iter_count} 정확도 : {accuracy}\")\n",
    "        \n",
    "    # 5개 폴드 평균 정확도 계산\n",
    "    mean_score = np.mean(scores)\n",
    "    print(f\"평균 정확도 : {mean_score}\")\n",
    "        \n",
    "# exec_kfold 호출\n",
    "exec_kfold(df_clf, folds=5)"
   ]
  },
  {
   "cell_type": "markdown",
   "id": "2b34570c-0023-4256-8de1-02c98df8a050",
   "metadata": {},
   "source": [
    "### 2. cross_val_score() 교차검증\n",
    "cross_val_score()는 기본적으로 stratifiedKFold를 이용해서 교차검증 진행"
   ]
  },
  {
   "cell_type": "code",
   "execution_count": 51,
   "id": "f4a1b919-fa1a-453a-818e-4cd975d1062a",
   "metadata": {},
   "outputs": [
    {
     "name": "stdout",
     "output_type": "stream",
     "text": [
      "교차검증 0 정확도 : 0.7430167597765364\n",
      "교차검증 1 정확도 : 0.7752808988764045\n",
      "교차검증 2 정확도 : 0.7921348314606742\n",
      "교차검증 3 정확도 : 0.7865168539325843\n",
      "교차검증 4 정확도 : 0.8426966292134831\n",
      "평균정확도 : 0.7879291946519366\n"
     ]
    }
   ],
   "source": [
    "from sklearn.model_selection import cross_val_score\n",
    "\n",
    "scores = cross_val_score(df_clf, x_titanic_df, y_titanic_df, cv=5)\n",
    "\n",
    "for iter_count, accuracy in enumerate(scores):\n",
    "    print(f\"교차검증 {iter_count} 정확도 : {accuracy}\")\n",
    "    \n",
    "print(f\"평균정확도 : {np.mean(scores)}\")"
   ]
  },
  {
   "cell_type": "markdown",
   "id": "8e8375bb-4614-4ca1-b103-07db11e4b456",
   "metadata": {},
   "source": [
    "### 3. GridSearchCV 교차검증"
   ]
  },
  {
   "cell_type": "code",
   "execution_count": 55,
   "id": "06bf56a0-5c49-48d2-8d59-2d861d45286f",
   "metadata": {},
   "outputs": [
    {
     "name": "stdout",
     "output_type": "stream",
     "text": [
      "최적 하이퍼 파라미터 :  {'max_depth': 3, 'min_samples_leaf': 5, 'min_samples_split': 2}\n",
      "최고 정확도 : 0.7991825076332119\n",
      "향상된 정확도 : 0.8715083798882681\n"
     ]
    }
   ],
   "source": [
    "from sklearn.model_selection import GridSearchCV\n",
    "\n",
    "parameters = {'max_depth':[2, 3, 5, 10],\n",
    "              'min_samples_split':[2, 3, 5],\n",
    "              'min_samples_leaf':[1, 5, 8]}\n",
    "\n",
    "grid_dclf = GridSearchCV(df_clf, param_grid = parameters, scoring='accuracy', cv=5)\n",
    "grid_dclf.fit(x_train, y_train)\n",
    "\n",
    "print('최적 하이퍼 파라미터 : ', grid_dclf.best_params_)\n",
    "print(f'최고 정확도 : {grid_dclf.best_score_}')\n",
    "best_dclf = grid_dclf.best_estimator_\n",
    "\n",
    "# 예측 및 평가\n",
    "dpredictions = best_dclf.predict(x_test)\n",
    "accuracy = accuracy_score(y_test, dpredictions)\n",
    "print(f'향상된 정확도 : {accuracy}')"
   ]
  },
  {
   "cell_type": "code",
   "execution_count": null,
   "id": "377d4afd-332a-4aa2-9962-3a460f951c8b",
   "metadata": {},
   "outputs": [],
   "source": []
  }
 ],
 "metadata": {
  "kernelspec": {
   "display_name": "sona",
   "language": "python",
   "name": "sona"
  },
  "language_info": {
   "codemirror_mode": {
    "name": "ipython",
    "version": 3
   },
   "file_extension": ".py",
   "mimetype": "text/x-python",
   "name": "python",
   "nbconvert_exporter": "python",
   "pygments_lexer": "ipython3",
   "version": "3.9.4"
  }
 },
 "nbformat": 4,
 "nbformat_minor": 5
}

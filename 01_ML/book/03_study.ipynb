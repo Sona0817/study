{
 "cells": [
  {
   "cell_type": "code",
   "execution_count": 17,
   "id": "b0dec421-1133-4dfa-be9a-48e410dab888",
   "metadata": {},
   "outputs": [],
   "source": [
    "%config Comleter.use_jedi = False"
   ]
  },
  {
   "cell_type": "code",
   "execution_count": 22,
   "id": "6f171b20-ce1b-4a79-8ae6-7e72fea51f35",
   "metadata": {},
   "outputs": [],
   "source": [
    "from sklearn.base import BaseEstimator\n",
    "import numpy as np\n",
    "\n",
    "class MyDummyClassifier(BaseEstimator):\n",
    "    \n",
    "    # fit() 메서드는 아무것도 학습하지 않음\n",
    "    def fit(self, X, y=None):\n",
    "        pass\n",
    "    \n",
    "    # predict() 메서드는 Sex피처가 1이면 0, 그렇지 않으면 1로 예측\n",
    "    def predict(self, X):\n",
    "        pred = np.zeros((X.shape[0], 1))\n",
    "        \n",
    "        for i in range (X.shape[0]):\n",
    "            if X['Sex'].iloc[i] == 1:\n",
    "                pred[i] = 0\n",
    "            else : pred[i] = 1\n",
    "                \n",
    "        return pred"
   ]
  },
  {
   "cell_type": "code",
   "execution_count": 23,
   "id": "16100185-b85c-4de4-9a04-5410ddbc90a4",
   "metadata": {},
   "outputs": [],
   "source": [
    "import pandas as pd\n",
    "from sklearn.model_selection import train_test_split\n",
    "from sklearn.metrics import accuracy_score\n",
    "from sklearn import preprocessing\n",
    "\n",
    "# 원본 데이터 로딩\n",
    "titanic_df = pd.read_csv('./train.csv')\n",
    "\n",
    "# 02 titanic에서 사용한 전처리 함수 불러오기\n",
    "# null 처리 함수\n",
    "def fillna(df):\n",
    "    df['Age'].fillna(df['Age'].mean(), inplace=True)\n",
    "    df['Cabin'].fillna('N', inplace=True)\n",
    "    df['Embarked'].fillna('N', inplace=True)\n",
    "    df['Fare'].fillna('0', inplace=True)\n",
    "    return df\n",
    "\n",
    "# 머신러닝 알고리즘에 불필요한 속성 제거\n",
    "def drop_features(df):\n",
    "    df.drop(['PassengerId', 'Name', 'Ticket'], axis=1, inplace=True)\n",
    "    return df\n",
    "\n",
    "# 레이블 인코딩 수행\n",
    "def format_features(df):\n",
    "    df['Cabin'] = df['Cabin'].str[:1] # 선실번호 중 등급을 나타내는 맨 앞글자만 남김\n",
    "    \n",
    "    features = ['Cabin', 'Sex', 'Embarked']\n",
    "    \n",
    "    for feature in features:\n",
    "        le = preprocessing.LabelEncoder()\n",
    "        le = le.fit(df[feature])\n",
    "        df[feature] = le.transform(df[feature])\n",
    "    return df\n",
    "\n",
    "# 앞에서 설정한 데이터 전처리 함수 호출\n",
    "def transform_features(df):\n",
    "    df = fillna(df)\n",
    "    df = drop_features(df)\n",
    "    df = format_features(df)\n",
    "    return df"
   ]
  },
  {
   "cell_type": "code",
   "execution_count": 24,
   "id": "4799fc1a-d5a2-4eff-b81c-f45a7324f9c0",
   "metadata": {},
   "outputs": [],
   "source": [
    "# 데이터 전처리, 분리\n",
    "y_titanic_df = titanic_df['Survived']\n",
    "x_titanic_df = titanic_df.drop('Survived', axis=1)\n",
    "x_titanic_df = transform_features(x_titanic_df)\n",
    "x_train, x_test, y_train, y_test = train_test_split(x_titanic_df, y_titanic_df,\n",
    "                                                   test_size=0.2, random_state=0)"
   ]
  },
  {
   "cell_type": "code",
   "execution_count": 25,
   "id": "fe22ca58-de01-41bd-b868-e29417357b3e",
   "metadata": {},
   "outputs": [
    {
     "name": "stdout",
     "output_type": "stream",
     "text": [
      "Dummy 정확도 : 0.7877094972067039\n"
     ]
    }
   ],
   "source": [
    "# 학습 예측 평가\n",
    "myclf = MyDummyClassifier()\n",
    "myclf.fit(x_train, y_train)\n",
    "\n",
    "mypredictions = myclf.predict(x_test)\n",
    "print(f'Dummy 정확도 : {accuracy_score(y_test, mypredictions)}')"
   ]
  },
  {
   "cell_type": "code",
   "execution_count": null,
   "id": "507196e1-6055-4536-9423-4c3cb257efd4",
   "metadata": {},
   "outputs": [],
   "source": []
  }
 ],
 "metadata": {
  "kernelspec": {
   "display_name": "sona",
   "language": "python",
   "name": "sona"
  },
  "language_info": {
   "codemirror_mode": {
    "name": "ipython",
    "version": 3
   },
   "file_extension": ".py",
   "mimetype": "text/x-python",
   "name": "python",
   "nbconvert_exporter": "python",
   "pygments_lexer": "ipython3",
   "version": "3.9.4"
  }
 },
 "nbformat": 4,
 "nbformat_minor": 5
}

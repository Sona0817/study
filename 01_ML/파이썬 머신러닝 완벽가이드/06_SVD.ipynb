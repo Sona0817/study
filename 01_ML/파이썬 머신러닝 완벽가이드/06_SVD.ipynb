{
 "cells": [
  {
   "cell_type": "markdown",
   "id": "8eadcade-a825-42d3-bbb5-c3922ae9b854",
   "metadata": {},
   "source": [
    "# SVD 특이값 분해\n",
    "https://angeloyeo.github.io/2019/08/01/SVD.html"
   ]
  },
  {
   "cell_type": "code",
   "execution_count": 1,
   "id": "e34e1134-62d8-473c-acd2-754d34b9e353",
   "metadata": {},
   "outputs": [
    {
     "name": "stdout",
     "output_type": "stream",
     "text": [
      "[[-0.212 -0.285 -0.574 -0.44 ]\n",
      " [-0.33   1.184  1.615  0.367]\n",
      " [-0.014  0.63   1.71  -1.327]\n",
      " [ 0.402 -0.191  1.404 -1.969]]\n"
     ]
    }
   ],
   "source": [
    "# svd 호출\n",
    "import numpy as np\n",
    "from numpy.linalg import svd\n",
    "\n",
    "# 4*4 랜덤 행렬a 생성\n",
    "np.random.seed(121)\n",
    "a = np.random.randn(4, 4)\n",
    "print(np.round(a, 3))"
   ]
  },
  {
   "cell_type": "code",
   "execution_count": 2,
   "id": "6d41f741-e172-49c4-963d-e1893cd9014c",
   "metadata": {},
   "outputs": [
    {
     "name": "stdout",
     "output_type": "stream",
     "text": [
      "(4, 4) (4,) (4, 4)\n",
      "U matrix:\n",
      " [[-0.079 -0.318  0.867  0.376]\n",
      " [ 0.383  0.787  0.12   0.469]\n",
      " [ 0.656  0.022  0.357 -0.664]\n",
      " [ 0.645 -0.529 -0.328  0.444]]\n",
      "Sigma Value:\n",
      " [3.423 2.023 0.463 0.079]\n",
      "V transpose matrix:\n",
      " [[ 0.041  0.224  0.786 -0.574]\n",
      " [-0.2    0.562  0.37   0.712]\n",
      " [-0.778  0.395 -0.333 -0.357]\n",
      " [-0.593 -0.692  0.366  0.189]]\n"
     ]
    }
   ],
   "source": [
    "# 행렬a를 U, 시그마, Vt로 분해(svd이용)\n",
    "U, Sigma, Vt = svd(a)\n",
    "print(U.shape, Sigma.shape, Vt.shape)\n",
    "print('U matrix:\\n',np.round(U, 3))\n",
    "print('Sigma Value:\\n',np.round(Sigma, 3))\n",
    "print('V transpose matrix:\\n',np.round(Vt, 3))"
   ]
  },
  {
   "cell_type": "markdown",
   "id": "ec963a3d-7e1b-4867-973d-b132032dced2",
   "metadata": {},
   "source": [
    "시그마의 경우 대각선 이외의 0값을 제외한 1차원 행렬로 반환됨"
   ]
  },
  {
   "cell_type": "code",
   "execution_count": 3,
   "id": "b2b5d528-2e1b-485b-98da-7fbb7ea8023a",
   "metadata": {},
   "outputs": [
    {
     "name": "stdout",
     "output_type": "stream",
     "text": [
      "[[-0.212 -0.285 -0.574 -0.44 ]\n",
      " [-0.33   1.184  1.615  0.367]\n",
      " [-0.014  0.63   1.71  -1.327]\n",
      " [ 0.402 -0.191  1.404 -1.969]]\n"
     ]
    }
   ],
   "source": [
    "# 시그마를 0을 포함한 행렬로 변환\n",
    "Sigma_mat = np.diag(Sigma)\n",
    "\n",
    "# 원본으로 복원 : 내적 이용\n",
    "a_ = np.dot(np.dot(U, Sigma_mat), Vt)\n",
    "\n",
    "print(np.round(a_, 3))"
   ]
  },
  {
   "cell_type": "code",
   "execution_count": 4,
   "id": "a032cafd-12dc-4757-9bcc-4130ba83c16b",
   "metadata": {},
   "outputs": [
    {
     "name": "stdout",
     "output_type": "stream",
     "text": [
      "[[-0.212 -0.285 -0.574 -0.44 ]\n",
      " [-0.33   1.184  1.615  0.367]\n",
      " [-0.542  0.899  1.041 -0.073]\n",
      " [-0.212 -0.285 -0.574 -0.44 ]]\n"
     ]
    }
   ],
   "source": [
    "# 의존성이 있는 경우를 확인하기 위해 의존성이 있는 행렬로 변환\n",
    "a[2] = a[0] + a[1] # 3번째줄은 1,2번째 줄을 더한 값\n",
    "a[3] = a[0] # 4번째 줄은 1번 줄과 동일\n",
    "print(np.round(a,3))"
   ]
  },
  {
   "cell_type": "code",
   "execution_count": 5,
   "id": "190769a8-38e4-4820-963c-5b44d7a6d7ce",
   "metadata": {},
   "outputs": [
    {
     "name": "stdout",
     "output_type": "stream",
     "text": [
      "(4, 4) (4,) (4, 4)\n",
      "U matrix:\n",
      " [[ 0.246  0.583 -0.071 -0.771]\n",
      " [-0.774 -0.017  0.551 -0.31 ]\n",
      " [-0.529  0.566 -0.551  0.31 ]\n",
      " [ 0.246  0.583  0.623  0.461]]\n",
      "Sigma Value:\n",
      " [2.663 0.807 0.    0.   ]\n",
      "V transpose matrix:\n",
      " [[ 0.164 -0.575 -0.782 -0.173]\n",
      " [-0.68   0.194 -0.132 -0.695]\n",
      " [-0.703 -0.444  0.056  0.553]\n",
      " [-0.129  0.659 -0.606  0.426]]\n"
     ]
    }
   ],
   "source": [
    "# 의존성이 높아진 행렬a를 svd분해\n",
    "U, Sigma, Vt = svd(a)\n",
    "print(U.shape, Sigma.shape, Vt.shape)\n",
    "print('U matrix:\\n',np.round(U, 3))\n",
    "print('Sigma Value:\\n',np.round(Sigma, 3))\n",
    "print('V transpose matrix:\\n',np.round(Vt, 3))"
   ]
  },
  {
   "cell_type": "markdown",
   "id": "49ae0ddf-8603-44a3-89fb-2c3dbc51900f",
   "metadata": {},
   "source": [
    "시그마가 0인 값이 생겼는데 선형 독립인 로우 벡터의 개수가 2개라는 의미  \n",
    "3,4번줄이 의존성이 생겼기 때문"
   ]
  },
  {
   "cell_type": "code",
   "execution_count": 6,
   "id": "53ec7b82-46e2-4e7c-a650-f6d5cce723c1",
   "metadata": {},
   "outputs": [
    {
     "name": "stdout",
     "output_type": "stream",
     "text": [
      "(4, 2) (2, 2) (2, 4)\n",
      "[[-0.212 -0.285 -0.574 -0.44 ]\n",
      " [-0.33   1.184  1.615  0.367]\n",
      " [-0.542  0.899  1.041 -0.073]\n",
      " [-0.212 -0.285 -0.574 -0.44 ]]\n"
     ]
    }
   ],
   "source": [
    "# 원복할 때는 시그마값이 2개만 있기 때문에 시그마값 2개에 대해서만 내적 수행\n",
    "\n",
    "# Sigma의 앞 2행에 대응되는 앞 2열만 추출\n",
    "U_ = U[:, :2]\n",
    "Sigma_ = np.diag(Sigma[:2])\n",
    "\n",
    "# V 전치 행렬의 경우는 앞 2행만 추출\n",
    "Vt_ = Vt[:2]\n",
    "\n",
    "print(U_.shape, Sigma_.shape, Vt_.shape)\n",
    "\n",
    "# U, Sigma, Vt의 내적을 수행하며, 다시 원본 행렬 복원\n",
    "a_ = np.dot(np.dot(U_,Sigma_), Vt_)\n",
    "print(np.round(a_, 3))"
   ]
  },
  {
   "cell_type": "markdown",
   "id": "02ff17ff-ca5a-452e-b0d3-41e0627de8cd",
   "metadata": {},
   "source": [
    "### Truncated SVD를 이용한 행렬 분해\n",
    "시그마 상위 일부만 추출해 분해하는 방식  \n",
    "인위적으로 더 작은 차원을 만들었기 때문에 비슷하지만 정확한 원복 불가능\n",
    "\n",
    "### 사이파이를 이용한 TruncatedSVD"
   ]
  },
  {
   "cell_type": "code",
   "execution_count": 9,
   "id": "21463ef6-a843-4fcb-85fd-43268f44f436",
   "metadata": {},
   "outputs": [
    {
     "name": "stdout",
     "output_type": "stream",
     "text": [
      "원본 행렬:\n",
      " [[0.11133083 0.21076757 0.23296249 0.15194456 0.83017814 0.40791941]\n",
      " [0.5557906  0.74552394 0.24849976 0.9686594  0.95268418 0.48984885]\n",
      " [0.01829731 0.85760612 0.40493829 0.62247394 0.29537149 0.92958852]\n",
      " [0.4056155  0.56730065 0.24575605 0.22573721 0.03827786 0.58098021]\n",
      " [0.82925331 0.77326256 0.94693849 0.73632338 0.67328275 0.74517176]\n",
      " [0.51161442 0.46920965 0.6439515  0.82081228 0.14548493 0.01806415]]\n",
      "\n",
      "분해 행렬 차원: (6, 6) (6,) (6, 6)\n",
      "\n",
      "Sigma값 행렬: [3.2535007  0.88116505 0.83865238 0.55463089 0.35834824 0.0349925 ]\n",
      "\n",
      "Truncated SVD 분해 행렬 차원: (6, 4) (4,) (4, 6)\n",
      "\n",
      "Truncated SVD Sigma값 행렬: [0.55463089 0.83865238 0.88116505 3.2535007 ]\n",
      "\n",
      "Truncated SVD로 분해 후 복원 행렬:\n",
      " [[0.19222941 0.21792946 0.15951023 0.14084013 0.81641405 0.42533093]\n",
      " [0.44874275 0.72204422 0.34594106 0.99148577 0.96866325 0.4754868 ]\n",
      " [0.12656662 0.88860729 0.30625735 0.59517439 0.28036734 0.93961948]\n",
      " [0.23989012 0.51026588 0.39697353 0.27308905 0.05971563 0.57156395]\n",
      " [0.83806144 0.78847467 0.93868685 0.72673231 0.6740867  0.73812389]\n",
      " [0.59726589 0.47953891 0.56613544 0.80746028 0.13135039 0.03479656]]\n"
     ]
    }
   ],
   "source": [
    "import numpy as np\n",
    "from scipy.sparse.linalg import svds\n",
    "from scipy.linalg import svd\n",
    "\n",
    "# 임의의 6*6 행렬 생성\n",
    "np.random.seed(121)\n",
    "matrix = np.random.random((6, 6))\n",
    "print('원본 행렬:\\n',matrix)\n",
    "\n",
    "# 행렬matrix에 svd 적용\n",
    "U, Sigma, Vt = svd(matrix, full_matrices=False)\n",
    "print('\\n분해 행렬 차원:',U.shape, Sigma.shape, Vt.shape)\n",
    "print('\\nSigma값 행렬:', Sigma)\n",
    "\n",
    "# Truncated SVD로 Sigma 행렬의 특이값을 4개로 하여 Truncated SVD 수행. \n",
    "num_components = 4\n",
    "U_tr, Sigma_tr, Vt_tr = svds(matrix, k=num_components)\n",
    "print('\\nTruncated SVD 분해 행렬 차원:',U_tr.shape, Sigma_tr.shape, Vt_tr.shape)\n",
    "print('\\nTruncated SVD Sigma값 행렬:', Sigma_tr)\n",
    "\n",
    "# Truncated SVD된 것을 다시 복원\n",
    "matrix_tr = np.dot(np.dot(U_tr,np.diag(Sigma_tr)), Vt_tr)\n",
    "print('\\nTruncated SVD로 분해 후 복원 행렬:\\n', matrix_tr)"
   ]
  },
  {
   "cell_type": "markdown",
   "id": "beab1830-3be9-429e-bc91-81eba1d14b01",
   "metadata": {},
   "source": [
    "### 사이킷런을 이용한 TruncatedSVD"
   ]
  },
  {
   "cell_type": "code",
   "execution_count": 10,
   "id": "5fdd583c-746e-402a-8aac-a17d776cfd96",
   "metadata": {},
   "outputs": [
    {
     "data": {
      "text/plain": [
       "Text(0, 0.5, 'TruncatedSVD Component 2')"
      ]
     },
     "execution_count": 10,
     "metadata": {},
     "output_type": "execute_result"
    },
    {
     "data": {
      "image/png": "[encoded data removed]",
      "text/plain": [
       "<Figure size 432x288 with 1 Axes>"
      ]
     },
     "metadata": {
      "needs_background": "light"
     },
     "output_type": "display_data"
    }
   ],
   "source": [
    "from sklearn.decomposition import TruncatedSVD, PCA\n",
    "from sklearn.datasets import load_iris\n",
    "import matplotlib.pyplot as plt\n",
    "%matplotlib inline\n",
    "\n",
    "# 아이리스 데이터 이용\n",
    "iris = load_iris()\n",
    "iris_ftrs = iris.data\n",
    "\n",
    "# 2개의 주요 component로 TruncatedSVD 변환\n",
    "tsvd = TruncatedSVD(n_components=2)\n",
    "tsvd.fit(iris_ftrs)\n",
    "iris_tsvd = tsvd.transform(iris_ftrs)\n",
    "\n",
    "# Scatter plot 2차원으로 TruncatedSVD 변환 된 데이터 표현. 품종은 색깔로 구분\n",
    "plt.scatter(x=iris_tsvd[:,0], y= iris_tsvd[:,1], c= iris.target)\n",
    "plt.xlabel('TruncatedSVD Component 1')\n",
    "plt.ylabel('TruncatedSVD Component 2')"
   ]
  },
  {
   "cell_type": "markdown",
   "id": "b410c3ff-4a1f-429b-8982-6906f55a37e8",
   "metadata": {},
   "source": [
    "# NMF\n",
    "낮은 랭크를 통한 행렬 근사 방식의 변형  \n",
    "원본 행렬 내의 모든 값이 양수라는게 보장되면 좀 더 간단한 분해 가능"
   ]
  },
  {
   "cell_type": "code",
   "execution_count": 11,
   "id": "419eda0e-0404-4d19-9936-9f45ae43911d",
   "metadata": {},
   "outputs": [
    {
     "name": "stderr",
     "output_type": "stream",
     "text": [
      "/Users/limkahyun/anaconda3/envs/sona/lib/python3.9/site-packages/sklearn/decomposition/_nmf.py:312: FutureWarning: The 'init' value, when 'init=None' and n_components is less than n_samples and n_features, will be changed from 'nndsvd' to 'nndsvda' in 1.1 (renaming of 0.26).\n",
      "  warnings.warn((\"The 'init' value, when 'init=None' and \"\n",
      "/Users/limkahyun/anaconda3/envs/sona/lib/python3.9/site-packages/sklearn/decomposition/_nmf.py:1090: ConvergenceWarning: Maximum number of iterations 200 reached. Increase it to improve convergence.\n",
      "  warnings.warn(\"Maximum number of iterations %d reached. Increase it to\"\n"
     ]
    },
    {
     "data": {
      "text/plain": [
       "Text(0, 0.5, 'NMF Component 2')"
      ]
     },
     "execution_count": 11,
     "metadata": {},
     "output_type": "execute_result"
    },
    {
     "data": {
      "image/png": "[encoded data removed]",
      "text/plain": [
       "<Figure size 432x288 with 1 Axes>"
      ]
     },
     "metadata": {
      "needs_background": "light"
     },
     "output_type": "display_data"
    }
   ],
   "source": [
    "from sklearn.decomposition import NMF\n",
    "from sklearn.datasets import load_iris\n",
    "import matplotlib.pyplot as plt\n",
    "%matplotlib inline\n",
    "\n",
    "# 아이리스 데이터 사용\n",
    "iris = load_iris()\n",
    "iris_ftrs = iris.data\n",
    "\n",
    "# NMF분해\n",
    "nmf = NMF(n_components=2)\n",
    "nmf.fit(iris_ftrs)\n",
    "iris_nmf = nmf.transform(iris_ftrs)\n",
    "\n",
    "# 시각화\n",
    "plt.scatter(x=iris_nmf[:,0], y= iris_nmf[:,1], c= iris.target)\n",
    "plt.xlabel('NMF Component 1')\n",
    "plt.ylabel('NMF Component 2')"
   ]
  },
  {
   "cell_type": "code",
   "execution_count": null,
   "id": "e52836e6-37fa-4288-a827-080639266625",
   "metadata": {},
   "outputs": [],
   "source": []
  }
 ],
 "metadata": {
  "kernelspec": {
   "display_name": "sona",
   "language": "python",
   "name": "sona"
  },
  "language_info": {
   "codemirror_mode": {
    "name": "ipython",
    "version": 3
   },
   "file_extension": ".py",
   "mimetype": "text/x-python",
   "name": "python",
   "nbconvert_exporter": "python",
   "pygments_lexer": "ipython3",
   "version": "3.9.4"
  }
 },
 "nbformat": 4,
 "nbformat_minor": 5
}

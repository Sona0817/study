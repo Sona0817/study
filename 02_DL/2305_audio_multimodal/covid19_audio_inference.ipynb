{
 "cells": [
  {
   "cell_type": "markdown",
   "id": "e04f6f53-bb11-4911-9c92-4b019870a2a6",
   "metadata": {},
   "source": [
    "# 오디오 멀티모달 Inference 코드"
   ]
  },
  {
   "cell_type": "code",
   "execution_count": 1,
   "id": "8d011e13-b4dd-4757-8fac-f3a762e71341",
   "metadata": {},
   "outputs": [],
   "source": [
    "import warnings\n",
    "warnings.filterwarnings('ignore')\n",
    "import argparse\n",
    "import numpy as np\n",
    "import pandas as pd\n",
    "import librosa\n",
    "import joblib"
   ]
  },
  {
   "cell_type": "code",
   "execution_count": 4,
   "id": "ea8046f6-02ae-403f-a196-052b18042086",
   "metadata": {},
   "outputs": [],
   "source": [
    "def call_data(data_path):\n",
    "    data, sr = librosa.load(data_path, sr=sample_rate)\n",
    "    mfcc = librosa.feature.mfcc(y=data, sr=sr, n_mfcc=n_mfcc)\n",
    "\n",
    "    mean_mfcc = []\n",
    "    mfccs = []\n",
    "    for m in mfcc:\n",
    "        mean_mfcc.append(np.mean(m))\n",
    "    mfccs.append(mean_mfcc)\n",
    "    \n",
    "    meta_data = {'age':[age],\n",
    "                 'gender':[gender],\n",
    "                 'respiratory':[respiratory],\n",
    "                 'fever_or_muscle':[fever_or_muscle]\n",
    "                 }\n",
    "    df_meta = pd.DataFrame(meta_data)\n",
    "    df_mfcc = pd.DataFrame(mfccs, columns=['mfcc'+str(i+1) for i in range(n_mfcc)])\n",
    "    df = df_meta.join(df_mfcc)\n",
    "    df.to_csv('./data_preprocessing.csv', index=False)\n",
    "\n",
    "    return df"
   ]
  },
  {
   "cell_type": "code",
   "execution_count": 13,
   "id": "edff7630-48a9-41be-b035-63c72a907479",
   "metadata": {},
   "outputs": [],
   "source": [
    "def test_model(data):\n",
    "    model = joblib.load(model_path)\n",
    "    pred = model.predict(data)\n",
    "    print(pred)"
   ]
  },
  {
   "cell_type": "markdown",
   "id": "40429bb6-335b-43ba-98ea-fa5e9f941976",
   "metadata": {},
   "source": [
    "### 변수설정"
   ]
  },
  {
   "cell_type": "code",
   "execution_count": 15,
   "id": "fec7c880-7b55-4202-b0b1-8625d66a08b4",
   "metadata": {},
   "outputs": [],
   "source": [
    "# 환자정보\n",
    "age = 30\n",
    "gender = 0 # 0:male, 1:female\n",
    "respiratory = 0 # 호흡기질환 0:없음, 1:있음\n",
    "fever_or_muscle = 0 # 발열 또는 근육통 0:없음, 1:있음\n",
    "\n",
    "# 오디오 변환 설정\n",
    "n_mfcc = 30\n",
    "sample_rate = 16000"
   ]
  },
  {
   "cell_type": "markdown",
   "id": "aba04a8b-c4af-41d5-8eb5-f77f693cb007",
   "metadata": {},
   "source": [
    "### 오디오데이터와 환자정보 불러오기"
   ]
  },
  {
   "cell_type": "code",
   "execution_count": 7,
   "id": "cd65742a-2266-4689-b044-06b23704a19e",
   "metadata": {},
   "outputs": [
    {
     "data": {
      "text/html": [
       "<div>\n",
       "<style scoped>\n",
       "    .dataframe tbody tr th:only-of-type {\n",
       "        vertical-align: middle;\n",
       "    }\n",
       "\n",
       "    .dataframe tbody tr th {\n",
       "        vertical-align: top;\n",
       "    }\n",
       "\n",
       "    .dataframe thead th {\n",
       "        text-align: right;\n",
       "    }\n",
       "</style>\n",
       "<table border=\"1\" class=\"dataframe\">\n",
       "  <thead>\n",
       "    <tr style=\"text-align: right;\">\n",
       "      <th></th>\n",
       "      <th>age</th>\n",
       "      <th>gender</th>\n",
       "      <th>respiratory</th>\n",
       "      <th>fever_or_muscle</th>\n",
       "      <th>mfcc1</th>\n",
       "      <th>mfcc2</th>\n",
       "      <th>mfcc3</th>\n",
       "      <th>mfcc4</th>\n",
       "      <th>mfcc5</th>\n",
       "      <th>mfcc6</th>\n",
       "      <th>...</th>\n",
       "      <th>mfcc21</th>\n",
       "      <th>mfcc22</th>\n",
       "      <th>mfcc23</th>\n",
       "      <th>mfcc24</th>\n",
       "      <th>mfcc25</th>\n",
       "      <th>mfcc26</th>\n",
       "      <th>mfcc27</th>\n",
       "      <th>mfcc28</th>\n",
       "      <th>mfcc29</th>\n",
       "      <th>mfcc30</th>\n",
       "    </tr>\n",
       "  </thead>\n",
       "  <tbody>\n",
       "    <tr>\n",
       "      <th>0</th>\n",
       "      <td>30</td>\n",
       "      <td>0</td>\n",
       "      <td>0</td>\n",
       "      <td>0</td>\n",
       "      <td>-274.876953</td>\n",
       "      <td>28.882778</td>\n",
       "      <td>-18.685369</td>\n",
       "      <td>-8.305733</td>\n",
       "      <td>-8.625875</td>\n",
       "      <td>-9.019613</td>\n",
       "      <td>...</td>\n",
       "      <td>0.019214</td>\n",
       "      <td>1.814102</td>\n",
       "      <td>-2.022824</td>\n",
       "      <td>1.866372</td>\n",
       "      <td>-0.656508</td>\n",
       "      <td>1.862009</td>\n",
       "      <td>0.04631</td>\n",
       "      <td>2.193763</td>\n",
       "      <td>-4.527728</td>\n",
       "      <td>1.044034</td>\n",
       "    </tr>\n",
       "  </tbody>\n",
       "</table>\n",
       "<p>1 rows × 34 columns</p>\n",
       "</div>"
      ],
      "text/plain": [
       "   age  gender  respiratory  fever_or_muscle       mfcc1      mfcc2  \\\n",
       "0   30       0            0                0 -274.876953  28.882778   \n",
       "\n",
       "       mfcc3     mfcc4     mfcc5     mfcc6  ...    mfcc21    mfcc22    mfcc23  \\\n",
       "0 -18.685369 -8.305733 -8.625875 -9.019613  ...  0.019214  1.814102 -2.022824   \n",
       "\n",
       "     mfcc24    mfcc25    mfcc26   mfcc27    mfcc28    mfcc29    mfcc30  \n",
       "0  1.866372 -0.656508  1.862009  0.04631  2.193763 -4.527728  1.044034  \n",
       "\n",
       "[1 rows x 34 columns]"
      ]
     },
     "execution_count": 7,
     "metadata": {},
     "output_type": "execute_result"
    }
   ],
   "source": [
    "data_path = './covid19/00001.wav'\n",
    "data = call_data(data_path)\n",
    "data"
   ]
  },
  {
   "cell_type": "markdown",
   "id": "cc08cd1e-a440-4b9e-a4f2-bedb7188e65d",
   "metadata": {},
   "source": [
    "### 불러온 정보 모델에 넣어 covid19 예측하기"
   ]
  },
  {
   "cell_type": "code",
   "execution_count": 16,
   "id": "5a6dfc91-36bb-4a90-9c8b-d13adc826e4d",
   "metadata": {},
   "outputs": [
    {
     "name": "stdout",
     "output_type": "stream",
     "text": [
      "[0]\n"
     ]
    }
   ],
   "source": [
    "model_path = './SMOTE_RF.pkl'\n",
    "test_model(data)"
   ]
  },
  {
   "cell_type": "code",
   "execution_count": null,
   "id": "cc8bb1b3-401d-4138-b7fd-f9a1869a84e5",
   "metadata": {},
   "outputs": [],
   "source": []
  }
 ],
 "metadata": {
  "kernelspec": {
   "display_name": "sona",
   "language": "python",
   "name": "sona"
  },
  "language_info": {
   "codemirror_mode": {
    "name": "ipython",
    "version": 3
   },
   "file_extension": ".py",
   "mimetype": "text/x-python",
   "name": "python",
   "nbconvert_exporter": "python",
   "pygments_lexer": "ipython3",
   "version": "3.8.15"
  }
 },
 "nbformat": 4,
 "nbformat_minor": 5
}

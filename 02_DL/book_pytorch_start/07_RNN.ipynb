{
 "cells": [
  {
   "cell_type": "markdown",
   "id": "90bc58af-31bc-47ff-9565-0c2e3557d8f2",
   "metadata": {
    "tags": []
   },
   "source": [
    "# PyTorch로 시작하는 딥러닝 입문\n",
    "https://wikidocs.net/60690\n",
    "## 01. RNN\n",
    "### 1. 순환신경망"
   ]
  },
  {
   "cell_type": "code",
   "execution_count": 1,
   "id": "204cb87d-7339-42e4-b22b-e7fbee5cc835",
   "metadata": {},
   "outputs": [],
   "source": [
    "import numpy as np\n",
    "import pandas as pd\n",
    "import torch\n",
    "import torch.nn as nn"
   ]
  },
  {
   "cell_type": "code",
   "execution_count": 2,
   "id": "5e0bc14e-aa4d-4eb6-b2aa-6a834d348660",
   "metadata": {},
   "outputs": [],
   "source": [
    "# 입력 크기\n",
    "input_size = 5\n",
    "\n",
    "# 은닉 크기\n",
    "hidden_size = 8"
   ]
  },
  {
   "cell_type": "code",
   "execution_count": 3,
   "id": "b32f3b68-a034-44e3-b059-6e68ad6353e5",
   "metadata": {},
   "outputs": [],
   "source": [
    "# batch_size, time_steps, input_size\n",
    "inputs = torch.Tensor(1, 10, 5)"
   ]
  },
  {
   "cell_type": "code",
   "execution_count": 4,
   "id": "709025f8-8941-41aa-8b85-0b9fb9d5214a",
   "metadata": {},
   "outputs": [],
   "source": [
    "# make RNN cell\n",
    "# batch_first=True >> 입력텐서의 첫번째 차원이 배치 크기임\n",
    "cell = nn.RNN(input_size, hidden_size, batch_first=True)"
   ]
  },
  {
   "cell_type": "code",
   "execution_count": 5,
   "id": "cf76b643-b18e-4d71-ba64-89f32091dc89",
   "metadata": {},
   "outputs": [
    {
     "name": "stdout",
     "output_type": "stream",
     "text": [
      "모든 시점(time_steps)에 대한 은닉 상태 값\n",
      "outputs shape torch.Size([1, 10, 8])\n",
      "\n",
      "마지막 시점에 대한 은닉 상태값\n",
      "_status shape torch.Size([1, 1, 8])\n"
     ]
    }
   ],
   "source": [
    "# 출력 확인\n",
    "outputs, _status = cell(inputs)\n",
    "print('모든 시점(time_steps)에 대한 은닉 상태 값')\n",
    "print('outputs shape', outputs.shape)\n",
    "print()\n",
    "print('마지막 시점에 대한 은닉 상태값')\n",
    "print('_status shape', _status.shape)"
   ]
  },
  {
   "cell_type": "markdown",
   "id": "8affa41b-2de1-4d96-80d5-5316b8fc896a",
   "metadata": {},
   "source": [
    "### 2. 깊은 순환 신경망 (Deep Recurrent Neural Network)"
   ]
  },
  {
   "cell_type": "code",
   "execution_count": 6,
   "id": "ffa2bc9e-ca91-4aec-98b4-98dadb8a0d29",
   "metadata": {},
   "outputs": [
    {
     "name": "stdout",
     "output_type": "stream",
     "text": [
      "모든 시점(time_steps)에 대한 은닉 상태 값\n",
      "outputs shape torch.Size([1, 10, 8])\n",
      "\n",
      "마지막 시점에 대한 은닉 상태값\n",
      "_status shape torch.Size([2, 1, 8])\n"
     ]
    }
   ],
   "source": [
    "# batch_size, time_steps, input_size\n",
    "inputs = torch.Tensor(1, 10, 5)\n",
    "\n",
    "# model\n",
    "cell = nn.RNN(input_size, hidden_size, num_layers=2, batch_first=True)\n",
    "\n",
    "# result\n",
    "outputs, _status = cell(inputs)\n",
    "print('모든 시점(time_steps)에 대한 은닉 상태 값')\n",
    "print('outputs shape', outputs.shape)\n",
    "print()\n",
    "print('마지막 시점에 대한 은닉 상태값')\n",
    "print('_status shape', _status.shape)"
   ]
  },
  {
   "cell_type": "markdown",
   "id": "c82911b7-8022-4262-8bab-8c0534179ae2",
   "metadata": {},
   "source": [
    "### 3. 양방향 순환 신경망\n",
    "과거데이터 뿐 아니라 미래데이터도 이용하여 현재시점의 출력값을 예측할 때 사용  \n",
    "ex) 영어문장 빈칸 채우기 I want to () apple. >> 빈칸 뒤의 apple 이라는 단어를 고려하지 않으면 eat인지, go인지 결정할 수 없음\n",
    "\n",
    "**양방향 순환 신경망을 구현할 때는 bidirectional=True로 설정**"
   ]
  },
  {
   "cell_type": "code",
   "execution_count": 9,
   "id": "2e8e5bea-203a-4171-b793-f9b04955ed6f",
   "metadata": {},
   "outputs": [
    {
     "name": "stdout",
     "output_type": "stream",
     "text": [
      "모든 시점(time_steps)에 대한 은닉 상태 값\n",
      "outputs shape torch.Size([1, 10, 16])\n",
      "\n",
      "마지막 시점에 대한 은닉 상태값\n",
      "_status shape torch.Size([4, 1, 8])\n"
     ]
    }
   ],
   "source": [
    "# batch_size, time_steps, input_size\n",
    "inputs = torch.Tensor(1, 10, 5)\n",
    "\n",
    "# model\n",
    "cell = nn.RNN(input_size, hidden_size, num_layers=2, batch_first=True, bidirectional=True)\n",
    "\n",
    "# result\n",
    "outputs, _status = cell(inputs)\n",
    "print('모든 시점(time_steps)에 대한 은닉 상태 값')\n",
    "print('outputs shape', outputs.shape)\n",
    "print()\n",
    "print('마지막 시점에 대한 은닉 상태값')\n",
    "print('_status shape', _status.shape)"
   ]
  },
  {
   "cell_type": "markdown",
   "id": "c1e2667a-fb9e-42fb-a897-d5654b518e39",
   "metadata": {},
   "source": [
    "- outputs shape = batch_size, time_steps, 양방향에서 받은 크기 (hidden_sizex2)\n",
    "- status shape = num_layersx2, batch_size, hidden_size"
   ]
  },
  {
   "cell_type": "markdown",
   "id": "cb5fb060-0bb7-474e-b2f1-c6556668db13",
   "metadata": {},
   "source": [
    "### 4. LSTM"
   ]
  },
  {
   "cell_type": "code",
   "execution_count": 13,
   "id": "e961ca2c-d1f1-4524-acf5-b045a241e0c2",
   "metadata": {},
   "outputs": [
    {
     "name": "stdout",
     "output_type": "stream",
     "text": [
      "모든 시점(time_steps)에 대한 은닉 상태 값\n",
      "outputs shape torch.Size([1, 10, 8])\n"
     ]
    }
   ],
   "source": [
    "# batch_size, time_steps, input_size\n",
    "inputs = torch.Tensor(1, 10, 5)\n",
    "\n",
    "# model\n",
    "cell = nn.LSTM(input_size, hidden_size, num_layers=2, batch_first=True)\n",
    "\n",
    "# result\n",
    "outputs, _status = cell(inputs)\n",
    "print('모든 시점(time_steps)에 대한 은닉 상태 값')\n",
    "print('outputs shape', outputs.shape)"
   ]
  },
  {
   "cell_type": "code",
   "execution_count": null,
   "id": "0a9104aa-920e-4b17-addf-fac2768d07b5",
   "metadata": {},
   "outputs": [],
   "source": []
  }
 ],
 "metadata": {
  "kernelspec": {
   "display_name": "sona",
   "language": "python",
   "name": "sona"
  },
  "language_info": {
   "codemirror_mode": {
    "name": "ipython",
    "version": 3
   },
   "file_extension": ".py",
   "mimetype": "text/x-python",
   "name": "python",
   "nbconvert_exporter": "python",
   "pygments_lexer": "ipython3",
   "version": "3.8.13"
  }
 },
 "nbformat": 4,
 "nbformat_minor": 5
}

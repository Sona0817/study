{
 "cells": [
  {
   "cell_type": "markdown",
   "id": "86f402ac-fdc4-4a1a-9efe-54750d78f41a",
   "metadata": {},
   "source": [
    "# pytorch 설치"
   ]
  },
  {
   "cell_type": "code",
   "execution_count": 3,
   "id": "5d00fe30-381c-4232-85f3-400136354d30",
   "metadata": {},
   "outputs": [
    {
     "name": "stdout",
     "output_type": "stream",
     "text": [
      "1.13.1\n"
     ]
    }
   ],
   "source": [
    "import torch\n",
    "print(torch.__version__)"
   ]
  },
  {
   "cell_type": "markdown",
   "id": "f6d4f5c1-a04e-492b-aa68-7b179a67fab9",
   "metadata": {},
   "source": [
    "# 3장 파이토치 튜토리얼"
   ]
  },
  {
   "cell_type": "markdown",
   "id": "a969a13d-11b6-4912-81e1-c10af39098a4",
   "metadata": {},
   "source": [
    "## 3. 파이토치 텐서 생성하기"
   ]
  },
  {
   "cell_type": "code",
   "execution_count": 5,
   "id": "cab85bbc-22d4-4a75-8c5b-0a2dbd090349",
   "metadata": {},
   "outputs": [
    {
     "data": {
      "text/plain": [
       "tensor([[1., 2.],\n",
       "        [3., 4.]])"
      ]
     },
     "execution_count": 5,
     "metadata": {},
     "output_type": "execute_result"
    }
   ],
   "source": [
    "# float tensor\n",
    "ft = torch.FloatTensor([[1, 2],\n",
    "                        [3, 4]])\n",
    "ft"
   ]
  },
  {
   "cell_type": "code",
   "execution_count": 6,
   "id": "9d85a663-7aec-4215-9aea-a54ee95e853c",
   "metadata": {},
   "outputs": [
    {
     "data": {
      "text/plain": [
       "tensor([[1, 2],\n",
       "        [3, 4]])"
      ]
     },
     "execution_count": 6,
     "metadata": {},
     "output_type": "execute_result"
    }
   ],
   "source": [
    "# long tensor\n",
    "lt = torch.LongTensor([[1, 2],\n",
    "                       [3, 4]])\n",
    "lt"
   ]
  },
  {
   "cell_type": "code",
   "execution_count": 7,
   "id": "bf2a507f-d7f4-48ef-a6cf-76b6f29e0c7c",
   "metadata": {},
   "outputs": [
    {
     "data": {
      "text/plain": [
       "tensor([[1, 2],\n",
       "        [3, 4]], dtype=torch.uint8)"
      ]
     },
     "execution_count": 7,
     "metadata": {},
     "output_type": "execute_result"
    }
   ],
   "source": [
    "# byte tensor\n",
    "bt = torch.ByteTensor([[1, 2],\n",
    "                       [3, 4]])\n",
    "bt"
   ]
  },
  {
   "cell_type": "code",
   "execution_count": 8,
   "id": "f8ea43c2-ff3b-4e93-b989-27420b90f545",
   "metadata": {},
   "outputs": [
    {
     "data": {
      "text/plain": [
       "tensor([[1., 2.],\n",
       "        [3., 4.],\n",
       "        [0., 2.]])"
      ]
     },
     "execution_count": 8,
     "metadata": {},
     "output_type": "execute_result"
    }
   ],
   "source": [
    "# 임의의 텐서 만들기\n",
    "x = torch.FloatTensor(3, 2)\n",
    "x"
   ]
  },
  {
   "cell_type": "markdown",
   "id": "75c3bcbf-af48-497b-8c4d-50bbcac6b8b9",
   "metadata": {},
   "source": [
    "## 4. Numpy 호환"
   ]
  },
  {
   "cell_type": "code",
   "execution_count": 11,
   "id": "28ea2961-a8d3-44c9-91b5-050739304a30",
   "metadata": {},
   "outputs": [
    {
     "name": "stdout",
     "output_type": "stream",
     "text": [
      "[[1 2]\n",
      " [3 4]] <class 'numpy.ndarray'>\n"
     ]
    }
   ],
   "source": [
    "import numpy as np\n",
    "\n",
    "# 넘파이 array 생성\n",
    "x = np.array([[1, 2],\n",
    "              [3, 4]])\n",
    "print(x, type(x))"
   ]
  },
  {
   "cell_type": "code",
   "execution_count": 12,
   "id": "334ff3d9-95c5-4922-902b-6930414f8f46",
   "metadata": {},
   "outputs": [
    {
     "name": "stdout",
     "output_type": "stream",
     "text": [
      "tensor([[1, 2],\n",
      "        [3, 4]]) <class 'torch.Tensor'>\n"
     ]
    }
   ],
   "source": [
    "# 넘파이를 파이토치 텐서로 변환\n",
    "x = torch.from_numpy(x)\n",
    "print(x, type(x))"
   ]
  },
  {
   "cell_type": "code",
   "execution_count": 13,
   "id": "948a6209-eef9-4a02-ae12-4722738f3734",
   "metadata": {},
   "outputs": [
    {
     "name": "stdout",
     "output_type": "stream",
     "text": [
      "[[1 2]\n",
      " [3 4]] <class 'numpy.ndarray'>\n"
     ]
    }
   ],
   "source": [
    "# 파이토치 텐서를 넘파이로 변환\n",
    "x = x.numpy()\n",
    "print(x, type(x))"
   ]
  },
  {
   "cell_type": "markdown",
   "id": "cbc02f59-9a91-4326-9ab8-b133ea7d921b",
   "metadata": {},
   "source": [
    "## 5. 텐서 타입 변환"
   ]
  },
  {
   "cell_type": "code",
   "execution_count": 14,
   "id": "d8d4576c-4a1f-490c-8b42-62bd81327e47",
   "metadata": {},
   "outputs": [
    {
     "data": {
      "text/plain": [
       "tensor([[1, 2],\n",
       "        [3, 4]])"
      ]
     },
     "execution_count": 14,
     "metadata": {},
     "output_type": "execute_result"
    }
   ],
   "source": [
    "ft.long()"
   ]
  },
  {
   "cell_type": "code",
   "execution_count": 15,
   "id": "36095d2f-02f6-4426-a334-45ecda1f8c5d",
   "metadata": {},
   "outputs": [
    {
     "data": {
      "text/plain": [
       "tensor([[1., 2.],\n",
       "        [3., 4.]])"
      ]
     },
     "execution_count": 15,
     "metadata": {},
     "output_type": "execute_result"
    }
   ],
   "source": [
    "lt.float()"
   ]
  },
  {
   "cell_type": "markdown",
   "id": "ebd756ff-e91a-495f-a3c9-952f574cfb02",
   "metadata": {},
   "source": [
    "## 6. 텐서 크기 구하기"
   ]
  },
  {
   "cell_type": "code",
   "execution_count": 16,
   "id": "252c2835-37d8-44f6-8efc-7865711d69d0",
   "metadata": {},
   "outputs": [
    {
     "name": "stdout",
     "output_type": "stream",
     "text": [
      "torch.Size([3, 2, 2])\n",
      "torch.Size([3, 2, 2])\n"
     ]
    }
   ],
   "source": [
    "x = torch.FloatTensor([[[1, 2], [3, 4]],\n",
    "                       [[5, 6], [7, 8]],\n",
    "                       [[9, 10], [11, 12]]])\n",
    "print(x.size())\n",
    "print(x.shape)"
   ]
  },
  {
   "cell_type": "code",
   "execution_count": 17,
   "id": "f207e74a-699f-4c84-b0e0-bd6bbe0821d5",
   "metadata": {},
   "outputs": [
    {
     "name": "stdout",
     "output_type": "stream",
     "text": [
      "3\n",
      "3\n"
     ]
    }
   ],
   "source": [
    "# 텐서 차원 구하기\n",
    "print(x.dim())\n",
    "print(len(x.size()))"
   ]
  },
  {
   "cell_type": "markdown",
   "id": "220965e9-360c-4ba3-99c8-f1c1478e58d4",
   "metadata": {},
   "source": [
    "## 실습3.5 - 1. view함수\n",
    "- 원하는 shape에 맞춰 텐서들 재배열\n",
    "- view() 안에 텐서 갯수 유지해서 작성"
   ]
  },
  {
   "cell_type": "code",
   "execution_count": 20,
   "id": "7d8f673b-8b42-4675-8841-ccad9af44026",
   "metadata": {},
   "outputs": [
    {
     "name": "stdout",
     "output_type": "stream",
     "text": [
      "tensor([ 1.,  2.,  3.,  4.,  5.,  6.,  7.,  8.,  9., 10., 11., 12.])\n"
     ]
    }
   ],
   "source": [
    "x = torch.FloatTensor([[[1, 2], [3, 4]],\n",
    "                       [[5, 6], [7, 8]],\n",
    "                       [[9, 10], [11, 12]]])\n",
    "\n",
    "# view() 안에 텐서의 갯수 유지해서 작성\n",
    "print(x.view(12))"
   ]
  },
  {
   "cell_type": "code",
   "execution_count": 21,
   "id": "a235f5b8-88cc-4333-8505-206f747732de",
   "metadata": {},
   "outputs": [
    {
     "name": "stdout",
     "output_type": "stream",
     "text": [
      "tensor([[ 1.,  2.,  3.,  4.],\n",
      "        [ 5.,  6.,  7.,  8.],\n",
      "        [ 9., 10., 11., 12.]])\n"
     ]
    }
   ],
   "source": [
    "print(x.view(3, 4))"
   ]
  },
  {
   "cell_type": "code",
   "execution_count": 22,
   "id": "9dfe5e45-d35f-4dad-ad7f-96720a6b57eb",
   "metadata": {},
   "outputs": [
    {
     "name": "stdout",
     "output_type": "stream",
     "text": [
      "tensor([[[ 1.,  2.,  3.,  4.]],\n",
      "\n",
      "        [[ 5.,  6.,  7.,  8.]],\n",
      "\n",
      "        [[ 9., 10., 11., 12.]]])\n"
     ]
    }
   ],
   "source": [
    "print(x.view(3, 1, 4))"
   ]
  },
  {
   "cell_type": "code",
   "execution_count": 23,
   "id": "a0fb2c94-cfae-4d8d-994a-e0cbac758290",
   "metadata": {},
   "outputs": [
    {
     "name": "stdout",
     "output_type": "stream",
     "text": [
      "tensor([[[ 1.,  2.,  3.,  4.]],\n",
      "\n",
      "        [[ 5.,  6.,  7.,  8.]],\n",
      "\n",
      "        [[ 9., 10., 11., 12.]]])\n"
     ]
    }
   ],
   "source": [
    "# -1로 자동 계산\n",
    "print(x.view(-1, 1, 4))"
   ]
  },
  {
   "cell_type": "markdown",
   "id": "f1a6e9b6-e84c-42a6-94ec-80cf9faed0bf",
   "metadata": {},
   "source": [
    "## 실습3.5 - 2. squeeze함수\n",
    "- 차원의 크기가 1인 차원 없앰\n",
    "- ()안에 차원 지정 가능 ex. squeeze(0)"
   ]
  },
  {
   "cell_type": "code",
   "execution_count": 24,
   "id": "1029def0-a2ee-4ccb-9b7f-e4045985de25",
   "metadata": {},
   "outputs": [
    {
     "name": "stdout",
     "output_type": "stream",
     "text": [
      "torch.Size([1, 2, 2])\n"
     ]
    }
   ],
   "source": [
    "x = torch.FloatTensor([[[1, 2], [3, 4]]])\n",
    "print(x.size())"
   ]
  },
  {
   "cell_type": "code",
   "execution_count": 25,
   "id": "00461496-46c6-4684-9887-b5e4ecf991ec",
   "metadata": {},
   "outputs": [
    {
     "name": "stdout",
     "output_type": "stream",
     "text": [
      "torch.Size([2, 2])\n"
     ]
    }
   ],
   "source": [
    "print(x.squeeze().size())"
   ]
  },
  {
   "cell_type": "markdown",
   "id": "d5c06010-b6e4-42ee-b6f2-c0e4aabe9295",
   "metadata": {},
   "source": [
    "## 실습3.5 - 3. unsqueeze함수\n",
    "- 차원의 크기가 1인 차원 삽입\n",
    "- ()안에 차원 지정 가능 ex. unsqueeze(0)"
   ]
  },
  {
   "cell_type": "code",
   "execution_count": 26,
   "id": "1c6d132e-9f19-47fc-ace7-6ba8daca816e",
   "metadata": {},
   "outputs": [
    {
     "name": "stdout",
     "output_type": "stream",
     "text": [
      "torch.Size([2, 2])\n",
      "torch.Size([2, 1, 2])\n",
      "torch.Size([2, 2, 1])\n"
     ]
    }
   ],
   "source": [
    "x = torch.FloatTensor([[1, 2], [3, 4]])\n",
    "print(x.size())\n",
    "print(x.unsqueeze(1).size())\n",
    "print(x.unsqueeze(-1).size())"
   ]
  },
  {
   "cell_type": "markdown",
   "id": "65caa868-616c-495d-b9ba-a5cebe9a6527",
   "metadata": {},
   "source": [
    "## 실습3.6 - 1. 인덱싱과 슬라이싱"
   ]
  },
  {
   "cell_type": "code",
   "execution_count": 27,
   "id": "2ddf8222-ca6b-4026-ae73-32ca06ed1d20",
   "metadata": {},
   "outputs": [
    {
     "name": "stdout",
     "output_type": "stream",
     "text": [
      "torch.Size([3, 2, 2])\n"
     ]
    }
   ],
   "source": [
    "x = torch.FloatTensor([[[1, 2], [3, 4]],\n",
    "                       [[5, 6], [7, 8]],\n",
    "                       [[9, 10], [11, 12]]])\n",
    "print(x.shape)"
   ]
  },
  {
   "cell_type": "code",
   "execution_count": 28,
   "id": "b3def568-25b7-4565-86ea-06a2899ef470",
   "metadata": {},
   "outputs": [
    {
     "name": "stdout",
     "output_type": "stream",
     "text": [
      "tensor([[1., 2.],\n",
      "        [3., 4.]])\n"
     ]
    }
   ],
   "source": [
    "# 첫번재 차원 인덱싱\n",
    "print(x[0])"
   ]
  },
  {
   "cell_type": "code",
   "execution_count": 29,
   "id": "4bacf57b-8993-4105-8eaa-f56964b45f1b",
   "metadata": {},
   "outputs": [
    {
     "name": "stdout",
     "output_type": "stream",
     "text": [
      "tensor([[ 1.,  2.],\n",
      "        [ 5.,  6.],\n",
      "        [ 9., 10.]])\n"
     ]
    }
   ],
   "source": [
    "# 각 차원의 첫번째 값 가져오기\n",
    "print(x[:, 0])"
   ]
  },
  {
   "cell_type": "code",
   "execution_count": 31,
   "id": "1c5f812d-c17c-4dc8-a970-3631401c1421",
   "metadata": {},
   "outputs": [
    {
     "name": "stdout",
     "output_type": "stream",
     "text": [
      "tensor([[ 1.,  3.],\n",
      "        [ 5.,  7.],\n",
      "        [ 9., 11.]])\n"
     ]
    }
   ],
   "source": [
    "# 각 텐서의 첫번째 값 가져오기\n",
    "print(x[:, :, 0])"
   ]
  },
  {
   "cell_type": "code",
   "execution_count": 32,
   "id": "bddf7328-396f-4501-ba46-ff42cdf4a8c6",
   "metadata": {},
   "outputs": [
    {
     "name": "stdout",
     "output_type": "stream",
     "text": [
      "tensor([[[7., 8.]]])\n"
     ]
    }
   ],
   "source": [
    "# 특정 부분 지정하여 가져오기\n",
    "print(x[1:2, 1:, :])"
   ]
  },
  {
   "cell_type": "markdown",
   "id": "ecc074c8-e752-4aa4-b510-581b5cb3f993",
   "metadata": {},
   "source": [
    "## 실습3.6 - 2. split함수\n",
    "10개의 텐서를 4개씩 나눠라"
   ]
  },
  {
   "cell_type": "code",
   "execution_count": 34,
   "id": "0340b488-c3aa-4a22-8ca4-84e8ee12cd35",
   "metadata": {},
   "outputs": [
    {
     "name": "stdout",
     "output_type": "stream",
     "text": [
      "torch.Size([4, 4])\n",
      "torch.Size([4, 4])\n",
      "torch.Size([2, 4])\n"
     ]
    }
   ],
   "source": [
    "x = torch.FloatTensor(10, 4)\n",
    "splits = x.split(4, dim=0)\n",
    "for s in splits:\n",
    "    print(s.size())"
   ]
  },
  {
   "cell_type": "markdown",
   "id": "028d3285-8ffb-4aab-a8c4-0ae2a93b117e",
   "metadata": {},
   "source": [
    "## 실습3.6 - 3. chunk함수\n",
    "10개의 텐서를 최대한 비슷하게 4등분해라"
   ]
  },
  {
   "cell_type": "code",
   "execution_count": 36,
   "id": "ab03dfa3-bf36-488b-aa6a-c0072fc0634b",
   "metadata": {},
   "outputs": [
    {
     "name": "stdout",
     "output_type": "stream",
     "text": [
      "torch.Size([3, 4])\n",
      "torch.Size([3, 4])\n",
      "torch.Size([3, 4])\n",
      "torch.Size([1, 4])\n"
     ]
    }
   ],
   "source": [
    "x = torch.FloatTensor(10, 4)\n",
    "chunks = x.chunk(4, dim=0)\n",
    "for c in chunks:\n",
    "    print(c.size())"
   ]
  },
  {
   "cell_type": "markdown",
   "id": "45d8580e-d8e7-4f73-9049-11ae6b42bc7b",
   "metadata": {},
   "source": [
    "## 실습3.6 - 4. Index Select함수\n",
    "텐서의 순서에 따라 골라오는 함수"
   ]
  },
  {
   "cell_type": "code",
   "execution_count": 41,
   "id": "0dc7aa28-f455-4952-81ef-ca5cbeef312d",
   "metadata": {},
   "outputs": [],
   "source": [
    "x = torch.FloatTensor([[[1, 1],\n",
    "                        [2, 2]],\n",
    "                       [[3, 3],\n",
    "                        [4, 4]],\n",
    "                       [[5, 5],\n",
    "                        [6, 6]]])"
   ]
  },
  {
   "cell_type": "code",
   "execution_count": 42,
   "id": "8ed0599c-3fcd-466a-a3ef-f2e5f69ed7d5",
   "metadata": {},
   "outputs": [],
   "source": [
    "# 2번째 불러오고 다음에 1번째 불러오기\n",
    "indice = torch.LongTensor([2, 1])"
   ]
  },
  {
   "cell_type": "code",
   "execution_count": 43,
   "id": "62458e26-7146-4285-b016-6f1bed0736f0",
   "metadata": {},
   "outputs": [
    {
     "name": "stdout",
     "output_type": "stream",
     "text": [
      "tensor([[[5., 5.],\n",
      "         [6., 6.]],\n",
      "\n",
      "        [[3., 3.],\n",
      "         [4., 4.]]])\n"
     ]
    }
   ],
   "source": [
    "y = x.index_select(dim=0, index=indice)\n",
    "print(y)"
   ]
  },
  {
   "cell_type": "markdown",
   "id": "3fa28204-c0ef-4286-97d6-00b377ee40e8",
   "metadata": {},
   "source": [
    "## 실습3.6 - 5. concatenate함수\n",
    "같은 차원의 데이터를 가로 또는 세로로 이어붙이기\n",
    "## 실습3.6 - 6. stack함수\n",
    "차원 쌓기"
   ]
  },
  {
   "cell_type": "code",
   "execution_count": 44,
   "id": "ec479d9c-6eb4-4730-9270-388cff175e43",
   "metadata": {},
   "outputs": [],
   "source": [
    "x = torch.FloatTensor([[1, 2, 3],\n",
    "                       [4, 5, 6],\n",
    "                       [7, 8, 9]])\n",
    "y = torch.FloatTensor([[11, 12, 13],\n",
    "                       [14, 15, 16],\n",
    "                       [17, 18, 19]])"
   ]
  },
  {
   "cell_type": "code",
   "execution_count": 46,
   "id": "9c195a57-b462-42cc-bf7a-7e1d4a2f84c6",
   "metadata": {},
   "outputs": [
    {
     "name": "stdout",
     "output_type": "stream",
     "text": [
      "torch.Size([2, 3, 3])\n"
     ]
    },
    {
     "data": {
      "text/plain": [
       "tensor([[[ 1.,  2.,  3.],\n",
       "         [ 4.,  5.,  6.],\n",
       "         [ 7.,  8.,  9.]],\n",
       "\n",
       "        [[11., 12., 13.],\n",
       "         [14., 15., 16.],\n",
       "         [17., 18., 19.]]])"
      ]
     },
     "execution_count": 46,
     "metadata": {},
     "output_type": "execute_result"
    }
   ],
   "source": [
    "z = torch.stack([x, y])\n",
    "print(z.shape)\n",
    "z"
   ]
  },
  {
   "cell_type": "code",
   "execution_count": null,
   "id": "4c66477c-3bfc-42b1-a512-d7e9578bb6f8",
   "metadata": {},
   "outputs": [
    {
     "name": "stdout",
     "output_type": "stream",
     "text": [
      "torch.Size([3, 3, 2])\n"
     ]
    },
    {
     "data": {
      "text/plain": [
       "tensor([[[ 1., 11.],\n",
       "         [ 2., 12.],\n",
       "         [ 3., 13.]],\n",
       "\n",
       "        [[ 4., 14.],\n",
       "         [ 5., 15.],\n",
       "         [ 6., 16.]],\n",
       "\n",
       "        [[ 7., 17.],\n",
       "         [ 8., 18.],\n",
       "         [ 9., 19.]]])"
      ]
     },
     "execution_count": 47,
     "metadata": {},
     "output_type": "execute_result"
    }
   ],
   "source": [
    "z = torch.stack([x, y], dim=-1)\n",
    "print(z.shape)\n",
    "z"
   ]
  },
  {
   "cell_type": "markdown",
   "id": "d2f0714a-ef6e-497a-9a05-513e2e9feeea",
   "metadata": {},
   "source": [
    "## 실습3.7 - 6. masked fill 함수\n",
    "조건에 해당하는 값 변경"
   ]
  },
  {
   "cell_type": "code",
   "execution_count": 49,
   "id": "c3ddeeb1-5d9c-4086-babb-47f0c0eee0e5",
   "metadata": {},
   "outputs": [
    {
     "name": "stdout",
     "output_type": "stream",
     "text": [
      "tensor([0., 1., 2., 3., 4., 5., 6., 7., 8.])\n",
      "tensor([[0., 1., 2.],\n",
      "        [3., 4., 5.],\n",
      "        [6., 7., 8.]])\n"
     ]
    }
   ],
   "source": [
    "x = torch.FloatTensor([i for i in range(9)])\n",
    "print(x)\n",
    "x = x.reshape(3, -1)\n",
    "print(x)"
   ]
  },
  {
   "cell_type": "code",
   "execution_count": 50,
   "id": "f32b60d8-3a2d-4c1c-9505-b9d63f5fe556",
   "metadata": {},
   "outputs": [
    {
     "name": "stdout",
     "output_type": "stream",
     "text": [
      "tensor([[False, False, False],\n",
      "        [False, False,  True],\n",
      "        [ True,  True,  True]])\n"
     ]
    }
   ],
   "source": [
    "mask = x > 4\n",
    "print(mask)"
   ]
  },
  {
   "cell_type": "code",
   "execution_count": 51,
   "id": "d4fba038-bd00-4187-a4d6-09665fa2c55a",
   "metadata": {},
   "outputs": [
    {
     "data": {
      "text/plain": [
       "tensor([[ 0.,  1.,  2.],\n",
       "        [ 3.,  4., -1.],\n",
       "        [-1., -1., -1.]])"
      ]
     },
     "execution_count": 51,
     "metadata": {},
     "output_type": "execute_result"
    }
   ],
   "source": [
    "y = x.masked_fill(mask, value=-1)\n",
    "y"
   ]
  },
  {
   "cell_type": "code",
   "execution_count": null,
   "id": "49589a88-8a01-4628-8483-e24e75eed4fa",
   "metadata": {},
   "outputs": [],
   "source": []
  }
 ],
 "metadata": {
  "kernelspec": {
   "display_name": "sona",
   "language": "python",
   "name": "sona"
  },
  "language_info": {
   "codemirror_mode": {
    "name": "ipython",
    "version": 3
   },
   "file_extension": ".py",
   "mimetype": "text/x-python",
   "name": "python",
   "nbconvert_exporter": "python",
   "pygments_lexer": "ipython3",
   "version": "3.8.13"
  }
 },
 "nbformat": 4,
 "nbformat_minor": 5
}

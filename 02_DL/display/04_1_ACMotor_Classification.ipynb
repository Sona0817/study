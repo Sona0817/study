{
 "cells": [
  {
   "cell_type": "markdown",
   "metadata": {},
   "source": [
    "# 프로젝트 실습 #3 AC 공조기 모터"
   ]
  },
  {
   "cell_type": "markdown",
   "metadata": {},
   "source": [
    "## I. Classification: XGB"
   ]
  },
  {
   "cell_type": "markdown",
   "metadata": {},
   "source": [
    "## 1. 데이터 불러오기"
   ]
  },
  {
   "cell_type": "code",
   "execution_count": 1,
   "metadata": {
    "slideshow": {
     "slide_type": "slide"
    },
    "tags": []
   },
   "outputs": [],
   "source": [
    "import numpy as np\n",
    "import pandas as pd\n",
    "\n",
    "import seaborn as sns\n",
    "import matplotlib.pyplot as plt\n",
    "plt.rcParams['font.family'] = 'AppleGothic'\n",
    "\n",
    "import warnings\n",
    "warnings.filterwarnings('ignore')"
   ]
  },
  {
   "cell_type": "code",
   "execution_count": 2,
   "metadata": {},
   "outputs": [],
   "source": [
    "from sklearn.model_selection import train_test_split\n",
    "from sklearn.metrics import accuracy_score, classification_report\n",
    "from sklearn.metrics import plot_confusion_matrix\n",
    "from xgboost import XGBClassifier"
   ]
  },
  {
   "cell_type": "code",
   "execution_count": 4,
   "metadata": {},
   "outputs": [
    {
     "data": {
      "text/html": [
       "<div>\n",
       "<style scoped>\n",
       "    .dataframe tbody tr th:only-of-type {\n",
       "        vertical-align: middle;\n",
       "    }\n",
       "\n",
       "    .dataframe tbody tr th {\n",
       "        vertical-align: top;\n",
       "    }\n",
       "\n",
       "    .dataframe thead th {\n",
       "        text-align: right;\n",
       "    }\n",
       "</style>\n",
       "<table border=\"1\" class=\"dataframe\">\n",
       "  <thead>\n",
       "    <tr style=\"text-align: right;\">\n",
       "      <th></th>\n",
       "      <th>Date</th>\n",
       "      <th>Filename</th>\n",
       "      <th>Label_No</th>\n",
       "      <th>Label</th>\n",
       "      <th>Motor</th>\n",
       "      <th>WATT</th>\n",
       "      <th>AMP</th>\n",
       "      <th>AbsMax</th>\n",
       "      <th>AbsMean</th>\n",
       "      <th>P2P</th>\n",
       "      <th>...</th>\n",
       "      <th>Shape</th>\n",
       "      <th>Impulse</th>\n",
       "      <th>1x</th>\n",
       "      <th>2x</th>\n",
       "      <th>3x</th>\n",
       "      <th>4x</th>\n",
       "      <th>1xB</th>\n",
       "      <th>2xB</th>\n",
       "      <th>3xB</th>\n",
       "      <th>4xB</th>\n",
       "    </tr>\n",
       "  </thead>\n",
       "  <tbody>\n",
       "    <tr>\n",
       "      <th>0</th>\n",
       "      <td>2020-12-22 12:51:00</td>\n",
       "      <td>STFMK-20201105-LW19-2505_20201222_125100_004.dat</td>\n",
       "      <td>3</td>\n",
       "      <td>축정렬불량</td>\n",
       "      <td>R-PAC-01R</td>\n",
       "      <td>3.75</td>\n",
       "      <td>7.7</td>\n",
       "      <td>0.026590</td>\n",
       "      <td>0.005515</td>\n",
       "      <td>0.050972</td>\n",
       "      <td>...</td>\n",
       "      <td>1.251851</td>\n",
       "      <td>4.821622</td>\n",
       "      <td>0.000473</td>\n",
       "      <td>0.000134</td>\n",
       "      <td>0.000471</td>\n",
       "      <td>0.000063</td>\n",
       "      <td>0.000912</td>\n",
       "      <td>0.001581</td>\n",
       "      <td>0.005084</td>\n",
       "      <td>0.000166</td>\n",
       "    </tr>\n",
       "    <tr>\n",
       "      <th>1</th>\n",
       "      <td>2020-12-01 16:48:26</td>\n",
       "      <td>STFMK-20201105-LW19-2505_20201201_164826_004.dat</td>\n",
       "      <td>3</td>\n",
       "      <td>축정렬불량</td>\n",
       "      <td>R-PAC-01R</td>\n",
       "      <td>3.75</td>\n",
       "      <td>7.7</td>\n",
       "      <td>0.028149</td>\n",
       "      <td>0.005643</td>\n",
       "      <td>0.054799</td>\n",
       "      <td>...</td>\n",
       "      <td>1.246948</td>\n",
       "      <td>4.988097</td>\n",
       "      <td>0.000406</td>\n",
       "      <td>0.000369</td>\n",
       "      <td>0.000226</td>\n",
       "      <td>0.000100</td>\n",
       "      <td>0.000254</td>\n",
       "      <td>0.000652</td>\n",
       "      <td>0.000338</td>\n",
       "      <td>0.000806</td>\n",
       "    </tr>\n",
       "    <tr>\n",
       "      <th>2</th>\n",
       "      <td>2020-12-01 14:58:56</td>\n",
       "      <td>STFMK-20201105-LW19-2505_20201201_145856_004.dat</td>\n",
       "      <td>3</td>\n",
       "      <td>축정렬불량</td>\n",
       "      <td>R-PAC-01R</td>\n",
       "      <td>3.75</td>\n",
       "      <td>7.7</td>\n",
       "      <td>0.030902</td>\n",
       "      <td>0.005924</td>\n",
       "      <td>0.056936</td>\n",
       "      <td>...</td>\n",
       "      <td>1.252201</td>\n",
       "      <td>5.216847</td>\n",
       "      <td>0.000455</td>\n",
       "      <td>0.000190</td>\n",
       "      <td>0.000210</td>\n",
       "      <td>0.000086</td>\n",
       "      <td>0.000417</td>\n",
       "      <td>0.001986</td>\n",
       "      <td>0.003727</td>\n",
       "      <td>0.000164</td>\n",
       "    </tr>\n",
       "    <tr>\n",
       "      <th>3</th>\n",
       "      <td>2020-12-02 14:45:53</td>\n",
       "      <td>STFMK-20201105-LW19-2505_20201202_144553_004.dat</td>\n",
       "      <td>3</td>\n",
       "      <td>축정렬불량</td>\n",
       "      <td>R-PAC-01R</td>\n",
       "      <td>3.75</td>\n",
       "      <td>7.7</td>\n",
       "      <td>0.026827</td>\n",
       "      <td>0.006019</td>\n",
       "      <td>0.053333</td>\n",
       "      <td>...</td>\n",
       "      <td>1.243275</td>\n",
       "      <td>4.456839</td>\n",
       "      <td>0.000491</td>\n",
       "      <td>0.000251</td>\n",
       "      <td>0.000338</td>\n",
       "      <td>0.000080</td>\n",
       "      <td>0.000452</td>\n",
       "      <td>0.000269</td>\n",
       "      <td>0.006807</td>\n",
       "      <td>0.000222</td>\n",
       "    </tr>\n",
       "    <tr>\n",
       "      <th>4</th>\n",
       "      <td>2020-12-02 15:53:20</td>\n",
       "      <td>STFMK-20201105-LW19-2505_20201202_155320_004.dat</td>\n",
       "      <td>3</td>\n",
       "      <td>축정렬불량</td>\n",
       "      <td>R-PAC-01R</td>\n",
       "      <td>3.75</td>\n",
       "      <td>7.7</td>\n",
       "      <td>0.028728</td>\n",
       "      <td>0.005612</td>\n",
       "      <td>0.054520</td>\n",
       "      <td>...</td>\n",
       "      <td>1.251593</td>\n",
       "      <td>5.118594</td>\n",
       "      <td>0.000323</td>\n",
       "      <td>0.000321</td>\n",
       "      <td>0.000362</td>\n",
       "      <td>0.000045</td>\n",
       "      <td>0.000358</td>\n",
       "      <td>0.001625</td>\n",
       "      <td>0.003675</td>\n",
       "      <td>0.000164</td>\n",
       "    </tr>\n",
       "  </tbody>\n",
       "</table>\n",
       "<p>5 rows × 24 columns</p>\n",
       "</div>"
      ],
      "text/plain": [
       "                  Date                                          Filename  \\\n",
       "0  2020-12-22 12:51:00  STFMK-20201105-LW19-2505_20201222_125100_004.dat   \n",
       "1  2020-12-01 16:48:26  STFMK-20201105-LW19-2505_20201201_164826_004.dat   \n",
       "2  2020-12-01 14:58:56  STFMK-20201105-LW19-2505_20201201_145856_004.dat   \n",
       "3  2020-12-02 14:45:53  STFMK-20201105-LW19-2505_20201202_144553_004.dat   \n",
       "4  2020-12-02 15:53:20  STFMK-20201105-LW19-2505_20201202_155320_004.dat   \n",
       "\n",
       "   Label_No  Label      Motor  WATT  AMP    AbsMax   AbsMean       P2P  ...  \\\n",
       "0         3  축정렬불량  R-PAC-01R  3.75  7.7  0.026590  0.005515  0.050972  ...   \n",
       "1         3  축정렬불량  R-PAC-01R  3.75  7.7  0.028149  0.005643  0.054799  ...   \n",
       "2         3  축정렬불량  R-PAC-01R  3.75  7.7  0.030902  0.005924  0.056936  ...   \n",
       "3         3  축정렬불량  R-PAC-01R  3.75  7.7  0.026827  0.006019  0.053333  ...   \n",
       "4         3  축정렬불량  R-PAC-01R  3.75  7.7  0.028728  0.005612  0.054520  ...   \n",
       "\n",
       "      Shape   Impulse        1x        2x        3x        4x       1xB  \\\n",
       "0  1.251851  4.821622  0.000473  0.000134  0.000471  0.000063  0.000912   \n",
       "1  1.246948  4.988097  0.000406  0.000369  0.000226  0.000100  0.000254   \n",
       "2  1.252201  5.216847  0.000455  0.000190  0.000210  0.000086  0.000417   \n",
       "3  1.243275  4.456839  0.000491  0.000251  0.000338  0.000080  0.000452   \n",
       "4  1.251593  5.118594  0.000323  0.000321  0.000362  0.000045  0.000358   \n",
       "\n",
       "        2xB       3xB       4xB  \n",
       "0  0.001581  0.005084  0.000166  \n",
       "1  0.000652  0.000338  0.000806  \n",
       "2  0.001986  0.003727  0.000164  \n",
       "3  0.000269  0.006807  0.000222  \n",
       "4  0.001625  0.003675  0.000164  \n",
       "\n",
       "[5 rows x 24 columns]"
      ]
     },
     "execution_count": 4,
     "metadata": {},
     "output_type": "execute_result"
    }
   ],
   "source": [
    "df = pd.read_csv('.././data/Vibration_10k_20210810.csv')\n",
    "df.head()"
   ]
  },
  {
   "cell_type": "code",
   "execution_count": 5,
   "metadata": {},
   "outputs": [
    {
     "data": {
      "text/plain": [
       "(10000, 24)"
      ]
     },
     "execution_count": 5,
     "metadata": {},
     "output_type": "execute_result"
    }
   ],
   "source": [
    "df.shape"
   ]
  },
  {
   "cell_type": "code",
   "execution_count": 6,
   "metadata": {},
   "outputs": [
    {
     "name": "stdout",
     "output_type": "stream",
     "text": [
      "<class 'pandas.core.frame.DataFrame'>\n",
      "RangeIndex: 10000 entries, 0 to 9999\n",
      "Data columns (total 24 columns):\n",
      " #   Column    Non-Null Count  Dtype  \n",
      "---  ------    --------------  -----  \n",
      " 0   Date      10000 non-null  object \n",
      " 1   Filename  10000 non-null  object \n",
      " 2   Label_No  10000 non-null  int64  \n",
      " 3   Label     10000 non-null  object \n",
      " 4   Motor     10000 non-null  object \n",
      " 5   WATT      10000 non-null  float64\n",
      " 6   AMP       10000 non-null  float64\n",
      " 7   AbsMax    10000 non-null  float64\n",
      " 8   AbsMean   10000 non-null  float64\n",
      " 9   P2P       10000 non-null  float64\n",
      " 10  RMS       10000 non-null  float64\n",
      " 11  Skewness  10000 non-null  float64\n",
      " 12  Kurtosis  10000 non-null  float64\n",
      " 13  Crest     10000 non-null  float64\n",
      " 14  Shape     10000 non-null  float64\n",
      " 15  Impulse   10000 non-null  float64\n",
      " 16  1x        10000 non-null  float64\n",
      " 17  2x        10000 non-null  float64\n",
      " 18  3x        10000 non-null  float64\n",
      " 19  4x        10000 non-null  float64\n",
      " 20  1xB       10000 non-null  float64\n",
      " 21  2xB       10000 non-null  float64\n",
      " 22  3xB       10000 non-null  float64\n",
      " 23  4xB       10000 non-null  float64\n",
      "dtypes: float64(19), int64(1), object(4)\n",
      "memory usage: 1.8+ MB\n"
     ]
    }
   ],
   "source": [
    "df.info()"
   ]
  },
  {
   "cell_type": "markdown",
   "metadata": {},
   "source": [
    "## 2. 데이터 탐색"
   ]
  },
  {
   "cell_type": "code",
   "execution_count": 7,
   "metadata": {},
   "outputs": [
    {
     "data": {
      "text/plain": [
       "정상        4612\n",
       "벨트느슨함     1654\n",
       "축정렬불량     1337\n",
       "베어링불량     1243\n",
       "회전체불평형    1154\n",
       "Name: Label, dtype: int64"
      ]
     },
     "execution_count": 7,
     "metadata": {},
     "output_type": "execute_result"
    }
   ],
   "source": [
    "df['Label'].value_counts()"
   ]
  },
  {
   "cell_type": "code",
   "execution_count": 8,
   "metadata": {},
   "outputs": [
    {
     "data": {
      "image/png": "[encoded data removed]",
      "text/plain": [
       "<Figure size 432x288 with 1 Axes>"
      ]
     },
     "metadata": {
      "needs_background": "light"
     },
     "output_type": "display_data"
    }
   ],
   "source": [
    "sns.countplot(df['Label'])\n",
    "plt.show()"
   ]
  },
  {
   "cell_type": "code",
   "execution_count": 9,
   "metadata": {},
   "outputs": [
    {
     "data": {
      "text/plain": [
       "2.20     2092\n",
       "3.70     1201\n",
       "3.75      308\n",
       "5.50     1242\n",
       "7.50      121\n",
       "11.00    1358\n",
       "15.00     841\n",
       "18.50     714\n",
       "22.00     854\n",
       "30.00     253\n",
       "37.00     323\n",
       "55.00     693\n",
       "Name: WATT, dtype: int64"
      ]
     },
     "execution_count": 9,
     "metadata": {},
     "output_type": "execute_result"
    }
   ],
   "source": [
    "df['WATT'].value_counts().sort_index()"
   ]
  },
  {
   "cell_type": "code",
   "execution_count": 10,
   "metadata": {},
   "outputs": [
    {
     "data": {
      "image/png": "[encoded data removed]",
      "text/plain": [
       "<Figure size 432x288 with 1 Axes>"
      ]
     },
     "metadata": {
      "needs_background": "light"
     },
     "output_type": "display_data"
    }
   ],
   "source": [
    "sns.countplot(df['WATT'])\n",
    "plt.show()"
   ]
  },
  {
   "cell_type": "markdown",
   "metadata": {},
   "source": [
    "### 2-1 DateTime 내림차순"
   ]
  },
  {
   "cell_type": "code",
   "execution_count": 11,
   "metadata": {},
   "outputs": [
    {
     "data": {
      "text/html": [
       "<div>\n",
       "<style scoped>\n",
       "    .dataframe tbody tr th:only-of-type {\n",
       "        vertical-align: middle;\n",
       "    }\n",
       "\n",
       "    .dataframe tbody tr th {\n",
       "        vertical-align: top;\n",
       "    }\n",
       "\n",
       "    .dataframe thead th {\n",
       "        text-align: right;\n",
       "    }\n",
       "</style>\n",
       "<table border=\"1\" class=\"dataframe\">\n",
       "  <thead>\n",
       "    <tr style=\"text-align: right;\">\n",
       "      <th></th>\n",
       "      <th>Filename</th>\n",
       "      <th>Label_No</th>\n",
       "      <th>Label</th>\n",
       "      <th>Motor</th>\n",
       "      <th>WATT</th>\n",
       "      <th>AMP</th>\n",
       "      <th>AbsMax</th>\n",
       "      <th>AbsMean</th>\n",
       "      <th>P2P</th>\n",
       "      <th>RMS</th>\n",
       "      <th>...</th>\n",
       "      <th>Shape</th>\n",
       "      <th>Impulse</th>\n",
       "      <th>1x</th>\n",
       "      <th>2x</th>\n",
       "      <th>3x</th>\n",
       "      <th>4x</th>\n",
       "      <th>1xB</th>\n",
       "      <th>2xB</th>\n",
       "      <th>3xB</th>\n",
       "      <th>4xB</th>\n",
       "    </tr>\n",
       "    <tr>\n",
       "      <th>Date</th>\n",
       "      <th></th>\n",
       "      <th></th>\n",
       "      <th></th>\n",
       "      <th></th>\n",
       "      <th></th>\n",
       "      <th></th>\n",
       "      <th></th>\n",
       "      <th></th>\n",
       "      <th></th>\n",
       "      <th></th>\n",
       "      <th></th>\n",
       "      <th></th>\n",
       "      <th></th>\n",
       "      <th></th>\n",
       "      <th></th>\n",
       "      <th></th>\n",
       "      <th></th>\n",
       "      <th></th>\n",
       "      <th></th>\n",
       "      <th></th>\n",
       "      <th></th>\n",
       "    </tr>\n",
       "  </thead>\n",
       "  <tbody>\n",
       "    <tr>\n",
       "      <th>2020-11-25 14:01:00</th>\n",
       "      <td>STFMK-20201105-LW19-3423_20201125_140100_004.dat</td>\n",
       "      <td>0</td>\n",
       "      <td>정상</td>\n",
       "      <td>L-CAHU-03R</td>\n",
       "      <td>11.0</td>\n",
       "      <td>22.0</td>\n",
       "      <td>0.054116</td>\n",
       "      <td>0.011482</td>\n",
       "      <td>0.092395</td>\n",
       "      <td>0.014053</td>\n",
       "      <td>...</td>\n",
       "      <td>1.223906</td>\n",
       "      <td>4.713012</td>\n",
       "      <td>0.021590</td>\n",
       "      <td>0.002832</td>\n",
       "      <td>0.000747</td>\n",
       "      <td>0.000476</td>\n",
       "      <td>0.000814</td>\n",
       "      <td>0.000405</td>\n",
       "      <td>0.000370</td>\n",
       "      <td>0.000278</td>\n",
       "    </tr>\n",
       "    <tr>\n",
       "      <th>2020-11-25 14:05:06</th>\n",
       "      <td>STFMK-20201105-LW19-3423_20201125_140506_004.dat</td>\n",
       "      <td>0</td>\n",
       "      <td>정상</td>\n",
       "      <td>L-CAHU-03R</td>\n",
       "      <td>11.0</td>\n",
       "      <td>22.0</td>\n",
       "      <td>0.051435</td>\n",
       "      <td>0.011649</td>\n",
       "      <td>0.088863</td>\n",
       "      <td>0.014295</td>\n",
       "      <td>...</td>\n",
       "      <td>1.227197</td>\n",
       "      <td>4.415492</td>\n",
       "      <td>0.021702</td>\n",
       "      <td>0.002757</td>\n",
       "      <td>0.000674</td>\n",
       "      <td>0.000674</td>\n",
       "      <td>0.000993</td>\n",
       "      <td>0.000407</td>\n",
       "      <td>0.000258</td>\n",
       "      <td>0.000224</td>\n",
       "    </tr>\n",
       "    <tr>\n",
       "      <th>2020-11-25 14:06:12</th>\n",
       "      <td>STFMK-20201105-LW19-3423_20201125_140612_004.dat</td>\n",
       "      <td>0</td>\n",
       "      <td>정상</td>\n",
       "      <td>L-CAHU-03R</td>\n",
       "      <td>11.0</td>\n",
       "      <td>22.0</td>\n",
       "      <td>0.046130</td>\n",
       "      <td>0.012619</td>\n",
       "      <td>0.085221</td>\n",
       "      <td>0.015276</td>\n",
       "      <td>...</td>\n",
       "      <td>1.210515</td>\n",
       "      <td>3.655473</td>\n",
       "      <td>0.021162</td>\n",
       "      <td>0.002808</td>\n",
       "      <td>0.000938</td>\n",
       "      <td>0.000420</td>\n",
       "      <td>0.000507</td>\n",
       "      <td>0.000395</td>\n",
       "      <td>0.000217</td>\n",
       "      <td>0.000176</td>\n",
       "    </tr>\n",
       "    <tr>\n",
       "      <th>2020-11-25 14:06:24</th>\n",
       "      <td>STFMK-20201105-LW19-3423_20201125_140624_004.dat</td>\n",
       "      <td>0</td>\n",
       "      <td>정상</td>\n",
       "      <td>L-CAHU-03R</td>\n",
       "      <td>11.0</td>\n",
       "      <td>22.0</td>\n",
       "      <td>0.053497</td>\n",
       "      <td>0.011505</td>\n",
       "      <td>0.093581</td>\n",
       "      <td>0.014059</td>\n",
       "      <td>...</td>\n",
       "      <td>1.221968</td>\n",
       "      <td>4.649777</td>\n",
       "      <td>0.021820</td>\n",
       "      <td>0.002246</td>\n",
       "      <td>0.000765</td>\n",
       "      <td>0.000583</td>\n",
       "      <td>0.000961</td>\n",
       "      <td>0.000614</td>\n",
       "      <td>0.000276</td>\n",
       "      <td>0.000347</td>\n",
       "    </tr>\n",
       "    <tr>\n",
       "      <th>2020-11-25 14:07:03</th>\n",
       "      <td>STFMK-20201105-LW19-3054_20201125_140703_004.dat</td>\n",
       "      <td>0</td>\n",
       "      <td>정상</td>\n",
       "      <td>L-PAHU-02S</td>\n",
       "      <td>37.0</td>\n",
       "      <td>71.1</td>\n",
       "      <td>0.073671</td>\n",
       "      <td>0.014504</td>\n",
       "      <td>0.123645</td>\n",
       "      <td>0.017763</td>\n",
       "      <td>...</td>\n",
       "      <td>1.224668</td>\n",
       "      <td>5.079276</td>\n",
       "      <td>0.000268</td>\n",
       "      <td>0.002277</td>\n",
       "      <td>0.000215</td>\n",
       "      <td>0.000851</td>\n",
       "      <td>0.000442</td>\n",
       "      <td>0.000774</td>\n",
       "      <td>0.000115</td>\n",
       "      <td>0.000496</td>\n",
       "    </tr>\n",
       "  </tbody>\n",
       "</table>\n",
       "<p>5 rows × 23 columns</p>\n",
       "</div>"
      ],
      "text/plain": [
       "                                                             Filename  \\\n",
       "Date                                                                    \n",
       "2020-11-25 14:01:00  STFMK-20201105-LW19-3423_20201125_140100_004.dat   \n",
       "2020-11-25 14:05:06  STFMK-20201105-LW19-3423_20201125_140506_004.dat   \n",
       "2020-11-25 14:06:12  STFMK-20201105-LW19-3423_20201125_140612_004.dat   \n",
       "2020-11-25 14:06:24  STFMK-20201105-LW19-3423_20201125_140624_004.dat   \n",
       "2020-11-25 14:07:03  STFMK-20201105-LW19-3054_20201125_140703_004.dat   \n",
       "\n",
       "                     Label_No Label       Motor  WATT   AMP    AbsMax  \\\n",
       "Date                                                                    \n",
       "2020-11-25 14:01:00         0    정상  L-CAHU-03R  11.0  22.0  0.054116   \n",
       "2020-11-25 14:05:06         0    정상  L-CAHU-03R  11.0  22.0  0.051435   \n",
       "2020-11-25 14:06:12         0    정상  L-CAHU-03R  11.0  22.0  0.046130   \n",
       "2020-11-25 14:06:24         0    정상  L-CAHU-03R  11.0  22.0  0.053497   \n",
       "2020-11-25 14:07:03         0    정상  L-PAHU-02S  37.0  71.1  0.073671   \n",
       "\n",
       "                      AbsMean       P2P       RMS  ...     Shape   Impulse  \\\n",
       "Date                                               ...                       \n",
       "2020-11-25 14:01:00  0.011482  0.092395  0.014053  ...  1.223906  4.713012   \n",
       "2020-11-25 14:05:06  0.011649  0.088863  0.014295  ...  1.227197  4.415492   \n",
       "2020-11-25 14:06:12  0.012619  0.085221  0.015276  ...  1.210515  3.655473   \n",
       "2020-11-25 14:06:24  0.011505  0.093581  0.014059  ...  1.221968  4.649777   \n",
       "2020-11-25 14:07:03  0.014504  0.123645  0.017763  ...  1.224668  5.079276   \n",
       "\n",
       "                           1x        2x        3x        4x       1xB  \\\n",
       "Date                                                                    \n",
       "2020-11-25 14:01:00  0.021590  0.002832  0.000747  0.000476  0.000814   \n",
       "2020-11-25 14:05:06  0.021702  0.002757  0.000674  0.000674  0.000993   \n",
       "2020-11-25 14:06:12  0.021162  0.002808  0.000938  0.000420  0.000507   \n",
       "2020-11-25 14:06:24  0.021820  0.002246  0.000765  0.000583  0.000961   \n",
       "2020-11-25 14:07:03  0.000268  0.002277  0.000215  0.000851  0.000442   \n",
       "\n",
       "                          2xB       3xB       4xB  \n",
       "Date                                               \n",
       "2020-11-25 14:01:00  0.000405  0.000370  0.000278  \n",
       "2020-11-25 14:05:06  0.000407  0.000258  0.000224  \n",
       "2020-11-25 14:06:12  0.000395  0.000217  0.000176  \n",
       "2020-11-25 14:06:24  0.000614  0.000276  0.000347  \n",
       "2020-11-25 14:07:03  0.000774  0.000115  0.000496  \n",
       "\n",
       "[5 rows x 23 columns]"
      ]
     },
     "execution_count": 11,
     "metadata": {},
     "output_type": "execute_result"
    }
   ],
   "source": [
    "df['Date'] = pd.to_datetime(df['Date'], format='%Y-%m-%d %H:%M:%S')\n",
    "df = df.set_index('Date').sort_index()\n",
    "df.head()"
   ]
  },
  {
   "cell_type": "markdown",
   "metadata": {},
   "source": [
    "### 2-2 결측치 확인 및 처리"
   ]
  },
  {
   "cell_type": "code",
   "execution_count": 12,
   "metadata": {},
   "outputs": [
    {
     "data": {
      "text/plain": [
       "Filename    0\n",
       "Label_No    0\n",
       "Label       0\n",
       "Motor       0\n",
       "WATT        0\n",
       "AMP         0\n",
       "AbsMax      0\n",
       "AbsMean     0\n",
       "P2P         0\n",
       "RMS         0\n",
       "Skewness    0\n",
       "Kurtosis    0\n",
       "Crest       0\n",
       "Shape       0\n",
       "Impulse     0\n",
       "1x          0\n",
       "2x          0\n",
       "3x          0\n",
       "4x          0\n",
       "1xB         0\n",
       "2xB         0\n",
       "3xB         0\n",
       "4xB         0\n",
       "dtype: int64"
      ]
     },
     "execution_count": 12,
     "metadata": {},
     "output_type": "execute_result"
    }
   ],
   "source": [
    "df.isnull().sum()"
   ]
  },
  {
   "cell_type": "code",
   "execution_count": 13,
   "metadata": {},
   "outputs": [
    {
     "data": {
      "text/plain": [
       "Filename    0\n",
       "Label_No    0\n",
       "Label       0\n",
       "Motor       0\n",
       "WATT        0\n",
       "AMP         0\n",
       "AbsMax      0\n",
       "AbsMean     0\n",
       "P2P         0\n",
       "RMS         0\n",
       "Skewness    0\n",
       "Kurtosis    0\n",
       "Crest       0\n",
       "Shape       0\n",
       "Impulse     0\n",
       "1x          0\n",
       "2x          0\n",
       "3x          0\n",
       "4x          0\n",
       "1xB         0\n",
       "2xB         0\n",
       "3xB         0\n",
       "4xB         0\n",
       "dtype: int64"
      ]
     },
     "execution_count": 13,
     "metadata": {},
     "output_type": "execute_result"
    }
   ],
   "source": [
    "df.dropna(axis=0, inplace=True)\n",
    "df.isnull().sum()"
   ]
  },
  {
   "cell_type": "markdown",
   "metadata": {},
   "source": [
    "### 2-3 Feature Engineering"
   ]
  },
  {
   "cell_type": "code",
   "execution_count": 14,
   "metadata": {},
   "outputs": [
    {
     "data": {
      "text/html": [
       "<div>\n",
       "<style scoped>\n",
       "    .dataframe tbody tr th:only-of-type {\n",
       "        vertical-align: middle;\n",
       "    }\n",
       "\n",
       "    .dataframe tbody tr th {\n",
       "        vertical-align: top;\n",
       "    }\n",
       "\n",
       "    .dataframe thead th {\n",
       "        text-align: right;\n",
       "    }\n",
       "</style>\n",
       "<table border=\"1\" class=\"dataframe\">\n",
       "  <thead>\n",
       "    <tr style=\"text-align: right;\">\n",
       "      <th></th>\n",
       "      <th>Label_No</th>\n",
       "      <th>WATT</th>\n",
       "      <th>AbsMax</th>\n",
       "      <th>AbsMean</th>\n",
       "      <th>P2P</th>\n",
       "      <th>RMS</th>\n",
       "      <th>Skewness</th>\n",
       "      <th>Kurtosis</th>\n",
       "      <th>Crest</th>\n",
       "      <th>Shape</th>\n",
       "      <th>Impulse</th>\n",
       "      <th>1x</th>\n",
       "      <th>2x</th>\n",
       "      <th>3x</th>\n",
       "      <th>4x</th>\n",
       "      <th>1xB</th>\n",
       "      <th>2xB</th>\n",
       "      <th>3xB</th>\n",
       "      <th>4xB</th>\n",
       "    </tr>\n",
       "    <tr>\n",
       "      <th>Date</th>\n",
       "      <th></th>\n",
       "      <th></th>\n",
       "      <th></th>\n",
       "      <th></th>\n",
       "      <th></th>\n",
       "      <th></th>\n",
       "      <th></th>\n",
       "      <th></th>\n",
       "      <th></th>\n",
       "      <th></th>\n",
       "      <th></th>\n",
       "      <th></th>\n",
       "      <th></th>\n",
       "      <th></th>\n",
       "      <th></th>\n",
       "      <th></th>\n",
       "      <th></th>\n",
       "      <th></th>\n",
       "      <th></th>\n",
       "    </tr>\n",
       "  </thead>\n",
       "  <tbody>\n",
       "    <tr>\n",
       "      <th>2020-11-25 14:01:00</th>\n",
       "      <td>0</td>\n",
       "      <td>11.0</td>\n",
       "      <td>0.054116</td>\n",
       "      <td>0.011482</td>\n",
       "      <td>0.092395</td>\n",
       "      <td>0.014053</td>\n",
       "      <td>-0.142563</td>\n",
       "      <td>2.606448</td>\n",
       "      <td>6.574603</td>\n",
       "      <td>1.223906</td>\n",
       "      <td>4.713012</td>\n",
       "      <td>0.021590</td>\n",
       "      <td>0.002832</td>\n",
       "      <td>0.000747</td>\n",
       "      <td>0.000476</td>\n",
       "      <td>0.000814</td>\n",
       "      <td>0.000405</td>\n",
       "      <td>0.000370</td>\n",
       "      <td>0.000278</td>\n",
       "    </tr>\n",
       "    <tr>\n",
       "      <th>2020-11-25 14:05:06</th>\n",
       "      <td>0</td>\n",
       "      <td>11.0</td>\n",
       "      <td>0.051435</td>\n",
       "      <td>0.011649</td>\n",
       "      <td>0.088863</td>\n",
       "      <td>0.014295</td>\n",
       "      <td>-0.129078</td>\n",
       "      <td>2.538691</td>\n",
       "      <td>6.216188</td>\n",
       "      <td>1.227197</td>\n",
       "      <td>4.415492</td>\n",
       "      <td>0.021702</td>\n",
       "      <td>0.002757</td>\n",
       "      <td>0.000674</td>\n",
       "      <td>0.000674</td>\n",
       "      <td>0.000993</td>\n",
       "      <td>0.000407</td>\n",
       "      <td>0.000258</td>\n",
       "      <td>0.000224</td>\n",
       "    </tr>\n",
       "    <tr>\n",
       "      <th>2020-11-25 14:06:12</th>\n",
       "      <td>0</td>\n",
       "      <td>11.0</td>\n",
       "      <td>0.046130</td>\n",
       "      <td>0.012619</td>\n",
       "      <td>0.085221</td>\n",
       "      <td>0.015276</td>\n",
       "      <td>-0.144933</td>\n",
       "      <td>2.386880</td>\n",
       "      <td>5.578775</td>\n",
       "      <td>1.210515</td>\n",
       "      <td>3.655473</td>\n",
       "      <td>0.021162</td>\n",
       "      <td>0.002808</td>\n",
       "      <td>0.000938</td>\n",
       "      <td>0.000420</td>\n",
       "      <td>0.000507</td>\n",
       "      <td>0.000395</td>\n",
       "      <td>0.000217</td>\n",
       "      <td>0.000176</td>\n",
       "    </tr>\n",
       "    <tr>\n",
       "      <th>2020-11-25 14:06:24</th>\n",
       "      <td>0</td>\n",
       "      <td>11.0</td>\n",
       "      <td>0.053497</td>\n",
       "      <td>0.011505</td>\n",
       "      <td>0.093581</td>\n",
       "      <td>0.014059</td>\n",
       "      <td>-0.124687</td>\n",
       "      <td>2.511421</td>\n",
       "      <td>6.656225</td>\n",
       "      <td>1.221968</td>\n",
       "      <td>4.649777</td>\n",
       "      <td>0.021820</td>\n",
       "      <td>0.002246</td>\n",
       "      <td>0.000765</td>\n",
       "      <td>0.000583</td>\n",
       "      <td>0.000961</td>\n",
       "      <td>0.000614</td>\n",
       "      <td>0.000276</td>\n",
       "      <td>0.000347</td>\n",
       "    </tr>\n",
       "    <tr>\n",
       "      <th>2020-11-25 14:07:03</th>\n",
       "      <td>0</td>\n",
       "      <td>37.0</td>\n",
       "      <td>0.073671</td>\n",
       "      <td>0.014504</td>\n",
       "      <td>0.123645</td>\n",
       "      <td>0.017763</td>\n",
       "      <td>-0.180152</td>\n",
       "      <td>2.612526</td>\n",
       "      <td>6.960855</td>\n",
       "      <td>1.224668</td>\n",
       "      <td>5.079276</td>\n",
       "      <td>0.000268</td>\n",
       "      <td>0.002277</td>\n",
       "      <td>0.000215</td>\n",
       "      <td>0.000851</td>\n",
       "      <td>0.000442</td>\n",
       "      <td>0.000774</td>\n",
       "      <td>0.000115</td>\n",
       "      <td>0.000496</td>\n",
       "    </tr>\n",
       "  </tbody>\n",
       "</table>\n",
       "</div>"
      ],
      "text/plain": [
       "                     Label_No  WATT    AbsMax   AbsMean       P2P       RMS  \\\n",
       "Date                                                                          \n",
       "2020-11-25 14:01:00         0  11.0  0.054116  0.011482  0.092395  0.014053   \n",
       "2020-11-25 14:05:06         0  11.0  0.051435  0.011649  0.088863  0.014295   \n",
       "2020-11-25 14:06:12         0  11.0  0.046130  0.012619  0.085221  0.015276   \n",
       "2020-11-25 14:06:24         0  11.0  0.053497  0.011505  0.093581  0.014059   \n",
       "2020-11-25 14:07:03         0  37.0  0.073671  0.014504  0.123645  0.017763   \n",
       "\n",
       "                     Skewness  Kurtosis     Crest     Shape   Impulse  \\\n",
       "Date                                                                    \n",
       "2020-11-25 14:01:00 -0.142563  2.606448  6.574603  1.223906  4.713012   \n",
       "2020-11-25 14:05:06 -0.129078  2.538691  6.216188  1.227197  4.415492   \n",
       "2020-11-25 14:06:12 -0.144933  2.386880  5.578775  1.210515  3.655473   \n",
       "2020-11-25 14:06:24 -0.124687  2.511421  6.656225  1.221968  4.649777   \n",
       "2020-11-25 14:07:03 -0.180152  2.612526  6.960855  1.224668  5.079276   \n",
       "\n",
       "                           1x        2x        3x        4x       1xB  \\\n",
       "Date                                                                    \n",
       "2020-11-25 14:01:00  0.021590  0.002832  0.000747  0.000476  0.000814   \n",
       "2020-11-25 14:05:06  0.021702  0.002757  0.000674  0.000674  0.000993   \n",
       "2020-11-25 14:06:12  0.021162  0.002808  0.000938  0.000420  0.000507   \n",
       "2020-11-25 14:06:24  0.021820  0.002246  0.000765  0.000583  0.000961   \n",
       "2020-11-25 14:07:03  0.000268  0.002277  0.000215  0.000851  0.000442   \n",
       "\n",
       "                          2xB       3xB       4xB  \n",
       "Date                                               \n",
       "2020-11-25 14:01:00  0.000405  0.000370  0.000278  \n",
       "2020-11-25 14:05:06  0.000407  0.000258  0.000224  \n",
       "2020-11-25 14:06:12  0.000395  0.000217  0.000176  \n",
       "2020-11-25 14:06:24  0.000614  0.000276  0.000347  \n",
       "2020-11-25 14:07:03  0.000774  0.000115  0.000496  "
      ]
     },
     "execution_count": 14,
     "metadata": {},
     "output_type": "execute_result"
    }
   ],
   "source": [
    "df.drop(['Filename', 'Label', 'Motor', 'AMP'], axis=1, inplace=True)\n",
    "df.head()"
   ]
  },
  {
   "cell_type": "code",
   "execution_count": 15,
   "metadata": {},
   "outputs": [
    {
     "data": {
      "text/html": [
       "<div>\n",
       "<style scoped>\n",
       "    .dataframe tbody tr th:only-of-type {\n",
       "        vertical-align: middle;\n",
       "    }\n",
       "\n",
       "    .dataframe tbody tr th {\n",
       "        vertical-align: top;\n",
       "    }\n",
       "\n",
       "    .dataframe thead th {\n",
       "        text-align: right;\n",
       "    }\n",
       "</style>\n",
       "<table border=\"1\" class=\"dataframe\">\n",
       "  <thead>\n",
       "    <tr style=\"text-align: right;\">\n",
       "      <th></th>\n",
       "      <th>Label_No</th>\n",
       "      <th>WATT</th>\n",
       "      <th>AbsMax</th>\n",
       "      <th>AbsMean</th>\n",
       "      <th>P2P</th>\n",
       "      <th>RMS</th>\n",
       "      <th>Skewness</th>\n",
       "      <th>Kurtosis</th>\n",
       "      <th>Crest</th>\n",
       "      <th>Shape</th>\n",
       "      <th>Impulse</th>\n",
       "      <th>1x</th>\n",
       "      <th>2x</th>\n",
       "      <th>3x</th>\n",
       "      <th>4x</th>\n",
       "      <th>1xB</th>\n",
       "      <th>2xB</th>\n",
       "      <th>3xB</th>\n",
       "      <th>4xB</th>\n",
       "    </tr>\n",
       "  </thead>\n",
       "  <tbody>\n",
       "    <tr>\n",
       "      <th>Label_No</th>\n",
       "      <td>1.000000</td>\n",
       "      <td>0.222583</td>\n",
       "      <td>-0.065870</td>\n",
       "      <td>-0.048620</td>\n",
       "      <td>-0.065396</td>\n",
       "      <td>-0.057780</td>\n",
       "      <td>0.060906</td>\n",
       "      <td>-0.058971</td>\n",
       "      <td>-0.024352</td>\n",
       "      <td>-0.066337</td>\n",
       "      <td>-0.043544</td>\n",
       "      <td>-0.081619</td>\n",
       "      <td>-0.051557</td>\n",
       "      <td>-0.041787</td>\n",
       "      <td>-0.052554</td>\n",
       "      <td>0.012929</td>\n",
       "      <td>-0.046821</td>\n",
       "      <td>-0.010413</td>\n",
       "      <td>-0.005310</td>\n",
       "    </tr>\n",
       "    <tr>\n",
       "      <th>WATT</th>\n",
       "      <td>0.222583</td>\n",
       "      <td>1.000000</td>\n",
       "      <td>0.036495</td>\n",
       "      <td>0.058671</td>\n",
       "      <td>0.045969</td>\n",
       "      <td>0.039244</td>\n",
       "      <td>-0.046643</td>\n",
       "      <td>-0.005965</td>\n",
       "      <td>0.088607</td>\n",
       "      <td>0.006986</td>\n",
       "      <td>0.044823</td>\n",
       "      <td>-0.056088</td>\n",
       "      <td>-0.019483</td>\n",
       "      <td>-0.015212</td>\n",
       "      <td>0.029805</td>\n",
       "      <td>0.200470</td>\n",
       "      <td>-0.038699</td>\n",
       "      <td>-0.013358</td>\n",
       "      <td>0.187694</td>\n",
       "    </tr>\n",
       "    <tr>\n",
       "      <th>AbsMax</th>\n",
       "      <td>-0.065870</td>\n",
       "      <td>0.036495</td>\n",
       "      <td>1.000000</td>\n",
       "      <td>0.831231</td>\n",
       "      <td>0.997736</td>\n",
       "      <td>0.879922</td>\n",
       "      <td>-0.844266</td>\n",
       "      <td>0.787288</td>\n",
       "      <td>0.705900</td>\n",
       "      <td>0.844193</td>\n",
       "      <td>0.804303</td>\n",
       "      <td>0.695675</td>\n",
       "      <td>0.874416</td>\n",
       "      <td>0.527097</td>\n",
       "      <td>0.912636</td>\n",
       "      <td>0.858157</td>\n",
       "      <td>0.791422</td>\n",
       "      <td>0.888727</td>\n",
       "      <td>0.882857</td>\n",
       "    </tr>\n",
       "    <tr>\n",
       "      <th>AbsMean</th>\n",
       "      <td>-0.048620</td>\n",
       "      <td>0.058671</td>\n",
       "      <td>0.831231</td>\n",
       "      <td>1.000000</td>\n",
       "      <td>0.833297</td>\n",
       "      <td>0.993171</td>\n",
       "      <td>-0.648420</td>\n",
       "      <td>0.483292</td>\n",
       "      <td>0.404759</td>\n",
       "      <td>0.685137</td>\n",
       "      <td>0.520434</td>\n",
       "      <td>0.518757</td>\n",
       "      <td>0.769262</td>\n",
       "      <td>0.774388</td>\n",
       "      <td>0.592558</td>\n",
       "      <td>0.635503</td>\n",
       "      <td>0.655355</td>\n",
       "      <td>0.813867</td>\n",
       "      <td>0.821486</td>\n",
       "    </tr>\n",
       "    <tr>\n",
       "      <th>P2P</th>\n",
       "      <td>-0.065396</td>\n",
       "      <td>0.045969</td>\n",
       "      <td>0.997736</td>\n",
       "      <td>0.833297</td>\n",
       "      <td>1.000000</td>\n",
       "      <td>0.879858</td>\n",
       "      <td>-0.843823</td>\n",
       "      <td>0.781939</td>\n",
       "      <td>0.715161</td>\n",
       "      <td>0.847075</td>\n",
       "      <td>0.805197</td>\n",
       "      <td>0.696461</td>\n",
       "      <td>0.865318</td>\n",
       "      <td>0.518415</td>\n",
       "      <td>0.910006</td>\n",
       "      <td>0.854480</td>\n",
       "      <td>0.801714</td>\n",
       "      <td>0.890336</td>\n",
       "      <td>0.885531</td>\n",
       "    </tr>\n",
       "    <tr>\n",
       "      <th>RMS</th>\n",
       "      <td>-0.057780</td>\n",
       "      <td>0.039244</td>\n",
       "      <td>0.879922</td>\n",
       "      <td>0.993171</td>\n",
       "      <td>0.879858</td>\n",
       "      <td>1.000000</td>\n",
       "      <td>-0.705352</td>\n",
       "      <td>0.554456</td>\n",
       "      <td>0.467646</td>\n",
       "      <td>0.741712</td>\n",
       "      <td>0.586133</td>\n",
       "      <td>0.533668</td>\n",
       "      <td>0.802896</td>\n",
       "      <td>0.764623</td>\n",
       "      <td>0.657780</td>\n",
       "      <td>0.679467</td>\n",
       "      <td>0.692887</td>\n",
       "      <td>0.845531</td>\n",
       "      <td>0.853316</td>\n",
       "    </tr>\n",
       "    <tr>\n",
       "      <th>Skewness</th>\n",
       "      <td>0.060906</td>\n",
       "      <td>-0.046643</td>\n",
       "      <td>-0.844266</td>\n",
       "      <td>-0.648420</td>\n",
       "      <td>-0.843823</td>\n",
       "      <td>-0.705352</td>\n",
       "      <td>1.000000</td>\n",
       "      <td>-0.959636</td>\n",
       "      <td>-0.853931</td>\n",
       "      <td>-0.982657</td>\n",
       "      <td>-0.964959</td>\n",
       "      <td>-0.563789</td>\n",
       "      <td>-0.664799</td>\n",
       "      <td>-0.387193</td>\n",
       "      <td>-0.724843</td>\n",
       "      <td>-0.672087</td>\n",
       "      <td>-0.686486</td>\n",
       "      <td>-0.747005</td>\n",
       "      <td>-0.748757</td>\n",
       "    </tr>\n",
       "    <tr>\n",
       "      <th>Kurtosis</th>\n",
       "      <td>-0.058971</td>\n",
       "      <td>-0.005965</td>\n",
       "      <td>0.787288</td>\n",
       "      <td>0.483292</td>\n",
       "      <td>0.781939</td>\n",
       "      <td>0.554456</td>\n",
       "      <td>-0.959636</td>\n",
       "      <td>1.000000</td>\n",
       "      <td>0.852109</td>\n",
       "      <td>0.930105</td>\n",
       "      <td>0.966691</td>\n",
       "      <td>0.579280</td>\n",
       "      <td>0.620681</td>\n",
       "      <td>0.234149</td>\n",
       "      <td>0.736952</td>\n",
       "      <td>0.657500</td>\n",
       "      <td>0.640944</td>\n",
       "      <td>0.665634</td>\n",
       "      <td>0.657831</td>\n",
       "    </tr>\n",
       "    <tr>\n",
       "      <th>Crest</th>\n",
       "      <td>-0.024352</td>\n",
       "      <td>0.088607</td>\n",
       "      <td>0.705900</td>\n",
       "      <td>0.404759</td>\n",
       "      <td>0.715161</td>\n",
       "      <td>0.467646</td>\n",
       "      <td>-0.853931</td>\n",
       "      <td>0.852109</td>\n",
       "      <td>1.000000</td>\n",
       "      <td>0.825034</td>\n",
       "      <td>0.946374</td>\n",
       "      <td>0.429820</td>\n",
       "      <td>0.516279</td>\n",
       "      <td>0.149750</td>\n",
       "      <td>0.671197</td>\n",
       "      <td>0.589152</td>\n",
       "      <td>0.613234</td>\n",
       "      <td>0.612617</td>\n",
       "      <td>0.611172</td>\n",
       "    </tr>\n",
       "    <tr>\n",
       "      <th>Shape</th>\n",
       "      <td>-0.066337</td>\n",
       "      <td>0.006986</td>\n",
       "      <td>0.844193</td>\n",
       "      <td>0.685137</td>\n",
       "      <td>0.847075</td>\n",
       "      <td>0.741712</td>\n",
       "      <td>-0.982657</td>\n",
       "      <td>0.930105</td>\n",
       "      <td>0.825034</td>\n",
       "      <td>1.000000</td>\n",
       "      <td>0.937760</td>\n",
       "      <td>0.510168</td>\n",
       "      <td>0.668411</td>\n",
       "      <td>0.436762</td>\n",
       "      <td>0.701793</td>\n",
       "      <td>0.644006</td>\n",
       "      <td>0.713676</td>\n",
       "      <td>0.764596</td>\n",
       "      <td>0.767946</td>\n",
       "    </tr>\n",
       "    <tr>\n",
       "      <th>Impulse</th>\n",
       "      <td>-0.043544</td>\n",
       "      <td>0.044823</td>\n",
       "      <td>0.804303</td>\n",
       "      <td>0.520434</td>\n",
       "      <td>0.805197</td>\n",
       "      <td>0.586133</td>\n",
       "      <td>-0.964959</td>\n",
       "      <td>0.966691</td>\n",
       "      <td>0.946374</td>\n",
       "      <td>0.937760</td>\n",
       "      <td>1.000000</td>\n",
       "      <td>0.548036</td>\n",
       "      <td>0.617291</td>\n",
       "      <td>0.253175</td>\n",
       "      <td>0.737025</td>\n",
       "      <td>0.661982</td>\n",
       "      <td>0.664982</td>\n",
       "      <td>0.692825</td>\n",
       "      <td>0.688696</td>\n",
       "    </tr>\n",
       "    <tr>\n",
       "      <th>1x</th>\n",
       "      <td>-0.081619</td>\n",
       "      <td>-0.056088</td>\n",
       "      <td>0.695675</td>\n",
       "      <td>0.518757</td>\n",
       "      <td>0.696461</td>\n",
       "      <td>0.533668</td>\n",
       "      <td>-0.563789</td>\n",
       "      <td>0.579280</td>\n",
       "      <td>0.429820</td>\n",
       "      <td>0.510168</td>\n",
       "      <td>0.548036</td>\n",
       "      <td>1.000000</td>\n",
       "      <td>0.668443</td>\n",
       "      <td>0.189194</td>\n",
       "      <td>0.731946</td>\n",
       "      <td>0.734989</td>\n",
       "      <td>0.520565</td>\n",
       "      <td>0.594091</td>\n",
       "      <td>0.552157</td>\n",
       "    </tr>\n",
       "    <tr>\n",
       "      <th>2x</th>\n",
       "      <td>-0.051557</td>\n",
       "      <td>-0.019483</td>\n",
       "      <td>0.874416</td>\n",
       "      <td>0.769262</td>\n",
       "      <td>0.865318</td>\n",
       "      <td>0.802896</td>\n",
       "      <td>-0.664799</td>\n",
       "      <td>0.620681</td>\n",
       "      <td>0.516279</td>\n",
       "      <td>0.668411</td>\n",
       "      <td>0.617291</td>\n",
       "      <td>0.668443</td>\n",
       "      <td>1.000000</td>\n",
       "      <td>0.496814</td>\n",
       "      <td>0.808623</td>\n",
       "      <td>0.786756</td>\n",
       "      <td>0.708252</td>\n",
       "      <td>0.805398</td>\n",
       "      <td>0.752411</td>\n",
       "    </tr>\n",
       "    <tr>\n",
       "      <th>3x</th>\n",
       "      <td>-0.041787</td>\n",
       "      <td>-0.015212</td>\n",
       "      <td>0.527097</td>\n",
       "      <td>0.774388</td>\n",
       "      <td>0.518415</td>\n",
       "      <td>0.764623</td>\n",
       "      <td>-0.387193</td>\n",
       "      <td>0.234149</td>\n",
       "      <td>0.149750</td>\n",
       "      <td>0.436762</td>\n",
       "      <td>0.253175</td>\n",
       "      <td>0.189194</td>\n",
       "      <td>0.496814</td>\n",
       "      <td>1.000000</td>\n",
       "      <td>0.318364</td>\n",
       "      <td>0.342886</td>\n",
       "      <td>0.368254</td>\n",
       "      <td>0.535058</td>\n",
       "      <td>0.582499</td>\n",
       "    </tr>\n",
       "    <tr>\n",
       "      <th>4x</th>\n",
       "      <td>-0.052554</td>\n",
       "      <td>0.029805</td>\n",
       "      <td>0.912636</td>\n",
       "      <td>0.592558</td>\n",
       "      <td>0.910006</td>\n",
       "      <td>0.657780</td>\n",
       "      <td>-0.724843</td>\n",
       "      <td>0.736952</td>\n",
       "      <td>0.671197</td>\n",
       "      <td>0.701793</td>\n",
       "      <td>0.737025</td>\n",
       "      <td>0.731946</td>\n",
       "      <td>0.808623</td>\n",
       "      <td>0.318364</td>\n",
       "      <td>1.000000</td>\n",
       "      <td>0.870581</td>\n",
       "      <td>0.719827</td>\n",
       "      <td>0.768066</td>\n",
       "      <td>0.754814</td>\n",
       "    </tr>\n",
       "    <tr>\n",
       "      <th>1xB</th>\n",
       "      <td>0.012929</td>\n",
       "      <td>0.200470</td>\n",
       "      <td>0.858157</td>\n",
       "      <td>0.635503</td>\n",
       "      <td>0.854480</td>\n",
       "      <td>0.679467</td>\n",
       "      <td>-0.672087</td>\n",
       "      <td>0.657500</td>\n",
       "      <td>0.589152</td>\n",
       "      <td>0.644006</td>\n",
       "      <td>0.661982</td>\n",
       "      <td>0.734989</td>\n",
       "      <td>0.786756</td>\n",
       "      <td>0.342886</td>\n",
       "      <td>0.870581</td>\n",
       "      <td>1.000000</td>\n",
       "      <td>0.701141</td>\n",
       "      <td>0.747933</td>\n",
       "      <td>0.801581</td>\n",
       "    </tr>\n",
       "    <tr>\n",
       "      <th>2xB</th>\n",
       "      <td>-0.046821</td>\n",
       "      <td>-0.038699</td>\n",
       "      <td>0.791422</td>\n",
       "      <td>0.655355</td>\n",
       "      <td>0.801714</td>\n",
       "      <td>0.692887</td>\n",
       "      <td>-0.686486</td>\n",
       "      <td>0.640944</td>\n",
       "      <td>0.613234</td>\n",
       "      <td>0.713676</td>\n",
       "      <td>0.664982</td>\n",
       "      <td>0.520565</td>\n",
       "      <td>0.708252</td>\n",
       "      <td>0.368254</td>\n",
       "      <td>0.719827</td>\n",
       "      <td>0.701141</td>\n",
       "      <td>1.000000</td>\n",
       "      <td>0.757531</td>\n",
       "      <td>0.732816</td>\n",
       "    </tr>\n",
       "    <tr>\n",
       "      <th>3xB</th>\n",
       "      <td>-0.010413</td>\n",
       "      <td>-0.013358</td>\n",
       "      <td>0.888727</td>\n",
       "      <td>0.813867</td>\n",
       "      <td>0.890336</td>\n",
       "      <td>0.845531</td>\n",
       "      <td>-0.747005</td>\n",
       "      <td>0.665634</td>\n",
       "      <td>0.612617</td>\n",
       "      <td>0.764596</td>\n",
       "      <td>0.692825</td>\n",
       "      <td>0.594091</td>\n",
       "      <td>0.805398</td>\n",
       "      <td>0.535058</td>\n",
       "      <td>0.768066</td>\n",
       "      <td>0.747933</td>\n",
       "      <td>0.757531</td>\n",
       "      <td>1.000000</td>\n",
       "      <td>0.815563</td>\n",
       "    </tr>\n",
       "    <tr>\n",
       "      <th>4xB</th>\n",
       "      <td>-0.005310</td>\n",
       "      <td>0.187694</td>\n",
       "      <td>0.882857</td>\n",
       "      <td>0.821486</td>\n",
       "      <td>0.885531</td>\n",
       "      <td>0.853316</td>\n",
       "      <td>-0.748757</td>\n",
       "      <td>0.657831</td>\n",
       "      <td>0.611172</td>\n",
       "      <td>0.767946</td>\n",
       "      <td>0.688696</td>\n",
       "      <td>0.552157</td>\n",
       "      <td>0.752411</td>\n",
       "      <td>0.582499</td>\n",
       "      <td>0.754814</td>\n",
       "      <td>0.801581</td>\n",
       "      <td>0.732816</td>\n",
       "      <td>0.815563</td>\n",
       "      <td>1.000000</td>\n",
       "    </tr>\n",
       "  </tbody>\n",
       "</table>\n",
       "</div>"
      ],
      "text/plain": [
       "          Label_No      WATT    AbsMax   AbsMean       P2P       RMS  \\\n",
       "Label_No  1.000000  0.222583 -0.065870 -0.048620 -0.065396 -0.057780   \n",
       "WATT      0.222583  1.000000  0.036495  0.058671  0.045969  0.039244   \n",
       "AbsMax   -0.065870  0.036495  1.000000  0.831231  0.997736  0.879922   \n",
       "AbsMean  -0.048620  0.058671  0.831231  1.000000  0.833297  0.993171   \n",
       "P2P      -0.065396  0.045969  0.997736  0.833297  1.000000  0.879858   \n",
       "RMS      -0.057780  0.039244  0.879922  0.993171  0.879858  1.000000   \n",
       "Skewness  0.060906 -0.046643 -0.844266 -0.648420 -0.843823 -0.705352   \n",
       "Kurtosis -0.058971 -0.005965  0.787288  0.483292  0.781939  0.554456   \n",
       "Crest    -0.024352  0.088607  0.705900  0.404759  0.715161  0.467646   \n",
       "Shape    -0.066337  0.006986  0.844193  0.685137  0.847075  0.741712   \n",
       "Impulse  -0.043544  0.044823  0.804303  0.520434  0.805197  0.586133   \n",
       "1x       -0.081619 -0.056088  0.695675  0.518757  0.696461  0.533668   \n",
       "2x       -0.051557 -0.019483  0.874416  0.769262  0.865318  0.802896   \n",
       "3x       -0.041787 -0.015212  0.527097  0.774388  0.518415  0.764623   \n",
       "4x       -0.052554  0.029805  0.912636  0.592558  0.910006  0.657780   \n",
       "1xB       0.012929  0.200470  0.858157  0.635503  0.854480  0.679467   \n",
       "2xB      -0.046821 -0.038699  0.791422  0.655355  0.801714  0.692887   \n",
       "3xB      -0.010413 -0.013358  0.888727  0.813867  0.890336  0.845531   \n",
       "4xB      -0.005310  0.187694  0.882857  0.821486  0.885531  0.853316   \n",
       "\n",
       "          Skewness  Kurtosis     Crest     Shape   Impulse        1x  \\\n",
       "Label_No  0.060906 -0.058971 -0.024352 -0.066337 -0.043544 -0.081619   \n",
       "WATT     -0.046643 -0.005965  0.088607  0.006986  0.044823 -0.056088   \n",
       "AbsMax   -0.844266  0.787288  0.705900  0.844193  0.804303  0.695675   \n",
       "AbsMean  -0.648420  0.483292  0.404759  0.685137  0.520434  0.518757   \n",
       "P2P      -0.843823  0.781939  0.715161  0.847075  0.805197  0.696461   \n",
       "RMS      -0.705352  0.554456  0.467646  0.741712  0.586133  0.533668   \n",
       "Skewness  1.000000 -0.959636 -0.853931 -0.982657 -0.964959 -0.563789   \n",
       "Kurtosis -0.959636  1.000000  0.852109  0.930105  0.966691  0.579280   \n",
       "Crest    -0.853931  0.852109  1.000000  0.825034  0.946374  0.429820   \n",
       "Shape    -0.982657  0.930105  0.825034  1.000000  0.937760  0.510168   \n",
       "Impulse  -0.964959  0.966691  0.946374  0.937760  1.000000  0.548036   \n",
       "1x       -0.563789  0.579280  0.429820  0.510168  0.548036  1.000000   \n",
       "2x       -0.664799  0.620681  0.516279  0.668411  0.617291  0.668443   \n",
       "3x       -0.387193  0.234149  0.149750  0.436762  0.253175  0.189194   \n",
       "4x       -0.724843  0.736952  0.671197  0.701793  0.737025  0.731946   \n",
       "1xB      -0.672087  0.657500  0.589152  0.644006  0.661982  0.734989   \n",
       "2xB      -0.686486  0.640944  0.613234  0.713676  0.664982  0.520565   \n",
       "3xB      -0.747005  0.665634  0.612617  0.764596  0.692825  0.594091   \n",
       "4xB      -0.748757  0.657831  0.611172  0.767946  0.688696  0.552157   \n",
       "\n",
       "                2x        3x        4x       1xB       2xB       3xB       4xB  \n",
       "Label_No -0.051557 -0.041787 -0.052554  0.012929 -0.046821 -0.010413 -0.005310  \n",
       "WATT     -0.019483 -0.015212  0.029805  0.200470 -0.038699 -0.013358  0.187694  \n",
       "AbsMax    0.874416  0.527097  0.912636  0.858157  0.791422  0.888727  0.882857  \n",
       "AbsMean   0.769262  0.774388  0.592558  0.635503  0.655355  0.813867  0.821486  \n",
       "P2P       0.865318  0.518415  0.910006  0.854480  0.801714  0.890336  0.885531  \n",
       "RMS       0.802896  0.764623  0.657780  0.679467  0.692887  0.845531  0.853316  \n",
       "Skewness -0.664799 -0.387193 -0.724843 -0.672087 -0.686486 -0.747005 -0.748757  \n",
       "Kurtosis  0.620681  0.234149  0.736952  0.657500  0.640944  0.665634  0.657831  \n",
       "Crest     0.516279  0.149750  0.671197  0.589152  0.613234  0.612617  0.611172  \n",
       "Shape     0.668411  0.436762  0.701793  0.644006  0.713676  0.764596  0.767946  \n",
       "Impulse   0.617291  0.253175  0.737025  0.661982  0.664982  0.692825  0.688696  \n",
       "1x        0.668443  0.189194  0.731946  0.734989  0.520565  0.594091  0.552157  \n",
       "2x        1.000000  0.496814  0.808623  0.786756  0.708252  0.805398  0.752411  \n",
       "3x        0.496814  1.000000  0.318364  0.342886  0.368254  0.535058  0.582499  \n",
       "4x        0.808623  0.318364  1.000000  0.870581  0.719827  0.768066  0.754814  \n",
       "1xB       0.786756  0.342886  0.870581  1.000000  0.701141  0.747933  0.801581  \n",
       "2xB       0.708252  0.368254  0.719827  0.701141  1.000000  0.757531  0.732816  \n",
       "3xB       0.805398  0.535058  0.768066  0.747933  0.757531  1.000000  0.815563  \n",
       "4xB       0.752411  0.582499  0.754814  0.801581  0.732816  0.815563  1.000000  "
      ]
     },
     "execution_count": 15,
     "metadata": {},
     "output_type": "execute_result"
    }
   ],
   "source": [
    "df.corr()"
   ]
  },
  {
   "cell_type": "code",
   "execution_count": 16,
   "metadata": {},
   "outputs": [],
   "source": [
    "X = df.drop('Label_No', axis=1)\n",
    "y = df['Label_No']"
   ]
  },
  {
   "cell_type": "code",
   "execution_count": 17,
   "metadata": {},
   "outputs": [],
   "source": [
    "# Standardization\n",
    "X = (X - X.mean()) / X.std()"
   ]
  },
  {
   "cell_type": "markdown",
   "metadata": {},
   "source": [
    "## 3. Train/Testset 분리"
   ]
  },
  {
   "cell_type": "code",
   "execution_count": 18,
   "metadata": {},
   "outputs": [],
   "source": [
    "X_train, X_test, y_train, y_test = train_test_split(X, y, \n",
    "                                                    test_size=0.3, \n",
    "                                                    shuffle=True,\n",
    "                                                    random_state=0)"
   ]
  },
  {
   "cell_type": "code",
   "execution_count": 19,
   "metadata": {},
   "outputs": [
    {
     "name": "stdout",
     "output_type": "stream",
     "text": [
      "(7000, 18)\n",
      "(7000,)\n",
      "(3000, 18)\n",
      "(3000,)\n"
     ]
    }
   ],
   "source": [
    "print(X_train.shape)\n",
    "print(y_train.shape)\n",
    "print(X_test.shape)\n",
    "print(y_test.shape)"
   ]
  },
  {
   "cell_type": "markdown",
   "metadata": {},
   "source": [
    "## 4. XGBoost Classifier 기본 학습"
   ]
  },
  {
   "cell_type": "code",
   "execution_count": 20,
   "metadata": {},
   "outputs": [
    {
     "name": "stdout",
     "output_type": "stream",
     "text": [
      "[10:22:45] WARNING: /opt/concourse/worker/volumes/live/7a2b9f41-3287-451b-6691-43e9a6c0910f/volume/xgboost-split_1619728204606/work/src/learner.cc:1061: Starting in XGBoost 1.3.0, the default evaluation metric used with the objective 'multi:softprob' was changed from 'merror' to 'mlogloss'. Explicitly set eval_metric if you'd like to restore the old behavior.\n"
     ]
    },
    {
     "data": {
      "text/plain": [
       "XGBClassifier(base_score=0.5, booster='gbtree', colsample_bylevel=1,\n",
       "              colsample_bynode=1, colsample_bytree=1, gamma=0, gpu_id=-1,\n",
       "              importance_type='gain', interaction_constraints='',\n",
       "              learning_rate=0.300000012, max_delta_step=0, max_depth=6,\n",
       "              min_child_weight=1, missing=nan, monotone_constraints='()',\n",
       "              n_estimators=100, n_jobs=12, num_parallel_tree=1,\n",
       "              objective='multi:softprob', random_state=0, reg_alpha=0,\n",
       "              reg_lambda=1, scale_pos_weight=None, subsample=1,\n",
       "              tree_method='exact', validate_parameters=1, verbosity=None)"
      ]
     },
     "execution_count": 20,
     "metadata": {},
     "output_type": "execute_result"
    }
   ],
   "source": [
    "xgb = XGBClassifier()\n",
    "xgb.fit(X_train, y_train)"
   ]
  },
  {
   "cell_type": "markdown",
   "metadata": {},
   "source": [
    "## 5. Multi-Classification Report"
   ]
  },
  {
   "cell_type": "code",
   "execution_count": 21,
   "metadata": {},
   "outputs": [
    {
     "name": "stdout",
     "output_type": "stream",
     "text": [
      "## <class 'xgboost.sklearn.XGBClassifier'>\n",
      "              precision    recall  f1-score   support\n",
      "\n",
      "           0     0.9986    0.9964    0.9975      1389\n",
      "           1     1.0000    1.0000    1.0000       372\n",
      "           2     1.0000    0.9943    0.9971       351\n",
      "           3     0.9875    1.0000    0.9937       396\n",
      "           4     0.9980    0.9980    0.9980       492\n",
      "\n",
      "    accuracy                         0.9973      3000\n",
      "   macro avg     0.9968    0.9977    0.9973      3000\n",
      "weighted avg     0.9974    0.9973    0.9973      3000\n",
      "\n"
     ]
    }
   ],
   "source": [
    "y_pred = xgb.predict(X_test)\n",
    "target_names = ['0', '1', '2', '3', '4']\n",
    "print('##', XGBClassifier)\n",
    "print(classification_report(y_test, y_pred, target_names=target_names, digits=4)) "
   ]
  },
  {
   "cell_type": "code",
   "execution_count": 22,
   "metadata": {},
   "outputs": [
    {
     "name": "stdout",
     "output_type": "stream",
     "text": [
      "예측 정확도: 0.9973\n"
     ]
    }
   ],
   "source": [
    "y_pred = xgb.predict(X_test)\n",
    "accuracy = accuracy_score(y_test, y_pred)\n",
    "print('예측 정확도: {0:.4f}'.format(accuracy))"
   ]
  },
  {
   "cell_type": "code",
   "execution_count": 23,
   "metadata": {},
   "outputs": [
    {
     "data": {
      "text/plain": [
       "<Figure size 504x504 with 0 Axes>"
      ]
     },
     "metadata": {},
     "output_type": "display_data"
    },
    {
     "data": {
      "image/png": "[encoded data removed]",
      "text/plain": [
       "<Figure size 432x288 with 2 Axes>"
      ]
     },
     "metadata": {
      "needs_background": "light"
     },
     "output_type": "display_data"
    }
   ],
   "source": [
    "plt.figure(figsize=(7, 7))\n",
    "plot_confusion_matrix(xgb, X_test, y_test,\n",
    "                      cmap=plt.cm.Blues)\n",
    "plt.show()"
   ]
  },
  {
   "cell_type": "markdown",
   "metadata": {},
   "source": [
    "## 6. 학습모델 추출 to Pickle"
   ]
  },
  {
   "cell_type": "code",
   "execution_count": 24,
   "metadata": {},
   "outputs": [
    {
     "data": {
      "text/plain": [
       "['vibration_xgb.pkl']"
      ]
     },
     "execution_count": 24,
     "metadata": {},
     "output_type": "execute_result"
    }
   ],
   "source": [
    "import pickle\n",
    "import joblib\n",
    "\n",
    "joblib.dump(xgb, 'vibration_xgb.pkl')"
   ]
  },
  {
   "cell_type": "markdown",
   "metadata": {},
   "source": [
    "## 7. Inference"
   ]
  },
  {
   "cell_type": "code",
   "execution_count": 25,
   "metadata": {
    "tags": []
   },
   "outputs": [
    {
     "name": "stdout",
     "output_type": "stream",
     "text": [
      "2\n",
      "0\n",
      "0\n",
      "3\n",
      "0\n",
      "1\n",
      "4\n",
      "4\n",
      "0\n",
      "0\n"
     ]
    }
   ],
   "source": [
    "xgb_joblib = joblib.load('vibration_xgb.pkl') \n",
    "y_pred = xgb_joblib.predict(X_test[:10])\n",
    "print(*y_pred, sep='\\n')"
   ]
  },
  {
   "cell_type": "markdown",
   "metadata": {},
   "source": [
    "# II. Anomaly Detection: CNN Autoencoder"
   ]
  },
  {
   "cell_type": "code",
   "execution_count": 26,
   "metadata": {},
   "outputs": [],
   "source": [
    "import numpy as np\n",
    "import pandas as pd\n",
    "import glob\n",
    "import os"
   ]
  },
  {
   "cell_type": "code",
   "execution_count": 27,
   "metadata": {},
   "outputs": [
    {
     "data": {
      "text/plain": [
       "'2.6.0'"
      ]
     },
     "execution_count": 27,
     "metadata": {},
     "output_type": "execute_result"
    }
   ],
   "source": [
    "import tensorflow as tf\n",
    "from tensorflow import keras\n",
    "from tensorflow.keras import layers\n",
    "tf.__version__"
   ]
  },
  {
   "cell_type": "code",
   "execution_count": 28,
   "metadata": {},
   "outputs": [
    {
     "data": {
      "text/html": [
       "<div>\n",
       "<style scoped>\n",
       "    .dataframe tbody tr th:only-of-type {\n",
       "        vertical-align: middle;\n",
       "    }\n",
       "\n",
       "    .dataframe tbody tr th {\n",
       "        vertical-align: top;\n",
       "    }\n",
       "\n",
       "    .dataframe thead th {\n",
       "        text-align: right;\n",
       "    }\n",
       "</style>\n",
       "<table border=\"1\" class=\"dataframe\">\n",
       "  <thead>\n",
       "    <tr style=\"text-align: right;\">\n",
       "      <th></th>\n",
       "      <th>AbsMax</th>\n",
       "      <th>AbsMean</th>\n",
       "      <th>P2P</th>\n",
       "      <th>RMS</th>\n",
       "      <th>Skewness</th>\n",
       "      <th>Kurtosis</th>\n",
       "      <th>Crest</th>\n",
       "      <th>Shape</th>\n",
       "      <th>Impulse</th>\n",
       "      <th>1x</th>\n",
       "      <th>2x</th>\n",
       "      <th>3x</th>\n",
       "      <th>4x</th>\n",
       "      <th>1xB</th>\n",
       "      <th>2xB</th>\n",
       "      <th>3xB</th>\n",
       "      <th>4xB</th>\n",
       "    </tr>\n",
       "    <tr>\n",
       "      <th>Date</th>\n",
       "      <th></th>\n",
       "      <th></th>\n",
       "      <th></th>\n",
       "      <th></th>\n",
       "      <th></th>\n",
       "      <th></th>\n",
       "      <th></th>\n",
       "      <th></th>\n",
       "      <th></th>\n",
       "      <th></th>\n",
       "      <th></th>\n",
       "      <th></th>\n",
       "      <th></th>\n",
       "      <th></th>\n",
       "      <th></th>\n",
       "      <th></th>\n",
       "      <th></th>\n",
       "    </tr>\n",
       "  </thead>\n",
       "  <tbody>\n",
       "    <tr>\n",
       "      <th>2020-11-25 14:01:00</th>\n",
       "      <td>0.054116</td>\n",
       "      <td>0.011482</td>\n",
       "      <td>0.092395</td>\n",
       "      <td>0.014053</td>\n",
       "      <td>-0.142563</td>\n",
       "      <td>2.606448</td>\n",
       "      <td>6.574603</td>\n",
       "      <td>1.223906</td>\n",
       "      <td>4.713012</td>\n",
       "      <td>0.021590</td>\n",
       "      <td>0.002832</td>\n",
       "      <td>0.000747</td>\n",
       "      <td>0.000476</td>\n",
       "      <td>0.000814</td>\n",
       "      <td>0.000405</td>\n",
       "      <td>0.000370</td>\n",
       "      <td>0.000278</td>\n",
       "    </tr>\n",
       "    <tr>\n",
       "      <th>2020-11-25 14:05:06</th>\n",
       "      <td>0.051435</td>\n",
       "      <td>0.011649</td>\n",
       "      <td>0.088863</td>\n",
       "      <td>0.014295</td>\n",
       "      <td>-0.129078</td>\n",
       "      <td>2.538691</td>\n",
       "      <td>6.216188</td>\n",
       "      <td>1.227197</td>\n",
       "      <td>4.415492</td>\n",
       "      <td>0.021702</td>\n",
       "      <td>0.002757</td>\n",
       "      <td>0.000674</td>\n",
       "      <td>0.000674</td>\n",
       "      <td>0.000993</td>\n",
       "      <td>0.000407</td>\n",
       "      <td>0.000258</td>\n",
       "      <td>0.000224</td>\n",
       "    </tr>\n",
       "    <tr>\n",
       "      <th>2020-11-25 14:06:12</th>\n",
       "      <td>0.046130</td>\n",
       "      <td>0.012619</td>\n",
       "      <td>0.085221</td>\n",
       "      <td>0.015276</td>\n",
       "      <td>-0.144933</td>\n",
       "      <td>2.386880</td>\n",
       "      <td>5.578775</td>\n",
       "      <td>1.210515</td>\n",
       "      <td>3.655473</td>\n",
       "      <td>0.021162</td>\n",
       "      <td>0.002808</td>\n",
       "      <td>0.000938</td>\n",
       "      <td>0.000420</td>\n",
       "      <td>0.000507</td>\n",
       "      <td>0.000395</td>\n",
       "      <td>0.000217</td>\n",
       "      <td>0.000176</td>\n",
       "    </tr>\n",
       "    <tr>\n",
       "      <th>2020-11-25 14:06:24</th>\n",
       "      <td>0.053497</td>\n",
       "      <td>0.011505</td>\n",
       "      <td>0.093581</td>\n",
       "      <td>0.014059</td>\n",
       "      <td>-0.124687</td>\n",
       "      <td>2.511421</td>\n",
       "      <td>6.656225</td>\n",
       "      <td>1.221968</td>\n",
       "      <td>4.649777</td>\n",
       "      <td>0.021820</td>\n",
       "      <td>0.002246</td>\n",
       "      <td>0.000765</td>\n",
       "      <td>0.000583</td>\n",
       "      <td>0.000961</td>\n",
       "      <td>0.000614</td>\n",
       "      <td>0.000276</td>\n",
       "      <td>0.000347</td>\n",
       "    </tr>\n",
       "    <tr>\n",
       "      <th>2020-11-25 14:07:03</th>\n",
       "      <td>0.073671</td>\n",
       "      <td>0.014504</td>\n",
       "      <td>0.123645</td>\n",
       "      <td>0.017763</td>\n",
       "      <td>-0.180152</td>\n",
       "      <td>2.612526</td>\n",
       "      <td>6.960855</td>\n",
       "      <td>1.224668</td>\n",
       "      <td>5.079276</td>\n",
       "      <td>0.000268</td>\n",
       "      <td>0.002277</td>\n",
       "      <td>0.000215</td>\n",
       "      <td>0.000851</td>\n",
       "      <td>0.000442</td>\n",
       "      <td>0.000774</td>\n",
       "      <td>0.000115</td>\n",
       "      <td>0.000496</td>\n",
       "    </tr>\n",
       "    <tr>\n",
       "      <th>...</th>\n",
       "      <td>...</td>\n",
       "      <td>...</td>\n",
       "      <td>...</td>\n",
       "      <td>...</td>\n",
       "      <td>...</td>\n",
       "      <td>...</td>\n",
       "      <td>...</td>\n",
       "      <td>...</td>\n",
       "      <td>...</td>\n",
       "      <td>...</td>\n",
       "      <td>...</td>\n",
       "      <td>...</td>\n",
       "      <td>...</td>\n",
       "      <td>...</td>\n",
       "      <td>...</td>\n",
       "      <td>...</td>\n",
       "      <td>...</td>\n",
       "    </tr>\n",
       "    <tr>\n",
       "      <th>2020-12-26 13:56:08</th>\n",
       "      <td>0.051351</td>\n",
       "      <td>0.010746</td>\n",
       "      <td>0.090373</td>\n",
       "      <td>0.013122</td>\n",
       "      <td>-0.102131</td>\n",
       "      <td>2.547163</td>\n",
       "      <td>6.887367</td>\n",
       "      <td>1.221062</td>\n",
       "      <td>4.778596</td>\n",
       "      <td>0.019273</td>\n",
       "      <td>0.004546</td>\n",
       "      <td>0.000335</td>\n",
       "      <td>0.000637</td>\n",
       "      <td>0.000579</td>\n",
       "      <td>0.001220</td>\n",
       "      <td>0.000239</td>\n",
       "      <td>0.000162</td>\n",
       "    </tr>\n",
       "    <tr>\n",
       "      <th>2020-12-26 14:56:32</th>\n",
       "      <td>0.049762</td>\n",
       "      <td>0.011479</td>\n",
       "      <td>0.093155</td>\n",
       "      <td>0.014009</td>\n",
       "      <td>-0.139252</td>\n",
       "      <td>2.542827</td>\n",
       "      <td>6.649879</td>\n",
       "      <td>1.220337</td>\n",
       "      <td>4.334970</td>\n",
       "      <td>0.021180</td>\n",
       "      <td>0.004645</td>\n",
       "      <td>0.000446</td>\n",
       "      <td>0.000323</td>\n",
       "      <td>0.000751</td>\n",
       "      <td>0.000996</td>\n",
       "      <td>0.000346</td>\n",
       "      <td>0.000183</td>\n",
       "    </tr>\n",
       "    <tr>\n",
       "      <th>2020-12-26 15:53:21</th>\n",
       "      <td>0.050011</td>\n",
       "      <td>0.011062</td>\n",
       "      <td>0.090215</td>\n",
       "      <td>0.013480</td>\n",
       "      <td>-0.109898</td>\n",
       "      <td>2.535240</td>\n",
       "      <td>6.692540</td>\n",
       "      <td>1.218612</td>\n",
       "      <td>4.521061</td>\n",
       "      <td>0.020287</td>\n",
       "      <td>0.004590</td>\n",
       "      <td>0.000396</td>\n",
       "      <td>0.000633</td>\n",
       "      <td>0.000488</td>\n",
       "      <td>0.000621</td>\n",
       "      <td>0.000225</td>\n",
       "      <td>0.000317</td>\n",
       "    </tr>\n",
       "    <tr>\n",
       "      <th>2020-12-26 15:57:45</th>\n",
       "      <td>0.044812</td>\n",
       "      <td>0.010971</td>\n",
       "      <td>0.089538</td>\n",
       "      <td>0.013427</td>\n",
       "      <td>-0.121689</td>\n",
       "      <td>2.619826</td>\n",
       "      <td>6.668657</td>\n",
       "      <td>1.223853</td>\n",
       "      <td>4.084674</td>\n",
       "      <td>0.020050</td>\n",
       "      <td>0.004323</td>\n",
       "      <td>0.000420</td>\n",
       "      <td>0.000687</td>\n",
       "      <td>0.000775</td>\n",
       "      <td>0.000873</td>\n",
       "      <td>0.000325</td>\n",
       "      <td>0.000155</td>\n",
       "    </tr>\n",
       "    <tr>\n",
       "      <th>2020-12-26 17:54:45</th>\n",
       "      <td>0.055626</td>\n",
       "      <td>0.010751</td>\n",
       "      <td>0.098600</td>\n",
       "      <td>0.013209</td>\n",
       "      <td>-0.143891</td>\n",
       "      <td>2.659297</td>\n",
       "      <td>7.464805</td>\n",
       "      <td>1.228599</td>\n",
       "      <td>5.174074</td>\n",
       "      <td>0.018643</td>\n",
       "      <td>0.003775</td>\n",
       "      <td>0.000829</td>\n",
       "      <td>0.000770</td>\n",
       "      <td>0.001035</td>\n",
       "      <td>0.000571</td>\n",
       "      <td>0.000360</td>\n",
       "      <td>0.000223</td>\n",
       "    </tr>\n",
       "  </tbody>\n",
       "</table>\n",
       "<p>4612 rows × 17 columns</p>\n",
       "</div>"
      ],
      "text/plain": [
       "                       AbsMax   AbsMean       P2P       RMS  Skewness  \\\n",
       "Date                                                                    \n",
       "2020-11-25 14:01:00  0.054116  0.011482  0.092395  0.014053 -0.142563   \n",
       "2020-11-25 14:05:06  0.051435  0.011649  0.088863  0.014295 -0.129078   \n",
       "2020-11-25 14:06:12  0.046130  0.012619  0.085221  0.015276 -0.144933   \n",
       "2020-11-25 14:06:24  0.053497  0.011505  0.093581  0.014059 -0.124687   \n",
       "2020-11-25 14:07:03  0.073671  0.014504  0.123645  0.017763 -0.180152   \n",
       "...                       ...       ...       ...       ...       ...   \n",
       "2020-12-26 13:56:08  0.051351  0.010746  0.090373  0.013122 -0.102131   \n",
       "2020-12-26 14:56:32  0.049762  0.011479  0.093155  0.014009 -0.139252   \n",
       "2020-12-26 15:53:21  0.050011  0.011062  0.090215  0.013480 -0.109898   \n",
       "2020-12-26 15:57:45  0.044812  0.010971  0.089538  0.013427 -0.121689   \n",
       "2020-12-26 17:54:45  0.055626  0.010751  0.098600  0.013209 -0.143891   \n",
       "\n",
       "                     Kurtosis     Crest     Shape   Impulse        1x  \\\n",
       "Date                                                                    \n",
       "2020-11-25 14:01:00  2.606448  6.574603  1.223906  4.713012  0.021590   \n",
       "2020-11-25 14:05:06  2.538691  6.216188  1.227197  4.415492  0.021702   \n",
       "2020-11-25 14:06:12  2.386880  5.578775  1.210515  3.655473  0.021162   \n",
       "2020-11-25 14:06:24  2.511421  6.656225  1.221968  4.649777  0.021820   \n",
       "2020-11-25 14:07:03  2.612526  6.960855  1.224668  5.079276  0.000268   \n",
       "...                       ...       ...       ...       ...       ...   \n",
       "2020-12-26 13:56:08  2.547163  6.887367  1.221062  4.778596  0.019273   \n",
       "2020-12-26 14:56:32  2.542827  6.649879  1.220337  4.334970  0.021180   \n",
       "2020-12-26 15:53:21  2.535240  6.692540  1.218612  4.521061  0.020287   \n",
       "2020-12-26 15:57:45  2.619826  6.668657  1.223853  4.084674  0.020050   \n",
       "2020-12-26 17:54:45  2.659297  7.464805  1.228599  5.174074  0.018643   \n",
       "\n",
       "                           2x        3x        4x       1xB       2xB  \\\n",
       "Date                                                                    \n",
       "2020-11-25 14:01:00  0.002832  0.000747  0.000476  0.000814  0.000405   \n",
       "2020-11-25 14:05:06  0.002757  0.000674  0.000674  0.000993  0.000407   \n",
       "2020-11-25 14:06:12  0.002808  0.000938  0.000420  0.000507  0.000395   \n",
       "2020-11-25 14:06:24  0.002246  0.000765  0.000583  0.000961  0.000614   \n",
       "2020-11-25 14:07:03  0.002277  0.000215  0.000851  0.000442  0.000774   \n",
       "...                       ...       ...       ...       ...       ...   \n",
       "2020-12-26 13:56:08  0.004546  0.000335  0.000637  0.000579  0.001220   \n",
       "2020-12-26 14:56:32  0.004645  0.000446  0.000323  0.000751  0.000996   \n",
       "2020-12-26 15:53:21  0.004590  0.000396  0.000633  0.000488  0.000621   \n",
       "2020-12-26 15:57:45  0.004323  0.000420  0.000687  0.000775  0.000873   \n",
       "2020-12-26 17:54:45  0.003775  0.000829  0.000770  0.001035  0.000571   \n",
       "\n",
       "                          3xB       4xB  \n",
       "Date                                     \n",
       "2020-11-25 14:01:00  0.000370  0.000278  \n",
       "2020-11-25 14:05:06  0.000258  0.000224  \n",
       "2020-11-25 14:06:12  0.000217  0.000176  \n",
       "2020-11-25 14:06:24  0.000276  0.000347  \n",
       "2020-11-25 14:07:03  0.000115  0.000496  \n",
       "...                       ...       ...  \n",
       "2020-12-26 13:56:08  0.000239  0.000162  \n",
       "2020-12-26 14:56:32  0.000346  0.000183  \n",
       "2020-12-26 15:53:21  0.000225  0.000317  \n",
       "2020-12-26 15:57:45  0.000325  0.000155  \n",
       "2020-12-26 17:54:45  0.000360  0.000223  \n",
       "\n",
       "[4612 rows x 17 columns]"
      ]
     },
     "execution_count": 28,
     "metadata": {},
     "output_type": "execute_result"
    }
   ],
   "source": [
    "df_normal = df.loc[df['Label_No'] == 0].iloc[:, 2:]\n",
    "df_normal"
   ]
  },
  {
   "cell_type": "code",
   "execution_count": 29,
   "metadata": {},
   "outputs": [],
   "source": [
    "df_test = X"
   ]
  },
  {
   "cell_type": "code",
   "execution_count": 30,
   "metadata": {},
   "outputs": [
    {
     "name": "stdout",
     "output_type": "stream",
     "text": [
      "Number of training samples: 4612\n"
     ]
    }
   ],
   "source": [
    "mean = df_normal.mean()\n",
    "std = df_normal.std()\n",
    "df_train= (df_normal - mean) / std\n",
    "print(\"Number of training samples:\", len(df_train))"
   ]
  },
  {
   "cell_type": "code",
   "execution_count": 31,
   "metadata": {},
   "outputs": [
    {
     "data": {
      "text/plain": [
       "(4612, 17)"
      ]
     },
     "execution_count": 31,
     "metadata": {},
     "output_type": "execute_result"
    }
   ],
   "source": [
    "df_train.shape"
   ]
  },
  {
   "cell_type": "code",
   "execution_count": 32,
   "metadata": {},
   "outputs": [
    {
     "name": "stdout",
     "output_type": "stream",
     "text": [
      "Training input shape:  (4552, 60, 17)\n"
     ]
    }
   ],
   "source": [
    "TIME_STEPS = 60\n",
    "\n",
    "# Generated training sequences for use in the model.\n",
    "def create_sequences(values, time_steps=TIME_STEPS):\n",
    "    output = []\n",
    "    for i in range(len(values) - time_steps):\n",
    "        output.append(values[i : (i + time_steps)])\n",
    "    return np.stack(output)\n",
    "\n",
    "\n",
    "train = create_sequences(df_train)\n",
    "print(\"Training input shape: \", train.shape)"
   ]
  },
  {
   "cell_type": "code",
   "execution_count": 33,
   "metadata": {},
   "outputs": [
    {
     "name": "stdout",
     "output_type": "stream",
     "text": [
      "Model: \"sequential\"\n",
      "_________________________________________________________________\n",
      "Layer (type)                 Output Shape              Param #   \n",
      "=================================================================\n",
      "conv1d (Conv1D)              (None, 30, 32)            3840      \n",
      "_________________________________________________________________\n",
      "dropout (Dropout)            (None, 30, 32)            0         \n",
      "_________________________________________________________________\n",
      "conv1d_1 (Conv1D)            (None, 15, 16)            3600      \n",
      "_________________________________________________________________\n",
      "conv1d_transpose (Conv1DTran (None, 30, 16)            1808      \n",
      "_________________________________________________________________\n",
      "dropout_1 (Dropout)          (None, 30, 16)            0         \n",
      "_________________________________________________________________\n",
      "conv1d_transpose_1 (Conv1DTr (None, 60, 32)            3616      \n",
      "_________________________________________________________________\n",
      "conv1d_transpose_2 (Conv1DTr (None, 60, 1)             225       \n",
      "=================================================================\n",
      "Total params: 13,089\n",
      "Trainable params: 13,089\n",
      "Non-trainable params: 0\n",
      "_________________________________________________________________\n"
     ]
    }
   ],
   "source": [
    "model = keras.Sequential(\n",
    "    [\n",
    "        layers.Input(shape=(train.shape[1], train.shape[2])),\n",
    "        layers.Conv1D(\n",
    "            filters=32, kernel_size=7, padding=\"same\", strides=2, activation=\"relu\"\n",
    "        ),\n",
    "        layers.Dropout(rate=0.2),\n",
    "        layers.Conv1D(\n",
    "            filters=16, kernel_size=7, padding=\"same\", strides=2, activation=\"relu\"\n",
    "        ),\n",
    "        layers.Conv1DTranspose(\n",
    "            filters=16, kernel_size=7, padding=\"same\", strides=2, activation=\"relu\"\n",
    "        ),\n",
    "        layers.Dropout(rate=0.2),\n",
    "        layers.Conv1DTranspose(\n",
    "            filters=32, kernel_size=7, padding=\"same\", strides=2, activation=\"relu\"\n",
    "        ),\n",
    "        layers.Conv1DTranspose(filters=1, kernel_size=7, padding=\"same\"),\n",
    "    ]\n",
    ")\n",
    "model.compile(optimizer=keras.optimizers.Adam(learning_rate=0.001), loss=\"mse\")\n",
    "model.summary()"
   ]
  },
  {
   "cell_type": "code",
   "execution_count": 34,
   "metadata": {},
   "outputs": [
    {
     "name": "stdout",
     "output_type": "stream",
     "text": [
      "Epoch 1/100\n",
      "16/16 [==============================] - 1s 30ms/step - loss: 0.9836 - val_loss: 0.8559\n",
      "Epoch 2/100\n",
      "16/16 [==============================] - 0s 19ms/step - loss: 0.9297 - val_loss: 0.8095\n",
      "Epoch 3/100\n",
      "16/16 [==============================] - 0s 20ms/step - loss: 0.8951 - val_loss: 0.7787\n",
      "Epoch 4/100\n",
      "16/16 [==============================] - 0s 19ms/step - loss: 0.8727 - val_loss: 0.7645\n",
      "Epoch 5/100\n",
      "16/16 [==============================] - 0s 19ms/step - loss: 0.8608 - val_loss: 0.7565\n",
      "Epoch 6/100\n",
      "16/16 [==============================] - 0s 19ms/step - loss: 0.8528 - val_loss: 0.7518\n",
      "Epoch 7/100\n",
      "16/16 [==============================] - 0s 18ms/step - loss: 0.8474 - val_loss: 0.7483\n",
      "Epoch 8/100\n",
      "16/16 [==============================] - 0s 18ms/step - loss: 0.8434 - val_loss: 0.7456\n",
      "Epoch 9/100\n",
      "16/16 [==============================] - 0s 20ms/step - loss: 0.8402 - val_loss: 0.7436\n",
      "Epoch 10/100\n",
      "16/16 [==============================] - 0s 19ms/step - loss: 0.8375 - val_loss: 0.7422\n",
      "Epoch 11/100\n",
      "16/16 [==============================] - 0s 18ms/step - loss: 0.8353 - val_loss: 0.7410\n",
      "Epoch 12/100\n",
      "16/16 [==============================] - 0s 18ms/step - loss: 0.8334 - val_loss: 0.7394\n",
      "Epoch 13/100\n",
      "16/16 [==============================] - 0s 18ms/step - loss: 0.8318 - val_loss: 0.7383\n",
      "Epoch 14/100\n",
      "16/16 [==============================] - 0s 21ms/step - loss: 0.8305 - val_loss: 0.7383\n",
      "Epoch 15/100\n",
      "16/16 [==============================] - 0s 20ms/step - loss: 0.8292 - val_loss: 0.7371\n",
      "Epoch 16/100\n",
      "16/16 [==============================] - 0s 22ms/step - loss: 0.8281 - val_loss: 0.7364\n",
      "Epoch 17/100\n",
      "16/16 [==============================] - 0s 20ms/step - loss: 0.8270 - val_loss: 0.7361\n",
      "Epoch 18/100\n",
      "16/16 [==============================] - 0s 20ms/step - loss: 0.8260 - val_loss: 0.7358\n",
      "Epoch 19/100\n",
      "16/16 [==============================] - 0s 20ms/step - loss: 0.8253 - val_loss: 0.7354\n",
      "Epoch 20/100\n",
      "16/16 [==============================] - 0s 20ms/step - loss: 0.8244 - val_loss: 0.7353\n",
      "Epoch 21/100\n",
      "16/16 [==============================] - 0s 19ms/step - loss: 0.8236 - val_loss: 0.7350\n",
      "Epoch 22/100\n",
      "16/16 [==============================] - 0s 18ms/step - loss: 0.8232 - val_loss: 0.7347\n",
      "Epoch 23/100\n",
      "16/16 [==============================] - 0s 19ms/step - loss: 0.8227 - val_loss: 0.7346\n",
      "Epoch 24/100\n",
      "16/16 [==============================] - 0s 19ms/step - loss: 0.8222 - val_loss: 0.7346\n",
      "Epoch 25/100\n",
      "16/16 [==============================] - 0s 18ms/step - loss: 0.8216 - val_loss: 0.7350\n",
      "Epoch 26/100\n",
      "16/16 [==============================] - 0s 19ms/step - loss: 0.8210 - val_loss: 0.7361\n",
      "Epoch 27/100\n",
      "16/16 [==============================] - 0s 18ms/step - loss: 0.8209 - val_loss: 0.7355\n",
      "Epoch 28/100\n",
      "16/16 [==============================] - 0s 18ms/step - loss: 0.8201 - val_loss: 0.7349\n"
     ]
    }
   ],
   "source": [
    "history = model.fit(\n",
    "    train,\n",
    "    train,\n",
    "    epochs=100,\n",
    "    batch_size=256,\n",
    "    validation_split=0.1,\n",
    "    callbacks=[\n",
    "        keras.callbacks.EarlyStopping(monitor=\"val_loss\", patience=5, mode=\"min\")\n",
    "    ],\n",
    ")"
   ]
  },
  {
   "cell_type": "code",
   "execution_count": 35,
   "metadata": {},
   "outputs": [
    {
     "data": {
      "image/png": "[encoded data removed]",
      "text/plain": [
       "<Figure size 432x288 with 1 Axes>"
      ]
     },
     "metadata": {
      "needs_background": "light"
     },
     "output_type": "display_data"
    }
   ],
   "source": [
    "import matplotlib.pyplot as plt\n",
    "\n",
    "plt.plot(history.history[\"loss\"], label=\"Training Loss\")\n",
    "plt.plot(history.history[\"val_loss\"], label=\"Validation Loss\")\n",
    "plt.legend()\n",
    "plt.show()"
   ]
  },
  {
   "cell_type": "code",
   "execution_count": 36,
   "metadata": {},
   "outputs": [
    {
     "data": {
      "image/png": "[encoded data removed]",
      "text/plain": [
       "<Figure size 432x288 with 1 Axes>"
      ]
     },
     "metadata": {
      "needs_background": "light"
     },
     "output_type": "display_data"
    },
    {
     "name": "stdout",
     "output_type": "stream",
     "text": [
      "Reconstruction error threshold:  2.107302747872903\n"
     ]
    }
   ],
   "source": [
    "# Get train MAE loss.\n",
    "train_pred = model.predict(train)\n",
    "train_mae_loss = np.mean(np.abs(train_pred - train), axis=1)\n",
    "\n",
    "plt.hist(train_mae_loss, bins=50)\n",
    "plt.xlabel(\"Train MAE loss\")\n",
    "plt.ylabel(\"No of samples\")\n",
    "plt.show()\n",
    "\n",
    "# Get reconstruction loss threshold.\n",
    "threshold = np.max(train_mae_loss)\n",
    "print(\"Reconstruction error threshold: \", threshold)"
   ]
  },
  {
   "cell_type": "code",
   "execution_count": 37,
   "metadata": {},
   "outputs": [
    {
     "data": {
      "image/png": "[encoded data removed]",
      "text/plain": [
       "<Figure size 432x288 with 1 Axes>"
      ]
     },
     "metadata": {
      "needs_background": "light"
     },
     "output_type": "display_data"
    }
   ],
   "source": [
    "import matplotlib.pyplot as plt\n",
    "\n",
    "# Checking how the first sequence is learnt\n",
    "plt.plot(train[0])\n",
    "plt.plot(train_pred[0])\n",
    "plt.show()"
   ]
  },
  {
   "cell_type": "code",
   "execution_count": 38,
   "metadata": {},
   "outputs": [
    {
     "name": "stdout",
     "output_type": "stream",
     "text": [
      "Number of training samples: 4612\n",
      "Test input shape:  (2940, 60, 17)\n"
     ]
    }
   ],
   "source": [
    "df_test = (X_test.iloc[:, 1:] - mean) / std\n",
    "print(\"Number of training samples:\", len(df_train))\n",
    "\n",
    "test = create_sequences(df_test)\n",
    "print(\"Test input shape: \", test.shape)"
   ]
  },
  {
   "cell_type": "code",
   "execution_count": 54,
   "metadata": {},
   "outputs": [
    {
     "data": {
      "image/png": "[encoded data removed]",
      "text/plain": [
       "<Figure size 432x288 with 1 Axes>"
      ]
     },
     "metadata": {
      "needs_background": "light"
     },
     "output_type": "display_data"
    },
    {
     "name": "stdout",
     "output_type": "stream",
     "text": [
      "Number of anomaly samples:  49980\n",
      "Indices of anomaly samples:  (array([    0,     1,     2, ..., 49977, 49978, 49979]),)\n",
      "Normal:  0\n"
     ]
    }
   ],
   "source": [
    "threshold = threshold\n",
    "test_pred = model.predict(test, verbose=0)\n",
    "test_mae_loss = np.mean(np.abs(test_pred - test), axis=1)\n",
    "test_mae_loss = test_mae_loss.reshape((-1))\n",
    "\n",
    "plt.hist(test_mae_loss, bins=50)\n",
    "plt.xlabel(\"Test MAE loss\")\n",
    "plt.ylabel(\"No of samples\")\n",
    "plt.show()\n",
    "\n",
    "# Detect all the samples which are anomalies.\n",
    "anomalies = test_mae_loss > threshold\n",
    "normal = test_mae_loss <= threshold\n",
    "print(\"Number of anomaly samples: \", np.sum(anomalies))\n",
    "print(\"Indices of anomaly samples: \", np.where(anomalies))\n",
    "print(\"Normal: \", np.sum(normal))"
   ]
  },
  {
   "cell_type": "code",
   "execution_count": 40,
   "metadata": {},
   "outputs": [],
   "source": [
    "anomalous_data_indices = []\n",
    "for data_idx in range(TIME_STEPS - 1, len(X_test) - TIME_STEPS + 1):\n",
    "    if np.all(anomalies[data_idx - TIME_STEPS + 1 : data_idx]):\n",
    "        anomalous_data_indices.append(data_idx)"
   ]
  },
  {
   "cell_type": "code",
   "execution_count": 41,
   "metadata": {},
   "outputs": [
    {
     "data": {
      "image/png": "[encoded data removed]",
      "text/plain": [
       "<Figure size 432x288 with 1 Axes>"
      ]
     },
     "metadata": {
      "needs_background": "light"
     },
     "output_type": "display_data"
    }
   ],
   "source": [
    "df_subset = df.iloc[anomalous_data_indices]\n",
    "fig, ax = plt.subplots()\n",
    "df.plot(legend=False, ax=ax)\n",
    "df_subset.plot(legend=False, ax=ax, color=\"r\")\n",
    "plt.show()"
   ]
  },
  {
   "cell_type": "markdown",
   "metadata": {},
   "source": [
    "# III. Anomaly Detection: LSTM Autoencoder"
   ]
  },
  {
   "cell_type": "code",
   "execution_count": 42,
   "metadata": {},
   "outputs": [
    {
     "name": "stdout",
     "output_type": "stream",
     "text": [
      "Model: \"sequential_1\"\n",
      "_________________________________________________________________\n",
      "Layer (type)                 Output Shape              Param #   \n",
      "=================================================================\n",
      "lstm (LSTM)                  (None, 50)                13600     \n",
      "_________________________________________________________________\n",
      "repeat_vector (RepeatVector) (None, 60, 50)            0         \n",
      "_________________________________________________________________\n",
      "lstm_1 (LSTM)                (None, 60, 50)            20200     \n",
      "_________________________________________________________________\n",
      "time_distributed (TimeDistri (None, 60, 1)             51        \n",
      "=================================================================\n",
      "Total params: 33,851\n",
      "Trainable params: 33,851\n",
      "Non-trainable params: 0\n",
      "_________________________________________________________________\n"
     ]
    }
   ],
   "source": [
    "model = keras.Sequential(\n",
    "    [\n",
    "        layers.Input(shape=(train.shape[1], train.shape[2])),\n",
    "        layers.LSTM(\n",
    "            50, activation='relu'\n",
    "        ),\n",
    "        layers.RepeatVector(train.shape[1]),\n",
    "        layers.LSTM(\n",
    "            50, activation='relu', return_sequences=True\n",
    "        ),\n",
    "        layers.TimeDistributed(layers.Dense(1))\n",
    "    ]\n",
    ")\n",
    "model.compile(optimizer=keras.optimizers.Adam(learning_rate=0.001), loss=\"mse\")\n",
    "model.summary()"
   ]
  },
  {
   "cell_type": "code",
   "execution_count": 43,
   "metadata": {},
   "outputs": [
    {
     "name": "stdout",
     "output_type": "stream",
     "text": [
      "Epoch 1/100\n",
      "16/16 [==============================] - 3s 113ms/step - loss: 1.0609 - val_loss: 0.9066\n",
      "Epoch 2/100\n",
      "16/16 [==============================] - 2s 97ms/step - loss: 0.9752 - val_loss: 0.8892\n",
      "Epoch 3/100\n",
      "16/16 [==============================] - 2s 96ms/step - loss: 0.9785 - val_loss: 0.8896\n",
      "Epoch 4/100\n",
      "16/16 [==============================] - 1s 93ms/step - loss: 0.9736 - val_loss: 0.8851\n",
      "Epoch 5/100\n",
      "16/16 [==============================] - 2s 95ms/step - loss: 0.9714 - val_loss: 0.8844\n",
      "Epoch 6/100\n",
      "16/16 [==============================] - 1s 93ms/step - loss: 0.9700 - val_loss: 0.8858\n",
      "Epoch 7/100\n",
      "16/16 [==============================] - 2s 112ms/step - loss: 0.9688 - val_loss: 0.8831\n",
      "Epoch 8/100\n",
      "16/16 [==============================] - 2s 98ms/step - loss: 0.9689 - val_loss: 0.8822\n",
      "Epoch 9/100\n",
      "16/16 [==============================] - 1s 94ms/step - loss: 0.9678 - val_loss: 0.8826\n",
      "Epoch 10/100\n",
      "16/16 [==============================] - 1s 93ms/step - loss: 0.9676 - val_loss: 0.8847\n",
      "Epoch 11/100\n",
      "16/16 [==============================] - 1s 93ms/step - loss: 0.9672 - val_loss: 0.8847\n",
      "Epoch 12/100\n",
      "16/16 [==============================] - 2s 96ms/step - loss: 0.9670 - val_loss: 0.8871\n",
      "Epoch 13/100\n",
      "16/16 [==============================] - 2s 103ms/step - loss: 0.9678 - val_loss: 0.8873\n"
     ]
    }
   ],
   "source": [
    "history = model.fit(\n",
    "    train,\n",
    "    train,\n",
    "    epochs=100,\n",
    "    batch_size=256,\n",
    "    validation_split=0.1,\n",
    "    callbacks=[\n",
    "        keras.callbacks.EarlyStopping(monitor=\"val_loss\", patience=5, mode=\"min\")\n",
    "    ],\n",
    ")"
   ]
  },
  {
   "cell_type": "code",
   "execution_count": 44,
   "metadata": {},
   "outputs": [
    {
     "data": {
      "image/png": "[encoded data removed]",
      "text/plain": [
       "<Figure size 432x288 with 1 Axes>"
      ]
     },
     "metadata": {
      "needs_background": "light"
     },
     "output_type": "display_data"
    }
   ],
   "source": [
    "import matplotlib.pyplot as plt\n",
    "\n",
    "plt.plot(history.history[\"loss\"], label=\"Training Loss\")\n",
    "plt.plot(history.history[\"val_loss\"], label=\"Validation Loss\")\n",
    "plt.legend()\n",
    "plt.show()"
   ]
  },
  {
   "cell_type": "code",
   "execution_count": 45,
   "metadata": {
    "tags": []
   },
   "outputs": [
    {
     "data": {
      "image/png": "[encoded data removed]",
      "text/plain": [
       "<Figure size 432x288 with 1 Axes>"
      ]
     },
     "metadata": {
      "needs_background": "light"
     },
     "output_type": "display_data"
    },
    {
     "name": "stdout",
     "output_type": "stream",
     "text": [
      "Reconstruction error threshold:  2.68584779316768\n"
     ]
    }
   ],
   "source": [
    "# Get train MAE loss.\n",
    "train_pred = model.predict(train)\n",
    "train_mae_loss = np.mean(np.abs(train_pred - train), axis=1)\n",
    "\n",
    "plt.hist(train_mae_loss, bins=50)\n",
    "plt.xlabel(\"Train MAE loss\")\n",
    "plt.ylabel(\"No of samples\")\n",
    "plt.show()\n",
    "\n",
    "# Get reconstruction loss threshold.\n",
    "threshold = np.max(train_mae_loss)\n",
    "print(\"Reconstruction error threshold: \", threshold)"
   ]
  },
  {
   "cell_type": "code",
   "execution_count": 46,
   "metadata": {},
   "outputs": [
    {
     "data": {
      "image/png": "[encoded data removed]",
      "text/plain": [
       "<Figure size 432x288 with 1 Axes>"
      ]
     },
     "metadata": {
      "needs_background": "light"
     },
     "output_type": "display_data"
    }
   ],
   "source": [
    "import matplotlib.pyplot as plt\n",
    "\n",
    "# Checking how the first sequence is learnt\n",
    "plt.plot(train[0])\n",
    "plt.plot(train_pred[0])\n",
    "plt.show()"
   ]
  },
  {
   "cell_type": "code",
   "execution_count": 47,
   "metadata": {},
   "outputs": [
    {
     "name": "stdout",
     "output_type": "stream",
     "text": [
      "Number of training samples: 4612\n",
      "Test input shape:  (2940, 60, 17)\n"
     ]
    }
   ],
   "source": [
    "df_test = (X_test.iloc[:, 1:] - mean) / std\n",
    "print(\"Number of training samples:\", len(df_train))\n",
    "test = create_sequences(df_test)\n",
    "print(\"Test input shape: \", test.shape)"
   ]
  },
  {
   "cell_type": "code",
   "execution_count": 51,
   "metadata": {},
   "outputs": [
    {
     "data": {
      "image/png": "[encoded data removed]",
      "text/plain": [
       "<Figure size 432x288 with 1 Axes>"
      ]
     },
     "metadata": {
      "needs_background": "light"
     },
     "output_type": "display_data"
    },
    {
     "name": "stdout",
     "output_type": "stream",
     "text": [
      "Number of anomaly samples:  49980\n",
      "Indices of anomaly samples:  (array([    0,     1,     2, ..., 49977, 49978, 49979]),)\n",
      "Normal:  0\n"
     ]
    }
   ],
   "source": [
    "threshold = 1.25\n",
    "test_pred = model.predict(test, verbose=0)\n",
    "test_mae_loss = np.mean(np.abs(test_pred - test), axis=1)\n",
    "test_mae_loss = test_mae_loss.reshape((-1))\n",
    "\n",
    "plt.hist(test_mae_loss, bins=50)\n",
    "plt.xlabel(\"Test MAE loss\")\n",
    "plt.ylabel(\"No of samples\")\n",
    "plt.show()\n",
    "\n",
    "# Detect all the samples which are anomalies.\n",
    "anomalies = test_mae_loss > threshold\n",
    "normal = test_mae_loss <= threshold\n",
    "print(\"Number of anomaly samples: \", np.sum(anomalies))\n",
    "print(\"Indices of anomaly samples: \", np.where(anomalies))\n",
    "print(\"Normal: \", np.sum(normal))"
   ]
  },
  {
   "cell_type": "code",
   "execution_count": 52,
   "metadata": {},
   "outputs": [],
   "source": [
    "anomalous_data_indices = []\n",
    "for data_idx in range(TIME_STEPS - 1, len(X_test) - TIME_STEPS + 1):\n",
    "    if np.all(anomalies[data_idx - TIME_STEPS + 1 : data_idx]):\n",
    "        anomalous_data_indices.append(data_idx)"
   ]
  },
  {
   "cell_type": "code",
   "execution_count": 53,
   "metadata": {},
   "outputs": [
    {
     "data": {
      "image/png": "[encoded data removed]",
      "text/plain": [
       "<Figure size 432x288 with 1 Axes>"
      ]
     },
     "metadata": {
      "needs_background": "light"
     },
     "output_type": "display_data"
    }
   ],
   "source": [
    "df_subset = df.iloc[anomalous_data_indices]\n",
    "fig, ax = plt.subplots()\n",
    "df.plot(legend=False, ax=ax)\n",
    "df_subset.plot(legend=False, ax=ax, color=\"r\")\n",
    "plt.show()"
   ]
  },
  {
   "cell_type": "code",
   "execution_count": null,
   "metadata": {},
   "outputs": [],
   "source": []
  }
 ],
 "metadata": {
  "kernelspec": {
   "display_name": "Python 3",
   "language": "python",
   "name": "python3"
  },
  "language_info": {
   "codemirror_mode": {
    "name": "ipython",
    "version": 3
   },
   "file_extension": ".py",
   "mimetype": "text/x-python",
   "name": "python",
   "nbconvert_exporter": "python",
   "pygments_lexer": "ipython3",
   "version": "3.8.8"
  }
 },
 "nbformat": 4,
 "nbformat_minor": 4
}

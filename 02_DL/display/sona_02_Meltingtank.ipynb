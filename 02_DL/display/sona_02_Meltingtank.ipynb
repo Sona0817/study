{
 "cells": [
  {
   "cell_type": "markdown",
   "id": "lightweight-thong",
   "metadata": {},
   "source": [
    "# Meltingtank\n",
    "## 1. 데이터 확인"
   ]
  },
  {
   "cell_type": "code",
   "execution_count": 1,
   "id": "opponent-working",
   "metadata": {},
   "outputs": [],
   "source": [
    "import warnings\n",
    "warnings.filterwarnings('ignore')\n",
    "\n",
    "import pandas as pd\n",
    "import numpy as np\n",
    "import tensorflow as tf\n",
    "#import os\n",
    "\n",
    "import seaborn as sns\n",
    "import matplotlib.pyplot as plt\n",
    "%matplotlib inline "
   ]
  },
  {
   "cell_type": "code",
   "execution_count": 2,
   "id": "cd167dda-9b16-42fa-8a2d-08540b3b56a4",
   "metadata": {},
   "outputs": [
    {
     "name": "stdout",
     "output_type": "stream",
     "text": [
      "numpy 버전 :  1.19.5\n",
      "tensorflow 버전 :  2.4.0\n"
     ]
    }
   ],
   "source": [
    "# 여기서는 버전이 1.19.5 / 2.4.0 사용되어야함\n",
    "# pip install numpy==1.19.5\n",
    "print(\"numpy 버전 : \", np.__version__)\n",
    "print(\"tensorflow 버전 : \", tf.__version__)"
   ]
  },
  {
   "cell_type": "code",
   "execution_count": 3,
   "id": "english-seeker",
   "metadata": {
    "scrolled": true
   },
   "outputs": [
    {
     "data": {
      "text/html": [
       "<div>\n",
       "<style scoped>\n",
       "    .dataframe tbody tr th:only-of-type {\n",
       "        vertical-align: middle;\n",
       "    }\n",
       "\n",
       "    .dataframe tbody tr th {\n",
       "        vertical-align: top;\n",
       "    }\n",
       "\n",
       "    .dataframe thead th {\n",
       "        text-align: right;\n",
       "    }\n",
       "</style>\n",
       "<table border=\"1\" class=\"dataframe\">\n",
       "  <thead>\n",
       "    <tr style=\"text-align: right;\">\n",
       "      <th></th>\n",
       "      <th>STD_DT</th>\n",
       "      <th>NUM</th>\n",
       "      <th>MELT_TEMP</th>\n",
       "      <th>MOTORSPEED</th>\n",
       "      <th>MELT_WEIGHT</th>\n",
       "      <th>INSP</th>\n",
       "      <th>TAG</th>\n",
       "    </tr>\n",
       "  </thead>\n",
       "  <tbody>\n",
       "    <tr>\n",
       "      <th>0</th>\n",
       "      <td>2020-03-04 0:00</td>\n",
       "      <td>0</td>\n",
       "      <td>489</td>\n",
       "      <td>116</td>\n",
       "      <td>631</td>\n",
       "      <td>3.19</td>\n",
       "      <td>OK</td>\n",
       "    </tr>\n",
       "    <tr>\n",
       "      <th>1</th>\n",
       "      <td>2020-03-04 0:00</td>\n",
       "      <td>1</td>\n",
       "      <td>433</td>\n",
       "      <td>78</td>\n",
       "      <td>609</td>\n",
       "      <td>3.19</td>\n",
       "      <td>OK</td>\n",
       "    </tr>\n",
       "    <tr>\n",
       "      <th>2</th>\n",
       "      <td>2020-03-04 0:00</td>\n",
       "      <td>2</td>\n",
       "      <td>464</td>\n",
       "      <td>154</td>\n",
       "      <td>608</td>\n",
       "      <td>3.19</td>\n",
       "      <td>OK</td>\n",
       "    </tr>\n",
       "    <tr>\n",
       "      <th>3</th>\n",
       "      <td>2020-03-04 0:00</td>\n",
       "      <td>3</td>\n",
       "      <td>379</td>\n",
       "      <td>212</td>\n",
       "      <td>606</td>\n",
       "      <td>3.19</td>\n",
       "      <td>OK</td>\n",
       "    </tr>\n",
       "    <tr>\n",
       "      <th>4</th>\n",
       "      <td>2020-03-04 0:00</td>\n",
       "      <td>4</td>\n",
       "      <td>798</td>\n",
       "      <td>1736</td>\n",
       "      <td>604</td>\n",
       "      <td>3.21</td>\n",
       "      <td>OK</td>\n",
       "    </tr>\n",
       "    <tr>\n",
       "      <th>...</th>\n",
       "      <td>...</td>\n",
       "      <td>...</td>\n",
       "      <td>...</td>\n",
       "      <td>...</td>\n",
       "      <td>...</td>\n",
       "      <td>...</td>\n",
       "      <td>...</td>\n",
       "    </tr>\n",
       "    <tr>\n",
       "      <th>835195</th>\n",
       "      <td>2020-04-30 23:59</td>\n",
       "      <td>835195</td>\n",
       "      <td>755</td>\n",
       "      <td>1743</td>\n",
       "      <td>318</td>\n",
       "      <td>3.21</td>\n",
       "      <td>OK</td>\n",
       "    </tr>\n",
       "    <tr>\n",
       "      <th>835196</th>\n",
       "      <td>2020-04-30 23:59</td>\n",
       "      <td>835196</td>\n",
       "      <td>385</td>\n",
       "      <td>206</td>\n",
       "      <td>317</td>\n",
       "      <td>3.19</td>\n",
       "      <td>OK</td>\n",
       "    </tr>\n",
       "    <tr>\n",
       "      <th>835197</th>\n",
       "      <td>2020-04-30 23:59</td>\n",
       "      <td>835197</td>\n",
       "      <td>465</td>\n",
       "      <td>148</td>\n",
       "      <td>316</td>\n",
       "      <td>3.20</td>\n",
       "      <td>OK</td>\n",
       "    </tr>\n",
       "    <tr>\n",
       "      <th>835198</th>\n",
       "      <td>2020-04-30 23:59</td>\n",
       "      <td>835198</td>\n",
       "      <td>467</td>\n",
       "      <td>0</td>\n",
       "      <td>314</td>\n",
       "      <td>3.19</td>\n",
       "      <td>OK</td>\n",
       "    </tr>\n",
       "    <tr>\n",
       "      <th>835199</th>\n",
       "      <td>2020-04-30 23:59</td>\n",
       "      <td>835199</td>\n",
       "      <td>453</td>\n",
       "      <td>125</td>\n",
       "      <td>312</td>\n",
       "      <td>3.20</td>\n",
       "      <td>OK</td>\n",
       "    </tr>\n",
       "  </tbody>\n",
       "</table>\n",
       "<p>835200 rows × 7 columns</p>\n",
       "</div>"
      ],
      "text/plain": [
       "                  STD_DT     NUM  MELT_TEMP  MOTORSPEED  MELT_WEIGHT  INSP TAG\n",
       "0        2020-03-04 0:00       0        489         116          631  3.19  OK\n",
       "1        2020-03-04 0:00       1        433          78          609  3.19  OK\n",
       "2        2020-03-04 0:00       2        464         154          608  3.19  OK\n",
       "3        2020-03-04 0:00       3        379         212          606  3.19  OK\n",
       "4        2020-03-04 0:00       4        798        1736          604  3.21  OK\n",
       "...                  ...     ...        ...         ...          ...   ...  ..\n",
       "835195  2020-04-30 23:59  835195        755        1743          318  3.21  OK\n",
       "835196  2020-04-30 23:59  835196        385         206          317  3.19  OK\n",
       "835197  2020-04-30 23:59  835197        465         148          316  3.20  OK\n",
       "835198  2020-04-30 23:59  835198        467           0          314  3.19  OK\n",
       "835199  2020-04-30 23:59  835199        453         125          312  3.20  OK\n",
       "\n",
       "[835200 rows x 7 columns]"
      ]
     },
     "execution_count": 3,
     "metadata": {},
     "output_type": "execute_result"
    }
   ],
   "source": [
    "df = pd.read_csv('data/melting_tank.csv')\n",
    "df"
   ]
  },
  {
   "cell_type": "code",
   "execution_count": 4,
   "id": "annoying-chemical",
   "metadata": {},
   "outputs": [
    {
     "name": "stdout",
     "output_type": "stream",
     "text": [
      "<class 'pandas.core.frame.DataFrame'>\n",
      "RangeIndex: 835200 entries, 0 to 835199\n",
      "Data columns (total 7 columns):\n",
      " #   Column       Non-Null Count   Dtype  \n",
      "---  ------       --------------   -----  \n",
      " 0   STD_DT       835200 non-null  object \n",
      " 1   NUM          835200 non-null  int64  \n",
      " 2   MELT_TEMP    835200 non-null  int64  \n",
      " 3   MOTORSPEED   835200 non-null  int64  \n",
      " 4   MELT_WEIGHT  835200 non-null  int64  \n",
      " 5   INSP         835200 non-null  float64\n",
      " 6   TAG          835200 non-null  object \n",
      "dtypes: float64(1), int64(4), object(2)\n",
      "memory usage: 44.6+ MB\n"
     ]
    }
   ],
   "source": [
    "df.info()"
   ]
  },
  {
   "cell_type": "code",
   "execution_count": 5,
   "id": "suitable-craft",
   "metadata": {},
   "outputs": [
    {
     "data": {
      "text/plain": [
       "OK    658133\n",
       "NG    177067\n",
       "Name: TAG, dtype: int64"
      ]
     },
     "execution_count": 5,
     "metadata": {},
     "output_type": "execute_result"
    }
   ],
   "source": [
    "df['TAG'].value_counts()"
   ]
  },
  {
   "cell_type": "markdown",
   "id": "another-ceramic",
   "metadata": {},
   "source": [
    "## 2. EDA"
   ]
  },
  {
   "cell_type": "code",
   "execution_count": 6,
   "id": "forced-acting",
   "metadata": {},
   "outputs": [
    {
     "data": {
      "text/html": [
       "<div>\n",
       "<style scoped>\n",
       "    .dataframe tbody tr th:only-of-type {\n",
       "        vertical-align: middle;\n",
       "    }\n",
       "\n",
       "    .dataframe tbody tr th {\n",
       "        vertical-align: top;\n",
       "    }\n",
       "\n",
       "    .dataframe thead th {\n",
       "        text-align: right;\n",
       "    }\n",
       "</style>\n",
       "<table border=\"1\" class=\"dataframe\">\n",
       "  <thead>\n",
       "    <tr style=\"text-align: right;\">\n",
       "      <th></th>\n",
       "      <th>NUM</th>\n",
       "      <th>MELT_TEMP</th>\n",
       "      <th>MOTORSPEED</th>\n",
       "      <th>MELT_WEIGHT</th>\n",
       "      <th>INSP</th>\n",
       "      <th>TAG</th>\n",
       "    </tr>\n",
       "    <tr>\n",
       "      <th>STD_DT</th>\n",
       "      <th></th>\n",
       "      <th></th>\n",
       "      <th></th>\n",
       "      <th></th>\n",
       "      <th></th>\n",
       "      <th></th>\n",
       "    </tr>\n",
       "  </thead>\n",
       "  <tbody>\n",
       "    <tr>\n",
       "      <th>2020-03-04 00:00:00</th>\n",
       "      <td>0</td>\n",
       "      <td>489</td>\n",
       "      <td>116</td>\n",
       "      <td>631</td>\n",
       "      <td>3.19</td>\n",
       "      <td>OK</td>\n",
       "    </tr>\n",
       "    <tr>\n",
       "      <th>2020-03-04 00:00:00</th>\n",
       "      <td>1</td>\n",
       "      <td>433</td>\n",
       "      <td>78</td>\n",
       "      <td>609</td>\n",
       "      <td>3.19</td>\n",
       "      <td>OK</td>\n",
       "    </tr>\n",
       "    <tr>\n",
       "      <th>2020-03-04 00:00:00</th>\n",
       "      <td>2</td>\n",
       "      <td>464</td>\n",
       "      <td>154</td>\n",
       "      <td>608</td>\n",
       "      <td>3.19</td>\n",
       "      <td>OK</td>\n",
       "    </tr>\n",
       "    <tr>\n",
       "      <th>2020-03-04 00:00:00</th>\n",
       "      <td>3</td>\n",
       "      <td>379</td>\n",
       "      <td>212</td>\n",
       "      <td>606</td>\n",
       "      <td>3.19</td>\n",
       "      <td>OK</td>\n",
       "    </tr>\n",
       "    <tr>\n",
       "      <th>2020-03-04 00:00:00</th>\n",
       "      <td>4</td>\n",
       "      <td>798</td>\n",
       "      <td>1736</td>\n",
       "      <td>604</td>\n",
       "      <td>3.21</td>\n",
       "      <td>OK</td>\n",
       "    </tr>\n",
       "    <tr>\n",
       "      <th>...</th>\n",
       "      <td>...</td>\n",
       "      <td>...</td>\n",
       "      <td>...</td>\n",
       "      <td>...</td>\n",
       "      <td>...</td>\n",
       "      <td>...</td>\n",
       "    </tr>\n",
       "    <tr>\n",
       "      <th>2020-04-30 23:59:00</th>\n",
       "      <td>835195</td>\n",
       "      <td>755</td>\n",
       "      <td>1743</td>\n",
       "      <td>318</td>\n",
       "      <td>3.21</td>\n",
       "      <td>OK</td>\n",
       "    </tr>\n",
       "    <tr>\n",
       "      <th>2020-04-30 23:59:00</th>\n",
       "      <td>835196</td>\n",
       "      <td>385</td>\n",
       "      <td>206</td>\n",
       "      <td>317</td>\n",
       "      <td>3.19</td>\n",
       "      <td>OK</td>\n",
       "    </tr>\n",
       "    <tr>\n",
       "      <th>2020-04-30 23:59:00</th>\n",
       "      <td>835197</td>\n",
       "      <td>465</td>\n",
       "      <td>148</td>\n",
       "      <td>316</td>\n",
       "      <td>3.20</td>\n",
       "      <td>OK</td>\n",
       "    </tr>\n",
       "    <tr>\n",
       "      <th>2020-04-30 23:59:00</th>\n",
       "      <td>835198</td>\n",
       "      <td>467</td>\n",
       "      <td>0</td>\n",
       "      <td>314</td>\n",
       "      <td>3.19</td>\n",
       "      <td>OK</td>\n",
       "    </tr>\n",
       "    <tr>\n",
       "      <th>2020-04-30 23:59:00</th>\n",
       "      <td>835199</td>\n",
       "      <td>453</td>\n",
       "      <td>125</td>\n",
       "      <td>312</td>\n",
       "      <td>3.20</td>\n",
       "      <td>OK</td>\n",
       "    </tr>\n",
       "  </tbody>\n",
       "</table>\n",
       "<p>835200 rows × 6 columns</p>\n",
       "</div>"
      ],
      "text/plain": [
       "                        NUM  MELT_TEMP  MOTORSPEED  MELT_WEIGHT  INSP TAG\n",
       "STD_DT                                                                   \n",
       "2020-03-04 00:00:00       0        489         116          631  3.19  OK\n",
       "2020-03-04 00:00:00       1        433          78          609  3.19  OK\n",
       "2020-03-04 00:00:00       2        464         154          608  3.19  OK\n",
       "2020-03-04 00:00:00       3        379         212          606  3.19  OK\n",
       "2020-03-04 00:00:00       4        798        1736          604  3.21  OK\n",
       "...                     ...        ...         ...          ...   ...  ..\n",
       "2020-04-30 23:59:00  835195        755        1743          318  3.21  OK\n",
       "2020-04-30 23:59:00  835196        385         206          317  3.19  OK\n",
       "2020-04-30 23:59:00  835197        465         148          316  3.20  OK\n",
       "2020-04-30 23:59:00  835198        467           0          314  3.19  OK\n",
       "2020-04-30 23:59:00  835199        453         125          312  3.20  OK\n",
       "\n",
       "[835200 rows x 6 columns]"
      ]
     },
     "execution_count": 6,
     "metadata": {},
     "output_type": "execute_result"
    }
   ],
   "source": [
    "df['STD_DT'] = pd.to_datetime(df['STD_DT'], format='%Y-%m-%d %H:%M:%S')\n",
    "df = df.set_index('STD_DT')\n",
    "df"
   ]
  },
  {
   "cell_type": "code",
   "execution_count": 7,
   "id": "moderate-investigator",
   "metadata": {},
   "outputs": [
    {
     "data": {
      "text/plain": [
       "1    658133\n",
       "0    177067\n",
       "Name: TAG, dtype: int64"
      ]
     },
     "execution_count": 7,
     "metadata": {},
     "output_type": "execute_result"
    }
   ],
   "source": [
    "df['TAG'] = df['TAG'].replace('OK', 1)\n",
    "df['TAG'] = df['TAG'].replace('NG', 0)\n",
    "df['TAG'].value_counts()"
   ]
  },
  {
   "cell_type": "code",
   "execution_count": 8,
   "id": "54f3c683",
   "metadata": {},
   "outputs": [
    {
     "data": {
      "text/html": [
       "<div>\n",
       "<style scoped>\n",
       "    .dataframe tbody tr th:only-of-type {\n",
       "        vertical-align: middle;\n",
       "    }\n",
       "\n",
       "    .dataframe tbody tr th {\n",
       "        vertical-align: top;\n",
       "    }\n",
       "\n",
       "    .dataframe thead th {\n",
       "        text-align: right;\n",
       "    }\n",
       "</style>\n",
       "<table border=\"1\" class=\"dataframe\">\n",
       "  <thead>\n",
       "    <tr style=\"text-align: right;\">\n",
       "      <th></th>\n",
       "      <th>NUM</th>\n",
       "      <th>MELT_TEMP</th>\n",
       "      <th>MOTORSPEED</th>\n",
       "      <th>MELT_WEIGHT</th>\n",
       "      <th>INSP</th>\n",
       "      <th>TAG</th>\n",
       "    </tr>\n",
       "  </thead>\n",
       "  <tbody>\n",
       "    <tr>\n",
       "      <th>NUM</th>\n",
       "      <td>1.000000</td>\n",
       "      <td>0.000188</td>\n",
       "      <td>-0.000050</td>\n",
       "      <td>0.080079</td>\n",
       "      <td>-0.000524</td>\n",
       "      <td>0.086698</td>\n",
       "    </tr>\n",
       "    <tr>\n",
       "      <th>MELT_TEMP</th>\n",
       "      <td>0.000188</td>\n",
       "      <td>1.000000</td>\n",
       "      <td>0.944929</td>\n",
       "      <td>-0.000336</td>\n",
       "      <td>0.916295</td>\n",
       "      <td>0.310586</td>\n",
       "    </tr>\n",
       "    <tr>\n",
       "      <th>MOTORSPEED</th>\n",
       "      <td>-0.000050</td>\n",
       "      <td>0.944929</td>\n",
       "      <td>1.000000</td>\n",
       "      <td>0.000123</td>\n",
       "      <td>0.887813</td>\n",
       "      <td>0.264693</td>\n",
       "    </tr>\n",
       "    <tr>\n",
       "      <th>MELT_WEIGHT</th>\n",
       "      <td>0.080079</td>\n",
       "      <td>-0.000336</td>\n",
       "      <td>0.000123</td>\n",
       "      <td>1.000000</td>\n",
       "      <td>-0.000005</td>\n",
       "      <td>-0.012084</td>\n",
       "    </tr>\n",
       "    <tr>\n",
       "      <th>INSP</th>\n",
       "      <td>-0.000524</td>\n",
       "      <td>0.916295</td>\n",
       "      <td>0.887813</td>\n",
       "      <td>-0.000005</td>\n",
       "      <td>1.000000</td>\n",
       "      <td>0.272580</td>\n",
       "    </tr>\n",
       "    <tr>\n",
       "      <th>TAG</th>\n",
       "      <td>0.086698</td>\n",
       "      <td>0.310586</td>\n",
       "      <td>0.264693</td>\n",
       "      <td>-0.012084</td>\n",
       "      <td>0.272580</td>\n",
       "      <td>1.000000</td>\n",
       "    </tr>\n",
       "  </tbody>\n",
       "</table>\n",
       "</div>"
      ],
      "text/plain": [
       "                  NUM  MELT_TEMP  MOTORSPEED  MELT_WEIGHT      INSP       TAG\n",
       "NUM          1.000000   0.000188   -0.000050     0.080079 -0.000524  0.086698\n",
       "MELT_TEMP    0.000188   1.000000    0.944929    -0.000336  0.916295  0.310586\n",
       "MOTORSPEED  -0.000050   0.944929    1.000000     0.000123  0.887813  0.264693\n",
       "MELT_WEIGHT  0.080079  -0.000336    0.000123     1.000000 -0.000005 -0.012084\n",
       "INSP        -0.000524   0.916295    0.887813    -0.000005  1.000000  0.272580\n",
       "TAG          0.086698   0.310586    0.264693    -0.012084  0.272580  1.000000"
      ]
     },
     "execution_count": 8,
     "metadata": {},
     "output_type": "execute_result"
    }
   ],
   "source": [
    "corr = df.corr()\n",
    "corr"
   ]
  },
  {
   "cell_type": "code",
   "execution_count": 9,
   "id": "085333b3",
   "metadata": {},
   "outputs": [
    {
     "data": {
      "text/plain": [
       "<AxesSubplot:>"
      ]
     },
     "execution_count": 9,
     "metadata": {},
     "output_type": "execute_result"
    },
    {
     "data": {
      "image/png": "[encoded data removed]",
      "text/plain": [
       "<Figure size 432x288 with 2 Axes>"
      ]
     },
     "metadata": {
      "needs_background": "light"
     },
     "output_type": "display_data"
    }
   ],
   "source": [
    "sns.heatmap(corr, annot=True)"
   ]
  },
  {
   "cell_type": "markdown",
   "id": "temporal-chancellor",
   "metadata": {},
   "source": [
    "## 3. 학습"
   ]
  },
  {
   "cell_type": "code",
   "execution_count": 10,
   "id": "latter-assumption",
   "metadata": {},
   "outputs": [
    {
     "name": "stdout",
     "output_type": "stream",
     "text": [
      "(584640, 4)\n",
      "(250560, 4)\n",
      "(584640,)\n",
      "(250560,)\n"
     ]
    }
   ],
   "source": [
    "from sklearn.model_selection import train_test_split\n",
    "\n",
    "X = df[['MELT_TEMP', 'MOTORSPEED', 'MELT_WEIGHT', 'INSP']]\n",
    "y = df['TAG']\n",
    "\n",
    "X_train, X_test, y_train, y_test = train_test_split(X, y, test_size=0.3, random_state=0)\n",
    "\n",
    "print(X_train.shape)\n",
    "print(X_test.shape)\n",
    "print(y_train.shape)\n",
    "print(y_test.shape)"
   ]
  },
  {
   "cell_type": "markdown",
   "id": "imperial-biography",
   "metadata": {},
   "source": [
    "### 3-1. XGB Classifier"
   ]
  },
  {
   "cell_type": "code",
   "execution_count": 11,
   "id": "optical-endorsement",
   "metadata": {
    "scrolled": true
   },
   "outputs": [
    {
     "name": "stdout",
     "output_type": "stream",
     "text": [
      "[11:25:18] WARNING: /opt/concourse/worker/volumes/live/7a2b9f41-3287-451b-6691-43e9a6c0910f/volume/xgboost-split_1619728204606/work/src/learner.cc:1061: Starting in XGBoost 1.3.0, the default evaluation metric used with the objective 'binary:logistic' was changed from 'error' to 'logloss'. Explicitly set eval_metric if you'd like to restore the old behavior.\n",
      "Accuracy: 0.7958413154533844\n",
      "              precision    recall  f1-score   support\n",
      "\n",
      "           0       0.67      0.07      0.13     53142\n",
      "           1       0.80      0.99      0.88    197418\n",
      "\n",
      "    accuracy                           0.80    250560\n",
      "   macro avg       0.74      0.53      0.51    250560\n",
      "weighted avg       0.77      0.80      0.72    250560\n",
      "\n"
     ]
    }
   ],
   "source": [
    "from xgboost import XGBClassifier\n",
    "from sklearn.metrics import accuracy_score, confusion_matrix, classification_report\n",
    "from sklearn.metrics import plot_confusion_matrix\n",
    "\n",
    "xgb = XGBClassifier()\n",
    "xgb.fit(X_train, y_train)\n",
    "xgb_pred = xgb.predict(X_test)\n",
    "\n",
    "xgb_accu = accuracy_score(y_test, xgb_pred)\n",
    "\n",
    "print(\"Accuracy:\", xgb_accu)\n",
    "print(classification_report(y_test, xgb_pred))"
   ]
  },
  {
   "cell_type": "markdown",
   "id": "brave-fishing",
   "metadata": {},
   "source": [
    "### 3-2. LSTM"
   ]
  },
  {
   "cell_type": "code",
   "execution_count": 12,
   "id": "dried-lightning",
   "metadata": {},
   "outputs": [],
   "source": [
    "def make_dataset(data, label, window):\n",
    "    X = []\n",
    "    y = []\n",
    "    \n",
    "    for i in range(len(data) - window):\n",
    "        X.append(data[i:i+window])\n",
    "        y.append(label[i+window])\n",
    "    \n",
    "    return np.array(X), np.array(y)"
   ]
  },
  {
   "cell_type": "code",
   "execution_count": 13,
   "id": "diverse-journalist",
   "metadata": {},
   "outputs": [],
   "source": [
    "from sklearn.preprocessing import MinMaxScaler\n",
    "\n",
    "scaler = MinMaxScaler()\n",
    "\n",
    "train_scaled = scaler.fit_transform(X_train)\n",
    "test_scaled = scaler.transform(X_test)"
   ]
  },
  {
   "cell_type": "code",
   "execution_count": 14,
   "id": "steady-rogers",
   "metadata": {},
   "outputs": [],
   "source": [
    "train_feature, train_label = make_dataset(train_scaled, y_train, 10)\n",
    "test_feature, test_label = make_dataset(test_scaled, y_test, 10)"
   ]
  },
  {
   "cell_type": "code",
   "execution_count": 15,
   "id": "neither-mexico",
   "metadata": {},
   "outputs": [
    {
     "name": "stdout",
     "output_type": "stream",
     "text": [
      "(584630, 10, 4)\n",
      "(584630,)\n",
      "(250550, 10, 4)\n",
      "(250550,)\n"
     ]
    }
   ],
   "source": [
    "print(train_feature.shape)\n",
    "print(train_label.shape)\n",
    "print(test_feature.shape)\n",
    "print(test_label.shape)"
   ]
  },
  {
   "cell_type": "code",
   "execution_count": 16,
   "id": "appointed-offer",
   "metadata": {},
   "outputs": [
    {
     "data": {
      "text/plain": [
       "((409241, 10, 4), (175389, 10, 4))"
      ]
     },
     "execution_count": 16,
     "metadata": {},
     "output_type": "execute_result"
    }
   ],
   "source": [
    "X_train, X_valid, y_train, y_valid = train_test_split(train_feature, train_label, test_size=0.3)\n",
    "\n",
    "X_train.shape, X_valid.shape"
   ]
  },
  {
   "cell_type": "markdown",
   "id": "coordinate-perfume",
   "metadata": {},
   "source": [
    "### Model Build"
   ]
  },
  {
   "cell_type": "code",
   "execution_count": 17,
   "id": "anonymous-model",
   "metadata": {},
   "outputs": [],
   "source": [
    "import tensorflow as tf\n",
    "from tensorflow.keras.models import Sequential\n",
    "from tensorflow.keras.layers import Dense, LSTM\n",
    "from tensorflow.keras.preprocessing import sequence\n",
    "#from tensorflow.keras.utils import np_utils\n",
    "from tensorflow.keras.callbacks import EarlyStopping, ModelCheckpoint\n",
    "import os"
   ]
  },
  {
   "cell_type": "code",
   "execution_count": 18,
   "id": "federal-advertising",
   "metadata": {},
   "outputs": [
    {
     "name": "stderr",
     "output_type": "stream",
     "text": [
      "2021-09-13 11:25:38.080128: I tensorflow/compiler/jit/xla_cpu_device.cc:41] Not creating XLA devices, tf_xla_enable_xla_devices not set\n",
      "2021-09-13 11:25:38.080401: I tensorflow/core/platform/cpu_feature_guard.cc:142] This TensorFlow binary is optimized with oneAPI Deep Neural Network Library (oneDNN) to use the following CPU instructions in performance-critical operations:  AVX2 FMA\n",
      "To enable them in other operations, rebuild TensorFlow with the appropriate compiler flags.\n"
     ]
    },
    {
     "name": "stdout",
     "output_type": "stream",
     "text": [
      "Model: \"sequential\"\n",
      "_________________________________________________________________\n",
      "Layer (type)                 Output Shape              Param #   \n",
      "=================================================================\n",
      "lstm (LSTM)                  (None, 50)                11000     \n",
      "_________________________________________________________________\n",
      "dense (Dense)                (None, 1)                 51        \n",
      "=================================================================\n",
      "Total params: 11,051\n",
      "Trainable params: 11,051\n",
      "Non-trainable params: 0\n",
      "_________________________________________________________________\n"
     ]
    }
   ],
   "source": [
    "model = Sequential()\n",
    "model.add(LSTM(50, \n",
    "               input_shape=(train_feature.shape[1], train_feature.shape[2]), \n",
    "               activation='tanh', \n",
    "               return_sequences=False)\n",
    "          )\n",
    "model.add(Dense(1, activation='sigmoid'))\n",
    "model.summary()"
   ]
  },
  {
   "cell_type": "code",
   "execution_count": 19,
   "id": "upset-customs",
   "metadata": {},
   "outputs": [],
   "source": [
    "model.compile(loss='binary_crossentropy', \n",
    "              optimizer='adam', \n",
    "              metrics=['sparse_categorical_accuracy']) "
   ]
  },
  {
   "cell_type": "code",
   "execution_count": 20,
   "id": "4f2608bb-59cb-4b20-b4b1-3eb83162a5af",
   "metadata": {},
   "outputs": [],
   "source": [
    "# 아래와같이 compile, fit한 파일은 베스트만 뽑아서 따로 저장하고 불러와서 사용하는 경우에는 metrics에 sparse를 사용할 필요가 없음\n",
    "# model.compile(loss='binary_crossentropy', \n",
    "#               optimizer='adam', \n",
    "#               metrics=['accuracy'],) \n",
    "\n",
    "# early_stop = EarlyStopping(monitor='val_loss', patience=5)\n",
    "# filename = os.path.join('tmp_checkpoint.h5')\n",
    "# checkpoint = ModelCheckpoint(filename, monitor='val_loss', verbose=0, \n",
    "#                              save_best_only=True, mode='auto')\n",
    "\n",
    "# history = model.fit(X_train, y_train, \n",
    "#                     epochs=200, \n",
    "#                     batch_size=256,\n",
    "#                     validation_data=(X_valid, y_valid),\n",
    "#                     callbacks=[early_stop, checkpoint])\n",
    "\n",
    "# model.load_weights(filename)"
   ]
  },
  {
   "cell_type": "code",
   "execution_count": 21,
   "id": "going-stewart",
   "metadata": {},
   "outputs": [
    {
     "name": "stdout",
     "output_type": "stream",
     "text": [
      "Epoch 1/100\n"
     ]
    },
    {
     "name": "stderr",
     "output_type": "stream",
     "text": [
      "2021-09-13 11:25:38.576749: I tensorflow/compiler/mlir/mlir_graph_optimization_pass.cc:116] None of the MLIR optimization passes are enabled (registered 2)\n"
     ]
    },
    {
     "name": "stdout",
     "output_type": "stream",
     "text": [
      "1599/1599 [==============================] - 36s 21ms/step - loss: 0.5252 - sparse_categorical_accuracy: 0.2117 - val_loss: 0.5190 - val_sparse_categorical_accuracy: 0.2139\n",
      "Epoch 2/100\n",
      "1599/1599 [==============================] - 33s 21ms/step - loss: 0.5139 - sparse_categorical_accuracy: 0.2098 - val_loss: 0.5212 - val_sparse_categorical_accuracy: 0.2139\n",
      "Epoch 3/100\n",
      "1599/1599 [==============================] - 32s 20ms/step - loss: 0.5141 - sparse_categorical_accuracy: 0.2099 - val_loss: 0.5191 - val_sparse_categorical_accuracy: 0.2139\n",
      "Epoch 4/100\n",
      "1599/1599 [==============================] - 31s 19ms/step - loss: 0.5160 - sparse_categorical_accuracy: 0.2115 - val_loss: 0.5192 - val_sparse_categorical_accuracy: 0.2139\n",
      "Epoch 5/100\n",
      "1599/1599 [==============================] - 31s 19ms/step - loss: 0.5147 - sparse_categorical_accuracy: 0.2104 - val_loss: 0.5191 - val_sparse_categorical_accuracy: 0.2139\n",
      "Epoch 6/100\n",
      "1599/1599 [==============================] - 30s 18ms/step - loss: 0.5160 - sparse_categorical_accuracy: 0.2115 - val_loss: 0.5191 - val_sparse_categorical_accuracy: 0.2139\n"
     ]
    },
    {
     "data": {
      "text/plain": [
       "<tensorflow.python.keras.callbacks.History at 0x7f83ff752f90>"
      ]
     },
     "execution_count": 21,
     "metadata": {},
     "output_type": "execute_result"
    }
   ],
   "source": [
    "early_stop = EarlyStopping(monitor='val_loss', patience=5)\n",
    "\n",
    "model.fit(X_train, y_train, epochs=100, batch_size=256, validation_data=(X_valid, y_valid), callbacks=[early_stop])"
   ]
  },
  {
   "cell_type": "code",
   "execution_count": 22,
   "id": "8b67c721-2a57-42a2-bb64-f096f5a0115b",
   "metadata": {},
   "outputs": [
    {
     "name": "stdout",
     "output_type": "stream",
     "text": [
      "7830/7830 [==============================] - 18s 2ms/step - loss: 0.5169 - sparse_categorical_accuracy: 0.2121\n"
     ]
    },
    {
     "data": {
      "text/plain": [
       "[0.5168583393096924, 0.21209339797496796]"
      ]
     },
     "execution_count": 22,
     "metadata": {},
     "output_type": "execute_result"
    }
   ],
   "source": [
    "model.evaluate(test_feature, test_label)"
   ]
  },
  {
   "cell_type": "code",
   "execution_count": 23,
   "id": "prime-number",
   "metadata": {},
   "outputs": [
    {
     "data": {
      "text/plain": [
       "array([[1],\n",
       "       [1],\n",
       "       [1],\n",
       "       ...,\n",
       "       [1],\n",
       "       [1],\n",
       "       [1]], dtype=int32)"
      ]
     },
     "execution_count": 23,
     "metadata": {},
     "output_type": "execute_result"
    }
   ],
   "source": [
    "# lstm_preds = model.predict(test_feature).argmax(axis=-1)\n",
    "lstm_preds = model.predict_classes(test_feature)\n",
    "lstm_preds"
   ]
  },
  {
   "cell_type": "code",
   "execution_count": 24,
   "id": "27d39c98-ad6b-4654-a952-9951a25f0f0e",
   "metadata": {},
   "outputs": [
    {
     "name": "stdout",
     "output_type": "stream",
     "text": [
      "7830/7830 [==============================] - 17s 2ms/step - loss: 0.5169 - sparse_categorical_accuracy: 0.2121\n",
      "Accuracy: [0.5168583393096924, 0.21209339797496796]\n",
      "              precision    recall  f1-score   support\n",
      "\n",
      "           0       0.00      0.00      0.00     53140\n",
      "           1       0.79      1.00      0.88    197410\n",
      "\n",
      "    accuracy                           0.79    250550\n",
      "   macro avg       0.39      0.50      0.44    250550\n",
      "weighted avg       0.62      0.79      0.69    250550\n",
      "\n"
     ]
    }
   ],
   "source": [
    "accuracy = model.evaluate(test_feature, test_label)\n",
    "\n",
    "print(\"Accuracy:\", accuracy)\n",
    "print(classification_report(test_label, lstm_preds))"
   ]
  },
  {
   "cell_type": "markdown",
   "id": "a39415fe-b6f0-4a7e-ace5-34551a1d1da9",
   "metadata": {},
   "source": [
    "### 3-3. LSTM + SMOTE"
   ]
  },
  {
   "cell_type": "code",
   "execution_count": 25,
   "id": "0e4a1ea1-3f53-4023-b13c-95aed0f84bd9",
   "metadata": {},
   "outputs": [],
   "source": [
    "from imblearn.over_sampling import SMOTE\n",
    "\n",
    "smote = SMOTE(random_state=0)\n",
    "\n",
    "X_train, X_test, y_train, y_test = train_test_split(X, y, test_size=0.3, random_state=0)\n",
    "X_train, y_train = smote.fit_resample(X_train, y_train)"
   ]
  },
  {
   "cell_type": "code",
   "execution_count": 26,
   "id": "dbfc649d-e290-4a48-9403-e7933d225b15",
   "metadata": {},
   "outputs": [
    {
     "name": "stdout",
     "output_type": "stream",
     "text": [
      "(921420, 10, 4)\n",
      "(921420,)\n",
      "(250550, 10, 4)\n",
      "(250550,)\n"
     ]
    }
   ],
   "source": [
    "scaler = MinMaxScaler()\n",
    "\n",
    "train_scaled = scaler.fit_transform(X_train)\n",
    "test_scaled = scaler.transform(X_test)\n",
    "\n",
    "train_feature, train_label = make_dataset(train_scaled, y_train, 10)\n",
    "test_feature, test_label = make_dataset(test_scaled, y_test, 10)\n",
    "\n",
    "print(train_feature.shape)\n",
    "print(train_label.shape)\n",
    "print(test_feature.shape)\n",
    "print(test_label.shape)"
   ]
  },
  {
   "cell_type": "code",
   "execution_count": 27,
   "id": "5489c0eb-05f7-438a-82db-90436a72d864",
   "metadata": {},
   "outputs": [
    {
     "data": {
      "text/plain": [
       "((644994, 10, 4), (276426, 10, 4))"
      ]
     },
     "execution_count": 27,
     "metadata": {},
     "output_type": "execute_result"
    }
   ],
   "source": [
    "# train, validation set 생성\n",
    "X_train, X_valid, y_train, y_valid = train_test_split(train_feature, train_label, test_size=0.3)\n",
    "\n",
    "X_train.shape, X_valid.shape"
   ]
  },
  {
   "cell_type": "code",
   "execution_count": 28,
   "id": "82a15773-8e10-4d84-8e1c-d0229204334c",
   "metadata": {},
   "outputs": [
    {
     "name": "stdout",
     "output_type": "stream",
     "text": [
      "Model: \"sequential_1\"\n",
      "_________________________________________________________________\n",
      "Layer (type)                 Output Shape              Param #   \n",
      "=================================================================\n",
      "lstm_1 (LSTM)                (None, 50)                11000     \n",
      "_________________________________________________________________\n",
      "dense_1 (Dense)              (None, 1)                 51        \n",
      "=================================================================\n",
      "Total params: 11,051\n",
      "Trainable params: 11,051\n",
      "Non-trainable params: 0\n",
      "_________________________________________________________________\n"
     ]
    }
   ],
   "source": [
    "mo = Sequential()\n",
    "mo.add(LSTM(50, \n",
    "               input_shape=(train_feature.shape[1], train_feature.shape[2]), \n",
    "               activation='tanh', \n",
    "               return_sequences=False)\n",
    "          )\n",
    "mo.add(Dense(1, activation='sigmoid'))\n",
    "mo.summary()"
   ]
  },
  {
   "cell_type": "code",
   "execution_count": 29,
   "id": "0e848e97-ba7f-4562-9ff1-ff636590745d",
   "metadata": {},
   "outputs": [],
   "source": [
    "mo.compile(loss='binary_crossentropy', \n",
    "              optimizer='adam', \n",
    "              metrics=['accuracy']) "
   ]
  },
  {
   "cell_type": "code",
   "execution_count": 30,
   "id": "3a180986-05e8-4564-ab88-70b9bdb3b35d",
   "metadata": {},
   "outputs": [
    {
     "name": "stdout",
     "output_type": "stream",
     "text": [
      "Epoch 1/100\n",
      "2520/2520 [==============================] - 45s 17ms/step - loss: 0.4514 - accuracy: 0.8037 - val_loss: 0.4141 - val_accuracy: 0.8313\n",
      "Epoch 2/100\n",
      "2520/2520 [==============================] - 45s 18ms/step - loss: 0.4128 - accuracy: 0.8323 - val_loss: 0.4120 - val_accuracy: 0.8325\n",
      "Epoch 3/100\n",
      "2520/2520 [==============================] - 47s 19ms/step - loss: 0.4097 - accuracy: 0.8334 - val_loss: 0.4087 - val_accuracy: 0.8334\n",
      "Epoch 4/100\n",
      "2520/2520 [==============================] - 49s 19ms/step - loss: 0.4067 - accuracy: 0.8347 - val_loss: 0.4058 - val_accuracy: 0.8346\n",
      "Epoch 5/100\n",
      "2520/2520 [==============================] - 45s 18ms/step - loss: 0.4052 - accuracy: 0.8342 - val_loss: 0.4039 - val_accuracy: 0.8351\n",
      "Epoch 6/100\n",
      "2520/2520 [==============================] - 48s 19ms/step - loss: 0.4043 - accuracy: 0.8351 - val_loss: 0.4034 - val_accuracy: 0.8356\n",
      "Epoch 7/100\n",
      "2520/2520 [==============================] - 50s 20ms/step - loss: 0.4029 - accuracy: 0.8353 - val_loss: 0.4017 - val_accuracy: 0.8359\n",
      "Epoch 8/100\n",
      "2520/2520 [==============================] - 50s 20ms/step - loss: 0.4026 - accuracy: 0.8350 - val_loss: 0.4009 - val_accuracy: 0.8365\n",
      "Epoch 9/100\n",
      "2520/2520 [==============================] - 50s 20ms/step - loss: 0.4012 - accuracy: 0.8353 - val_loss: 0.3989 - val_accuracy: 0.8370\n",
      "Epoch 10/100\n",
      "2520/2520 [==============================] - 51s 20ms/step - loss: 0.3981 - accuracy: 0.8373 - val_loss: 0.3983 - val_accuracy: 0.8363\n",
      "Epoch 11/100\n",
      "2520/2520 [==============================] - 56s 22ms/step - loss: 0.3962 - accuracy: 0.8377 - val_loss: 0.3962 - val_accuracy: 0.8380\n",
      "Epoch 12/100\n",
      "2520/2520 [==============================] - 53s 21ms/step - loss: 0.3940 - accuracy: 0.8391 - val_loss: 0.3951 - val_accuracy: 0.8385\n",
      "Epoch 13/100\n",
      "2520/2520 [==============================] - 51s 20ms/step - loss: 0.3948 - accuracy: 0.8382 - val_loss: 0.3955 - val_accuracy: 0.8383\n",
      "Epoch 14/100\n",
      "2520/2520 [==============================] - 53s 21ms/step - loss: 0.3920 - accuracy: 0.8396 - val_loss: 0.3930 - val_accuracy: 0.8397\n",
      "Epoch 15/100\n",
      "2520/2520 [==============================] - 53s 21ms/step - loss: 0.3832 - accuracy: 0.8412 - val_loss: 0.3654 - val_accuracy: 0.8467\n",
      "Epoch 16/100\n",
      "2520/2520 [==============================] - 53s 21ms/step - loss: 0.3630 - accuracy: 0.8481 - val_loss: 0.3557 - val_accuracy: 0.8517\n",
      "Epoch 17/100\n",
      "2520/2520 [==============================] - 62s 25ms/step - loss: 0.3551 - accuracy: 0.8511 - val_loss: 0.3533 - val_accuracy: 0.8517\n",
      "Epoch 18/100\n",
      "2520/2520 [==============================] - 61s 24ms/step - loss: 0.3524 - accuracy: 0.8522 - val_loss: 0.3525 - val_accuracy: 0.8530\n",
      "Epoch 19/100\n",
      "2520/2520 [==============================] - 38s 15ms/step - loss: 0.3494 - accuracy: 0.8539 - val_loss: 0.3511 - val_accuracy: 0.8532\n",
      "Epoch 20/100\n",
      "2520/2520 [==============================] - 32s 13ms/step - loss: 0.3496 - accuracy: 0.8536 - val_loss: 0.3517 - val_accuracy: 0.8530\n",
      "Epoch 21/100\n",
      "2520/2520 [==============================] - 53s 21ms/step - loss: 0.3485 - accuracy: 0.8540 - val_loss: 0.3476 - val_accuracy: 0.8537\n",
      "Epoch 22/100\n",
      "2520/2520 [==============================] - 39s 15ms/step - loss: 0.3474 - accuracy: 0.8547 - val_loss: 0.3457 - val_accuracy: 0.8554\n",
      "Epoch 23/100\n",
      "2520/2520 [==============================] - 35s 14ms/step - loss: 0.3465 - accuracy: 0.8547 - val_loss: 0.3459 - val_accuracy: 0.8552\n",
      "Epoch 24/100\n",
      "2520/2520 [==============================] - 41s 16ms/step - loss: 0.3462 - accuracy: 0.8552 - val_loss: 0.3460 - val_accuracy: 0.8550\n",
      "Epoch 25/100\n",
      "2520/2520 [==============================] - 44s 17ms/step - loss: 0.3441 - accuracy: 0.8563 - val_loss: 0.3452 - val_accuracy: 0.8553\n",
      "Epoch 26/100\n",
      "2520/2520 [==============================] - 46s 18ms/step - loss: 0.3444 - accuracy: 0.8560 - val_loss: 0.3434 - val_accuracy: 0.8564\n",
      "Epoch 27/100\n",
      "2520/2520 [==============================] - 44s 18ms/step - loss: 0.3439 - accuracy: 0.8564 - val_loss: 0.3450 - val_accuracy: 0.8558\n",
      "Epoch 28/100\n",
      "2520/2520 [==============================] - 46s 18ms/step - loss: 0.3437 - accuracy: 0.8563 - val_loss: 0.3514 - val_accuracy: 0.8525\n",
      "Epoch 29/100\n",
      "2520/2520 [==============================] - 40s 16ms/step - loss: 0.3438 - accuracy: 0.8563 - val_loss: 0.3427 - val_accuracy: 0.8568\n",
      "Epoch 30/100\n",
      "2520/2520 [==============================] - 35s 14ms/step - loss: 0.3426 - accuracy: 0.8568 - val_loss: 0.3426 - val_accuracy: 0.8570\n",
      "Epoch 31/100\n",
      "2520/2520 [==============================] - 34s 13ms/step - loss: 0.3433 - accuracy: 0.8563 - val_loss: 0.3424 - val_accuracy: 0.8565\n",
      "Epoch 32/100\n",
      "2520/2520 [==============================] - 33s 13ms/step - loss: 0.3416 - accuracy: 0.8575 - val_loss: 0.3426 - val_accuracy: 0.8574\n",
      "Epoch 33/100\n",
      "2520/2520 [==============================] - 35s 14ms/step - loss: 0.3420 - accuracy: 0.8572 - val_loss: 0.3460 - val_accuracy: 0.8552\n",
      "Epoch 34/100\n",
      "2520/2520 [==============================] - 35s 14ms/step - loss: 0.3402 - accuracy: 0.8588 - val_loss: 0.3437 - val_accuracy: 0.8563\n",
      "Epoch 35/100\n",
      "2520/2520 [==============================] - 35s 14ms/step - loss: 0.3402 - accuracy: 0.8584 - val_loss: 0.3443 - val_accuracy: 0.8562\n",
      "Epoch 36/100\n",
      "2520/2520 [==============================] - 34s 14ms/step - loss: 0.3414 - accuracy: 0.8577 - val_loss: 0.3472 - val_accuracy: 0.8546\n"
     ]
    },
    {
     "data": {
      "text/plain": [
       "<tensorflow.python.keras.callbacks.History at 0x7f83eefbc8d0>"
      ]
     },
     "execution_count": 30,
     "metadata": {},
     "output_type": "execute_result"
    }
   ],
   "source": [
    "mo.fit(X_train, y_train, epochs=100, batch_size=256, validation_data=(X_valid, y_valid), callbacks=[early_stop])"
   ]
  },
  {
   "cell_type": "code",
   "execution_count": 31,
   "id": "3ab620dd-3f64-4d8b-8b19-7332b2648162",
   "metadata": {},
   "outputs": [
    {
     "name": "stdout",
     "output_type": "stream",
     "text": [
      "7830/7830 [==============================] - 13s 2ms/step - loss: 0.5341 - accuracy: 0.7757\n"
     ]
    },
    {
     "data": {
      "text/plain": [
       "[0.5341236591339111, 0.7757334113121033]"
      ]
     },
     "execution_count": 31,
     "metadata": {},
     "output_type": "execute_result"
    }
   ],
   "source": [
    "mo.evaluate(test_feature, test_label)"
   ]
  },
  {
   "cell_type": "code",
   "execution_count": 32,
   "id": "65d73f32-9d0f-4bf1-a242-1e77f547db07",
   "metadata": {},
   "outputs": [
    {
     "data": {
      "text/plain": [
       "array([[1],\n",
       "       [1],\n",
       "       [1],\n",
       "       ...,\n",
       "       [1],\n",
       "       [1],\n",
       "       [1]], dtype=int32)"
      ]
     },
     "execution_count": 32,
     "metadata": {},
     "output_type": "execute_result"
    }
   ],
   "source": [
    "smote_preds = mo.predict_classes(test_feature)\n",
    "smote_preds"
   ]
  },
  {
   "cell_type": "code",
   "execution_count": 33,
   "id": "09d5a635-29ab-4fcd-ba26-5480646e1d21",
   "metadata": {},
   "outputs": [
    {
     "data": {
      "text/plain": [
       "array([0, 1], dtype=int32)"
      ]
     },
     "execution_count": 33,
     "metadata": {},
     "output_type": "execute_result"
    }
   ],
   "source": [
    "np.unique(smote_preds)"
   ]
  },
  {
   "cell_type": "code",
   "execution_count": 34,
   "id": "5f9627b9-0e76-4d55-947f-d9ab44f8bfbb",
   "metadata": {},
   "outputs": [
    {
     "name": "stdout",
     "output_type": "stream",
     "text": [
      "Accuracy: [0.5168583393096924, 0.21209339797496796]\n",
      "              precision    recall  f1-score   support\n",
      "\n",
      "           0       0.21      0.02      0.04     53140\n",
      "           1       0.79      0.98      0.87    197410\n",
      "\n",
      "    accuracy                           0.78    250550\n",
      "   macro avg       0.50      0.50      0.46    250550\n",
      "weighted avg       0.67      0.78      0.70    250550\n",
      "\n"
     ]
    }
   ],
   "source": [
    "print(\"Accuracy:\", accuracy)\n",
    "print(classification_report(test_label, smote_preds))"
   ]
  },
  {
   "cell_type": "code",
   "execution_count": null,
   "id": "444f0227-77ad-426f-bd18-fef89204d76c",
   "metadata": {},
   "outputs": [],
   "source": []
  },
  {
   "cell_type": "code",
   "execution_count": null,
   "id": "ba568cac-2efc-45e6-9b17-15eb50b27041",
   "metadata": {},
   "outputs": [],
   "source": []
  },
  {
   "cell_type": "code",
   "execution_count": null,
   "id": "d08123db-c59e-42b9-af77-b1bcb7c38df9",
   "metadata": {},
   "outputs": [],
   "source": []
  }
 ],
 "metadata": {
  "kernelspec": {
   "display_name": "tf24",
   "language": "python",
   "name": "tf24"
  },
  "language_info": {
   "codemirror_mode": {
    "name": "ipython",
    "version": 3
   },
   "file_extension": ".py",
   "mimetype": "text/x-python",
   "name": "python",
   "nbconvert_exporter": "python",
   "pygments_lexer": "ipython3",
   "version": "3.7.11"
  }
 },
 "nbformat": 4,
 "nbformat_minor": 5
}

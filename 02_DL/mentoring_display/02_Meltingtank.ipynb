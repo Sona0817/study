{
 "cells": [
  {
   "cell_type": "markdown",
   "id": "lightweight-thong",
   "metadata": {},
   "source": [
    "# 프로젝트 실습 #2: 용해 탱크"
   ]
  },
  {
   "cell_type": "code",
   "execution_count": 1,
   "id": "opponent-working",
   "metadata": {},
   "outputs": [],
   "source": [
    "import os\n",
    "import pandas as pd\n",
    "import numpy as np\n",
    "\n",
    "import seaborn as sns\n",
    "import matplotlib.pyplot as plt\n",
    "%matplotlib inline "
   ]
  },
  {
   "cell_type": "markdown",
   "id": "standing-feeling",
   "metadata": {},
   "source": [
    "## 1. 데이터 불러오기"
   ]
  },
  {
   "cell_type": "code",
   "execution_count": 2,
   "id": "english-seeker",
   "metadata": {
    "scrolled": true
   },
   "outputs": [
    {
     "data": {
      "text/html": [
       "<div>\n",
       "<style scoped>\n",
       "    .dataframe tbody tr th:only-of-type {\n",
       "        vertical-align: middle;\n",
       "    }\n",
       "\n",
       "    .dataframe tbody tr th {\n",
       "        vertical-align: top;\n",
       "    }\n",
       "\n",
       "    .dataframe thead th {\n",
       "        text-align: right;\n",
       "    }\n",
       "</style>\n",
       "<table border=\"1\" class=\"dataframe\">\n",
       "  <thead>\n",
       "    <tr style=\"text-align: right;\">\n",
       "      <th></th>\n",
       "      <th>STD_DT</th>\n",
       "      <th>NUM</th>\n",
       "      <th>MELT_TEMP</th>\n",
       "      <th>MOTORSPEED</th>\n",
       "      <th>MELT_WEIGHT</th>\n",
       "      <th>INSP</th>\n",
       "      <th>TAG</th>\n",
       "    </tr>\n",
       "  </thead>\n",
       "  <tbody>\n",
       "    <tr>\n",
       "      <th>0</th>\n",
       "      <td>2020-03-04 0:00</td>\n",
       "      <td>0</td>\n",
       "      <td>489</td>\n",
       "      <td>116</td>\n",
       "      <td>631</td>\n",
       "      <td>3.19</td>\n",
       "      <td>OK</td>\n",
       "    </tr>\n",
       "    <tr>\n",
       "      <th>1</th>\n",
       "      <td>2020-03-04 0:00</td>\n",
       "      <td>1</td>\n",
       "      <td>433</td>\n",
       "      <td>78</td>\n",
       "      <td>609</td>\n",
       "      <td>3.19</td>\n",
       "      <td>OK</td>\n",
       "    </tr>\n",
       "    <tr>\n",
       "      <th>2</th>\n",
       "      <td>2020-03-04 0:00</td>\n",
       "      <td>2</td>\n",
       "      <td>464</td>\n",
       "      <td>154</td>\n",
       "      <td>608</td>\n",
       "      <td>3.19</td>\n",
       "      <td>OK</td>\n",
       "    </tr>\n",
       "    <tr>\n",
       "      <th>3</th>\n",
       "      <td>2020-03-04 0:00</td>\n",
       "      <td>3</td>\n",
       "      <td>379</td>\n",
       "      <td>212</td>\n",
       "      <td>606</td>\n",
       "      <td>3.19</td>\n",
       "      <td>OK</td>\n",
       "    </tr>\n",
       "    <tr>\n",
       "      <th>4</th>\n",
       "      <td>2020-03-04 0:00</td>\n",
       "      <td>4</td>\n",
       "      <td>798</td>\n",
       "      <td>1736</td>\n",
       "      <td>604</td>\n",
       "      <td>3.21</td>\n",
       "      <td>OK</td>\n",
       "    </tr>\n",
       "  </tbody>\n",
       "</table>\n",
       "</div>"
      ],
      "text/plain": [
       "            STD_DT  NUM  MELT_TEMP  MOTORSPEED  MELT_WEIGHT  INSP TAG\n",
       "0  2020-03-04 0:00    0        489         116          631  3.19  OK\n",
       "1  2020-03-04 0:00    1        433          78          609  3.19  OK\n",
       "2  2020-03-04 0:00    2        464         154          608  3.19  OK\n",
       "3  2020-03-04 0:00    3        379         212          606  3.19  OK\n",
       "4  2020-03-04 0:00    4        798        1736          604  3.21  OK"
      ]
     },
     "execution_count": 2,
     "metadata": {},
     "output_type": "execute_result"
    }
   ],
   "source": [
    "df = pd.read_csv('.././data/melting_tank.csv')\n",
    "df.head()"
   ]
  },
  {
   "cell_type": "code",
   "execution_count": 3,
   "id": "impaired-saver",
   "metadata": {},
   "outputs": [
    {
     "data": {
      "text/plain": [
       "(835200, 7)"
      ]
     },
     "execution_count": 3,
     "metadata": {},
     "output_type": "execute_result"
    }
   ],
   "source": [
    "df.shape"
   ]
  },
  {
   "cell_type": "code",
   "execution_count": 4,
   "id": "annoying-chemical",
   "metadata": {},
   "outputs": [
    {
     "name": "stdout",
     "output_type": "stream",
     "text": [
      "<class 'pandas.core.frame.DataFrame'>\n",
      "RangeIndex: 835200 entries, 0 to 835199\n",
      "Data columns (total 7 columns):\n",
      " #   Column       Non-Null Count   Dtype  \n",
      "---  ------       --------------   -----  \n",
      " 0   STD_DT       835200 non-null  object \n",
      " 1   NUM          835200 non-null  int64  \n",
      " 2   MELT_TEMP    835200 non-null  int64  \n",
      " 3   MOTORSPEED   835200 non-null  int64  \n",
      " 4   MELT_WEIGHT  835200 non-null  int64  \n",
      " 5   INSP         835200 non-null  float64\n",
      " 6   TAG          835200 non-null  object \n",
      "dtypes: float64(1), int64(4), object(2)\n",
      "memory usage: 44.6+ MB\n"
     ]
    }
   ],
   "source": [
    "df.info()"
   ]
  },
  {
   "cell_type": "code",
   "execution_count": 5,
   "id": "august-producer",
   "metadata": {},
   "outputs": [
    {
     "data": {
      "text/html": [
       "<div>\n",
       "<style scoped>\n",
       "    .dataframe tbody tr th:only-of-type {\n",
       "        vertical-align: middle;\n",
       "    }\n",
       "\n",
       "    .dataframe tbody tr th {\n",
       "        vertical-align: top;\n",
       "    }\n",
       "\n",
       "    .dataframe thead th {\n",
       "        text-align: right;\n",
       "    }\n",
       "</style>\n",
       "<table border=\"1\" class=\"dataframe\">\n",
       "  <thead>\n",
       "    <tr style=\"text-align: right;\">\n",
       "      <th></th>\n",
       "      <th>NUM</th>\n",
       "      <th>MELT_TEMP</th>\n",
       "      <th>MOTORSPEED</th>\n",
       "      <th>MELT_WEIGHT</th>\n",
       "      <th>INSP</th>\n",
       "    </tr>\n",
       "  </thead>\n",
       "  <tbody>\n",
       "    <tr>\n",
       "      <th>count</th>\n",
       "      <td>835200.000000</td>\n",
       "      <td>835200.000000</td>\n",
       "      <td>835200.000000</td>\n",
       "      <td>835200.000000</td>\n",
       "      <td>835200.000000</td>\n",
       "    </tr>\n",
       "    <tr>\n",
       "      <th>mean</th>\n",
       "      <td>417599.500000</td>\n",
       "      <td>509.200623</td>\n",
       "      <td>459.782865</td>\n",
       "      <td>582.962125</td>\n",
       "      <td>3.194853</td>\n",
       "    </tr>\n",
       "    <tr>\n",
       "      <th>std</th>\n",
       "      <td>241101.616752</td>\n",
       "      <td>128.277519</td>\n",
       "      <td>639.436413</td>\n",
       "      <td>1217.604433</td>\n",
       "      <td>0.011822</td>\n",
       "    </tr>\n",
       "    <tr>\n",
       "      <th>min</th>\n",
       "      <td>0.000000</td>\n",
       "      <td>308.000000</td>\n",
       "      <td>0.000000</td>\n",
       "      <td>0.000000</td>\n",
       "      <td>3.170000</td>\n",
       "    </tr>\n",
       "    <tr>\n",
       "      <th>25%</th>\n",
       "      <td>208799.750000</td>\n",
       "      <td>430.000000</td>\n",
       "      <td>119.000000</td>\n",
       "      <td>186.000000</td>\n",
       "      <td>3.190000</td>\n",
       "    </tr>\n",
       "    <tr>\n",
       "      <th>50%</th>\n",
       "      <td>417599.500000</td>\n",
       "      <td>469.000000</td>\n",
       "      <td>168.000000</td>\n",
       "      <td>383.000000</td>\n",
       "      <td>3.190000</td>\n",
       "    </tr>\n",
       "    <tr>\n",
       "      <th>75%</th>\n",
       "      <td>626399.250000</td>\n",
       "      <td>502.000000</td>\n",
       "      <td>218.000000</td>\n",
       "      <td>583.000000</td>\n",
       "      <td>3.200000</td>\n",
       "    </tr>\n",
       "    <tr>\n",
       "      <th>max</th>\n",
       "      <td>835199.000000</td>\n",
       "      <td>832.000000</td>\n",
       "      <td>1804.000000</td>\n",
       "      <td>55252.000000</td>\n",
       "      <td>3.230000</td>\n",
       "    </tr>\n",
       "  </tbody>\n",
       "</table>\n",
       "</div>"
      ],
      "text/plain": [
       "                 NUM      MELT_TEMP     MOTORSPEED    MELT_WEIGHT  \\\n",
       "count  835200.000000  835200.000000  835200.000000  835200.000000   \n",
       "mean   417599.500000     509.200623     459.782865     582.962125   \n",
       "std    241101.616752     128.277519     639.436413    1217.604433   \n",
       "min         0.000000     308.000000       0.000000       0.000000   \n",
       "25%    208799.750000     430.000000     119.000000     186.000000   \n",
       "50%    417599.500000     469.000000     168.000000     383.000000   \n",
       "75%    626399.250000     502.000000     218.000000     583.000000   \n",
       "max    835199.000000     832.000000    1804.000000   55252.000000   \n",
       "\n",
       "                INSP  \n",
       "count  835200.000000  \n",
       "mean        3.194853  \n",
       "std         0.011822  \n",
       "min         3.170000  \n",
       "25%         3.190000  \n",
       "50%         3.190000  \n",
       "75%         3.200000  \n",
       "max         3.230000  "
      ]
     },
     "execution_count": 5,
     "metadata": {},
     "output_type": "execute_result"
    }
   ],
   "source": [
    "df.describe()"
   ]
  },
  {
   "cell_type": "code",
   "execution_count": 6,
   "id": "suitable-craft",
   "metadata": {},
   "outputs": [
    {
     "data": {
      "text/plain": [
       "OK    658133\n",
       "NG    177067\n",
       "Name: TAG, dtype: int64"
      ]
     },
     "execution_count": 6,
     "metadata": {},
     "output_type": "execute_result"
    }
   ],
   "source": [
    "df['TAG'].value_counts()"
   ]
  },
  {
   "cell_type": "markdown",
   "id": "another-ceramic",
   "metadata": {},
   "source": [
    "## 2. Datetime 인덱스"
   ]
  },
  {
   "cell_type": "code",
   "execution_count": 7,
   "id": "forced-acting",
   "metadata": {},
   "outputs": [
    {
     "data": {
      "text/html": [
       "<div>\n",
       "<style scoped>\n",
       "    .dataframe tbody tr th:only-of-type {\n",
       "        vertical-align: middle;\n",
       "    }\n",
       "\n",
       "    .dataframe tbody tr th {\n",
       "        vertical-align: top;\n",
       "    }\n",
       "\n",
       "    .dataframe thead th {\n",
       "        text-align: right;\n",
       "    }\n",
       "</style>\n",
       "<table border=\"1\" class=\"dataframe\">\n",
       "  <thead>\n",
       "    <tr style=\"text-align: right;\">\n",
       "      <th></th>\n",
       "      <th>NUM</th>\n",
       "      <th>MELT_TEMP</th>\n",
       "      <th>MOTORSPEED</th>\n",
       "      <th>MELT_WEIGHT</th>\n",
       "      <th>INSP</th>\n",
       "      <th>TAG</th>\n",
       "    </tr>\n",
       "    <tr>\n",
       "      <th>STD_DT</th>\n",
       "      <th></th>\n",
       "      <th></th>\n",
       "      <th></th>\n",
       "      <th></th>\n",
       "      <th></th>\n",
       "      <th></th>\n",
       "    </tr>\n",
       "  </thead>\n",
       "  <tbody>\n",
       "    <tr>\n",
       "      <th>2020-03-04 00:00:00</th>\n",
       "      <td>0</td>\n",
       "      <td>489</td>\n",
       "      <td>116</td>\n",
       "      <td>631</td>\n",
       "      <td>3.19</td>\n",
       "      <td>OK</td>\n",
       "    </tr>\n",
       "    <tr>\n",
       "      <th>2020-03-04 00:00:00</th>\n",
       "      <td>1</td>\n",
       "      <td>433</td>\n",
       "      <td>78</td>\n",
       "      <td>609</td>\n",
       "      <td>3.19</td>\n",
       "      <td>OK</td>\n",
       "    </tr>\n",
       "    <tr>\n",
       "      <th>2020-03-04 00:00:00</th>\n",
       "      <td>2</td>\n",
       "      <td>464</td>\n",
       "      <td>154</td>\n",
       "      <td>608</td>\n",
       "      <td>3.19</td>\n",
       "      <td>OK</td>\n",
       "    </tr>\n",
       "    <tr>\n",
       "      <th>2020-03-04 00:00:00</th>\n",
       "      <td>3</td>\n",
       "      <td>379</td>\n",
       "      <td>212</td>\n",
       "      <td>606</td>\n",
       "      <td>3.19</td>\n",
       "      <td>OK</td>\n",
       "    </tr>\n",
       "    <tr>\n",
       "      <th>2020-03-04 00:00:00</th>\n",
       "      <td>4</td>\n",
       "      <td>798</td>\n",
       "      <td>1736</td>\n",
       "      <td>604</td>\n",
       "      <td>3.21</td>\n",
       "      <td>OK</td>\n",
       "    </tr>\n",
       "    <tr>\n",
       "      <th>...</th>\n",
       "      <td>...</td>\n",
       "      <td>...</td>\n",
       "      <td>...</td>\n",
       "      <td>...</td>\n",
       "      <td>...</td>\n",
       "      <td>...</td>\n",
       "    </tr>\n",
       "    <tr>\n",
       "      <th>2020-04-30 23:59:00</th>\n",
       "      <td>835195</td>\n",
       "      <td>755</td>\n",
       "      <td>1743</td>\n",
       "      <td>318</td>\n",
       "      <td>3.21</td>\n",
       "      <td>OK</td>\n",
       "    </tr>\n",
       "    <tr>\n",
       "      <th>2020-04-30 23:59:00</th>\n",
       "      <td>835196</td>\n",
       "      <td>385</td>\n",
       "      <td>206</td>\n",
       "      <td>317</td>\n",
       "      <td>3.19</td>\n",
       "      <td>OK</td>\n",
       "    </tr>\n",
       "    <tr>\n",
       "      <th>2020-04-30 23:59:00</th>\n",
       "      <td>835197</td>\n",
       "      <td>465</td>\n",
       "      <td>148</td>\n",
       "      <td>316</td>\n",
       "      <td>3.20</td>\n",
       "      <td>OK</td>\n",
       "    </tr>\n",
       "    <tr>\n",
       "      <th>2020-04-30 23:59:00</th>\n",
       "      <td>835198</td>\n",
       "      <td>467</td>\n",
       "      <td>0</td>\n",
       "      <td>314</td>\n",
       "      <td>3.19</td>\n",
       "      <td>OK</td>\n",
       "    </tr>\n",
       "    <tr>\n",
       "      <th>2020-04-30 23:59:00</th>\n",
       "      <td>835199</td>\n",
       "      <td>453</td>\n",
       "      <td>125</td>\n",
       "      <td>312</td>\n",
       "      <td>3.20</td>\n",
       "      <td>OK</td>\n",
       "    </tr>\n",
       "  </tbody>\n",
       "</table>\n",
       "<p>835200 rows × 6 columns</p>\n",
       "</div>"
      ],
      "text/plain": [
       "                        NUM  MELT_TEMP  MOTORSPEED  MELT_WEIGHT  INSP TAG\n",
       "STD_DT                                                                   \n",
       "2020-03-04 00:00:00       0        489         116          631  3.19  OK\n",
       "2020-03-04 00:00:00       1        433          78          609  3.19  OK\n",
       "2020-03-04 00:00:00       2        464         154          608  3.19  OK\n",
       "2020-03-04 00:00:00       3        379         212          606  3.19  OK\n",
       "2020-03-04 00:00:00       4        798        1736          604  3.21  OK\n",
       "...                     ...        ...         ...          ...   ...  ..\n",
       "2020-04-30 23:59:00  835195        755        1743          318  3.21  OK\n",
       "2020-04-30 23:59:00  835196        385         206          317  3.19  OK\n",
       "2020-04-30 23:59:00  835197        465         148          316  3.20  OK\n",
       "2020-04-30 23:59:00  835198        467           0          314  3.19  OK\n",
       "2020-04-30 23:59:00  835199        453         125          312  3.20  OK\n",
       "\n",
       "[835200 rows x 6 columns]"
      ]
     },
     "execution_count": 7,
     "metadata": {},
     "output_type": "execute_result"
    }
   ],
   "source": [
    "df['STD_DT'] = pd.to_datetime(df['STD_DT'], format='%Y-%m-%d %H:%M:%S')\n",
    "df = df.set_index('STD_DT')\n",
    "df"
   ]
  },
  {
   "cell_type": "markdown",
   "id": "experienced-separation",
   "metadata": {},
   "source": [
    "## 4. EDA"
   ]
  },
  {
   "cell_type": "code",
   "execution_count": 8,
   "id": "narrative-convenience",
   "metadata": {},
   "outputs": [
    {
     "data": {
      "image/png": "[encoded data removed]",
      "text/plain": [
       "<Figure size 864x864 with 5 Axes>"
      ]
     },
     "metadata": {
      "needs_background": "light"
     },
     "output_type": "display_data"
    }
   ],
   "source": [
    "col_name = ['MELT_TEMP', 'MOTORSPEED', 'MELT_WEIGHT', 'INSP', 'TAG']\n",
    "\n",
    "plt.figure(figsize=(12, 12))\n",
    "\n",
    "for i in range(len(col_name)):\n",
    "    num = 231+i\n",
    "    \n",
    "    plt.subplot(num)\n",
    "    plt.hist(df[col_name[i]])\n",
    "    plt.xticks(rotation=45)\n",
    "    plt.title(col_name[i])\n",
    "\n",
    "plt.show()"
   ]
  },
  {
   "cell_type": "code",
   "execution_count": 9,
   "id": "comparative-buffalo",
   "metadata": {
    "scrolled": true
   },
   "outputs": [
    {
     "data": {
      "image/png": "[encoded data removed]",
      "text/plain": [
       "<Figure size 864x864 with 4 Axes>"
      ]
     },
     "metadata": {
      "needs_background": "light"
     },
     "output_type": "display_data"
    }
   ],
   "source": [
    "col_name = ['MELT_TEMP', 'MOTORSPEED', 'MELT_WEIGHT', 'INSP']\n",
    "\n",
    "plt.figure(figsize=(12, 12))\n",
    "\n",
    "for i in range(len(col_name)):\n",
    "    num = 221+i\n",
    "    plt.subplot(num)\n",
    "    plt.plot(df[col_name[i]][0:100])\n",
    "    plt.xticks(rotation=45)\n",
    "    plt.title(col_name[i])\n",
    "\n",
    "plt.subplots_adjust(left=0.125, bottom=0.1,  right=0.9, top=0.9, wspace=0.2, hspace=0.35)  \n",
    "plt.show()"
   ]
  },
  {
   "cell_type": "markdown",
   "id": "contained-anger",
   "metadata": {},
   "source": [
    "## 5. 데이터 전처리"
   ]
  },
  {
   "cell_type": "code",
   "execution_count": 10,
   "id": "moderate-investigator",
   "metadata": {},
   "outputs": [
    {
     "data": {
      "text/plain": [
       "1    658133\n",
       "0    177067\n",
       "Name: TAG, dtype: int64"
      ]
     },
     "execution_count": 10,
     "metadata": {},
     "output_type": "execute_result"
    }
   ],
   "source": [
    "df['TAG'] = df['TAG'].map({'OK': 1, \n",
    "                           'NG': 0})\n",
    "df['TAG'].value_counts()"
   ]
  },
  {
   "cell_type": "code",
   "execution_count": 11,
   "id": "2beef7a9-afc3-4598-b3b0-ad2a447ff4cc",
   "metadata": {},
   "outputs": [
    {
     "data": {
      "text/html": [
       "<div>\n",
       "<style scoped>\n",
       "    .dataframe tbody tr th:only-of-type {\n",
       "        vertical-align: middle;\n",
       "    }\n",
       "\n",
       "    .dataframe tbody tr th {\n",
       "        vertical-align: top;\n",
       "    }\n",
       "\n",
       "    .dataframe thead th {\n",
       "        text-align: right;\n",
       "    }\n",
       "</style>\n",
       "<table border=\"1\" class=\"dataframe\">\n",
       "  <thead>\n",
       "    <tr style=\"text-align: right;\">\n",
       "      <th></th>\n",
       "      <th>NUM</th>\n",
       "      <th>MELT_TEMP</th>\n",
       "      <th>MOTORSPEED</th>\n",
       "      <th>MELT_WEIGHT</th>\n",
       "      <th>INSP</th>\n",
       "      <th>TAG</th>\n",
       "    </tr>\n",
       "    <tr>\n",
       "      <th>STD_DT</th>\n",
       "      <th></th>\n",
       "      <th></th>\n",
       "      <th></th>\n",
       "      <th></th>\n",
       "      <th></th>\n",
       "      <th></th>\n",
       "    </tr>\n",
       "  </thead>\n",
       "  <tbody>\n",
       "    <tr>\n",
       "      <th>2020-03-04 00:00:00</th>\n",
       "      <td>0</td>\n",
       "      <td>489</td>\n",
       "      <td>116</td>\n",
       "      <td>631</td>\n",
       "      <td>3.19</td>\n",
       "      <td>1</td>\n",
       "    </tr>\n",
       "    <tr>\n",
       "      <th>2020-03-04 00:00:00</th>\n",
       "      <td>1</td>\n",
       "      <td>433</td>\n",
       "      <td>78</td>\n",
       "      <td>609</td>\n",
       "      <td>3.19</td>\n",
       "      <td>1</td>\n",
       "    </tr>\n",
       "    <tr>\n",
       "      <th>2020-03-04 00:00:00</th>\n",
       "      <td>2</td>\n",
       "      <td>464</td>\n",
       "      <td>154</td>\n",
       "      <td>608</td>\n",
       "      <td>3.19</td>\n",
       "      <td>1</td>\n",
       "    </tr>\n",
       "    <tr>\n",
       "      <th>2020-03-04 00:00:00</th>\n",
       "      <td>3</td>\n",
       "      <td>379</td>\n",
       "      <td>212</td>\n",
       "      <td>606</td>\n",
       "      <td>3.19</td>\n",
       "      <td>1</td>\n",
       "    </tr>\n",
       "    <tr>\n",
       "      <th>2020-03-04 00:00:00</th>\n",
       "      <td>4</td>\n",
       "      <td>798</td>\n",
       "      <td>1736</td>\n",
       "      <td>604</td>\n",
       "      <td>3.21</td>\n",
       "      <td>1</td>\n",
       "    </tr>\n",
       "    <tr>\n",
       "      <th>...</th>\n",
       "      <td>...</td>\n",
       "      <td>...</td>\n",
       "      <td>...</td>\n",
       "      <td>...</td>\n",
       "      <td>...</td>\n",
       "      <td>...</td>\n",
       "    </tr>\n",
       "    <tr>\n",
       "      <th>2020-04-30 23:59:00</th>\n",
       "      <td>835195</td>\n",
       "      <td>755</td>\n",
       "      <td>1743</td>\n",
       "      <td>318</td>\n",
       "      <td>3.21</td>\n",
       "      <td>1</td>\n",
       "    </tr>\n",
       "    <tr>\n",
       "      <th>2020-04-30 23:59:00</th>\n",
       "      <td>835196</td>\n",
       "      <td>385</td>\n",
       "      <td>206</td>\n",
       "      <td>317</td>\n",
       "      <td>3.19</td>\n",
       "      <td>1</td>\n",
       "    </tr>\n",
       "    <tr>\n",
       "      <th>2020-04-30 23:59:00</th>\n",
       "      <td>835197</td>\n",
       "      <td>465</td>\n",
       "      <td>148</td>\n",
       "      <td>316</td>\n",
       "      <td>3.20</td>\n",
       "      <td>1</td>\n",
       "    </tr>\n",
       "    <tr>\n",
       "      <th>2020-04-30 23:59:00</th>\n",
       "      <td>835198</td>\n",
       "      <td>467</td>\n",
       "      <td>0</td>\n",
       "      <td>314</td>\n",
       "      <td>3.19</td>\n",
       "      <td>1</td>\n",
       "    </tr>\n",
       "    <tr>\n",
       "      <th>2020-04-30 23:59:00</th>\n",
       "      <td>835199</td>\n",
       "      <td>453</td>\n",
       "      <td>125</td>\n",
       "      <td>312</td>\n",
       "      <td>3.20</td>\n",
       "      <td>1</td>\n",
       "    </tr>\n",
       "  </tbody>\n",
       "</table>\n",
       "<p>835200 rows × 6 columns</p>\n",
       "</div>"
      ],
      "text/plain": [
       "                        NUM  MELT_TEMP  MOTORSPEED  MELT_WEIGHT  INSP  TAG\n",
       "STD_DT                                                                    \n",
       "2020-03-04 00:00:00       0        489         116          631  3.19    1\n",
       "2020-03-04 00:00:00       1        433          78          609  3.19    1\n",
       "2020-03-04 00:00:00       2        464         154          608  3.19    1\n",
       "2020-03-04 00:00:00       3        379         212          606  3.19    1\n",
       "2020-03-04 00:00:00       4        798        1736          604  3.21    1\n",
       "...                     ...        ...         ...          ...   ...  ...\n",
       "2020-04-30 23:59:00  835195        755        1743          318  3.21    1\n",
       "2020-04-30 23:59:00  835196        385         206          317  3.19    1\n",
       "2020-04-30 23:59:00  835197        465         148          316  3.20    1\n",
       "2020-04-30 23:59:00  835198        467           0          314  3.19    1\n",
       "2020-04-30 23:59:00  835199        453         125          312  3.20    1\n",
       "\n",
       "[835200 rows x 6 columns]"
      ]
     },
     "execution_count": 11,
     "metadata": {},
     "output_type": "execute_result"
    }
   ],
   "source": [
    "df"
   ]
  },
  {
   "cell_type": "code",
   "execution_count": 12,
   "id": "personal-block",
   "metadata": {},
   "outputs": [
    {
     "data": {
      "text/html": [
       "<div>\n",
       "<style scoped>\n",
       "    .dataframe tbody tr th:only-of-type {\n",
       "        vertical-align: middle;\n",
       "    }\n",
       "\n",
       "    .dataframe tbody tr th {\n",
       "        vertical-align: top;\n",
       "    }\n",
       "\n",
       "    .dataframe thead th {\n",
       "        text-align: right;\n",
       "    }\n",
       "</style>\n",
       "<table border=\"1\" class=\"dataframe\">\n",
       "  <thead>\n",
       "    <tr style=\"text-align: right;\">\n",
       "      <th></th>\n",
       "      <th>NUM</th>\n",
       "      <th>MELT_TEMP</th>\n",
       "      <th>MOTORSPEED</th>\n",
       "      <th>MELT_WEIGHT</th>\n",
       "      <th>INSP</th>\n",
       "      <th>TAG</th>\n",
       "    </tr>\n",
       "  </thead>\n",
       "  <tbody>\n",
       "    <tr>\n",
       "      <th>NUM</th>\n",
       "      <td>1.000000</td>\n",
       "      <td>0.000188</td>\n",
       "      <td>-0.000050</td>\n",
       "      <td>0.080079</td>\n",
       "      <td>-0.000524</td>\n",
       "      <td>0.086698</td>\n",
       "    </tr>\n",
       "    <tr>\n",
       "      <th>MELT_TEMP</th>\n",
       "      <td>0.000188</td>\n",
       "      <td>1.000000</td>\n",
       "      <td>0.944929</td>\n",
       "      <td>-0.000336</td>\n",
       "      <td>0.916295</td>\n",
       "      <td>0.310586</td>\n",
       "    </tr>\n",
       "    <tr>\n",
       "      <th>MOTORSPEED</th>\n",
       "      <td>-0.000050</td>\n",
       "      <td>0.944929</td>\n",
       "      <td>1.000000</td>\n",
       "      <td>0.000123</td>\n",
       "      <td>0.887813</td>\n",
       "      <td>0.264693</td>\n",
       "    </tr>\n",
       "    <tr>\n",
       "      <th>MELT_WEIGHT</th>\n",
       "      <td>0.080079</td>\n",
       "      <td>-0.000336</td>\n",
       "      <td>0.000123</td>\n",
       "      <td>1.000000</td>\n",
       "      <td>-0.000005</td>\n",
       "      <td>-0.012084</td>\n",
       "    </tr>\n",
       "    <tr>\n",
       "      <th>INSP</th>\n",
       "      <td>-0.000524</td>\n",
       "      <td>0.916295</td>\n",
       "      <td>0.887813</td>\n",
       "      <td>-0.000005</td>\n",
       "      <td>1.000000</td>\n",
       "      <td>0.272580</td>\n",
       "    </tr>\n",
       "    <tr>\n",
       "      <th>TAG</th>\n",
       "      <td>0.086698</td>\n",
       "      <td>0.310586</td>\n",
       "      <td>0.264693</td>\n",
       "      <td>-0.012084</td>\n",
       "      <td>0.272580</td>\n",
       "      <td>1.000000</td>\n",
       "    </tr>\n",
       "  </tbody>\n",
       "</table>\n",
       "</div>"
      ],
      "text/plain": [
       "                  NUM  MELT_TEMP  MOTORSPEED  MELT_WEIGHT      INSP       TAG\n",
       "NUM          1.000000   0.000188   -0.000050     0.080079 -0.000524  0.086698\n",
       "MELT_TEMP    0.000188   1.000000    0.944929    -0.000336  0.916295  0.310586\n",
       "MOTORSPEED  -0.000050   0.944929    1.000000     0.000123  0.887813  0.264693\n",
       "MELT_WEIGHT  0.080079  -0.000336    0.000123     1.000000 -0.000005 -0.012084\n",
       "INSP        -0.000524   0.916295    0.887813    -0.000005  1.000000  0.272580\n",
       "TAG          0.086698   0.310586    0.264693    -0.012084  0.272580  1.000000"
      ]
     },
     "execution_count": 12,
     "metadata": {},
     "output_type": "execute_result"
    }
   ],
   "source": [
    "corr = df.corr(method = 'pearson') \n",
    "corr"
   ]
  },
  {
   "cell_type": "code",
   "execution_count": 13,
   "id": "killing-capitol",
   "metadata": {
    "scrolled": true
   },
   "outputs": [
    {
     "data": {
      "image/png": "[encoded data removed]",
      "text/plain": [
       "<Figure size 432x288 with 2 Axes>"
      ]
     },
     "metadata": {
      "needs_background": "light"
     },
     "output_type": "display_data"
    }
   ],
   "source": [
    "sns.heatmap(corr, annot=True, cmap='coolwarm')\n",
    "plt.show()"
   ]
  },
  {
   "cell_type": "markdown",
   "id": "temporal-chancellor",
   "metadata": {},
   "source": [
    "## 6. Train/Test Split"
   ]
  },
  {
   "cell_type": "code",
   "execution_count": 14,
   "id": "latter-assumption",
   "metadata": {},
   "outputs": [
    {
     "name": "stdout",
     "output_type": "stream",
     "text": [
      "(584640, 3)\n",
      "(250560, 3)\n",
      "(584640,)\n",
      "(250560,)\n"
     ]
    }
   ],
   "source": [
    "from sklearn.model_selection import train_test_split\n",
    "\n",
    "X = df[['MELT_TEMP', 'MOTORSPEED', 'INSP']]\n",
    "y = df['TAG']\n",
    "\n",
    "X_train, X_test, y_train, y_test = train_test_split(X, y,\n",
    "                                                    test_size=0.3, random_state=10)\n",
    "\n",
    "print(X_train.shape)\n",
    "print(X_test.shape)\n",
    "print(y_train.shape)\n",
    "print(y_test.shape)"
   ]
  },
  {
   "cell_type": "markdown",
   "id": "imperial-biography",
   "metadata": {},
   "source": [
    "## 7. Supervised: XGB Classifier"
   ]
  },
  {
   "cell_type": "code",
   "execution_count": 15,
   "id": "optical-endorsement",
   "metadata": {
    "scrolled": true
   },
   "outputs": [
    {
     "name": "stderr",
     "output_type": "stream",
     "text": [
      "/Users/limkahyun/anaconda3/envs/sona/lib/python3.9/site-packages/xgboost/sklearn.py:888: UserWarning: The use of label encoder in XGBClassifier is deprecated and will be removed in a future release. To remove this warning, do the following: 1) Pass option use_label_encoder=False when constructing XGBClassifier object; and 2) Encode your labels (y) as integers starting with 0, i.e. 0, 1, 2, ..., [num_class - 1].\n",
      "  warnings.warn(label_encoder_deprecation_msg, UserWarning)\n"
     ]
    },
    {
     "name": "stdout",
     "output_type": "stream",
     "text": [
      "[11:02:48] WARNING: /opt/concourse/worker/volumes/live/7a2b9f41-3287-451b-6691-43e9a6c0910f/volume/xgboost-split_1619728204606/work/src/learner.cc:1061: Starting in XGBoost 1.3.0, the default evaluation metric used with the objective 'binary:logistic' was changed from 'error' to 'logloss'. Explicitly set eval_metric if you'd like to restore the old behavior.\n"
     ]
    }
   ],
   "source": [
    "from sklearn.pipeline import Pipeline\n",
    "from sklearn.preprocessing import MinMaxScaler\n",
    "from xgboost import XGBClassifier\n",
    "\n",
    "xgb_pipeline = Pipeline([\n",
    "    ('scale', MinMaxScaler()),\n",
    "    ('xgb', XGBClassifier())\n",
    "]).fit(X_train, y_train)\n",
    "xgb_preds = xgb_pipeline.predict(X_test)"
   ]
  },
  {
   "cell_type": "code",
   "execution_count": 16,
   "id": "collectible-coverage",
   "metadata": {
    "scrolled": true
   },
   "outputs": [
    {
     "name": "stdout",
     "output_type": "stream",
     "text": [
      "Accuracy: 0.7871527777777778\n",
      "              precision    recall  f1-score   support\n",
      "\n",
      "           0       0.43      0.00      0.01     53269\n",
      "           1       0.79      1.00      0.88    197291\n",
      "\n",
      "    accuracy                           0.79    250560\n",
      "   macro avg       0.61      0.50      0.44    250560\n",
      "weighted avg       0.71      0.79      0.70    250560\n",
      "\n"
     ]
    }
   ],
   "source": [
    "from sklearn.metrics import accuracy_score, confusion_matrix, classification_report\n",
    "from sklearn.metrics import plot_confusion_matrix\n",
    "\n",
    "xgb_accuracy = accuracy_score(y_test, xgb_preds)\n",
    "\n",
    "print(\"Accuracy:\", xgb_accuracy)\n",
    "print(classification_report(y_test, xgb_preds))"
   ]
  },
  {
   "cell_type": "code",
   "execution_count": 17,
   "id": "median-exhaust",
   "metadata": {
    "scrolled": true
   },
   "outputs": [
    {
     "data": {
      "text/plain": [
       "<Figure size 504x504 with 0 Axes>"
      ]
     },
     "metadata": {},
     "output_type": "display_data"
    },
    {
     "data": {
      "image/png": "[encoded data removed]",
      "text/plain": [
       "<Figure size 432x288 with 2 Axes>"
      ]
     },
     "metadata": {
      "needs_background": "light"
     },
     "output_type": "display_data"
    }
   ],
   "source": [
    "plt.figure(figsize=(7, 7))\n",
    "plot_confusion_matrix(xgb_pipeline, X_test, y_test,\n",
    "                      cmap=plt.cm.Blues)\n",
    "\n",
    "plt.show()"
   ]
  },
  {
   "cell_type": "markdown",
   "id": "understood-spanking",
   "metadata": {},
   "source": [
    "## 7-2 Supervised + SMOTE "
   ]
  },
  {
   "cell_type": "code",
   "execution_count": 18,
   "id": "determined-greensboro",
   "metadata": {},
   "outputs": [],
   "source": [
    "from imblearn.over_sampling import SMOTE\n",
    "\n",
    "smote = SMOTE(random_state=0)\n",
    "X_train, y_train = smote.fit_resample(X_train , y_train)"
   ]
  },
  {
   "cell_type": "code",
   "execution_count": 19,
   "id": "referenced-bhutan",
   "metadata": {
    "scrolled": true
   },
   "outputs": [
    {
     "name": "stderr",
     "output_type": "stream",
     "text": [
      "/Users/limkahyun/anaconda3/envs/sona/lib/python3.9/site-packages/xgboost/sklearn.py:888: UserWarning: The use of label encoder in XGBClassifier is deprecated and will be removed in a future release. To remove this warning, do the following: 1) Pass option use_label_encoder=False when constructing XGBClassifier object; and 2) Encode your labels (y) as integers starting with 0, i.e. 0, 1, 2, ..., [num_class - 1].\n",
      "  warnings.warn(label_encoder_deprecation_msg, UserWarning)\n"
     ]
    },
    {
     "name": "stdout",
     "output_type": "stream",
     "text": [
      "[11:02:57] WARNING: /opt/concourse/worker/volumes/live/7a2b9f41-3287-451b-6691-43e9a6c0910f/volume/xgboost-split_1619728204606/work/src/learner.cc:1061: Starting in XGBoost 1.3.0, the default evaluation metric used with the objective 'binary:logistic' was changed from 'error' to 'logloss'. Explicitly set eval_metric if you'd like to restore the old behavior.\n"
     ]
    }
   ],
   "source": [
    "xgb_pipeline = Pipeline([\n",
    "    ('scale', MinMaxScaler()),\n",
    "    ('xgb', XGBClassifier())\n",
    "]).fit(X_train, y_train)\n",
    "xgb_preds = xgb_pipeline.predict(X_test)"
   ]
  },
  {
   "cell_type": "code",
   "execution_count": 20,
   "id": "twelve-encyclopedia",
   "metadata": {},
   "outputs": [
    {
     "name": "stdout",
     "output_type": "stream",
     "text": [
      "Accuracy: 0.6894516283524904\n",
      "              precision    recall  f1-score   support\n",
      "\n",
      "           0       0.39      0.82      0.53     53269\n",
      "           1       0.93      0.65      0.77    197291\n",
      "\n",
      "    accuracy                           0.69    250560\n",
      "   macro avg       0.66      0.74      0.65    250560\n",
      "weighted avg       0.82      0.69      0.72    250560\n",
      "\n"
     ]
    }
   ],
   "source": [
    "xgb_accuracy = accuracy_score(y_test, xgb_preds)\n",
    "\n",
    "print(\"Accuracy:\", xgb_accuracy)\n",
    "print(classification_report(y_test, xgb_preds))"
   ]
  },
  {
   "cell_type": "markdown",
   "id": "driving-picnic",
   "metadata": {},
   "source": [
    "## 8. Supervised: LSTM + SMOTE"
   ]
  },
  {
   "cell_type": "markdown",
   "id": "brave-fishing",
   "metadata": {},
   "source": [
    "### 8-1 Input Dataset 만들기\n",
    "`(data, window, features)` "
   ]
  },
  {
   "cell_type": "code",
   "execution_count": 22,
   "id": "dried-lightning",
   "metadata": {},
   "outputs": [],
   "source": [
    "def make_dataset(data, label, window_size):\n",
    "    feature_list = []\n",
    "    label_list = []\n",
    "    \n",
    "    for i in range(len(data) - window_size):\n",
    "        feature_list.append(data[i:i+window_size])\n",
    "        label_list.append(label[i+window_size])\n",
    "    \n",
    "    return np.array(feature_list), np.array(label_list)"
   ]
  },
  {
   "cell_type": "code",
   "execution_count": 23,
   "id": "diverse-journalist",
   "metadata": {},
   "outputs": [],
   "source": [
    "scaler = MinMaxScaler()\n",
    "\n",
    "train_scaled = scaler.fit_transform(X_train)\n",
    "test_scaled = scaler.transform(X_test)"
   ]
  },
  {
   "cell_type": "code",
   "execution_count": 24,
   "id": "rational-height",
   "metadata": {},
   "outputs": [
    {
     "data": {
      "text/plain": [
       "array([[0.27099237, 0.03603104, 0.33333333],\n",
       "       [0.23282443, 0.04878049, 0.33333333],\n",
       "       [0.29389313, 0.08980044, 0.33333333],\n",
       "       ...,\n",
       "       [0.38358779, 0.08813747, 0.33333333],\n",
       "       [0.24045802, 0.07261641, 0.33333333],\n",
       "       [0.1889313 , 0.03603104, 0.33333333]])"
      ]
     },
     "execution_count": 24,
     "metadata": {},
     "output_type": "execute_result"
    }
   ],
   "source": [
    "train_scaled"
   ]
  },
  {
   "cell_type": "code",
   "execution_count": 25,
   "id": "steady-rogers",
   "metadata": {},
   "outputs": [],
   "source": [
    "train_feature, train_label = make_dataset(train_scaled, y_train, 10)\n",
    "test_feature, test_label = make_dataset(test_scaled, y_test, 10)"
   ]
  },
  {
   "cell_type": "code",
   "execution_count": 26,
   "id": "neither-mexico",
   "metadata": {},
   "outputs": [
    {
     "name": "stdout",
     "output_type": "stream",
     "text": [
      "(921674, 10, 3)\n",
      "(921674,)\n",
      "(250550, 10, 3)\n",
      "(250550,)\n"
     ]
    }
   ],
   "source": [
    "print(train_feature.shape)\n",
    "print(train_label.shape)\n",
    "print(test_feature.shape)\n",
    "print(test_label.shape)"
   ]
  },
  {
   "cell_type": "markdown",
   "id": "stone-recording",
   "metadata": {},
   "source": [
    "### 8-2 Train/Valid set Split"
   ]
  },
  {
   "cell_type": "code",
   "execution_count": 27,
   "id": "appointed-offer",
   "metadata": {},
   "outputs": [
    {
     "data": {
      "text/plain": [
       "((645171, 10, 3), (276503, 10, 3))"
      ]
     },
     "execution_count": 27,
     "metadata": {},
     "output_type": "execute_result"
    }
   ],
   "source": [
    "# train, validation set 생성\n",
    "X_train, X_valid, y_train, y_valid = train_test_split(train_feature, train_label, test_size=0.3)\n",
    "\n",
    "X_train.shape, X_valid.shape"
   ]
  },
  {
   "cell_type": "markdown",
   "id": "coordinate-perfume",
   "metadata": {},
   "source": [
    "### 8-3 Model Build"
   ]
  },
  {
   "cell_type": "code",
   "execution_count": 28,
   "id": "anonymous-model",
   "metadata": {},
   "outputs": [],
   "source": [
    "import tensorflow as tf\n",
    "from tensorflow.keras.models import Sequential\n",
    "from tensorflow.keras.layers import Dense, LSTM\n",
    "from tensorflow.keras.preprocessing import sequence\n",
    "#from tensorflow.keras.utils import np_utils\n",
    "from tensorflow.keras.callbacks import EarlyStopping, ModelCheckpoint"
   ]
  },
  {
   "cell_type": "code",
   "execution_count": 29,
   "id": "federal-advertising",
   "metadata": {},
   "outputs": [
    {
     "name": "stdout",
     "output_type": "stream",
     "text": [
      "Model: \"sequential\"\n",
      "_________________________________________________________________\n",
      "Layer (type)                 Output Shape              Param #   \n",
      "=================================================================\n",
      "lstm (LSTM)                  (None, 50)                10800     \n",
      "_________________________________________________________________\n",
      "dense (Dense)                (None, 1)                 51        \n",
      "=================================================================\n",
      "Total params: 10,851\n",
      "Trainable params: 10,851\n",
      "Non-trainable params: 0\n",
      "_________________________________________________________________\n"
     ]
    }
   ],
   "source": [
    "model = Sequential()\n",
    "model.add(LSTM(50, \n",
    "               input_shape=(train_feature.shape[1], train_feature.shape[2]), \n",
    "               activation='tanh', \n",
    "               return_sequences=False)\n",
    "          )\n",
    "model.add(Dense(1, activation='sigmoid'))\n",
    "model.summary()"
   ]
  },
  {
   "cell_type": "code",
   "execution_count": 30,
   "id": "upset-customs",
   "metadata": {},
   "outputs": [],
   "source": [
    "model.compile(loss='binary_crossentropy', \n",
    "              optimizer='adam', \n",
    "              metrics=['accuracy'],) \n",
    "\n",
    "early_stop = EarlyStopping(monitor='val_loss', patience=5)\n",
    "filename = os.path.join('tmp_checkpoint.h5')\n",
    "checkpoint = ModelCheckpoint(filename, monitor='val_loss', verbose=0, \n",
    "                             save_best_only=True, mode='auto')"
   ]
  },
  {
   "cell_type": "markdown",
   "id": "sitting-turning",
   "metadata": {},
   "source": [
    "### 8-4 LSTM 학습하기"
   ]
  },
  {
   "cell_type": "code",
   "execution_count": null,
   "id": "going-stewart",
   "metadata": {
    "collapsed": true,
    "jupyter": {
     "outputs_hidden": true
    },
    "tags": []
   },
   "outputs": [
    {
     "name": "stdout",
     "output_type": "stream",
     "text": [
      "Epoch 1/200\n",
      "2521/2521 [==============================] - 27s 10ms/step - loss: 0.4274 - accuracy: 0.8246 - val_loss: 0.4191 - val_accuracy: 0.8288\n",
      "Epoch 2/200\n",
      "2521/2521 [==============================] - 26s 10ms/step - loss: 0.4146 - accuracy: 0.8322 - val_loss: 0.4152 - val_accuracy: 0.8297\n",
      "Epoch 3/200\n",
      "2521/2521 [==============================] - 27s 11ms/step - loss: 0.4128 - accuracy: 0.8327 - val_loss: 0.4188 - val_accuracy: 0.8313\n",
      "Epoch 4/200\n",
      "2521/2521 [==============================] - 26s 10ms/step - loss: 0.4110 - accuracy: 0.8333 - val_loss: 0.4105 - val_accuracy: 0.8321\n",
      "Epoch 5/200\n",
      "2521/2521 [==============================] - 26s 10ms/step - loss: 0.4083 - accuracy: 0.8338 - val_loss: 0.4133 - val_accuracy: 0.8313\n",
      "Epoch 6/200\n",
      "2521/2521 [==============================] - 27s 11ms/step - loss: 0.4068 - accuracy: 0.8341 - val_loss: 0.4096 - val_accuracy: 0.8321\n",
      "Epoch 7/200\n",
      "2521/2521 [==============================] - 25s 10ms/step - loss: 0.4055 - accuracy: 0.8345 - val_loss: 0.4072 - val_accuracy: 0.8327\n",
      "Epoch 8/200\n",
      "2521/2521 [==============================] - 25s 10ms/step - loss: 0.4046 - accuracy: 0.8351 - val_loss: 0.4064 - val_accuracy: 0.8336\n",
      "Epoch 9/200\n",
      "2521/2521 [==============================] - 25s 10ms/step - loss: 0.4037 - accuracy: 0.8353 - val_loss: 0.4066 - val_accuracy: 0.8337\n",
      "Epoch 10/200\n",
      "2521/2521 [==============================] - 26s 10ms/step - loss: 0.4025 - accuracy: 0.8357 - val_loss: 0.4039 - val_accuracy: 0.8344\n",
      "Epoch 11/200\n",
      "2521/2521 [==============================] - 27s 11ms/step - loss: 0.4011 - accuracy: 0.8363 - val_loss: 0.4034 - val_accuracy: 0.8343\n",
      "Epoch 12/200\n",
      "2521/2521 [==============================] - 26s 10ms/step - loss: 0.3995 - accuracy: 0.8370 - val_loss: 0.4036 - val_accuracy: 0.8355\n",
      "Epoch 13/200\n",
      "2521/2521 [==============================] - 26s 10ms/step - loss: 0.3982 - accuracy: 0.8375 - val_loss: 0.4004 - val_accuracy: 0.8355\n",
      "Epoch 14/200\n",
      "2521/2521 [==============================] - 27s 11ms/step - loss: 0.3973 - accuracy: 0.8379 - val_loss: 0.4008 - val_accuracy: 0.8361\n",
      "Epoch 15/200\n",
      "2521/2521 [==============================] - 27s 11ms/step - loss: 0.3963 - accuracy: 0.8381 - val_loss: 0.3978 - val_accuracy: 0.8367\n",
      "Epoch 16/200\n",
      "2521/2521 [==============================] - 27s 11ms/step - loss: 0.3952 - accuracy: 0.8385 - val_loss: 0.3967 - val_accuracy: 0.8369\n",
      "Epoch 17/200\n",
      "2521/2521 [==============================] - 27s 11ms/step - loss: 0.3940 - accuracy: 0.8390 - val_loss: 0.3964 - val_accuracy: 0.8374\n",
      "Epoch 18/200\n",
      "2521/2521 [==============================] - 25s 10ms/step - loss: 0.3930 - accuracy: 0.8396 - val_loss: 0.3958 - val_accuracy: 0.8373\n",
      "Epoch 19/200\n",
      "2521/2521 [==============================] - 26s 10ms/step - loss: 0.3918 - accuracy: 0.8400 - val_loss: 0.3935 - val_accuracy: 0.8388\n",
      "Epoch 20/200\n",
      "2521/2521 [==============================] - 27s 11ms/step - loss: 0.3893 - accuracy: 0.8407 - val_loss: 0.3902 - val_accuracy: 0.8388\n",
      "Epoch 21/200\n",
      "2521/2521 [==============================] - 28s 11ms/step - loss: 0.3852 - accuracy: 0.8418 - val_loss: 0.3863 - val_accuracy: 0.8405\n",
      "Epoch 22/200\n",
      "2521/2521 [==============================] - 28s 11ms/step - loss: 0.3828 - accuracy: 0.8424 - val_loss: 0.3828 - val_accuracy: 0.8417\n",
      "Epoch 23/200\n",
      "2521/2521 [==============================] - 29s 11ms/step - loss: 0.3807 - accuracy: 0.8431 - val_loss: 0.3821 - val_accuracy: 0.8421\n",
      "Epoch 24/200\n",
      "2521/2521 [==============================] - 29s 11ms/step - loss: 0.3792 - accuracy: 0.8434 - val_loss: 0.3796 - val_accuracy: 0.8424\n",
      "Epoch 25/200\n",
      "2521/2521 [==============================] - 31s 12ms/step - loss: 0.3771 - accuracy: 0.8442 - val_loss: 0.3776 - val_accuracy: 0.8429\n",
      "Epoch 26/200\n",
      "2521/2521 [==============================] - 47s 19ms/step - loss: 0.3745 - accuracy: 0.8449 - val_loss: 0.3751 - val_accuracy: 0.8437\n",
      "Epoch 27/200\n",
      "2521/2521 [==============================] - 51s 20ms/step - loss: 0.3724 - accuracy: 0.8455 - val_loss: 0.3737 - val_accuracy: 0.8443\n",
      "Epoch 28/200\n",
      "2521/2521 [==============================] - 49s 19ms/step - loss: 0.3710 - accuracy: 0.8459 - val_loss: 0.3727 - val_accuracy: 0.8448\n",
      "Epoch 29/200\n",
      "2521/2521 [==============================] - 48s 19ms/step - loss: 0.3695 - accuracy: 0.8464 - val_loss: 0.3720 - val_accuracy: 0.8445\n",
      "Epoch 30/200\n",
      "2521/2521 [==============================] - 43s 17ms/step - loss: 0.3686 - accuracy: 0.8467 - val_loss: 0.3713 - val_accuracy: 0.8452\n",
      "Epoch 31/200\n",
      "2521/2521 [==============================] - 40s 16ms/step - loss: 0.3676 - accuracy: 0.8470 - val_loss: 0.3694 - val_accuracy: 0.8457\n",
      "Epoch 32/200\n",
      "2521/2521 [==============================] - 43s 17ms/step - loss: 0.3671 - accuracy: 0.8471 - val_loss: 0.3747 - val_accuracy: 0.8437\n",
      "Epoch 33/200\n",
      "2521/2521 [==============================] - 45s 18ms/step - loss: 0.3665 - accuracy: 0.8474 - val_loss: 0.3712 - val_accuracy: 0.8451\n",
      "Epoch 34/200\n",
      "2521/2521 [==============================] - 46s 18ms/step - loss: 0.3659 - accuracy: 0.8474 - val_loss: 0.3687 - val_accuracy: 0.8458\n",
      "Epoch 35/200\n",
      "2521/2521 [==============================] - 48s 19ms/step - loss: 0.3656 - accuracy: 0.8476 - val_loss: 0.3676 - val_accuracy: 0.8461\n",
      "Epoch 36/200\n",
      "2521/2521 [==============================] - 44s 18ms/step - loss: 0.3650 - accuracy: 0.8478 - val_loss: 0.3669 - val_accuracy: 0.8467\n",
      "Epoch 37/200\n",
      "2521/2521 [==============================] - 47s 19ms/step - loss: 0.3649 - accuracy: 0.8480 - val_loss: 0.3672 - val_accuracy: 0.8460\n",
      "Epoch 38/200\n",
      "2521/2521 [==============================] - 49s 19ms/step - loss: 0.3643 - accuracy: 0.8481 - val_loss: 0.3665 - val_accuracy: 0.8468\n",
      "Epoch 39/200\n",
      "2521/2521 [==============================] - 49s 20ms/step - loss: 0.3639 - accuracy: 0.8482 - val_loss: 0.3666 - val_accuracy: 0.8472\n",
      "Epoch 40/200\n",
      "2521/2521 [==============================] - 49s 19ms/step - loss: 0.3644 - accuracy: 0.8481 - val_loss: 0.3659 - val_accuracy: 0.8468\n",
      "Epoch 41/200\n",
      "2521/2521 [==============================] - 50s 20ms/step - loss: 0.3637 - accuracy: 0.8482 - val_loss: 0.3654 - val_accuracy: 0.8472\n",
      "Epoch 42/200\n",
      "2521/2521 [==============================] - 56s 22ms/step - loss: 0.3635 - accuracy: 0.8484 - val_loss: 0.3660 - val_accuracy: 0.8467\n",
      "Epoch 43/200\n",
      "2521/2521 [==============================] - 53s 21ms/step - loss: 0.3635 - accuracy: 0.8484 - val_loss: 0.3669 - val_accuracy: 0.8466\n",
      "Epoch 44/200\n",
      "2521/2521 [==============================] - 50s 20ms/step - loss: 0.3630 - accuracy: 0.8485 - val_loss: 0.3650 - val_accuracy: 0.8468\n",
      "Epoch 45/200\n",
      "2521/2521 [==============================] - 53s 21ms/step - loss: 0.3631 - accuracy: 0.8486 - val_loss: 0.3659 - val_accuracy: 0.8465\n",
      "Epoch 46/200\n",
      "2521/2521 [==============================] - 53s 21ms/step - loss: 0.3630 - accuracy: 0.8486 - val_loss: 0.3678 - val_accuracy: 0.8462\n",
      "Epoch 47/200\n",
      "2521/2521 [==============================] - 52s 21ms/step - loss: 0.3624 - accuracy: 0.8488 - val_loss: 0.3641 - val_accuracy: 0.8478\n",
      "Epoch 48/200\n",
      "2521/2521 [==============================] - 61s 24ms/step - loss: 0.3625 - accuracy: 0.8488 - val_loss: 0.3660 - val_accuracy: 0.8470\n",
      "Epoch 49/200\n",
      "2521/2521 [==============================] - 61s 24ms/step - loss: 0.3621 - accuracy: 0.8489 - val_loss: 0.3656 - val_accuracy: 0.8471\n",
      "Epoch 50/200\n",
      "  58/2521 [..............................] - ETA: 44s - loss: 0.3633 - accuracy: 0.8497"
     ]
    }
   ],
   "source": [
    "history = model.fit(X_train, y_train, \n",
    "                    epochs=200, \n",
    "                    batch_size=256,\n",
    "                    validation_data=(X_valid, y_valid),\n",
    "                    callbacks=[early_stop, checkpoint])"
   ]
  },
  {
   "cell_type": "code",
   "execution_count": null,
   "id": "8b67c721-2a57-42a2-bb64-f096f5a0115b",
   "metadata": {},
   "outputs": [],
   "source": [
    "model.evaluate(test_feature, test_label)"
   ]
  },
  {
   "cell_type": "code",
   "execution_count": null,
   "id": "prime-number",
   "metadata": {},
   "outputs": [],
   "source": [
    "model.load_weights(filename)\n",
    "lstm_preds = model.predict_classes(test_feature)\n",
    "lstm_preds"
   ]
  },
  {
   "cell_type": "code",
   "execution_count": null,
   "id": "f7d4b5fe-837b-4080-b79e-e139fa7d6ad4",
   "metadata": {},
   "outputs": [],
   "source": [
    "plt.plot(history.history['loss'], label='train')\n",
    "plt.plot(history.history['val_loss'], label='validation')\n",
    "plt.legend()\n",
    "\n",
    "plt.show()"
   ]
  },
  {
   "cell_type": "code",
   "execution_count": null,
   "id": "27d39c98-ad6b-4654-a952-9951a25f0f0e",
   "metadata": {},
   "outputs": [],
   "source": [
    "_, accuracy = model.evaluate(test_feature, test_label)\n",
    "\n",
    "print(\"Accuracy:\", accuracy)\n",
    "print(classification_report(test_label, lstm_preds))"
   ]
  },
  {
   "cell_type": "code",
   "execution_count": null,
   "id": "344ef662-5052-4346-b997-571d6e862b60",
   "metadata": {},
   "outputs": [],
   "source": []
  }
 ],
 "metadata": {
  "kernelspec": {
   "display_name": "sona",
   "language": "python",
   "name": "sona"
  },
  "language_info": {
   "codemirror_mode": {
    "name": "ipython",
    "version": 3
   },
   "file_extension": ".py",
   "mimetype": "text/x-python",
   "name": "python",
   "nbconvert_exporter": "python",
   "pygments_lexer": "ipython3",
   "version": "3.9.4"
  }
 },
 "nbformat": 4,
 "nbformat_minor": 5
}

{
 "cells": [
  {
   "cell_type": "markdown",
   "id": "exposed-rainbow",
   "metadata": {},
   "source": [
    "# 프로젝트 실습 #3: 건조구동장치"
   ]
  },
  {
   "cell_type": "code",
   "execution_count": 4,
   "id": "perceived-productivity",
   "metadata": {},
   "outputs": [],
   "source": [
    "import pandas as pd\n",
    "import numpy as np\n",
    "import seaborn as sns\n",
    "import matplotlib.pyplot as plt"
   ]
  },
  {
   "cell_type": "markdown",
   "id": "organizational-garlic",
   "metadata": {},
   "source": [
    "## 1. 데이터 불러오기"
   ]
  },
  {
   "cell_type": "code",
   "execution_count": 7,
   "id": "lyric-dodge",
   "metadata": {},
   "outputs": [
    {
     "name": "stdout",
     "output_type": "stream",
     "text": [
      "(1709056, 2)\n",
      "(1709056, 2)\n"
     ]
    }
   ],
   "source": [
    "raw_df1 = pd.read_csv('./data/drying_actuator1.csv')\n",
    "raw_df2 = pd.read_csv('./data/drying_actuator2.csv')\n",
    "print(raw_df1.shape)\n",
    "print(raw_df2.shape)"
   ]
  },
  {
   "cell_type": "code",
   "execution_count": 8,
   "id": "average-passage",
   "metadata": {
    "scrolled": true
   },
   "outputs": [
    {
     "data": {
      "text/html": [
       "<div>\n",
       "<style scoped>\n",
       "    .dataframe tbody tr th:only-of-type {\n",
       "        vertical-align: middle;\n",
       "    }\n",
       "\n",
       "    .dataframe tbody tr th {\n",
       "        vertical-align: top;\n",
       "    }\n",
       "\n",
       "    .dataframe thead th {\n",
       "        text-align: right;\n",
       "    }\n",
       "</style>\n",
       "<table border=\"1\" class=\"dataframe\">\n",
       "  <thead>\n",
       "    <tr style=\"text-align: right;\">\n",
       "      <th></th>\n",
       "      <th>Date</th>\n",
       "      <th>Sensor</th>\n",
       "    </tr>\n",
       "  </thead>\n",
       "  <tbody>\n",
       "    <tr>\n",
       "      <th>0</th>\n",
       "      <td>2020-11-07T00:11:11.302000+00:00</td>\n",
       "      <td>0.000000</td>\n",
       "    </tr>\n",
       "    <tr>\n",
       "      <th>1</th>\n",
       "      <td>2020-11-07T00:11:11.302000+00:00</td>\n",
       "      <td>0.000000</td>\n",
       "    </tr>\n",
       "    <tr>\n",
       "      <th>2</th>\n",
       "      <td>2020-11-07T00:11:11.302000+00:00</td>\n",
       "      <td>0.000000</td>\n",
       "    </tr>\n",
       "    <tr>\n",
       "      <th>3</th>\n",
       "      <td>2020-11-07T00:11:11.302000+00:00</td>\n",
       "      <td>0.000000</td>\n",
       "    </tr>\n",
       "    <tr>\n",
       "      <th>4</th>\n",
       "      <td>2020-11-07T00:11:11.302000+00:00</td>\n",
       "      <td>0.000000</td>\n",
       "    </tr>\n",
       "    <tr>\n",
       "      <th>...</th>\n",
       "      <td>...</td>\n",
       "      <td>...</td>\n",
       "    </tr>\n",
       "    <tr>\n",
       "      <th>1709051</th>\n",
       "      <td>2021-11-20T07:56:37.294000+00:00</td>\n",
       "      <td>1.542188</td>\n",
       "    </tr>\n",
       "    <tr>\n",
       "      <th>1709052</th>\n",
       "      <td>2021-11-20T07:56:37.294000+00:00</td>\n",
       "      <td>-0.242188</td>\n",
       "    </tr>\n",
       "    <tr>\n",
       "      <th>1709053</th>\n",
       "      <td>2021-11-20T07:56:37.294000+00:00</td>\n",
       "      <td>-0.140625</td>\n",
       "    </tr>\n",
       "    <tr>\n",
       "      <th>1709054</th>\n",
       "      <td>2021-11-20T07:56:37.294000+00:00</td>\n",
       "      <td>0.328125</td>\n",
       "    </tr>\n",
       "    <tr>\n",
       "      <th>1709055</th>\n",
       "      <td>2021-11-20T07:56:37.294000+00:00</td>\n",
       "      <td>0.242188</td>\n",
       "    </tr>\n",
       "  </tbody>\n",
       "</table>\n",
       "<p>3418112 rows × 2 columns</p>\n",
       "</div>"
      ],
      "text/plain": [
       "                                     Date    Sensor\n",
       "0        2020-11-07T00:11:11.302000+00:00  0.000000\n",
       "1        2020-11-07T00:11:11.302000+00:00  0.000000\n",
       "2        2020-11-07T00:11:11.302000+00:00  0.000000\n",
       "3        2020-11-07T00:11:11.302000+00:00  0.000000\n",
       "4        2020-11-07T00:11:11.302000+00:00  0.000000\n",
       "...                                   ...       ...\n",
       "1709051  2021-11-20T07:56:37.294000+00:00  1.542188\n",
       "1709052  2021-11-20T07:56:37.294000+00:00 -0.242188\n",
       "1709053  2021-11-20T07:56:37.294000+00:00 -0.140625\n",
       "1709054  2021-11-20T07:56:37.294000+00:00  0.328125\n",
       "1709055  2021-11-20T07:56:37.294000+00:00  0.242188\n",
       "\n",
       "[3418112 rows x 2 columns]"
      ]
     },
     "execution_count": 8,
     "metadata": {},
     "output_type": "execute_result"
    }
   ],
   "source": [
    "raw_df = pd.concat([raw_df1, raw_df2], axis=0)\n",
    "raw_df"
   ]
  },
  {
   "cell_type": "markdown",
   "id": "naughty-terror",
   "metadata": {},
   "source": [
    "## 2. 데이터 탐색"
   ]
  },
  {
   "cell_type": "code",
   "execution_count": 4,
   "id": "comparative-colleague",
   "metadata": {},
   "outputs": [
    {
     "data": {
      "text/plain": [
       "(3418112, 2)"
      ]
     },
     "execution_count": 4,
     "metadata": {},
     "output_type": "execute_result"
    }
   ],
   "source": [
    "raw_df.shape"
   ]
  },
  {
   "cell_type": "code",
   "execution_count": 5,
   "id": "round-tunisia",
   "metadata": {},
   "outputs": [
    {
     "data": {
      "text/plain": [
       "(3418112, 2)"
      ]
     },
     "execution_count": 5,
     "metadata": {},
     "output_type": "execute_result"
    }
   ],
   "source": [
    "raw_df.shape"
   ]
  },
  {
   "cell_type": "code",
   "execution_count": 6,
   "id": "great-nomination",
   "metadata": {},
   "outputs": [
    {
     "data": {
      "text/plain": [
       "Date      0\n",
       "Sensor    0\n",
       "dtype: int64"
      ]
     },
     "execution_count": 6,
     "metadata": {},
     "output_type": "execute_result"
    }
   ],
   "source": [
    "raw_df.isnull().sum()"
   ]
  },
  {
   "cell_type": "code",
   "execution_count": 7,
   "id": "latin-repository",
   "metadata": {},
   "outputs": [
    {
     "data": {
      "text/plain": [
       "2020-11-18T05:14:23.408000+00:00    2048\n",
       "2020-11-18T05:15:55.289000+00:00    2048\n",
       "2021-11-18T05:14:23.408000+00:00    2048\n",
       "2021-11-18T05:15:55.289000+00:00    2048\n",
       "2020-11-07T00:11:11.302000+00:00    1024\n",
       "                                    ... \n",
       "2020-11-15T21:03:50.757000+00:00    1024\n",
       "2020-11-15T21:14:47.905000+00:00    1024\n",
       "2020-11-15T21:25:53.654000+00:00    1024\n",
       "2020-11-15T21:38:59.910000+00:00    1024\n",
       "2021-11-20T07:56:37.294000+00:00    1024\n",
       "Name: Date, Length: 3334, dtype: int64"
      ]
     },
     "execution_count": 7,
     "metadata": {},
     "output_type": "execute_result"
    }
   ],
   "source": [
    "raw_df['Date'].value_counts()"
   ]
  },
  {
   "cell_type": "code",
   "execution_count": 8,
   "id": "earned-korea",
   "metadata": {},
   "outputs": [
    {
     "name": "stdout",
     "output_type": "stream",
     "text": [
      "3334\n"
     ]
    }
   ],
   "source": [
    "print(raw_df['Date'].nunique())"
   ]
  },
  {
   "cell_type": "markdown",
   "id": "behind-prior",
   "metadata": {},
   "source": [
    "## 3. 데이터 전처리 및 EDA"
   ]
  },
  {
   "cell_type": "code",
   "execution_count": 9,
   "id": "spare-whole",
   "metadata": {
    "scrolled": true
   },
   "outputs": [
    {
     "data": {
      "text/html": [
       "<div>\n",
       "<style scoped>\n",
       "    .dataframe tbody tr th:only-of-type {\n",
       "        vertical-align: middle;\n",
       "    }\n",
       "\n",
       "    .dataframe tbody tr th {\n",
       "        vertical-align: top;\n",
       "    }\n",
       "\n",
       "    .dataframe thead th {\n",
       "        text-align: right;\n",
       "    }\n",
       "</style>\n",
       "<table border=\"1\" class=\"dataframe\">\n",
       "  <thead>\n",
       "    <tr style=\"text-align: right;\">\n",
       "      <th></th>\n",
       "      <th>Date</th>\n",
       "      <th>Sensor</th>\n",
       "    </tr>\n",
       "  </thead>\n",
       "  <tbody>\n",
       "    <tr>\n",
       "      <th>0</th>\n",
       "      <td>20-11-07T00:11</td>\n",
       "      <td>0.0</td>\n",
       "    </tr>\n",
       "    <tr>\n",
       "      <th>1</th>\n",
       "      <td>20-11-07T00:11</td>\n",
       "      <td>0.0</td>\n",
       "    </tr>\n",
       "    <tr>\n",
       "      <th>2</th>\n",
       "      <td>20-11-07T00:11</td>\n",
       "      <td>0.0</td>\n",
       "    </tr>\n",
       "    <tr>\n",
       "      <th>3</th>\n",
       "      <td>20-11-07T00:11</td>\n",
       "      <td>0.0</td>\n",
       "    </tr>\n",
       "    <tr>\n",
       "      <th>4</th>\n",
       "      <td>20-11-07T00:11</td>\n",
       "      <td>0.0</td>\n",
       "    </tr>\n",
       "  </tbody>\n",
       "</table>\n",
       "</div>"
      ],
      "text/plain": [
       "             Date  Sensor\n",
       "0  20-11-07T00:11     0.0\n",
       "1  20-11-07T00:11     0.0\n",
       "2  20-11-07T00:11     0.0\n",
       "3  20-11-07T00:11     0.0\n",
       "4  20-11-07T00:11     0.0"
      ]
     },
     "execution_count": 9,
     "metadata": {},
     "output_type": "execute_result"
    }
   ],
   "source": [
    "raw_df['Date'] = raw_df['Date'].str[2:16]\n",
    "raw_df.head()"
   ]
  },
  {
   "cell_type": "code",
   "execution_count": 10,
   "id": "backed-laundry",
   "metadata": {},
   "outputs": [
    {
     "data": {
      "text/html": [
       "<div>\n",
       "<style scoped>\n",
       "    .dataframe tbody tr th:only-of-type {\n",
       "        vertical-align: middle;\n",
       "    }\n",
       "\n",
       "    .dataframe tbody tr th {\n",
       "        vertical-align: top;\n",
       "    }\n",
       "\n",
       "    .dataframe thead th {\n",
       "        text-align: right;\n",
       "    }\n",
       "</style>\n",
       "<table border=\"1\" class=\"dataframe\">\n",
       "  <thead>\n",
       "    <tr style=\"text-align: right;\">\n",
       "      <th></th>\n",
       "      <th>Date</th>\n",
       "      <th>Sensor</th>\n",
       "      <th>index</th>\n",
       "    </tr>\n",
       "  </thead>\n",
       "  <tbody>\n",
       "    <tr>\n",
       "      <th>0</th>\n",
       "      <td>20-11-07T00:11</td>\n",
       "      <td>0.0</td>\n",
       "      <td>1</td>\n",
       "    </tr>\n",
       "    <tr>\n",
       "      <th>1</th>\n",
       "      <td>20-11-07T00:11</td>\n",
       "      <td>0.0</td>\n",
       "      <td>2</td>\n",
       "    </tr>\n",
       "    <tr>\n",
       "      <th>2</th>\n",
       "      <td>20-11-07T00:11</td>\n",
       "      <td>0.0</td>\n",
       "      <td>3</td>\n",
       "    </tr>\n",
       "    <tr>\n",
       "      <th>3</th>\n",
       "      <td>20-11-07T00:11</td>\n",
       "      <td>0.0</td>\n",
       "      <td>4</td>\n",
       "    </tr>\n",
       "    <tr>\n",
       "      <th>4</th>\n",
       "      <td>20-11-07T00:11</td>\n",
       "      <td>0.0</td>\n",
       "      <td>5</td>\n",
       "    </tr>\n",
       "  </tbody>\n",
       "</table>\n",
       "</div>"
      ],
      "text/plain": [
       "             Date  Sensor  index\n",
       "0  20-11-07T00:11     0.0      1\n",
       "1  20-11-07T00:11     0.0      2\n",
       "2  20-11-07T00:11     0.0      3\n",
       "3  20-11-07T00:11     0.0      4\n",
       "4  20-11-07T00:11     0.0      5"
      ]
     },
     "execution_count": 10,
     "metadata": {},
     "output_type": "execute_result"
    }
   ],
   "source": [
    "raw_df['index'] = raw_df.groupby('Date').cumcount() + 1\n",
    "raw_df.head()"
   ]
  },
  {
   "cell_type": "code",
   "execution_count": 14,
   "id": "790e2c80",
   "metadata": {},
   "outputs": [
    {
     "data": {
      "text/plain": [
       "1       3334\n",
       "514     3334\n",
       "676     3334\n",
       "677     3334\n",
       "678     3334\n",
       "        ... \n",
       "1371       4\n",
       "1372       4\n",
       "1373       4\n",
       "1374       4\n",
       "2048       4\n",
       "Name: index, Length: 2048, dtype: int64"
      ]
     },
     "execution_count": 14,
     "metadata": {},
     "output_type": "execute_result"
    }
   ],
   "source": [
    "raw_df['index'].value_counts()"
   ]
  },
  {
   "cell_type": "code",
   "execution_count": 38,
   "id": "unknown-audio",
   "metadata": {},
   "outputs": [
    {
     "data": {
      "text/html": [
       "<div>\n",
       "<style scoped>\n",
       "    .dataframe tbody tr th:only-of-type {\n",
       "        vertical-align: middle;\n",
       "    }\n",
       "\n",
       "    .dataframe tbody tr th {\n",
       "        vertical-align: top;\n",
       "    }\n",
       "\n",
       "    .dataframe thead th {\n",
       "        text-align: right;\n",
       "    }\n",
       "</style>\n",
       "<table border=\"1\" class=\"dataframe\">\n",
       "  <thead>\n",
       "    <tr style=\"text-align: right;\">\n",
       "      <th></th>\n",
       "      <th>Date</th>\n",
       "      <th>Sensor</th>\n",
       "      <th>index</th>\n",
       "    </tr>\n",
       "  </thead>\n",
       "  <tbody>\n",
       "    <tr>\n",
       "      <th>0</th>\n",
       "      <td>2020-11-07T00:11:11.302000+00:00</td>\n",
       "      <td>0.0</td>\n",
       "      <td>1</td>\n",
       "    </tr>\n",
       "    <tr>\n",
       "      <th>1</th>\n",
       "      <td>2020-11-07T00:11:11.302000+00:00</td>\n",
       "      <td>0.0</td>\n",
       "      <td>2</td>\n",
       "    </tr>\n",
       "    <tr>\n",
       "      <th>2</th>\n",
       "      <td>2020-11-07T00:11:11.302000+00:00</td>\n",
       "      <td>0.0</td>\n",
       "      <td>3</td>\n",
       "    </tr>\n",
       "    <tr>\n",
       "      <th>3</th>\n",
       "      <td>2020-11-07T00:11:11.302000+00:00</td>\n",
       "      <td>0.0</td>\n",
       "      <td>4</td>\n",
       "    </tr>\n",
       "    <tr>\n",
       "      <th>4</th>\n",
       "      <td>2020-11-07T00:11:11.302000+00:00</td>\n",
       "      <td>0.0</td>\n",
       "      <td>5</td>\n",
       "    </tr>\n",
       "  </tbody>\n",
       "</table>\n",
       "</div>"
      ],
      "text/plain": [
       "                               Date  Sensor  index\n",
       "0  2020-11-07T00:11:11.302000+00:00     0.0      1\n",
       "1  2020-11-07T00:11:11.302000+00:00     0.0      2\n",
       "2  2020-11-07T00:11:11.302000+00:00     0.0      3\n",
       "3  2020-11-07T00:11:11.302000+00:00     0.0      4\n",
       "4  2020-11-07T00:11:11.302000+00:00     0.0      5"
      ]
     },
     "execution_count": 38,
     "metadata": {},
     "output_type": "execute_result"
    }
   ],
   "source": [
    "counts = raw_df.groupby(raw_df['Date']).count()\n",
    "curr_date = counts[counts['Sensor'] == 1024].index\n",
    "flt_df = raw_df[raw_df['Date'].isin(curr_date)]\n",
    "flt_df.head()"
   ]
  },
  {
   "cell_type": "code",
   "execution_count": 39,
   "id": "bound-buyer",
   "metadata": {},
   "outputs": [
    {
     "data": {
      "text/html": [
       "<div>\n",
       "<style scoped>\n",
       "    .dataframe tbody tr th:only-of-type {\n",
       "        vertical-align: middle;\n",
       "    }\n",
       "\n",
       "    .dataframe tbody tr th {\n",
       "        vertical-align: top;\n",
       "    }\n",
       "\n",
       "    .dataframe thead th {\n",
       "        text-align: right;\n",
       "    }\n",
       "</style>\n",
       "<table border=\"1\" class=\"dataframe\">\n",
       "  <thead>\n",
       "    <tr style=\"text-align: right;\">\n",
       "      <th>index</th>\n",
       "      <th>1</th>\n",
       "      <th>2</th>\n",
       "      <th>3</th>\n",
       "      <th>4</th>\n",
       "      <th>5</th>\n",
       "      <th>6</th>\n",
       "      <th>7</th>\n",
       "      <th>8</th>\n",
       "      <th>9</th>\n",
       "      <th>10</th>\n",
       "      <th>...</th>\n",
       "      <th>1015</th>\n",
       "      <th>1016</th>\n",
       "      <th>1017</th>\n",
       "      <th>1018</th>\n",
       "      <th>1019</th>\n",
       "      <th>1020</th>\n",
       "      <th>1021</th>\n",
       "      <th>1022</th>\n",
       "      <th>1023</th>\n",
       "      <th>1024</th>\n",
       "    </tr>\n",
       "    <tr>\n",
       "      <th>Date</th>\n",
       "      <th></th>\n",
       "      <th></th>\n",
       "      <th></th>\n",
       "      <th></th>\n",
       "      <th></th>\n",
       "      <th></th>\n",
       "      <th></th>\n",
       "      <th></th>\n",
       "      <th></th>\n",
       "      <th></th>\n",
       "      <th></th>\n",
       "      <th></th>\n",
       "      <th></th>\n",
       "      <th></th>\n",
       "      <th></th>\n",
       "      <th></th>\n",
       "      <th></th>\n",
       "      <th></th>\n",
       "      <th></th>\n",
       "      <th></th>\n",
       "      <th></th>\n",
       "    </tr>\n",
       "  </thead>\n",
       "  <tbody>\n",
       "    <tr>\n",
       "      <th>2020-11-07T00:11:11.302000+00:00</th>\n",
       "      <td>0.000000</td>\n",
       "      <td>0.000000</td>\n",
       "      <td>0.00000</td>\n",
       "      <td>0.000000</td>\n",
       "      <td>0.000000</td>\n",
       "      <td>-0.007812</td>\n",
       "      <td>-0.015625</td>\n",
       "      <td>-0.023438</td>\n",
       "      <td>-0.031250</td>\n",
       "      <td>0.00000</td>\n",
       "      <td>...</td>\n",
       "      <td>-0.023438</td>\n",
       "      <td>-0.03125</td>\n",
       "      <td>-0.023438</td>\n",
       "      <td>0.000000</td>\n",
       "      <td>0.000000</td>\n",
       "      <td>-0.031250</td>\n",
       "      <td>0.000000</td>\n",
       "      <td>-0.031250</td>\n",
       "      <td>0.000000</td>\n",
       "      <td>0.000000</td>\n",
       "    </tr>\n",
       "    <tr>\n",
       "      <th>2020-11-07T00:22:18.460000+00:00</th>\n",
       "      <td>-0.007812</td>\n",
       "      <td>0.000000</td>\n",
       "      <td>-0.03125</td>\n",
       "      <td>0.000000</td>\n",
       "      <td>-0.007812</td>\n",
       "      <td>-0.015625</td>\n",
       "      <td>-0.007812</td>\n",
       "      <td>-0.031250</td>\n",
       "      <td>-0.023438</td>\n",
       "      <td>0.00000</td>\n",
       "      <td>...</td>\n",
       "      <td>-0.031250</td>\n",
       "      <td>0.03125</td>\n",
       "      <td>-0.031250</td>\n",
       "      <td>-0.007812</td>\n",
       "      <td>0.000000</td>\n",
       "      <td>-0.023438</td>\n",
       "      <td>-0.023438</td>\n",
       "      <td>0.000000</td>\n",
       "      <td>0.000000</td>\n",
       "      <td>-0.031250</td>\n",
       "    </tr>\n",
       "    <tr>\n",
       "      <th>2020-11-07T00:33:16.582000+00:00</th>\n",
       "      <td>0.000000</td>\n",
       "      <td>-0.007812</td>\n",
       "      <td>-0.03125</td>\n",
       "      <td>-0.023438</td>\n",
       "      <td>0.000000</td>\n",
       "      <td>0.000000</td>\n",
       "      <td>-0.031250</td>\n",
       "      <td>-0.023438</td>\n",
       "      <td>0.000000</td>\n",
       "      <td>-0.03125</td>\n",
       "      <td>...</td>\n",
       "      <td>-0.023438</td>\n",
       "      <td>0.00000</td>\n",
       "      <td>-0.031250</td>\n",
       "      <td>0.000000</td>\n",
       "      <td>-0.023438</td>\n",
       "      <td>-0.031250</td>\n",
       "      <td>0.000000</td>\n",
       "      <td>-0.023438</td>\n",
       "      <td>-0.023438</td>\n",
       "      <td>0.000000</td>\n",
       "    </tr>\n",
       "    <tr>\n",
       "      <th>2020-11-07T00:43:39.275000+00:00</th>\n",
       "      <td>0.000000</td>\n",
       "      <td>-0.007812</td>\n",
       "      <td>0.00000</td>\n",
       "      <td>-0.007812</td>\n",
       "      <td>-0.031250</td>\n",
       "      <td>0.000000</td>\n",
       "      <td>-0.031250</td>\n",
       "      <td>0.000000</td>\n",
       "      <td>0.000000</td>\n",
       "      <td>0.00000</td>\n",
       "      <td>...</td>\n",
       "      <td>-0.007812</td>\n",
       "      <td>-0.03125</td>\n",
       "      <td>0.000000</td>\n",
       "      <td>0.000000</td>\n",
       "      <td>0.000000</td>\n",
       "      <td>-0.031250</td>\n",
       "      <td>0.000000</td>\n",
       "      <td>-0.007812</td>\n",
       "      <td>-0.039062</td>\n",
       "      <td>-0.015625</td>\n",
       "    </tr>\n",
       "    <tr>\n",
       "      <th>2020-11-07T00:54:46.791000+00:00</th>\n",
       "      <td>0.000000</td>\n",
       "      <td>0.007812</td>\n",
       "      <td>0.00000</td>\n",
       "      <td>0.000000</td>\n",
       "      <td>0.000000</td>\n",
       "      <td>-0.031250</td>\n",
       "      <td>0.000000</td>\n",
       "      <td>0.000000</td>\n",
       "      <td>-0.007812</td>\n",
       "      <td>0.00000</td>\n",
       "      <td>...</td>\n",
       "      <td>-0.007812</td>\n",
       "      <td>0.00000</td>\n",
       "      <td>0.000000</td>\n",
       "      <td>0.000000</td>\n",
       "      <td>0.000000</td>\n",
       "      <td>0.000000</td>\n",
       "      <td>-0.007812</td>\n",
       "      <td>0.000000</td>\n",
       "      <td>0.000000</td>\n",
       "      <td>-0.023438</td>\n",
       "    </tr>\n",
       "  </tbody>\n",
       "</table>\n",
       "<p>5 rows × 1024 columns</p>\n",
       "</div>"
      ],
      "text/plain": [
       "index                                 1         2        3         4     \\\n",
       "Date                                                                      \n",
       "2020-11-07T00:11:11.302000+00:00  0.000000  0.000000  0.00000  0.000000   \n",
       "2020-11-07T00:22:18.460000+00:00 -0.007812  0.000000 -0.03125  0.000000   \n",
       "2020-11-07T00:33:16.582000+00:00  0.000000 -0.007812 -0.03125 -0.023438   \n",
       "2020-11-07T00:43:39.275000+00:00  0.000000 -0.007812  0.00000 -0.007812   \n",
       "2020-11-07T00:54:46.791000+00:00  0.000000  0.007812  0.00000  0.000000   \n",
       "\n",
       "index                                 5         6         7         8     \\\n",
       "Date                                                                       \n",
       "2020-11-07T00:11:11.302000+00:00  0.000000 -0.007812 -0.015625 -0.023438   \n",
       "2020-11-07T00:22:18.460000+00:00 -0.007812 -0.015625 -0.007812 -0.031250   \n",
       "2020-11-07T00:33:16.582000+00:00  0.000000  0.000000 -0.031250 -0.023438   \n",
       "2020-11-07T00:43:39.275000+00:00 -0.031250  0.000000 -0.031250  0.000000   \n",
       "2020-11-07T00:54:46.791000+00:00  0.000000 -0.031250  0.000000  0.000000   \n",
       "\n",
       "index                                 9        10    ...      1015     1016  \\\n",
       "Date                                                 ...                      \n",
       "2020-11-07T00:11:11.302000+00:00 -0.031250  0.00000  ... -0.023438 -0.03125   \n",
       "2020-11-07T00:22:18.460000+00:00 -0.023438  0.00000  ... -0.031250  0.03125   \n",
       "2020-11-07T00:33:16.582000+00:00  0.000000 -0.03125  ... -0.023438  0.00000   \n",
       "2020-11-07T00:43:39.275000+00:00  0.000000  0.00000  ... -0.007812 -0.03125   \n",
       "2020-11-07T00:54:46.791000+00:00 -0.007812  0.00000  ... -0.007812  0.00000   \n",
       "\n",
       "index                                 1017      1018      1019      1020  \\\n",
       "Date                                                                       \n",
       "2020-11-07T00:11:11.302000+00:00 -0.023438  0.000000  0.000000 -0.031250   \n",
       "2020-11-07T00:22:18.460000+00:00 -0.031250 -0.007812  0.000000 -0.023438   \n",
       "2020-11-07T00:33:16.582000+00:00 -0.031250  0.000000 -0.023438 -0.031250   \n",
       "2020-11-07T00:43:39.275000+00:00  0.000000  0.000000  0.000000 -0.031250   \n",
       "2020-11-07T00:54:46.791000+00:00  0.000000  0.000000  0.000000  0.000000   \n",
       "\n",
       "index                                 1021      1022      1023      1024  \n",
       "Date                                                                      \n",
       "2020-11-07T00:11:11.302000+00:00  0.000000 -0.031250  0.000000  0.000000  \n",
       "2020-11-07T00:22:18.460000+00:00 -0.023438  0.000000  0.000000 -0.031250  \n",
       "2020-11-07T00:33:16.582000+00:00  0.000000 -0.023438 -0.023438  0.000000  \n",
       "2020-11-07T00:43:39.275000+00:00  0.000000 -0.007812 -0.039062 -0.015625  \n",
       "2020-11-07T00:54:46.791000+00:00 -0.007812  0.000000  0.000000 -0.023438  \n",
       "\n",
       "[5 rows x 1024 columns]"
      ]
     },
     "execution_count": 39,
     "metadata": {},
     "output_type": "execute_result"
    }
   ],
   "source": [
    "df_arr = flt_df.pivot(index='Date', columns='index', values='Sensor')\n",
    "df_arr.head()"
   ]
  },
  {
   "cell_type": "code",
   "execution_count": 40,
   "id": "fancy-footwear",
   "metadata": {},
   "outputs": [
    {
     "data": {
      "text/plain": [
       "(3330, 1024)"
      ]
     },
     "execution_count": 40,
     "metadata": {},
     "output_type": "execute_result"
    }
   ],
   "source": [
    "df_arr.shape"
   ]
  },
  {
   "cell_type": "code",
   "execution_count": 41,
   "id": "sonic-scale",
   "metadata": {
    "scrolled": true
   },
   "outputs": [
    {
     "data": {
      "image/png": "[encoded data removed]",
      "text/plain": [
       "<Figure size 1440x720 with 1 Axes>"
      ]
     },
     "metadata": {
      "needs_background": "light"
     },
     "output_type": "display_data"
    }
   ],
   "source": [
    "# Signal 시각화\n",
    "plt.figure(figsize=(20, 10))\n",
    "plt.plot(df_arr.iloc[0])\n",
    "plt.show()"
   ]
  },
  {
   "cell_type": "markdown",
   "id": "widespread-delaware",
   "metadata": {},
   "source": [
    "## 4. PCA Anomaly Detection"
   ]
  },
  {
   "cell_type": "markdown",
   "id": "dynamic-prospect",
   "metadata": {},
   "source": [
    "### 4-1 데이터 전처리 변환"
   ]
  },
  {
   "cell_type": "code",
   "execution_count": 42,
   "id": "frozen-upgrade",
   "metadata": {},
   "outputs": [
    {
     "data": {
      "text/html": [
       "<div>\n",
       "<style scoped>\n",
       "    .dataframe tbody tr th:only-of-type {\n",
       "        vertical-align: middle;\n",
       "    }\n",
       "\n",
       "    .dataframe tbody tr th {\n",
       "        vertical-align: top;\n",
       "    }\n",
       "\n",
       "    .dataframe thead th {\n",
       "        text-align: right;\n",
       "    }\n",
       "</style>\n",
       "<table border=\"1\" class=\"dataframe\">\n",
       "  <thead>\n",
       "    <tr style=\"text-align: right;\">\n",
       "      <th></th>\n",
       "      <th>mean</th>\n",
       "      <th>std</th>\n",
       "      <th>q0</th>\n",
       "      <th>q1</th>\n",
       "      <th>q2</th>\n",
       "      <th>q3</th>\n",
       "      <th>q4</th>\n",
       "      <th>minmax</th>\n",
       "    </tr>\n",
       "    <tr>\n",
       "      <th>Date</th>\n",
       "      <th></th>\n",
       "      <th></th>\n",
       "      <th></th>\n",
       "      <th></th>\n",
       "      <th></th>\n",
       "      <th></th>\n",
       "      <th></th>\n",
       "      <th></th>\n",
       "    </tr>\n",
       "  </thead>\n",
       "  <tbody>\n",
       "    <tr>\n",
       "      <th>2020-11-07T00:11:11.302000+00:00</th>\n",
       "      <td>-0.010025</td>\n",
       "      <td>0.022234</td>\n",
       "      <td>-0.109375</td>\n",
       "      <td>-0.023438</td>\n",
       "      <td>-0.007812</td>\n",
       "      <td>0.000000</td>\n",
       "      <td>0.062500</td>\n",
       "      <td>0.171875</td>\n",
       "    </tr>\n",
       "    <tr>\n",
       "      <th>2020-11-07T00:22:18.460000+00:00</th>\n",
       "      <td>-0.010651</td>\n",
       "      <td>0.021256</td>\n",
       "      <td>-0.093750</td>\n",
       "      <td>-0.023438</td>\n",
       "      <td>-0.007812</td>\n",
       "      <td>0.000000</td>\n",
       "      <td>0.101562</td>\n",
       "      <td>0.195312</td>\n",
       "    </tr>\n",
       "    <tr>\n",
       "      <th>2020-11-07T00:33:16.582000+00:00</th>\n",
       "      <td>-0.010963</td>\n",
       "      <td>0.022170</td>\n",
       "      <td>-0.109375</td>\n",
       "      <td>-0.023438</td>\n",
       "      <td>-0.007812</td>\n",
       "      <td>0.000000</td>\n",
       "      <td>0.093750</td>\n",
       "      <td>0.203125</td>\n",
       "    </tr>\n",
       "    <tr>\n",
       "      <th>2020-11-07T00:43:39.275000+00:00</th>\n",
       "      <td>-0.010521</td>\n",
       "      <td>0.022580</td>\n",
       "      <td>-0.101562</td>\n",
       "      <td>-0.023438</td>\n",
       "      <td>-0.007812</td>\n",
       "      <td>0.000000</td>\n",
       "      <td>0.085938</td>\n",
       "      <td>0.187500</td>\n",
       "    </tr>\n",
       "    <tr>\n",
       "      <th>2020-11-07T00:54:46.791000+00:00</th>\n",
       "      <td>-0.010735</td>\n",
       "      <td>0.023347</td>\n",
       "      <td>-0.117188</td>\n",
       "      <td>-0.023438</td>\n",
       "      <td>-0.007812</td>\n",
       "      <td>0.000000</td>\n",
       "      <td>0.109375</td>\n",
       "      <td>0.226562</td>\n",
       "    </tr>\n",
       "    <tr>\n",
       "      <th>...</th>\n",
       "      <td>...</td>\n",
       "      <td>...</td>\n",
       "      <td>...</td>\n",
       "      <td>...</td>\n",
       "      <td>...</td>\n",
       "      <td>...</td>\n",
       "      <td>...</td>\n",
       "      <td>...</td>\n",
       "    </tr>\n",
       "    <tr>\n",
       "      <th>2021-11-20T07:07:33.192000+00:00</th>\n",
       "      <td>0.018031</td>\n",
       "      <td>1.009635</td>\n",
       "      <td>-4.516406</td>\n",
       "      <td>-0.398438</td>\n",
       "      <td>-0.037891</td>\n",
       "      <td>0.414062</td>\n",
       "      <td>6.242188</td>\n",
       "      <td>10.758594</td>\n",
       "    </tr>\n",
       "    <tr>\n",
       "      <th>2021-11-20T07:20:02.823000+00:00</th>\n",
       "      <td>0.015554</td>\n",
       "      <td>1.085307</td>\n",
       "      <td>-4.920312</td>\n",
       "      <td>-0.414062</td>\n",
       "      <td>0.000000</td>\n",
       "      <td>0.437500</td>\n",
       "      <td>5.140625</td>\n",
       "      <td>10.060937</td>\n",
       "    </tr>\n",
       "    <tr>\n",
       "      <th>2021-11-20T07:32:31.890000+00:00</th>\n",
       "      <td>0.017804</td>\n",
       "      <td>1.140123</td>\n",
       "      <td>-4.663281</td>\n",
       "      <td>-0.460938</td>\n",
       "      <td>0.007812</td>\n",
       "      <td>0.437500</td>\n",
       "      <td>5.617969</td>\n",
       "      <td>10.281250</td>\n",
       "    </tr>\n",
       "    <tr>\n",
       "      <th>2021-11-20T07:44:10.073000+00:00</th>\n",
       "      <td>0.006835</td>\n",
       "      <td>1.013024</td>\n",
       "      <td>-4.185937</td>\n",
       "      <td>-0.403906</td>\n",
       "      <td>-0.007812</td>\n",
       "      <td>0.398438</td>\n",
       "      <td>4.442969</td>\n",
       "      <td>8.628906</td>\n",
       "    </tr>\n",
       "    <tr>\n",
       "      <th>2021-11-20T07:56:37.294000+00:00</th>\n",
       "      <td>-0.003900</td>\n",
       "      <td>1.032061</td>\n",
       "      <td>-5.581250</td>\n",
       "      <td>-0.399805</td>\n",
       "      <td>0.007812</td>\n",
       "      <td>0.398438</td>\n",
       "      <td>4.846875</td>\n",
       "      <td>10.428125</td>\n",
       "    </tr>\n",
       "  </tbody>\n",
       "</table>\n",
       "<p>3330 rows × 8 columns</p>\n",
       "</div>"
      ],
      "text/plain": [
       "                                      mean       std        q0        q1  \\\n",
       "Date                                                                       \n",
       "2020-11-07T00:11:11.302000+00:00 -0.010025  0.022234 -0.109375 -0.023438   \n",
       "2020-11-07T00:22:18.460000+00:00 -0.010651  0.021256 -0.093750 -0.023438   \n",
       "2020-11-07T00:33:16.582000+00:00 -0.010963  0.022170 -0.109375 -0.023438   \n",
       "2020-11-07T00:43:39.275000+00:00 -0.010521  0.022580 -0.101562 -0.023438   \n",
       "2020-11-07T00:54:46.791000+00:00 -0.010735  0.023347 -0.117188 -0.023438   \n",
       "...                                    ...       ...       ...       ...   \n",
       "2021-11-20T07:07:33.192000+00:00  0.018031  1.009635 -4.516406 -0.398438   \n",
       "2021-11-20T07:20:02.823000+00:00  0.015554  1.085307 -4.920312 -0.414062   \n",
       "2021-11-20T07:32:31.890000+00:00  0.017804  1.140123 -4.663281 -0.460938   \n",
       "2021-11-20T07:44:10.073000+00:00  0.006835  1.013024 -4.185937 -0.403906   \n",
       "2021-11-20T07:56:37.294000+00:00 -0.003900  1.032061 -5.581250 -0.399805   \n",
       "\n",
       "                                        q2        q3        q4     minmax  \n",
       "Date                                                                       \n",
       "2020-11-07T00:11:11.302000+00:00 -0.007812  0.000000  0.062500   0.171875  \n",
       "2020-11-07T00:22:18.460000+00:00 -0.007812  0.000000  0.101562   0.195312  \n",
       "2020-11-07T00:33:16.582000+00:00 -0.007812  0.000000  0.093750   0.203125  \n",
       "2020-11-07T00:43:39.275000+00:00 -0.007812  0.000000  0.085938   0.187500  \n",
       "2020-11-07T00:54:46.791000+00:00 -0.007812  0.000000  0.109375   0.226562  \n",
       "...                                    ...       ...       ...        ...  \n",
       "2021-11-20T07:07:33.192000+00:00 -0.037891  0.414062  6.242188  10.758594  \n",
       "2021-11-20T07:20:02.823000+00:00  0.000000  0.437500  5.140625  10.060937  \n",
       "2021-11-20T07:32:31.890000+00:00  0.007812  0.437500  5.617969  10.281250  \n",
       "2021-11-20T07:44:10.073000+00:00 -0.007812  0.398438  4.442969   8.628906  \n",
       "2021-11-20T07:56:37.294000+00:00  0.007812  0.398438  4.846875  10.428125  \n",
       "\n",
       "[3330 rows x 8 columns]"
      ]
     },
     "execution_count": 42,
     "metadata": {},
     "output_type": "execute_result"
    }
   ],
   "source": [
    "df_1 = pd.DataFrame({\n",
    "    \"mean\": df_arr.mean(axis = 1), \n",
    "    \"std\" : df_arr.std(axis = 1),\n",
    "    \"q0\" : df_arr.min(axis = 1),\n",
    "    \"q1\" : df_arr.quantile(0.25, axis = 1),\n",
    "    \"q2\" : df_arr.median(axis = 1),\n",
    "    \"q3\" : df_arr.quantile(0.75, axis = 1),\n",
    "    \"q4\" : df_arr.max(axis = 1),\n",
    "    \"minmax\" : df_arr.max(axis = 1) - df_arr.min(axis = 1)})\n",
    "df_1"
   ]
  },
  {
   "cell_type": "code",
   "execution_count": 43,
   "id": "enormous-summary",
   "metadata": {},
   "outputs": [],
   "source": [
    "from sklearn.preprocessing import StandardScaler\n",
    "std = StandardScaler()\n",
    "df_scaled = std.fit_transform(df_1)"
   ]
  },
  {
   "cell_type": "markdown",
   "id": "downtown-arnold",
   "metadata": {},
   "source": [
    "### 4-2 PCA Score"
   ]
  },
  {
   "cell_type": "code",
   "execution_count": 44,
   "id": "efficient-difficulty",
   "metadata": {},
   "outputs": [],
   "source": [
    "from sklearn.decomposition import PCA"
   ]
  },
  {
   "cell_type": "code",
   "execution_count": 45,
   "id": "engaged-throat",
   "metadata": {},
   "outputs": [],
   "source": [
    "pca = PCA(n_components = 2)\n",
    "pca_score = pca.fit_transform(df_scaled)"
   ]
  },
  {
   "cell_type": "code",
   "execution_count": 46,
   "id": "transsexual-blackjack",
   "metadata": {},
   "outputs": [
    {
     "data": {
      "text/plain": [
       "array([[-2.5651139 , -0.29457297],\n",
       "       [-2.57102022, -0.26947427],\n",
       "       [-2.57310291, -0.25664215],\n",
       "       ...,\n",
       "       [ 5.33479495,  0.86163026],\n",
       "       [ 3.89590434,  1.49894498],\n",
       "       [ 4.59690506,  1.62648073]])"
      ]
     },
     "execution_count": 46,
     "metadata": {},
     "output_type": "execute_result"
    }
   ],
   "source": [
    "pca_score"
   ]
  },
  {
   "cell_type": "code",
   "execution_count": 47,
   "id": "mechanical-ladder",
   "metadata": {
    "scrolled": true
   },
   "outputs": [
    {
     "data": {
      "text/plain": [
       "<matplotlib.collections.PathCollection at 0x7fc1783b5be0>"
      ]
     },
     "execution_count": 47,
     "metadata": {},
     "output_type": "execute_result"
    },
    {
     "data": {
      "image/png": "[encoded data removed]",
      "text/plain": [
       "<Figure size 432x288 with 1 Axes>"
      ]
     },
     "metadata": {
      "needs_background": "light"
     },
     "output_type": "display_data"
    }
   ],
   "source": [
    "plt.scatter(pca_score[:,0], pca_score[:,1])"
   ]
  },
  {
   "cell_type": "markdown",
   "id": "piano-major",
   "metadata": {},
   "source": [
    "### 4-2. Mahalnobis Score"
   ]
  },
  {
   "cell_type": "code",
   "execution_count": 48,
   "id": "entire-maria",
   "metadata": {},
   "outputs": [],
   "source": [
    "from sklearn.covariance import EmpiricalCovariance, MinCovDet"
   ]
  },
  {
   "cell_type": "code",
   "execution_count": 49,
   "id": "absent-roommate",
   "metadata": {},
   "outputs": [
    {
     "data": {
      "text/plain": [
       "0       0.266288\n",
       "1       0.267263\n",
       "2       0.267286\n",
       "3       0.265767\n",
       "4       0.274899\n",
       "          ...   \n",
       "3325    3.592795\n",
       "3326    0.391397\n",
       "3327    0.590831\n",
       "3328    0.116110\n",
       "3329    2.403506\n",
       "Length: 3330, dtype: float64"
      ]
     },
     "execution_count": 49,
     "metadata": {},
     "output_type": "execute_result"
    }
   ],
   "source": [
    "df_hat = pca.inverse_transform(pca_score)\n",
    "diff = pd.DataFrame(np.square(df_scaled - df_hat))\n",
    "anomaly_score1 = diff.sum(axis=1)\n",
    "anomaly_score1"
   ]
  },
  {
   "cell_type": "code",
   "execution_count": 50,
   "id": "fundamental-license",
   "metadata": {
    "scrolled": true
   },
   "outputs": [
    {
     "data": {
      "text/plain": [
       "array([ 3.02831926,  2.8864913 ,  2.81278922, ..., 65.91294474,\n",
       "       64.34406015, 79.95224751])"
      ]
     },
     "execution_count": 50,
     "metadata": {},
     "output_type": "execute_result"
    }
   ],
   "source": [
    "robust_cov = MinCovDet().fit(pca_score)\n",
    "anomaly_score2 = robust_cov.mahalanobis(pca_score)\n",
    "anomaly_score2"
   ]
  },
  {
   "cell_type": "markdown",
   "id": "controlling-lightweight",
   "metadata": {},
   "source": [
    "### 4-3. Score 시각화"
   ]
  },
  {
   "cell_type": "code",
   "execution_count": 51,
   "id": "approved-aquatic",
   "metadata": {},
   "outputs": [
    {
     "data": {
      "image/png": "[encoded data removed]",
      "text/plain": [
       "<Figure size 432x288 with 2 Axes>"
      ]
     },
     "metadata": {
      "needs_background": "light"
     },
     "output_type": "display_data"
    }
   ],
   "source": [
    "fig,ax=plt.subplots(2,1)\n",
    "\n",
    "ax[0].hist(anomaly_score1, edgecolor = \"black\", bins = 20)\n",
    "ax[0].set_title('PCA Anomaly Score')\n",
    "\n",
    "ax[1].hist(anomaly_score2, edgecolor = \"black\", bins = 20)\n",
    "ax[1].set_title('Mahalnobis Anomaly Score')\n",
    "\n",
    "plt.show()"
   ]
  },
  {
   "cell_type": "markdown",
   "id": "roman-palace",
   "metadata": {},
   "source": [
    "### 4-4. Anomaly Detection 및 시각화"
   ]
  },
  {
   "cell_type": "code",
   "execution_count": 57,
   "id": "extensive-significance",
   "metadata": {
    "scrolled": true
   },
   "outputs": [
    {
     "data": {
      "text/html": [
       "<div>\n",
       "<style scoped>\n",
       "    .dataframe tbody tr th:only-of-type {\n",
       "        vertical-align: middle;\n",
       "    }\n",
       "\n",
       "    .dataframe tbody tr th {\n",
       "        vertical-align: top;\n",
       "    }\n",
       "\n",
       "    .dataframe thead th {\n",
       "        text-align: right;\n",
       "    }\n",
       "</style>\n",
       "<table border=\"1\" class=\"dataframe\">\n",
       "  <thead>\n",
       "    <tr style=\"text-align: right;\">\n",
       "      <th></th>\n",
       "      <th>PC1</th>\n",
       "      <th>PC2</th>\n",
       "      <th>Detection</th>\n",
       "    </tr>\n",
       "  </thead>\n",
       "  <tbody>\n",
       "    <tr>\n",
       "      <th>0</th>\n",
       "      <td>-2.565114</td>\n",
       "      <td>-0.294573</td>\n",
       "      <td>Normal</td>\n",
       "    </tr>\n",
       "    <tr>\n",
       "      <th>1</th>\n",
       "      <td>-2.571020</td>\n",
       "      <td>-0.269474</td>\n",
       "      <td>Normal</td>\n",
       "    </tr>\n",
       "    <tr>\n",
       "      <th>2</th>\n",
       "      <td>-2.573103</td>\n",
       "      <td>-0.256642</td>\n",
       "      <td>Normal</td>\n",
       "    </tr>\n",
       "    <tr>\n",
       "      <th>3</th>\n",
       "      <td>-2.569351</td>\n",
       "      <td>-0.274846</td>\n",
       "      <td>Normal</td>\n",
       "    </tr>\n",
       "    <tr>\n",
       "      <th>4</th>\n",
       "      <td>-2.558639</td>\n",
       "      <td>-0.256872</td>\n",
       "      <td>Normal</td>\n",
       "    </tr>\n",
       "    <tr>\n",
       "      <th>...</th>\n",
       "      <td>...</td>\n",
       "      <td>...</td>\n",
       "      <td>...</td>\n",
       "    </tr>\n",
       "    <tr>\n",
       "      <th>3325</th>\n",
       "      <td>4.430268</td>\n",
       "      <td>3.146538</td>\n",
       "      <td>Anomaly</td>\n",
       "    </tr>\n",
       "    <tr>\n",
       "      <th>3326</th>\n",
       "      <td>4.913262</td>\n",
       "      <td>1.252811</td>\n",
       "      <td>Normal</td>\n",
       "    </tr>\n",
       "    <tr>\n",
       "      <th>3327</th>\n",
       "      <td>5.334795</td>\n",
       "      <td>0.861630</td>\n",
       "      <td>Normal</td>\n",
       "    </tr>\n",
       "    <tr>\n",
       "      <th>3328</th>\n",
       "      <td>3.895904</td>\n",
       "      <td>1.498945</td>\n",
       "      <td>Normal</td>\n",
       "    </tr>\n",
       "    <tr>\n",
       "      <th>3329</th>\n",
       "      <td>4.596905</td>\n",
       "      <td>1.626481</td>\n",
       "      <td>Normal</td>\n",
       "    </tr>\n",
       "  </tbody>\n",
       "</table>\n",
       "<p>3330 rows × 3 columns</p>\n",
       "</div>"
      ],
      "text/plain": [
       "           PC1       PC2 Detection\n",
       "0    -2.565114 -0.294573    Normal\n",
       "1    -2.571020 -0.269474    Normal\n",
       "2    -2.573103 -0.256642    Normal\n",
       "3    -2.569351 -0.274846    Normal\n",
       "4    -2.558639 -0.256872    Normal\n",
       "...        ...       ...       ...\n",
       "3325  4.430268  3.146538   Anomaly\n",
       "3326  4.913262  1.252811    Normal\n",
       "3327  5.334795  0.861630    Normal\n",
       "3328  3.895904  1.498945    Normal\n",
       "3329  4.596905  1.626481    Normal\n",
       "\n",
       "[3330 rows x 3 columns]"
      ]
     },
     "execution_count": 57,
     "metadata": {},
     "output_type": "execute_result"
    }
   ],
   "source": [
    "detection = pd.DataFrame({\"Detection\": \n",
    "                    np.where((anomaly_score1 > 3) | (anomaly_score2 > 130), \n",
    "                    \"Anomaly\", \"Normal\")})\n",
    "\n",
    "pca_anomaly = pd.concat([pd.DataFrame(pca_score, columns=['PC1','PC2']), detection], axis = 1)\n",
    "groups = pca_anomaly.groupby('Detection')\n",
    "pca_anomaly"
   ]
  },
  {
   "cell_type": "code",
   "execution_count": 58,
   "id": "25cf3f44-9382-47e7-834f-7ad1689169cf",
   "metadata": {},
   "outputs": [
    {
     "data": {
      "text/plain": [
       "Normal     3251\n",
       "Anomaly      79\n",
       "Name: Detection, dtype: int64"
      ]
     },
     "execution_count": 58,
     "metadata": {},
     "output_type": "execute_result"
    }
   ],
   "source": [
    "pca_anomaly['Detection'].value_counts()"
   ]
  },
  {
   "cell_type": "code",
   "execution_count": 59,
   "id": "third-bridge",
   "metadata": {
    "scrolled": true
   },
   "outputs": [
    {
     "data": {
      "image/png": "[encoded data removed]",
      "text/plain": [
       "<Figure size 432x288 with 1 Axes>"
      ]
     },
     "metadata": {
      "needs_background": "light"
     },
     "output_type": "display_data"
    }
   ],
   "source": [
    "fig, ax = plt.subplots()\n",
    "\n",
    "for name, group in groups:\n",
    "    ax.plot(group['PC1'],\n",
    "            group['PC2'], \n",
    "            marker='o', \n",
    "            linestyle='',\n",
    "            label=name)\n",
    "ax.legend(fontsize=10, loc='upper left')\n",
    "plt.xlabel('PC1', fontsize=14)\n",
    "plt.ylabel('PC2', fontsize=14)\n",
    "\n",
    "plt.show()"
   ]
  },
  {
   "cell_type": "markdown",
   "id": "minus-oregon",
   "metadata": {},
   "source": [
    "## 6. Local Outlier Factor"
   ]
  },
  {
   "cell_type": "code",
   "execution_count": 64,
   "id": "bibliographic-valley",
   "metadata": {},
   "outputs": [
    {
     "data": {
      "text/plain": [
       "array([1, 1, 1, ..., 1, 1, 1])"
      ]
     },
     "execution_count": 64,
     "metadata": {},
     "output_type": "execute_result"
    }
   ],
   "source": [
    "from sklearn.metrics import pairwise_distances\n",
    "from sklearn.neighbors import LocalOutlierFactor\n",
    "\n",
    "LOF = LocalOutlierFactor(n_neighbors = 20)\n",
    "LOF.fit_predict(df_scaled)"
   ]
  },
  {
   "cell_type": "markdown",
   "id": "shaped-wrestling",
   "metadata": {},
   "source": [
    "## 7. 1-Class SVM"
   ]
  },
  {
   "cell_type": "code",
   "execution_count": 65,
   "id": "cutting-paris",
   "metadata": {},
   "outputs": [
    {
     "data": {
      "text/plain": [
       "array([-1, -1,  1, ..., -1, -1, -1])"
      ]
     },
     "execution_count": 65,
     "metadata": {},
     "output_type": "execute_result"
    }
   ],
   "source": [
    "from sklearn.svm import OneClassSVM\n",
    "\n",
    "ocs = OneClassSVM(gamma='auto').fit(df_scaled)\n",
    "ocs.predict(df_scaled)"
   ]
  },
  {
   "cell_type": "code",
   "execution_count": 67,
   "id": "essential-riverside",
   "metadata": {},
   "outputs": [
    {
     "data": {
      "text/plain": [
       "array([531.14244502, 531.97275773, 532.45287807, ..., 336.98628677,\n",
       "       468.78815267, 339.25229424])"
      ]
     },
     "execution_count": 67,
     "metadata": {},
     "output_type": "execute_result"
    }
   ],
   "source": [
    "ocs.score_samples(df_scaled)"
   ]
  },
  {
   "cell_type": "code",
   "execution_count": null,
   "id": "collectible-elimination",
   "metadata": {},
   "outputs": [],
   "source": []
  }
 ],
 "metadata": {
  "kernelspec": {
   "display_name": "Python 3",
   "language": "python",
   "name": "python3"
  },
  "language_info": {
   "codemirror_mode": {
    "name": "ipython",
    "version": 3
   },
   "file_extension": ".py",
   "mimetype": "text/x-python",
   "name": "python",
   "nbconvert_exporter": "python",
   "pygments_lexer": "ipython3",
   "version": "3.8.8"
  }
 },
 "nbformat": 4,
 "nbformat_minor": 5
}

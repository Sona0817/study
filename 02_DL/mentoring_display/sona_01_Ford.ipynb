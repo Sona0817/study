{
 "cells": [
  {
   "cell_type": "markdown",
   "id": "plastic-original",
   "metadata": {},
   "source": [
    "# Frod\n",
    "## 1. 데이터 확인"
   ]
  },
  {
   "cell_type": "code",
   "execution_count": 1,
   "id": "thorough-spectrum",
   "metadata": {},
   "outputs": [],
   "source": [
    "import warnings\n",
    "warnings.filterwarnings('ignore')\n",
    "\n",
    "import pandas as pd\n",
    "import numpy as np\n",
    "import seaborn as sns\n",
    "import matplotlib.pyplot as plt\n",
    "from scipy.io.arff import loadarff"
   ]
  },
  {
   "cell_type": "code",
   "execution_count": 2,
   "id": "musical-paper",
   "metadata": {},
   "outputs": [],
   "source": [
    "file_path = './data/'\n",
    "train_fn ='FordA_TRAIN.arff'\n",
    "test_fn = 'FordA_TEST.arff'"
   ]
  },
  {
   "cell_type": "code",
   "execution_count": 3,
   "id": "independent-seller",
   "metadata": {},
   "outputs": [],
   "source": [
    "def read_ariff(path):\n",
    "    \n",
    "    raw_data, meta = loadarff(path)\n",
    "    cols = [x for x in meta]\n",
    "    data2d = np.zeros([raw_data.shape[0],len(cols)])\n",
    "    for i,col in zip(range(len(cols)),cols):\n",
    "        data2d[:,i]=raw_data[col]\n",
    "    return data2d"
   ]
  },
  {
   "cell_type": "code",
   "execution_count": 4,
   "id": "710c7f82-c786-48bb-8cf7-11e971249f39",
   "metadata": {},
   "outputs": [
    {
     "data": {
      "text/html": [
       "<div>\n",
       "<style scoped>\n",
       "    .dataframe tbody tr th:only-of-type {\n",
       "        vertical-align: middle;\n",
       "    }\n",
       "\n",
       "    .dataframe tbody tr th {\n",
       "        vertical-align: top;\n",
       "    }\n",
       "\n",
       "    .dataframe thead th {\n",
       "        text-align: right;\n",
       "    }\n",
       "</style>\n",
       "<table border=\"1\" class=\"dataframe\">\n",
       "  <thead>\n",
       "    <tr style=\"text-align: right;\">\n",
       "      <th></th>\n",
       "      <th>0</th>\n",
       "      <th>1</th>\n",
       "      <th>2</th>\n",
       "      <th>3</th>\n",
       "      <th>4</th>\n",
       "      <th>5</th>\n",
       "      <th>6</th>\n",
       "      <th>7</th>\n",
       "      <th>8</th>\n",
       "      <th>9</th>\n",
       "      <th>...</th>\n",
       "      <th>491</th>\n",
       "      <th>492</th>\n",
       "      <th>493</th>\n",
       "      <th>494</th>\n",
       "      <th>495</th>\n",
       "      <th>496</th>\n",
       "      <th>497</th>\n",
       "      <th>498</th>\n",
       "      <th>499</th>\n",
       "      <th>500</th>\n",
       "    </tr>\n",
       "  </thead>\n",
       "  <tbody>\n",
       "    <tr>\n",
       "      <th>0</th>\n",
       "      <td>-0.797172</td>\n",
       "      <td>-0.664392</td>\n",
       "      <td>-0.373015</td>\n",
       "      <td>0.040815</td>\n",
       "      <td>0.526936</td>\n",
       "      <td>0.984288</td>\n",
       "      <td>1.353120</td>\n",
       "      <td>1.578108</td>\n",
       "      <td>1.659251</td>\n",
       "      <td>1.640809</td>\n",
       "      <td>...</td>\n",
       "      <td>0.722417</td>\n",
       "      <td>0.362068</td>\n",
       "      <td>0.092083</td>\n",
       "      <td>-0.081268</td>\n",
       "      <td>-0.212573</td>\n",
       "      <td>-0.391456</td>\n",
       "      <td>-0.664392</td>\n",
       "      <td>-1.073796</td>\n",
       "      <td>-1.564343</td>\n",
       "      <td>-1.0</td>\n",
       "    </tr>\n",
       "    <tr>\n",
       "      <th>1</th>\n",
       "      <td>0.804855</td>\n",
       "      <td>0.634629</td>\n",
       "      <td>0.373474</td>\n",
       "      <td>0.038343</td>\n",
       "      <td>-0.340988</td>\n",
       "      <td>-0.740860</td>\n",
       "      <td>-1.109667</td>\n",
       "      <td>-1.395357</td>\n",
       "      <td>-1.570192</td>\n",
       "      <td>-1.619951</td>\n",
       "      <td>...</td>\n",
       "      <td>0.049213</td>\n",
       "      <td>-0.258138</td>\n",
       "      <td>-0.510583</td>\n",
       "      <td>-0.683647</td>\n",
       "      <td>-0.773817</td>\n",
       "      <td>-0.785255</td>\n",
       "      <td>-0.714885</td>\n",
       "      <td>-0.560443</td>\n",
       "      <td>-0.319086</td>\n",
       "      <td>1.0</td>\n",
       "    </tr>\n",
       "    <tr>\n",
       "      <th>2</th>\n",
       "      <td>0.727985</td>\n",
       "      <td>0.111284</td>\n",
       "      <td>-0.499124</td>\n",
       "      <td>-1.068629</td>\n",
       "      <td>-1.578351</td>\n",
       "      <td>-1.990534</td>\n",
       "      <td>-2.302031</td>\n",
       "      <td>-2.503403</td>\n",
       "      <td>-2.585211</td>\n",
       "      <td>-2.550600</td>\n",
       "      <td>...</td>\n",
       "      <td>0.463685</td>\n",
       "      <td>0.507735</td>\n",
       "      <td>0.517174</td>\n",
       "      <td>0.504588</td>\n",
       "      <td>0.476270</td>\n",
       "      <td>0.438513</td>\n",
       "      <td>0.394463</td>\n",
       "      <td>0.339400</td>\n",
       "      <td>0.255391</td>\n",
       "      <td>-1.0</td>\n",
       "    </tr>\n",
       "    <tr>\n",
       "      <th>3</th>\n",
       "      <td>-0.234439</td>\n",
       "      <td>-0.502157</td>\n",
       "      <td>-0.732488</td>\n",
       "      <td>-0.946128</td>\n",
       "      <td>-1.139739</td>\n",
       "      <td>-1.323336</td>\n",
       "      <td>-1.490243</td>\n",
       "      <td>-1.607077</td>\n",
       "      <td>-1.620430</td>\n",
       "      <td>-1.506933</td>\n",
       "      <td>...</td>\n",
       "      <td>-0.929437</td>\n",
       "      <td>-0.922761</td>\n",
       "      <td>-0.929437</td>\n",
       "      <td>-0.909409</td>\n",
       "      <td>-0.835970</td>\n",
       "      <td>-0.695768</td>\n",
       "      <td>-0.478790</td>\n",
       "      <td>-0.188707</td>\n",
       "      <td>0.119736</td>\n",
       "      <td>-1.0</td>\n",
       "    </tr>\n",
       "    <tr>\n",
       "      <th>4</th>\n",
       "      <td>-0.171328</td>\n",
       "      <td>-0.062285</td>\n",
       "      <td>0.235829</td>\n",
       "      <td>0.710396</td>\n",
       "      <td>1.239969</td>\n",
       "      <td>1.649823</td>\n",
       "      <td>1.876321</td>\n",
       "      <td>1.865535</td>\n",
       "      <td>1.703751</td>\n",
       "      <td>1.466467</td>\n",
       "      <td>...</td>\n",
       "      <td>0.725496</td>\n",
       "      <td>0.697453</td>\n",
       "      <td>0.731967</td>\n",
       "      <td>0.808545</td>\n",
       "      <td>0.839823</td>\n",
       "      <td>0.733046</td>\n",
       "      <td>0.437520</td>\n",
       "      <td>-0.026585</td>\n",
       "      <td>-0.602213</td>\n",
       "      <td>-1.0</td>\n",
       "    </tr>\n",
       "  </tbody>\n",
       "</table>\n",
       "<p>5 rows × 501 columns</p>\n",
       "</div>"
      ],
      "text/plain": [
       "        0         1         2         3         4         5         6    \\\n",
       "0 -0.797172 -0.664392 -0.373015  0.040815  0.526936  0.984288  1.353120   \n",
       "1  0.804855  0.634629  0.373474  0.038343 -0.340988 -0.740860 -1.109667   \n",
       "2  0.727985  0.111284 -0.499124 -1.068629 -1.578351 -1.990534 -2.302031   \n",
       "3 -0.234439 -0.502157 -0.732488 -0.946128 -1.139739 -1.323336 -1.490243   \n",
       "4 -0.171328 -0.062285  0.235829  0.710396  1.239969  1.649823  1.876321   \n",
       "\n",
       "        7         8         9    ...       491       492       493       494  \\\n",
       "0  1.578108  1.659251  1.640809  ...  0.722417  0.362068  0.092083 -0.081268   \n",
       "1 -1.395357 -1.570192 -1.619951  ...  0.049213 -0.258138 -0.510583 -0.683647   \n",
       "2 -2.503403 -2.585211 -2.550600  ...  0.463685  0.507735  0.517174  0.504588   \n",
       "3 -1.607077 -1.620430 -1.506933  ... -0.929437 -0.922761 -0.929437 -0.909409   \n",
       "4  1.865535  1.703751  1.466467  ...  0.725496  0.697453  0.731967  0.808545   \n",
       "\n",
       "        495       496       497       498       499  500  \n",
       "0 -0.212573 -0.391456 -0.664392 -1.073796 -1.564343 -1.0  \n",
       "1 -0.773817 -0.785255 -0.714885 -0.560443 -0.319086  1.0  \n",
       "2  0.476270  0.438513  0.394463  0.339400  0.255391 -1.0  \n",
       "3 -0.835970 -0.695768 -0.478790 -0.188707  0.119736 -1.0  \n",
       "4  0.839823  0.733046  0.437520 -0.026585 -0.602213 -1.0  \n",
       "\n",
       "[5 rows x 501 columns]"
      ]
     },
     "execution_count": 4,
     "metadata": {},
     "output_type": "execute_result"
    }
   ],
   "source": [
    "train = read_ariff(file_path + train_fn)\n",
    "test = read_ariff(file_path + test_fn)\n",
    "\n",
    "data = np.concatenate((train, test), axis=0)\n",
    "df = pd.DataFrame(data)\n",
    "df.head()"
   ]
  },
  {
   "cell_type": "code",
   "execution_count": 5,
   "id": "45a7a59e-deb1-4773-8ac6-de54deee9436",
   "metadata": {},
   "outputs": [
    {
     "data": {
      "text/plain": [
       "(4921, 501)"
      ]
     },
     "execution_count": 5,
     "metadata": {},
     "output_type": "execute_result"
    }
   ],
   "source": [
    "df.shape"
   ]
  },
  {
   "cell_type": "markdown",
   "id": "533348aa-b47d-4a12-85c0-692d6db07247",
   "metadata": {},
   "source": [
    "## 2. EDA"
   ]
  },
  {
   "cell_type": "code",
   "execution_count": 6,
   "id": "e60fbe62-0abc-4688-b8df-55615861f013",
   "metadata": {},
   "outputs": [
    {
     "data": {
      "text/html": [
       "<div>\n",
       "<style scoped>\n",
       "    .dataframe tbody tr th:only-of-type {\n",
       "        vertical-align: middle;\n",
       "    }\n",
       "\n",
       "    .dataframe tbody tr th {\n",
       "        vertical-align: top;\n",
       "    }\n",
       "\n",
       "    .dataframe thead th {\n",
       "        text-align: right;\n",
       "    }\n",
       "</style>\n",
       "<table border=\"1\" class=\"dataframe\">\n",
       "  <thead>\n",
       "    <tr style=\"text-align: right;\">\n",
       "      <th></th>\n",
       "      <th>0</th>\n",
       "      <th>1</th>\n",
       "      <th>2</th>\n",
       "      <th>3</th>\n",
       "      <th>4</th>\n",
       "      <th>5</th>\n",
       "      <th>6</th>\n",
       "      <th>7</th>\n",
       "      <th>8</th>\n",
       "      <th>9</th>\n",
       "      <th>...</th>\n",
       "      <th>491</th>\n",
       "      <th>492</th>\n",
       "      <th>493</th>\n",
       "      <th>494</th>\n",
       "      <th>495</th>\n",
       "      <th>496</th>\n",
       "      <th>497</th>\n",
       "      <th>498</th>\n",
       "      <th>499</th>\n",
       "      <th>500</th>\n",
       "    </tr>\n",
       "  </thead>\n",
       "  <tbody>\n",
       "    <tr>\n",
       "      <th>0</th>\n",
       "      <td>1.000000</td>\n",
       "      <td>0.954423</td>\n",
       "      <td>0.822322</td>\n",
       "      <td>0.622421</td>\n",
       "      <td>0.385677</td>\n",
       "      <td>0.144447</td>\n",
       "      <td>-0.077252</td>\n",
       "      <td>-0.265860</td>\n",
       "      <td>-0.416212</td>\n",
       "      <td>-0.529767</td>\n",
       "      <td>...</td>\n",
       "      <td>-0.012600</td>\n",
       "      <td>-0.018467</td>\n",
       "      <td>-0.023099</td>\n",
       "      <td>-0.025823</td>\n",
       "      <td>-0.025997</td>\n",
       "      <td>-0.023516</td>\n",
       "      <td>-0.018694</td>\n",
       "      <td>-0.012333</td>\n",
       "      <td>-0.005425</td>\n",
       "      <td>-0.001798</td>\n",
       "    </tr>\n",
       "    <tr>\n",
       "      <th>1</th>\n",
       "      <td>0.954423</td>\n",
       "      <td>1.000000</td>\n",
       "      <td>0.952987</td>\n",
       "      <td>0.818321</td>\n",
       "      <td>0.618418</td>\n",
       "      <td>0.384680</td>\n",
       "      <td>0.146304</td>\n",
       "      <td>-0.074912</td>\n",
       "      <td>-0.265217</td>\n",
       "      <td>-0.419107</td>\n",
       "      <td>...</td>\n",
       "      <td>-0.009324</td>\n",
       "      <td>-0.016344</td>\n",
       "      <td>-0.022216</td>\n",
       "      <td>-0.026320</td>\n",
       "      <td>-0.027900</td>\n",
       "      <td>-0.026675</td>\n",
       "      <td>-0.022786</td>\n",
       "      <td>-0.016907</td>\n",
       "      <td>-0.010106</td>\n",
       "      <td>-0.000179</td>\n",
       "    </tr>\n",
       "    <tr>\n",
       "      <th>2</th>\n",
       "      <td>0.822322</td>\n",
       "      <td>0.952987</td>\n",
       "      <td>1.000000</td>\n",
       "      <td>0.952374</td>\n",
       "      <td>0.818324</td>\n",
       "      <td>0.621339</td>\n",
       "      <td>0.389996</td>\n",
       "      <td>0.151150</td>\n",
       "      <td>-0.073028</td>\n",
       "      <td>-0.267673</td>\n",
       "      <td>...</td>\n",
       "      <td>-0.005471</td>\n",
       "      <td>-0.012955</td>\n",
       "      <td>-0.019416</td>\n",
       "      <td>-0.024362</td>\n",
       "      <td>-0.027024</td>\n",
       "      <td>-0.027015</td>\n",
       "      <td>-0.024339</td>\n",
       "      <td>-0.019493</td>\n",
       "      <td>-0.013519</td>\n",
       "      <td>0.002418</td>\n",
       "    </tr>\n",
       "    <tr>\n",
       "      <th>3</th>\n",
       "      <td>0.622421</td>\n",
       "      <td>0.818321</td>\n",
       "      <td>0.952374</td>\n",
       "      <td>1.000000</td>\n",
       "      <td>0.952968</td>\n",
       "      <td>0.821350</td>\n",
       "      <td>0.626552</td>\n",
       "      <td>0.394791</td>\n",
       "      <td>0.153205</td>\n",
       "      <td>-0.074534</td>\n",
       "      <td>...</td>\n",
       "      <td>-0.002424</td>\n",
       "      <td>-0.009199</td>\n",
       "      <td>-0.015078</td>\n",
       "      <td>-0.019842</td>\n",
       "      <td>-0.022891</td>\n",
       "      <td>-0.023831</td>\n",
       "      <td>-0.022574</td>\n",
       "      <td>-0.019336</td>\n",
       "      <td>-0.014971</td>\n",
       "      <td>0.005078</td>\n",
       "    </tr>\n",
       "    <tr>\n",
       "      <th>4</th>\n",
       "      <td>0.385677</td>\n",
       "      <td>0.618418</td>\n",
       "      <td>0.818324</td>\n",
       "      <td>0.952968</td>\n",
       "      <td>1.000000</td>\n",
       "      <td>0.953907</td>\n",
       "      <td>0.823774</td>\n",
       "      <td>0.628798</td>\n",
       "      <td>0.395187</td>\n",
       "      <td>0.151540</td>\n",
       "      <td>...</td>\n",
       "      <td>-0.000935</td>\n",
       "      <td>-0.005737</td>\n",
       "      <td>-0.009807</td>\n",
       "      <td>-0.013313</td>\n",
       "      <td>-0.015991</td>\n",
       "      <td>-0.017518</td>\n",
       "      <td>-0.017735</td>\n",
       "      <td>-0.016491</td>\n",
       "      <td>-0.014291</td>\n",
       "      <td>0.006737</td>\n",
       "    </tr>\n",
       "    <tr>\n",
       "      <th>...</th>\n",
       "      <td>...</td>\n",
       "      <td>...</td>\n",
       "      <td>...</td>\n",
       "      <td>...</td>\n",
       "      <td>...</td>\n",
       "      <td>...</td>\n",
       "      <td>...</td>\n",
       "      <td>...</td>\n",
       "      <td>...</td>\n",
       "      <td>...</td>\n",
       "      <td>...</td>\n",
       "      <td>...</td>\n",
       "      <td>...</td>\n",
       "      <td>...</td>\n",
       "      <td>...</td>\n",
       "      <td>...</td>\n",
       "      <td>...</td>\n",
       "      <td>...</td>\n",
       "      <td>...</td>\n",
       "      <td>...</td>\n",
       "      <td>...</td>\n",
       "    </tr>\n",
       "    <tr>\n",
       "      <th>496</th>\n",
       "      <td>-0.023516</td>\n",
       "      <td>-0.026675</td>\n",
       "      <td>-0.027015</td>\n",
       "      <td>-0.023831</td>\n",
       "      <td>-0.017518</td>\n",
       "      <td>-0.008905</td>\n",
       "      <td>0.000470</td>\n",
       "      <td>0.008713</td>\n",
       "      <td>0.014109</td>\n",
       "      <td>0.015841</td>\n",
       "      <td>...</td>\n",
       "      <td>0.122233</td>\n",
       "      <td>0.366955</td>\n",
       "      <td>0.604706</td>\n",
       "      <td>0.808644</td>\n",
       "      <td>0.949194</td>\n",
       "      <td>1.000000</td>\n",
       "      <td>0.948881</td>\n",
       "      <td>0.807286</td>\n",
       "      <td>0.604859</td>\n",
       "      <td>0.006853</td>\n",
       "    </tr>\n",
       "    <tr>\n",
       "      <th>497</th>\n",
       "      <td>-0.018694</td>\n",
       "      <td>-0.022786</td>\n",
       "      <td>-0.024339</td>\n",
       "      <td>-0.022574</td>\n",
       "      <td>-0.017735</td>\n",
       "      <td>-0.010492</td>\n",
       "      <td>-0.002186</td>\n",
       "      <td>0.005520</td>\n",
       "      <td>0.010907</td>\n",
       "      <td>0.013008</td>\n",
       "      <td>...</td>\n",
       "      <td>-0.112377</td>\n",
       "      <td>0.111490</td>\n",
       "      <td>0.354476</td>\n",
       "      <td>0.595339</td>\n",
       "      <td>0.804717</td>\n",
       "      <td>0.948881</td>\n",
       "      <td>1.000000</td>\n",
       "      <td>0.950583</td>\n",
       "      <td>0.815771</td>\n",
       "      <td>0.005096</td>\n",
       "    </tr>\n",
       "    <tr>\n",
       "      <th>498</th>\n",
       "      <td>-0.012333</td>\n",
       "      <td>-0.016907</td>\n",
       "      <td>-0.019493</td>\n",
       "      <td>-0.019336</td>\n",
       "      <td>-0.016491</td>\n",
       "      <td>-0.011381</td>\n",
       "      <td>-0.005009</td>\n",
       "      <td>0.001332</td>\n",
       "      <td>0.006073</td>\n",
       "      <td>0.008161</td>\n",
       "      <td>...</td>\n",
       "      <td>-0.306513</td>\n",
       "      <td>-0.120148</td>\n",
       "      <td>0.102057</td>\n",
       "      <td>0.347812</td>\n",
       "      <td>0.594072</td>\n",
       "      <td>0.807286</td>\n",
       "      <td>0.950583</td>\n",
       "      <td>1.000000</td>\n",
       "      <td>0.953320</td>\n",
       "      <td>0.001835</td>\n",
       "    </tr>\n",
       "    <tr>\n",
       "      <th>499</th>\n",
       "      <td>-0.005425</td>\n",
       "      <td>-0.010106</td>\n",
       "      <td>-0.013519</td>\n",
       "      <td>-0.014971</td>\n",
       "      <td>-0.014291</td>\n",
       "      <td>-0.011581</td>\n",
       "      <td>-0.007436</td>\n",
       "      <td>-0.002763</td>\n",
       "      <td>0.001066</td>\n",
       "      <td>0.002943</td>\n",
       "      <td>...</td>\n",
       "      <td>-0.453497</td>\n",
       "      <td>-0.309476</td>\n",
       "      <td>-0.122776</td>\n",
       "      <td>0.103133</td>\n",
       "      <td>0.354688</td>\n",
       "      <td>0.604859</td>\n",
       "      <td>0.815771</td>\n",
       "      <td>0.953320</td>\n",
       "      <td>1.000000</td>\n",
       "      <td>-0.001546</td>\n",
       "    </tr>\n",
       "    <tr>\n",
       "      <th>500</th>\n",
       "      <td>-0.001798</td>\n",
       "      <td>-0.000179</td>\n",
       "      <td>0.002418</td>\n",
       "      <td>0.005078</td>\n",
       "      <td>0.006737</td>\n",
       "      <td>0.006680</td>\n",
       "      <td>0.005619</td>\n",
       "      <td>0.004253</td>\n",
       "      <td>0.003009</td>\n",
       "      <td>0.003154</td>\n",
       "      <td>...</td>\n",
       "      <td>-0.016895</td>\n",
       "      <td>-0.011359</td>\n",
       "      <td>-0.004674</td>\n",
       "      <td>0.001572</td>\n",
       "      <td>0.005768</td>\n",
       "      <td>0.006853</td>\n",
       "      <td>0.005096</td>\n",
       "      <td>0.001835</td>\n",
       "      <td>-0.001546</td>\n",
       "      <td>1.000000</td>\n",
       "    </tr>\n",
       "  </tbody>\n",
       "</table>\n",
       "<p>501 rows × 501 columns</p>\n",
       "</div>"
      ],
      "text/plain": [
       "          0         1         2         3         4         5         6    \\\n",
       "0    1.000000  0.954423  0.822322  0.622421  0.385677  0.144447 -0.077252   \n",
       "1    0.954423  1.000000  0.952987  0.818321  0.618418  0.384680  0.146304   \n",
       "2    0.822322  0.952987  1.000000  0.952374  0.818324  0.621339  0.389996   \n",
       "3    0.622421  0.818321  0.952374  1.000000  0.952968  0.821350  0.626552   \n",
       "4    0.385677  0.618418  0.818324  0.952968  1.000000  0.953907  0.823774   \n",
       "..        ...       ...       ...       ...       ...       ...       ...   \n",
       "496 -0.023516 -0.026675 -0.027015 -0.023831 -0.017518 -0.008905  0.000470   \n",
       "497 -0.018694 -0.022786 -0.024339 -0.022574 -0.017735 -0.010492 -0.002186   \n",
       "498 -0.012333 -0.016907 -0.019493 -0.019336 -0.016491 -0.011381 -0.005009   \n",
       "499 -0.005425 -0.010106 -0.013519 -0.014971 -0.014291 -0.011581 -0.007436   \n",
       "500 -0.001798 -0.000179  0.002418  0.005078  0.006737  0.006680  0.005619   \n",
       "\n",
       "          7         8         9    ...       491       492       493  \\\n",
       "0   -0.265860 -0.416212 -0.529767  ... -0.012600 -0.018467 -0.023099   \n",
       "1   -0.074912 -0.265217 -0.419107  ... -0.009324 -0.016344 -0.022216   \n",
       "2    0.151150 -0.073028 -0.267673  ... -0.005471 -0.012955 -0.019416   \n",
       "3    0.394791  0.153205 -0.074534  ... -0.002424 -0.009199 -0.015078   \n",
       "4    0.628798  0.395187  0.151540  ... -0.000935 -0.005737 -0.009807   \n",
       "..        ...       ...       ...  ...       ...       ...       ...   \n",
       "496  0.008713  0.014109  0.015841  ...  0.122233  0.366955  0.604706   \n",
       "497  0.005520  0.010907  0.013008  ... -0.112377  0.111490  0.354476   \n",
       "498  0.001332  0.006073  0.008161  ... -0.306513 -0.120148  0.102057   \n",
       "499 -0.002763  0.001066  0.002943  ... -0.453497 -0.309476 -0.122776   \n",
       "500  0.004253  0.003009  0.003154  ... -0.016895 -0.011359 -0.004674   \n",
       "\n",
       "          494       495       496       497       498       499       500  \n",
       "0   -0.025823 -0.025997 -0.023516 -0.018694 -0.012333 -0.005425 -0.001798  \n",
       "1   -0.026320 -0.027900 -0.026675 -0.022786 -0.016907 -0.010106 -0.000179  \n",
       "2   -0.024362 -0.027024 -0.027015 -0.024339 -0.019493 -0.013519  0.002418  \n",
       "3   -0.019842 -0.022891 -0.023831 -0.022574 -0.019336 -0.014971  0.005078  \n",
       "4   -0.013313 -0.015991 -0.017518 -0.017735 -0.016491 -0.014291  0.006737  \n",
       "..        ...       ...       ...       ...       ...       ...       ...  \n",
       "496  0.808644  0.949194  1.000000  0.948881  0.807286  0.604859  0.006853  \n",
       "497  0.595339  0.804717  0.948881  1.000000  0.950583  0.815771  0.005096  \n",
       "498  0.347812  0.594072  0.807286  0.950583  1.000000  0.953320  0.001835  \n",
       "499  0.103133  0.354688  0.604859  0.815771  0.953320  1.000000 -0.001546  \n",
       "500  0.001572  0.005768  0.006853  0.005096  0.001835 -0.001546  1.000000  \n",
       "\n",
       "[501 rows x 501 columns]"
      ]
     },
     "execution_count": 6,
     "metadata": {},
     "output_type": "execute_result"
    }
   ],
   "source": [
    "# 상관관계 확인 --> 데이터가 너무 많아서 히트맵은 못그림\n",
    "corr = df.corr()\n",
    "# sns.heatmap(corr, annot=True, fmt='.2f', cmap='Blues')\n",
    "corr"
   ]
  },
  {
   "cell_type": "markdown",
   "id": "2bf6ba98-a4f4-489a-90f2-8d332040aa58",
   "metadata": {},
   "source": [
    "### +"
   ]
  },
  {
   "cell_type": "code",
   "execution_count": 7,
   "id": "739310c8-e553-4b43-8ff8-2110f8258e13",
   "metadata": {},
   "outputs": [
    {
     "data": {
      "image/png": "[encoded data removed]",
      "text/plain": [
       "<Figure size 1440x360 with 1 Axes>"
      ]
     },
     "metadata": {
      "needs_background": "light"
     },
     "output_type": "display_data"
    }
   ],
   "source": [
    "# 센서 데이터 확인\n",
    "sensor = np.random.randint(0, 500)\n",
    "\n",
    "plt.figure(figsize = (20, 5))\n",
    "plt.plot(df.iloc[:, sensor])\n",
    "plt.xlabel(\"Time\")\n",
    "plt.ylabel(\"Sensor Value\")\n",
    "plt.show()"
   ]
  },
  {
   "cell_type": "markdown",
   "id": "d7753cfd-745a-4ea2-aaa3-69af25f9d3fa",
   "metadata": {},
   "source": [
    "## 3. 학습"
   ]
  },
  {
   "cell_type": "code",
   "execution_count": 8,
   "id": "766f61d7",
   "metadata": {},
   "outputs": [
    {
     "data": {
      "text/plain": [
       "-1.0    2527\n",
       " 1.0    2394\n",
       "Name: 500, dtype: int64"
      ]
     },
     "execution_count": 8,
     "metadata": {},
     "output_type": "execute_result"
    }
   ],
   "source": [
    "df[500].value_counts()"
   ]
  },
  {
   "cell_type": "code",
   "execution_count": 9,
   "id": "1764e29a-60da-4f84-a5a4-bd6b5cf7be16",
   "metadata": {},
   "outputs": [],
   "source": [
    "from sklearn.model_selection import train_test_split\n",
    "from sklearn.preprocessing import StandardScaler\n",
    "\n",
    "X = df.drop([500], axis=1)\n",
    "y = df[500]\n",
    "\n",
    "X_train, X_test, y_train, y_test = train_test_split(X, y, test_size=0.3, random_state=10)\n",
    "\n",
    "# 스케일링\n",
    "scaler = StandardScaler()\n",
    "X_train = scaler.fit_transform(X_train)\n",
    "X_test = scaler.transform(X_test)"
   ]
  },
  {
   "cell_type": "code",
   "execution_count": 10,
   "id": "7b667999-8045-4be8-9b2f-4a97ec71a1db",
   "metadata": {},
   "outputs": [
    {
     "name": "stdout",
     "output_type": "stream",
     "text": [
      "(3444, 500)\n",
      "(1477, 500)\n",
      "(3444,)\n",
      "(1477,)\n"
     ]
    }
   ],
   "source": [
    "print(X_train.shape)\n",
    "print(X_test.shape)\n",
    "print(y_train.shape)\n",
    "print(y_test.shape)"
   ]
  },
  {
   "cell_type": "markdown",
   "id": "f5635037",
   "metadata": {},
   "source": [
    "### 3-1. Logistic Regression"
   ]
  },
  {
   "cell_type": "code",
   "execution_count": 11,
   "id": "96e23507-bce0-4f6a-a934-6558decc6ec1",
   "metadata": {},
   "outputs": [
    {
     "name": "stdout",
     "output_type": "stream",
     "text": [
      "Accuracy: 0.5016926201760324\n",
      "              precision    recall  f1-score   support\n",
      "\n",
      "        -1.0       0.52      0.52      0.52       767\n",
      "         1.0       0.48      0.48      0.48       710\n",
      "\n",
      "    accuracy                           0.50      1477\n",
      "   macro avg       0.50      0.50      0.50      1477\n",
      "weighted avg       0.50      0.50      0.50      1477\n",
      "\n"
     ]
    }
   ],
   "source": [
    "from sklearn.linear_model import LogisticRegression\n",
    "from sklearn.metrics import accuracy_score, confusion_matrix, classification_report\n",
    "from sklearn.metrics import plot_confusion_matrix\n",
    "\n",
    "lr = LogisticRegression()\n",
    "lr.fit(X_train, y_train)\n",
    "lr_pred = lr.predict(X_test)\n",
    "\n",
    "lr_accu = accuracy_score(y_test, lr_pred)\n",
    "\n",
    "print(\"Accuracy:\", lr_accu)\n",
    "print(classification_report(y_test, lr_pred))"
   ]
  },
  {
   "cell_type": "markdown",
   "id": "a8a3cf60-1d41-41ba-88de-dabca0f7fd6e",
   "metadata": {},
   "source": [
    "### 3-2. XGBoost"
   ]
  },
  {
   "cell_type": "code",
   "execution_count": 12,
   "id": "fc151f97",
   "metadata": {},
   "outputs": [],
   "source": [
    "# pip install xgboost"
   ]
  },
  {
   "cell_type": "code",
   "execution_count": 13,
   "id": "f7cfcefa-e992-4b7e-a49f-1faff2b075b6",
   "metadata": {},
   "outputs": [
    {
     "name": "stdout",
     "output_type": "stream",
     "text": [
      "[16:48:05] WARNING: /opt/concourse/worker/volumes/live/7a2b9f41-3287-451b-6691-43e9a6c0910f/volume/xgboost-split_1619728204606/work/src/learner.cc:1061: Starting in XGBoost 1.3.0, the default evaluation metric used with the objective 'binary:logistic' was changed from 'error' to 'logloss'. Explicitly set eval_metric if you'd like to restore the old behavior.\n",
      "Accuracy: 0.7894380501015572\n",
      "              precision    recall  f1-score   support\n",
      "\n",
      "        -1.0       0.80      0.79      0.80       767\n",
      "         1.0       0.78      0.79      0.78       710\n",
      "\n",
      "    accuracy                           0.79      1477\n",
      "   macro avg       0.79      0.79      0.79      1477\n",
      "weighted avg       0.79      0.79      0.79      1477\n",
      "\n"
     ]
    }
   ],
   "source": [
    "from xgboost import XGBClassifier\n",
    "\n",
    "xgb = XGBClassifier()\n",
    "xgb.fit(X_train, y_train)\n",
    "xgb_pred = xgb.predict(X_test)\n",
    "\n",
    "xgb_accu = accuracy_score(y_test, xgb_pred)\n",
    "\n",
    "print(\"Accuracy:\", xgb_accu)\n",
    "print(classification_report(y_test, xgb_pred))"
   ]
  },
  {
   "cell_type": "markdown",
   "id": "293f4375-6932-4849-90b1-2c131da53b8a",
   "metadata": {},
   "source": [
    "### 3-3. LSTM"
   ]
  },
  {
   "cell_type": "code",
   "execution_count": 149,
   "id": "2e84af34-1d2b-4dd4-9956-14fce384ab9f",
   "metadata": {},
   "outputs": [
    {
     "name": "stdout",
     "output_type": "stream",
     "text": [
      "(3444, 500, 1)\n",
      "(1477, 500, 1)\n"
     ]
    }
   ],
   "source": [
    "# 확장\n",
    "X_train_exp = np.expand_dims(X_train, axis=-1)\n",
    "X_test_exp = np.expand_dims(X_test, axis=-1)\n",
    "print(X_train_exp.shape)\n",
    "print(X_test_exp.shape)"
   ]
  },
  {
   "cell_type": "code",
   "execution_count": 15,
   "id": "c9308faf-9ceb-49b9-91c1-2a8a0e833d73",
   "metadata": {},
   "outputs": [
    {
     "name": "stdout",
     "output_type": "stream",
     "text": [
      "(3444,)\n",
      "(1477,)\n"
     ]
    }
   ],
   "source": [
    "# Label에서 Anomaly -1을 0으로 변환\n",
    "y_train[y_train == -1] = 0\n",
    "y_test[y_test == -1] = 0\n",
    "\n",
    "print(y_train.shape)\n",
    "print(y_test.shape)"
   ]
  },
  {
   "cell_type": "code",
   "execution_count": 25,
   "id": "f0ff1588-b4dc-47c1-a207-d78a7f00d05d",
   "metadata": {},
   "outputs": [],
   "source": [
    "import tensorflow as tf\n",
    "from tensorflow import keras\n",
    "from tensorflow.keras import layers\n",
    "from tensorflow.keras.layers import LSTM, Dense, Activation, Flatten\n",
    "from keras.models import Sequential\n",
    "\n",
    "model = Sequential()\n",
    "model.add(LSTM(256, return_sequences=True))\n",
    "model.add(Flatten())\n",
    "model.add(Dense(100, activation='relu'))\n",
    "model.add(Dense(2, activation='softmax'))\n",
    "\n",
    "# 이 경우에는 model.summary()가 안됨"
   ]
  },
  {
   "cell_type": "code",
   "execution_count": 26,
   "id": "07106482-e264-40ef-95e6-f49c86ffe19b",
   "metadata": {},
   "outputs": [],
   "source": [
    "model.compile(optimizer='adam',\n",
    "              loss='sparse_categorical_crossentropy',\n",
    "              metrics=['sparse_categorical_accuracy']\n",
    "             )"
   ]
  },
  {
   "cell_type": "code",
   "execution_count": 27,
   "id": "fa77ae9f-67e9-43dc-b871-d23818f549a5",
   "metadata": {},
   "outputs": [
    {
     "name": "stdout",
     "output_type": "stream",
     "text": [
      "Epoch 1/10\n",
      "11/11 [==============================] - 21s 2s/step - loss: 0.7559 - sparse_categorical_accuracy: 0.6163 - val_loss: 0.6510 - val_sparse_categorical_accuracy: 0.5878\n",
      "Epoch 2/10\n",
      "11/11 [==============================] - 19s 2s/step - loss: 0.5761 - sparse_categorical_accuracy: 0.7074 - val_loss: 0.6026 - val_sparse_categorical_accuracy: 0.6633\n",
      "Epoch 3/10\n",
      "11/11 [==============================] - 19s 2s/step - loss: 0.5145 - sparse_categorical_accuracy: 0.7510 - val_loss: 0.6125 - val_sparse_categorical_accuracy: 0.6444\n",
      "Epoch 4/10\n",
      "11/11 [==============================] - 19s 2s/step - loss: 0.4643 - sparse_categorical_accuracy: 0.7840 - val_loss: 0.6134 - val_sparse_categorical_accuracy: 0.6851\n",
      "Epoch 5/10\n",
      "11/11 [==============================] - 20s 2s/step - loss: 0.4059 - sparse_categorical_accuracy: 0.8138 - val_loss: 0.5668 - val_sparse_categorical_accuracy: 0.7199\n",
      "Epoch 6/10\n",
      "11/11 [==============================] - 19s 2s/step - loss: 0.3583 - sparse_categorical_accuracy: 0.8439 - val_loss: 0.5782 - val_sparse_categorical_accuracy: 0.7271\n",
      "Epoch 7/10\n",
      "11/11 [==============================] - 19s 2s/step - loss: 0.3053 - sparse_categorical_accuracy: 0.8711 - val_loss: 0.6034 - val_sparse_categorical_accuracy: 0.7228\n",
      "Epoch 8/10\n",
      "11/11 [==============================] - 19s 2s/step - loss: 0.2413 - sparse_categorical_accuracy: 0.9085 - val_loss: 0.6706 - val_sparse_categorical_accuracy: 0.7228\n",
      "Epoch 9/10\n",
      "11/11 [==============================] - 19s 2s/step - loss: 0.1880 - sparse_categorical_accuracy: 0.9321 - val_loss: 0.8490 - val_sparse_categorical_accuracy: 0.7242\n",
      "Epoch 10/10\n",
      "11/11 [==============================] - 19s 2s/step - loss: 0.1613 - sparse_categorical_accuracy: 0.9394 - val_loss: 0.8279 - val_sparse_categorical_accuracy: 0.7460\n"
     ]
    },
    {
     "data": {
      "text/plain": [
       "<keras.callbacks.History at 0x7fa5512afbe0>"
      ]
     },
     "execution_count": 27,
     "metadata": {},
     "output_type": "execute_result"
    }
   ],
   "source": [
    "from tensorflow.keras.callbacks import EarlyStopping\n",
    "early_stop = EarlyStopping(monitor='loss', patience=5)\n",
    "\n",
    "model.fit(X_train_re, y_train, batch_size=256, epochs=10, callbacks=[early_stop], validation_split=0.2, verbose=1)"
   ]
  },
  {
   "cell_type": "code",
   "execution_count": 28,
   "id": "523e4662-8265-481a-b688-f7f174fbf82f",
   "metadata": {
    "tags": []
   },
   "outputs": [
    {
     "name": "stdout",
     "output_type": "stream",
     "text": [
      "47/47 [==============================] - 5s 114ms/step - loss: 0.7696 - sparse_categorical_accuracy: 0.7563\n"
     ]
    },
    {
     "data": {
      "text/plain": [
       "[0.7695984244346619, 0.7562627196311951]"
      ]
     },
     "execution_count": 28,
     "metadata": {},
     "output_type": "execute_result"
    }
   ],
   "source": [
    "model.evaluate(X_test_re, y_test)"
   ]
  },
  {
   "cell_type": "code",
   "execution_count": 34,
   "id": "510e6369-afea-479d-afbd-3201ea267df9",
   "metadata": {},
   "outputs": [
    {
     "data": {
      "text/plain": [
       "array([0, 1, 0, ..., 0, 1, 1])"
      ]
     },
     "execution_count": 34,
     "metadata": {},
     "output_type": "execute_result"
    }
   ],
   "source": [
    "y_pred = model.predict(X_test_re).argmax(axis=-1)\n",
    "y_pred"
   ]
  },
  {
   "cell_type": "code",
   "execution_count": 35,
   "id": "4a7d2560-56b1-4b06-bde5-c834b10395a0",
   "metadata": {},
   "outputs": [
    {
     "name": "stdout",
     "output_type": "stream",
     "text": [
      "              precision    recall  f1-score   support\n",
      "\n",
      "         0.0       0.75      0.80      0.77       767\n",
      "         1.0       0.77      0.70      0.74       710\n",
      "\n",
      "    accuracy                           0.76      1477\n",
      "   macro avg       0.76      0.75      0.75      1477\n",
      "weighted avg       0.76      0.76      0.76      1477\n",
      "\n"
     ]
    }
   ],
   "source": [
    "print(classification_report(y_test, y_pred))"
   ]
  },
  {
   "cell_type": "code",
   "execution_count": null,
   "id": "13e67db2-5099-49bd-84c3-ec54bf6cac86",
   "metadata": {
    "tags": []
   },
   "outputs": [],
   "source": [
    "# 컴파일에 sparse를 사용하지 않는 경우 predict값이 0,1이 아닌 softmax의 확률값으로 나오기 때문에 argmax처리 해줘야함\n",
    "# model.compile(optimizer='adam',\n",
    "#               loss='sparse_categorical_crossentropy',\n",
    "#               metrics=['sparse_categorical_accuracy']\n",
    "#              )\n",
    "# y_pred = model.predict(X_test_re).argmax(axis=-1)"
   ]
  },
  {
   "cell_type": "code",
   "execution_count": null,
   "id": "5e395f5f-5385-4cec-ac6c-fcaa4b2f7b03",
   "metadata": {},
   "outputs": [],
   "source": []
  },
  {
   "cell_type": "code",
   "execution_count": null,
   "id": "1d4cf37b-116f-4db8-8115-4ae1c0821e39",
   "metadata": {},
   "outputs": [],
   "source": []
  },
  {
   "cell_type": "code",
   "execution_count": null,
   "id": "24464155-10b1-4fec-8ae1-342bd6f934b7",
   "metadata": {},
   "outputs": [],
   "source": []
  }
 ],
 "metadata": {
  "kernelspec": {
   "display_name": "Python 3",
   "language": "python",
   "name": "python3"
  },
  "language_info": {
   "codemirror_mode": {
    "name": "ipython",
    "version": 3
   },
   "file_extension": ".py",
   "mimetype": "text/x-python",
   "name": "python",
   "nbconvert_exporter": "python",
   "pygments_lexer": "ipython3",
   "version": "3.8.8"
  }
 },
 "nbformat": 4,
 "nbformat_minor": 5
}

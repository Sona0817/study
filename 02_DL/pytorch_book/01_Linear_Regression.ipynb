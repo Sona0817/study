{
 "cells": [
  {
   "cell_type": "markdown",
   "id": "34c3d35d-2156-492c-89f8-e3a647601f0c",
   "metadata": {},
   "source": [
    "# PyTorch로 시작하는 딥러닝 입문\n",
    "https://wikidocs.net/book/2788\n",
    "## 01. 선형회귀\n",
    "파이토치로 선형회귀 구현하기\n",
    "### 1. 기본 셋팅"
   ]
  },
  {
   "cell_type": "code",
   "execution_count": 1,
   "id": "fdab1ea2-b6a6-464a-9e1a-01ad68bab722",
   "metadata": {},
   "outputs": [],
   "source": [
    "import torch\n",
    "import torch.nn as nn\n",
    "import torch.nn.functional as F\n",
    "import torch.optim as optim"
   ]
  },
  {
   "cell_type": "code",
   "execution_count": 2,
   "id": "a250ae24-2978-4b59-ab6f-6518ec618ea7",
   "metadata": {},
   "outputs": [
    {
     "data": {
      "text/plain": [
       "<torch._C.Generator at 0x7fa7307f6250>"
      ]
     },
     "execution_count": 2,
     "metadata": {},
     "output_type": "execute_result"
    }
   ],
   "source": [
    "# 현재 실습하고 있는 파이썬 코드를 재실행해도 같은 결과가 나오도록 랜덤시드 설정\n",
    "torch.manual_seed(1)"
   ]
  },
  {
   "cell_type": "markdown",
   "id": "a3fee774-1e96-4a17-a64a-fe5e45b66b41",
   "metadata": {},
   "source": [
    "### 2. 변수 선언"
   ]
  },
  {
   "cell_type": "code",
   "execution_count": 3,
   "id": "5a6ab0b1-0b09-4c16-9efc-1aa8e524c90a",
   "metadata": {},
   "outputs": [],
   "source": [
    "x_train = torch.FloatTensor([[1], [2], [3]])\n",
    "y_train = torch.FloatTensor([[2], [4], [6]])"
   ]
  },
  {
   "cell_type": "code",
   "execution_count": 5,
   "id": "a0248cfd-f118-4b6d-a796-0d71ef9db93d",
   "metadata": {},
   "outputs": [
    {
     "name": "stdout",
     "output_type": "stream",
     "text": [
      "x_train tensor([[1.],\n",
      "        [2.],\n",
      "        [3.]])\n",
      "x_train shape torch.Size([3, 1])\n",
      "\n",
      "y_train tensor([[2.],\n",
      "        [4.],\n",
      "        [6.]])\n",
      "y_train shape torch.Size([3, 1])\n"
     ]
    }
   ],
   "source": [
    "print('x_train', x_train)\n",
    "print('x_train shape', x_train.shape)\n",
    "print()\n",
    "print('y_train', y_train)\n",
    "print('y_train shape', y_train.shape)"
   ]
  },
  {
   "cell_type": "markdown",
   "id": "d319f704-55d0-4b38-ba8f-aa33a9d4f058",
   "metadata": {},
   "source": [
    "### 3. 가중치와 편향 초기화\n",
    "션형회귀란 학습데이터와 가장 잘 맞는 하나의 직선을 찾는 일  \n",
    "가장 잘 맞는 직선을 정의하는 것은 W(가중치)와 b(편향)  "
   ]
  },
  {
   "cell_type": "code",
   "execution_count": 6,
   "id": "8c50d922-9107-4912-b598-799366e2142b",
   "metadata": {},
   "outputs": [
    {
     "name": "stdout",
     "output_type": "stream",
     "text": [
      "tensor([0.], requires_grad=True)\n"
     ]
    }
   ],
   "source": [
    "# 가중치 W를 0으로 초기화, 학습을 통해 값이 변경되는 변수임(requires_grad=True)을 명시\n",
    "W = torch.zeros(1, requires_grad=True)\n",
    "print(W)"
   ]
  },
  {
   "cell_type": "code",
   "execution_count": 7,
   "id": "89860713-e9cf-4087-b61c-19d799252f98",
   "metadata": {},
   "outputs": [
    {
     "name": "stdout",
     "output_type": "stream",
     "text": [
      "tensor([0.], requires_grad=True)\n"
     ]
    }
   ],
   "source": [
    "# 편향 b를 0으로 초기화, 학습을 통해 값이 변경되는 변수임(requires_grad=True)을 명시\n",
    "b = torch.zeros(1, requires_grad=True)\n",
    "print(b)"
   ]
  },
  {
   "cell_type": "markdown",
   "id": "f158faa5-321c-45c3-a0ae-c3e147ab89f0",
   "metadata": {},
   "source": [
    "### 4. 가설 세우기\n",
    "가설 H = Wx + b"
   ]
  },
  {
   "cell_type": "code",
   "execution_count": 8,
   "id": "3790bdcb-9391-4e49-ab7a-a8656702ca79",
   "metadata": {},
   "outputs": [
    {
     "name": "stdout",
     "output_type": "stream",
     "text": [
      "tensor([[0.],\n",
      "        [0.],\n",
      "        [0.]], grad_fn=<AddBackward0>)\n"
     ]
    }
   ],
   "source": [
    "H = W*x_train + b\n",
    "print(H)"
   ]
  },
  {
   "cell_type": "markdown",
   "id": "85acc79b-dc19-41fe-9dc2-0357617e3f21",
   "metadata": {},
   "source": [
    "### 5. 비용함수 선언하기\n",
    "비용함수 cost = MSE = 평균(실제값 - 예측값)**2"
   ]
  },
  {
   "cell_type": "code",
   "execution_count": 9,
   "id": "ba9cf2f4-5b1c-4559-9539-883f09a11b31",
   "metadata": {},
   "outputs": [
    {
     "name": "stdout",
     "output_type": "stream",
     "text": [
      "tensor(18.6667, grad_fn=<MeanBackward0>)\n"
     ]
    }
   ],
   "source": [
    "cost = torch.mean((H - y_train)**2)\n",
    "print(cost)"
   ]
  },
  {
   "cell_type": "markdown",
   "id": "5617523e-601f-4c59-b80c-3bb0880e3c38",
   "metadata": {},
   "source": [
    "### 6. 경사하강법 구현하기\n",
    "SGD는 경사하강법의 일종  \n",
    "학습대상인 W, b 가 SGD의 입력값이 됨"
   ]
  },
  {
   "cell_type": "code",
   "execution_count": 10,
   "id": "0b6baaa0-248f-4447-86c9-427498d81216",
   "metadata": {},
   "outputs": [],
   "source": [
    "optimizer = optim.SGD([W, b], lr=0.01)"
   ]
  },
  {
   "cell_type": "code",
   "execution_count": 11,
   "id": "38c11af7-514f-4aec-8f89-3837434283e2",
   "metadata": {},
   "outputs": [],
   "source": [
    "# optimizer.zero_grad() 를 통해 gradient를 0으로 초기화\n",
    "# 기울기를 초기화해야만 새로운 가중치 편향에 대해서 새로운 기울기를 구할 수 있음\n",
    "# zero_grad()를 안하면 이건 값에 새로운 값이 누적됨\n",
    "optimizer.zero_grad()"
   ]
  },
  {
   "cell_type": "code",
   "execution_count": 12,
   "id": "bcddd733-3469-4651-8b29-712e6f77ffff",
   "metadata": {},
   "outputs": [],
   "source": [
    "# 비용함수 cost를 미분하여 gradient 계산\n",
    "cost.backward()"
   ]
  },
  {
   "cell_type": "code",
   "execution_count": 13,
   "id": "1892cea3-91b8-40e2-84d4-6dcb5463e1d5",
   "metadata": {},
   "outputs": [],
   "source": [
    "# step()를 통해 [W, b - (리턴되는 변수들의 기울기 * 학습률)] 값을 업데이트\n",
    "optimizer.step()"
   ]
  },
  {
   "cell_type": "markdown",
   "id": "32dd12a8-77d8-40a9-9ebd-d9c333aa965d",
   "metadata": {},
   "source": [
    "### 7. 여러번 학습시키기"
   ]
  },
  {
   "cell_type": "code",
   "execution_count": 16,
   "id": "3534432e-e8ec-40eb-9d11-016159186d25",
   "metadata": {},
   "outputs": [
    {
     "name": "stdout",
     "output_type": "stream",
     "text": [
      "Epoch: 0/999 \t가중치 W: 0.353 \t편향 b: 0.151 \t비용 cost: 14.771\n",
      "Epoch: 100/999 \t가중치 W: 1.746 \t편향 b: 0.577 \t비용 cost: 0.048\n",
      "Epoch: 200/999 \t가중치 W: 1.801 \t편향 b: 0.453 \t비용 cost: 0.030\n",
      "Epoch: 300/999 \t가중치 W: 1.843 \t편향 b: 0.356 \t비용 cost: 0.018\n",
      "Epoch: 400/999 \t가중치 W: 1.877 \t편향 b: 0.280 \t비용 cost: 0.011\n",
      "Epoch: 500/999 \t가중치 W: 1.903 \t편향 b: 0.220 \t비용 cost: 0.007\n",
      "Epoch: 600/999 \t가중치 W: 1.924 \t편향 b: 0.173 \t비용 cost: 0.004\n",
      "Epoch: 700/999 \t가중치 W: 1.940 \t편향 b: 0.136 \t비용 cost: 0.003\n",
      "Epoch: 800/999 \t가중치 W: 1.953 \t편향 b: 0.107 \t비용 cost: 0.002\n",
      "Epoch: 900/999 \t가중치 W: 1.963 \t편향 b: 0.084 \t비용 cost: 0.001\n"
     ]
    }
   ],
   "source": [
    "n_epochs = 999\n",
    "\n",
    "for epoch in range(n_epochs+1):\n",
    "    \n",
    "    # H 계산\n",
    "    H = W * x_train + b\n",
    "    \n",
    "    # cost 계산\n",
    "    cost = torch.mean((H - y_train) ** 2)\n",
    "    \n",
    "    # cost로 H(x) 업데이트\n",
    "    optimizer.zero_grad()\n",
    "    cost.backward()\n",
    "    optimizer.step()\n",
    "    \n",
    "    # 값 print\n",
    "    if epoch % 100 == 0:\n",
    "        print(f'Epoch: {epoch}/{n_epochs} \\t가중치 W: {W.item():.3f} \\t편향 b: {b.item():.3f} \\t비용 cost: {cost.item():.3f}')"
   ]
  },
  {
   "cell_type": "markdown",
   "id": "bb3ef09c-df14-4961-a3c4-419431bf0413",
   "metadata": {},
   "source": [
    "## 02. 자동 미분\n",
    "w = 2  \n",
    "z = 2w^2 + b  \n",
    "z' = 4w  "
   ]
  },
  {
   "cell_type": "code",
   "execution_count": 17,
   "id": "a32cceea-dfe4-435b-b380-69065b557e7e",
   "metadata": {},
   "outputs": [],
   "source": [
    "w = torch.tensor(2.0, requires_grad=True)"
   ]
  },
  {
   "cell_type": "code",
   "execution_count": 18,
   "id": "0342f8b8-af3e-43c5-b106-097bc32b9fd9",
   "metadata": {},
   "outputs": [],
   "source": [
    "y = w**2\n",
    "z = 2*y + 5"
   ]
  },
  {
   "cell_type": "code",
   "execution_count": 19,
   "id": "98bd8a45-1c7d-4bd5-ae62-ca37e28f76e7",
   "metadata": {},
   "outputs": [],
   "source": [
    "# w에 대해서 미분\n",
    "z.backward()"
   ]
  },
  {
   "cell_type": "code",
   "execution_count": 20,
   "id": "85e509b5-913b-40a2-9af3-9e2fddbe18c4",
   "metadata": {},
   "outputs": [
    {
     "name": "stdout",
     "output_type": "stream",
     "text": [
      "수식을 w로 미분한 값: 8.0\n"
     ]
    }
   ],
   "source": [
    "print(f'수식을 w로 미분한 값: {w.grad}')"
   ]
  },
  {
   "cell_type": "markdown",
   "id": "40493863-d66d-4399-b8ef-5ef8c881b294",
   "metadata": {},
   "source": [
    "## 03. 다중 선형 회귀\n",
    "독립변수가 1개인 경우 H = Wx +b  \n",
    "독립변수가 3개인 경우 H = w1x1 + w2x2 + w3x3 + b"
   ]
  },
  {
   "cell_type": "code",
   "execution_count": 51,
   "id": "42ed10ac-1929-4da7-ac46-3415ce8d32d3",
   "metadata": {},
   "outputs": [],
   "source": [
    "x1_train = torch.FloatTensor([[73], [93], [89], [96], [73]])\n",
    "x2_train = torch.FloatTensor([[80], [88], [91], [98], [66]])\n",
    "x3_train = torch.FloatTensor([[75], [93], [90], [100], [70]])\n",
    "y_train = torch.FloatTensor([[152], [185], [180], [196], [142]])"
   ]
  },
  {
   "cell_type": "code",
   "execution_count": 52,
   "id": "00e187e6-ef14-4482-9e36-1eff8571aa36",
   "metadata": {},
   "outputs": [],
   "source": [
    "# 가중치 3개, 편향 1개 선언\n",
    "w1 = torch.zeros(1, requires_grad=True)\n",
    "w2 = torch.zeros(1, requires_grad=True)\n",
    "w3 = torch.zeros(1, requires_grad=True)\n",
    "b = torch.zeros(1, requires_grad=True)"
   ]
  },
  {
   "cell_type": "code",
   "execution_count": 53,
   "id": "d7d36bfe-c25b-4a6b-ae29-9fbf5ba5d293",
   "metadata": {},
   "outputs": [
    {
     "name": "stdout",
     "output_type": "stream",
     "text": [
      "Epoch: 0/100\n",
      "가중치 w1: 0.294 \t가중치 w2: 0.294 \t가중치 w3: 0.297\n",
      "편향 b: 0.003 \t비용 cost: 29661.801\n",
      "\n",
      "Epoch: 10/100\n",
      "가중치 w1: 0.667 \t가중치 w2: 0.665 \t가중치 w3: 0.675\n",
      "편향 b: 0.008 \t비용 cost: 1.898\n",
      "\n",
      "Epoch: 20/100\n",
      "가중치 w1: 0.669 \t가중치 w2: 0.666 \t가중치 w3: 0.676\n",
      "편향 b: 0.008 \t비용 cost: 1.619\n",
      "\n",
      "Epoch: 30/100\n",
      "가중치 w1: 0.670 \t가중치 w2: 0.665 \t가중치 w3: 0.676\n",
      "편향 b: 0.008 \t비용 cost: 1.612\n",
      "\n",
      "Epoch: 40/100\n",
      "가중치 w1: 0.670 \t가중치 w2: 0.665 \t가중치 w3: 0.676\n",
      "편향 b: 0.008 \t비용 cost: 1.605\n",
      "\n",
      "Epoch: 50/100\n",
      "가중치 w1: 0.671 \t가중치 w2: 0.664 \t가중치 w3: 0.676\n",
      "편향 b: 0.008 \t비용 cost: 1.598\n",
      "\n",
      "Epoch: 60/100\n",
      "가중치 w1: 0.671 \t가중치 w2: 0.663 \t가중치 w3: 0.676\n",
      "편향 b: 0.008 \t비용 cost: 1.591\n",
      "\n",
      "Epoch: 70/100\n",
      "가중치 w1: 0.672 \t가중치 w2: 0.663 \t가중치 w3: 0.676\n",
      "편향 b: 0.008 \t비용 cost: 1.584\n",
      "\n",
      "Epoch: 80/100\n",
      "가중치 w1: 0.672 \t가중치 w2: 0.662 \t가중치 w3: 0.676\n",
      "편향 b: 0.008 \t비용 cost: 1.577\n",
      "\n",
      "Epoch: 90/100\n",
      "가중치 w1: 0.673 \t가중치 w2: 0.662 \t가중치 w3: 0.676\n",
      "편향 b: 0.008 \t비용 cost: 1.570\n",
      "\n",
      "Epoch: 100/100\n",
      "가중치 w1: 0.674 \t가중치 w2: 0.661 \t가중치 w3: 0.676\n",
      "편향 b: 0.008 \t비용 cost: 1.564\n",
      "\n"
     ]
    }
   ],
   "source": [
    "# optimizer 설정\n",
    "optimizer = optim.SGD([w1, w2, w3, b], lr=0.00001)\n",
    "\n",
    "n_epochs = 100\n",
    "\n",
    "for epoch in range(n_epochs+1):\n",
    "    \n",
    "    # H 계산\n",
    "    H = w1*x1_train + w2*x2_train + w3*x3_train + b\n",
    "    \n",
    "    # cost 계산\n",
    "    cost = torch.mean((H - y_train) ** 2)\n",
    "    \n",
    "    # cost로 H(x) 업데이트\n",
    "    optimizer.zero_grad()\n",
    "    cost.backward()\n",
    "    optimizer.step()\n",
    "    \n",
    "    # 값 print\n",
    "    if epoch % 10 == 0:\n",
    "        print(f'Epoch: {epoch}/{n_epochs}')\n",
    "        print(f'가중치 w1: {w1.item():.3f} \\t가중치 w2: {w2.item():.3f} \\t가중치 w3: {w3.item():.3f}')\n",
    "        print(f'편향 b: {b.item():.3f} \\t비용 cost: {cost.item():.3f}')\n",
    "        print()"
   ]
  },
  {
   "cell_type": "markdown",
   "id": "85db4ad2-5468-4e52-a62b-c3fb1b41c829",
   "metadata": {},
   "source": [
    "3개의 독립변수를 행렬로 표현하기"
   ]
  },
  {
   "cell_type": "code",
   "execution_count": 54,
   "id": "d151dc2f-447b-42f9-97e0-39eb167ae204",
   "metadata": {},
   "outputs": [
    {
     "name": "stdout",
     "output_type": "stream",
     "text": [
      "x_train shape:  torch.Size([5, 3])\n",
      "y_train shape:  torch.Size([5, 1])\n"
     ]
    }
   ],
   "source": [
    "x_train = torch.FloatTensor([[73, 80, 75],\n",
    "                             [93, 88, 93],\n",
    "                             [89, 91, 80],\n",
    "                             [96, 98, 100],\n",
    "                             [73, 66, 70]])\n",
    "y_train = torch.FloatTensor([[152], [185], [180], [196], [142]])\n",
    "\n",
    "print('x_train shape: ', x_train.shape)\n",
    "print('y_train shape: ', y_train.shape)"
   ]
  },
  {
   "cell_type": "code",
   "execution_count": 55,
   "id": "6283e44c-d3cc-4dfc-8bd3-b1aebfb36074",
   "metadata": {},
   "outputs": [],
   "source": [
    "# 가중치 W 선언\n",
    "# x_train(5, 3) * w(?, ?) = y_train(5, 1) w의 shape을 계산할 수 있어야함\n",
    "W = torch.zeros((3, 1), requires_grad=True)\n",
    "b = torch.zeros(1, requires_grad=True)"
   ]
  },
  {
   "cell_type": "code",
   "execution_count": 56,
   "id": "e35bc103-0904-4445-bd1c-14f3a05bea1a",
   "metadata": {},
   "outputs": [],
   "source": [
    "# matmul() 행렬의 곱셈을 의미\n",
    "H = x_train.matmul(W) + b"
   ]
  },
  {
   "cell_type": "code",
   "execution_count": 57,
   "id": "13046cc8-6cfd-4dac-ab20-5c930ac890e5",
   "metadata": {},
   "outputs": [
    {
     "name": "stdout",
     "output_type": "stream",
     "text": [
      "Epoch    0/20 hypothesis: tensor([0., 0., 0., 0., 0.]) Cost: 29661.800781\n",
      "Epoch    1/20 hypothesis: tensor([66.7178, 80.1701, 76.1025, 86.0194, 61.1565]) Cost: 9537.694336\n",
      "Epoch    2/20 hypothesis: tensor([104.5421, 125.6208, 119.2478, 134.7862,  95.8280]) Cost: 3069.590088\n",
      "Epoch    3/20 hypothesis: tensor([125.9858, 151.3882, 143.7087, 162.4333, 115.4844]) Cost: 990.670898\n",
      "Epoch    4/20 hypothesis: tensor([138.1429, 165.9963, 157.5768, 178.1071, 126.6283]) Cost: 322.482086\n",
      "Epoch    5/20 hypothesis: tensor([145.0350, 174.2780, 165.4395, 186.9928, 132.9461]) Cost: 107.717064\n",
      "Epoch    6/20 hypothesis: tensor([148.9423, 178.9730, 169.8976, 192.0301, 136.5279]) Cost: 38.687496\n",
      "Epoch    7/20 hypothesis: tensor([151.1574, 181.6346, 172.4254, 194.8856, 138.5585]) Cost: 16.499043\n",
      "Epoch    8/20 hypothesis: tensor([152.4131, 183.1435, 173.8590, 196.5043, 139.7097]) Cost: 9.365656\n",
      "Epoch    9/20 hypothesis: tensor([153.1250, 183.9988, 174.6723, 197.4217, 140.3625]) Cost: 7.071114\n",
      "Epoch   10/20 hypothesis: tensor([153.5285, 184.4835, 175.1338, 197.9415, 140.7325]) Cost: 6.331847\n",
      "Epoch   11/20 hypothesis: tensor([153.7572, 184.7582, 175.3958, 198.2360, 140.9424]) Cost: 6.092532\n",
      "Epoch   12/20 hypothesis: tensor([153.8868, 184.9138, 175.5449, 198.4026, 141.0613]) Cost: 6.013817\n",
      "Epoch   13/20 hypothesis: tensor([153.9602, 185.0019, 175.6299, 198.4969, 141.1288]) Cost: 5.986785\n",
      "Epoch   14/20 hypothesis: tensor([154.0017, 185.0517, 175.6785, 198.5500, 141.1671]) Cost: 5.976325\n",
      "Epoch   15/20 hypothesis: tensor([154.0252, 185.0798, 175.7065, 198.5800, 141.1888]) Cost: 5.971208\n",
      "Epoch   16/20 hypothesis: tensor([154.0385, 185.0956, 175.7229, 198.5966, 141.2012]) Cost: 5.967835\n",
      "Epoch   17/20 hypothesis: tensor([154.0459, 185.1045, 175.7326, 198.6059, 141.2082]) Cost: 5.964969\n",
      "Epoch   18/20 hypothesis: tensor([154.0501, 185.1094, 175.7386, 198.6108, 141.2122]) Cost: 5.962291\n",
      "Epoch   19/20 hypothesis: tensor([154.0524, 185.1120, 175.7424, 198.6134, 141.2145]) Cost: 5.959664\n",
      "Epoch   20/20 hypothesis: tensor([154.0536, 185.1134, 175.7451, 198.6145, 141.2158]) Cost: 5.957089\n"
     ]
    }
   ],
   "source": [
    "# optimizer 설정\n",
    "optimizer = optim.SGD([W, b], lr=1e-5)\n",
    "\n",
    "nb_epochs = 20\n",
    "for epoch in range(nb_epochs + 1):\n",
    "\n",
    "    # H(x) 계산\n",
    "    # 편향 b는 브로드 캐스팅되어 각 샘플에 더해집니다.\n",
    "    H = x_train.matmul(W) + b\n",
    "\n",
    "    # cost 계산\n",
    "    cost = torch.mean((H - y_train) ** 2)\n",
    "\n",
    "    # cost로 H(x) 개선\n",
    "    optimizer.zero_grad()\n",
    "    cost.backward()\n",
    "    optimizer.step()\n",
    "\n",
    "    print('Epoch {:4d}/{} hypothesis: {} Cost: {:.6f}'.format(\n",
    "        epoch, nb_epochs, H.squeeze().detach(), cost.item()\n",
    "    ))"
   ]
  },
  {
   "cell_type": "markdown",
   "id": "02eb00a8-0188-485f-84c8-5f64d4d4df98",
   "metadata": {},
   "source": [
    "## 04. nn.Module로 구현하는 선형 회귀\n",
    "### 1. 단순 선형 회귀"
   ]
  },
  {
   "cell_type": "code",
   "execution_count": 58,
   "id": "f7c4f9b0-35da-4342-8927-b49c07a1ed03",
   "metadata": {},
   "outputs": [],
   "source": [
    "# import torch.nn as nn\n",
    "# import torch.nn.functional as F"
   ]
  },
  {
   "cell_type": "code",
   "execution_count": 78,
   "id": "eb9936e6-2f81-464f-9639-9786562e74d2",
   "metadata": {},
   "outputs": [],
   "source": [
    "x_train = torch.FloatTensor([[1], [2], [3]])\n",
    "y_train = torch.FloatTensor([[2], [4], [6]])"
   ]
  },
  {
   "cell_type": "code",
   "execution_count": 79,
   "id": "c971555c-ae8a-40e2-9d0a-1b8a841de089",
   "metadata": {},
   "outputs": [],
   "source": [
    "# 단순선형회기 이므로 input_dim=1, output_dim=1\n",
    "model = nn.Linear(1, 1)"
   ]
  },
  {
   "cell_type": "code",
   "execution_count": 80,
   "id": "6903b973-b376-44ff-8092-d22c5f1b8631",
   "metadata": {},
   "outputs": [
    {
     "name": "stdout",
     "output_type": "stream",
     "text": [
      "[Parameter containing:\n",
      "tensor([[0.1390]], requires_grad=True), Parameter containing:\n",
      "tensor([-0.1224], requires_grad=True)]\n"
     ]
    }
   ],
   "source": [
    "# 모델에는 가중치와 편향이 저장되어 있음\n",
    "print(list(model.parameters()))"
   ]
  },
  {
   "cell_type": "code",
   "execution_count": 81,
   "id": "d4e32a56-9af7-428b-85f3-05dca8f7d8b5",
   "metadata": {},
   "outputs": [],
   "source": [
    "# optimizer 설정. 경사 하강법 SGD를 사용하고 learning rate를 의미하는 lr은 0.01\n",
    "optimizer = torch.optim.SGD(model.parameters(), lr=0.01) "
   ]
  },
  {
   "cell_type": "code",
   "execution_count": 82,
   "id": "ee378e7b-243c-4f6f-b2f1-77c34d7591b8",
   "metadata": {},
   "outputs": [
    {
     "name": "stdout",
     "output_type": "stream",
     "text": [
      "Epoch    0/1000 Cost: 17.088327\n",
      "Epoch  100/1000 Cost: 0.030164\n",
      "Epoch  200/1000 Cost: 0.018639\n",
      "Epoch  300/1000 Cost: 0.011518\n",
      "Epoch  400/1000 Cost: 0.007117\n",
      "Epoch  500/1000 Cost: 0.004398\n",
      "Epoch  600/1000 Cost: 0.002718\n",
      "Epoch  700/1000 Cost: 0.001679\n",
      "Epoch  800/1000 Cost: 0.001038\n",
      "Epoch  900/1000 Cost: 0.000641\n",
      "Epoch 1000/1000 Cost: 0.000396\n"
     ]
    }
   ],
   "source": [
    "nb_epochs = 1000\n",
    "for epoch in range(nb_epochs+1):\n",
    "\n",
    "    # H(x) 계산\n",
    "    prediction = model(x_train)\n",
    "\n",
    "    # cost 계산\n",
    "    cost = F.mse_loss(prediction, y_train) # <== 파이토치에서 제공하는 평균 제곱 오차 함수\n",
    "\n",
    "    # cost로 H(x) 개선하는 부분\n",
    "    # gradient를 0으로 초기화\n",
    "    optimizer.zero_grad()\n",
    "    \n",
    "    # 비용 함수를 미분하여 gradient 계산\n",
    "    cost.backward()\n",
    "    \n",
    "    # W와 b를 업데이트\n",
    "    optimizer.step()\n",
    "\n",
    "    if epoch % 100 == 0:\n",
    "    # 100번마다 로그 출력\n",
    "      print('Epoch {:4d}/{} Cost: {:.6f}'.format(\n",
    "          epoch, nb_epochs, cost.item()\n",
    "      ))"
   ]
  },
  {
   "cell_type": "code",
   "execution_count": 83,
   "id": "9cce5e3b-9367-4faa-b17a-805caf72b3ad",
   "metadata": {},
   "outputs": [],
   "source": [
    "# w, b 최적화 확인\n",
    "# x에 임의의 값 4를 넣어 모델이 예측하는 y값 확인"
   ]
  },
  {
   "cell_type": "code",
   "execution_count": 84,
   "id": "18f99a2b-942d-4bac-887e-292e46ac8d07",
   "metadata": {},
   "outputs": [
    {
     "name": "stdout",
     "output_type": "stream",
     "text": [
      "입력값 4에 대한 예측값:  tensor([[7.9602]], grad_fn=<AddmmBackward>)\n"
     ]
    }
   ],
   "source": [
    "# 임의의 값 4 생성\n",
    "new_var = torch.FloatTensor([[4.0]])\n",
    "\n",
    "# 입력값 4에 대한 예측값\n",
    "pred_y = model(new_var)\n",
    "print('입력값 4에 대한 예측값: ', pred_y)"
   ]
  },
  {
   "cell_type": "markdown",
   "id": "889f1577-5594-4d95-9f11-81e004471a1e",
   "metadata": {},
   "source": [
    "x_train, y_train의 관계를 보면 이 모델은 y=2x의 형태를 가지고 있다.  \n",
    "따라서 입력값 4에 대해서는 8을 예측해야 잘 예측했다고 본다."
   ]
  },
  {
   "cell_type": "code",
   "execution_count": 85,
   "id": "49bf6f39-bfcd-47c4-af2f-7ce83b904c7f",
   "metadata": {},
   "outputs": [
    {
     "name": "stdout",
     "output_type": "stream",
     "text": [
      "[Parameter containing:\n",
      "tensor([[1.9769]], requires_grad=True), Parameter containing:\n",
      "tensor([0.0524], requires_grad=True)]\n"
     ]
    }
   ],
   "source": [
    "# 학습 후 W, b 값 확인\n",
    "print(list(model.parameters()))"
   ]
  },
  {
   "cell_type": "markdown",
   "id": "73bf312a-6f26-485b-82b8-a879d0590c76",
   "metadata": {},
   "source": [
    "학습 전 W: 0.1390, b: -0.1224  \n",
    "학습 후 W: 1.9769, b: 0.0524\n",
    "### 2. 다중 선형 회귀 구현하기"
   ]
  },
  {
   "cell_type": "code",
   "execution_count": 86,
   "id": "09b51a3d-b2ed-4e15-9717-9ef924fcb86d",
   "metadata": {},
   "outputs": [],
   "source": [
    "# import torch\n",
    "# import torch.nn as nn\n",
    "# import torch.nn.functional as F\n",
    "# torch.manual_seed(1)"
   ]
  },
  {
   "cell_type": "code",
   "execution_count": 91,
   "id": "93264ff8-bf87-44f3-8b5d-413542328584",
   "metadata": {},
   "outputs": [
    {
     "name": "stdout",
     "output_type": "stream",
     "text": [
      "x_train shape:  torch.Size([5, 3])\n",
      "y_train shape:  torch.Size([5, 1])\n"
     ]
    }
   ],
   "source": [
    "x_train = torch.FloatTensor([[73, 80, 75],\n",
    "                             [93, 88, 93],\n",
    "                             [89, 91, 80],\n",
    "                             [96, 98, 100],\n",
    "                             [73, 66, 70]])\n",
    "y_train = torch.FloatTensor([[152], [185], [180], [196], [142]])\n",
    "\n",
    "print('x_train shape: ', x_train.shape)\n",
    "print('y_train shape: ', y_train.shape)"
   ]
  },
  {
   "cell_type": "code",
   "execution_count": 92,
   "id": "63f01c99-2d9a-4ca6-bb53-3c9eed01e5ef",
   "metadata": {},
   "outputs": [],
   "source": [
    "# 다중 선형 회귀므로 input_dim=3, output_dim=1\n",
    "model = nn.Linear(3, 1)"
   ]
  },
  {
   "cell_type": "code",
   "execution_count": 93,
   "id": "ca3b4fe5-44ce-4f54-9c3f-347b33e2b1cb",
   "metadata": {},
   "outputs": [
    {
     "name": "stdout",
     "output_type": "stream",
     "text": [
      "[Parameter containing:\n",
      "tensor([[-0.0421, -0.0520,  0.0837]], requires_grad=True), Parameter containing:\n",
      "tensor([-0.0023], requires_grad=True)]\n"
     ]
    }
   ],
   "source": [
    "# 학습 전 W, b 값 확인\n",
    "print(list(model.parameters()))"
   ]
  },
  {
   "cell_type": "code",
   "execution_count": 94,
   "id": "aad573ee-fdbe-45d6-8f3f-bc142c0dcc92",
   "metadata": {},
   "outputs": [],
   "source": [
    "# optim 설정\n",
    "optimizer = torch.optim.SGD(model.parameters(), lr=1e-5) "
   ]
  },
  {
   "cell_type": "code",
   "execution_count": 95,
   "id": "65933e19-0275-435d-ba75-bbf4c07b6d7e",
   "metadata": {},
   "outputs": [
    {
     "name": "stdout",
     "output_type": "stream",
     "text": [
      "Epoch    0/1000 Cost: 29999.046875\n",
      "Epoch  100/1000 Cost: 7.455994\n",
      "Epoch  200/1000 Cost: 7.120210\n",
      "Epoch  300/1000 Cost: 6.801655\n",
      "Epoch  400/1000 Cost: 6.499341\n",
      "Epoch  500/1000 Cost: 6.212316\n",
      "Epoch  600/1000 Cost: 5.939743\n",
      "Epoch  700/1000 Cost: 5.680788\n",
      "Epoch  800/1000 Cost: 5.434702\n",
      "Epoch  900/1000 Cost: 5.200678\n",
      "Epoch 1000/1000 Cost: 4.978209\n"
     ]
    }
   ],
   "source": [
    "nb_epochs = 1000\n",
    "for epoch in range(nb_epochs+1):\n",
    "\n",
    "    # H(x) 계산\n",
    "    prediction = model(x_train)\n",
    "    # model(x_train)은 model.forward(x_train)와 동일함.\n",
    "\n",
    "    # cost 계산\n",
    "    cost = F.mse_loss(prediction, y_train) # <== 파이토치에서 제공하는 평균 제곱 오차 함수\n",
    "\n",
    "    # cost로 H(x) 개선하는 부분\n",
    "    # gradient를 0으로 초기화\n",
    "    optimizer.zero_grad()\n",
    "    \n",
    "    # 비용 함수를 미분하여 gradient 계산\n",
    "    cost.backward()\n",
    "    \n",
    "    # W와 b를 업데이트\n",
    "    optimizer.step()\n",
    "\n",
    "    if epoch % 100 == 0:\n",
    "    # 100번마다 로그 출력\n",
    "      print('Epoch {:4d}/{} Cost: {:.6f}'.format(\n",
    "          epoch, nb_epochs, cost.item()\n",
    "      ))"
   ]
  },
  {
   "cell_type": "code",
   "execution_count": 96,
   "id": "bb484707-7749-4a54-892b-45149b54b9cc",
   "metadata": {},
   "outputs": [],
   "source": [
    "# w, b 최적화 확인\n",
    "# x에 임의의 값 73, 80, 75를 넣어 모델이 예측하는 y값 확인"
   ]
  },
  {
   "cell_type": "code",
   "execution_count": 97,
   "id": "df799446-34b3-4262-995b-f50c5f9ec5d6",
   "metadata": {},
   "outputs": [
    {
     "name": "stdout",
     "output_type": "stream",
     "text": [
      "입력값 [[73, 80, 75]]에 대한 예측값:  tensor([[153.8672]], grad_fn=<AddmmBackward>)\n"
     ]
    }
   ],
   "source": [
    "# 임의의 값 73, 80, 75 생성\n",
    "new_var = torch.FloatTensor([[73, 80, 75]])\n",
    "\n",
    "# 예측\n",
    "pred_y = model(new_var)\n",
    "print('입력값 [[73, 80, 75]]에 대한 예측값: ', pred_y)"
   ]
  },
  {
   "cell_type": "code",
   "execution_count": 98,
   "id": "6055ea67-29a7-4623-8fee-2a8d2bea9cba",
   "metadata": {},
   "outputs": [
    {
     "name": "stdout",
     "output_type": "stream",
     "text": [
      "[Parameter containing:\n",
      "tensor([[0.7328, 0.6701, 0.6235]], requires_grad=True), Parameter containing:\n",
      "tensor([0.0066], requires_grad=True)]\n"
     ]
    }
   ],
   "source": [
    "# 학습 후 W, b 값 확인\n",
    "print(list(model.parameters()))"
   ]
  },
  {
   "cell_type": "markdown",
   "id": "1b48195b-3700-415c-8e02-0c4d23b8d859",
   "metadata": {},
   "source": [
    "## 05. 클래스로 파이토치 모델 구현하기\n",
    "### 1. 단순 선형 회귀 클래스로 구현하기"
   ]
  },
  {
   "cell_type": "code",
   "execution_count": 99,
   "id": "9e57cafa-6ded-41aa-a4ce-7a909d0e084c",
   "metadata": {},
   "outputs": [],
   "source": [
    "class LRModel(nn.Module):  # torch.nn.Module을 상속받는 클래스\n",
    "    def __init__(self):\n",
    "        super().__init__()  # 모델의 구조와 동작을 정의하는 생성자 정의 = 속성값 초기화\n",
    "        self.linear = nn.Linear(1, 1) # 단순선형회귀이므로 Input_dim=1, output_dim=1\n",
    "        \n",
    "    def forward(self, x):\n",
    "        return self.linear(x)"
   ]
  },
  {
   "cell_type": "code",
   "execution_count": 100,
   "id": "0891b64b-7631-47cf-aabf-7c8a7b56caec",
   "metadata": {},
   "outputs": [],
   "source": [
    "# 모델 선언\n",
    "model = LRModel()"
   ]
  },
  {
   "cell_type": "code",
   "execution_count": 101,
   "id": "2890ea3d-dfec-4a08-b151-5fc859827cf1",
   "metadata": {},
   "outputs": [],
   "source": [
    "# 데이터\n",
    "x_train = torch.FloatTensor([[1], [2], [3]])\n",
    "y_train = torch.FloatTensor([[2], [4], [6]])"
   ]
  },
  {
   "cell_type": "code",
   "execution_count": 102,
   "id": "7d884586-7fd8-48ae-8711-f24b97b634ea",
   "metadata": {},
   "outputs": [],
   "source": [
    "optimizer = torch.optim.SGD(model.parameters(), lr=0.01)"
   ]
  },
  {
   "cell_type": "code",
   "execution_count": 103,
   "id": "eb30bb12-3a3e-4449-b29b-80c4c69125b3",
   "metadata": {},
   "outputs": [
    {
     "name": "stdout",
     "output_type": "stream",
     "text": [
      "Epoch    0/1000 Cost: 4.610449\n",
      "Epoch  100/1000 Cost: 0.040473\n",
      "Epoch  200/1000 Cost: 0.025010\n",
      "Epoch  300/1000 Cost: 0.015454\n",
      "Epoch  400/1000 Cost: 0.009550\n",
      "Epoch  500/1000 Cost: 0.005901\n",
      "Epoch  600/1000 Cost: 0.003647\n",
      "Epoch  700/1000 Cost: 0.002253\n",
      "Epoch  800/1000 Cost: 0.001392\n",
      "Epoch  900/1000 Cost: 0.000860\n",
      "Epoch 1000/1000 Cost: 0.000532\n"
     ]
    }
   ],
   "source": [
    "nb_epochs = 1000\n",
    "for epoch in range(nb_epochs+1):\n",
    "\n",
    "    # H(x) 계산\n",
    "    prediction = model(x_train)\n",
    "\n",
    "    # cost 계산\n",
    "    cost = F.mse_loss(prediction, y_train) # <== 파이토치에서 제공하는 평균 제곱 오차 함수\n",
    "\n",
    "    # cost로 H(x) 개선하는 부분\n",
    "    # gradient를 0으로 초기화\n",
    "    optimizer.zero_grad()\n",
    "    \n",
    "    # 비용 함수를 미분하여 gradient 계산\n",
    "    cost.backward()\n",
    "    \n",
    "    # W와 b를 업데이트\n",
    "    optimizer.step()\n",
    "\n",
    "    if epoch % 100 == 0:\n",
    "    # 100번마다 로그 출력\n",
    "      print('Epoch {:4d}/{} Cost: {:.6f}'.format(\n",
    "          epoch, nb_epochs, cost.item()\n",
    "      ))"
   ]
  },
  {
   "cell_type": "markdown",
   "id": "b15f787d-ba62-4f6e-b6be-a485668359e1",
   "metadata": {},
   "source": [
    "### 2. 다중 선형 회귀 클래스로 구현하기"
   ]
  },
  {
   "cell_type": "code",
   "execution_count": 126,
   "id": "1af0b15e-bb7a-472b-88c7-6937addfb7ba",
   "metadata": {},
   "outputs": [
    {
     "name": "stdout",
     "output_type": "stream",
     "text": [
      "x_train shape:  torch.Size([5, 3])\n",
      "y_train shape:  torch.Size([5, 1])\n"
     ]
    }
   ],
   "source": [
    "# 데이터\n",
    "x_train = torch.FloatTensor([[73, 80, 75],\n",
    "                             [93, 88, 93],\n",
    "                             [89, 91, 80],\n",
    "                             [96, 98, 100],\n",
    "                             [73, 66, 70]])\n",
    "y_train = torch.FloatTensor([[152], [185], [180], [196], [142]])\n",
    "\n",
    "print('x_train shape: ', x_train.shape)\n",
    "print('y_train shape: ', y_train.shape)"
   ]
  },
  {
   "cell_type": "code",
   "execution_count": 127,
   "id": "1ae167e8-3feb-4f90-bfef-50d2f4a80269",
   "metadata": {},
   "outputs": [],
   "source": [
    "class Multi_LR_Model(nn.Module):\n",
    "    def __init__(self):\n",
    "        super().__init__()\n",
    "        self.linear = nn.Linear(3, 1) # 다중 선형 회귀이므로 input_dim=3, output_dim=1.\n",
    "\n",
    "    def forward(self, x):\n",
    "        return self.linear(x)"
   ]
  },
  {
   "cell_type": "code",
   "execution_count": 128,
   "id": "cbef14ea-7c76-4f82-9cff-a9a19651e563",
   "metadata": {},
   "outputs": [],
   "source": [
    "model = Multi_LR_Model()\n",
    "optimizer = torch.optim.SGD(model.parameters(), lr=1e-5)"
   ]
  },
  {
   "cell_type": "code",
   "execution_count": 129,
   "id": "9a85d89b-a146-4cf9-89c8-64c687cb5af2",
   "metadata": {},
   "outputs": [
    {
     "name": "stdout",
     "output_type": "stream",
     "text": [
      "Epoch    0/1000 Cost: 25607.140625\n",
      "Epoch  100/1000 Cost: 0.715505\n",
      "Epoch  200/1000 Cost: 0.687857\n",
      "Epoch  300/1000 Cost: 0.661689\n",
      "Epoch  400/1000 Cost: 0.636900\n",
      "Epoch  500/1000 Cost: 0.613430\n",
      "Epoch  600/1000 Cost: 0.591174\n",
      "Epoch  700/1000 Cost: 0.570103\n",
      "Epoch  800/1000 Cost: 0.550096\n",
      "Epoch  900/1000 Cost: 0.531124\n",
      "Epoch 1000/1000 Cost: 0.513116\n"
     ]
    }
   ],
   "source": [
    "nb_epochs = 1000\n",
    "for epoch in range(nb_epochs+1):\n",
    "\n",
    "    # H(x) 계산\n",
    "    prediction = model(x_train)\n",
    "\n",
    "    # cost 계산\n",
    "    cost = F.mse_loss(prediction, y_train) # <== 파이토치에서 제공하는 평균 제곱 오차 함수\n",
    "\n",
    "    # gradient를 0으로 초기화\n",
    "    optimizer.zero_grad()\n",
    "    # 비용 함수를 미분하여 gradient 계산\n",
    "    cost.backward()\n",
    "    # W와 b를 업데이트\n",
    "    optimizer.step()\n",
    "\n",
    "    if epoch % 100 == 0:\n",
    "    # 100번마다 로그 출력\n",
    "      print('Epoch {:4d}/{} Cost: {:.6f}'.format(\n",
    "          epoch, nb_epochs, cost.item()\n",
    "      ))"
   ]
  },
  {
   "cell_type": "markdown",
   "id": "9cf10604-4610-4f83-91cc-2c4f7be7bf8e",
   "metadata": {},
   "source": [
    "## 06. 미니 배치와 데이터 로드\n",
    "전체 데이터가 2000일 때 미니배치 사이즈를 200으로 한다면 이터레이션(iteration)의 수는 10개 = 1epoch 당 매개변수 업데이트가 10번 이루어짐"
   ]
  },
  {
   "cell_type": "code",
   "execution_count": 2,
   "id": "e98d5b1b-1393-4c05-a989-38589d1ef3a0",
   "metadata": {},
   "outputs": [],
   "source": [
    "# import torch\n",
    "# import torch.nn as nn\n",
    "# import torch.nn.functional as F"
   ]
  },
  {
   "cell_type": "code",
   "execution_count": 3,
   "id": "d9322744-e0aa-4f49-be3f-e0e381c4987a",
   "metadata": {},
   "outputs": [],
   "source": [
    "from torch.utils.data import TensorDataset # 텐서데이터셋\n",
    "from torch.utils.data import DataLoader # 데이터로더"
   ]
  },
  {
   "cell_type": "code",
   "execution_count": 4,
   "id": "a94cd24e-80d8-4cfd-8568-1324aed7a7b0",
   "metadata": {},
   "outputs": [],
   "source": [
    "# 데이터 생성\n",
    "x_train  =  torch.FloatTensor([[73,  80,  75], \n",
    "                               [93,  88,  93], \n",
    "                               [89,  91,  90], \n",
    "                               [96,  98,  100],   \n",
    "                               [73,  66,  70]])  \n",
    "y_train  =  torch.FloatTensor([[152],  [185],  [180],  [196],  [142]])"
   ]
  },
  {
   "cell_type": "code",
   "execution_count": 5,
   "id": "6b49728c-be06-43e3-bf79-88e8eb389a28",
   "metadata": {},
   "outputs": [],
   "source": [
    "# 생성된 데이터를 dataset로 저장\n",
    "dataset = TensorDataset(x_train, y_train)"
   ]
  },
  {
   "cell_type": "markdown",
   "id": "4071e586-2516-4fcb-84a4-b7b4904e823c",
   "metadata": {},
   "source": [
    "**데이터로더(DataLoader)**  \n",
    "x, y값을 연결하여 자동으로 미니배치, 셔플을 나눠줌"
   ]
  },
  {
   "cell_type": "code",
   "execution_count": 6,
   "id": "d9bc8d09-a9ac-4b6e-b202-bc185f886787",
   "metadata": {},
   "outputs": [],
   "source": [
    "dataloader = DataLoader(dataset, batch_size=2, shuffle=True)"
   ]
  },
  {
   "cell_type": "code",
   "execution_count": 8,
   "id": "daca173d-08d7-492a-973f-a9a85c64f860",
   "metadata": {},
   "outputs": [
    {
     "name": "stdout",
     "output_type": "stream",
     "text": [
      "x_train shape:  torch.Size([5, 3])\n",
      "y_train shape:  torch.Size([5, 1])\n"
     ]
    }
   ],
   "source": [
    "print('x_train shape: ', x_train.shape)\n",
    "print('y_train shape: ', y_train.shape)"
   ]
  },
  {
   "cell_type": "code",
   "execution_count": 11,
   "id": "f4365338-37f0-4ef4-bed7-35bcfc7834df",
   "metadata": {},
   "outputs": [],
   "source": [
    "model = nn.Linear(3, 1)\n",
    "optimizer = torch.optim.SGD(model.parameters(), lr=1e-5)"
   ]
  },
  {
   "cell_type": "code",
   "execution_count": 12,
   "id": "9d90c2ee-aa69-4b9b-8a6d-10d14c6a72c3",
   "metadata": {},
   "outputs": [
    {
     "name": "stdout",
     "output_type": "stream",
     "text": [
      "Epoch: 0/20\tBatch: 1/3\tCost: 95730.7812\n",
      "Epoch: 0/20\tBatch: 2/3\tCost: 34905.6328\n",
      "Epoch: 0/20\tBatch: 3/3\tCost: 6173.3325\n",
      "Epoch: 1/20\tBatch: 1/3\tCost: 3868.2461\n",
      "Epoch: 1/20\tBatch: 2/3\tCost: 868.5018\n",
      "Epoch: 1/20\tBatch: 3/3\tCost: 225.3134\n",
      "Epoch: 2/20\tBatch: 1/3\tCost: 97.3834\n",
      "Epoch: 2/20\tBatch: 2/3\tCost: 49.6230\n",
      "Epoch: 2/20\tBatch: 3/3\tCost: 28.8818\n",
      "Epoch: 3/20\tBatch: 1/3\tCost: 0.2628\n",
      "Epoch: 3/20\tBatch: 2/3\tCost: 3.5507\n",
      "Epoch: 3/20\tBatch: 3/3\tCost: 3.4606\n",
      "Epoch: 4/20\tBatch: 1/3\tCost: 1.6231\n",
      "Epoch: 4/20\tBatch: 2/3\tCost: 2.0464\n",
      "Epoch: 4/20\tBatch: 3/3\tCost: 1.6532\n",
      "Epoch: 5/20\tBatch: 1/3\tCost: 2.0012\n",
      "Epoch: 5/20\tBatch: 2/3\tCost: 1.2254\n",
      "Epoch: 5/20\tBatch: 3/3\tCost: 2.8544\n",
      "Epoch: 6/20\tBatch: 1/3\tCost: 1.4274\n",
      "Epoch: 6/20\tBatch: 2/3\tCost: 2.0123\n",
      "Epoch: 6/20\tBatch: 3/3\tCost: 0.8556\n",
      "Epoch: 7/20\tBatch: 1/3\tCost: 1.9369\n",
      "Epoch: 7/20\tBatch: 2/3\tCost: 1.2409\n",
      "Epoch: 7/20\tBatch: 3/3\tCost: 0.5272\n",
      "Epoch: 8/20\tBatch: 1/3\tCost: 0.3816\n",
      "Epoch: 8/20\tBatch: 2/3\tCost: 2.3276\n",
      "Epoch: 8/20\tBatch: 3/3\tCost: 2.1239\n",
      "Epoch: 9/20\tBatch: 1/3\tCost: 1.6007\n",
      "Epoch: 9/20\tBatch: 2/3\tCost: 1.2627\n",
      "Epoch: 9/20\tBatch: 3/3\tCost: 2.9095\n",
      "Epoch: 10/20\tBatch: 1/3\tCost: 1.4706\n",
      "Epoch: 10/20\tBatch: 2/3\tCost: 1.5705\n",
      "Epoch: 10/20\tBatch: 3/3\tCost: 1.5762\n",
      "Epoch: 11/20\tBatch: 1/3\tCost: 1.3502\n",
      "Epoch: 11/20\tBatch: 2/3\tCost: 1.7349\n",
      "Epoch: 11/20\tBatch: 3/3\tCost: 1.3031\n",
      "Epoch: 12/20\tBatch: 1/3\tCost: 1.5563\n",
      "Epoch: 12/20\tBatch: 2/3\tCost: 1.9789\n",
      "Epoch: 12/20\tBatch: 3/3\tCost: 0.4339\n",
      "Epoch: 13/20\tBatch: 1/3\tCost: 2.9889\n",
      "Epoch: 13/20\tBatch: 2/3\tCost: 1.6495\n",
      "Epoch: 13/20\tBatch: 3/3\tCost: 0.5947\n",
      "Epoch: 14/20\tBatch: 1/3\tCost: 1.6281\n",
      "Epoch: 14/20\tBatch: 2/3\tCost: 2.0210\n",
      "Epoch: 14/20\tBatch: 3/3\tCost: 0.3886\n",
      "Epoch: 15/20\tBatch: 1/3\tCost: 0.2750\n",
      "Epoch: 15/20\tBatch: 2/3\tCost: 2.3303\n",
      "Epoch: 15/20\tBatch: 3/3\tCost: 2.1675\n",
      "Epoch: 16/20\tBatch: 1/3\tCost: 1.4111\n",
      "Epoch: 16/20\tBatch: 2/3\tCost: 1.8285\n",
      "Epoch: 16/20\tBatch: 3/3\tCost: 0.7713\n",
      "Epoch: 17/20\tBatch: 1/3\tCost: 1.2628\n",
      "Epoch: 17/20\tBatch: 2/3\tCost: 0.6330\n",
      "Epoch: 17/20\tBatch: 3/3\tCost: 3.9366\n",
      "Epoch: 18/20\tBatch: 1/3\tCost: 1.8386\n",
      "Epoch: 18/20\tBatch: 2/3\tCost: 1.3435\n",
      "Epoch: 18/20\tBatch: 3/3\tCost: 2.0811\n",
      "Epoch: 19/20\tBatch: 1/3\tCost: 1.2603\n",
      "Epoch: 19/20\tBatch: 2/3\tCost: 1.4826\n",
      "Epoch: 19/20\tBatch: 3/3\tCost: 2.0422\n",
      "Epoch: 20/20\tBatch: 1/3\tCost: 2.0045\n",
      "Epoch: 20/20\tBatch: 2/3\tCost: 1.1875\n",
      "Epoch: 20/20\tBatch: 3/3\tCost: 1.0806\n"
     ]
    }
   ],
   "source": [
    "n_epochs = 20\n",
    "\n",
    "for epoch in range(n_epochs+1):\n",
    "    for batch_idx, samples in enumerate(dataloader):\n",
    "        x_train, y_train = samples\n",
    "        \n",
    "        # H(x)계산\n",
    "        prediction = model(x_train)\n",
    "        \n",
    "        # cost\n",
    "        cost = F.mse_loss(prediction, y_train)\n",
    "        \n",
    "        # update\n",
    "        optimizer.zero_grad()\n",
    "        cost.backward()\n",
    "        optimizer.step()\n",
    "        \n",
    "        print(f'Epoch: {epoch}/{n_epochs}\\tBatch: {batch_idx+1}/{len(dataloader)}\\tCost: {cost.item():.4f}')"
   ]
  },
  {
   "cell_type": "code",
   "execution_count": 13,
   "id": "7a1bdd79-b09f-475c-b9df-bc3736202dfc",
   "metadata": {},
   "outputs": [
    {
     "name": "stdout",
     "output_type": "stream",
     "text": [
      "result:  tensor([[152.2337]], grad_fn=<AddmmBackward>)\n"
     ]
    }
   ],
   "source": [
    "# 확인\n",
    "new_var = torch.FloatTensor([[73, 80, 75]])\n",
    "y_pred = model(new_var)\n",
    "print('result: ', y_pred)  # 정답은 152"
   ]
  },
  {
   "cell_type": "markdown",
   "id": "bf89f8dd-8dd7-468a-808e-9996b41dc033",
   "metadata": {},
   "source": [
    "## 07. 커스텀 데이터셋\n",
    "### 1. 커스텀 데이터셋으로 선형회귀 구현하기"
   ]
  },
  {
   "cell_type": "code",
   "execution_count": 14,
   "id": "16e84310-133a-4c86-879e-3632a01f190e",
   "metadata": {},
   "outputs": [],
   "source": [
    "# import torch\n",
    "# import torch.nn.functional as F\n",
    "# from torch.utils.data import Dataset\n",
    "# from torch.utils.data import DataLoader"
   ]
  },
  {
   "cell_type": "code",
   "execution_count": 15,
   "id": "27b4f7b1-07ec-4fa7-b44d-7fb8266347de",
   "metadata": {},
   "outputs": [],
   "source": [
    "class CustomDataset(torch.utils.data.Dataset):\n",
    "    \n",
    "    # 데이터셋 전처리\n",
    "    def __init__(self):  \n",
    "        self.x_data = [[73, 80, 75], \n",
    "                       [93, 88, 93], \n",
    "                       [89, 91, 90], \n",
    "                       [96, 98, 100], \n",
    "                       [73, 66, 70]]\n",
    "        self.y_data = [[152],  [185], [180], [196], [142]]\n",
    "        \n",
    "    # 데이터셋 길이(=총 샘플수)\n",
    "    def __len__(self):  \n",
    "        return len(self.x_data)\n",
    "        \n",
    "    # 데이터셋에서 특정 1개의 샘플을 가져오는 함수\n",
    "    # 인덱스를 입력받아 그에 맵핑되는 입출력 데이터를 파이토치 Tensor 형태로 리턴\n",
    "    def __getitem__(self, idx):\n",
    "        x = torch.FloatTensor(self.x_data[idx])\n",
    "        y = torch.FloatTensor(self.y_data[idx])\n",
    "        return x, y"
   ]
  },
  {
   "cell_type": "code",
   "execution_count": 16,
   "id": "566d575b-0dc0-41e9-85a2-b6ddbe4eeaaf",
   "metadata": {},
   "outputs": [],
   "source": [
    "dataset = CustomDataset()\n",
    "dataloader = DataLoader(dataset, batch_size=2, shuffle=True)"
   ]
  },
  {
   "cell_type": "code",
   "execution_count": 17,
   "id": "ff1ea54e-c6f1-492c-b8ea-844fe78920e7",
   "metadata": {},
   "outputs": [],
   "source": [
    "model = torch.nn.Linear(3, 1)\n",
    "optimizer = torch.optim.SGD(model.parameters(), lr=1e-5)"
   ]
  },
  {
   "cell_type": "code",
   "execution_count": 18,
   "id": "d9616e57-fbb3-4ac9-86cb-2a1c507c0ea1",
   "metadata": {},
   "outputs": [
    {
     "name": "stdout",
     "output_type": "stream",
     "text": [
      "Epoch: 0/20\tBatch: 1/3\tCost: 10159.8496\n",
      "Epoch: 0/20\tBatch: 2/3\tCost: 4486.1582\n",
      "Epoch: 0/20\tBatch: 3/3\tCost: 1443.0574\n",
      "Epoch: 1/20\tBatch: 1/3\tCost: 295.5027\n",
      "Epoch: 1/20\tBatch: 2/3\tCost: 110.8369\n",
      "Epoch: 1/20\tBatch: 3/3\tCost: 28.6061\n",
      "Epoch: 2/20\tBatch: 1/3\tCost: 9.5145\n",
      "Epoch: 2/20\tBatch: 2/3\tCost: 4.2460\n",
      "Epoch: 2/20\tBatch: 3/3\tCost: 0.1377\n",
      "Epoch: 3/20\tBatch: 1/3\tCost: 0.4370\n",
      "Epoch: 3/20\tBatch: 2/3\tCost: 1.2320\n",
      "Epoch: 3/20\tBatch: 3/3\tCost: 0.1835\n",
      "Epoch: 4/20\tBatch: 1/3\tCost: 0.4839\n",
      "Epoch: 4/20\tBatch: 2/3\tCost: 0.5528\n",
      "Epoch: 4/20\tBatch: 3/3\tCost: 1.1422\n",
      "Epoch: 5/20\tBatch: 1/3\tCost: 0.6672\n",
      "Epoch: 5/20\tBatch: 2/3\tCost: 0.5440\n",
      "Epoch: 5/20\tBatch: 3/3\tCost: 0.6153\n",
      "Epoch: 6/20\tBatch: 1/3\tCost: 0.7734\n",
      "Epoch: 6/20\tBatch: 2/3\tCost: 0.5498\n",
      "Epoch: 6/20\tBatch: 3/3\tCost: 0.5452\n",
      "Epoch: 7/20\tBatch: 1/3\tCost: 0.1301\n",
      "Epoch: 7/20\tBatch: 2/3\tCost: 0.5693\n",
      "Epoch: 7/20\tBatch: 3/3\tCost: 0.8627\n",
      "Epoch: 8/20\tBatch: 1/3\tCost: 0.3523\n",
      "Epoch: 8/20\tBatch: 2/3\tCost: 0.2299\n",
      "Epoch: 8/20\tBatch: 3/3\tCost: 1.4807\n",
      "Epoch: 9/20\tBatch: 1/3\tCost: 0.7103\n",
      "Epoch: 9/20\tBatch: 2/3\tCost: 0.4926\n",
      "Epoch: 9/20\tBatch: 3/3\tCost: 0.2491\n",
      "Epoch: 10/20\tBatch: 1/3\tCost: 0.4426\n",
      "Epoch: 10/20\tBatch: 2/3\tCost: 0.7223\n",
      "Epoch: 10/20\tBatch: 3/3\tCost: 0.1819\n",
      "Epoch: 11/20\tBatch: 1/3\tCost: 0.2123\n",
      "Epoch: 11/20\tBatch: 2/3\tCost: 0.7738\n",
      "Epoch: 11/20\tBatch: 3/3\tCost: 0.7567\n",
      "Epoch: 12/20\tBatch: 1/3\tCost: 0.2660\n",
      "Epoch: 12/20\tBatch: 2/3\tCost: 0.6472\n",
      "Epoch: 12/20\tBatch: 3/3\tCost: 0.7126\n",
      "Epoch: 13/20\tBatch: 1/3\tCost: 0.8035\n",
      "Epoch: 13/20\tBatch: 2/3\tCost: 0.4129\n",
      "Epoch: 13/20\tBatch: 3/3\tCost: 0.0303\n",
      "Epoch: 14/20\tBatch: 1/3\tCost: 0.4108\n",
      "Epoch: 14/20\tBatch: 2/3\tCost: 0.5460\n",
      "Epoch: 14/20\tBatch: 3/3\tCost: 0.5413\n",
      "Epoch: 15/20\tBatch: 1/3\tCost: 0.1388\n",
      "Epoch: 15/20\tBatch: 2/3\tCost: 0.4345\n",
      "Epoch: 15/20\tBatch: 3/3\tCost: 1.2533\n",
      "Epoch: 16/20\tBatch: 1/3\tCost: 0.1166\n",
      "Epoch: 16/20\tBatch: 2/3\tCost: 1.3185\n",
      "Epoch: 16/20\tBatch: 3/3\tCost: 0.1052\n",
      "Epoch: 17/20\tBatch: 1/3\tCost: 0.7352\n",
      "Epoch: 17/20\tBatch: 2/3\tCost: 0.3241\n",
      "Epoch: 17/20\tBatch: 3/3\tCost: 0.0660\n",
      "Epoch: 18/20\tBatch: 1/3\tCost: 0.2443\n",
      "Epoch: 18/20\tBatch: 2/3\tCost: 1.0137\n",
      "Epoch: 18/20\tBatch: 3/3\tCost: 0.6647\n",
      "Epoch: 19/20\tBatch: 1/3\tCost: 0.1709\n",
      "Epoch: 19/20\tBatch: 2/3\tCost: 0.5278\n",
      "Epoch: 19/20\tBatch: 3/3\tCost: 1.4197\n",
      "Epoch: 20/20\tBatch: 1/3\tCost: 0.6066\n",
      "Epoch: 20/20\tBatch: 2/3\tCost: 0.6952\n",
      "Epoch: 20/20\tBatch: 3/3\tCost: 0.1460\n"
     ]
    }
   ],
   "source": [
    "n_epochs = 20\n",
    "\n",
    "for epoch in range(n_epochs+1):\n",
    "    for batch_idx, samples in enumerate(dataloader):\n",
    "        x_train, y_train = samples\n",
    "        \n",
    "        # H(x)계산\n",
    "        prediction = model(x_train)\n",
    "        \n",
    "        # cost\n",
    "        cost = F.mse_loss(prediction, y_train)\n",
    "        \n",
    "        # update\n",
    "        optimizer.zero_grad()\n",
    "        cost.backward()\n",
    "        optimizer.step()\n",
    "        \n",
    "        print(f'Epoch: {epoch}/{n_epochs}\\tBatch: {batch_idx+1}/{len(dataloader)}\\tCost: {cost.item():.4f}')"
   ]
  },
  {
   "cell_type": "code",
   "execution_count": 19,
   "id": "1d5ab449-63d4-4229-b60c-850c1490b277",
   "metadata": {},
   "outputs": [
    {
     "name": "stdout",
     "output_type": "stream",
     "text": [
      "result:  tensor([[150.9812]], grad_fn=<AddmmBackward>)\n"
     ]
    }
   ],
   "source": [
    "# 확인\n",
    "new_var = torch.FloatTensor([[73, 80, 75]])\n",
    "y_pred = model(new_var)\n",
    "print('result: ', y_pred)  # 정답은 152"
   ]
  },
  {
   "cell_type": "code",
   "execution_count": null,
   "id": "d579a8e2-3d35-4ae7-b0b1-f2ee5feacc28",
   "metadata": {},
   "outputs": [],
   "source": []
  }
 ],
 "metadata": {
  "kernelspec": {
   "display_name": "sona",
   "language": "python",
   "name": "sona"
  },
  "language_info": {
   "codemirror_mode": {
    "name": "ipython",
    "version": 3
   },
   "file_extension": ".py",
   "mimetype": "text/x-python",
   "name": "python",
   "nbconvert_exporter": "python",
   "pygments_lexer": "ipython3",
   "version": "3.9.4"
  }
 },
 "nbformat": 4,
 "nbformat_minor": 5
}

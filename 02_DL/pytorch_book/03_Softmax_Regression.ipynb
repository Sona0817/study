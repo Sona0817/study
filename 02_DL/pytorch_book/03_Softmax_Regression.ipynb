{
 "cells": [
  {
   "cell_type": "markdown",
   "id": "9d39d2c4-d034-4ccd-a72b-10eb6bd67e24",
   "metadata": {},
   "source": [
    "# PyTorch로 시작하는 딥러닝 입문\n",
    "https://wikidocs.net/book/2788\n",
    "## 01. 원-핫 인코딩\n",
    "강아지 = [1, 0, 0]  \n",
    "고양이 = [0, 1, 0]  \n",
    "냉장고 = [0, 0, 1]  \n",
    "원-핫 인코딩으로 표현된 벡터를 **원-핫 벡터(one-hot vector)** 라고함  \n",
    "**원-핫 인코딩은 클래스를 0, 1, 2, 3, 4...로 분류했을 때 발생하는 가중치와 그에 따른 오차값을 해결하기 위해 사용**\n",
    "## 02. 소프트맥스 회귀의 비용 함수 구현하기\n",
    "### 1. 로우레벨"
   ]
  },
  {
   "cell_type": "code",
   "execution_count": 1,
   "id": "337e019a-4d65-447a-8079-cd6550e3b6d9",
   "metadata": {},
   "outputs": [
    {
     "data": {
      "text/plain": [
       "<torch._C.Generator at 0x7ff27626cd10>"
      ]
     },
     "execution_count": 1,
     "metadata": {},
     "output_type": "execute_result"
    }
   ],
   "source": [
    "import torch\n",
    "import torch.nn.functional as F\n",
    "torch.manual_seed(1)"
   ]
  },
  {
   "cell_type": "code",
   "execution_count": 5,
   "id": "cd2ca97c-ca70-4517-bc49-23b0a5c4adf0",
   "metadata": {},
   "outputs": [
    {
     "name": "stdout",
     "output_type": "stream",
     "text": [
      "tensor([[0.1664, 0.1871, 0.1737, 0.2695, 0.2033],\n",
      "        [0.2002, 0.1783, 0.2218, 0.1944, 0.2054],\n",
      "        [0.1809, 0.2380, 0.2318, 0.1084, 0.2409]], grad_fn=<SoftmaxBackward>)\n"
     ]
    }
   ],
   "source": [
    "# 3x5 행렬 텐서\n",
    "z = torch.rand(3, 5, requires_grad=True)\n",
    "\n",
    "# 소프트맥스 함수 적용 단, 각 샘플에 대해서 적용해야하므로 두번째 차원에 대해서 적용한다는 의미의 dim=1 설정\n",
    "hypothesis = F.softmax(z, dim=1)\n",
    "print(hypothesis)"
   ]
  },
  {
   "cell_type": "code",
   "execution_count": 6,
   "id": "08db487b-d314-4f8b-90d0-e3e6fbc17c80",
   "metadata": {},
   "outputs": [
    {
     "name": "stdout",
     "output_type": "stream",
     "text": [
      "tensor([3, 1, 2])\n"
     ]
    }
   ],
   "source": [
    "# 각 샘플에 대해서 임의의 레이블 생성\n",
    "y = torch.randint(5, (3,)).long()\n",
    "print(y)"
   ]
  },
  {
   "cell_type": "code",
   "execution_count": 8,
   "id": "b396ffc2-9560-45bd-92c1-07b4852f27fe",
   "metadata": {},
   "outputs": [
    {
     "name": "stdout",
     "output_type": "stream",
     "text": [
      "tensor([[3],\n",
      "        [1],\n",
      "        [2]])\n"
     ]
    }
   ],
   "source": [
    "# unsqueeze(1)는 (3,) >> (3, 1)\n",
    "print(y.unsqueeze(1))"
   ]
  },
  {
   "cell_type": "code",
   "execution_count": 7,
   "id": "5ae42ce2-ae4d-4598-a385-d4b9f677de30",
   "metadata": {},
   "outputs": [
    {
     "data": {
      "text/plain": [
       "tensor([[0., 0., 0., 1., 0.],\n",
       "        [0., 1., 0., 0., 0.],\n",
       "        [0., 0., 1., 0., 0.]])"
      ]
     },
     "execution_count": 7,
     "metadata": {},
     "output_type": "execute_result"
    }
   ],
   "source": [
    "# 모든 원소가 0의 값을 가진 3 × 5 텐서 생성\n",
    "y_one_hot = torch.zeros_like(hypothesis) \n",
    "y_one_hot.scatter_(1, y.unsqueeze(1), 1)"
   ]
  },
  {
   "cell_type": "code",
   "execution_count": 9,
   "id": "e91b1ae6-6af5-4117-b31f-377a05c9d0b2",
   "metadata": {},
   "outputs": [
    {
     "name": "stdout",
     "output_type": "stream",
     "text": [
      "tensor([[0., 0., 0., 1., 0.],\n",
      "        [0., 1., 0., 0., 0.],\n",
      "        [0., 0., 1., 0., 0.]])\n"
     ]
    }
   ],
   "source": [
    "print(y_one_hot)"
   ]
  },
  {
   "cell_type": "code",
   "execution_count": 10,
   "id": "d39fdde3-973f-4463-aa03-91fb190a3426",
   "metadata": {},
   "outputs": [
    {
     "name": "stdout",
     "output_type": "stream",
     "text": [
      "tensor(1.4992, grad_fn=<MeanBackward0>)\n"
     ]
    }
   ],
   "source": [
    "# 비용함수\n",
    "cost = (y_one_hot * -torch.log(hypothesis)).sum(dim=1).mean()\n",
    "print(cost)"
   ]
  },
  {
   "cell_type": "markdown",
   "id": "b4738c27-2931-4a31-ba2e-6395f1f68c59",
   "metadata": {},
   "source": [
    "### 2. 하이레벨"
   ]
  },
  {
   "cell_type": "markdown",
   "id": "5ec2535b-2e36-4bfb-a4d1-83269ff959b9",
   "metadata": {},
   "source": [
    "- Low level : 소프트맥스 함수 결과에 로그를 씌우는 법  \n",
    "    torch.log(F.softmax(z, dim=1))"
   ]
  },
  {
   "cell_type": "code",
   "execution_count": 11,
   "id": "db957b4c-2199-46bd-bd94-6063bae41f2f",
   "metadata": {},
   "outputs": [
    {
     "data": {
      "text/plain": [
       "tensor([[-1.7935, -1.6760, -1.7504, -1.3114, -1.5929],\n",
       "        [-1.6086, -1.7244, -1.5062, -1.6381, -1.5826],\n",
       "        [-1.7096, -1.4354, -1.4617, -2.2223, -1.4236]],\n",
       "       grad_fn=<LogSoftmaxBackward>)"
      ]
     },
     "execution_count": 11,
     "metadata": {},
     "output_type": "execute_result"
    }
   ],
   "source": [
    "# High level\n",
    "F.log_softmax(z, dim=1)"
   ]
  },
  {
   "cell_type": "markdown",
   "id": "9c9756ab-4180-403e-b417-fd292e611bac",
   "metadata": {},
   "source": [
    "- Low level : 비용함수 구하는 법\n",
    "    - 첫번째 수식\n",
    "        (y_one_hot * -torch.log(F.softmax(z, dim=1))).sum(dim=1).mean()\n",
    "    - 두번째 수식\n",
    "        (y_one_hot * - F.log_softmax(z, dim=1)).sum(dim=1).mean()"
   ]
  },
  {
   "cell_type": "code",
   "execution_count": 12,
   "id": "67e12eff-5b6e-44d4-ab34-fca60c57bc19",
   "metadata": {},
   "outputs": [
    {
     "data": {
      "text/plain": [
       "tensor(1.4992, grad_fn=<NllLossBackward>)"
      ]
     },
     "execution_count": 12,
     "metadata": {},
     "output_type": "execute_result"
    }
   ],
   "source": [
    "# High level\n",
    "# 세번째 수식\n",
    "# nll_loss(Negative Log Likelihood)\n",
    "F.nll_loss(F.log_softmax(z, dim=1), y)"
   ]
  },
  {
   "cell_type": "code",
   "execution_count": 13,
   "id": "e66ca0c9-1193-4b3c-8def-9aea6cbf0bcf",
   "metadata": {},
   "outputs": [
    {
     "data": {
      "text/plain": [
       "tensor(1.4992, grad_fn=<NllLossBackward>)"
      ]
     },
     "execution_count": 13,
     "metadata": {},
     "output_type": "execute_result"
    }
   ],
   "source": [
    "# 네번째 수식 (최종)\n",
    "# corss_entropy는 F.log_softmax()와 F.nll_loss()를 포함\n",
    "F.cross_entropy(z, y)"
   ]
  },
  {
   "cell_type": "markdown",
   "id": "afefe141-466a-4d18-90c9-38cb93f047e1",
   "metadata": {},
   "source": [
    "## 03. 소프트맥스 회귀 구현하기\n",
    "### 1. 하이레벨"
   ]
  },
  {
   "cell_type": "code",
   "execution_count": 14,
   "id": "7faf9435-c196-4736-9b4a-5af37c891610",
   "metadata": {},
   "outputs": [
    {
     "data": {
      "text/plain": [
       "<torch._C.Generator at 0x7ff27626cd10>"
      ]
     },
     "execution_count": 14,
     "metadata": {},
     "output_type": "execute_result"
    }
   ],
   "source": [
    "# import torch\n",
    "# import torch.nn as nn\n",
    "# import torch.nn.functional as F\n",
    "# import torch.optim as optim\n",
    "# torch.manual_seed(1)"
   ]
  },
  {
   "cell_type": "code",
   "execution_count": 15,
   "id": "d73db43b-b81c-443a-afce-1492f2b1bfd0",
   "metadata": {},
   "outputs": [],
   "source": [
    "# 데이터 생성\n",
    "x_train = [[1, 2, 1, 1],\n",
    "           [2, 1, 3, 2],\n",
    "           [3, 1, 3, 4],\n",
    "           [4, 1, 5, 5],\n",
    "           [1, 7, 5, 5],\n",
    "           [1, 2, 5, 6],\n",
    "           [1, 6, 6, 6],\n",
    "           [1, 7, 7, 7]]\n",
    "y_train = [2, 2, 2, 1, 1, 1, 0, 0]\n",
    "x_train = torch.FloatTensor(x_train)\n",
    "y_train = torch.LongTensor(y_train)"
   ]
  },
  {
   "cell_type": "code",
   "execution_count": 16,
   "id": "e7654110-92a4-48fc-83e1-e31955212c53",
   "metadata": {},
   "outputs": [
    {
     "name": "stdout",
     "output_type": "stream",
     "text": [
      "torch.Size([8, 4])\n",
      "torch.Size([8])\n"
     ]
    }
   ],
   "source": [
    "print(x_train.shape)\n",
    "print(y_train.shape)"
   ]
  },
  {
   "cell_type": "code",
   "execution_count": 17,
   "id": "5a67f377-8344-4300-8daa-06fdc11ad116",
   "metadata": {},
   "outputs": [],
   "source": [
    "# 모델 초기화\n",
    "W = torch.zeros((4, 3), requires_grad=True) # 클래스 갯수 3\n",
    "b = torch.zeros(1, requires_grad=True)\n",
    "\n",
    "# optim 설정\n",
    "optimizer = optim.SGD([W, b], lr=0.1)"
   ]
  },
  {
   "cell_type": "code",
   "execution_count": 19,
   "id": "29ea7702-a58e-4efd-bb91-e8b2a5f8f7ce",
   "metadata": {},
   "outputs": [
    {
     "name": "stdout",
     "output_type": "stream",
     "text": [
      "Epoch 0/1000\tCost 1.0986\n",
      "Epoch 100/1000\tCost 0.7611\n",
      "Epoch 200/1000\tCost 0.6900\n",
      "Epoch 300/1000\tCost 0.6432\n",
      "Epoch 400/1000\tCost 0.6041\n",
      "Epoch 500/1000\tCost 0.5683\n",
      "Epoch 600/1000\tCost 0.5339\n",
      "Epoch 700/1000\tCost 0.5003\n",
      "Epoch 800/1000\tCost 0.4669\n",
      "Epoch 900/1000\tCost 0.4335\n",
      "Epoch 1000/1000\tCost 0.4000\n"
     ]
    }
   ],
   "source": [
    "n_epochs = 1000\n",
    "\n",
    "for epoch in range(n_epochs+1):\n",
    "    # cost\n",
    "    z = x_train.matmul(W)+b\n",
    "    cost = F.cross_entropy(z, y_train)\n",
    "    \n",
    "    # update\n",
    "    optimizer.zero_grad()\n",
    "    cost.backward()\n",
    "    optimizer.step()\n",
    "    \n",
    "    if epoch%100==0:\n",
    "        print(f'Epoch {epoch}/{n_epochs}\\tCost {cost.item():.4f}')"
   ]
  },
  {
   "cell_type": "markdown",
   "id": "4bbf3583-d43e-4d40-bee6-5fbf5ce8813d",
   "metadata": {},
   "source": [
    "### 2. 소프트맥스 회귀 nn.Module로 구현하기"
   ]
  },
  {
   "cell_type": "code",
   "execution_count": 20,
   "id": "fcbbdd21-f4b7-418a-837b-ff6a17abc94d",
   "metadata": {},
   "outputs": [],
   "source": [
    "model = nn.Linear(4, 3)\n",
    "optimizer = optim.SGD(model.parameters(), lr=0.1)"
   ]
  },
  {
   "cell_type": "code",
   "execution_count": 21,
   "id": "f40a4ac9-5eda-4d07-9f26-d579b7d45f2b",
   "metadata": {},
   "outputs": [
    {
     "name": "stdout",
     "output_type": "stream",
     "text": [
      "Epoch 0/1000\tCost 1.6168\n",
      "Epoch 100/1000\tCost 0.6589\n",
      "Epoch 200/1000\tCost 0.5734\n",
      "Epoch 300/1000\tCost 0.5182\n",
      "Epoch 400/1000\tCost 0.4733\n",
      "Epoch 500/1000\tCost 0.4335\n",
      "Epoch 600/1000\tCost 0.3966\n",
      "Epoch 700/1000\tCost 0.3609\n",
      "Epoch 800/1000\tCost 0.3254\n",
      "Epoch 900/1000\tCost 0.2892\n",
      "Epoch 1000/1000\tCost 0.2541\n"
     ]
    }
   ],
   "source": [
    "n_epochs = 1000\n",
    "\n",
    "for epoch in range(n_epochs+1):\n",
    "    \n",
    "    # H\n",
    "    prediction = model(x_train)\n",
    "    \n",
    "    # cost\n",
    "    cost = F.cross_entropy(prediction, y_train)\n",
    "    \n",
    "    # update\n",
    "    optimizer.zero_grad()\n",
    "    cost.backward()\n",
    "    optimizer.step()\n",
    "    \n",
    "    if epoch%100==0:\n",
    "        print(f'Epoch {epoch}/{n_epochs}\\tCost {cost.item():.4f}')"
   ]
  },
  {
   "cell_type": "markdown",
   "id": "c1ac65d4-b42b-4a40-b171-f3f37e1bc4ba",
   "metadata": {},
   "source": [
    "### 3. 소프트맥스 회귀 클래스로 구현하기"
   ]
  },
  {
   "cell_type": "code",
   "execution_count": 22,
   "id": "e392c059-ee3a-4f65-89e9-b1d7bf79203d",
   "metadata": {},
   "outputs": [],
   "source": [
    "class SoftmaxClassifier(nn.Module):\n",
    "    def __init__(self):\n",
    "        super().__init__()\n",
    "        self.linear = nn.Linear(4, 3)\n",
    "        \n",
    "    def forward(self, x):\n",
    "        return self.linear(x)"
   ]
  },
  {
   "cell_type": "code",
   "execution_count": 23,
   "id": "f373fd87-a99e-4a86-a922-460d9dccc830",
   "metadata": {},
   "outputs": [],
   "source": [
    "model = SoftmaxClassifier()\n",
    "optimizer = optim.SGD(model.parameters(), lr=0.1)"
   ]
  },
  {
   "cell_type": "code",
   "execution_count": 24,
   "id": "62f5ac54-518e-4587-99cb-6781abd4a957",
   "metadata": {},
   "outputs": [
    {
     "name": "stdout",
     "output_type": "stream",
     "text": [
      "Epoch 0/1000\tCost 2.6376\n",
      "Epoch 100/1000\tCost 0.6479\n",
      "Epoch 200/1000\tCost 0.5646\n",
      "Epoch 300/1000\tCost 0.5110\n",
      "Epoch 400/1000\tCost 0.4672\n",
      "Epoch 500/1000\tCost 0.4283\n",
      "Epoch 600/1000\tCost 0.3919\n",
      "Epoch 700/1000\tCost 0.3567\n",
      "Epoch 800/1000\tCost 0.3216\n",
      "Epoch 900/1000\tCost 0.2856\n",
      "Epoch 1000/1000\tCost 0.2508\n"
     ]
    }
   ],
   "source": [
    "n_epochs = 1000\n",
    "\n",
    "for epoch in range(n_epochs+1):\n",
    "    \n",
    "    # H\n",
    "    prediction = model(x_train)\n",
    "    \n",
    "    # cost\n",
    "    cost = F.cross_entropy(prediction, y_train)\n",
    "    \n",
    "    # update\n",
    "    optimizer.zero_grad()\n",
    "    cost.backward()\n",
    "    optimizer.step()\n",
    "    \n",
    "    if epoch%100==0:\n",
    "        print(f'Epoch {epoch}/{n_epochs}\\tCost {cost.item():.4f}')"
   ]
  },
  {
   "cell_type": "markdown",
   "id": "fae2d5df-cc01-4aa2-ae8a-64de9e029f4a",
   "metadata": {},
   "source": [
    "## 04. 소프트맥스 회귀로 MNIST 데이터 분류하기"
   ]
  },
  {
   "cell_type": "code",
   "execution_count": 25,
   "id": "f9ef592e-320c-44ea-b7a6-76f3e017cc54",
   "metadata": {},
   "outputs": [],
   "source": [
    "import torch\n",
    "import torchvision.datasets as dsets\n",
    "import torchvision.transforms as transforms\n",
    "from torch.utils.data import DataLoader\n",
    "import torch.nn as nn\n",
    "import matplotlib.pyplot as plt\n",
    "import random"
   ]
  },
  {
   "cell_type": "code",
   "execution_count": 27,
   "id": "1054b6cb-d46b-422b-920b-7db09c243dbb",
   "metadata": {},
   "outputs": [
    {
     "data": {
      "text/plain": [
       "<torch._C.Generator at 0x7ff27626cd10>"
      ]
     },
     "execution_count": 27,
     "metadata": {},
     "output_type": "execute_result"
    }
   ],
   "source": [
    "# 랜덤 시드 고정 for reproducibility\n",
    "random.seed(777)\n",
    "torch.manual_seed(777)"
   ]
  },
  {
   "cell_type": "code",
   "execution_count": 28,
   "id": "3c33eae8-6a6b-44e6-a5f4-b8058d938c89",
   "metadata": {},
   "outputs": [],
   "source": [
    "# hyperparameters\n",
    "training_epochs = 15\n",
    "batch_size = 100"
   ]
  },
  {
   "cell_type": "code",
   "execution_count": 30,
   "id": "4c15721b-ed68-46f9-bb4b-b494a07d9f30",
   "metadata": {
    "collapsed": true,
    "jupyter": {
     "outputs_hidden": true
    },
    "tags": []
   },
   "outputs": [
    {
     "name": "stdout",
     "output_type": "stream",
     "text": [
      "Downloading http://yann.lecun.com/exdb/mnist/train-images-idx3-ubyte.gz\n",
      "Downloading http://yann.lecun.com/exdb/mnist/train-images-idx3-ubyte.gz to ./MNIST_data/MNIST/raw/train-images-idx3-ubyte.gz\n"
     ]
    },
    {
     "data": {
      "application/vnd.jupyter.widget-view+json": {
       "model_id": "e3ffb4878ff544529e9221d3143ad0a5",
       "version_major": 2,
       "version_minor": 0
      },
      "text/plain": [
       "  0%|          | 0/9912422 [00:00<?, ?it/s]"
      ]
     },
     "metadata": {},
     "output_type": "display_data"
    },
    {
     "name": "stdout",
     "output_type": "stream",
     "text": [
      "Extracting ./MNIST_data/MNIST/raw/train-images-idx3-ubyte.gz to ./MNIST_data/MNIST/raw\n",
      "\n",
      "Downloading http://yann.lecun.com/exdb/mnist/train-labels-idx1-ubyte.gz\n",
      "Downloading http://yann.lecun.com/exdb/mnist/train-labels-idx1-ubyte.gz to ./MNIST_data/MNIST/raw/train-labels-idx1-ubyte.gz\n"
     ]
    },
    {
     "data": {
      "application/vnd.jupyter.widget-view+json": {
       "model_id": "dd9bcf9460d7449380f1571ba10f68c5",
       "version_major": 2,
       "version_minor": 0
      },
      "text/plain": [
       "  0%|          | 0/28881 [00:00<?, ?it/s]"
      ]
     },
     "metadata": {},
     "output_type": "display_data"
    },
    {
     "name": "stdout",
     "output_type": "stream",
     "text": [
      "Extracting ./MNIST_data/MNIST/raw/train-labels-idx1-ubyte.gz to ./MNIST_data/MNIST/raw\n",
      "\n",
      "Downloading http://yann.lecun.com/exdb/mnist/t10k-images-idx3-ubyte.gz\n",
      "Downloading http://yann.lecun.com/exdb/mnist/t10k-images-idx3-ubyte.gz to ./MNIST_data/MNIST/raw/t10k-images-idx3-ubyte.gz\n"
     ]
    },
    {
     "data": {
      "application/vnd.jupyter.widget-view+json": {
       "model_id": "f4da28c7f6c24e979d78df7ae744fa25",
       "version_major": 2,
       "version_minor": 0
      },
      "text/plain": [
       "  0%|          | 0/1648877 [00:00<?, ?it/s]"
      ]
     },
     "metadata": {},
     "output_type": "display_data"
    },
    {
     "name": "stdout",
     "output_type": "stream",
     "text": [
      "Extracting ./MNIST_data/MNIST/raw/t10k-images-idx3-ubyte.gz to ./MNIST_data/MNIST/raw\n",
      "\n",
      "Downloading http://yann.lecun.com/exdb/mnist/t10k-labels-idx1-ubyte.gz\n",
      "Downloading http://yann.lecun.com/exdb/mnist/t10k-labels-idx1-ubyte.gz to ./MNIST_data/MNIST/raw/t10k-labels-idx1-ubyte.gz\n"
     ]
    },
    {
     "data": {
      "application/vnd.jupyter.widget-view+json": {
       "model_id": "37e90eaff8ca40d0a768761d109c6a03",
       "version_major": 2,
       "version_minor": 0
      },
      "text/plain": [
       "  0%|          | 0/4542 [00:00<?, ?it/s]"
      ]
     },
     "metadata": {},
     "output_type": "display_data"
    },
    {
     "name": "stdout",
     "output_type": "stream",
     "text": [
      "Extracting ./MNIST_data/MNIST/raw/t10k-labels-idx1-ubyte.gz to ./MNIST_data/MNIST/raw\n",
      "\n"
     ]
    },
    {
     "name": "stderr",
     "output_type": "stream",
     "text": [
      "/Users/limkahyun/anaconda3/envs/sona/lib/python3.9/site-packages/torchvision/datasets/mnist.py:498: UserWarning: The given NumPy array is not writeable, and PyTorch does not support non-writeable tensors. This means you can write to the underlying (supposedly non-writeable) NumPy array using the tensor. You may want to copy the array to protect its data or make it writeable before converting it to a tensor. This type of warning will be suppressed for the rest of this program. (Triggered internally at  /Users/distiller/project/conda/conda-bld/pytorch_1631631181957/work/torch/csrc/utils/tensor_numpy.cpp:180.)\n",
      "  return torch.from_numpy(parsed.astype(m[2], copy=False)).view(*s)\n"
     ]
    }
   ],
   "source": [
    "# 데이터 세트 생성\n",
    "mnist_train = dsets.MNIST(root='./MNIST_data/', # 데이터 다운로드 받을 경로\n",
    "                          train=True, \n",
    "                          transform=transforms.ToTensor(), \n",
    "                          download=True)\n",
    "mnist_test = dsets.MNIST(root='./MNIST_data/', \n",
    "                          train=False, \n",
    "                          transform=transforms.ToTensor(), \n",
    "                          download=True)"
   ]
  },
  {
   "cell_type": "code",
   "execution_count": 31,
   "id": "996ff4e8-9795-4f64-81f2-d1aef802263e",
   "metadata": {},
   "outputs": [],
   "source": [
    "# data loader\n",
    "data_loader = DataLoader(dataset=mnist_train,\n",
    "                        batch_size=batch_size,\n",
    "                         shuffle=True,\n",
    "                         drop_last=True  # 마지막 배치를 버린다\n",
    "                        )"
   ]
  },
  {
   "cell_type": "code",
   "execution_count": 34,
   "id": "34d4d6ba-ca45-47b1-a7c6-1ce0fcb10755",
   "metadata": {},
   "outputs": [],
   "source": [
    "# 모델 설계\n",
    "# image shape = 28픽셀 * 28픽셀\n",
    "# image lables = 10\n",
    "model = nn.Linear(28*28, 10, bias=True)"
   ]
  },
  {
   "cell_type": "code",
   "execution_count": 35,
   "id": "42b63c45-af5d-4150-85a3-43c838c32d39",
   "metadata": {},
   "outputs": [],
   "source": [
    "criterion = nn.CrossEntropyLoss()\n",
    "optimizer = optim.SGD(model.parameters(), lr=0.1)"
   ]
  },
  {
   "cell_type": "code",
   "execution_count": 38,
   "id": "815dc348-f9cc-48cc-b6bb-e89b9a392972",
   "metadata": {},
   "outputs": [
    {
     "name": "stdout",
     "output_type": "stream",
     "text": [
      "Epoch 0/15\tCost 0.5359\n",
      "Epoch 1/15\tCost 0.3592\n",
      "Epoch 2/15\tCost 0.3312\n",
      "Epoch 3/15\tCost 0.3166\n",
      "Epoch 4/15\tCost 0.3069\n",
      "Epoch 5/15\tCost 0.3003\n",
      "Epoch 6/15\tCost 0.2952\n",
      "Epoch 7/15\tCost 0.2908\n",
      "Epoch 8/15\tCost 0.2874\n",
      "Epoch 9/15\tCost 0.2844\n",
      "Epoch 10/15\tCost 0.2820\n",
      "Epoch 11/15\tCost 0.2798\n",
      "Epoch 12/15\tCost 0.2779\n",
      "Epoch 13/15\tCost 0.2760\n",
      "Epoch 14/15\tCost 0.2745\n"
     ]
    }
   ],
   "source": [
    "# train\n",
    "for epoch in range(training_epochs):\n",
    "    avg_cost = 0\n",
    "    total_batch = len(data_loader)\n",
    "    \n",
    "    for X, Y in data_loader:\n",
    "        # 배치 크기가 100이므로 아래 연산에서 X는 (100, 784)의 텐서가 된다.\n",
    "        X = X.view(-1, 28*28)\n",
    "        \n",
    "        # h\n",
    "        h = model(X)\n",
    "        \n",
    "        # cost\n",
    "        cost = criterion(h, Y)\n",
    "        \n",
    "        # update\n",
    "        optimizer.zero_grad()\n",
    "        cost.backward()\n",
    "        optimizer.step()\n",
    "        \n",
    "        avg_cost += cost / total_batch\n",
    "    \n",
    "    print(f'Epoch {epoch}/{training_epochs}\\tCost {avg_cost:.4f}')"
   ]
  },
  {
   "cell_type": "code",
   "execution_count": 39,
   "id": "43678ea5-c181-4bf7-8e74-1323b5c4a797",
   "metadata": {},
   "outputs": [
    {
     "name": "stdout",
     "output_type": "stream",
     "text": [
      "Accuracy:  0.8841999769210815\n",
      "Label:  8\n",
      "y_pred:  3\n"
     ]
    },
    {
     "name": "stderr",
     "output_type": "stream",
     "text": [
      "/Users/limkahyun/anaconda3/envs/sona/lib/python3.9/site-packages/torchvision/datasets/mnist.py:67: UserWarning: test_data has been renamed data\n",
      "  warnings.warn(\"test_data has been renamed data\")\n",
      "/Users/limkahyun/anaconda3/envs/sona/lib/python3.9/site-packages/torchvision/datasets/mnist.py:57: UserWarning: test_labels has been renamed targets\n",
      "  warnings.warn(\"test_labels has been renamed targets\")\n"
     ]
    }
   ],
   "source": [
    "# test\n",
    "\n",
    "# gradient 계산 수행 안함\n",
    "with torch.no_grad():\n",
    "    X_test = mnist_test.test_data.view(-1, 28*28).float()\n",
    "    y_test = mnist_test.test_labels\n",
    "    \n",
    "    prediction = model(X_test)\n",
    "    correct_prediction = torch.argmax(prediction, 1) == y_test\n",
    "    accuracy = correct_prediction.float().mean()\n",
    "    print('Accuracy: ', accuracy.item())\n",
    "    \n",
    "    # 무작위 하나 뽑아서 예측\n",
    "    r = random.randint(0, len(mnist_test)-1)\n",
    "    X_single_data = mnist_test.test_data[r:r+1].view(-1, 28*28).float()\n",
    "    y_single_data = mnist_test.test_labels[r:r+1]\n",
    "    print('Label: ', y_single_data.item())\n",
    "    \n",
    "    y_pred = model(X_single_data)\n",
    "    print('y_pred: ', torch.argmax(y_pred, 1).item())"
   ]
  },
  {
   "cell_type": "code",
   "execution_count": null,
   "id": "967722ee-734a-4a9e-a473-296459805f7c",
   "metadata": {},
   "outputs": [],
   "source": []
  }
 ],
 "metadata": {
  "kernelspec": {
   "display_name": "sona",
   "language": "python",
   "name": "sona"
  },
  "language_info": {
   "codemirror_mode": {
    "name": "ipython",
    "version": 3
   },
   "file_extension": ".py",
   "mimetype": "text/x-python",
   "name": "python",
   "nbconvert_exporter": "python",
   "pygments_lexer": "ipython3",
   "version": "3.9.4"
  }
 },
 "nbformat": 4,
 "nbformat_minor": 5
}

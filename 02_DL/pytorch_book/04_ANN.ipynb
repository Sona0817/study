{
 "cells": [
  {
   "cell_type": "markdown",
   "id": "52c07ebe-215e-4a7e-a213-983c4e541d64",
   "metadata": {},
   "source": [
    "# PyTorch로 시작하는 딥러닝 입문\n",
    "https://wikidocs.net/book/2788\n",
    "## 01."
   ]
  },
  {
   "cell_type": "code",
   "execution_count": null,
   "id": "3019c2ac-f939-4d95-9f6c-1319c92a335e",
   "metadata": {},
   "outputs": [],
   "source": []
  }
 ],
 "metadata": {
  "kernelspec": {
   "display_name": "sona",
   "language": "python",
   "name": "sona"
  },
  "language_info": {
   "codemirror_mode": {
    "name": "ipython",
    "version": 3
   },
   "file_extension": ".py",
   "mimetype": "text/x-python",
   "name": "python",
   "nbconvert_exporter": "python",
   "pygments_lexer": "ipython3",
   "version": "3.9.4"
  }
 },
 "nbformat": 4,
 "nbformat_minor": 5
}

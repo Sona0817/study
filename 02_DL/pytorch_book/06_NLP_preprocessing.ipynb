{
 "cells": [
  {
   "cell_type": "markdown",
   "id": "81f77c76-3ab3-4985-b789-cca7ee2ec6c5",
   "metadata": {
    "tags": []
   },
   "source": [
    "# PyTorch로 시작하는 딥러닝 입문\n",
    "https://wikidocs.net/book/2788\n",
    "## 01. 자연어 처리 전처리 이해하기\n",
    "요즘 자연어처리는 머신러닝에서 주로 사용, 딥러닝에서는 lstm이나 transform사용\n",
    "### 1. 토근화"
   ]
  },
  {
   "cell_type": "code",
   "execution_count": 10,
   "id": "63fc8936-a9a6-49b2-be6b-239a7703d9eb",
   "metadata": {},
   "outputs": [],
   "source": [
    "en_text = 'A Dog Run back corner near spare bedrooms'"
   ]
  },
  {
   "cell_type": "markdown",
   "id": "5df90c9c-6b57-4bba-80ac-5fc5fb532d61",
   "metadata": {},
   "source": [
    "#### 1. spacy 사용하기\n",
    "- pip install spacy\n",
    "- python -m spacy download en 영어 패키지 다운\n",
    "- 독일어 de 스페인어 es 포르투갈어 pt 프랑스어 fr 이탈리아어 it 네덜란드어 nl 멀티랭귀지 xx"
   ]
  },
  {
   "cell_type": "code",
   "execution_count": 11,
   "id": "ce00a37a-e1d3-4eb7-bd3f-720f64c48dab",
   "metadata": {},
   "outputs": [],
   "source": [
    "import spacy\n",
    "spacy_en = spacy.load('en_core_web_sm')"
   ]
  },
  {
   "cell_type": "code",
   "execution_count": 12,
   "id": "cb1468b5-8acf-40bd-add2-fb6e40cdf8db",
   "metadata": {},
   "outputs": [],
   "source": [
    "def tokenize(en_text):\n",
    "    return [tok.text for tok in spacy_en.tokenizer(en_text)]"
   ]
  },
  {
   "cell_type": "code",
   "execution_count": 13,
   "id": "9b1454b4-0a5b-48e5-993e-eb21dafdbd9d",
   "metadata": {},
   "outputs": [
    {
     "name": "stdout",
     "output_type": "stream",
     "text": [
      "['A', 'Dog', 'Run', 'back', 'corner', 'near', 'spare', 'bedrooms']\n"
     ]
    }
   ],
   "source": [
    "print(tokenize(en_text))"
   ]
  },
  {
   "cell_type": "markdown",
   "id": "eff61e61-71f6-4463-ba7c-50cb006d93fc",
   "metadata": {},
   "source": [
    "#### 2. NLTK 사용하기\n",
    "- pip install nltk"
   ]
  },
  {
   "cell_type": "code",
   "execution_count": 14,
   "id": "9264546b-9f18-4d3e-b27f-f617ea0a9ec6",
   "metadata": {},
   "outputs": [],
   "source": [
    "import nltk\n",
    "from nltk.tokenize import word_tokenize"
   ]
  },
  {
   "cell_type": "code",
   "execution_count": 15,
   "id": "014b8a68-86ee-4e0d-a122-27ce32725737",
   "metadata": {},
   "outputs": [
    {
     "name": "stderr",
     "output_type": "stream",
     "text": [
      "[nltk_data] Downloading package punkt to /Users/limkahyun/nltk_data...\n",
      "[nltk_data]   Unzipping tokenizers/punkt.zip.\n"
     ]
    },
    {
     "name": "stdout",
     "output_type": "stream",
     "text": [
      "['A', 'Dog', 'Run', 'back', 'corner', 'near', 'spare', 'bedrooms']\n"
     ]
    }
   ],
   "source": [
    "nltk.download('punkt')\n",
    "print(word_tokenize(en_text))"
   ]
  },
  {
   "cell_type": "markdown",
   "id": "097a2dfc-bb84-4f12-a313-5786a5a94ff1",
   "metadata": {},
   "source": [
    "#### 3. 띄어쓰기로 토큰화\n",
    "- 영어는 띄어쓰기로 토근화해도 단어들 간 구분이 명확함\n",
    "- 한국어는 조사, 접사 등으로 나눠진 단어가 다른 단어로 인식되거 단어 집합이 불필요하게 커짐\n",
    "- 단어 집합 : 중복을 제거한 텍스트의 총 단어 집합(set)"
   ]
  },
  {
   "cell_type": "code",
   "execution_count": 16,
   "id": "db99013b-d942-4888-ad91-b5d58f07e635",
   "metadata": {},
   "outputs": [
    {
     "name": "stdout",
     "output_type": "stream",
     "text": [
      "['A', 'Dog', 'Run', 'back', 'corner', 'near', 'spare', 'bedrooms']\n"
     ]
    }
   ],
   "source": [
    "print(en_text.split())"
   ]
  },
  {
   "cell_type": "markdown",
   "id": "dbdb7840-fd85-4212-987f-f91c13929191",
   "metadata": {},
   "source": [
    "#### 4. 한국어 형태소 토근화\n",
    "한국어는 보편적으로 **형태소분석기**로 토큰화 함  \n",
    "형태소 분석기 중에서 mecab 사용  \n",
    "mecab 설치 총정리 : https://magicode.tistory.com/62"
   ]
  },
  {
   "cell_type": "code",
   "execution_count": 1,
   "id": "3bf49336-ad3f-445f-9634-8b6dd7d8f031",
   "metadata": {},
   "outputs": [
    {
     "name": "stdout",
     "output_type": "stream",
     "text": [
      "['사과의', '놀라운', '효능이라는', '글을', '봤어.', '그래서', '오늘', '사과를', '먹으려고', '했는데', '사과가', '썩어서', '슈퍼에', '가서', '사과랑', '오렌지', '사왔어']\n"
     ]
    }
   ],
   "source": [
    "kor_text = '사과의 놀라운 효능이라는 글을 봤어. 그래서 오늘 사과를 먹으려고 했는데 사과가 썩어서 슈퍼에 가서 사과랑 오렌지 사왔어'\n",
    "print(kor_text.split())"
   ]
  },
  {
   "cell_type": "code",
   "execution_count": 5,
   "id": "3b223975-6bff-4bc1-9101-48afa4ebf0cf",
   "metadata": {},
   "outputs": [
    {
     "name": "stdout",
     "output_type": "stream",
     "text": [
      "['사과', '의', '놀라운', '효능', '이', '라는', '글', '을', '봤', '어', '.', '그래서', '오늘', '사과', '를', '먹', '으려고', '했', '는데', '사과', '가', '썩', '어서', '슈퍼', '에', '가', '서', '사과', '랑', '오렌지', '사', '왔', '어']\n"
     ]
    }
   ],
   "source": [
    "from konlpy.tag import Mecab\n",
    "tokenizer = Mecab()\n",
    "print(tokenizer.morphs(kor_text))"
   ]
  },
  {
   "cell_type": "markdown",
   "id": "ab70c026-7fa9-457e-826e-bbcba9738937",
   "metadata": {},
   "source": [
    "### 2. 단어 집합 생성"
   ]
  },
  {
   "cell_type": "code",
   "execution_count": 7,
   "id": "3379cb35-095f-46b6-9415-960792460b84",
   "metadata": {},
   "outputs": [],
   "source": [
    "import urllib.request\n",
    "from konlpy.tag import Mecab\n",
    "from nltk import FreqDist\n",
    "import numpy as np\n",
    "import pandas as pd\n",
    "import matplotlib.pyplot as plt"
   ]
  },
  {
   "cell_type": "code",
   "execution_count": 9,
   "id": "276620b1-e143-4f06-9fb2-aeeb6eb71715",
   "metadata": {},
   "outputs": [
    {
     "data": {
      "text/html": [
       "<div>\n",
       "<style scoped>\n",
       "    .dataframe tbody tr th:only-of-type {\n",
       "        vertical-align: middle;\n",
       "    }\n",
       "\n",
       "    .dataframe tbody tr th {\n",
       "        vertical-align: top;\n",
       "    }\n",
       "\n",
       "    .dataframe thead th {\n",
       "        text-align: right;\n",
       "    }\n",
       "</style>\n",
       "<table border=\"1\" class=\"dataframe\">\n",
       "  <thead>\n",
       "    <tr style=\"text-align: right;\">\n",
       "      <th></th>\n",
       "      <th>id</th>\n",
       "      <th>document</th>\n",
       "      <th>label</th>\n",
       "    </tr>\n",
       "  </thead>\n",
       "  <tbody>\n",
       "    <tr>\n",
       "      <th>0</th>\n",
       "      <td>8112052</td>\n",
       "      <td>어릴때보고 지금다시봐도 재밌어요ㅋㅋ</td>\n",
       "      <td>1</td>\n",
       "    </tr>\n",
       "    <tr>\n",
       "      <th>1</th>\n",
       "      <td>8132799</td>\n",
       "      <td>디자인을 배우는 학생으로, 외국디자이너와 그들이 일군 전통을 통해 발전해가는 문화산...</td>\n",
       "      <td>1</td>\n",
       "    </tr>\n",
       "    <tr>\n",
       "      <th>2</th>\n",
       "      <td>4655635</td>\n",
       "      <td>폴리스스토리 시리즈는 1부터 뉴까지 버릴께 하나도 없음.. 최고.</td>\n",
       "      <td>1</td>\n",
       "    </tr>\n",
       "    <tr>\n",
       "      <th>3</th>\n",
       "      <td>9251303</td>\n",
       "      <td>와.. 연기가 진짜 개쩔구나.. 지루할거라고 생각했는데 몰입해서 봤다.. 그래 이런...</td>\n",
       "      <td>1</td>\n",
       "    </tr>\n",
       "    <tr>\n",
       "      <th>4</th>\n",
       "      <td>10067386</td>\n",
       "      <td>안개 자욱한 밤하늘에 떠 있는 초승달 같은 영화.</td>\n",
       "      <td>1</td>\n",
       "    </tr>\n",
       "    <tr>\n",
       "      <th>...</th>\n",
       "      <td>...</td>\n",
       "      <td>...</td>\n",
       "      <td>...</td>\n",
       "    </tr>\n",
       "    <tr>\n",
       "      <th>199995</th>\n",
       "      <td>8963373</td>\n",
       "      <td>포켓 몬스터 짜가 ㅡㅡ;;</td>\n",
       "      <td>0</td>\n",
       "    </tr>\n",
       "    <tr>\n",
       "      <th>199996</th>\n",
       "      <td>3302770</td>\n",
       "      <td>쓰.레.기</td>\n",
       "      <td>0</td>\n",
       "    </tr>\n",
       "    <tr>\n",
       "      <th>199997</th>\n",
       "      <td>5458175</td>\n",
       "      <td>완전 사이코영화. 마지막은 더욱더 이 영화의질을 떨어트린다.</td>\n",
       "      <td>0</td>\n",
       "    </tr>\n",
       "    <tr>\n",
       "      <th>199998</th>\n",
       "      <td>6908648</td>\n",
       "      <td>왜난 재미없었지 ㅠㅠ 라따뚜이 보고나서 스머프 봐서 그런가 ㅋㅋ</td>\n",
       "      <td>0</td>\n",
       "    </tr>\n",
       "    <tr>\n",
       "      <th>199999</th>\n",
       "      <td>8548411</td>\n",
       "      <td>포풍저그가나가신다영차영차영차</td>\n",
       "      <td>0</td>\n",
       "    </tr>\n",
       "  </tbody>\n",
       "</table>\n",
       "<p>200000 rows × 3 columns</p>\n",
       "</div>"
      ],
      "text/plain": [
       "              id                                           document  label\n",
       "0        8112052                                어릴때보고 지금다시봐도 재밌어요ㅋㅋ      1\n",
       "1        8132799  디자인을 배우는 학생으로, 외국디자이너와 그들이 일군 전통을 통해 발전해가는 문화산...      1\n",
       "2        4655635               폴리스스토리 시리즈는 1부터 뉴까지 버릴께 하나도 없음.. 최고.      1\n",
       "3        9251303  와.. 연기가 진짜 개쩔구나.. 지루할거라고 생각했는데 몰입해서 봤다.. 그래 이런...      1\n",
       "4       10067386                        안개 자욱한 밤하늘에 떠 있는 초승달 같은 영화.      1\n",
       "...          ...                                                ...    ...\n",
       "199995   8963373                                     포켓 몬스터 짜가 ㅡㅡ;;      0\n",
       "199996   3302770                                              쓰.레.기      0\n",
       "199997   5458175                  완전 사이코영화. 마지막은 더욱더 이 영화의질을 떨어트린다.      0\n",
       "199998   6908648                왜난 재미없었지 ㅠㅠ 라따뚜이 보고나서 스머프 봐서 그런가 ㅋㅋ      0\n",
       "199999   8548411                                    포풍저그가나가신다영차영차영차      0\n",
       "\n",
       "[200000 rows x 3 columns]"
      ]
     },
     "execution_count": 9,
     "metadata": {},
     "output_type": "execute_result"
    }
   ],
   "source": [
    "urllib.request.urlretrieve(\"https://raw.githubusercontent.com/e9t/nsmc/master/ratings.txt\", filename=\"ratings.txt\")\n",
    "data = pd.read_table('ratings.txt') # 데이터프레임에 저장\n",
    "data"
   ]
  },
  {
   "cell_type": "code",
   "execution_count": 11,
   "id": "88bd517d-91e3-48b4-844e-252cd0b3140d",
   "metadata": {},
   "outputs": [
    {
     "name": "stderr",
     "output_type": "stream",
     "text": [
      "<ipython-input-11-9abd05252c1f>:5: FutureWarning: The default value of regex will change from True to False in a future version.\n",
      "  sample_data['document'] = sample_data['document'].str.replace(\"[^ㄱ-하-ㅣ가-힣]\", \" \")\n",
      "<ipython-input-11-9abd05252c1f>:5: SettingWithCopyWarning: \n",
      "A value is trying to be set on a copy of a slice from a DataFrame.\n",
      "Try using .loc[row_indexer,col_indexer] = value instead\n",
      "\n",
      "See the caveats in the documentation: https://pandas.pydata.org/pandas-docs/stable/user_guide/indexing.html#returning-a-view-versus-a-copy\n",
      "  sample_data['document'] = sample_data['document'].str.replace(\"[^ㄱ-하-ㅣ가-힣]\", \" \")\n"
     ]
    },
    {
     "data": {
      "text/html": [
       "<div>\n",
       "<style scoped>\n",
       "    .dataframe tbody tr th:only-of-type {\n",
       "        vertical-align: middle;\n",
       "    }\n",
       "\n",
       "    .dataframe tbody tr th {\n",
       "        vertical-align: top;\n",
       "    }\n",
       "\n",
       "    .dataframe thead th {\n",
       "        text-align: right;\n",
       "    }\n",
       "</style>\n",
       "<table border=\"1\" class=\"dataframe\">\n",
       "  <thead>\n",
       "    <tr style=\"text-align: right;\">\n",
       "      <th></th>\n",
       "      <th>id</th>\n",
       "      <th>document</th>\n",
       "      <th>label</th>\n",
       "    </tr>\n",
       "  </thead>\n",
       "  <tbody>\n",
       "    <tr>\n",
       "      <th>0</th>\n",
       "      <td>8112052</td>\n",
       "      <td>어릴때보고지금다시봐도재밌어요ㅋㅋ</td>\n",
       "      <td>1</td>\n",
       "    </tr>\n",
       "    <tr>\n",
       "      <th>1</th>\n",
       "      <td>8132799</td>\n",
       "      <td>디자인을배우는학생으로외국디자이너와그들이일군전통을통해발전해가는문화산업이부러웠는데사실우...</td>\n",
       "      <td>1</td>\n",
       "    </tr>\n",
       "    <tr>\n",
       "      <th>2</th>\n",
       "      <td>4655635</td>\n",
       "      <td>폴리스스토리시리즈는부터뉴까지버릴께하나도없음최고</td>\n",
       "      <td>1</td>\n",
       "    </tr>\n",
       "    <tr>\n",
       "      <th>3</th>\n",
       "      <td>9251303</td>\n",
       "      <td>와연기가진짜개쩔구나지루할거라고생각했는데몰입해서봤다그래이런게진짜영화지</td>\n",
       "      <td>1</td>\n",
       "    </tr>\n",
       "    <tr>\n",
       "      <th>4</th>\n",
       "      <td>10067386</td>\n",
       "      <td>안개자욱한밤하늘에떠있는초승달같은영화</td>\n",
       "      <td>1</td>\n",
       "    </tr>\n",
       "    <tr>\n",
       "      <th>...</th>\n",
       "      <td>...</td>\n",
       "      <td>...</td>\n",
       "      <td>...</td>\n",
       "    </tr>\n",
       "    <tr>\n",
       "      <th>95</th>\n",
       "      <td>3908729</td>\n",
       "      <td>진짜최고다최고성룡형님마이우상</td>\n",
       "      <td>1</td>\n",
       "    </tr>\n",
       "    <tr>\n",
       "      <th>96</th>\n",
       "      <td>6318878</td>\n",
       "      <td>당신이좋아하는장르는뭐요이영화에도저영화에도이런장르는싫다니원</td>\n",
       "      <td>1</td>\n",
       "    </tr>\n",
       "    <tr>\n",
       "      <th>97</th>\n",
       "      <td>2620222</td>\n",
       "      <td>지금까지본영화중에최고다</td>\n",
       "      <td>1</td>\n",
       "    </tr>\n",
       "    <tr>\n",
       "      <th>98</th>\n",
       "      <td>5954450</td>\n",
       "      <td>매회리타가자꾸거슬려서죽었으면좋겠다고생각했는데ㅠㅠ죄책감에나도잠못이룬다</td>\n",
       "      <td>1</td>\n",
       "    </tr>\n",
       "    <tr>\n",
       "      <th>99</th>\n",
       "      <td>9754970</td>\n",
       "      <td>어릴때보고커서다시봤는데진짜잘만든영화였네웃음과감동을잘이어붙였고정치에대한비판이랑묘사도굉...</td>\n",
       "      <td>1</td>\n",
       "    </tr>\n",
       "  </tbody>\n",
       "</table>\n",
       "<p>100 rows × 3 columns</p>\n",
       "</div>"
      ],
      "text/plain": [
       "          id                                           document  label\n",
       "0    8112052                                  어릴때보고지금다시봐도재밌어요ㅋㅋ      1\n",
       "1    8132799  디자인을배우는학생으로외국디자이너와그들이일군전통을통해발전해가는문화산업이부러웠는데사실우...      1\n",
       "2    4655635                          폴리스스토리시리즈는부터뉴까지버릴께하나도없음최고      1\n",
       "3    9251303              와연기가진짜개쩔구나지루할거라고생각했는데몰입해서봤다그래이런게진짜영화지      1\n",
       "4   10067386                                안개자욱한밤하늘에떠있는초승달같은영화      1\n",
       "..       ...                                                ...    ...\n",
       "95   3908729                                    진짜최고다최고성룡형님마이우상      1\n",
       "96   6318878                    당신이좋아하는장르는뭐요이영화에도저영화에도이런장르는싫다니원      1\n",
       "97   2620222                                       지금까지본영화중에최고다      1\n",
       "98   5954450              매회리타가자꾸거슬려서죽었으면좋겠다고생각했는데ㅠㅠ죄책감에나도잠못이룬다      1\n",
       "99   9754970  어릴때보고커서다시봤는데진짜잘만든영화였네웃음과감동을잘이어붙였고정치에대한비판이랑묘사도굉...      1\n",
       "\n",
       "[100 rows x 3 columns]"
      ]
     },
     "execution_count": 11,
     "metadata": {},
     "output_type": "execute_result"
    }
   ],
   "source": [
    "# 임의로 100개 저장\n",
    "sample_data = data[:100]\n",
    "\n",
    "# 정규표현식으로 데이터 정제 : 한글과 공백 제외하고 모두 제거\n",
    "sample_data['document'] = sample_data['document'].str.replace(\"[^ㄱ-하-ㅣ가-힣]\", \" \")\n",
    "sample_data"
   ]
  },
  {
   "cell_type": "code",
   "execution_count": 14,
   "id": "8490a50d-6852-40ef-b076-94fbc3d4c4ef",
   "metadata": {},
   "outputs": [],
   "source": [
    "# 불용어 정의\n",
    "stopwords = ['을','의','가','이','은','들','는','좀','잘','걍','과','도','를','으로','자','에','와','한','하다']"
   ]
  },
  {
   "cell_type": "code",
   "execution_count": 15,
   "id": "ee65ab00-3fa0-453b-a12e-67fa66e260d9",
   "metadata": {},
   "outputs": [
    {
     "name": "stdout",
     "output_type": "stream",
     "text": [
      "[['어릴', '때', '보', '고', '지금', '다시', '봐도', '재밌', '어요', 'ㅋㅋ'], ['디자인', '배우', '학생', '외국', '디자이너', '그', '일군', '전통', '통해', '발전', '해', '문화', '산업', '부러웠', '는데', '사실', '우리', '나라', '에서', '그', '어려운', '시절', '끝', '까지', '열정', '지킨', '노라노', '같', '전통', '있', '어', '저', '같', '사람', '꿈', '꾸', '고', '이뤄나갈', '수', '있', '다는', '것', '감사', '합니다'], ['폴리스', '스토리', '시리즈', '부터', '뉴', '까지', '버릴', '께', '하나', '없', '음', '최고'], ['연기', '진짜', '개', '쩔', '구나', '지루', '할거', '라고', '생각', '했', '는데', '몰입', '해서', '봤', '다', '그래', '이런', '게', '진짜', '영화', '지'], ['안개', '자욱', '밤하늘', '떠', '있', '초승달', '같', '영화'], ['사랑', '해', '본', '사람', '라면', '처음', '부터', '끝', '까지', '웃', '수', '있', '영화'], ['완전', '감동', '입니다', '다시', '봐도', '감동'], ['개', '전쟁', '나오', '나요', '나오', '면', '빠', '로', '보', '고', '싶', '음'], ['굿'], ['바보', '아니', '라', '병', '쉰', '인', '듯']]\n"
     ]
    }
   ],
   "source": [
    "tokenizer = Mecab()\n",
    "tokenized = []\n",
    "\n",
    "for sentence in sample_data['document']:\n",
    "    # 토큰화\n",
    "    temp = tokenizer.morphs(sentence)\n",
    "    \n",
    "    # 불용어 제거\n",
    "    temp = [word for word in temp if not word in stopwords]\n",
    "    \n",
    "    tokenized.append(temp)\n",
    "    \n",
    "print(tokenized[:10])"
   ]
  },
  {
   "cell_type": "code",
   "execution_count": 17,
   "id": "2007c6bc-f89d-46a6-8063-ab8705a17e8d",
   "metadata": {},
   "outputs": [
    {
     "name": "stdout",
     "output_type": "stream",
     "text": [
      "단어 집합 크기 : 655\n",
      "감동이라는 단어가 작성 된 횟수 :  7\n"
     ]
    }
   ],
   "source": [
    "# 단어를 key, 빈도수가 value로 저장됨\n",
    "vocab = FreqDist(np.hstack(tokenized))\n",
    "print('단어 집합 크기 :', len(vocab))\n",
    "print('감동이라는 단어가 작성 된 횟수 : ', vocab['감동'])"
   ]
  },
  {
   "cell_type": "code",
   "execution_count": 18,
   "id": "ec0895bd-1947-4e55-afdd-61435cb70cb9",
   "metadata": {},
   "outputs": [
    {
     "name": "stdout",
     "output_type": "stream",
     "text": [
      "단어 집합 크기 : 500\n"
     ]
    }
   ],
   "source": [
    "# 빈도수 높은 상위 500개 단어 추출\n",
    "vocab_size = 500\n",
    "vocab = vocab.most_common(vocab_size)\n",
    "print('단어 집합 크기 :', len(vocab))"
   ]
  },
  {
   "cell_type": "markdown",
   "id": "7c94b63c-9fe6-4e67-9fe5-72c259c2c14c",
   "metadata": {},
   "source": [
    "### 3. 각 단어에 고유한 정수 부여\n",
    "- enumerate(): 순서가 있는 자료형(list, set, tuple, dictionary, string)을 입력으로 받아 인덱스를 순차적으로 함께 리턴\n",
    "- 인덱스 0, 1은 다른 용도로 남겨두고\n",
    "- 단어들에 대해 2~501까지 순차적으로 인덱스 부여"
   ]
  },
  {
   "cell_type": "code",
   "execution_count": 20,
   "id": "77781915-3d55-4c40-9403-0cbaa83b8353",
   "metadata": {},
   "outputs": [],
   "source": [
    "word_to_index = {word[0] : index +2 for index, word in enumerate(vocab)}\n",
    "word_to_index['pad'] = 1\n",
    "word_to_index['unk'] = 0"
   ]
  },
  {
   "cell_type": "code",
   "execution_count": 21,
   "id": "f0b5bcc9-2051-4d22-a4e6-af158967be48",
   "metadata": {},
   "outputs": [
    {
     "name": "stdout",
     "output_type": "stream",
     "text": [
      "[[77, 24, 7, 4, 46, 37, 78, 21, 25, 79], [184, 80, 185, 186, 187, 47, 188, 111, 189, 190, 22, 112, 191, 192, 11, 48, 81, 113, 26, 47, 193, 114, 115, 27, 194, 195, 196, 13, 111, 6, 61, 49, 13, 38, 197, 198, 4, 199, 14, 6, 82, 39, 200, 83], [201, 116, 202, 50, 203, 27, 204, 205, 84, 12, 28, 9], [51, 29, 117, 206, 207, 208, 209, 62, 40, 30, 11, 210, 118, 15, 2, 211, 63, 8, 29, 3, 31], [212, 213, 214, 215, 6, 216, 13, 3], [119, 22, 32, 38, 120, 121, 50, 115, 27, 85, 14, 6, 3], [122, 33, 217, 37, 78, 33], [117, 218, 52, 219, 52, 64, 220, 34, 7, 4, 41, 28], [53], [221, 86, 87, 222, 223, 54, 88]]\n"
     ]
    }
   ],
   "source": [
    "encoded = []\n",
    "for line in tokenized: # 입력 데이터에서 1줄씩 문장을 읽음\n",
    "    temp = []\n",
    "    for w in line: # 각 줄에서 1개씩 글자를 읽음\n",
    "        try:\n",
    "            temp.append(word_to_index[w]) # 글자를 해당되는 정수로 변환\n",
    "        except KeyError: # 단어 집합에 없는 단어일 경우 unk로 대체\n",
    "            temp.append(word_to_index['unk']) # unk의 인덱스로 변환:0\n",
    "            \n",
    "    encoded.append(temp)\n",
    "    \n",
    "print(encoded[:10])"
   ]
  },
  {
   "cell_type": "markdown",
   "id": "d475beb2-f7e7-4a3a-8ba8-9ce948ed81ae",
   "metadata": {},
   "source": [
    "### 4. 길이가 다른 문장들을 모두 동일한 길이로 바꿔주는 패딩\n",
    "- 패딩: 길이가 다른 리뷰들을 모두 동일한 길이로 바꿔주는 작업\n",
    "- 위에서 설정한 'pad'를 추가하여 작업"
   ]
  },
  {
   "cell_type": "code",
   "execution_count": 22,
   "id": "64a7c3b4-54e2-41bf-b2a2-e2ef5cc41ea6",
   "metadata": {},
   "outputs": [
    {
     "name": "stdout",
     "output_type": "stream",
     "text": [
      "리뷰의 최대 길이 : 61\n",
      "리뷰의 최소 길이 : 1\n",
      "리뷰의 평균 길이 : 13.260000\n"
     ]
    },
    {
     "data": {
      "image/png": "[encoded data removed]",
      "text/plain": [
       "<Figure size 432x288 with 1 Axes>"
      ]
     },
     "metadata": {
      "needs_background": "light"
     },
     "output_type": "display_data"
    }
   ],
   "source": [
    "max_len = max(len(l) for l in encoded)\n",
    "print('리뷰의 최대 길이 : %d' % max_len)\n",
    "print('리뷰의 최소 길이 : %d' % min(len(l) for l in encoded))\n",
    "print('리뷰의 평균 길이 : %f' % (sum(map(len, encoded))/len(encoded)))\n",
    "plt.hist([len(s) for s in encoded], bins=50)\n",
    "plt.xlabel('length of sample')\n",
    "plt.ylabel('number of sample')\n",
    "plt.show()"
   ]
  },
  {
   "cell_type": "code",
   "execution_count": 24,
   "id": "b374036e-fc28-4ccd-927f-8b8899aeb912",
   "metadata": {},
   "outputs": [
    {
     "name": "stdout",
     "output_type": "stream",
     "text": [
      "리뷰의 최대 길이 : 61\n",
      "리뷰의 최소 길이 : 61\n",
      "리뷰의 평균 길이 : 61.000000\n",
      "[[77, 24, 7, 4, 46, 37, 78, 21, 25, 79, 1, 1, 1, 1, 1, 1, 1, 1, 1, 1, 1, 1, 1, 1, 1, 1, 1, 1, 1, 1, 1, 1, 1, 1, 1, 1, 1, 1, 1, 1, 1, 1, 1, 1, 1, 1, 1, 1, 1, 1, 1, 1, 1, 1, 1, 1, 1, 1, 1, 1, 1], [184, 80, 185, 186, 187, 47, 188, 111, 189, 190, 22, 112, 191, 192, 11, 48, 81, 113, 26, 47, 193, 114, 115, 27, 194, 195, 196, 13, 111, 6, 61, 49, 13, 38, 197, 198, 4, 199, 14, 6, 82, 39, 200, 83, 1, 1, 1, 1, 1, 1, 1, 1, 1, 1, 1, 1, 1, 1, 1, 1, 1], [201, 116, 202, 50, 203, 27, 204, 205, 84, 12, 28, 9, 1, 1, 1, 1, 1, 1, 1, 1, 1, 1, 1, 1, 1, 1, 1, 1, 1, 1, 1, 1, 1, 1, 1, 1, 1, 1, 1, 1, 1, 1, 1, 1, 1, 1, 1, 1, 1, 1, 1, 1, 1, 1, 1, 1, 1, 1, 1, 1, 1]]\n"
     ]
    }
   ],
   "source": [
    "for line in encoded:\n",
    "    if len(line) < max_len: # 현재 샘플이 정해준 길이보다 짧으면\n",
    "        line += [word_to_index['pad']] * (max_len - len(line)) # 나머지는 전부 'pad' 토큰으로 채운다.\n",
    "        \n",
    "print('리뷰의 최대 길이 : %d' % max_len)\n",
    "print('리뷰의 최소 길이 : %d' % min(len(l) for l in encoded))\n",
    "print('리뷰의 평균 길이 : %f' % (sum(map(len, encoded))/len(encoded)))\n",
    "print(encoded[:3])"
   ]
  },
  {
   "cell_type": "markdown",
   "id": "55339043-2f6a-4846-bb36-1014fde0baaa",
   "metadata": {},
   "source": [
    "- 단어들을 고유 정수로 변환 완료\n",
    "- 각 정수를 고유한 단어 벡터 변환 작업 필요\n",
    "    - 원-핫인코딩\n",
    "    - 워드 임베딩 (주로 사용)\n",
    "\n",
    "## 02. 토치텍스트는 잘 사용하지 않음"
   ]
  },
  {
   "cell_type": "code",
   "execution_count": 2,
   "id": "30cab6f2-341a-4df5-973a-8e6fab5439bc",
   "metadata": {},
   "outputs": [],
   "source": [
    "# pip install torchtext==0.9.0\n",
    "from torchtext.legacy.data import TabularDataset\n",
    "import urllib.request\n",
    "import pandas as pd"
   ]
  },
  {
   "cell_type": "code",
   "execution_count": 3,
   "id": "483902be-2beb-4f41-90b0-5483769d4550",
   "metadata": {},
   "outputs": [
    {
     "data": {
      "text/html": [
       "<div>\n",
       "<style scoped>\n",
       "    .dataframe tbody tr th:only-of-type {\n",
       "        vertical-align: middle;\n",
       "    }\n",
       "\n",
       "    .dataframe tbody tr th {\n",
       "        vertical-align: top;\n",
       "    }\n",
       "\n",
       "    .dataframe thead th {\n",
       "        text-align: right;\n",
       "    }\n",
       "</style>\n",
       "<table border=\"1\" class=\"dataframe\">\n",
       "  <thead>\n",
       "    <tr style=\"text-align: right;\">\n",
       "      <th></th>\n",
       "      <th>review</th>\n",
       "      <th>sentiment</th>\n",
       "    </tr>\n",
       "  </thead>\n",
       "  <tbody>\n",
       "    <tr>\n",
       "      <th>0</th>\n",
       "      <td>My family and I normally do not watch local mo...</td>\n",
       "      <td>1</td>\n",
       "    </tr>\n",
       "    <tr>\n",
       "      <th>1</th>\n",
       "      <td>Believe it or not, this was at one time the wo...</td>\n",
       "      <td>0</td>\n",
       "    </tr>\n",
       "    <tr>\n",
       "      <th>2</th>\n",
       "      <td>After some internet surfing, I found the \"Home...</td>\n",
       "      <td>0</td>\n",
       "    </tr>\n",
       "    <tr>\n",
       "      <th>3</th>\n",
       "      <td>One of the most unheralded great works of anim...</td>\n",
       "      <td>1</td>\n",
       "    </tr>\n",
       "    <tr>\n",
       "      <th>4</th>\n",
       "      <td>It was the Sixties, and anyone with long hair ...</td>\n",
       "      <td>0</td>\n",
       "    </tr>\n",
       "    <tr>\n",
       "      <th>...</th>\n",
       "      <td>...</td>\n",
       "      <td>...</td>\n",
       "    </tr>\n",
       "    <tr>\n",
       "      <th>49995</th>\n",
       "      <td>the people who came up with this are SICK AND ...</td>\n",
       "      <td>0</td>\n",
       "    </tr>\n",
       "    <tr>\n",
       "      <th>49996</th>\n",
       "      <td>The script is so so laughable... this in turn,...</td>\n",
       "      <td>0</td>\n",
       "    </tr>\n",
       "    <tr>\n",
       "      <th>49997</th>\n",
       "      <td>\"So there's this bride, you see, and she gets ...</td>\n",
       "      <td>0</td>\n",
       "    </tr>\n",
       "    <tr>\n",
       "      <th>49998</th>\n",
       "      <td>Your mind will not be satisfied by this noÂbu...</td>\n",
       "      <td>0</td>\n",
       "    </tr>\n",
       "    <tr>\n",
       "      <th>49999</th>\n",
       "      <td>The chaser's war on everything is a weekly sho...</td>\n",
       "      <td>1</td>\n",
       "    </tr>\n",
       "  </tbody>\n",
       "</table>\n",
       "<p>50000 rows × 2 columns</p>\n",
       "</div>"
      ],
      "text/plain": [
       "                                                  review  sentiment\n",
       "0      My family and I normally do not watch local mo...          1\n",
       "1      Believe it or not, this was at one time the wo...          0\n",
       "2      After some internet surfing, I found the \"Home...          0\n",
       "3      One of the most unheralded great works of anim...          1\n",
       "4      It was the Sixties, and anyone with long hair ...          0\n",
       "...                                                  ...        ...\n",
       "49995  the people who came up with this are SICK AND ...          0\n",
       "49996  The script is so so laughable... this in turn,...          0\n",
       "49997  \"So there's this bride, you see, and she gets ...          0\n",
       "49998  Your mind will not be satisfied by this noÂbu...          0\n",
       "49999  The chaser's war on everything is a weekly sho...          1\n",
       "\n",
       "[50000 rows x 2 columns]"
      ]
     },
     "execution_count": 3,
     "metadata": {},
     "output_type": "execute_result"
    }
   ],
   "source": [
    "urllib.request.urlretrieve(\"https://raw.githubusercontent.com/LawrenceDuan/IMDb-Review-Analysis/master/IMDb_Reviews.csv\", filename=\"IMDb_Reviews.csv\")\n",
    "df = pd.read_csv('IMDb_Reviews.csv', encoding='latin1')\n",
    "df"
   ]
  },
  {
   "cell_type": "code",
   "execution_count": 4,
   "id": "f70f381c-856f-4949-aad6-ad5ae3b1b6db",
   "metadata": {},
   "outputs": [
    {
     "name": "stdout",
     "output_type": "stream",
     "text": [
      "전체 샘플의 개수 : 50000\n"
     ]
    }
   ],
   "source": [
    "print('전체 샘플의 개수 : {}'.format(len(df)))\n",
    "train_df = df[:25000]\n",
    "test_df = df[25000:]"
   ]
  },
  {
   "cell_type": "markdown",
   "id": "15e2b6a1-718a-42c0-b5f4-76937becf633",
   "metadata": {},
   "source": [
    "## 03. NLP에서 원핫인코딩"
   ]
  },
  {
   "cell_type": "markdown",
   "id": "d42a1e21-7345-4ab9-aec0-3df8e6959809",
   "metadata": {},
   "source": [
    "에러 : No JVM shared library file (libjli.dylib) found. Try setting up the JAVA_HOME environment variable properly.  \n",
    "해결 : https://muten.tistory.com/13\n",
    "- 자바 설치 : https://www.oracle.com/java/technologies/downloads/#java8-mac\n",
    "- 자바 위치 확인 : cd /Library/Java/JavaVirtualMachines ls\n",
    "- ~/.zshrc 환경변수 설정  \n",
    "    sudo nano ~/.zshrc  \n",
    "    export JAVA_HOME=/Library/Java/JavaVirtualMachines/본인자바버전/Contents/Home  \n",
    "    export PATH=(달러)JAVA_HOME/bin:(달러)PATH"
   ]
  },
  {
   "cell_type": "code",
   "execution_count": 1,
   "id": "97c809e8-b018-49e8-a154-db73ac4f11e0",
   "metadata": {},
   "outputs": [],
   "source": [
    "# conda activate sona\n",
    "# conda install -c conda-forge jpype1\n",
    "# pip install konlpy"
   ]
  },
  {
   "cell_type": "code",
   "execution_count": 3,
   "id": "c7e80243-19cd-4aa9-a497-43757d8efac5",
   "metadata": {},
   "outputs": [
    {
     "name": "stdout",
     "output_type": "stream",
     "text": [
      "['나', '는', '자연어', '처리', '를', '배운다']\n"
     ]
    }
   ],
   "source": [
    "from konlpy.tag import Okt\n",
    "\n",
    "okt = Okt()\n",
    "token = okt.morphs('나는 자연어 처리를 배운다')\n",
    "print(token)"
   ]
  },
  {
   "cell_type": "code",
   "execution_count": 4,
   "id": "32f945b8-f68a-4dc5-a7ab-0007b27afbb8",
   "metadata": {},
   "outputs": [
    {
     "name": "stdout",
     "output_type": "stream",
     "text": [
      "{'나': 0, '는': 1, '자연어': 2, '처리': 3, '를': 4, '배운다': 5}\n"
     ]
    }
   ],
   "source": [
    "word2index = {}\n",
    "\n",
    "for voca in token:\n",
    "    if voca not in word2index.keys():\n",
    "        word2index[voca] = len(word2index)\n",
    "        \n",
    "print(word2index)"
   ]
  },
  {
   "cell_type": "code",
   "execution_count": 8,
   "id": "73f5c87a-3b6d-4a6b-98c5-e93de5820fae",
   "metadata": {},
   "outputs": [
    {
     "data": {
      "text/plain": [
       "0"
      ]
     },
     "execution_count": 8,
     "metadata": {},
     "output_type": "execute_result"
    }
   ],
   "source": [
    "one_hot_vector = [0]*(len(word2index))\n",
    "one_hot_vector[1]"
   ]
  },
  {
   "cell_type": "code",
   "execution_count": 9,
   "id": "a9c88629-6422-4513-ac71-7e957d80c6e0",
   "metadata": {},
   "outputs": [],
   "source": [
    "# 원핫인코딩\n",
    "def one_hot_encoding(word, word2index):\n",
    "    one_hot_vector = [0]*(len(word2index)) # 0으로 이루어진 벡터 만들기\n",
    "    index = word2index[word]               # 입력 문자에 해당하는 인덱스 추출\n",
    "    one_hot_vector[index] = 1              # 벡터 중 해당 인덱스만 1로 변경\n",
    "    return one_hot_vector"
   ]
  },
  {
   "cell_type": "code",
   "execution_count": 10,
   "id": "f2252416-e842-44cb-b2d7-497b7e7de983",
   "metadata": {},
   "outputs": [
    {
     "data": {
      "text/plain": [
       "[0, 0, 1, 0, 0, 0]"
      ]
     },
     "execution_count": 10,
     "metadata": {},
     "output_type": "execute_result"
    }
   ],
   "source": [
    "one_hot_encoding(\"자연어\",word2index)"
   ]
  },
  {
   "cell_type": "markdown",
   "id": "55e87932-ad1f-4c05-ad28-66cc3a4bdb93",
   "metadata": {},
   "source": [
    "## 04. 워드 임베딩\n",
    "- 원핫인코딩 : 단어들간의 유사성을 판단하기 어렵다는 단점\n",
    "- 워드임베딩 : 단어를 밀집 표현으로 변환하는 방법\n",
    "**원핫인코딩의 유사성 비교**"
   ]
  },
  {
   "cell_type": "code",
   "execution_count": 11,
   "id": "68ddec16-4aaa-4d67-9aa2-fc60a1fcceeb",
   "metadata": {},
   "outputs": [],
   "source": [
    "import torch"
   ]
  },
  {
   "cell_type": "code",
   "execution_count": 12,
   "id": "3b273bd7-e0e2-4e23-9f8b-a6df96a1ca57",
   "metadata": {},
   "outputs": [
    {
     "name": "stdout",
     "output_type": "stream",
     "text": [
      "tensor(0.)\n",
      "tensor(0.)\n",
      "tensor(0.)\n",
      "tensor(0.)\n"
     ]
    }
   ],
   "source": [
    "# 원-핫 벡터 생성\n",
    "dog = torch.FloatTensor([1, 0, 0, 0, 0])\n",
    "cat = torch.FloatTensor([0, 1, 0, 0, 0])\n",
    "computer = torch.FloatTensor([0, 0, 1, 0, 0])\n",
    "netbook = torch.FloatTensor([0, 0, 0, 1, 0])\n",
    "book = torch.FloatTensor([0, 0, 0, 0, 1])\n",
    "\n",
    "print(torch.cosine_similarity(dog, cat, dim=0))\n",
    "print(torch.cosine_similarity(cat, computer, dim=0))\n",
    "print(torch.cosine_similarity(computer, netbook, dim=0))\n",
    "print(torch.cosine_similarity(netbook, book, dim=0))"
   ]
  },
  {
   "cell_type": "markdown",
   "id": "7e31a875-309c-4245-8023-00cd35265916",
   "metadata": {},
   "source": [
    "**밀집표현**  \n",
    "1만개의 단어가 있을 때 '강아지'라는 단어는 [0 0 0 1 0 0 0 ...] 과 같이 9999개의 0과 1개의 1로 구성된 1만차원으로 표현된다.  \n",
    "하지만 밀집표현을 사용하고 사용자가 원하는 차원을 설정해준다면 모든 단어의 벡터표현은 사용저 설정 차원으로 바뀌면서 구성되는 값 역시 0과1이 아닌 실수로 변경된다.  \n",
    "이 때 벡터의 차원이 조밀해졌다고 하여 밀집벡터라고 한다.\n",
    "\n",
    "**워드임베딩**  \n",
    "단어를 밀집벡터의 형태로 표현하는 방법을 워드임베딩이라고 한다.  \n",
    "밀집벡터가 워드임베딩 과정을 통해 나온 결과를 임베딩벡터라고 한다.  \n",
    "워드 임베딩 방법론으로 LSA, Word2Vec, FastText, Glove등이 있다.  \n",
    "파이토치에서는 nn.embedding()은 위 방법론을 사용하지는 않지만 단어를 랜덤한 밀집벡터로 변환한 후에 가중치 학습과 같은 방식으로 단어벡터를 학습하는 방법을 사용한다."
   ]
  },
  {
   "cell_type": "markdown",
   "id": "1dc9a6bf-5040-4e2d-a639-a94d49dc4f38",
   "metadata": {},
   "source": [
    "## 05. 워드투벡터(Word2Vec)\n",
    "**희소표현**  \n",
    "단어의 원-핫 인코딩을 통한 원-핫 벡터는 0과1로만 이루어진 희소 벡터다.  \n",
    "이 때 단어간 유사성을 표현할 수 없다는 단점이 있다.  \n",
    "단어의 '의미'를 다차원 공간에 벡터화하는 방법을 분산표현(disributed representation)이라 한다.  \n",
    "\n",
    "**분산표현**\n",
    "비슷한 위치에서 등장하는 단어들은 비슷한 의미를 가진다는 분포 가설 하에 만들어진 표현 방법이다.  \n",
    "위에서 '강아지'라는 단어는 [0 0 0 1 0 0 0 ...]과 같이 9999개의 0과 1개의 1로 구성된 1만차원이었다면,  \n",
    "분산표현에서는 [0.2, 0.3, 0.5, 0.2 ...]과 같이 실수형의 값을 가지게 된다.  \n",
    "이러한 표현 방법으로는 단어 간 유사도를 계산할 수 있다.\n",
    "\n",
    "**CBOW(Continuous Bag of Wards)**  \n",
    "워드투벡터에는 CBOW, Skip-Gram 두가지 방식이 있다.  \n",
    "- CBOW : 주변에 있는 단어들을 가지고 중간에 있는 단어 예측\n",
    "- Skip-Gram : 중간에 있는 단어로 주변 단어 예측\n",
    "슬라이딩 윈도우를 통해 중심단어와 그 주변단어를 학습한다.\n",
    "윈도우 크기가 1이면 중심단어 주변으로 1칸씩, 윈도우 크기가 2면 중심단어 주변으로 2칸씩 학습한다.  "
   ]
  },
  {
   "cell_type": "markdown",
   "id": "5684cc55-7078-4bec-b3a0-db0831901f80",
   "metadata": {},
   "source": [
    "## 06. 글로브(GloVe) \n",
    "## 07. PyTorch의 nn.Embedding()\n",
    "glove는 2020년 이후 버전 업데이트가 안되었고, nn.Embedding()은 단어 처리에서 사용되는 경우만 설명되어있어서  \n",
    "pytorch 입문 책의 9단원은 건너뛰고 10단원 순환신경망(RNN)으로 진행"
   ]
  },
  {
   "cell_type": "code",
   "execution_count": null,
   "id": "9aa36914-b1fc-41bd-bfa5-1b71f29966cd",
   "metadata": {},
   "outputs": [],
   "source": []
  }
 ],
 "metadata": {
  "kernelspec": {
   "display_name": "sona",
   "language": "python",
   "name": "sona"
  },
  "language_info": {
   "codemirror_mode": {
    "name": "ipython",
    "version": 3
   },
   "file_extension": ".py",
   "mimetype": "text/x-python",
   "name": "python",
   "nbconvert_exporter": "python",
   "pygments_lexer": "ipython3",
   "version": "3.8.13"
  }
 },
 "nbformat": 4,
 "nbformat_minor": 5
}

{
 "cells": [
  {
   "cell_type": "markdown",
   "id": "a9d19326-f4c4-4545-9c98-0423d0df3fb4",
   "metadata": {},
   "source": [
    "# 4. 선형계층"
   ]
  },
  {
   "cell_type": "markdown",
   "id": "01c48f24-3a6f-4fa3-9ea2-f92b759062d5",
   "metadata": {},
   "source": [
    "## 실습4.4 - 1. 행렬곱 구현하기"
   ]
  },
  {
   "cell_type": "code",
   "execution_count": 1,
   "id": "616c7b8c-71ad-4b60-8043-64516a693583",
   "metadata": {},
   "outputs": [],
   "source": [
    "import torch"
   ]
  },
  {
   "cell_type": "code",
   "execution_count": 2,
   "id": "6cd59035-f146-4234-a437-b55fd020d2f1",
   "metadata": {},
   "outputs": [],
   "source": [
    "x = torch.FloatTensor(4, 3)\n",
    "W = torch.FloatTensor([[1, 2],\n",
    "                       [3, 4],\n",
    "                       [5, 6]])\n",
    "b = torch.FloatTensor([2, 2])"
   ]
  },
  {
   "cell_type": "code",
   "execution_count": 3,
   "id": "f087aec5-9ca5-4c57-a0ee-04ad4e800b3e",
   "metadata": {},
   "outputs": [],
   "source": [
    "def linear(x, W, b):\n",
    "    y = torch.matmul(x, W) + b\n",
    "    return y"
   ]
  },
  {
   "cell_type": "code",
   "execution_count": 4,
   "id": "fea67ac6-aa3a-4e4d-8ed5-451020a33435",
   "metadata": {},
   "outputs": [
    {
     "data": {
      "text/plain": [
       "torch.Size([4, 2])"
      ]
     },
     "execution_count": 4,
     "metadata": {},
     "output_type": "execute_result"
    }
   ],
   "source": [
    "y = linear(x, W, b)\n",
    "y.size()"
   ]
  },
  {
   "cell_type": "markdown",
   "id": "c559116b-c07b-4291-b46f-6b7c60f2b4c0",
   "metadata": {},
   "source": [
    "## 실습4.4 - 2. torch.nn.Module"
   ]
  },
  {
   "cell_type": "code",
   "execution_count": 5,
   "id": "ce675e2a-2932-4d64-8f2d-d4bf60544004",
   "metadata": {},
   "outputs": [],
   "source": [
    "import torch.nn as nn"
   ]
  },
  {
   "cell_type": "code",
   "execution_count": 6,
   "id": "cba56249-c0be-43d1-af90-27c95777c9bf",
   "metadata": {},
   "outputs": [],
   "source": [
    "class MyLinear(nn.Module):\n",
    "    \n",
    "    def __init__(self, input_dim=3, output_dim=2):\n",
    "        self.input_dim = input_dim\n",
    "        self.output_dim = output_dim\n",
    "        \n",
    "        super().__init__()\n",
    "        \n",
    "        self.W = torch.FloatTensor(input_dim, output_dim)\n",
    "        self.b = torch.FloatTensor(output_dim)\n",
    "        \n",
    "    def forward(self, x):\n",
    "        y = torch.matmul(x, self.W) + self.b\n",
    "        return y"
   ]
  },
  {
   "cell_type": "code",
   "execution_count": 11,
   "id": "5cda0e1d-067d-4c2f-93cd-9085470653a9",
   "metadata": {},
   "outputs": [
    {
     "data": {
      "text/plain": [
       "tensor([[9.4980e-36, 5.4183e-39],\n",
       "        [9.4980e-36, 5.4219e-39],\n",
       "        [9.4980e-36, 5.4216e-39],\n",
       "        [9.4980e-36, 5.4219e-39]])"
      ]
     },
     "execution_count": 11,
     "metadata": {},
     "output_type": "execute_result"
    }
   ],
   "source": [
    "linear = MyLinear(3, 2)\n",
    "y = linear(x)\n",
    "y"
   ]
  },
  {
   "cell_type": "markdown",
   "id": "834de6f7-3aa4-4398-b9da-c000f927235d",
   "metadata": {},
   "source": [
    "## 실습4.4 - 3. nn.Parameter"
   ]
  },
  {
   "cell_type": "code",
   "execution_count": 23,
   "id": "45e36761-e7fe-4212-8023-d88b053fe2dc",
   "metadata": {},
   "outputs": [],
   "source": [
    "class MyLinear(nn.Module):\n",
    "    \n",
    "    def __init__(self, input_dim=3, output_dim=2):\n",
    "        self.input_dim = input_dim\n",
    "        self.output_dim = output_dim\n",
    "        \n",
    "        super().__init__()\n",
    "        \n",
    "        self.W = nn.Parameter(torch.FloatTensor(input_dim, output_dim))\n",
    "        self.b = nn.Parameter(torch.FloatTensor(output_dim))\n",
    "        \n",
    "    def forward(self, x):\n",
    "        # x.shape = [batch_size 4, input 3]\n",
    "        # W.shape = [input 3, output 2]\n",
    "        # b.shape = [output 2]\n",
    "        y = torch.matmul(x, self.W) + self.b\n",
    "        # y.shape = [batch_size 4, output 2]\n",
    "        return y"
   ]
  },
  {
   "cell_type": "code",
   "execution_count": 14,
   "id": "d4fa773d-a64b-49de-83ef-9f090d3cf0c0",
   "metadata": {},
   "outputs": [
    {
     "data": {
      "text/plain": [
       "tensor([[0.0000, 0.0006],\n",
       "        [0.0000, 0.0006],\n",
       "        [0.0000, 0.0006],\n",
       "        [0.0000, 0.0006]], grad_fn=<AddBackward0>)"
      ]
     },
     "execution_count": 14,
     "metadata": {},
     "output_type": "execute_result"
    }
   ],
   "source": [
    "linear = MyLinear(3, 2)\n",
    "y = linear(x)\n",
    "y"
   ]
  },
  {
   "cell_type": "code",
   "execution_count": 15,
   "id": "ad56af6a-b5ef-4cbf-88dd-a8b9735a6859",
   "metadata": {},
   "outputs": [
    {
     "name": "stdout",
     "output_type": "stream",
     "text": [
      "Parameter containing:\n",
      "tensor([[0.0000e+00, 4.6566e-10],\n",
      "        [0.0000e+00, 4.6566e-10],\n",
      "        [1.4013e-44, 4.6566e-10]], requires_grad=True)\n",
      "Parameter containing:\n",
      "tensor([-0.0000, 0.0006], requires_grad=True)\n"
     ]
    }
   ],
   "source": [
    "for p in linear.parameters():\n",
    "    print(p)"
   ]
  },
  {
   "cell_type": "markdown",
   "id": "f11b35ca-17b2-43ab-bf4a-a5346b9576b4",
   "metadata": {},
   "source": [
    "## 실습4.4 - 4. nn.Linear"
   ]
  },
  {
   "cell_type": "code",
   "execution_count": 16,
   "id": "25eea67e-af86-41f1-9b64-fcf5c9543d00",
   "metadata": {},
   "outputs": [
    {
     "name": "stdout",
     "output_type": "stream",
     "text": [
      "Parameter containing:\n",
      "tensor([[-0.4110,  0.2365, -0.1491],\n",
      "        [ 0.2478, -0.4533, -0.1433]], requires_grad=True)\n",
      "Parameter containing:\n",
      "tensor([0.0900, 0.5121], requires_grad=True)\n"
     ]
    }
   ],
   "source": [
    "linear = nn.Linear(3, 2)\n",
    "y = linear(x)\n",
    "\n",
    "for p in linear.parameters():\n",
    "    print(p)"
   ]
  },
  {
   "cell_type": "code",
   "execution_count": 17,
   "id": "71be08c5-80fc-4224-9037-a47b9eb292cc",
   "metadata": {},
   "outputs": [
    {
     "data": {
      "text/plain": [
       "torch.Size([4, 3])"
      ]
     },
     "execution_count": 17,
     "metadata": {},
     "output_type": "execute_result"
    }
   ],
   "source": [
    "x.shape"
   ]
  },
  {
   "cell_type": "code",
   "execution_count": 18,
   "id": "460a49bf-3e01-4169-8521-445765ea5a39",
   "metadata": {},
   "outputs": [
    {
     "data": {
      "text/plain": [
       "torch.Size([4, 2])"
      ]
     },
     "execution_count": 18,
     "metadata": {},
     "output_type": "execute_result"
    }
   ],
   "source": [
    "y.shape"
   ]
  },
  {
   "cell_type": "code",
   "execution_count": 19,
   "id": "1a762e2e-eea8-42a0-b263-1b6ba9aebd78",
   "metadata": {},
   "outputs": [],
   "source": [
    "class MyLinear(nn.Module):\n",
    "    \n",
    "    def __init__(self, input_dim=3, output_dim=2):\n",
    "        self.input_dim = input_dim\n",
    "        self.output_dim = output_dim\n",
    "        \n",
    "        super().__init__()\n",
    "        self.linear = nn.Linear(input_dim, output_dim)\n",
    "        \n",
    "    def forward(self, x):\n",
    "        y = self.linear(x)\n",
    "        return y"
   ]
  },
  {
   "cell_type": "code",
   "execution_count": 20,
   "id": "39615d37-2186-444b-bfc9-235c4acf12c5",
   "metadata": {},
   "outputs": [
    {
     "name": "stdout",
     "output_type": "stream",
     "text": [
      "Parameter containing:\n",
      "tensor([[ 0.5691,  0.4155,  0.3506],\n",
      "        [-0.0204,  0.4870, -0.2747]], requires_grad=True)\n",
      "Parameter containing:\n",
      "tensor([ 0.5713, -0.0048], requires_grad=True)\n"
     ]
    }
   ],
   "source": [
    "linear = MyLinear(3, 2)\n",
    "y = linear(x)\n",
    "\n",
    "for p in linear.parameters():\n",
    "    print(p)"
   ]
  },
  {
   "cell_type": "code",
   "execution_count": 22,
   "id": "8dafe26c-34d9-48ae-8785-5d6eb43e33f7",
   "metadata": {},
   "outputs": [
    {
     "data": {
      "text/plain": [
       "device(type='cpu')"
      ]
     },
     "execution_count": 22,
     "metadata": {},
     "output_type": "execute_result"
    }
   ],
   "source": [
    "x.device"
   ]
  },
  {
   "cell_type": "code",
   "execution_count": null,
   "id": "d3e8c78b-d755-452c-804a-e6d8cb53fe2f",
   "metadata": {},
   "outputs": [],
   "source": []
  }
 ],
 "metadata": {
  "kernelspec": {
   "display_name": "sona",
   "language": "python",
   "name": "sona"
  },
  "language_info": {
   "codemirror_mode": {
    "name": "ipython",
    "version": 3
   },
   "file_extension": ".py",
   "mimetype": "text/x-python",
   "name": "python",
   "nbconvert_exporter": "python",
   "pygments_lexer": "ipython3",
   "version": "3.8.13"
  }
 },
 "nbformat": 4,
 "nbformat_minor": 5
}

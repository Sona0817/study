{
 "cells": [
  {
   "cell_type": "markdown",
   "id": "cd996175-8d46-4a1a-9e34-0d7e9cce135f",
   "metadata": {},
   "source": [
    "# 6. 경사하강법"
   ]
  },
  {
   "cell_type": "markdown",
   "id": "94d65cf8-64b1-4e7f-972b-e956d307d4e4",
   "metadata": {},
   "source": [
    "## 실습6.5 경사하강법 구현"
   ]
  },
  {
   "cell_type": "code",
   "execution_count": 1,
   "id": "5cdc42b3-e94c-4690-ab48-4925509c91f5",
   "metadata": {},
   "outputs": [],
   "source": [
    "import torch\n",
    "import torch.nn.functional as F"
   ]
  },
  {
   "cell_type": "code",
   "execution_count": 2,
   "id": "72a12012-ac3b-4d8c-8ff0-39c994ce005f",
   "metadata": {},
   "outputs": [],
   "source": [
    "target = torch.FloatTensor([[.1, .2, .3],\n",
    "                            [.4, .5, .6],\n",
    "                            [.7, .8, .9]\n",
    "                           ])"
   ]
  },
  {
   "cell_type": "code",
   "execution_count": 4,
   "id": "9ece3dd2-a370-43d5-a115-f0005575700e",
   "metadata": {},
   "outputs": [
    {
     "data": {
      "text/plain": [
       "tensor([[0.0441, 0.3737, 0.6619],\n",
       "        [0.4848, 0.2443, 0.4555],\n",
       "        [0.1655, 0.1121, 0.4600]], requires_grad=True)"
      ]
     },
     "execution_count": 4,
     "metadata": {},
     "output_type": "execute_result"
    }
   ],
   "source": [
    "x = torch.rand_like(target)\n",
    "x.requires_grad = True\n",
    "x"
   ]
  },
  {
   "cell_type": "code",
   "execution_count": 5,
   "id": "8c859ca2-796f-47ab-9f0f-70ee53c6b57e",
   "metadata": {},
   "outputs": [
    {
     "data": {
      "text/plain": [
       "tensor(0.1345, grad_fn=<MseLossBackward0>)"
      ]
     },
     "execution_count": 5,
     "metadata": {},
     "output_type": "execute_result"
    }
   ],
   "source": [
    "loss = F.mse_loss(x, target)\n",
    "loss"
   ]
  },
  {
   "cell_type": "code",
   "execution_count": 6,
   "id": "77693a02-8f40-43cb-8ee2-07cd1d0c7d20",
   "metadata": {},
   "outputs": [
    {
     "name": "stdout",
     "output_type": "stream",
     "text": [
      "1 Loss: 0.08135\n",
      "tensor([[0.0565, 0.3351, 0.5815],\n",
      "        [0.4659, 0.3011, 0.4876],\n",
      "        [0.2843, 0.2650, 0.5578]], requires_grad=True)\n",
      "2 Loss: 0.04921\n",
      "tensor([[0.0662, 0.3051, 0.5189],\n",
      "        [0.4513, 0.3453, 0.5126],\n",
      "        [0.3767, 0.3839, 0.6338]], requires_grad=True)\n",
      "3 Loss: 0.02977\n",
      "tensor([[0.0737, 0.2817, 0.4703],\n",
      "        [0.4399, 0.3797, 0.5320],\n",
      "        [0.4485, 0.4763, 0.6930]], requires_grad=True)\n",
      "4 Loss: 0.01801\n",
      "tensor([[0.0795, 0.2636, 0.4324],\n",
      "        [0.4310, 0.4064, 0.5471],\n",
      "        [0.5044, 0.5483, 0.7390]], requires_grad=True)\n",
      "5 Loss: 0.01089\n",
      "tensor([[0.0841, 0.2494, 0.4030],\n",
      "        [0.4241, 0.4272, 0.5589],\n",
      "        [0.5479, 0.6042, 0.7748]], requires_grad=True)\n",
      "6 Loss: 0.00659\n",
      "tensor([[0.0876, 0.2385, 0.3801],\n",
      "        [0.4188, 0.4434, 0.5680],\n",
      "        [0.5817, 0.6477, 0.8026]], requires_grad=True)\n",
      "7 Loss: 0.003987\n",
      "tensor([[0.0904, 0.2299, 0.3623],\n",
      "        [0.4146, 0.4560, 0.5751],\n",
      "        [0.6080, 0.6816, 0.8242]], requires_grad=True)\n",
      "8 Loss: 0.002412\n",
      "tensor([[0.0925, 0.2233, 0.3485],\n",
      "        [0.4114, 0.4658, 0.5806],\n",
      "        [0.6284, 0.7079, 0.8411]], requires_grad=True)\n",
      "9 Loss: 0.001459\n",
      "tensor([[0.0942, 0.2181, 0.3377],\n",
      "        [0.4088, 0.4734, 0.5849],\n",
      "        [0.6443, 0.7283, 0.8542]], requires_grad=True)\n",
      "10 Loss: 0.0008826\n",
      "tensor([[0.0955, 0.2141, 0.3293],\n",
      "        [0.4069, 0.4793, 0.5883],\n",
      "        [0.6567, 0.7443, 0.8644]], requires_grad=True)\n",
      "11 Loss: 0.0005339\n",
      "tensor([[0.0965, 0.2109, 0.3228],\n",
      "        [0.4053, 0.4839, 0.5909],\n",
      "        [0.6663, 0.7567, 0.8723]], requires_grad=True)\n",
      "12 Loss: 0.000323\n",
      "tensor([[0.0973, 0.2085, 0.3177],\n",
      "        [0.4042, 0.4875, 0.5929],\n",
      "        [0.6738, 0.7663, 0.8784]], requires_grad=True)\n",
      "13 Loss: 0.0001954\n",
      "tensor([[0.0979, 0.2066, 0.3138],\n",
      "        [0.4032, 0.4903, 0.5945],\n",
      "        [0.6796, 0.7738, 0.8832]], requires_grad=True)\n",
      "14 Loss: 0.0001182\n",
      "tensor([[0.0983, 0.2052, 0.3107],\n",
      "        [0.4025, 0.4924, 0.5957],\n",
      "        [0.6842, 0.7796, 0.8870]], requires_grad=True)\n",
      "15 Loss: 7.15e-05\n",
      "tensor([[0.0987, 0.2040, 0.3083],\n",
      "        [0.4020, 0.4941, 0.5967],\n",
      "        [0.6877, 0.7841, 0.8899]], requires_grad=True)\n",
      "16 Loss: 4.325e-05\n",
      "tensor([[0.0990, 0.2031, 0.3065],\n",
      "        [0.4015, 0.4954, 0.5974],\n",
      "        [0.6904, 0.7877, 0.8921]], requires_grad=True)\n",
      "17 Loss: 2.617e-05\n",
      "tensor([[0.0992, 0.2024, 0.3050],\n",
      "        [0.4012, 0.4964, 0.5980],\n",
      "        [0.6925, 0.7904, 0.8939]], requires_grad=True)\n",
      "18 Loss: 1.583e-05\n",
      "tensor([[0.0994, 0.2019, 0.3039],\n",
      "        [0.4009, 0.4972, 0.5984],\n",
      "        [0.6942, 0.7925, 0.8952]], requires_grad=True)\n",
      "19 Loss: 9.575e-06\n",
      "tensor([[0.0995, 0.2015, 0.3031],\n",
      "        [0.4007, 0.4978, 0.5988],\n",
      "        [0.6955, 0.7942, 0.8963]], requires_grad=True)\n"
     ]
    }
   ],
   "source": [
    "threshold = 1e-5\n",
    "lr = 1\n",
    "epoch = 0\n",
    "\n",
    "while loss > threshold:\n",
    "    epoch += 1\n",
    "    \n",
    "    # 편미분계산\n",
    "    loss.backward()\n",
    "    \n",
    "    x = x-lr*x.grad\n",
    "    x.detach_()\n",
    "    x.requires_grad_(True)\n",
    "    \n",
    "    loss = F.mse_loss(x, target)\n",
    "    \n",
    "    print(f'{epoch} Loss: {loss:.4}')\n",
    "    print(x)"
   ]
  },
  {
   "cell_type": "markdown",
   "id": "4e23a281-874e-4e9b-b372-38d5a00c0841",
   "metadata": {},
   "source": [
    "## 실습6.6 오토그래드\n",
    "자동 미분 기능"
   ]
  },
  {
   "cell_type": "code",
   "execution_count": 7,
   "id": "242031a2-8144-4528-abef-78fcab770930",
   "metadata": {},
   "outputs": [],
   "source": [
    "x = torch.FloatTensor([[1, 2],\n",
    "                       [3, 4]\n",
    "                      ]).requires_grad_(True)"
   ]
  },
  {
   "cell_type": "code",
   "execution_count": 8,
   "id": "f6b94430-6c56-414a-a616-25dcc5171707",
   "metadata": {},
   "outputs": [
    {
     "data": {
      "text/plain": [
       "tensor([[3., 4.],\n",
       "        [5., 6.]], grad_fn=<AddBackward0>)"
      ]
     },
     "execution_count": 8,
     "metadata": {},
     "output_type": "execute_result"
    }
   ],
   "source": [
    "x1 = x + 2\n",
    "x1"
   ]
  },
  {
   "cell_type": "code",
   "execution_count": 9,
   "id": "48d82fdf-3362-4633-b142-df9c1c8b73f8",
   "metadata": {},
   "outputs": [
    {
     "data": {
      "text/plain": [
       "tensor(18., grad_fn=<SumBackward0>)"
      ]
     },
     "execution_count": 9,
     "metadata": {},
     "output_type": "execute_result"
    }
   ],
   "source": [
    "y = x1.sum()\n",
    "y"
   ]
  },
  {
   "cell_type": "code",
   "execution_count": 11,
   "id": "839d5ab4-15d2-435f-8097-bf0d101fc276",
   "metadata": {},
   "outputs": [
    {
     "name": "stdout",
     "output_type": "stream",
     "text": [
      "tensor([[2., 2.],\n",
      "        [2., 2.]])\n"
     ]
    }
   ],
   "source": [
    "y.backward()\n",
    "print(x.grad)"
   ]
  },
  {
   "cell_type": "code",
   "execution_count": null,
   "id": "0440cf78-50cd-480c-b763-08cdddcebe7e",
   "metadata": {},
   "outputs": [],
   "source": []
  }
 ],
 "metadata": {
  "kernelspec": {
   "display_name": "sona",
   "language": "python",
   "name": "sona"
  },
  "language_info": {
   "codemirror_mode": {
    "name": "ipython",
    "version": 3
   },
   "file_extension": ".py",
   "mimetype": "text/x-python",
   "name": "python",
   "nbconvert_exporter": "python",
   "pygments_lexer": "ipython3",
   "version": "3.8.13"
  }
 },
 "nbformat": 4,
 "nbformat_minor": 5
}

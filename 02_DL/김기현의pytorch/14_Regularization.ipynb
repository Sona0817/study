{
 "cells": [
  {
   "cell_type": "markdown",
   "id": "626932ce-e849-4cac-8306-32867364c81b",
   "metadata": {},
   "source": [
    "# Regularization\n",
    "정규화라고 표기되기도 하지만 normalization이 아니라 **오버피팅을 늦추고 모델이 학습 데이터로부터 적절한 특징들을 학습하여 일반화 오차를 낮춰줄 수 있는 기법** 을 의미한다.  \n",
    "- 데이터를 통한 졍규화\n",
    "    - Data Augmentation\n",
    "- 손실 함수를 통한 정규화\n",
    "    - Weight Decay (가중치감쇠)\n",
    "- 신경망 계층을 통한 정규화\n",
    "    - dropout\n",
    "    - batch normalization\n",
    "    - layer normalization\n",
    "- 학습/추론 방식을 통한 정규화\n",
    "    - Early stopping\n",
    "    - Bagging & Ensemble"
   ]
  },
  {
   "cell_type": "markdown",
   "id": "7a692333-87ab-4d8a-9266-0eeda98bcff9",
   "metadata": {},
   "source": [
    "## 14.6 정규화 실습\n",
    "### 1. 데이터 준비"
   ]
  },
  {
   "cell_type": "code",
   "execution_count": 4,
   "id": "4fa927e0-6671-4cb3-86ae-fa14f755f0bb",
   "metadata": {},
   "outputs": [],
   "source": [
    "import warnings\n",
    "warnings.filterwarnings('ignore')\n",
    "\n",
    "import numpy as np\n",
    "import pandas as pd\n",
    "from copy import deepcopy\n",
    "import matplotlib.pyplot as plt\n",
    "\n",
    "import torch\n",
    "import torch.nn as nn\n",
    "import torch.nn.functional as F\n",
    "import torch.optim as optim\n",
    "\n",
    "from torchvision import datasets, transforms\n",
    "from sklearn.metrics import confusion_matrix"
   ]
  },
  {
   "cell_type": "code",
   "execution_count": 8,
   "id": "5d1a0c9f-c0a9-437a-b023-a44d38dbcdc5",
   "metadata": {},
   "outputs": [],
   "source": [
    "train = datasets.MNIST('../data/paper_review', train=True, download=True, transform=transforms.Compose([transforms.ToTensor()]))\n",
    "test = datasets.MNIST('../data/paper_review', train=False, transform=transforms.Compose([transforms.ToTensor()]))"
   ]
  },
  {
   "cell_type": "code",
   "execution_count": 9,
   "id": "60c7c577-34b2-47cf-830e-317365725224",
   "metadata": {},
   "outputs": [
    {
     "name": "stdout",
     "output_type": "stream",
     "text": [
      "x, y shape torch.Size([60000, 784]) torch.Size([60000])\n",
      "input, output size 784 10\n"
     ]
    }
   ],
   "source": [
    "y = train.targets\n",
    "\n",
    "x = train.data.float() / 255.\n",
    "x = x.view(x.size(0), -1)\n",
    "\n",
    "# 2차원 이미지를 1차원 벡터로 변경\n",
    "input_size = x.size(-1)\n",
    "output_size = int(max(y)) + 1\n",
    "\n",
    "print('x, y shape', x.shape, y.shape)\n",
    "print('input, output size', input_size, output_size)"
   ]
  },
  {
   "cell_type": "code",
   "execution_count": 12,
   "id": "861f0f45-c39c-4c71-958b-7085914fdc92",
   "metadata": {},
   "outputs": [
    {
     "name": "stdout",
     "output_type": "stream",
     "text": [
      "48000 12000 10000\n"
     ]
    }
   ],
   "source": [
    "# train, valid split ratios\n",
    "ratios = [.8, .2]\n",
    "\n",
    "train_cnt = int(x.size(0) * ratios[0])\n",
    "valid_cnt = int(x.size(0) * ratios[1])\n",
    "test_cnt = len(test.data)\n",
    "cnts = [train_cnt, valid_cnt]\n",
    "\n",
    "print(train_cnt, valid_cnt, test_cnt)"
   ]
  },
  {
   "cell_type": "code",
   "execution_count": 13,
   "id": "67e60159-d4fa-4d36-b726-e4dcf74514f2",
   "metadata": {},
   "outputs": [
    {
     "name": "stdout",
     "output_type": "stream",
     "text": [
      "torch.Size([48000, 784]) torch.Size([48000])\n",
      "torch.Size([12000, 784]) torch.Size([12000])\n",
      "torch.Size([10000, 784]) torch.Size([10000])\n"
     ]
    }
   ],
   "source": [
    "# train, valid split\n",
    "indices = torch.randperm(x.size(0))\n",
    "\n",
    "x = torch.index_select(x, dim=0, index=indices)\n",
    "y = torch.index_select(y, dim=0, index=indices)\n",
    "\n",
    "x = list(x.split(cnts, dim=0))\n",
    "y = list(y.split(cnts, dim=0))\n",
    "\n",
    "x += [(test.data.float() / 255.).view(test_cnt, -1)]\n",
    "y += [(test.targets)]\n",
    "\n",
    "for x_i, y_i in zip(x, y):\n",
    "    print(x_i.size(), y_i.size())"
   ]
  },
  {
   "cell_type": "markdown",
   "id": "7c4018c4-4892-4634-b641-e7d956e14887",
   "metadata": {},
   "source": [
    "### 2. 학습 코드 구현"
   ]
  },
  {
   "cell_type": "code",
   "execution_count": 18,
   "id": "23a2cb37-9c58-4685-b6b9-9152b9477c90",
   "metadata": {},
   "outputs": [],
   "source": [
    "class Block(nn.Module):\n",
    "    def __init__(self, input_size, output_size, use_batch_norm=True, dropout_p=.2):\n",
    "        self.input_size = input_size\n",
    "        self.output_size = output_size\n",
    "        self.use_batch_norm = use_batch_norm\n",
    "        self.dropout_p = dropout_p\n",
    "        \n",
    "        super().__init__()\n",
    "        def get_regularizer(use_batch_norm, size):\n",
    "            if use_batch_norm:\n",
    "                return nn.BatchNorm1d(size)\n",
    "            else:\n",
    "                return nn.Dropout(dropout_p)\n",
    "            \n",
    "        self.block = nn.Sequential(nn.Linear(input_size, output_size),\n",
    "                                   nn.LeakyReLU(),\n",
    "                                   get_regularizer(use_batch_norm, output_size),\n",
    "                                  )\n",
    "\n",
    "    def forward(self, x):\n",
    "        y = self.block(x)\n",
    "        return y"
   ]
  },
  {
   "cell_type": "code",
   "execution_count": 19,
   "id": "2086b40a-8e44-4c57-a3a4-6557fc24980d",
   "metadata": {},
   "outputs": [],
   "source": [
    "class MyModel(nn.Module):\n",
    "    def __init__(self, input_size, output_size, use_batch_norm=True, dropout_p=.2):\n",
    "        \n",
    "        super().__init__()\n",
    "        self.layers = nn.Sequential(Block(input_size, 500, use_batch_norm, dropout_p),\n",
    "                                    Block(500, 250, use_batch_norm, dropout_p),\n",
    "                                    Block(250, 125, use_batch_norm, dropout_p),\n",
    "                                    Block(125, 25, use_batch_norm, dropout_p),\n",
    "                                    nn.Linear(25, output_size),\n",
    "                                    nn.LogSoftmax(dim=-1),\n",
    "                                   )\n",
    "        \n",
    "    def forward(self, x):\n",
    "        y = self.layers(x)\n",
    "        return y"
   ]
  },
  {
   "cell_type": "code",
   "execution_count": 20,
   "id": "74802e8b-d713-41c0-80bf-e9ac21193071",
   "metadata": {},
   "outputs": [
    {
     "data": {
      "text/plain": [
       "MyModel(\n",
       "  (layers): Sequential(\n",
       "    (0): Block(\n",
       "      (block): Sequential(\n",
       "        (0): Linear(in_features=784, out_features=500, bias=True)\n",
       "        (1): LeakyReLU(negative_slope=0.01)\n",
       "        (2): BatchNorm1d(500, eps=1e-05, momentum=0.1, affine=True, track_running_stats=True)\n",
       "      )\n",
       "    )\n",
       "    (1): Block(\n",
       "      (block): Sequential(\n",
       "        (0): Linear(in_features=500, out_features=250, bias=True)\n",
       "        (1): LeakyReLU(negative_slope=0.01)\n",
       "        (2): BatchNorm1d(250, eps=1e-05, momentum=0.1, affine=True, track_running_stats=True)\n",
       "      )\n",
       "    )\n",
       "    (2): Block(\n",
       "      (block): Sequential(\n",
       "        (0): Linear(in_features=250, out_features=125, bias=True)\n",
       "        (1): LeakyReLU(negative_slope=0.01)\n",
       "        (2): BatchNorm1d(125, eps=1e-05, momentum=0.1, affine=True, track_running_stats=True)\n",
       "      )\n",
       "    )\n",
       "    (3): Block(\n",
       "      (block): Sequential(\n",
       "        (0): Linear(in_features=125, out_features=25, bias=True)\n",
       "        (1): LeakyReLU(negative_slope=0.01)\n",
       "        (2): BatchNorm1d(25, eps=1e-05, momentum=0.1, affine=True, track_running_stats=True)\n",
       "      )\n",
       "    )\n",
       "    (4): Linear(in_features=25, out_features=10, bias=True)\n",
       "    (5): LogSoftmax(dim=-1)\n",
       "  )\n",
       ")"
      ]
     },
     "execution_count": 20,
     "metadata": {},
     "output_type": "execute_result"
    }
   ],
   "source": [
    "model = MyModel(input_size, output_size, use_batch_norm=True)\n",
    "model"
   ]
  },
  {
   "cell_type": "code",
   "execution_count": 25,
   "id": "d1819a26-9e00-41ef-9df3-cbe99198d8c2",
   "metadata": {},
   "outputs": [],
   "source": [
    "optimizer = optim.Adam(model.parameters())\n",
    "crit = nn.NLLLoss()"
   ]
  },
  {
   "cell_type": "code",
   "execution_count": 23,
   "id": "af1992ae-7874-44c5-9253-58d09e5721da",
   "metadata": {},
   "outputs": [],
   "source": [
    "device = torch.device('cuda') if torch.cuda.is_available() else torch.device('cpu')\n",
    "\n",
    "model = model.to(device)\n",
    "\n",
    "x = [x_i.to(device) for x_i in x]\n",
    "y = [y_i.to(device) for y_i in y]"
   ]
  },
  {
   "cell_type": "code",
   "execution_count": 24,
   "id": "3599d760-b90f-401f-8a5f-d58b936a6300",
   "metadata": {},
   "outputs": [],
   "source": [
    "n_epochs = 1000\n",
    "batch_size = 256\n",
    "early_stop = 50\n",
    "lowest_loss = np.inf\n",
    "lowest_epoch = np.inf\n",
    "best_model = None"
   ]
  },
  {
   "cell_type": "code",
   "execution_count": 26,
   "id": "d5bfeea1-f4ff-4a26-9590-5d3be37f5cec",
   "metadata": {},
   "outputs": [
    {
     "name": "stdout",
     "output_type": "stream",
     "text": [
      "Epoch 19/1000  Train Loss 0.0092  Valid Loss 0.0782\n",
      "Epoch 39/1000  Train Loss 0.0024  Valid Loss 0.0849\n",
      "Early Stop\n",
      "----------Finish----------\n",
      "The best validation loss 0.07066265113176183 in 7\n"
     ]
    }
   ],
   "source": [
    "train_history, valid_history = [], []\n",
    "\n",
    "for i in range(n_epochs):\n",
    "    model.train()\n",
    "    \n",
    "    indices = torch.randperm(x[0].size(0)).to(device)\n",
    "    x_ = torch.index_select(x[0], dim=0, index=indices)\n",
    "    y_ = torch.index_select(y[0], dim=0, index=indices)\n",
    "    \n",
    "    x_ = x_.split(batch_size, dim=0)\n",
    "    y_ = y_.split(batch_size, dim=0)\n",
    "    \n",
    "    train_loss = 0\n",
    "    for x_i, y_i in zip(x_, y_):\n",
    "        y_hat_i = model(x_i)\n",
    "        loss = crit(y_hat_i, y_i.squeeze())\n",
    "        \n",
    "        optimizer.zero_grad()\n",
    "        loss.backward()\n",
    "        optimizer.step()\n",
    "        \n",
    "        train_loss += float(loss)\n",
    "    train_loss = train_loss/len(x_)\n",
    "    \n",
    "    model.eval()\n",
    "    with torch.no_grad():\n",
    "        x_ = x[1].split(batch_size, dim=0)\n",
    "        y_ = y[1].split(batch_size, dim=0)\n",
    "        \n",
    "        valid_loss = 0\n",
    "        for x_i, y_i in zip(x_, y_):\n",
    "            y_hat_i = model(x_i)\n",
    "            loss = crit(y_hat_i, y_i.squeeze())\n",
    "            \n",
    "            valid_loss += float(loss)\n",
    "    valid_loss = valid_loss/len(x_)\n",
    "    \n",
    "    train_history += [train_loss]\n",
    "    valid_history += [valid_loss]\n",
    "    \n",
    "    if (i+1) % 20 == 0:\n",
    "        print(f'Epoch {i}/{n_epochs}  Train Loss {train_loss:.4f}  Valid Loss {valid_loss:.4f}')\n",
    "        \n",
    "    if valid_loss <= lowest_loss:\n",
    "        lowest_loss = valid_loss\n",
    "        lowest_epoch = i\n",
    "        best_model = deepcopy(model.state_dict())\n",
    "    else:\n",
    "        if lowest_epoch + early_stop < i+1:\n",
    "            print('Early Stop')\n",
    "            break\n",
    "            \n",
    "print('----------Finish----------')\n",
    "print(f'The best validation loss {lowest_loss} in {lowest_epoch}')\n",
    "# model.load_state_dict(best_model)"
   ]
  },
  {
   "cell_type": "markdown",
   "id": "8a88a21f-a200-4d4a-963b-4bb58f863823",
   "metadata": {},
   "source": [
    "### 3. 손실 곡선 확인"
   ]
  },
  {
   "cell_type": "code",
   "execution_count": 27,
   "id": "d72538b0-1bd2-4123-b5ed-bf268e821c6f",
   "metadata": {},
   "outputs": [
    {
     "data": {
      "image/png": "[encoded data removed]",
      "text/plain": [
       "<Figure size 640x480 with 1 Axes>"
      ]
     },
     "metadata": {},
     "output_type": "display_data"
    }
   ],
   "source": [
    "plt.figure()\n",
    "plt.grid(True)\n",
    "plt.title('Train Valid Loss History')\n",
    "plt.plot(train_history, label='train')\n",
    "plt.plot(valid_history, label='valid')\n",
    "plt.legend()\n",
    "plt.yscale('log')\n",
    "plt.show()"
   ]
  },
  {
   "cell_type": "markdown",
   "id": "ec4b0990-acbb-492b-ba02-73f7a384aa23",
   "metadata": {},
   "source": [
    "### 4. 결과 확인"
   ]
  },
  {
   "cell_type": "code",
   "execution_count": 28,
   "id": "7e7b856a-d3d2-4d55-805e-098713c6d0ae",
   "metadata": {},
   "outputs": [
    {
     "name": "stdout",
     "output_type": "stream",
     "text": [
      "Test Loss 0.0923\n",
      "Test Accuracy 0.9814\n"
     ]
    }
   ],
   "source": [
    "test_loss = 0\n",
    "y_hat = []\n",
    "\n",
    "model.eval()\n",
    "with torch.no_grad():\n",
    "    x_ = x[-1].split(batch_size, dim=0)\n",
    "    y_ = y[-1].split(batch_size, dim=0)\n",
    "    \n",
    "    for x_i, y_i in zip(x_, y_):\n",
    "        y_hat_i = model(x_i)\n",
    "        loss = crit(y_hat_i, y_i.squeeze())\n",
    "        \n",
    "        test_loss += loss\n",
    "        y_hat += [y_hat_i]\n",
    "        \n",
    "test_loss = test_loss/len(x_)\n",
    "y_hat = torch.cat(y_hat, dim=0)\n",
    "print(f'Test Loss {test_loss:.4f}')\n",
    "\n",
    "correct_cnt = (y[-1].squeeze() == torch.argmax(y_hat, dim=-1)).sum()\n",
    "total_cnt = float(y[-1].size(0))\n",
    "print(f'Test Accuracy {(correct_cnt/total_cnt):.4f}')"
   ]
  },
  {
   "cell_type": "markdown",
   "id": "43290b5e-4871-4852-a5c4-57528b69c880",
   "metadata": {},
   "source": [
    "### ERR을 통한 상대적인 모델 개선 폭 측정\n",
    "\n",
    "ERR = {(1-과거정확도) - (1-현재정확도)}/(1-과거정확도)"
   ]
  },
  {
   "cell_type": "code",
   "execution_count": null,
   "id": "8ed2fb31-9319-4084-a7e9-c038a1b7ae6f",
   "metadata": {},
   "outputs": [],
   "source": []
  }
 ],
 "metadata": {
  "kernelspec": {
   "display_name": "Python 3 (ipykernel)",
   "language": "python",
   "name": "python3"
  },
  "language_info": {
   "codemirror_mode": {
    "name": "ipython",
    "version": 3
   },
   "file_extension": ".py",
   "mimetype": "text/x-python",
   "name": "python",
   "nbconvert_exporter": "python",
   "pygments_lexer": "ipython3",
   "version": "3.8.10"
  }
 },
 "nbformat": 4,
 "nbformat_minor": 5
}

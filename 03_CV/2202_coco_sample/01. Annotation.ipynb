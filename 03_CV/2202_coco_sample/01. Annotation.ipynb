{
 "cells": [
  {
   "cell_type": "markdown",
   "id": "cc23400c-e285-4a41-8305-2bab1d73b82e",
   "metadata": {},
   "source": [
    "# COCO sample - animal or person?"
   ]
  },
  {
   "cell_type": "code",
   "execution_count": 148,
   "id": "56e7de66-2315-46c3-9e90-452a5e7707c8",
   "metadata": {},
   "outputs": [],
   "source": [
    "import os\n",
    "import glob\n",
    "import fiftyone as fo\n",
    "from PIL import Image\n",
    "import numpy as np\n",
    "import json\n",
    "import cv2\n",
    "import matplotlib.pyplot as plt"
   ]
  },
  {
   "cell_type": "markdown",
   "id": "4b3a34d0-c0f1-4210-9b1c-5ccbeb3423ea",
   "metadata": {},
   "source": [
    "## 1. Images load"
   ]
  },
  {
   "cell_type": "code",
   "execution_count": 183,
   "id": "9c52925d-ee02-40ab-b1fc-8f9808ca4e45",
   "metadata": {},
   "outputs": [],
   "source": [
    "input_dir = 'data'\n",
    "labels_path = './instances_default.json'\n",
    "\n",
    "input_img_paths = [i for i in os.listdir('data/') if i.endswith('.jpg')]"
   ]
  },
  {
   "cell_type": "code",
   "execution_count": 184,
   "id": "acf2fb0a-0cc4-4d93-9c26-16b21cf12f41",
   "metadata": {},
   "outputs": [
    {
     "data": {
      "text/plain": [
       "['COCO_test2014_000000000970.jpg',\n",
       " 'COCO_test2014_000000000568.jpg',\n",
       " 'COCO_test2014_000000001024.jpg',\n",
       " 'COCO_test2014_000000000448.jpg',\n",
       " 'COCO_test2014_000000001793.jpg',\n",
       " 'COCO_test2014_000000001380.jpg',\n",
       " 'COCO_test2014_000000001551.jpg',\n",
       " 'COCO_test2014_000000000840.jpg',\n",
       " 'COCO_test2014_000000002945.jpg',\n",
       " 'COCO_test2014_000000000202.jpg']"
      ]
     },
     "execution_count": 184,
     "metadata": {},
     "output_type": "execute_result"
    }
   ],
   "source": [
    "input_img_paths"
   ]
  },
  {
   "cell_type": "markdown",
   "id": "4a0fd1dd-6127-46ac-8750-0adfa02b70ed",
   "metadata": {},
   "source": [
    "## 2. Annotation load"
   ]
  },
  {
   "cell_type": "code",
   "execution_count": 97,
   "id": "43555167-4b6a-4907-a3be-b44865729685",
   "metadata": {},
   "outputs": [],
   "source": [
    "with open('instances_default.json', 'r') as f:\n",
    "    annotations = json.load(f)"
   ]
  },
  {
   "cell_type": "code",
   "execution_count": 193,
   "id": "23abcd62-482f-45fe-bb1a-9cab0ceabf28",
   "metadata": {},
   "outputs": [
    {
     "data": {
      "text/plain": [
       "dict_keys(['licenses', 'info', 'categories', 'images', 'annotations'])"
      ]
     },
     "execution_count": 193,
     "metadata": {},
     "output_type": "execute_result"
    }
   ],
   "source": [
    "annotations.keys()"
   ]
  },
  {
   "cell_type": "code",
   "execution_count": 198,
   "id": "378f65f5-0a9c-41fb-852b-ff366a2e6eda",
   "metadata": {},
   "outputs": [
    {
     "name": "stdout",
     "output_type": "stream",
     "text": [
      "licenses \n",
      " [{'name': '', 'id': 0, 'url': ''}]\n",
      "\n",
      " info \n",
      " {'contributor': '', 'date_created': '', 'description': '', 'url': '', 'version': '', 'year': ''}\n",
      "\n",
      " categories \n",
      " [{'id': 1, 'name': 'person', 'supercategory': ''}, {'id': 2, 'name': 'animal', 'supercategory': ''}]\n",
      "\n",
      " images[0] \n",
      " {'id': 1, 'width': 425, 'height': 640, 'file_name': 'COCO_test2014_000000000202.jpg', 'license': 0, 'flickr_url': '', 'coco_url': '', 'date_captured': 0}\n",
      "\n",
      " annotations[0] \n",
      " {'id': 1, 'image_id': 1, 'category_id': 1, 'segmentation': [], 'area': 65726.3808, 'bbox': [35.3, 89.0, 133.46, 492.48], 'iscrowd': 0, 'attributes': {'occluded': False, 'rotation': 0.0}}\n"
     ]
    }
   ],
   "source": [
    "print('licenses \\n', annotations['licenses'])\n",
    "print('\\n info \\n', annotations['info'])\n",
    "print('\\n categories \\n', annotations['categories'])\n",
    "print('\\n images[0] \\n', annotations['images'][0])\n",
    "print('\\n annotations[0] \\n', annotations['annotations'][0])"
   ]
  },
  {
   "cell_type": "code",
   "execution_count": 253,
   "id": "85b8c84c-b669-4510-b4cd-747320b9e476",
   "metadata": {},
   "outputs": [],
   "source": [
    "def parsing(img_name = None):\n",
    "\n",
    "    anno_categ = annotations['categories']\n",
    "    img_id = None\n",
    "    for anno_images in annotations['images']:\n",
    "        if anno_images['file_name'] == img_name:\n",
    "            anno_images_id = anno_images['id']\n",
    "\n",
    "    bboxes = []\n",
    "    labels = []\n",
    "    \n",
    "    for anno in annotations['annotations']:\n",
    "        if anno['image_id'] == anno_images_id:\n",
    "            bboxes.append(anno['bbox'])\n",
    "            labels.append(anno_categ[anno['category_id']-1]['name'])\n",
    "        \n",
    "    return bboxes, labels"
   ]
  },
  {
   "cell_type": "code",
   "execution_count": 254,
   "id": "9d8005a2-a5d0-409c-8b63-d26d2542c706",
   "metadata": {},
   "outputs": [
    {
     "data": {
      "text/plain": [
       "10"
      ]
     },
     "execution_count": 254,
     "metadata": {},
     "output_type": "execute_result"
    }
   ],
   "source": [
    "len(input_img_paths)"
   ]
  },
  {
   "cell_type": "code",
   "execution_count": 241,
   "id": "1ff9a005-d4f8-4011-b0a5-7f8b30b1fa8b",
   "metadata": {},
   "outputs": [],
   "source": [
    "images = []\n",
    "bboxes = []\n",
    "\n",
    "for i in range(len(input_img_paths)):\n",
    "    bboxes, labels = parsing(input_img_paths[i])\n",
    "\n",
    "    xywh = np.array(bboxes)\n",
    "    xyxy = xywh.copy()\n",
    "\n",
    "    # coco format [left, top, width, high] --> [left, top, right, bottom]\n",
    "    xyxy[:, 2] = xywh[:, 0] + (xywh[:, 2])\n",
    "    xyxy[:, 3] = xywh[:, 1] + (xywh[:, 3])\n",
    "\n",
    "    img = np.array(Image.open('data/'+input_img_paths[i]))\n",
    "    xyxy\n",
    "    \n",
    "    for idx in range(len(xyxy)):\n",
    "        img_box.append(cv2.rectangle(img, (list(map(int, xyxy[idx][:2]))), (list(map(int, xyxy[idx][2:]))), (255, 255, 0), 3))\n",
    "        "
   ]
  },
  {
   "cell_type": "code",
   "execution_count": 255,
   "id": "a93b35a3-4ca4-4872-8f8e-80198c10edb6",
   "metadata": {},
   "outputs": [
    {
     "data": {
      "text/plain": [
       "29"
      ]
     },
     "execution_count": 255,
     "metadata": {},
     "output_type": "execute_result"
    }
   ],
   "source": [
    "def visualize_bbox(img, bbox, class_name, color=(255, 0, 0), thickness=5):\n",
    "    x_min, y_min, x_max, y_max = map(int, bbox)\n",
    "    cv2.rectangle(img, (x_min, y_min), (x_max, y_max), color, thickness)\n",
    "    \n",
    "    return img\n",
    "\n",
    "def plot_examples(images, bboxes=None, class_name=None):\n",
    "    fig = plt.figure(figsize=(15, 15))\n",
    "    columns = 5\n",
    "    rows = 2\n",
    "\n",
    "    for i in range(1, len(images)+1):\n",
    "        img = visualize_bbox(images[i-1], bboxes[i-1], class_name=class_name[i-1])\n",
    "\n",
    "        fig.add_subplot(rows, columns, i)\n",
    "        plt.imshow(img)\n",
    "    plt.show()\n",
    "    \n",
    "# example \n",
    "# images = [array(), array(), ...]\n",
    "# bboxes = [[x1,y1, x2,y2], [x1,y1, x2,y2], ...]\n",
    "# class_name = [animal, human, ...]"
   ]
  },
  {
   "cell_type": "code",
   "execution_count": null,
   "id": "8aaa4dba-e532-4728-b893-a566c1b06fbf",
   "metadata": {},
   "outputs": [],
   "source": []
  },
  {
   "cell_type": "code",
   "execution_count": null,
   "id": "210abad2-38cb-40b5-bbfa-c9af91133bbc",
   "metadata": {},
   "outputs": [],
   "source": []
  },
  {
   "cell_type": "code",
   "execution_count": null,
   "id": "a0aaaec9-bb87-45c4-a9bb-087c16e00016",
   "metadata": {},
   "outputs": [],
   "source": []
  },
  {
   "cell_type": "code",
   "execution_count": null,
   "id": "9179849b-8f5d-462c-84e0-a1b4735e26d2",
   "metadata": {},
   "outputs": [],
   "source": []
  },
  {
   "cell_type": "code",
   "execution_count": null,
   "id": "a9db21fb-39e9-439a-ac65-add13cb997db",
   "metadata": {},
   "outputs": [],
   "source": []
  },
  {
   "cell_type": "code",
   "execution_count": null,
   "id": "dd4d5bc0-5f51-4b1b-aab4-d912249397e8",
   "metadata": {},
   "outputs": [],
   "source": []
  },
  {
   "cell_type": "code",
   "execution_count": null,
   "id": "6fb08321-6eb8-40c4-8b7f-fc888799e7ed",
   "metadata": {},
   "outputs": [],
   "source": []
  },
  {
   "cell_type": "code",
   "execution_count": null,
   "id": "ac386015-edaf-4e37-8cb5-eab26a9dff4d",
   "metadata": {},
   "outputs": [],
   "source": []
  },
  {
   "cell_type": "markdown",
   "id": "79645843-1409-4905-8469-178b687e5cf6",
   "metadata": {},
   "source": [
    "# BBV 사용해보기"
   ]
  },
  {
   "cell_type": "code",
   "execution_count": 232,
   "id": "1e255bac-7387-45eb-8999-23adfee125b3",
   "metadata": {},
   "outputs": [],
   "source": [
    "import bbox_visualizer as bbv"
   ]
  },
  {
   "cell_type": "code",
   "execution_count": 234,
   "id": "7d891593-ce9b-4edc-bcc6-10bd50fcfa55",
   "metadata": {},
   "outputs": [
    {
     "data": {
      "text/plain": [
       "'COCO_test2014_000000001380.jpg'"
      ]
     },
     "execution_count": 234,
     "metadata": {},
     "output_type": "execute_result"
    }
   ],
   "source": [
    "input_img_paths[5]"
   ]
  },
  {
   "cell_type": "code",
   "execution_count": null,
   "id": "427b67f2-09f7-4383-b327-55bc0cf6ad2d",
   "metadata": {},
   "outputs": [],
   "source": [
    "bbv.draw_rectangle(img, bbox)\n",
    "bbv.add_label(img, label, bbox, top=True)"
   ]
  },
  {
   "cell_type": "code",
   "execution_count": 248,
   "id": "c5f7fd83-c2d6-4dc1-a6cf-b31fa933b759",
   "metadata": {},
   "outputs": [],
   "source": [
    "import json\n",
    "\n",
    "import bbox_visualizer as bbv\n",
    "import cv2\n",
    "\n",
    "img = cv2.imread('./data/COCO_test2014_000000001380.jpg')\n",
    "annotation = json.load(open('./instances_default.json'))\n",
    "img = cv2.cvtColor(img, cv2.COLOR_BGR2RGB)"
   ]
  },
  {
   "cell_type": "code",
   "execution_count": 246,
   "id": "0b469077-38e8-4ef3-9c43-507ba8480af9",
   "metadata": {},
   "outputs": [
    {
     "ename": "error",
     "evalue": "OpenCV(4.5.5) :-1: error: (-5:Bad argument) in function 'rectangle'\n> Overload resolution failed:\n>  - Can't parse 'pt1'. Sequence item with index 0 has a wrong type\n>  - Can't parse 'pt1'. Sequence item with index 0 has a wrong type\n>  - Can't parse 'rec'. Expected sequence length 4, got 2\n>  - Can't parse 'rec'. Expected sequence length 4, got 2\n",
     "output_type": "error",
     "traceback": [
      "\u001b[0;31m---------------------------------------------------------------------------\u001b[0m",
      "\u001b[0;31merror\u001b[0m                                     Traceback (most recent call last)",
      "\u001b[0;32m<ipython-input-246-3776b3c3472d>\u001b[0m in \u001b[0;36m<module>\u001b[0;34m\u001b[0m\n\u001b[1;32m     16\u001b[0m \u001b[0;31m#     bboxes.append(mins + maxs)\u001b[0m\u001b[0;34m\u001b[0m\u001b[0;34m\u001b[0m\u001b[0;34m\u001b[0m\u001b[0m\n\u001b[1;32m     17\u001b[0m \u001b[0;34m\u001b[0m\u001b[0m\n\u001b[0;32m---> 18\u001b[0;31m \u001b[0mimg_with_boxes\u001b[0m \u001b[0;34m=\u001b[0m \u001b[0mbbv\u001b[0m\u001b[0;34m.\u001b[0m\u001b[0mdraw_multiple_rectangles\u001b[0m\u001b[0;34m(\u001b[0m\u001b[0mimg\u001b[0m\u001b[0;34m,\u001b[0m \u001b[0mbboxes\u001b[0m\u001b[0;34m)\u001b[0m\u001b[0;34m\u001b[0m\u001b[0;34m\u001b[0m\u001b[0m\n\u001b[0m\u001b[1;32m     19\u001b[0m \u001b[0mimg_with_boxes_2\u001b[0m \u001b[0;34m=\u001b[0m \u001b[0mimg_with_boxes\u001b[0m\u001b[0;34m.\u001b[0m\u001b[0mcopy\u001b[0m\u001b[0;34m(\u001b[0m\u001b[0;34m)\u001b[0m\u001b[0;34m\u001b[0m\u001b[0;34m\u001b[0m\u001b[0m\n\u001b[1;32m     20\u001b[0m \u001b[0;34m\u001b[0m\u001b[0m\n",
      "\u001b[0;32m~/anaconda3/envs/sona/lib/python3.9/site-packages/bbox_visualizer/bbox_visualizer.py\u001b[0m in \u001b[0;36mdraw_multiple_rectangles\u001b[0;34m(img, bboxes, bbox_color, thickness, is_opaque, alpha)\u001b[0m\n\u001b[1;32m    242\u001b[0m \u001b[0;34m\u001b[0m\u001b[0m\n\u001b[1;32m    243\u001b[0m     \u001b[0;32mfor\u001b[0m \u001b[0mbbox\u001b[0m \u001b[0;32min\u001b[0m \u001b[0mbboxes\u001b[0m\u001b[0;34m:\u001b[0m\u001b[0;34m\u001b[0m\u001b[0;34m\u001b[0m\u001b[0m\n\u001b[0;32m--> 244\u001b[0;31m         img = draw_rectangle(img, bbox, bbox_color, thickness, is_opaque,\n\u001b[0m\u001b[1;32m    245\u001b[0m                              alpha)\n\u001b[1;32m    246\u001b[0m     \u001b[0;32mreturn\u001b[0m \u001b[0mimg\u001b[0m\u001b[0;34m\u001b[0m\u001b[0;34m\u001b[0m\u001b[0m\n",
      "\u001b[0;32m~/anaconda3/envs/sona/lib/python3.9/site-packages/bbox_visualizer/bbox_visualizer.py\u001b[0m in \u001b[0;36mdraw_rectangle\u001b[0;34m(img, bbox, bbox_color, thickness, is_opaque, alpha)\u001b[0m\n\u001b[1;32m     33\u001b[0m     \u001b[0moutput\u001b[0m \u001b[0;34m=\u001b[0m \u001b[0mimg\u001b[0m\u001b[0;34m.\u001b[0m\u001b[0mcopy\u001b[0m\u001b[0;34m(\u001b[0m\u001b[0;34m)\u001b[0m\u001b[0;34m\u001b[0m\u001b[0;34m\u001b[0m\u001b[0m\n\u001b[1;32m     34\u001b[0m     \u001b[0;32mif\u001b[0m \u001b[0;32mnot\u001b[0m \u001b[0mis_opaque\u001b[0m\u001b[0;34m:\u001b[0m\u001b[0;34m\u001b[0m\u001b[0;34m\u001b[0m\u001b[0m\n\u001b[0;32m---> 35\u001b[0;31m         cv2.rectangle(output, (bbox[0], bbox[1]), (bbox[2], bbox[3]),\n\u001b[0m\u001b[1;32m     36\u001b[0m                       bbox_color, thickness)\n\u001b[1;32m     37\u001b[0m     \u001b[0;32melse\u001b[0m\u001b[0;34m:\u001b[0m\u001b[0;34m\u001b[0m\u001b[0;34m\u001b[0m\u001b[0m\n",
      "\u001b[0;31merror\u001b[0m: OpenCV(4.5.5) :-1: error: (-5:Bad argument) in function 'rectangle'\n> Overload resolution failed:\n>  - Can't parse 'pt1'. Sequence item with index 0 has a wrong type\n>  - Can't parse 'pt1'. Sequence item with index 0 has a wrong type\n>  - Can't parse 'rec'. Expected sequence length 4, got 2\n>  - Can't parse 'rec'. Expected sequence length 4, got 2\n"
     ]
    }
   ],
   "source": [
    "# labels = []\n",
    "# bboxes = []\n",
    "# for shape in annotation['shapes']:\n",
    "#     labels.append(shape['label'])\n",
    "#     mins = shape['points'][0]\n",
    "#     maxs = shape['points'][1]\n",
    "#     bboxes.append(mins + maxs)\n",
    "\n",
    "img_with_boxes = bbv.draw_multiple_rectangles(img, bboxes)\n",
    "img_with_boxes_2 = img_with_boxes.copy()\n",
    "\n",
    "img_with_boxes = bbv.add_multiple_labels(img_with_boxes, labels, bboxes)\n",
    "img_with_T_labels = bbv.add_multiple_T_labels(img_with_boxes_2, labels, bboxes)\n",
    "\n",
    "img_with_flags = bbv.draw_multiple_flags_with_labels(img, labels, bboxes)"
   ]
  },
  {
   "cell_type": "code",
   "execution_count": 238,
   "id": "14af81e9-8ea7-4a09-a145-45e2550ddf63",
   "metadata": {},
   "outputs": [
    {
     "data": {
      "text/plain": [
       "{'licenses': [{'name': '', 'id': 0, 'url': ''}],\n",
       " 'info': {'contributor': '',\n",
       "  'date_created': '',\n",
       "  'description': '',\n",
       "  'url': '',\n",
       "  'version': '',\n",
       "  'year': ''},\n",
       " 'categories': [{'id': 1, 'name': 'person', 'supercategory': ''},\n",
       "  {'id': 2, 'name': 'animal', 'supercategory': ''}],\n",
       " 'images': [{'id': 1,\n",
       "   'width': 425,\n",
       "   'height': 640,\n",
       "   'file_name': 'COCO_test2014_000000000202.jpg',\n",
       "   'license': 0,\n",
       "   'flickr_url': '',\n",
       "   'coco_url': '',\n",
       "   'date_captured': 0},\n",
       "  {'id': 2,\n",
       "   'width': 640,\n",
       "   'height': 427,\n",
       "   'file_name': 'COCO_test2014_000000000448.jpg',\n",
       "   'license': 0,\n",
       "   'flickr_url': '',\n",
       "   'coco_url': '',\n",
       "   'date_captured': 0},\n",
       "  {'id': 3,\n",
       "   'width': 640,\n",
       "   'height': 425,\n",
       "   'file_name': 'COCO_test2014_000000000568.jpg',\n",
       "   'license': 0,\n",
       "   'flickr_url': '',\n",
       "   'coco_url': '',\n",
       "   'date_captured': 0},\n",
       "  {'id': 4,\n",
       "   'width': 640,\n",
       "   'height': 424,\n",
       "   'file_name': 'COCO_test2014_000000000840.jpg',\n",
       "   'license': 0,\n",
       "   'flickr_url': '',\n",
       "   'coco_url': '',\n",
       "   'date_captured': 0},\n",
       "  {'id': 5,\n",
       "   'width': 640,\n",
       "   'height': 427,\n",
       "   'file_name': 'COCO_test2014_000000000970.jpg',\n",
       "   'license': 0,\n",
       "   'flickr_url': '',\n",
       "   'coco_url': '',\n",
       "   'date_captured': 0},\n",
       "  {'id': 6,\n",
       "   'width': 307,\n",
       "   'height': 230,\n",
       "   'file_name': 'COCO_test2014_000000001024.jpg',\n",
       "   'license': 0,\n",
       "   'flickr_url': '',\n",
       "   'coco_url': '',\n",
       "   'date_captured': 0},\n",
       "  {'id': 7,\n",
       "   'width': 640,\n",
       "   'height': 429,\n",
       "   'file_name': 'COCO_test2014_000000001380.jpg',\n",
       "   'license': 0,\n",
       "   'flickr_url': '',\n",
       "   'coco_url': '',\n",
       "   'date_captured': 0},\n",
       "  {'id': 8,\n",
       "   'width': 640,\n",
       "   'height': 427,\n",
       "   'file_name': 'COCO_test2014_000000001551.jpg',\n",
       "   'license': 0,\n",
       "   'flickr_url': '',\n",
       "   'coco_url': '',\n",
       "   'date_captured': 0},\n",
       "  {'id': 9,\n",
       "   'width': 500,\n",
       "   'height': 401,\n",
       "   'file_name': 'COCO_test2014_000000001793.jpg',\n",
       "   'license': 0,\n",
       "   'flickr_url': '',\n",
       "   'coco_url': '',\n",
       "   'date_captured': 0},\n",
       "  {'id': 10,\n",
       "   'width': 640,\n",
       "   'height': 427,\n",
       "   'file_name': 'COCO_test2014_000000002945.jpg',\n",
       "   'license': 0,\n",
       "   'flickr_url': '',\n",
       "   'coco_url': '',\n",
       "   'date_captured': 0}],\n",
       " 'annotations': [{'id': 1,\n",
       "   'image_id': 1,\n",
       "   'category_id': 1,\n",
       "   'segmentation': [],\n",
       "   'area': 65726.3808,\n",
       "   'bbox': [35.3, 89.0, 133.46, 492.48],\n",
       "   'iscrowd': 0,\n",
       "   'attributes': {'occluded': False, 'rotation': 0.0}},\n",
       "  {'id': 2,\n",
       "   'image_id': 1,\n",
       "   'category_id': 1,\n",
       "   'segmentation': [],\n",
       "   'area': 83670.75449999998,\n",
       "   'bbox': [209.35, 60.1, 169.35, 494.07],\n",
       "   'iscrowd': 0,\n",
       "   'attributes': {'occluded': False, 'rotation': 0.0}},\n",
       "  {'id': 3,\n",
       "   'image_id': 2,\n",
       "   'category_id': 1,\n",
       "   'segmentation': [],\n",
       "   'area': 42286.101,\n",
       "   'bbox': [8.6, 114.05, 187.98, 224.95],\n",
       "   'iscrowd': 0,\n",
       "   'attributes': {'occluded': False, 'rotation': 0.0}},\n",
       "  {'id': 4,\n",
       "   'image_id': 2,\n",
       "   'category_id': 1,\n",
       "   'segmentation': [],\n",
       "   'area': 38586.693900000006,\n",
       "   'bbox': [203.35, 88.53, 189.03, 204.13],\n",
       "   'iscrowd': 0,\n",
       "   'attributes': {'occluded': False, 'rotation': 0.0}},\n",
       "  {'id': 5,\n",
       "   'image_id': 2,\n",
       "   'category_id': 1,\n",
       "   'segmentation': [],\n",
       "   'area': 46366.86150000001,\n",
       "   'bbox': [434.56, 101.03, 195.27, 237.45],\n",
       "   'iscrowd': 0,\n",
       "   'attributes': {'occluded': False, 'rotation': 0.0}},\n",
       "  {'id': 6,\n",
       "   'image_id': 2,\n",
       "   'category_id': 2,\n",
       "   'segmentation': [],\n",
       "   'area': 4840.766799999998,\n",
       "   'bbox': [384.05, 6.78, 58.84, 82.27],\n",
       "   'iscrowd': 0,\n",
       "   'attributes': {'occluded': False, 'rotation': 0.0}},\n",
       "  {'id': 7,\n",
       "   'image_id': 2,\n",
       "   'category_id': 2,\n",
       "   'segmentation': [],\n",
       "   'area': 7649.693799999998,\n",
       "   'bbox': [443.41, 0.0, 80.71, 94.78],\n",
       "   'iscrowd': 0,\n",
       "   'attributes': {'occluded': False, 'rotation': 0.0}},\n",
       "  {'id': 8,\n",
       "   'image_id': 3,\n",
       "   'category_id': 2,\n",
       "   'segmentation': [],\n",
       "   'area': 237133.19239999994,\n",
       "   'bbox': [38.59, 30.04, 601.22, 394.42],\n",
       "   'iscrowd': 0,\n",
       "   'attributes': {'occluded': False, 'rotation': 0.0}},\n",
       "  {'id': 9,\n",
       "   'image_id': 3,\n",
       "   'category_id': 2,\n",
       "   'segmentation': [],\n",
       "   'area': 17073.368000000002,\n",
       "   'bbox': [184.23, 89.13, 117.65, 145.12],\n",
       "   'iscrowd': 0,\n",
       "   'attributes': {'occluded': False, 'rotation': 0.0}},\n",
       "  {'id': 10,\n",
       "   'image_id': 4,\n",
       "   'category_id': 2,\n",
       "   'segmentation': [],\n",
       "   'area': 170688.6945,\n",
       "   'bbox': [72.82, 49.13, 456.57, 373.85],\n",
       "   'iscrowd': 0,\n",
       "   'attributes': {'occluded': False, 'rotation': 0.0}},\n",
       "  {'id': 11,\n",
       "   'image_id': 4,\n",
       "   'category_id': 2,\n",
       "   'segmentation': [],\n",
       "   'area': 100243.6347,\n",
       "   'bbox': [0.0, 45.0, 311.19, 322.13],\n",
       "   'iscrowd': 0,\n",
       "   'attributes': {'occluded': False, 'rotation': 0.0}},\n",
       "  {'id': 12,\n",
       "   'image_id': 5,\n",
       "   'category_id': 1,\n",
       "   'segmentation': [],\n",
       "   'area': 83560.7845,\n",
       "   'bbox': [86.71, 114.05, 334.31, 249.95],\n",
       "   'iscrowd': 0,\n",
       "   'attributes': {'occluded': False, 'rotation': 0.0}},\n",
       "  {'id': 13,\n",
       "   'image_id': 5,\n",
       "   'category_id': 1,\n",
       "   'segmentation': [],\n",
       "   'area': 12640.908000000003,\n",
       "   'bbox': [183.56, 85.41, 197.36, 64.05],\n",
       "   'iscrowd': 0,\n",
       "   'attributes': {'occluded': False, 'rotation': 0.0}},\n",
       "  {'id': 14,\n",
       "   'image_id': 6,\n",
       "   'category_id': 2,\n",
       "   'segmentation': [],\n",
       "   'area': 59610.1205,\n",
       "   'bbox': [4.85, 13.74, 293.95, 202.79],\n",
       "   'iscrowd': 0,\n",
       "   'attributes': {'occluded': False, 'rotation': 0.0}},\n",
       "  {'id': 15,\n",
       "   'image_id': 7,\n",
       "   'category_id': 2,\n",
       "   'segmentation': [],\n",
       "   'area': 18741.81959999999,\n",
       "   'bbox': [51.61, 290.86, 158.52, 118.23],\n",
       "   'iscrowd': 0,\n",
       "   'attributes': {'occluded': False, 'rotation': 0.0}},\n",
       "  {'id': 16,\n",
       "   'image_id': 7,\n",
       "   'category_id': 2,\n",
       "   'segmentation': [],\n",
       "   'area': 11260.233000000004,\n",
       "   'bbox': [154.15, 304.46, 115.1, 97.83],\n",
       "   'iscrowd': 0,\n",
       "   'attributes': {'occluded': False, 'rotation': 0.0}},\n",
       "  {'id': 17,\n",
       "   'image_id': 7,\n",
       "   'category_id': 2,\n",
       "   'segmentation': [],\n",
       "   'area': 7076.332800000005,\n",
       "   'bbox': [266.64, 294.0, 66.96, 105.68],\n",
       "   'iscrowd': 0,\n",
       "   'attributes': {'occluded': False, 'rotation': 0.0}},\n",
       "  {'id': 18,\n",
       "   'image_id': 8,\n",
       "   'category_id': 1,\n",
       "   'segmentation': [],\n",
       "   'area': 16309.051500000003,\n",
       "   'bbox': [16.93, 78.12, 64.05, 254.63],\n",
       "   'iscrowd': 0,\n",
       "   'attributes': {'occluded': False, 'rotation': 0.0}},\n",
       "  {'id': 19,\n",
       "   'image_id': 8,\n",
       "   'category_id': 1,\n",
       "   'segmentation': [],\n",
       "   'area': 42547.995,\n",
       "   'bbox': [96.08, 66.14, 131.85, 322.7],\n",
       "   'iscrowd': 0,\n",
       "   'attributes': {'occluded': False, 'rotation': 0.0}},\n",
       "  {'id': 20,\n",
       "   'image_id': 8,\n",
       "   'category_id': 1,\n",
       "   'segmentation': [],\n",
       "   'area': 36724.912000000004,\n",
       "   'bbox': [184.41, 29.2, 107.84, 340.55],\n",
       "   'iscrowd': 0,\n",
       "   'attributes': {'occluded': False, 'rotation': 0.0}},\n",
       "  {'id': 21,\n",
       "   'image_id': 8,\n",
       "   'category_id': 1,\n",
       "   'segmentation': [],\n",
       "   'area': 43994.46550000001,\n",
       "   'bbox': [264.9, 36.94, 127.45, 345.19],\n",
       "   'iscrowd': 0,\n",
       "   'attributes': {'occluded': False, 'rotation': 0.0}},\n",
       "  {'id': 22,\n",
       "   'image_id': 8,\n",
       "   'category_id': 1,\n",
       "   'segmentation': [],\n",
       "   'area': 21740.087200000013,\n",
       "   'bbox': [391.83, 29.2, 65.02, 334.36],\n",
       "   'iscrowd': 0,\n",
       "   'attributes': {'occluded': False, 'rotation': 0.0}},\n",
       "  {'id': 23,\n",
       "   'image_id': 8,\n",
       "   'category_id': 1,\n",
       "   'segmentation': [],\n",
       "   'area': 43709.695700000004,\n",
       "   'bbox': [414.54, 28.69, 123.31, 354.47],\n",
       "   'iscrowd': 0,\n",
       "   'attributes': {'occluded': False, 'rotation': 0.0}},\n",
       "  {'id': 24,\n",
       "   'image_id': 8,\n",
       "   'category_id': 1,\n",
       "   'segmentation': [],\n",
       "   'area': 34279.60140000002,\n",
       "   'bbox': [532.18, 35.39, 106.81, 320.94],\n",
       "   'iscrowd': 0,\n",
       "   'attributes': {'occluded': False, 'rotation': 0.0}},\n",
       "  {'id': 25,\n",
       "   'image_id': 8,\n",
       "   'category_id': 1,\n",
       "   'segmentation': [],\n",
       "   'area': 5791.543800000004,\n",
       "   'bbox': [615.77, 74.09, 23.73, 244.06],\n",
       "   'iscrowd': 0,\n",
       "   'attributes': {'occluded': False, 'rotation': 0.0}},\n",
       "  {'id': 26,\n",
       "   'image_id': 9,\n",
       "   'category_id': 1,\n",
       "   'segmentation': [],\n",
       "   'area': 13809.362,\n",
       "   'bbox': [160.99, 86.56, 70.42, 196.1],\n",
       "   'iscrowd': 0,\n",
       "   'attributes': {'occluded': False, 'rotation': 0.0}},\n",
       "  {'id': 27,\n",
       "   'image_id': 9,\n",
       "   'category_id': 2,\n",
       "   'segmentation': [],\n",
       "   'area': 74043.82950000002,\n",
       "   'bbox': [7.44, 159.92, 332.05, 222.99],\n",
       "   'iscrowd': 0,\n",
       "   'attributes': {'occluded': False, 'rotation': 0.0}},\n",
       "  {'id': 28,\n",
       "   'image_id': 10,\n",
       "   'category_id': 2,\n",
       "   'segmentation': [],\n",
       "   'area': 21338.456399999995,\n",
       "   'bbox': [41.4, 258.81, 190.59, 111.96],\n",
       "   'iscrowd': 0,\n",
       "   'attributes': {'occluded': False, 'rotation': 0.0}},\n",
       "  {'id': 29,\n",
       "   'image_id': 10,\n",
       "   'category_id': 2,\n",
       "   'segmentation': [],\n",
       "   'area': 28514.766599999995,\n",
       "   'bbox': [359.57, 177.05, 215.58, 132.27],\n",
       "   'iscrowd': 0,\n",
       "   'attributes': {'occluded': False, 'rotation': 0.0}}]}"
      ]
     },
     "execution_count": 238,
     "metadata": {},
     "output_type": "execute_result"
    }
   ],
   "source": [
    "annotation = json.load(open('./instances_default.json'))\n",
    "annotation"
   ]
  },
  {
   "cell_type": "code",
   "execution_count": null,
   "id": "aa26eacf-5fcb-421d-8b91-f8ad2be80657",
   "metadata": {},
   "outputs": [],
   "source": []
  }
 ],
 "metadata": {
  "kernelspec": {
   "display_name": "sona",
   "language": "python",
   "name": "sona"
  },
  "language_info": {
   "codemirror_mode": {
    "name": "ipython",
    "version": 3
   },
   "file_extension": ".py",
   "mimetype": "text/x-python",
   "name": "python",
   "nbconvert_exporter": "python",
   "pygments_lexer": "ipython3",
   "version": "3.9.4"
  }
 },
 "nbformat": 4,
 "nbformat_minor": 5
}

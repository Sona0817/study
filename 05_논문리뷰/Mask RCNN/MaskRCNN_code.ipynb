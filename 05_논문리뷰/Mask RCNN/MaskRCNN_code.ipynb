{
 "cells": [
  {
   "cell_type": "markdown",
   "id": "98239e49-f740-4c6d-b095-99c2ddc35b2c",
   "metadata": {},
   "source": [
    "# Mask RCNN Review\n",
    "- mask rcnn pytorch\n",
    "- Mask R-CNN, Kaiming He, 2018\n",
    "- pytorch official mask rcnn code: https://github.com/pytorch/vision/blob/main/torchvision/models/detection/mask_rcnn.py\n",
    "- paper official github: https://github.com/facebookresearch/Detectron"
   ]
  },
  {
   "cell_type": "code",
   "execution_count": null,
   "id": "4b2ff5c7-3006-4296-a78d-197c3f206c1d",
   "metadata": {},
   "outputs": [],
   "source": []
  }
 ],
 "metadata": {
  "kernelspec": {
   "display_name": "sona",
   "language": "python",
   "name": "sona"
  },
  "language_info": {
   "codemirror_mode": {
    "name": "ipython",
    "version": 3
   },
   "file_extension": ".py",
   "mimetype": "text/x-python",
   "name": "python",
   "nbconvert_exporter": "python",
   "pygments_lexer": "ipython3",
   "version": "3.8.15"
  }
 },
 "nbformat": 4,
 "nbformat_minor": 5
}
